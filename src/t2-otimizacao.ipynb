{
 "cells": [
  {
   "cell_type": "markdown",
   "metadata": {},
   "source": [
    "# 1. Introdução\n",
    "O notebook abaixo apresenta e implementa o spot-checking de modelos preditivos supervisionados, desenvolvido para primeiro trabalho da disciplina Aprendizado de Máquina da Universidade Federal do Rio Grande do Sul (2024/2).\n",
    "\n",
    "Neste trabalho, buscamos analisar a relação de diversos fatores, como gênero e notas do primeiro semestre, com a taxa de desistência de alunos. No modelo abaixo usamos o dataset carregado nesse notebook, analisamos quais os fatores que de fato influenciam na desistência dos alunos e possibilitamos que inputs personalizados sejam adicionados ao modelo para que seja calculado a probabilidade de um aluno desistir do curso.\n"
   ]
  },
  {
   "cell_type": "markdown",
   "metadata": {},
   "source": [
    "## Setup"
   ]
  },
  {
   "cell_type": "code",
   "execution_count": 548,
   "metadata": {},
   "outputs": [
    {
     "name": "stdout",
     "output_type": "stream",
     "text": [
      "Requirement already satisfied: pandas in c:\\users\\matheus\\source\\repos\\ipp-student-dropout\\.venv\\lib\\site-packages (2.2.3)\n",
      "Requirement already satisfied: plotly in c:\\users\\matheus\\source\\repos\\ipp-student-dropout\\.venv\\lib\\site-packages (5.24.1)\n",
      "Requirement already satisfied: matplotlib in c:\\users\\matheus\\source\\repos\\ipp-student-dropout\\.venv\\lib\\site-packages (3.9.3)\n",
      "Requirement already satisfied: seaborn in c:\\users\\matheus\\source\\repos\\ipp-student-dropout\\.venv\\lib\\site-packages (0.13.2)\n",
      "Requirement already satisfied: scikit-learn in c:\\users\\matheus\\source\\repos\\ipp-student-dropout\\.venv\\lib\\site-packages (1.5.2)\n",
      "Requirement already satisfied: xgboost in c:\\users\\matheus\\source\\repos\\ipp-student-dropout\\.venv\\lib\\site-packages (2.1.3)\n",
      "Requirement already satisfied: optuna in c:\\users\\matheus\\source\\repos\\ipp-student-dropout\\.venv\\lib\\site-packages (4.1.0)\n",
      "Requirement already satisfied: hyperopt in c:\\users\\matheus\\source\\repos\\ipp-student-dropout\\.venv\\lib\\site-packages (0.2.7)\n",
      "Requirement already satisfied: setuptools in c:\\users\\matheus\\source\\repos\\ipp-student-dropout\\.venv\\lib\\site-packages (75.6.0)\n",
      "Requirement already satisfied: nbformat in c:\\users\\matheus\\source\\repos\\ipp-student-dropout\\.venv\\lib\\site-packages (5.10.4)\n",
      "Requirement already satisfied: numpy>=1.26.0 in c:\\users\\matheus\\source\\repos\\ipp-student-dropout\\.venv\\lib\\site-packages (from pandas) (2.1.3)\n",
      "Requirement already satisfied: python-dateutil>=2.8.2 in c:\\users\\matheus\\source\\repos\\ipp-student-dropout\\.venv\\lib\\site-packages (from pandas) (2.9.0.post0)\n",
      "Requirement already satisfied: pytz>=2020.1 in c:\\users\\matheus\\source\\repos\\ipp-student-dropout\\.venv\\lib\\site-packages (from pandas) (2024.2)\n",
      "Requirement already satisfied: tzdata>=2022.7 in c:\\users\\matheus\\source\\repos\\ipp-student-dropout\\.venv\\lib\\site-packages (from pandas) (2024.2)\n",
      "Requirement already satisfied: tenacity>=6.2.0 in c:\\users\\matheus\\source\\repos\\ipp-student-dropout\\.venv\\lib\\site-packages (from plotly) (9.0.0)\n",
      "Requirement already satisfied: packaging in c:\\users\\matheus\\source\\repos\\ipp-student-dropout\\.venv\\lib\\site-packages (from plotly) (24.2)\n",
      "Requirement already satisfied: contourpy>=1.0.1 in c:\\users\\matheus\\source\\repos\\ipp-student-dropout\\.venv\\lib\\site-packages (from matplotlib) (1.3.1)\n",
      "Requirement already satisfied: cycler>=0.10 in c:\\users\\matheus\\source\\repos\\ipp-student-dropout\\.venv\\lib\\site-packages (from matplotlib) (0.12.1)\n",
      "Requirement already satisfied: fonttools>=4.22.0 in c:\\users\\matheus\\source\\repos\\ipp-student-dropout\\.venv\\lib\\site-packages (from matplotlib) (4.55.2)\n",
      "Requirement already satisfied: kiwisolver>=1.3.1 in c:\\users\\matheus\\source\\repos\\ipp-student-dropout\\.venv\\lib\\site-packages (from matplotlib) (1.4.7)\n",
      "Requirement already satisfied: pillow>=8 in c:\\users\\matheus\\source\\repos\\ipp-student-dropout\\.venv\\lib\\site-packages (from matplotlib) (11.0.0)\n",
      "Requirement already satisfied: pyparsing>=2.3.1 in c:\\users\\matheus\\source\\repos\\ipp-student-dropout\\.venv\\lib\\site-packages (from matplotlib) (3.2.0)\n",
      "Requirement already satisfied: scipy>=1.6.0 in c:\\users\\matheus\\source\\repos\\ipp-student-dropout\\.venv\\lib\\site-packages (from scikit-learn) (1.14.1)\n",
      "Requirement already satisfied: joblib>=1.2.0 in c:\\users\\matheus\\source\\repos\\ipp-student-dropout\\.venv\\lib\\site-packages (from scikit-learn) (1.4.2)\n",
      "Requirement already satisfied: threadpoolctl>=3.1.0 in c:\\users\\matheus\\source\\repos\\ipp-student-dropout\\.venv\\lib\\site-packages (from scikit-learn) (3.5.0)\n",
      "Requirement already satisfied: alembic>=1.5.0 in c:\\users\\matheus\\source\\repos\\ipp-student-dropout\\.venv\\lib\\site-packages (from optuna) (1.14.0)\n",
      "Requirement already satisfied: colorlog in c:\\users\\matheus\\source\\repos\\ipp-student-dropout\\.venv\\lib\\site-packages (from optuna) (6.9.0)\n",
      "Requirement already satisfied: sqlalchemy>=1.4.2 in c:\\users\\matheus\\source\\repos\\ipp-student-dropout\\.venv\\lib\\site-packages (from optuna) (2.0.36)\n",
      "Requirement already satisfied: tqdm in c:\\users\\matheus\\source\\repos\\ipp-student-dropout\\.venv\\lib\\site-packages (from optuna) (4.67.1)\n",
      "Requirement already satisfied: PyYAML in c:\\users\\matheus\\source\\repos\\ipp-student-dropout\\.venv\\lib\\site-packages (from optuna) (6.0.2)\n",
      "Requirement already satisfied: six in c:\\users\\matheus\\source\\repos\\ipp-student-dropout\\.venv\\lib\\site-packages (from hyperopt) (1.17.0)\n",
      "Requirement already satisfied: networkx>=2.2 in c:\\users\\matheus\\source\\repos\\ipp-student-dropout\\.venv\\lib\\site-packages (from hyperopt) (3.4.2)\n",
      "Requirement already satisfied: future in c:\\users\\matheus\\source\\repos\\ipp-student-dropout\\.venv\\lib\\site-packages (from hyperopt) (1.0.0)\n",
      "Requirement already satisfied: cloudpickle in c:\\users\\matheus\\source\\repos\\ipp-student-dropout\\.venv\\lib\\site-packages (from hyperopt) (3.1.0)\n",
      "Requirement already satisfied: py4j in c:\\users\\matheus\\source\\repos\\ipp-student-dropout\\.venv\\lib\\site-packages (from hyperopt) (0.10.9.7)\n",
      "Requirement already satisfied: fastjsonschema>=2.15 in c:\\users\\matheus\\source\\repos\\ipp-student-dropout\\.venv\\lib\\site-packages (from nbformat) (2.21.1)\n",
      "Requirement already satisfied: jsonschema>=2.6 in c:\\users\\matheus\\source\\repos\\ipp-student-dropout\\.venv\\lib\\site-packages (from nbformat) (4.23.0)\n",
      "Requirement already satisfied: jupyter-core!=5.0.*,>=4.12 in c:\\users\\matheus\\source\\repos\\ipp-student-dropout\\.venv\\lib\\site-packages (from nbformat) (5.7.2)\n",
      "Requirement already satisfied: traitlets>=5.1 in c:\\users\\matheus\\source\\repos\\ipp-student-dropout\\.venv\\lib\\site-packages (from nbformat) (5.14.3)\n",
      "Requirement already satisfied: Mako in c:\\users\\matheus\\source\\repos\\ipp-student-dropout\\.venv\\lib\\site-packages (from alembic>=1.5.0->optuna) (1.3.7)\n",
      "Requirement already satisfied: typing-extensions>=4 in c:\\users\\matheus\\source\\repos\\ipp-student-dropout\\.venv\\lib\\site-packages (from alembic>=1.5.0->optuna) (4.12.2)\n",
      "Requirement already satisfied: attrs>=22.2.0 in c:\\users\\matheus\\source\\repos\\ipp-student-dropout\\.venv\\lib\\site-packages (from jsonschema>=2.6->nbformat) (24.2.0)\n",
      "Requirement already satisfied: jsonschema-specifications>=2023.03.6 in c:\\users\\matheus\\source\\repos\\ipp-student-dropout\\.venv\\lib\\site-packages (from jsonschema>=2.6->nbformat) (2024.10.1)\n",
      "Requirement already satisfied: referencing>=0.28.4 in c:\\users\\matheus\\source\\repos\\ipp-student-dropout\\.venv\\lib\\site-packages (from jsonschema>=2.6->nbformat) (0.35.1)\n",
      "Requirement already satisfied: rpds-py>=0.7.1 in c:\\users\\matheus\\source\\repos\\ipp-student-dropout\\.venv\\lib\\site-packages (from jsonschema>=2.6->nbformat) (0.22.3)\n",
      "Requirement already satisfied: platformdirs>=2.5 in c:\\users\\matheus\\source\\repos\\ipp-student-dropout\\.venv\\lib\\site-packages (from jupyter-core!=5.0.*,>=4.12->nbformat) (4.3.6)\n",
      "Requirement already satisfied: pywin32>=300 in c:\\users\\matheus\\source\\repos\\ipp-student-dropout\\.venv\\lib\\site-packages (from jupyter-core!=5.0.*,>=4.12->nbformat) (308)\n",
      "Requirement already satisfied: greenlet!=0.4.17 in c:\\users\\matheus\\source\\repos\\ipp-student-dropout\\.venv\\lib\\site-packages (from sqlalchemy>=1.4.2->optuna) (3.1.1)\n",
      "Requirement already satisfied: colorama in c:\\users\\matheus\\source\\repos\\ipp-student-dropout\\.venv\\lib\\site-packages (from colorlog->optuna) (0.4.6)\n",
      "Requirement already satisfied: MarkupSafe>=0.9.2 in c:\\users\\matheus\\source\\repos\\ipp-student-dropout\\.venv\\lib\\site-packages (from Mako->alembic>=1.5.0->optuna) (3.0.2)\n"
     ]
    }
   ],
   "source": [
    "!pip install pandas plotly matplotlib seaborn scikit-learn xgboost optuna hyperopt setuptools nbformat"
   ]
  },
  {
   "cell_type": "code",
   "execution_count": 549,
   "metadata": {},
   "outputs": [],
   "source": [
    "# Módulo para leitura e manipulação dos dados\n",
    "import pandas as pd\n",
    "\n",
    "# Módulo para manipulação de arrays e matrizes\n",
    "import numpy as np\n",
    "\n",
    "# Módulos para visualização de dados e plotagem de gráficos\n",
    "import plotly.express as px\n",
    "import matplotlib.pyplot as plt\n",
    "import seaborn as sns\n",
    "\n",
    "# Módulos específicos da sklearn\n",
    "from sklearn.model_selection import train_test_split, StratifiedKFold, cross_val_score\n",
    "from sklearn.metrics import accuracy_score,f1_score,precision_score,recall_score, roc_auc_score\n",
    "from sklearn.tree import DecisionTreeClassifier\n",
    "from sklearn.ensemble import RandomForestClassifier\n",
    "from sklearn.linear_model import LogisticRegression\n",
    "from sklearn.neighbors import KNeighborsClassifier\n",
    "from sklearn.ensemble import AdaBoostClassifier\n",
    "from sklearn import svm\n",
    "from sklearn.model_selection import GridSearchCV, RandomizedSearchCV\n",
    "from sklearn.ensemble import VotingClassifier\n",
    "from sklearn.preprocessing import StandardScaler, MinMaxScaler\n",
    "from sklearn.feature_selection import SelectKBest, mutual_info_classif\n",
    "\n",
    "# Biblioteca com algoritmos específicos de machine learning\n",
    "from xgboost import XGBClassifier\n",
    "\n",
    "# Módulo para balanceamento de classes\n",
    "from imblearn.over_sampling import SMOTE\n",
    "from imblearn.under_sampling import RandomUnderSampler\n",
    "from imblearn.pipeline import Pipeline\n",
    "\n",
    "import optuna\n",
    "from optuna.visualization import plot_optimization_history, plot_slice, plot_contour, plot_parallel_coordinate, plot_param_importances\n",
    "from hyperopt import fmin, tpe, hp, STATUS_OK, Trials"
   ]
  },
  {
   "cell_type": "markdown",
   "metadata": {},
   "source": [
    "# 1. Carregamento dos dados"
   ]
  },
  {
   "cell_type": "markdown",
   "metadata": {},
   "source": [
    "Dataset pré-processado no notebook [t1-spot-checking.ipynb](./t1-spot-checking.ipynb)\n",
    "\n",
    "---\n",
    "Dataset obtido em https://www.kaggle.com/datasets/thedevastator/higher-education-predictors-of-student-retention/data\n",
    "\n",
    "Original: https://zenodo.org/records/5777340#.Y7FJotJBwUE"
   ]
  },
  {
   "cell_type": "code",
   "execution_count": 550,
   "metadata": {},
   "outputs": [],
   "source": [
    "data = pd.read_csv(\"../data/clean-dataset.csv\")"
   ]
  },
  {
   "cell_type": "code",
   "execution_count": 551,
   "metadata": {},
   "outputs": [],
   "source": [
    "# Separa atributos preditivos e atributo alvo\n",
    "X = data.drop('Target', axis=1)\n",
    "y = data['Target']"
   ]
  },
  {
   "cell_type": "code",
   "execution_count": 552,
   "metadata": {},
   "outputs": [],
   "source": [
    "# Algoritmos selecionados para treinamento\n",
    "dtree = DecisionTreeClassifier(random_state=0)\n",
    "dtree2 = DecisionTreeClassifier(random_state=0, max_depth=10)\n",
    "rfc_gini = RandomForestClassifier(random_state=2)\n",
    "rfc_entropy = RandomForestClassifier(random_state=2, criterion='entropy')\n",
    "lr = LogisticRegression(random_state=42)\n",
    "knn_3 = KNeighborsClassifier(n_neighbors=3)\n",
    "knn_5 = KNeighborsClassifier(n_neighbors=5)\n",
    "abc = AdaBoostClassifier(n_estimators=50,learning_rate=1, random_state=0, algorithm='SAMME')\n",
    "svmachine = svm.SVC(kernel='linear',probability=True)\n",
    "\n",
    "algo_dict = {'Decision Tree': dtree, 'Decision Tree Max depth 5': dtree2, 'Random Forest gini': rfc_gini, 'Random Forest entropy': rfc_entropy, 'Logistic Regression': lr, '3-Nearest Neighbors': knn_3, '5-Nearest Neighbors': knn_5, 'AdaBoost': abc, 'SVM': svmachine}"
   ]
  },
  {
   "cell_type": "code",
   "execution_count": 553,
   "metadata": {},
   "outputs": [],
   "source": [
    "# Referências\n",
    "# https://machinelearningmastery.com/spot-check-machine-learning-algorithms-in-python/\n",
    "# https://scikit-learn.org/stable/modules/generated/sklearn.pipeline.Pipeline.html\n",
    "def make_pipeline(model):\n",
    "    steps = list()\n",
    "\n",
    "    steps.append(('Feature Selection', SelectKBest(k=10, score_func=mutual_info_classif)))\n",
    "    steps.append(('Normalização', StandardScaler()))\n",
    "    steps.append(('Balanceamento da classe minoritária', SMOTE(sampling_strategy='minority')))\n",
    "    steps.append(('Modelo', model))\n",
    "\n",
    "    # Cria a pipeline\n",
    "    pipe = Pipeline(steps=steps)\n",
    "\n",
    "    return pipe"
   ]
  },
  {
   "cell_type": "code",
   "execution_count": 554,
   "metadata": {},
   "outputs": [],
   "source": [
    "# def define_grid_search_params(model_name):\n",
    "#     if model_name == 'Random Forest gini' or model_name == 'Random Forest entropy':\n",
    "#         return {\n",
    "#             'Modelo__n_estimators': [50, 100, 150],\n",
    "#             'Modelo__max_depth': [10, 20, 30]\n",
    "#         }\n",
    "#     elif model_name == 'Decision Tree' or model_name == 'Decision Tree Max depth 5':\n",
    "#         return {\n",
    "#             'Modelo__max_depth': [5, 10, 20, 30]\n",
    "#         }\n",
    "#     elif model_name == 'Logistic Regression':\n",
    "#         return {\n",
    "#             'Modelo__C': [0.01, 0.1, 1, 10, 100]\n",
    "#         }\n",
    "#     elif model_name == '3-Nearest Neighbors' or model_name == '5-Nearest Neighbors':\n",
    "#         return {\n",
    "#             'Modelo__n_neighbors': [3, 5, 7, 10]\n",
    "#         }\n",
    "#     elif model_name == 'AdaBoost':\n",
    "#         return {\n",
    "#             'Modelo__n_estimators': [50, 100, 150],\n",
    "#             'Modelo__learning_rate': [0.01, 0.1, 1]\n",
    "#         }\n",
    "#     elif model_name == 'SVM':\n",
    "#         return {\n",
    "#             'Modelo__C': [0.01, 0.1, 1, 10],\n",
    "#             'Modelo__kernel': ['linear', 'rbf']\n",
    "#         }\n",
    "#     else:\n",
    "#         raise ValueError(f\"Não foi definido parâmetro para o modelo: {model_name}\")"
   ]
  },
  {
   "cell_type": "code",
   "execution_count": 555,
   "metadata": {},
   "outputs": [],
   "source": [
    "# def nested_cv_with_gridsearch(X, y, models, outer_folds=5, inner_folds=3, metric='f1'):\n",
    "#     outer_cv = StratifiedKFold(n_splits=outer_folds, shuffle=True, random_state=42)\n",
    "#     results = []\n",
    "\n",
    "#     for model_name, model in models.items():\n",
    "#         param_grid = define_grid_search_params(model_name)\n",
    "\n",
    "#         for train_idx, test_idx in outer_cv.split(X, y):\n",
    "#             X_train, X_test = X.iloc[train_idx], X.iloc[test_idx]\n",
    "#             y_train, y_test = y.iloc[train_idx], y.iloc[test_idx]\n",
    "\n",
    "#             pipeline = make_pipeline(model)\n",
    "\n",
    "#             grid_search = GridSearchCV(\n",
    "#                 estimator=pipeline,\n",
    "#                 param_grid=param_grid,\n",
    "#                 cv=StratifiedKFold(n_splits=inner_folds, shuffle=True, random_state=42),\n",
    "#                 scoring=metric,\n",
    "#                 n_jobs=-1\n",
    "#             )\n",
    "\n",
    "#             grid_search.fit(X_train, y_train)\n",
    "\n",
    "#             best_pipeline = grid_search.best_estimator_\n",
    "#             y_pred = best_pipeline.predict(X_test)\n",
    "\n",
    "#             metrics = {\n",
    "#                 'Model': model_name,\n",
    "#                 'F1 Score': f1_score(y_test, y_pred),\n",
    "#                 'Precision': precision_score(y_test, y_pred),\n",
    "#                 'Recall': recall_score(y_test, y_pred),\n",
    "#                 'ROC AUC': roc_auc_score(y_test, best_pipeline.predict_proba(X_test)[:, 1])\n",
    "#             }\n",
    "#             results.append(metrics)\n",
    "\n",
    "#     return pd.DataFrame(results)"
   ]
  },
  {
   "cell_type": "code",
   "execution_count": 556,
   "metadata": {},
   "outputs": [],
   "source": [
    "# results_df = nested_cv_with_gridsearch(X, y, algo_dict, outer_folds=5, inner_folds=3, metric='f1')\n",
    "# display(results_df)"
   ]
  },
  {
   "cell_type": "code",
   "execution_count": 557,
   "metadata": {},
   "outputs": [],
   "source": [
    "# def define_hyperopt_space(model_name):\n",
    "#     if model_name == 'Random Forest gini' or model_name == 'Random Forest entropy':\n",
    "#         return {\n",
    "#             'n_estimators': hp.quniform('n_estimators', 50, 300, 10),\n",
    "#             'max_depth': hp.quniform('max_depth', 5, 50, 1),\n",
    "#         }\n",
    "#     elif model_name == 'Decision Tree' or model_name == 'Decision Tree Max depth 5':\n",
    "#         return {\n",
    "#             'max_depth': hp.quniform('max_depth', 5, 50, 1),\n",
    "#         }\n",
    "#     elif model_name == 'Logistic Regression':\n",
    "#         return {\n",
    "#             'C': hp.loguniform('C', np.log(1e-4), np.log(1e2)),\n",
    "#         }\n",
    "#     elif model_name == '3-Nearest Neighbors' or model_name == '5-Nearest Neighbors':\n",
    "#         return {\n",
    "#             'n_neighbors': hp.quniform('n_neighbors', 3, 20, 1),\n",
    "#         }\n",
    "#     elif model_name == 'AdaBoost':\n",
    "#         return {\n",
    "#             'n_estimators': hp.quniform('n_estimators', 50, 300, 10),\n",
    "#             'learning_rate': hp.loguniform('learning_rate', np.log(0.01), np.log(2)),\n",
    "#         }\n",
    "#     elif model_name == 'SVM':\n",
    "#         return {\n",
    "#             'C': hp.loguniform('C', np.log(1e-4), np.log(1e2)),\n",
    "#             'kernel': hp.choice('kernel', ['linear', 'rbf']),\n",
    "#         }"
   ]
  },
  {
   "cell_type": "code",
   "execution_count": 558,
   "metadata": {},
   "outputs": [],
   "source": [
    "# def nested_cv_with_hyperopt(X, y, models, outer_folds=5, inner_folds=3, metric='f1'):\n",
    "#     outer_cv = StratifiedKFold(n_splits=outer_folds, shuffle=True, random_state=42)\n",
    "#     results = []\n",
    "\n",
    "#     for model_name, model in models.items():\n",
    "\n",
    "#         # Define objective function for Hyperopt\n",
    "#         def objective(params):\n",
    "#             # If SVM, map the kernel index to string for correct cross-validation\n",
    "#             if 'kernel' in params and model_name == 'SVM':\n",
    "#                 kernel_mapping = ['linear', 'rbf']\n",
    "#                 if isinstance(params['kernel'], int):\n",
    "#                     params['kernel'] = kernel_mapping[params['kernel']]\n",
    "\n",
    "#             pipeline = make_pipeline(model)\n",
    "\n",
    "#             # Convert integer-like floats to int\n",
    "#             final_params = {}\n",
    "#             for k, v in params.items():\n",
    "#                 if isinstance(v, float) and v.is_integer():\n",
    "#                     v = int(v)  # Convert to int if it is a whole number float\n",
    "#                 final_params[f'Modelo__{k}'] = v\n",
    "\n",
    "#             pipeline.set_params(**final_params)\n",
    "\n",
    "#             inner_cv = StratifiedKFold(n_splits=inner_folds, shuffle=True, random_state=42)\n",
    "#             scores = cross_val_score(pipeline, X_train, y_train, cv=inner_cv, scoring=metric, n_jobs=-1)\n",
    "#             return {'loss': -np.mean(scores), 'status': STATUS_OK}\n",
    "\n",
    "#         # Outer loop\n",
    "#         for train_idx, test_idx in outer_cv.split(X, y):\n",
    "#             X_train, X_test = X.iloc[train_idx], X.iloc[test_idx]\n",
    "#             y_train, y_test = y.iloc[train_idx], y.iloc[test_idx]\n",
    "\n",
    "#             search_space = define_hyperopt_space(model_name)\n",
    "#             trials = Trials()\n",
    "\n",
    "#             best_params = fmin(\n",
    "#                 fn=objective,\n",
    "#                 space=search_space,\n",
    "#                 algo=tpe.suggest,\n",
    "#                 max_evals=20,\n",
    "#                 trials=trials,\n",
    "#             )\n",
    "\n",
    "#             # Map SVM kernel back if needed\n",
    "#             if model_name == 'SVM' and 'kernel' in best_params:\n",
    "#                 kernel_mapping = ['linear', 'rbf']\n",
    "#                 best_params['kernel'] = kernel_mapping[best_params['kernel']]\n",
    "\n",
    "#             # Convert parameters and retrain pipeline\n",
    "#             final_params = {}\n",
    "#             for k, v in best_params.items():\n",
    "#                 if isinstance(v, float) and v.is_integer():\n",
    "#                     v = int(v)\n",
    "#                 final_params[f'Modelo__{k}'] = v\n",
    "\n",
    "#             # Train the pipeline with the best parameters\n",
    "#             pipeline = make_pipeline(model)\n",
    "#             pipeline.set_params(**final_params)\n",
    "#             pipeline.fit(X_train, y_train)\n",
    "\n",
    "#             # Evaluate on the test set\n",
    "#             y_pred = pipeline.predict(X_test)\n",
    "#             metrics = {\n",
    "#                 'Model': model_name,\n",
    "#                 'F1 Score': f1_score(y_test, y_pred),\n",
    "#                 'Precision': precision_score(y_test, y_pred),\n",
    "#                 'Recall': recall_score(y_test, y_pred),\n",
    "#                 'ROC AUC': roc_auc_score(y_test, pipeline.predict_proba(X_test)[:, 1])\n",
    "#             }\n",
    "#             results.append(metrics)\n",
    "\n",
    "#     return pd.DataFrame(results)"
   ]
  },
  {
   "cell_type": "code",
   "execution_count": 559,
   "metadata": {},
   "outputs": [],
   "source": [
    "# results_df = nested_cv_with_hyperopt(X, y, algo_dict, outer_folds=5, inner_folds=3, metric='f1')\n",
    "# display(results_df)"
   ]
  },
  {
   "cell_type": "code",
   "execution_count": 560,
   "metadata": {},
   "outputs": [],
   "source": [
    "# def define_optuna_space(model_name, trial):\n",
    "#     if model_name == 'Random Forest gini' or model_name == 'Random Forest entropy':\n",
    "#         return {\n",
    "#             'Modelo__n_estimators': trial.suggest_int('n_estimators', 50, 300),\n",
    "#             'Modelo__max_depth': trial.suggest_int('max_depth', 5, 50)\n",
    "#         }\n",
    "#     elif model_name == 'Decision Tree' or model_name == 'Decision Tree Max depth 5':\n",
    "#         return {\n",
    "#             'Modelo__max_depth': trial.suggest_int('max_depth', 5, 50)\n",
    "#         }\n",
    "#     elif model_name == 'Logistic Regression':\n",
    "#         return {\n",
    "#             'Modelo__C': trial.suggest_float('C', 1e-3, 1e3, log=True)\n",
    "#         }\n",
    "#     elif model_name == '3-Nearest Neighbors' or model_name == '5-Nearest Neighbors':\n",
    "#         return {\n",
    "#             'Modelo__n_neighbors': trial.suggest_int('n_neighbors', 3, 20)\n",
    "#         }\n",
    "#     elif model_name == 'AdaBoost':\n",
    "#         return {\n",
    "#             'Modelo__n_estimators': trial.suggest_int('n_estimators', 50, 500),\n",
    "#             'Modelo__learning_rate': trial.suggest_float('learning_rate', 0.01, 2, log=True)\n",
    "#         }\n",
    "#     elif model_name == 'SVM':\n",
    "#         return {\n",
    "#             'Modelo__C': trial.suggest_float('C', 1e-4, 1e2, log=True),\n",
    "#             'Modelo__kernel': trial.suggest_categorical('kernel', ['linear', 'rbf'])\n",
    "#         }"
   ]
  },
  {
   "cell_type": "code",
   "execution_count": 561,
   "metadata": {},
   "outputs": [],
   "source": [
    "def define_optuna_space(model_name, trial):\n",
    "    \n",
    "    # Define o espaço de busca de hiperparâmetros para cada tipo de modelo\n",
    "    if model_name == 'Logistic Regression':\n",
    "\n",
    "        # Caso a gente queira fazer uma avaliação mais simples:\n",
    "        # # Para regressão logística, ajusta o parâmetro de regularização C\n",
    "        # return {\n",
    "        #     'Modelo__C': trial.suggest_float('C', 1e-3, 1e3, log=True)\n",
    "        # }\n",
    "\n",
    "        # Senão, com mais hiperparâmetros:\n",
    "        solver_penalty_str = trial.suggest_categorical(\n",
    "            'solver_penalty',\n",
    "            ['liblinear_l1', 'liblinear_l2', 'lbfgs_l2']\n",
    "        )\n",
    "\n",
    "        # Quebra as strings de maneira a ter o solver e a penalidade certa\n",
    "        solver, penalty = solver_penalty_str.split('_')\n",
    "\n",
    "        return {\n",
    "            'Modelo__C': trial.suggest_float('C', 1e-3, 1e3, log=True),\n",
    "            'Modelo__solver': solver,\n",
    "            'Modelo__penalty': penalty\n",
    "        }\n",
    "\n",
    "    elif model_name == 'AdaBoost':\n",
    "        # Para AdaBoost, ajusta o número de estimadores e a taxa de aprendizado\n",
    "        return {\n",
    "            'Modelo__n_estimators': trial.suggest_int('n_estimators', 50, 500),\n",
    "            'Modelo__learning_rate': trial.suggest_float('learning_rate', 0.01, 2, log=True)\n",
    "        }\n",
    "    elif model_name == 'SVM':\n",
    "        # Para SVM, ajusta o parâmetro C e o tipo de kernel\n",
    "        return {\n",
    "            'Modelo__C': trial.suggest_float('C', 1e-4, 1e2, log=True),\n",
    "            'Modelo__kernel': trial.suggest_categorical('kernel', ['linear', 'rbf', 'sigmoid'])\n",
    "        }\n",
    "    else:\n",
    "        # Se nenhum hiperparâmetro estiver definido no modelo, retorna um dicionário vazio\n",
    "        return {}"
   ]
  },
  {
   "cell_type": "code",
   "execution_count": 562,
   "metadata": {},
   "outputs": [],
   "source": [
    "def objective_function(trial, model_name, model, X_train, y_train, inner_folds, metric):\n",
    "    # Define o espaço de busca dos hiperparâmetros\n",
    "    params = define_optuna_space(model_name, trial)\n",
    "\n",
    "    # Cria o pipeline com seleção de atributos, normalização, balanceamento e o modelo\n",
    "    pipeline = make_pipeline(model)\n",
    "\n",
    "    # Ajusta o pipeline com os hiperparâmetros sugeridos pelo trial do optuna\n",
    "    pipeline.set_params(**params)\n",
    "\n",
    "    # Define o k-fold interno para validação cruzada\n",
    "    inner_cv = StratifiedKFold(n_splits=inner_folds, shuffle=True, random_state=42)\n",
    "\n",
    "    # Calcula a métrica de avaliação média (por ex. F1) através de validação cruzada\n",
    "    score = cross_val_score(pipeline, X_train, y_train, cv=inner_cv, scoring=metric, n_jobs=-1).mean()\n",
    "    return score\n"
   ]
  },
  {
   "cell_type": "code",
   "execution_count": 563,
   "metadata": {},
   "outputs": [],
   "source": [
    "# Executa o estudo do Optuna para um único fold externo e retorna o melhor estudo\n",
    "def run_optuna_study_for_fold(model_name, model, X_train, y_train, inner_folds, metric, n_trials=20):\n",
    "\n",
    "    # Função objetivo que o Optuna irá otimizar\n",
    "    def objective(trial):\n",
    "        return objective_function(trial, model_name, model, X_train, y_train, inner_folds, metric)\n",
    "\n",
    "    # Cria o estudo do Optuna com objetivo de maximizar a métrica\n",
    "    study = optuna.create_study(direction=\"maximize\")\n",
    "\n",
    "    # Executa o estudo com número definido de tentativas (n_trials)\n",
    "    study.optimize(objective, n_trials=n_trials)\n",
    "    return study"
   ]
  },
  {
   "cell_type": "code",
   "execution_count": 564,
   "metadata": {},
   "outputs": [],
   "source": [
    "# Avalia o modelo com os melhores parâmetros encontrados no conjunto de teste.\n",
    "def evaluate_best_params(model, best_params, X_train, y_train, X_test, y_test):\n",
    "    pipeline = make_pipeline(model)\n",
    "    pipeline.set_params(**best_params) # Ajusta o pipeline com os melhores parâmetros\n",
    "    pipeline.fit(X_train, y_train)\n",
    "    y_pred = pipeline.predict(X_test)\n",
    "\n",
    "    return {\n",
    "        'F1 Score': f1_score(y_test, y_pred),\n",
    "        'Precision': precision_score(y_test, y_pred),\n",
    "        'Recall': recall_score(y_test, y_pred),\n",
    "        'ROC AUC': roc_auc_score(y_test, pipeline.predict_proba(X_test)[:, 1])\n",
    "    }"
   ]
  },
  {
   "cell_type": "code",
   "execution_count": 565,
   "metadata": {},
   "outputs": [],
   "source": [
    "def nested_cv_with_optuna(X, y, models, outer_folds=5, inner_folds=3, metric='f1'):\n",
    "\n",
    "    # Define o k-fold externo para a nested cv\n",
    "    outer_cv = StratifiedKFold(n_splits=outer_folds, shuffle=True, random_state=42)\n",
    "    results = []\n",
    "    best_study_per_model = {}\n",
    "    best_params_per_model = {}\n",
    "    best_f1_per_model = {}\n",
    "\n",
    "    # Loop pelos modelos que serão ajustados\n",
    "    for model_name, model in models.items():\n",
    "        best_f1 = -1\n",
    "        best_study = None\n",
    "\n",
    "        # Loop do k-fold externo\n",
    "        for train_idx, test_idx in outer_cv.split(X, y):\n",
    "            X_train, X_test = X.iloc[train_idx], X.iloc[test_idx]\n",
    "            y_train, y_test = y.iloc[train_idx], y.iloc[test_idx]\n",
    "\n",
    "            # Executa o estudo do Optuna para o fold atual\n",
    "            study = run_optuna_study_for_fold(model_name, model, X_train, y_train, inner_folds, metric, n_trials=20)\n",
    "\n",
    "            # Obtém os melhores parâmetros do estudo\n",
    "            best_params = {f'Modelo__{key}': value for key, value in study.best_params.items()}\n",
    "\n",
    "            # Retira os pares de strings solver_penalty, caso presentes\n",
    "            if 'Modelo__solver_penalty' in best_params:\n",
    "                del best_params['Modelo__solver_penalty']\n",
    "\n",
    "            # Avalia no conjunto de teste com os melhores parâmetros\n",
    "            metrics = evaluate_best_params(model, best_params, X_train, y_train, X_test, y_test)\n",
    "            metrics['Model'] = model_name\n",
    "            results.append(metrics)\n",
    "\n",
    "            # Verifica se a pontuação (F1) melhorou em relação ao melhor caso anterior\n",
    "            if metrics['F1 Score'] > best_f1:\n",
    "                best_f1 = metrics['F1 Score']\n",
    "                best_study = study\n",
    "                best_params_per_model[model_name] = best_params\n",
    "\n",
    "        best_study_per_model[model_name] = best_study\n",
    "        best_f1_per_model[model_name] = best_f1\n",
    "\n",
    "    # Retorna os resultados consolidados, o melhor estudo, os melhores parâmetros e a melhor pontuação F1 por modelo\n",
    "    return pd.DataFrame(results), best_study_per_model, best_params_per_model, best_f1_per_model"
   ]
  },
  {
   "cell_type": "code",
   "execution_count": 566,
   "metadata": {},
   "outputs": [
    {
     "name": "stderr",
     "output_type": "stream",
     "text": [
      "[I 2024-12-08 18:54:25,622] A new study created in memory with name: no-name-67ed82b6-1aa4-4a30-9595-01e9339556ae\n",
      "[I 2024-12-08 18:54:25,816] Trial 0 finished with value: 0.7365385158394792 and parameters: {'solver_penalty': 'lbfgs_l2', 'C': 45.67116716642544}. Best is trial 0 with value: 0.7365385158394792.\n",
      "[I 2024-12-08 18:54:26,019] Trial 1 finished with value: 0.7083965003597065 and parameters: {'solver_penalty': 'liblinear_l1', 'C': 0.0012182858221813832}. Best is trial 0 with value: 0.7365385158394792.\n",
      "[I 2024-12-08 18:54:26,222] Trial 2 finished with value: 0.7429307992402155 and parameters: {'solver_penalty': 'liblinear_l2', 'C': 0.9706148498204424}. Best is trial 2 with value: 0.7429307992402155.\n",
      "[I 2024-12-08 18:54:26,436] Trial 3 finished with value: 0.7418641172254278 and parameters: {'solver_penalty': 'lbfgs_l2', 'C': 14.670791481874287}. Best is trial 2 with value: 0.7429307992402155.\n",
      "[I 2024-12-08 18:54:26,639] Trial 4 finished with value: 0.7346701393810604 and parameters: {'solver_penalty': 'liblinear_l2', 'C': 1.8472761309809722}. Best is trial 2 with value: 0.7429307992402155.\n",
      "[I 2024-12-08 18:54:26,852] Trial 5 finished with value: 0.7432785508318918 and parameters: {'solver_penalty': 'liblinear_l2', 'C': 0.005478995237718588}. Best is trial 5 with value: 0.7432785508318918.\n",
      "[I 2024-12-08 18:54:27,056] Trial 6 finished with value: 0.7249432606054885 and parameters: {'solver_penalty': 'liblinear_l1', 'C': 0.0020622394558312386}. Best is trial 5 with value: 0.7432785508318918.\n",
      "[I 2024-12-08 18:54:27,270] Trial 7 finished with value: 0.7397817431706764 and parameters: {'solver_penalty': 'liblinear_l2', 'C': 685.6924804044418}. Best is trial 5 with value: 0.7432785508318918.\n",
      "[I 2024-12-08 18:54:27,474] Trial 8 finished with value: 0.7395136368243519 and parameters: {'solver_penalty': 'lbfgs_l2', 'C': 0.0021826480707521027}. Best is trial 5 with value: 0.7432785508318918.\n",
      "[I 2024-12-08 18:54:27,667] Trial 9 finished with value: 0.7353430820230505 and parameters: {'solver_penalty': 'liblinear_l2', 'C': 0.0011785223024150782}. Best is trial 5 with value: 0.7432785508318918.\n",
      "[I 2024-12-08 18:54:27,872] Trial 10 finished with value: 0.7480039103374294 and parameters: {'solver_penalty': 'liblinear_l2', 'C': 0.06469381409194268}. Best is trial 10 with value: 0.7480039103374294.\n",
      "[I 2024-12-08 18:54:28,077] Trial 11 finished with value: 0.7384574046975698 and parameters: {'solver_penalty': 'liblinear_l2', 'C': 0.049847002840314424}. Best is trial 10 with value: 0.7480039103374294.\n",
      "[I 2024-12-08 18:54:28,282] Trial 12 finished with value: 0.7388236883790255 and parameters: {'solver_penalty': 'liblinear_l2', 'C': 0.046110171421303615}. Best is trial 10 with value: 0.7480039103374294.\n",
      "[I 2024-12-08 18:54:28,488] Trial 13 finished with value: 0.7428636926603944 and parameters: {'solver_penalty': 'liblinear_l2', 'C': 0.03522285627375115}. Best is trial 10 with value: 0.7480039103374294.\n",
      "[I 2024-12-08 18:54:28,694] Trial 14 finished with value: 0.7448511536361767 and parameters: {'solver_penalty': 'liblinear_l2', 'C': 0.013607585449636583}. Best is trial 10 with value: 0.7480039103374294.\n",
      "[I 2024-12-08 18:54:28,911] Trial 15 finished with value: 0.7394794136298335 and parameters: {'solver_penalty': 'liblinear_l1', 'C': 0.3169185581106669}. Best is trial 10 with value: 0.7480039103374294.\n",
      "[I 2024-12-08 18:54:29,116] Trial 16 finished with value: 0.7439912228160281 and parameters: {'solver_penalty': 'liblinear_l2', 'C': 0.012818905773903483}. Best is trial 10 with value: 0.7480039103374294.\n",
      "[I 2024-12-08 18:54:29,311] Trial 17 finished with value: 0.7391975466729102 and parameters: {'solver_penalty': 'liblinear_l2', 'C': 0.20377412768920947}. Best is trial 10 with value: 0.7480039103374294.\n",
      "[I 2024-12-08 18:54:29,506] Trial 18 finished with value: 0.745450742172497 and parameters: {'solver_penalty': 'liblinear_l1', 'C': 0.18195343426866714}. Best is trial 10 with value: 0.7480039103374294.\n",
      "[I 2024-12-08 18:54:29,710] Trial 19 finished with value: 0.7394923660997809 and parameters: {'solver_penalty': 'liblinear_l1', 'C': 4.085111683028822}. Best is trial 10 with value: 0.7480039103374294.\n",
      "[I 2024-12-08 18:54:29,875] A new study created in memory with name: no-name-44c5990c-d467-46cb-a675-b374c7e4cc42\n",
      "[I 2024-12-08 18:54:30,079] Trial 0 finished with value: 0.7438411879836608 and parameters: {'solver_penalty': 'lbfgs_l2', 'C': 455.134440139798}. Best is trial 0 with value: 0.7438411879836608.\n",
      "[I 2024-12-08 18:54:30,282] Trial 1 finished with value: 0.7412012481761862 and parameters: {'solver_penalty': 'lbfgs_l2', 'C': 17.882091926994768}. Best is trial 0 with value: 0.7438411879836608.\n",
      "[I 2024-12-08 18:54:30,495] Trial 2 finished with value: 0.7421953684706187 and parameters: {'solver_penalty': 'liblinear_l2', 'C': 709.8635993127182}. Best is trial 0 with value: 0.7438411879836608.\n",
      "[I 2024-12-08 18:54:30,697] Trial 3 finished with value: 0.7404506224187694 and parameters: {'solver_penalty': 'liblinear_l1', 'C': 0.026564326000473527}. Best is trial 0 with value: 0.7438411879836608.\n",
      "[I 2024-12-08 18:54:30,887] Trial 4 finished with value: 0.7414922267451273 and parameters: {'solver_penalty': 'liblinear_l2', 'C': 117.49042411871616}. Best is trial 0 with value: 0.7438411879836608.\n",
      "[I 2024-12-08 18:54:31,101] Trial 5 finished with value: 0.7432095959853224 and parameters: {'solver_penalty': 'liblinear_l1', 'C': 4.473653144648483}. Best is trial 0 with value: 0.7438411879836608.\n",
      "[I 2024-12-08 18:54:31,292] Trial 6 finished with value: 0.7385246905205396 and parameters: {'solver_penalty': 'lbfgs_l2', 'C': 0.19113057342833956}. Best is trial 0 with value: 0.7438411879836608.\n",
      "[I 2024-12-08 18:54:31,495] Trial 7 finished with value: 0.7381881502789637 and parameters: {'solver_penalty': 'liblinear_l2', 'C': 0.028814207798158218}. Best is trial 0 with value: 0.7438411879836608.\n",
      "[I 2024-12-08 18:54:31,686] Trial 8 finished with value: 0.7387931718708443 and parameters: {'solver_penalty': 'liblinear_l2', 'C': 0.2828942631027744}. Best is trial 0 with value: 0.7438411879836608.\n",
      "[I 2024-12-08 18:54:31,887] Trial 9 finished with value: 0.7455835240803165 and parameters: {'solver_penalty': 'lbfgs_l2', 'C': 0.013054080631641755}. Best is trial 9 with value: 0.7455835240803165.\n",
      "[I 2024-12-08 18:54:32,092] Trial 10 finished with value: 0.7376771452360193 and parameters: {'solver_penalty': 'lbfgs_l2', 'C': 0.0010221836484856958}. Best is trial 9 with value: 0.7455835240803165.\n",
      "[I 2024-12-08 18:54:32,286] Trial 11 finished with value: 0.7404633168104692 and parameters: {'solver_penalty': 'lbfgs_l2', 'C': 0.0016175428126033145}. Best is trial 9 with value: 0.7455835240803165.\n",
      "[I 2024-12-08 18:54:32,479] Trial 12 finished with value: 0.7387470794100219 and parameters: {'solver_penalty': 'lbfgs_l2', 'C': 2.777346263004329}. Best is trial 9 with value: 0.7455835240803165.\n",
      "[I 2024-12-08 18:54:32,673] Trial 13 finished with value: 0.7369903166456468 and parameters: {'solver_penalty': 'lbfgs_l2', 'C': 57.60508810298882}. Best is trial 9 with value: 0.7455835240803165.\n",
      "[I 2024-12-08 18:54:32,867] Trial 14 finished with value: 0.7430092830747259 and parameters: {'solver_penalty': 'lbfgs_l2', 'C': 0.016366223061134003}. Best is trial 9 with value: 0.7455835240803165.\n",
      "[I 2024-12-08 18:54:33,060] Trial 15 finished with value: 0.7373308029182779 and parameters: {'solver_penalty': 'lbfgs_l2', 'C': 995.9719774658353}. Best is trial 9 with value: 0.7455835240803165.\n",
      "[I 2024-12-08 18:54:33,254] Trial 16 finished with value: 0.7380877773697472 and parameters: {'solver_penalty': 'liblinear_l1', 'C': 0.5082504698936581}. Best is trial 9 with value: 0.7455835240803165.\n",
      "[I 2024-12-08 18:54:33,448] Trial 17 finished with value: 0.7435981898765227 and parameters: {'solver_penalty': 'lbfgs_l2', 'C': 0.005168636253520158}. Best is trial 9 with value: 0.7455835240803165.\n",
      "[I 2024-12-08 18:54:33,642] Trial 18 finished with value: 0.7439163130440418 and parameters: {'solver_penalty': 'lbfgs_l2', 'C': 0.09252420430774261}. Best is trial 9 with value: 0.7455835240803165.\n",
      "[I 2024-12-08 18:54:33,825] Trial 19 finished with value: 0.7420782520841497 and parameters: {'solver_penalty': 'liblinear_l1', 'C': 0.07915711708422044}. Best is trial 9 with value: 0.7455835240803165.\n",
      "[I 2024-12-08 18:54:33,990] A new study created in memory with name: no-name-52cc26fa-1417-4403-b92c-09ab374994c0\n",
      "[I 2024-12-08 18:54:34,184] Trial 0 finished with value: 0.7364534323563342 and parameters: {'solver_penalty': 'liblinear_l2', 'C': 0.326033549289289}. Best is trial 0 with value: 0.7364534323563342.\n",
      "[I 2024-12-08 18:54:34,384] Trial 1 finished with value: 0.7373787249480989 and parameters: {'solver_penalty': 'liblinear_l2', 'C': 50.63164485361712}. Best is trial 1 with value: 0.7373787249480989.\n",
      "[I 2024-12-08 18:54:34,587] Trial 2 finished with value: 0.7390563217782719 and parameters: {'solver_penalty': 'lbfgs_l2', 'C': 4.430932126195178}. Best is trial 2 with value: 0.7390563217782719.\n",
      "[I 2024-12-08 18:54:34,792] Trial 3 finished with value: 0.7364975099397362 and parameters: {'solver_penalty': 'liblinear_l2', 'C': 6.901129569197317}. Best is trial 2 with value: 0.7390563217782719.\n",
      "[I 2024-12-08 18:54:34,994] Trial 4 finished with value: 0.741464258428644 and parameters: {'solver_penalty': 'liblinear_l2', 'C': 68.88362363560334}. Best is trial 4 with value: 0.741464258428644.\n",
      "[I 2024-12-08 18:54:35,175] Trial 5 finished with value: 0.6704238724022578 and parameters: {'solver_penalty': 'liblinear_l1', 'C': 0.0011187123782032975}. Best is trial 4 with value: 0.741464258428644.\n",
      "[I 2024-12-08 18:54:35,377] Trial 6 finished with value: 0.7371138285531698 and parameters: {'solver_penalty': 'lbfgs_l2', 'C': 0.28456523970293823}. Best is trial 4 with value: 0.741464258428644.\n",
      "[I 2024-12-08 18:54:35,558] Trial 7 finished with value: 0.7431445492239839 and parameters: {'solver_penalty': 'liblinear_l1', 'C': 0.030720022369354623}. Best is trial 7 with value: 0.7431445492239839.\n",
      "[I 2024-12-08 18:54:35,919] Trial 8 finished with value: 0.737879929946043 and parameters: {'solver_penalty': 'liblinear_l2', 'C': 0.09410777475684394}. Best is trial 7 with value: 0.7431445492239839.\n",
      "[I 2024-12-08 18:54:36,111] Trial 9 finished with value: 0.7393453460847698 and parameters: {'solver_penalty': 'lbfgs_l2', 'C': 0.17070750506553456}. Best is trial 7 with value: 0.7431445492239839.\n",
      "[I 2024-12-08 18:54:36,315] Trial 10 finished with value: 0.7350858434537291 and parameters: {'solver_penalty': 'liblinear_l1', 'C': 0.005578368124316063}. Best is trial 7 with value: 0.7431445492239839.\n",
      "[I 2024-12-08 18:54:36,509] Trial 11 finished with value: 0.7370810844996895 and parameters: {'solver_penalty': 'liblinear_l1', 'C': 870.7427863322662}. Best is trial 7 with value: 0.7431445492239839.\n",
      "[I 2024-12-08 18:54:36,712] Trial 12 finished with value: 0.7422549620513706 and parameters: {'solver_penalty': 'liblinear_l1', 'C': 0.017062399313311848}. Best is trial 7 with value: 0.7431445492239839.\n",
      "[I 2024-12-08 18:54:36,905] Trial 13 finished with value: 0.7437142654467188 and parameters: {'solver_penalty': 'liblinear_l1', 'C': 0.01638608416943277}. Best is trial 13 with value: 0.7437142654467188.\n",
      "[I 2024-12-08 18:54:37,108] Trial 14 finished with value: 0.739631934003312 and parameters: {'solver_penalty': 'liblinear_l1', 'C': 0.019647634655247027}. Best is trial 13 with value: 0.7437142654467188.\n",
      "[I 2024-12-08 18:54:37,302] Trial 15 finished with value: 0.6529517390297432 and parameters: {'solver_penalty': 'liblinear_l1', 'C': 0.0010091040108756294}. Best is trial 13 with value: 0.7437142654467188.\n",
      "[I 2024-12-08 18:54:37,508] Trial 16 finished with value: 0.7429985119867735 and parameters: {'solver_penalty': 'liblinear_l1', 'C': 0.02958497325845717}. Best is trial 13 with value: 0.7437142654467188.\n",
      "[I 2024-12-08 18:54:37,711] Trial 17 finished with value: 0.7334520249731352 and parameters: {'solver_penalty': 'liblinear_l1', 'C': 0.9944265465841964}. Best is trial 13 with value: 0.7437142654467188.\n",
      "[I 2024-12-08 18:54:37,915] Trial 18 finished with value: 0.7286081596137893 and parameters: {'solver_penalty': 'liblinear_l1', 'C': 0.004180330862918286}. Best is trial 13 with value: 0.7437142654467188.\n",
      "[I 2024-12-08 18:54:38,098] Trial 19 finished with value: 0.7397166018742503 and parameters: {'solver_penalty': 'liblinear_l1', 'C': 0.043206201751049625}. Best is trial 13 with value: 0.7437142654467188.\n",
      "[I 2024-12-08 18:54:38,266] A new study created in memory with name: no-name-3e9813c7-274f-44ad-b66e-d98000c152b2\n",
      "[I 2024-12-08 18:54:38,459] Trial 0 finished with value: 0.7436426955239327 and parameters: {'solver_penalty': 'lbfgs_l2', 'C': 0.0063148432602375725}. Best is trial 0 with value: 0.7436426955239327.\n",
      "[I 2024-12-08 18:54:38,713] Trial 1 finished with value: 0.7408019458620345 and parameters: {'solver_penalty': 'lbfgs_l2', 'C': 0.0072892384182045526}. Best is trial 0 with value: 0.7436426955239327.\n",
      "[I 2024-12-08 18:54:38,999] Trial 2 finished with value: 0.7403233570001034 and parameters: {'solver_penalty': 'lbfgs_l2', 'C': 87.02222479112406}. Best is trial 0 with value: 0.7436426955239327.\n",
      "[I 2024-12-08 18:54:39,288] Trial 3 finished with value: 0.74504112739079 and parameters: {'solver_penalty': 'liblinear_l1', 'C': 818.9626367196805}. Best is trial 3 with value: 0.74504112739079.\n",
      "[I 2024-12-08 18:54:39,571] Trial 4 finished with value: 0.7404066213922125 and parameters: {'solver_penalty': 'liblinear_l1', 'C': 1.4540588175386895}. Best is trial 3 with value: 0.74504112739079.\n",
      "[I 2024-12-08 18:54:39,855] Trial 5 finished with value: 0.7348317637633217 and parameters: {'solver_penalty': 'liblinear_l2', 'C': 0.0062536359092696964}. Best is trial 3 with value: 0.74504112739079.\n",
      "[I 2024-12-08 18:54:40,143] Trial 6 finished with value: 0.7408996006166498 and parameters: {'solver_penalty': 'lbfgs_l2', 'C': 0.7994756068219974}. Best is trial 3 with value: 0.74504112739079.\n",
      "[I 2024-12-08 18:54:40,434] Trial 7 finished with value: 0.7411470999779067 and parameters: {'solver_penalty': 'liblinear_l1', 'C': 6.902077809589709}. Best is trial 3 with value: 0.74504112739079.\n",
      "[I 2024-12-08 18:54:40,715] Trial 8 finished with value: 0.7411512532671678 and parameters: {'solver_penalty': 'liblinear_l2', 'C': 0.027085225735453827}. Best is trial 3 with value: 0.74504112739079.\n",
      "[I 2024-12-08 18:54:41,005] Trial 9 finished with value: 0.7425330893225254 and parameters: {'solver_penalty': 'lbfgs_l2', 'C': 0.03255584667664776}. Best is trial 3 with value: 0.74504112739079.\n",
      "[I 2024-12-08 18:54:41,289] Trial 10 finished with value: 0.7341454177682099 and parameters: {'solver_penalty': 'liblinear_l1', 'C': 908.7206772721895}. Best is trial 3 with value: 0.74504112739079.\n",
      "[I 2024-12-08 18:54:41,580] Trial 11 finished with value: 0.6975956123930195 and parameters: {'solver_penalty': 'liblinear_l1', 'C': 0.0011755215032825182}. Best is trial 3 with value: 0.74504112739079.\n",
      "[I 2024-12-08 18:54:41,865] Trial 12 finished with value: 0.7418382674265268 and parameters: {'solver_penalty': 'lbfgs_l2', 'C': 0.2244625936979506}. Best is trial 3 with value: 0.74504112739079.\n",
      "[I 2024-12-08 18:54:42,151] Trial 13 finished with value: 0.7381089387192892 and parameters: {'solver_penalty': 'liblinear_l1', 'C': 22.663970624344007}. Best is trial 3 with value: 0.74504112739079.\n",
      "[I 2024-12-08 18:54:42,440] Trial 14 finished with value: 0.7391893074104001 and parameters: {'solver_penalty': 'liblinear_l2', 'C': 182.0394581688908}. Best is trial 3 with value: 0.74504112739079.\n",
      "[I 2024-12-08 18:54:42,728] Trial 15 finished with value: 0.7429540887767676 and parameters: {'solver_penalty': 'lbfgs_l2', 'C': 0.16431953508901995}. Best is trial 3 with value: 0.74504112739079.\n",
      "[I 2024-12-08 18:54:43,021] Trial 16 finished with value: 0.7423258525444789 and parameters: {'solver_penalty': 'liblinear_l1', 'C': 9.633317805556334}. Best is trial 3 with value: 0.74504112739079.\n",
      "[I 2024-12-08 18:54:43,307] Trial 17 finished with value: 0.7372052667076547 and parameters: {'solver_penalty': 'lbfgs_l2', 'C': 0.0010280690590698687}. Best is trial 3 with value: 0.74504112739079.\n",
      "[I 2024-12-08 18:54:43,601] Trial 18 finished with value: 0.73963503792829 and parameters: {'solver_penalty': 'liblinear_l1', 'C': 902.2114202203804}. Best is trial 3 with value: 0.74504112739079.\n",
      "[I 2024-12-08 18:54:43,884] Trial 19 finished with value: 0.7422556877905854 and parameters: {'solver_penalty': 'liblinear_l2', 'C': 1.395023726361453}. Best is trial 3 with value: 0.74504112739079.\n",
      "[I 2024-12-08 18:54:44,132] A new study created in memory with name: no-name-7af6c892-9cac-45d5-bed4-31bce1bde754\n",
      "[I 2024-12-08 18:54:44,429] Trial 0 finished with value: 0.7368948617726477 and parameters: {'solver_penalty': 'liblinear_l2', 'C': 334.50755123656853}. Best is trial 0 with value: 0.7368948617726477.\n",
      "[I 2024-12-08 18:54:44,720] Trial 1 finished with value: 0.7344440704725981 and parameters: {'solver_penalty': 'liblinear_l2', 'C': 0.044404947236467256}. Best is trial 0 with value: 0.7368948617726477.\n",
      "[I 2024-12-08 18:54:45,009] Trial 2 finished with value: 0.7339316655844885 and parameters: {'solver_penalty': 'lbfgs_l2', 'C': 0.0018964179263428562}. Best is trial 0 with value: 0.7368948617726477.\n",
      "[I 2024-12-08 18:54:45,300] Trial 3 finished with value: 0.7315842645462507 and parameters: {'solver_penalty': 'lbfgs_l2', 'C': 87.31963825590458}. Best is trial 0 with value: 0.7368948617726477.\n",
      "[I 2024-12-08 18:54:45,592] Trial 4 finished with value: 0.7413293227545175 and parameters: {'solver_penalty': 'liblinear_l1', 'C': 0.7663541170661547}. Best is trial 4 with value: 0.7413293227545175.\n",
      "[I 2024-12-08 18:54:45,877] Trial 5 finished with value: 0.7443454115722558 and parameters: {'solver_penalty': 'liblinear_l1', 'C': 1.5624902790379542}. Best is trial 5 with value: 0.7443454115722558.\n",
      "[I 2024-12-08 18:54:46,166] Trial 6 finished with value: 0.7364183219517872 and parameters: {'solver_penalty': 'liblinear_l1', 'C': 2.992300477350355}. Best is trial 5 with value: 0.7443454115722558.\n",
      "[I 2024-12-08 18:54:46,456] Trial 7 finished with value: 0.7387296545370811 and parameters: {'solver_penalty': 'lbfgs_l2', 'C': 765.8078104608717}. Best is trial 5 with value: 0.7443454115722558.\n",
      "[I 2024-12-08 18:54:46,745] Trial 8 finished with value: 0.7355722568982841 and parameters: {'solver_penalty': 'lbfgs_l2', 'C': 9.635354846817254}. Best is trial 5 with value: 0.7443454115722558.\n",
      "[I 2024-12-08 18:54:47,021] Trial 9 finished with value: 0.7396389803630851 and parameters: {'solver_penalty': 'liblinear_l2', 'C': 0.34555728782476786}. Best is trial 5 with value: 0.7443454115722558.\n",
      "[I 2024-12-08 18:54:47,307] Trial 10 finished with value: 0.7332221612721964 and parameters: {'solver_penalty': 'liblinear_l1', 'C': 0.023443158016435553}. Best is trial 5 with value: 0.7443454115722558.\n",
      "[I 2024-12-08 18:54:47,591] Trial 11 finished with value: 0.7333630173371789 and parameters: {'solver_penalty': 'liblinear_l1', 'C': 0.4271025838275124}. Best is trial 5 with value: 0.7443454115722558.\n",
      "[I 2024-12-08 18:54:47,881] Trial 12 finished with value: 0.7327143594402948 and parameters: {'solver_penalty': 'liblinear_l1', 'C': 17.624795440066826}. Best is trial 5 with value: 0.7443454115722558.\n",
      "[I 2024-12-08 18:54:48,175] Trial 13 finished with value: 0.7321993571388248 and parameters: {'solver_penalty': 'liblinear_l1', 'C': 0.08284050275066067}. Best is trial 5 with value: 0.7443454115722558.\n",
      "[I 2024-12-08 18:54:48,467] Trial 14 finished with value: 0.742945228718054 and parameters: {'solver_penalty': 'liblinear_l1', 'C': 1.540302216847305}. Best is trial 5 with value: 0.7443454115722558.\n",
      "[I 2024-12-08 18:54:48,756] Trial 15 finished with value: 0.7374734125046025 and parameters: {'solver_penalty': 'liblinear_l1', 'C': 15.52996915228265}. Best is trial 5 with value: 0.7443454115722558.\n",
      "[I 2024-12-08 18:54:49,050] Trial 16 finished with value: 0.7361401558072129 and parameters: {'solver_penalty': 'liblinear_l1', 'C': 2.739141439515268}. Best is trial 5 with value: 0.7443454115722558.\n",
      "[I 2024-12-08 18:54:49,338] Trial 17 finished with value: 0.7252609582983437 and parameters: {'solver_penalty': 'liblinear_l1', 'C': 0.0034831331213243293}. Best is trial 5 with value: 0.7443454115722558.\n",
      "[I 2024-12-08 18:54:49,624] Trial 18 finished with value: 0.7401282416793465 and parameters: {'solver_penalty': 'liblinear_l1', 'C': 97.45615664895337}. Best is trial 5 with value: 0.7443454115722558.\n",
      "[I 2024-12-08 18:54:49,908] Trial 19 finished with value: 0.7390297718448637 and parameters: {'solver_penalty': 'liblinear_l2', 'C': 0.10938641582697783}. Best is trial 5 with value: 0.7443454115722558.\n",
      "[I 2024-12-08 18:54:50,172] A new study created in memory with name: no-name-afcc81e3-aea2-4f76-aa61-304a71cec1a7\n",
      "[I 2024-12-08 18:54:50,459] Trial 0 finished with value: 0.7233317146947147 and parameters: {'solver_penalty': 'liblinear_l1', 'C': 0.0019871776078860567}. Best is trial 0 with value: 0.7233317146947147.\n",
      "[I 2024-12-08 18:54:50,752] Trial 1 finished with value: 0.7378449832821665 and parameters: {'solver_penalty': 'liblinear_l2', 'C': 0.0011005611532407798}. Best is trial 1 with value: 0.7378449832821665.\n",
      "[I 2024-12-08 18:54:51,030] Trial 2 finished with value: 0.7382615050577941 and parameters: {'solver_penalty': 'liblinear_l2', 'C': 18.65155844126682}. Best is trial 2 with value: 0.7382615050577941.\n",
      "[I 2024-12-08 18:54:51,315] Trial 3 finished with value: 0.739299436072811 and parameters: {'solver_penalty': 'lbfgs_l2', 'C': 34.23732387058813}. Best is trial 3 with value: 0.739299436072811.\n",
      "[I 2024-12-08 18:54:51,605] Trial 4 finished with value: 0.7308574309488595 and parameters: {'solver_penalty': 'lbfgs_l2', 'C': 358.6366169838267}. Best is trial 3 with value: 0.739299436072811.\n",
      "[I 2024-12-08 18:54:51,892] Trial 5 finished with value: 0.7393930079316193 and parameters: {'solver_penalty': 'lbfgs_l2', 'C': 0.770815611980288}. Best is trial 5 with value: 0.7393930079316193.\n",
      "[I 2024-12-08 18:54:52,183] Trial 6 finished with value: 0.7355680482526165 and parameters: {'solver_penalty': 'liblinear_l1', 'C': 0.12728983165319743}. Best is trial 5 with value: 0.7393930079316193.\n",
      "[I 2024-12-08 18:54:52,483] Trial 7 finished with value: 0.7396593182934543 and parameters: {'solver_penalty': 'liblinear_l1', 'C': 0.021912388728662344}. Best is trial 7 with value: 0.7396593182934543.\n",
      "[I 2024-12-08 18:54:52,769] Trial 8 finished with value: 0.7357287146447113 and parameters: {'solver_penalty': 'liblinear_l2', 'C': 25.602158761092102}. Best is trial 7 with value: 0.7396593182934543.\n",
      "[I 2024-12-08 18:54:53,061] Trial 9 finished with value: 0.7436543299009234 and parameters: {'solver_penalty': 'liblinear_l2', 'C': 0.004926491841095516}. Best is trial 9 with value: 0.7436543299009234.\n",
      "[I 2024-12-08 18:54:53,352] Trial 10 finished with value: 0.7438600601927357 and parameters: {'solver_penalty': 'liblinear_l2', 'C': 0.022993949148565417}. Best is trial 10 with value: 0.7438600601927357.\n",
      "[I 2024-12-08 18:54:53,644] Trial 11 finished with value: 0.7379417073063695 and parameters: {'solver_penalty': 'liblinear_l2', 'C': 0.02345808717709157}. Best is trial 10 with value: 0.7438600601927357.\n",
      "[I 2024-12-08 18:54:53,935] Trial 12 finished with value: 0.7354734074261173 and parameters: {'solver_penalty': 'liblinear_l2', 'C': 0.0100417934801074}. Best is trial 10 with value: 0.7438600601927357.\n",
      "[I 2024-12-08 18:54:54,223] Trial 13 finished with value: 0.739304395430651 and parameters: {'solver_penalty': 'liblinear_l2', 'C': 0.25330885811320447}. Best is trial 10 with value: 0.7438600601927357.\n",
      "[I 2024-12-08 18:54:54,510] Trial 14 finished with value: 0.7380278309416126 and parameters: {'solver_penalty': 'liblinear_l2', 'C': 0.006748413078410768}. Best is trial 10 with value: 0.7438600601927357.\n",
      "[I 2024-12-08 18:54:54,790] Trial 15 finished with value: 0.7395517558731342 and parameters: {'solver_penalty': 'liblinear_l2', 'C': 0.0731492464872538}. Best is trial 10 with value: 0.7438600601927357.\n",
      "[I 2024-12-08 18:54:55,080] Trial 16 finished with value: 0.7360661078446958 and parameters: {'solver_penalty': 'liblinear_l2', 'C': 3.081500017539816}. Best is trial 10 with value: 0.7438600601927357.\n",
      "[I 2024-12-08 18:54:55,372] Trial 17 finished with value: 0.7369656006493973 and parameters: {'solver_penalty': 'liblinear_l2', 'C': 0.00381261477385563}. Best is trial 10 with value: 0.7438600601927357.\n",
      "[I 2024-12-08 18:54:55,655] Trial 18 finished with value: 0.7356648879898526 and parameters: {'solver_penalty': 'lbfgs_l2', 'C': 0.030618475859881568}. Best is trial 10 with value: 0.7438600601927357.\n",
      "[I 2024-12-08 18:54:55,956] Trial 19 finished with value: 0.7371637930316983 and parameters: {'solver_penalty': 'liblinear_l1', 'C': 0.3434189861562787}. Best is trial 10 with value: 0.7438600601927357.\n",
      "[I 2024-12-08 18:54:56,199] A new study created in memory with name: no-name-7ceec904-efd2-4fc1-81ac-c66ecd15b59d\n",
      "[I 2024-12-08 18:54:56,492] Trial 0 finished with value: 0.7398266760724556 and parameters: {'solver_penalty': 'liblinear_l2', 'C': 9.07932130661824}. Best is trial 0 with value: 0.7398266760724556.\n",
      "[I 2024-12-08 18:54:56,780] Trial 1 finished with value: 0.7394879974951247 and parameters: {'solver_penalty': 'liblinear_l2', 'C': 0.2212161651513265}. Best is trial 0 with value: 0.7398266760724556.\n",
      "[I 2024-12-08 18:54:57,060] Trial 2 finished with value: 0.7367976409151588 and parameters: {'solver_penalty': 'lbfgs_l2', 'C': 17.25033126241435}. Best is trial 0 with value: 0.7398266760724556.\n",
      "[I 2024-12-08 18:54:57,342] Trial 3 finished with value: 0.7387681001605282 and parameters: {'solver_penalty': 'liblinear_l2', 'C': 0.03931088364531836}. Best is trial 0 with value: 0.7398266760724556.\n",
      "[I 2024-12-08 18:54:57,620] Trial 4 finished with value: 0.736636514441144 and parameters: {'solver_penalty': 'lbfgs_l2', 'C': 0.056406881896061356}. Best is trial 0 with value: 0.7398266760724556.\n",
      "[I 2024-12-08 18:54:57,910] Trial 5 finished with value: 0.7415650528300393 and parameters: {'solver_penalty': 'liblinear_l1', 'C': 6.067978766697621}. Best is trial 5 with value: 0.7415650528300393.\n",
      "[I 2024-12-08 18:54:58,199] Trial 6 finished with value: 0.7419111338848812 and parameters: {'solver_penalty': 'liblinear_l1', 'C': 146.91895312685693}. Best is trial 6 with value: 0.7419111338848812.\n",
      "[I 2024-12-08 18:54:58,490] Trial 7 finished with value: 0.739477774010619 and parameters: {'solver_penalty': 'lbfgs_l2', 'C': 59.25029981234996}. Best is trial 6 with value: 0.7419111338848812.\n",
      "[I 2024-12-08 18:54:58,766] Trial 8 finished with value: 0.7404951931460901 and parameters: {'solver_penalty': 'liblinear_l1', 'C': 0.6240672005561861}. Best is trial 6 with value: 0.7419111338848812.\n",
      "[I 2024-12-08 18:54:59,055] Trial 9 finished with value: 0.7269811520627896 and parameters: {'solver_penalty': 'liblinear_l1', 'C': 0.004552800370227228}. Best is trial 6 with value: 0.7419111338848812.\n",
      "[I 2024-12-08 18:54:59,339] Trial 10 finished with value: 0.734718216870409 and parameters: {'solver_penalty': 'liblinear_l1', 'C': 236.13946978378175}. Best is trial 6 with value: 0.7419111338848812.\n",
      "[I 2024-12-08 18:54:59,630] Trial 11 finished with value: 0.736916195777402 and parameters: {'solver_penalty': 'liblinear_l1', 'C': 954.437304950844}. Best is trial 6 with value: 0.7419111338848812.\n",
      "[I 2024-12-08 18:54:59,913] Trial 12 finished with value: 0.7432856207857311 and parameters: {'solver_penalty': 'liblinear_l1', 'C': 5.094355944246216}. Best is trial 12 with value: 0.7432856207857311.\n",
      "[I 2024-12-08 18:55:00,201] Trial 13 finished with value: 0.7419570503890804 and parameters: {'solver_penalty': 'liblinear_l1', 'C': 94.35338145828854}. Best is trial 12 with value: 0.7432856207857311.\n",
      "[I 2024-12-08 18:55:00,498] Trial 14 finished with value: 0.7410127435267226 and parameters: {'solver_penalty': 'liblinear_l1', 'C': 2.3472491415178687}. Best is trial 12 with value: 0.7432856207857311.\n",
      "[I 2024-12-08 18:55:00,791] Trial 15 finished with value: 0.7428462450813262 and parameters: {'solver_penalty': 'liblinear_l1', 'C': 62.0132415290052}. Best is trial 12 with value: 0.7432856207857311.\n",
      "[I 2024-12-08 18:55:01,084] Trial 16 finished with value: 0.737880221246048 and parameters: {'solver_penalty': 'liblinear_l1', 'C': 1.4394312836309748}. Best is trial 12 with value: 0.7432856207857311.\n",
      "[I 2024-12-08 18:55:01,383] Trial 17 finished with value: 0.7362599183168677 and parameters: {'solver_penalty': 'liblinear_l1', 'C': 21.697939174712623}. Best is trial 12 with value: 0.7432856207857311.\n",
      "[I 2024-12-08 18:55:01,752] Trial 18 finished with value: 0.7371440706255336 and parameters: {'solver_penalty': 'liblinear_l2', 'C': 939.278250708654}. Best is trial 12 with value: 0.7432856207857311.\n",
      "[I 2024-12-08 18:55:02,040] Trial 19 finished with value: 0.7375433740324147 and parameters: {'solver_penalty': 'lbfgs_l2', 'C': 0.29773471656885125}. Best is trial 12 with value: 0.7432856207857311.\n",
      "[I 2024-12-08 18:55:02,300] A new study created in memory with name: no-name-f0ee0a66-dc69-43dd-81e8-11ab7f2fa1a5\n",
      "[I 2024-12-08 18:55:02,605] Trial 0 finished with value: 0.741703789501794 and parameters: {'solver_penalty': 'lbfgs_l2', 'C': 0.004104706506012825}. Best is trial 0 with value: 0.741703789501794.\n",
      "[I 2024-12-08 18:55:02,897] Trial 1 finished with value: 0.7402496645468852 and parameters: {'solver_penalty': 'liblinear_l1', 'C': 792.647381271993}. Best is trial 0 with value: 0.741703789501794.\n",
      "[I 2024-12-08 18:55:03,173] Trial 2 finished with value: 0.7393064380337511 and parameters: {'solver_penalty': 'lbfgs_l2', 'C': 0.028753616859724915}. Best is trial 0 with value: 0.741703789501794.\n",
      "[I 2024-12-08 18:55:03,458] Trial 3 finished with value: 0.7152641217338592 and parameters: {'solver_penalty': 'liblinear_l1', 'C': 0.0012882613208866724}. Best is trial 0 with value: 0.741703789501794.\n",
      "[I 2024-12-08 18:55:03,747] Trial 4 finished with value: 0.7405134620460858 and parameters: {'solver_penalty': 'lbfgs_l2', 'C': 0.37946335550719335}. Best is trial 0 with value: 0.741703789501794.\n",
      "[I 2024-12-08 18:55:04,035] Trial 5 finished with value: 0.7397267471424317 and parameters: {'solver_penalty': 'liblinear_l2', 'C': 1.409511193252282}. Best is trial 0 with value: 0.741703789501794.\n",
      "[I 2024-12-08 18:55:04,323] Trial 6 finished with value: 0.7425482609854912 and parameters: {'solver_penalty': 'liblinear_l2', 'C': 0.04401492544928625}. Best is trial 6 with value: 0.7425482609854912.\n",
      "[I 2024-12-08 18:55:04,604] Trial 7 finished with value: 0.7434033658834547 and parameters: {'solver_penalty': 'liblinear_l2', 'C': 0.26872727152722337}. Best is trial 7 with value: 0.7434033658834547.\n",
      "[I 2024-12-08 18:55:04,898] Trial 8 finished with value: 0.7440919938635169 and parameters: {'solver_penalty': 'liblinear_l1', 'C': 0.19758335022832532}. Best is trial 8 with value: 0.7440919938635169.\n",
      "[I 2024-12-08 18:55:05,175] Trial 9 finished with value: 0.7443870194545851 and parameters: {'solver_penalty': 'lbfgs_l2', 'C': 0.003958567451185835}. Best is trial 9 with value: 0.7443870194545851.\n",
      "[I 2024-12-08 18:55:05,471] Trial 10 finished with value: 0.7424903299265104 and parameters: {'solver_penalty': 'lbfgs_l2', 'C': 175.14384177209556}. Best is trial 9 with value: 0.7443870194545851.\n",
      "[I 2024-12-08 18:55:05,753] Trial 11 finished with value: 0.743248185551652 and parameters: {'solver_penalty': 'liblinear_l1', 'C': 10.405502323737151}. Best is trial 9 with value: 0.7443870194545851.\n",
      "[I 2024-12-08 18:55:06,036] Trial 12 finished with value: 0.7466333547733224 and parameters: {'solver_penalty': 'liblinear_l1', 'C': 0.013881571202326422}. Best is trial 12 with value: 0.7466333547733224.\n",
      "[I 2024-12-08 18:55:06,319] Trial 13 finished with value: 0.7454340247842497 and parameters: {'solver_penalty': 'lbfgs_l2', 'C': 0.008952759191853553}. Best is trial 12 with value: 0.7466333547733224.\n",
      "[I 2024-12-08 18:55:06,610] Trial 14 finished with value: 0.7439434388721551 and parameters: {'solver_penalty': 'liblinear_l1', 'C': 0.023916066823331597}. Best is trial 12 with value: 0.7466333547733224.\n",
      "[I 2024-12-08 18:55:06,909] Trial 15 finished with value: 0.7409502637344543 and parameters: {'solver_penalty': 'liblinear_l1', 'C': 3.515563929152351}. Best is trial 12 with value: 0.7466333547733224.\n",
      "[I 2024-12-08 18:55:07,200] Trial 16 finished with value: 0.7470083394097543 and parameters: {'solver_penalty': 'lbfgs_l2', 'C': 0.010407080234988361}. Best is trial 16 with value: 0.7470083394097543.\n",
      "[I 2024-12-08 18:55:07,485] Trial 17 finished with value: 0.7409396266946644 and parameters: {'solver_penalty': 'lbfgs_l2', 'C': 0.09895945789054522}. Best is trial 16 with value: 0.7470083394097543.\n",
      "[I 2024-12-08 18:55:07,774] Trial 18 finished with value: 0.7268665571521598 and parameters: {'solver_penalty': 'liblinear_l1', 'C': 0.0025668588888559745}. Best is trial 16 with value: 0.7470083394097543.\n",
      "[I 2024-12-08 18:55:08,055] Trial 19 finished with value: 0.7367186694221387 and parameters: {'solver_penalty': 'liblinear_l2', 'C': 16.53455837382591}. Best is trial 16 with value: 0.7470083394097543.\n",
      "[I 2024-12-08 18:55:08,247] A new study created in memory with name: no-name-2d8e9bfe-ef7b-4f30-a630-e80b5843712d\n",
      "[I 2024-12-08 18:55:08,538] Trial 0 finished with value: 0.7373077433434692 and parameters: {'solver_penalty': 'lbfgs_l2', 'C': 470.1262488254159}. Best is trial 0 with value: 0.7373077433434692.\n",
      "[I 2024-12-08 18:55:08,860] Trial 1 finished with value: 0.7361554718571784 and parameters: {'solver_penalty': 'lbfgs_l2', 'C': 0.006717739918681264}. Best is trial 0 with value: 0.7373077433434692.\n",
      "[I 2024-12-08 18:55:09,137] Trial 2 finished with value: 0.7411160596114507 and parameters: {'solver_penalty': 'liblinear_l2', 'C': 0.0036604129675819512}. Best is trial 2 with value: 0.7411160596114507.\n",
      "[I 2024-12-08 18:55:09,424] Trial 3 finished with value: 0.7331118166252881 and parameters: {'solver_penalty': 'lbfgs_l2', 'C': 0.005073850371709492}. Best is trial 2 with value: 0.7411160596114507.\n",
      "[I 2024-12-08 18:55:09,715] Trial 4 finished with value: 0.7383155553205494 and parameters: {'solver_penalty': 'liblinear_l1', 'C': 155.61478771720655}. Best is trial 2 with value: 0.7411160596114507.\n",
      "[I 2024-12-08 18:55:10,009] Trial 5 finished with value: 0.7394460570225003 and parameters: {'solver_penalty': 'liblinear_l1', 'C': 0.42530482945763015}. Best is trial 2 with value: 0.7411160596114507.\n",
      "[I 2024-12-08 18:55:10,282] Trial 6 finished with value: 0.7426701678531024 and parameters: {'solver_penalty': 'liblinear_l2', 'C': 0.4914784552618633}. Best is trial 6 with value: 0.7426701678531024.\n",
      "[I 2024-12-08 18:55:10,572] Trial 7 finished with value: 0.7343949573710604 and parameters: {'solver_penalty': 'lbfgs_l2', 'C': 0.004222318579962131}. Best is trial 6 with value: 0.7426701678531024.\n",
      "[I 2024-12-08 18:55:10,862] Trial 8 finished with value: 0.7327850726496588 and parameters: {'solver_penalty': 'liblinear_l1', 'C': 16.386143261833563}. Best is trial 6 with value: 0.7426701678531024.\n",
      "[I 2024-12-08 18:55:11,156] Trial 9 finished with value: 0.7358090145185153 and parameters: {'solver_penalty': 'liblinear_l2', 'C': 0.28960204772389575}. Best is trial 6 with value: 0.7426701678531024.\n",
      "[I 2024-12-08 18:55:11,448] Trial 10 finished with value: 0.7378870029188357 and parameters: {'solver_penalty': 'liblinear_l2', 'C': 3.5486731838112813}. Best is trial 6 with value: 0.7426701678531024.\n",
      "[I 2024-12-08 18:55:11,739] Trial 11 finished with value: 0.7373479680940682 and parameters: {'solver_penalty': 'liblinear_l2', 'C': 0.06249621373893125}. Best is trial 6 with value: 0.7426701678531024.\n",
      "[I 2024-12-08 18:55:12,028] Trial 12 finished with value: 0.7358267492641098 and parameters: {'solver_penalty': 'liblinear_l2', 'C': 10.74847917240014}. Best is trial 6 with value: 0.7426701678531024.\n",
      "[I 2024-12-08 18:55:12,321] Trial 13 finished with value: 0.732341121523769 and parameters: {'solver_penalty': 'liblinear_l2', 'C': 0.04875337536077992}. Best is trial 6 with value: 0.7426701678531024.\n",
      "[I 2024-12-08 18:55:12,613] Trial 14 finished with value: 0.7383009836756603 and parameters: {'solver_penalty': 'liblinear_l2', 'C': 0.0010800946652036356}. Best is trial 6 with value: 0.7426701678531024.\n",
      "[I 2024-12-08 18:55:12,899] Trial 15 finished with value: 0.7411371265835889 and parameters: {'solver_penalty': 'liblinear_l2', 'C': 0.07363561470334454}. Best is trial 6 with value: 0.7426701678531024.\n",
      "[I 2024-12-08 18:55:13,192] Trial 16 finished with value: 0.742866824312936 and parameters: {'solver_penalty': 'liblinear_l2', 'C': 0.04436748695901274}. Best is trial 16 with value: 0.742866824312936.\n",
      "[I 2024-12-08 18:55:13,481] Trial 17 finished with value: 0.7347672202822695 and parameters: {'solver_penalty': 'liblinear_l2', 'C': 2.1758977457050577}. Best is trial 16 with value: 0.742866824312936.\n",
      "[I 2024-12-08 18:55:13,801] Trial 18 finished with value: 0.7372079361219394 and parameters: {'solver_penalty': 'liblinear_l2', 'C': 0.2702341670779451}. Best is trial 16 with value: 0.742866824312936.\n",
      "[I 2024-12-08 18:55:14,081] Trial 19 finished with value: 0.7416997572613476 and parameters: {'solver_penalty': 'liblinear_l1', 'C': 0.02533772484164636}. Best is trial 16 with value: 0.742866824312936.\n",
      "[I 2024-12-08 18:55:14,339] A new study created in memory with name: no-name-b0f1f321-c3f4-4008-859c-35b9e43c910d\n",
      "[I 2024-12-08 18:55:14,624] Trial 0 finished with value: 0.7426256615484043 and parameters: {'solver_penalty': 'lbfgs_l2', 'C': 0.3561574573576886}. Best is trial 0 with value: 0.7426256615484043.\n",
      "[I 2024-12-08 18:55:14,905] Trial 1 finished with value: 0.7410111203145386 and parameters: {'solver_penalty': 'lbfgs_l2', 'C': 0.0018223673020795381}. Best is trial 0 with value: 0.7426256615484043.\n",
      "[I 2024-12-08 18:55:15,195] Trial 2 finished with value: 0.7447776495613433 and parameters: {'solver_penalty': 'liblinear_l1', 'C': 0.01649164445791532}. Best is trial 2 with value: 0.7447776495613433.\n",
      "[I 2024-12-08 18:55:15,480] Trial 3 finished with value: 0.7429035362895966 and parameters: {'solver_penalty': 'lbfgs_l2', 'C': 0.23898096847936015}. Best is trial 2 with value: 0.7447776495613433.\n",
      "[I 2024-12-08 18:55:15,768] Trial 4 finished with value: 0.7385147372240441 and parameters: {'solver_penalty': 'liblinear_l2', 'C': 18.68438238149725}. Best is trial 2 with value: 0.7447776495613433.\n",
      "[I 2024-12-08 18:55:16,048] Trial 5 finished with value: 0.7412003702263762 and parameters: {'solver_penalty': 'liblinear_l2', 'C': 0.006796766416506856}. Best is trial 2 with value: 0.7447776495613433.\n",
      "[I 2024-12-08 18:55:16,330] Trial 6 finished with value: 0.7426862866784993 and parameters: {'solver_penalty': 'liblinear_l2', 'C': 379.14693218561627}. Best is trial 2 with value: 0.7447776495613433.\n",
      "[I 2024-12-08 18:55:16,621] Trial 7 finished with value: 0.7436561943516746 and parameters: {'solver_penalty': 'liblinear_l2', 'C': 57.696879797544426}. Best is trial 2 with value: 0.7447776495613433.\n",
      "[I 2024-12-08 18:55:16,904] Trial 8 finished with value: 0.7391523034795993 and parameters: {'solver_penalty': 'liblinear_l1', 'C': 4.122616821883657}. Best is trial 2 with value: 0.7447776495613433.\n",
      "[I 2024-12-08 18:55:17,186] Trial 9 finished with value: 0.7407208549613007 and parameters: {'solver_penalty': 'liblinear_l2', 'C': 1.4187356400557674}. Best is trial 2 with value: 0.7447776495613433.\n",
      "[I 2024-12-08 18:55:17,484] Trial 10 finished with value: 0.7435982913840822 and parameters: {'solver_penalty': 'liblinear_l1', 'C': 0.03774941243706373}. Best is trial 2 with value: 0.7447776495613433.\n",
      "[I 2024-12-08 18:55:17,777] Trial 11 finished with value: 0.742254070785606 and parameters: {'solver_penalty': 'liblinear_l1', 'C': 958.0477941019683}. Best is trial 2 with value: 0.7447776495613433.\n",
      "[I 2024-12-08 18:55:18,060] Trial 12 finished with value: 0.7422110193607938 and parameters: {'solver_penalty': 'liblinear_l1', 'C': 69.1965140438473}. Best is trial 2 with value: 0.7447776495613433.\n",
      "[I 2024-12-08 18:55:18,341] Trial 13 finished with value: 0.7400924098086862 and parameters: {'solver_penalty': 'liblinear_l2', 'C': 0.0461999113218079}. Best is trial 2 with value: 0.7447776495613433.\n",
      "[I 2024-12-08 18:55:18,634] Trial 14 finished with value: 0.7423668178841858 and parameters: {'solver_penalty': 'liblinear_l1', 'C': 10.935476930851364}. Best is trial 2 with value: 0.7447776495613433.\n",
      "[I 2024-12-08 18:55:18,929] Trial 15 finished with value: 0.7412773392376311 and parameters: {'solver_penalty': 'liblinear_l2', 'C': 99.96924169665408}. Best is trial 2 with value: 0.7447776495613433.\n",
      "[I 2024-12-08 18:55:19,220] Trial 16 finished with value: 0.7426697758763934 and parameters: {'solver_penalty': 'liblinear_l1', 'C': 0.039770514374677476}. Best is trial 2 with value: 0.7447776495613433.\n",
      "[I 2024-12-08 18:55:19,516] Trial 17 finished with value: 0.7369704716536919 and parameters: {'solver_penalty': 'liblinear_l1', 'C': 0.005417862192103645}. Best is trial 2 with value: 0.7447776495613433.\n",
      "[I 2024-12-08 18:55:19,808] Trial 18 finished with value: 0.7402365895522247 and parameters: {'solver_penalty': 'liblinear_l2', 'C': 0.24600358765833685}. Best is trial 2 with value: 0.7447776495613433.\n",
      "[I 2024-12-08 18:55:20,101] Trial 19 finished with value: 0.7406348238718078 and parameters: {'solver_penalty': 'lbfgs_l2', 'C': 0.0010678797334646175}. Best is trial 2 with value: 0.7447776495613433.\n",
      "[I 2024-12-08 18:55:20,326] A new study created in memory with name: no-name-a3a3085d-cdf5-48c7-b22d-cca591f81a4a\n",
      "[I 2024-12-08 18:55:21,105] Trial 0 finished with value: 0.6900822039753635 and parameters: {'n_estimators': 193, 'learning_rate': 0.01801010818507908}. Best is trial 0 with value: 0.6900822039753635.\n",
      "[I 2024-12-08 18:55:22,159] Trial 1 finished with value: 0.7348463623154124 and parameters: {'n_estimators': 314, 'learning_rate': 0.024716393097981838}. Best is trial 1 with value: 0.7348463623154124.\n",
      "[I 2024-12-08 18:55:23,337] Trial 2 finished with value: 0.7437573130154328 and parameters: {'n_estimators': 346, 'learning_rate': 0.17087573799641145}. Best is trial 2 with value: 0.7437573130154328.\n",
      "[I 2024-12-08 18:55:24,360] Trial 3 finished with value: 0.7517346740084199 and parameters: {'n_estimators': 301, 'learning_rate': 0.8389952223760758}. Best is trial 3 with value: 0.7517346740084199.\n",
      "[I 2024-12-08 18:55:25,717] Trial 4 finished with value: 0.7496020940866245 and parameters: {'n_estimators': 422, 'learning_rate': 0.7807496867608672}. Best is trial 3 with value: 0.7517346740084199.\n",
      "[I 2024-12-08 18:55:26,748] Trial 5 finished with value: 0.7347424653450132 and parameters: {'n_estimators': 303, 'learning_rate': 0.025996499000081854}. Best is trial 3 with value: 0.7517346740084199.\n",
      "[I 2024-12-08 18:55:28,043] Trial 6 finished with value: 0.7451992240061129 and parameters: {'n_estimators': 402, 'learning_rate': 0.06004782794347534}. Best is trial 3 with value: 0.7517346740084199.\n",
      "[I 2024-12-08 18:55:28,979] Trial 7 finished with value: 0.7049292281778894 and parameters: {'n_estimators': 263, 'learning_rate': 0.014293137297051993}. Best is trial 3 with value: 0.7517346740084199.\n",
      "[I 2024-12-08 18:55:30,036] Trial 8 finished with value: 0.7353800410922945 and parameters: {'n_estimators': 305, 'learning_rate': 0.022417606995998995}. Best is trial 3 with value: 0.7517346740084199.\n",
      "[I 2024-12-08 18:55:30,571] Trial 9 finished with value: 0.7452815264502608 and parameters: {'n_estimators': 105, 'learning_rate': 0.5888177136816043}. Best is trial 3 with value: 0.7517346740084199.\n",
      "[I 2024-12-08 18:55:32,127] Trial 10 finished with value: 0.7494213072130362 and parameters: {'n_estimators': 495, 'learning_rate': 1.7762500967548562}. Best is trial 3 with value: 0.7517346740084199.\n",
      "[I 2024-12-08 18:55:33,581] Trial 11 finished with value: 0.7527281709829194 and parameters: {'n_estimators': 480, 'learning_rate': 0.5644076051566657}. Best is trial 11 with value: 0.7527281709829194.\n",
      "[I 2024-12-08 18:55:35,134] Trial 12 finished with value: 0.7533701166942891 and parameters: {'n_estimators': 497, 'learning_rate': 0.40202273956331636}. Best is trial 12 with value: 0.7533701166942891.\n",
      "[I 2024-12-08 18:55:36,611] Trial 13 finished with value: 0.7484230640012346 and parameters: {'n_estimators': 487, 'learning_rate': 0.2020489147918464}. Best is trial 12 with value: 0.7533701166942891.\n",
      "[I 2024-12-08 18:55:37,950] Trial 14 finished with value: 0.7530626759274867 and parameters: {'n_estimators': 423, 'learning_rate': 0.3457078131553168}. Best is trial 12 with value: 0.7533701166942891.\n",
      "[I 2024-12-08 18:55:39,261] Trial 15 finished with value: 0.7463359087632171 and parameters: {'n_estimators': 404, 'learning_rate': 0.2868699751843645}. Best is trial 12 with value: 0.7533701166942891.\n",
      "[I 2024-12-08 18:55:40,626] Trial 16 finished with value: 0.7504628213864779 and parameters: {'n_estimators': 431, 'learning_rate': 0.0852056111721513}. Best is trial 12 with value: 0.7533701166942891.\n",
      "[I 2024-12-08 18:55:41,793] Trial 17 finished with value: 0.7450482924751702 and parameters: {'n_estimators': 369, 'learning_rate': 0.3733612042266471}. Best is trial 12 with value: 0.7533701166942891.\n",
      "[I 2024-12-08 18:55:42,686] Trial 18 finished with value: 0.750369003923968 and parameters: {'n_estimators': 244, 'learning_rate': 1.8567301473753166}. Best is trial 12 with value: 0.7533701166942891.\n",
      "[I 2024-12-08 18:55:43,147] Trial 19 finished with value: 0.7283501287968879 and parameters: {'n_estimators': 67, 'learning_rate': 0.07289764436134165}. Best is trial 12 with value: 0.7533701166942891.\n",
      "[I 2024-12-08 18:55:44,590] A new study created in memory with name: no-name-e72998ed-c597-4070-98eb-58b66886757b\n",
      "[I 2024-12-08 18:55:45,457] Trial 0 finished with value: 0.7436335084751571 and parameters: {'n_estimators': 233, 'learning_rate': 0.4106046245181574}. Best is trial 0 with value: 0.7436335084751571.\n",
      "[I 2024-12-08 18:55:46,779] Trial 1 finished with value: 0.7530780228367882 and parameters: {'n_estimators': 421, 'learning_rate': 1.8174751221296304}. Best is trial 1 with value: 0.7530780228367882.\n",
      "[I 2024-12-08 18:55:48,116] Trial 2 finished with value: 0.7449413702063451 and parameters: {'n_estimators': 415, 'learning_rate': 0.19252199880318582}. Best is trial 1 with value: 0.7530780228367882.\n",
      "[I 2024-12-08 18:55:48,657] Trial 3 finished with value: 0.7404291285242959 and parameters: {'n_estimators': 112, 'learning_rate': 0.12104482131379428}. Best is trial 1 with value: 0.7530780228367882.\n",
      "[I 2024-12-08 18:55:49,220] Trial 4 finished with value: 0.7449506216781467 and parameters: {'n_estimators': 117, 'learning_rate': 0.6822280735958252}. Best is trial 1 with value: 0.7530780228367882.\n",
      "[I 2024-12-08 18:55:50,167] Trial 5 finished with value: 0.7493038602997466 and parameters: {'n_estimators': 293, 'learning_rate': 0.5708276754287223}. Best is trial 1 with value: 0.7530780228367882.\n",
      "[I 2024-12-08 18:55:51,577] Trial 6 finished with value: 0.7322386281004306 and parameters: {'n_estimators': 476, 'learning_rate': 0.013651522808479666}. Best is trial 1 with value: 0.7530780228367882.\n",
      "[I 2024-12-08 18:55:52,240] Trial 7 finished with value: 0.7356901245202463 and parameters: {'n_estimators': 160, 'learning_rate': 0.09714838180428358}. Best is trial 1 with value: 0.7530780228367882.\n",
      "[I 2024-12-08 18:55:53,515] Trial 8 finished with value: 0.7288676472068396 and parameters: {'n_estimators': 407, 'learning_rate': 0.016163216024668133}. Best is trial 1 with value: 0.7530780228367882.\n",
      "[I 2024-12-08 18:55:54,740] Trial 9 finished with value: 0.7448793008864529 and parameters: {'n_estimators': 385, 'learning_rate': 0.49848642728282294}. Best is trial 1 with value: 0.7530780228367882.\n",
      "[I 2024-12-08 18:55:55,760] Trial 10 finished with value: 0.7552514563850271 and parameters: {'n_estimators': 308, 'learning_rate': 1.3349261655266844}. Best is trial 10 with value: 0.7552514563850271.\n",
      "[I 2024-12-08 18:55:56,755] Trial 11 finished with value: 0.7475529473965357 and parameters: {'n_estimators': 294, 'learning_rate': 1.8484591270727646}. Best is trial 10 with value: 0.7552514563850271.\n",
      "[I 2024-12-08 18:55:57,896] Trial 12 finished with value: 0.7026294216897143 and parameters: {'n_estimators': 338, 'learning_rate': 1.996333512434048}. Best is trial 10 with value: 0.7552514563850271.\n",
      "[I 2024-12-08 18:55:59,414] Trial 13 finished with value: 0.7622230080053425 and parameters: {'n_estimators': 499, 'learning_rate': 0.9729435291046932}. Best is trial 13 with value: 0.7622230080053425.\n",
      "[I 2024-12-08 18:56:00,172] Trial 14 finished with value: 0.7342370671257601 and parameters: {'n_estimators': 191, 'learning_rate': 0.045490240256802456}. Best is trial 13 with value: 0.7622230080053425.\n",
      "[I 2024-12-08 18:56:01,646] Trial 15 finished with value: 0.7511843109852963 and parameters: {'n_estimators': 495, 'learning_rate': 0.9538421903073743}. Best is trial 13 with value: 0.7622230080053425.\n",
      "[I 2024-12-08 18:56:02,803] Trial 16 finished with value: 0.7464051287684369 and parameters: {'n_estimators': 350, 'learning_rate': 0.25471936146288865}. Best is trial 13 with value: 0.7622230080053425.\n",
      "[I 2024-12-08 18:56:03,203] Trial 17 finished with value: 0.7441271528037986 and parameters: {'n_estimators': 51, 'learning_rate': 1.0472214830196942}. Best is trial 13 with value: 0.7622230080053425.\n",
      "[I 2024-12-08 18:56:04,110] Trial 18 finished with value: 0.7421892361016479 and parameters: {'n_estimators': 247, 'learning_rate': 0.06377035861000928}. Best is trial 13 with value: 0.7622230080053425.\n",
      "[I 2024-12-08 18:56:05,545] Trial 19 finished with value: 0.7498373104578951 and parameters: {'n_estimators': 452, 'learning_rate': 1.033861038413094}. Best is trial 13 with value: 0.7622230080053425.\n",
      "[I 2024-12-08 18:56:06,700] A new study created in memory with name: no-name-3a3ce845-817e-4e8e-9f58-b4fe697428e4\n",
      "[I 2024-12-08 18:56:07,248] Trial 0 finished with value: 0.7372337096864668 and parameters: {'n_estimators': 108, 'learning_rate': 0.6989190338997704}. Best is trial 0 with value: 0.7372337096864668.\n",
      "[I 2024-12-08 18:56:08,100] Trial 1 finished with value: 0.7453850010289704 and parameters: {'n_estimators': 241, 'learning_rate': 0.5442749076103389}. Best is trial 1 with value: 0.7453850010289704.\n",
      "[I 2024-12-08 18:56:08,972] Trial 2 finished with value: 0.6797363611105988 and parameters: {'n_estimators': 239, 'learning_rate': 0.010000033580718798}. Best is trial 1 with value: 0.7453850010289704.\n",
      "[I 2024-12-08 18:56:10,178] Trial 3 finished with value: 0.7510663374223364 and parameters: {'n_estimators': 386, 'learning_rate': 1.0673896767861033}. Best is trial 3 with value: 0.7510663374223364.\n",
      "[I 2024-12-08 18:56:11,407] Trial 4 finished with value: 0.7450156973046361 and parameters: {'n_estimators': 390, 'learning_rate': 0.08990987583689135}. Best is trial 3 with value: 0.7510663374223364.\n",
      "[I 2024-12-08 18:56:12,101] Trial 5 finished with value: 0.7403862315569949 and parameters: {'n_estimators': 174, 'learning_rate': 0.4338302448339525}. Best is trial 3 with value: 0.7510663374223364.\n",
      "[I 2024-12-08 18:56:13,317] Trial 6 finished with value: 0.7461381125783522 and parameters: {'n_estimators': 389, 'learning_rate': 0.11114366338042145}. Best is trial 3 with value: 0.7510663374223364.\n",
      "[I 2024-12-08 18:56:14,020] Trial 7 finished with value: 0.7434850891012688 and parameters: {'n_estimators': 168, 'learning_rate': 0.0850276542367237}. Best is trial 3 with value: 0.7510663374223364.\n",
      "[I 2024-12-08 18:56:15,460] Trial 8 finished with value: 0.7504676325537932 and parameters: {'n_estimators': 461, 'learning_rate': 0.3360290494097503}. Best is trial 3 with value: 0.7510663374223364.\n",
      "[I 2024-12-08 18:56:16,754] Trial 9 finished with value: 0.742857317941987 and parameters: {'n_estimators': 404, 'learning_rate': 0.28219441080236307}. Best is trial 3 with value: 0.7510663374223364.\n",
      "[I 2024-12-08 18:56:17,816] Trial 10 finished with value: 0.7471703171119335 and parameters: {'n_estimators': 317, 'learning_rate': 1.6584802867067716}. Best is trial 3 with value: 0.7510663374223364.\n",
      "[I 2024-12-08 18:56:19,298] Trial 11 finished with value: 0.7501771885111348 and parameters: {'n_estimators': 491, 'learning_rate': 1.689383095467042}. Best is trial 3 with value: 0.7510663374223364.\n",
      "[I 2024-12-08 18:56:20,778] Trial 12 finished with value: 0.7560482873351105 and parameters: {'n_estimators': 493, 'learning_rate': 0.9252303628222017}. Best is trial 12 with value: 0.7560482873351105.\n",
      "[I 2024-12-08 18:56:21,857] Trial 13 finished with value: 0.752024034315993 and parameters: {'n_estimators': 321, 'learning_rate': 1.1402076410964903}. Best is trial 12 with value: 0.7560482873351105.\n",
      "[I 2024-12-08 18:56:22,923] Trial 14 finished with value: 0.7398186098555114 and parameters: {'n_estimators': 309, 'learning_rate': 0.03602395116294636}. Best is trial 12 with value: 0.7560482873351105.\n",
      "[I 2024-12-08 18:56:24,316] Trial 15 finished with value: 0.7488436792325239 and parameters: {'n_estimators': 449, 'learning_rate': 0.22030337655523421}. Best is trial 12 with value: 0.7560482873351105.\n",
      "[I 2024-12-08 18:56:25,416] Trial 16 finished with value: 0.7534391167627793 and parameters: {'n_estimators': 331, 'learning_rate': 0.8953097774321656}. Best is trial 12 with value: 0.7560482873351105.\n",
      "[I 2024-12-08 18:56:25,914] Trial 17 finished with value: 0.7380045025623377 and parameters: {'n_estimators': 88, 'learning_rate': 0.7169357800675298}. Best is trial 12 with value: 0.7560482873351105.\n",
      "[I 2024-12-08 18:56:27,032] Trial 18 finished with value: 0.7439764054276046 and parameters: {'n_estimators': 345, 'learning_rate': 0.18068420898740103}. Best is trial 12 with value: 0.7560482873351105.\n",
      "[I 2024-12-08 18:56:27,946] Trial 19 finished with value: 0.7379985818870437 and parameters: {'n_estimators': 263, 'learning_rate': 0.038448230523998386}. Best is trial 12 with value: 0.7560482873351105.\n",
      "[I 2024-12-08 18:56:29,225] A new study created in memory with name: no-name-60d031da-0ead-43e2-8944-29c099c59753\n",
      "[I 2024-12-08 18:56:30,366] Trial 0 finished with value: 0.7448051264587883 and parameters: {'n_estimators': 335, 'learning_rate': 0.045388605655437855}. Best is trial 0 with value: 0.7448051264587883.\n",
      "[I 2024-12-08 18:56:31,350] Trial 1 finished with value: 0.735347822824158 and parameters: {'n_estimators': 281, 'learning_rate': 0.03237904262852553}. Best is trial 0 with value: 0.7448051264587883.\n",
      "[I 2024-12-08 18:56:32,686] Trial 2 finished with value: 0.7505500097227884 and parameters: {'n_estimators': 417, 'learning_rate': 0.28610827730237093}. Best is trial 2 with value: 0.7505500097227884.\n",
      "[I 2024-12-08 18:56:33,865] Trial 3 finished with value: 0.6907296417228964 and parameters: {'n_estimators': 356, 'learning_rate': 0.01050138475389902}. Best is trial 2 with value: 0.7505500097227884.\n",
      "[I 2024-12-08 18:56:35,316] Trial 4 finished with value: 0.7470573133904723 and parameters: {'n_estimators': 462, 'learning_rate': 0.06257208239005}. Best is trial 2 with value: 0.7505500097227884.\n",
      "[I 2024-12-08 18:56:36,195] Trial 5 finished with value: 0.6976770927370209 and parameters: {'n_estimators': 237, 'learning_rate': 0.015439474056774174}. Best is trial 2 with value: 0.7505500097227884.\n",
      "[I 2024-12-08 18:56:37,677] Trial 6 finished with value: 0.7440216994688271 and parameters: {'n_estimators': 490, 'learning_rate': 0.0668011808185753}. Best is trial 2 with value: 0.7505500097227884.\n",
      "[I 2024-12-08 18:56:38,828] Trial 7 finished with value: 0.7515956283525126 and parameters: {'n_estimators': 350, 'learning_rate': 1.2867941875926947}. Best is trial 7 with value: 0.7515956283525126.\n",
      "[I 2024-12-08 18:56:40,228] Trial 8 finished with value: 0.7344619527669872 and parameters: {'n_estimators': 444, 'learning_rate': 0.01624024715793993}. Best is trial 7 with value: 0.7515956283525126.\n",
      "[I 2024-12-08 18:56:41,339] Trial 9 finished with value: 0.7345887066629374 and parameters: {'n_estimators': 324, 'learning_rate': 0.017870709782904257}. Best is trial 7 with value: 0.7515956283525126.\n",
      "[I 2024-12-08 18:56:42,095] Trial 10 finished with value: 0.7538963573556581 and parameters: {'n_estimators': 191, 'learning_rate': 1.7377355644747667}. Best is trial 10 with value: 0.7538963573556581.\n",
      "[I 2024-12-08 18:56:42,660] Trial 11 finished with value: 0.7440706717345427 and parameters: {'n_estimators': 112, 'learning_rate': 1.784657547510261}. Best is trial 10 with value: 0.7538963573556581.\n",
      "[I 2024-12-08 18:56:43,462] Trial 12 finished with value: 0.7268723990882494 and parameters: {'n_estimators': 182, 'learning_rate': 1.9542818826231358}. Best is trial 10 with value: 0.7538963573556581.\n",
      "[I 2024-12-08 18:56:43,885] Trial 13 finished with value: 0.7385214587637676 and parameters: {'n_estimators': 59, 'learning_rate': 0.6397585066371684}. Best is trial 10 with value: 0.7538963573556581.\n",
      "[I 2024-12-08 18:56:44,682] Trial 14 finished with value: 0.7460623707034957 and parameters: {'n_estimators': 197, 'learning_rate': 0.7522422508597687}. Best is trial 10 with value: 0.7538963573556581.\n",
      "[I 2024-12-08 18:56:45,376] Trial 15 finished with value: 0.753208724479504 and parameters: {'n_estimators': 166, 'learning_rate': 0.7949424277435606}. Best is trial 10 with value: 0.7538963573556581.\n",
      "[I 2024-12-08 18:56:46,007] Trial 16 finished with value: 0.7440229848773048 and parameters: {'n_estimators': 135, 'learning_rate': 0.2255097636960591}. Best is trial 10 with value: 0.7538963573556581.\n",
      "[I 2024-12-08 18:56:46,683] Trial 17 finished with value: 0.7462814799870907 and parameters: {'n_estimators': 156, 'learning_rate': 0.49614111205180544}. Best is trial 10 with value: 0.7538963573556581.\n",
      "[I 2024-12-08 18:56:47,138] Trial 18 finished with value: 0.745950568950051 and parameters: {'n_estimators': 72, 'learning_rate': 0.9372930254469869}. Best is trial 10 with value: 0.7538963573556581.\n",
      "[I 2024-12-08 18:56:48,013] Trial 19 finished with value: 0.7489216429369752 and parameters: {'n_estimators': 235, 'learning_rate': 0.38535664949963583}. Best is trial 10 with value: 0.7538963573556581.\n",
      "[I 2024-12-08 18:56:48,562] A new study created in memory with name: no-name-9c8e759d-d1ac-47a4-943c-200bd0c817cb\n",
      "[I 2024-12-08 18:56:49,188] Trial 0 finished with value: 0.6765918826504093 and parameters: {'n_estimators': 139, 'learning_rate': 0.01355200677621686}. Best is trial 0 with value: 0.6765918826504093.\n",
      "[I 2024-12-08 18:56:49,754] Trial 1 finished with value: 0.7208250889837818 and parameters: {'n_estimators': 119, 'learning_rate': 0.039869846207736225}. Best is trial 1 with value: 0.7208250889837818.\n",
      "[I 2024-12-08 18:56:50,269] Trial 2 finished with value: 0.6753210532759913 and parameters: {'n_estimators': 95, 'learning_rate': 0.013699912322684223}. Best is trial 1 with value: 0.7208250889837818.\n",
      "[I 2024-12-08 18:56:51,068] Trial 3 finished with value: 0.7530088075177754 and parameters: {'n_estimators': 207, 'learning_rate': 0.9785491526819717}. Best is trial 3 with value: 0.7530088075177754.\n",
      "[I 2024-12-08 18:56:52,355] Trial 4 finished with value: 0.7542559100033126 and parameters: {'n_estimators': 405, 'learning_rate': 1.130971340598003}. Best is trial 4 with value: 0.7542559100033126.\n",
      "[I 2024-12-08 18:56:53,394] Trial 5 finished with value: 0.7052944376114778 and parameters: {'n_estimators': 316, 'learning_rate': 0.012444370592885091}. Best is trial 4 with value: 0.7542559100033126.\n",
      "[I 2024-12-08 18:56:54,656] Trial 6 finished with value: 0.7522429496076931 and parameters: {'n_estimators': 409, 'learning_rate': 0.6455904498739444}. Best is trial 4 with value: 0.7542559100033126.\n",
      "[I 2024-12-08 18:56:56,117] Trial 7 finished with value: 0.7441537891013195 and parameters: {'n_estimators': 488, 'learning_rate': 1.8462185887884308}. Best is trial 4 with value: 0.7542559100033126.\n",
      "[I 2024-12-08 18:56:57,101] Trial 8 finished with value: 0.753320297730115 and parameters: {'n_estimators': 287, 'learning_rate': 0.9791792425173294}. Best is trial 4 with value: 0.7542559100033126.\n",
      "[I 2024-12-08 18:56:58,037] Trial 9 finished with value: 0.7412457708739321 and parameters: {'n_estimators': 263, 'learning_rate': 0.5565810370560661}. Best is trial 4 with value: 0.7542559100033126.\n",
      "[I 2024-12-08 18:56:59,260] Trial 10 finished with value: 0.7462534301625258 and parameters: {'n_estimators': 393, 'learning_rate': 0.16338681676381983}. Best is trial 4 with value: 0.7542559100033126.\n",
      "[I 2024-12-08 18:57:00,378] Trial 11 finished with value: 0.7427722647250352 and parameters: {'n_estimators': 341, 'learning_rate': 0.27312735929782156}. Best is trial 4 with value: 0.7542559100033126.\n",
      "[I 2024-12-08 18:57:01,924] Trial 12 finished with value: 0.7345026776172737 and parameters: {'n_estimators': 488, 'learning_rate': 1.9612033642954578}. Best is trial 4 with value: 0.7542559100033126.\n",
      "[I 2024-12-08 18:57:02,741] Trial 13 finished with value: 0.7425817411237375 and parameters: {'n_estimators': 213, 'learning_rate': 0.07816395047440564}. Best is trial 4 with value: 0.7542559100033126.\n",
      "[I 2024-12-08 18:57:04,026] Trial 14 finished with value: 0.742676651243317 and parameters: {'n_estimators': 405, 'learning_rate': 0.3438111318491957}. Best is trial 4 with value: 0.7542559100033126.\n",
      "[I 2024-12-08 18:57:05,078] Trial 15 finished with value: 0.7521811241017351 and parameters: {'n_estimators': 325, 'learning_rate': 1.0080857144312148}. Best is trial 4 with value: 0.7542559100033126.\n",
      "[I 2024-12-08 18:57:05,950] Trial 16 finished with value: 0.7403913794963092 and parameters: {'n_estimators': 243, 'learning_rate': 0.1306813741763693}. Best is trial 4 with value: 0.7542559100033126.\n",
      "[I 2024-12-08 18:57:06,347] Trial 17 finished with value: 0.7361219217913166 and parameters: {'n_estimators': 53, 'learning_rate': 1.0372923095243238}. Best is trial 4 with value: 0.7542559100033126.\n",
      "[I 2024-12-08 18:57:07,563] Trial 18 finished with value: 0.7473051748076305 and parameters: {'n_estimators': 375, 'learning_rate': 0.4777602816443038}. Best is trial 4 with value: 0.7542559100033126.\n",
      "[I 2024-12-08 18:57:08,572] Trial 19 finished with value: 0.742397558909905 and parameters: {'n_estimators': 293, 'learning_rate': 0.22084614118784224}. Best is trial 4 with value: 0.7542559100033126.\n",
      "[I 2024-12-08 18:57:09,391] A new study created in memory with name: no-name-05d6410c-42f6-45d1-975d-0fbdc79495e7\n",
      "[I 2024-12-08 18:57:10,563] Trial 0 finished with value: 0.708725817416863 and parameters: {'n_estimators': 352, 'learning_rate': 0.011388982611412126}. Best is trial 0 with value: 0.708725817416863.\n",
      "[I 2024-12-08 18:57:11,919] Trial 1 finished with value: 0.7475520627646984 and parameters: {'n_estimators': 455, 'learning_rate': 0.1758491141182893}. Best is trial 1 with value: 0.7475520627646984.\n",
      "[I 2024-12-08 18:57:13,367] Trial 2 finished with value: 0.7422972585942649 and parameters: {'n_estimators': 452, 'learning_rate': 0.28043067696328094}. Best is trial 1 with value: 0.7475520627646984.\n",
      "[I 2024-12-08 18:57:14,089] Trial 3 finished with value: 0.7359351883401567 and parameters: {'n_estimators': 184, 'learning_rate': 0.09747915248757566}. Best is trial 1 with value: 0.7475520627646984.\n",
      "[I 2024-12-08 18:57:15,369] Trial 4 finished with value: 0.7124075243518029 and parameters: {'n_estimators': 409, 'learning_rate': 0.010673431716050421}. Best is trial 1 with value: 0.7475520627646984.\n",
      "[I 2024-12-08 18:57:16,737] Trial 5 finished with value: 0.7451007795185687 and parameters: {'n_estimators': 450, 'learning_rate': 0.06610536205843091}. Best is trial 1 with value: 0.7475520627646984.\n",
      "[I 2024-12-08 18:57:17,749] Trial 6 finished with value: 0.7184106844888433 and parameters: {'n_estimators': 297, 'learning_rate': 0.014671096497278609}. Best is trial 1 with value: 0.7475520627646984.\n",
      "[I 2024-12-08 18:57:18,985] Trial 7 finished with value: 0.7473342795625498 and parameters: {'n_estimators': 373, 'learning_rate': 1.773302854094752}. Best is trial 1 with value: 0.7475520627646984.\n",
      "[I 2024-12-08 18:57:19,871] Trial 8 finished with value: 0.7320620813887124 and parameters: {'n_estimators': 238, 'learning_rate': 0.03555051364745372}. Best is trial 1 with value: 0.7475520627646984.\n",
      "[I 2024-12-08 18:57:21,112] Trial 9 finished with value: 0.7424469702348021 and parameters: {'n_estimators': 397, 'learning_rate': 0.19559009404165106}. Best is trial 1 with value: 0.7475520627646984.\n",
      "[I 2024-12-08 18:57:21,609] Trial 10 finished with value: 0.7392817996338941 and parameters: {'n_estimators': 83, 'learning_rate': 0.5425521532832426}. Best is trial 1 with value: 0.7475520627646984.\n",
      "[I 2024-12-08 18:57:23,157] Trial 11 finished with value: 0.7530089676976128 and parameters: {'n_estimators': 498, 'learning_rate': 1.782374070677849}. Best is trial 11 with value: 0.7530089676976128.\n",
      "[I 2024-12-08 18:57:24,673] Trial 12 finished with value: 0.7457735223434723 and parameters: {'n_estimators': 492, 'learning_rate': 1.8923805882130729}. Best is trial 11 with value: 0.7530089676976128.\n",
      "[I 2024-12-08 18:57:26,182] Trial 13 finished with value: 0.7434678553443715 and parameters: {'n_estimators': 499, 'learning_rate': 0.6746921425790772}. Best is trial 11 with value: 0.7530089676976128.\n",
      "[I 2024-12-08 18:57:27,282] Trial 14 finished with value: 0.7435723854546968 and parameters: {'n_estimators': 333, 'learning_rate': 0.7262262954315865}. Best is trial 11 with value: 0.7530089676976128.\n",
      "[I 2024-12-08 18:57:28,623] Trial 15 finished with value: 0.7374086389214257 and parameters: {'n_estimators': 441, 'learning_rate': 0.04034017569036875}. Best is trial 11 with value: 0.7530089676976128.\n",
      "[I 2024-12-08 18:57:29,238] Trial 16 finished with value: 0.740436682484243 and parameters: {'n_estimators': 144, 'learning_rate': 0.3766479237951912}. Best is trial 11 with value: 0.7530089676976128.\n",
      "[I 2024-12-08 18:57:30,162] Trial 17 finished with value: 0.7443304476429762 and parameters: {'n_estimators': 269, 'learning_rate': 1.0156318470384782}. Best is trial 11 with value: 0.7530089676976128.\n",
      "[I 2024-12-08 18:57:31,692] Trial 18 finished with value: 0.7494948083762583 and parameters: {'n_estimators': 500, 'learning_rate': 0.2011592372646739}. Best is trial 11 with value: 0.7530089676976128.\n",
      "[I 2024-12-08 18:57:33,210] Trial 19 finished with value: 0.7511314273739259 and parameters: {'n_estimators': 499, 'learning_rate': 1.1609624572409192}. Best is trial 11 with value: 0.7530089676976128.\n",
      "[I 2024-12-08 18:57:34,638] A new study created in memory with name: no-name-5fc14cbc-b61a-40ad-b17a-b8909531a664\n",
      "[I 2024-12-08 18:57:35,456] Trial 0 finished with value: 0.7462594747180332 and parameters: {'n_estimators': 213, 'learning_rate': 0.265501362206357}. Best is trial 0 with value: 0.7462594747180332.\n",
      "[I 2024-12-08 18:57:36,597] Trial 1 finished with value: 0.7393739868091038 and parameters: {'n_estimators': 348, 'learning_rate': 0.049219062955562685}. Best is trial 0 with value: 0.7462594747180332.\n",
      "[I 2024-12-08 18:57:37,914] Trial 2 finished with value: 0.7285414550409183 and parameters: {'n_estimators': 416, 'learning_rate': 0.01559644278422015}. Best is trial 0 with value: 0.7462594747180332.\n",
      "[I 2024-12-08 18:57:38,530] Trial 3 finished with value: 0.7445197786981452 and parameters: {'n_estimators': 143, 'learning_rate': 1.4966494257663396}. Best is trial 0 with value: 0.7462594747180332.\n",
      "[I 2024-12-08 18:57:39,407] Trial 4 finished with value: 0.7468497788897656 and parameters: {'n_estimators': 247, 'learning_rate': 0.23411717713745742}. Best is trial 4 with value: 0.7468497788897656.\n",
      "[I 2024-12-08 18:57:40,031] Trial 5 finished with value: 0.7381113767452568 and parameters: {'n_estimators': 133, 'learning_rate': 0.1439963101206956}. Best is trial 4 with value: 0.7468497788897656.\n",
      "[I 2024-12-08 18:57:41,082] Trial 6 finished with value: 0.7527593767547379 and parameters: {'n_estimators': 308, 'learning_rate': 0.7958369857046241}. Best is trial 6 with value: 0.7527593767547379.\n",
      "[I 2024-12-08 18:57:41,838] Trial 7 finished with value: 0.7164303644303647 and parameters: {'n_estimators': 201, 'learning_rate': 0.022786849478910107}. Best is trial 6 with value: 0.7527593767547379.\n",
      "[I 2024-12-08 18:57:42,645] Trial 8 finished with value: 0.6850093984348262 and parameters: {'n_estimators': 225, 'learning_rate': 0.01381617320124092}. Best is trial 6 with value: 0.7527593767547379.\n",
      "[I 2024-12-08 18:57:44,081] Trial 9 finished with value: 0.7488603178180109 and parameters: {'n_estimators': 458, 'learning_rate': 0.24428557355269986}. Best is trial 6 with value: 0.7527593767547379.\n",
      "[I 2024-12-08 18:57:45,232] Trial 10 finished with value: 0.7430897461582114 and parameters: {'n_estimators': 343, 'learning_rate': 1.5238539244535578}. Best is trial 6 with value: 0.7527593767547379.\n",
      "[I 2024-12-08 18:57:46,772] Trial 11 finished with value: 0.7478014289828543 and parameters: {'n_estimators': 498, 'learning_rate': 0.608666771442857}. Best is trial 6 with value: 0.7527593767547379.\n",
      "[I 2024-12-08 18:57:48,250] Trial 12 finished with value: 0.7511515240610078 and parameters: {'n_estimators': 493, 'learning_rate': 0.5097934891392917}. Best is trial 6 with value: 0.7527593767547379.\n",
      "[I 2024-12-08 18:57:49,340] Trial 13 finished with value: 0.7461089656179101 and parameters: {'n_estimators': 333, 'learning_rate': 0.5989427069197156}. Best is trial 6 with value: 0.7527593767547379.\n",
      "[I 2024-12-08 18:57:50,611] Trial 14 finished with value: 0.7483547165796682 and parameters: {'n_estimators': 411, 'learning_rate': 0.6003206875408613}. Best is trial 6 with value: 0.7527593767547379.\n",
      "[I 2024-12-08 18:57:51,557] Trial 15 finished with value: 0.7569223173744566 and parameters: {'n_estimators': 275, 'learning_rate': 0.9046280594780015}. Best is trial 15 with value: 0.7569223173744566.\n",
      "[I 2024-12-08 18:57:52,019] Trial 16 finished with value: 0.7467647884699151 and parameters: {'n_estimators': 70, 'learning_rate': 1.6666862481646352}. Best is trial 15 with value: 0.7569223173744566.\n",
      "[I 2024-12-08 18:57:53,058] Trial 17 finished with value: 0.7577259582543477 and parameters: {'n_estimators': 297, 'learning_rate': 0.989589113712951}. Best is trial 17 with value: 0.7577259582543477.\n",
      "[I 2024-12-08 18:57:54,033] Trial 18 finished with value: 0.7431685369040629 and parameters: {'n_estimators': 277, 'learning_rate': 0.06741880295808153}. Best is trial 17 with value: 0.7577259582543477.\n",
      "[I 2024-12-08 18:57:55,282] Trial 19 finished with value: 0.7490412494077997 and parameters: {'n_estimators': 402, 'learning_rate': 1.0261663809376254}. Best is trial 17 with value: 0.7577259582543477.\n",
      "[I 2024-12-08 18:57:56,392] A new study created in memory with name: no-name-85bbb877-3e0d-404c-9d36-b4e1ed11eeb1\n",
      "[I 2024-12-08 18:57:56,896] Trial 0 finished with value: 0.7452701027324984 and parameters: {'n_estimators': 89, 'learning_rate': 0.31736366233719376}. Best is trial 0 with value: 0.7452701027324984.\n",
      "[I 2024-12-08 18:57:58,271] Trial 1 finished with value: 0.7471315422902532 and parameters: {'n_estimators': 446, 'learning_rate': 0.07710942332176998}. Best is trial 1 with value: 0.7471315422902532.\n",
      "[I 2024-12-08 18:57:59,731] Trial 2 finished with value: 0.7552190814089288 and parameters: {'n_estimators': 495, 'learning_rate': 0.8623623408385855}. Best is trial 2 with value: 0.7552190814089288.\n",
      "[I 2024-12-08 18:58:01,126] Trial 3 finished with value: 0.7334837982686435 and parameters: {'n_estimators': 465, 'learning_rate': 0.011271657276938171}. Best is trial 2 with value: 0.7552190814089288.\n",
      "[I 2024-12-08 18:58:02,492] Trial 4 finished with value: 0.7444263975803884 and parameters: {'n_estimators': 434, 'learning_rate': 0.06643173982598574}. Best is trial 2 with value: 0.7552190814089288.\n",
      "[I 2024-12-08 18:58:03,059] Trial 5 finished with value: 0.7209699383784568 and parameters: {'n_estimators': 119, 'learning_rate': 0.04188177286214539}. Best is trial 2 with value: 0.7552190814089288.\n",
      "[I 2024-12-08 18:58:04,437] Trial 6 finished with value: 0.744590897391013 and parameters: {'n_estimators': 443, 'learning_rate': 0.045101117706597985}. Best is trial 2 with value: 0.7552190814089288.\n",
      "[I 2024-12-08 18:58:05,462] Trial 7 finished with value: 0.7380417529712833 and parameters: {'n_estimators': 290, 'learning_rate': 0.02944159625003047}. Best is trial 2 with value: 0.7552190814089288.\n",
      "[I 2024-12-08 18:58:06,113] Trial 8 finished with value: 0.7442565556467793 and parameters: {'n_estimators': 146, 'learning_rate': 0.3082417690707832}. Best is trial 2 with value: 0.7552190814089288.\n",
      "[I 2024-12-08 18:58:07,518] Trial 9 finished with value: 0.7452376738981475 and parameters: {'n_estimators': 471, 'learning_rate': 0.10851259397839365}. Best is trial 2 with value: 0.7552190814089288.\n",
      "[I 2024-12-08 18:58:08,668] Trial 10 finished with value: 0.7497101934010717 and parameters: {'n_estimators': 332, 'learning_rate': 1.7749805600544166}. Best is trial 2 with value: 0.7552190814089288.\n",
      "[I 2024-12-08 18:58:09,687] Trial 11 finished with value: 0.753931412899754 and parameters: {'n_estimators': 291, 'learning_rate': 1.6780525222298228}. Best is trial 2 with value: 0.7552190814089288.\n",
      "[I 2024-12-08 18:58:10,455] Trial 12 finished with value: 0.7504574833103895 and parameters: {'n_estimators': 202, 'learning_rate': 1.680329185373138}. Best is trial 2 with value: 0.7552190814089288.\n",
      "[I 2024-12-08 18:58:11,638] Trial 13 finished with value: 0.7515485484058979 and parameters: {'n_estimators': 353, 'learning_rate': 0.7225490002348397}. Best is trial 2 with value: 0.7552190814089288.\n",
      "[I 2024-12-08 18:58:12,433] Trial 14 finished with value: 0.745315057924938 and parameters: {'n_estimators': 208, 'learning_rate': 0.7660649717399985}. Best is trial 2 with value: 0.7552190814089288.\n",
      "[I 2024-12-08 18:58:13,636] Trial 15 finished with value: 0.7528174885056301 and parameters: {'n_estimators': 379, 'learning_rate': 0.702612164617443}. Best is trial 2 with value: 0.7552190814089288.\n",
      "[I 2024-12-08 18:58:14,490] Trial 16 finished with value: 0.750720095125297 and parameters: {'n_estimators': 242, 'learning_rate': 0.24903304516057226}. Best is trial 2 with value: 0.7552190814089288.\n",
      "[I 2024-12-08 18:58:15,776] Trial 17 finished with value: 0.7639200509169474 and parameters: {'n_estimators': 397, 'learning_rate': 1.1083040259550927}. Best is trial 17 with value: 0.7639200509169474.\n",
      "[I 2024-12-08 18:58:17,265] Trial 18 finished with value: 0.7552957528904123 and parameters: {'n_estimators': 499, 'learning_rate': 0.8983260439410166}. Best is trial 17 with value: 0.7639200509169474.\n",
      "[I 2024-12-08 18:58:18,538] Trial 19 finished with value: 0.7494663567394998 and parameters: {'n_estimators': 400, 'learning_rate': 0.20120617783283448}. Best is trial 17 with value: 0.7639200509169474.\n",
      "[I 2024-12-08 18:58:19,678] A new study created in memory with name: no-name-38bf397d-19f6-4abd-aa96-2b119cc45956\n",
      "[I 2024-12-08 18:58:21,033] Trial 0 finished with value: 0.7160746814415065 and parameters: {'n_estimators': 421, 'learning_rate': 0.010041956238750045}. Best is trial 0 with value: 0.7160746814415065.\n",
      "[I 2024-12-08 18:58:22,063] Trial 1 finished with value: 0.7117269358776611 and parameters: {'n_estimators': 302, 'learning_rate': 0.014087196934656338}. Best is trial 0 with value: 0.7160746814415065.\n",
      "[I 2024-12-08 18:58:22,843] Trial 2 finished with value: 0.7170304341357634 and parameters: {'n_estimators': 202, 'learning_rate': 0.023502475227266863}. Best is trial 2 with value: 0.7170304341357634.\n",
      "[I 2024-12-08 18:58:23,575] Trial 3 finished with value: 0.7449977085934663 and parameters: {'n_estimators': 184, 'learning_rate': 1.5025602774062812}. Best is trial 3 with value: 0.7449977085934663.\n",
      "[I 2024-12-08 18:58:24,206] Trial 4 finished with value: 0.7389131889189201 and parameters: {'n_estimators': 144, 'learning_rate': 0.6075178430133388}. Best is trial 3 with value: 0.7449977085934663.\n",
      "[I 2024-12-08 18:58:25,563] Trial 5 finished with value: 0.7481819641240833 and parameters: {'n_estimators': 437, 'learning_rate': 0.2907080653544804}. Best is trial 5 with value: 0.7481819641240833.\n",
      "[I 2024-12-08 18:58:26,324] Trial 6 finished with value: 0.7406184295062931 and parameters: {'n_estimators': 202, 'learning_rate': 0.4685034191920147}. Best is trial 5 with value: 0.7481819641240833.\n",
      "[I 2024-12-08 18:58:26,841] Trial 7 finished with value: 0.7381076187233342 and parameters: {'n_estimators': 95, 'learning_rate': 0.09938348310843662}. Best is trial 5 with value: 0.7481819641240833.\n",
      "[I 2024-12-08 18:58:27,415] Trial 8 finished with value: 0.741453374860748 and parameters: {'n_estimators': 112, 'learning_rate': 0.12136788616857536}. Best is trial 5 with value: 0.7481819641240833.\n",
      "[I 2024-12-08 18:58:28,331] Trial 9 finished with value: 0.7085717489738248 and parameters: {'n_estimators': 244, 'learning_rate': 0.01748692798521489}. Best is trial 5 with value: 0.7481819641240833.\n",
      "[I 2024-12-08 18:58:29,810] Trial 10 finished with value: 0.742862401254251 and parameters: {'n_estimators': 474, 'learning_rate': 0.05161481663056548}. Best is trial 5 with value: 0.7481819641240833.\n",
      "[I 2024-12-08 18:58:30,903] Trial 11 finished with value: 0.7413668985320085 and parameters: {'n_estimators': 334, 'learning_rate': 1.8741512526572937}. Best is trial 5 with value: 0.7481819641240833.\n",
      "[I 2024-12-08 18:58:32,038] Trial 12 finished with value: 0.7435463332119505 and parameters: {'n_estimators': 356, 'learning_rate': 0.3742700541105463}. Best is trial 5 with value: 0.7481819641240833.\n",
      "[I 2024-12-08 18:58:33,525] Trial 13 finished with value: 0.7334823619426108 and parameters: {'n_estimators': 500, 'learning_rate': 1.9680881900557103}. Best is trial 5 with value: 0.7481819641240833.\n",
      "[I 2024-12-08 18:58:33,928] Trial 14 finished with value: 0.737470510556967 and parameters: {'n_estimators': 52, 'learning_rate': 0.9569268617389672}. Best is trial 5 with value: 0.7481819641240833.\n",
      "[I 2024-12-08 18:58:35,172] Trial 15 finished with value: 0.7436903619686654 and parameters: {'n_estimators': 404, 'learning_rate': 0.22809859730674303}. Best is trial 5 with value: 0.7481819641240833.\n",
      "[I 2024-12-08 18:58:36,067] Trial 16 finished with value: 0.7466386643405021 and parameters: {'n_estimators': 240, 'learning_rate': 0.9522328022246661}. Best is trial 5 with value: 0.7481819641240833.\n",
      "[I 2024-12-08 18:58:36,989] Trial 17 finished with value: 0.742921573856164 and parameters: {'n_estimators': 266, 'learning_rate': 0.23857342997132}. Best is trial 5 with value: 0.7481819641240833.\n",
      "[I 2024-12-08 18:58:38,245] Trial 18 finished with value: 0.7390452358069985 and parameters: {'n_estimators': 390, 'learning_rate': 0.7756094914251374}. Best is trial 5 with value: 0.7481819641240833.\n",
      "[I 2024-12-08 18:58:39,236] Trial 19 finished with value: 0.7433238420344404 and parameters: {'n_estimators': 293, 'learning_rate': 0.06579797230595348}. Best is trial 5 with value: 0.7481819641240833.\n",
      "[I 2024-12-08 18:58:40,461] A new study created in memory with name: no-name-1c6f620c-cf3f-4e33-a39c-8ff3aacfee15\n",
      "[I 2024-12-08 18:58:41,373] Trial 0 finished with value: 0.7515588782887939 and parameters: {'n_estimators': 265, 'learning_rate': 0.8678847369993726}. Best is trial 0 with value: 0.7515588782887939.\n",
      "[I 2024-12-08 18:58:42,514] Trial 1 finished with value: 0.7433650366378434 and parameters: {'n_estimators': 357, 'learning_rate': 0.6651848769842649}. Best is trial 0 with value: 0.7515588782887939.\n",
      "[I 2024-12-08 18:58:43,745] Trial 2 finished with value: 0.743463800932823 and parameters: {'n_estimators': 386, 'learning_rate': 0.34636687449510933}. Best is trial 0 with value: 0.7515588782887939.\n",
      "[I 2024-12-08 18:58:44,645] Trial 3 finished with value: 0.7311086900507133 and parameters: {'n_estimators': 250, 'learning_rate': 0.03349193795144793}. Best is trial 0 with value: 0.7515588782887939.\n",
      "[I 2024-12-08 18:58:45,202] Trial 4 finished with value: 0.7412922094344556 and parameters: {'n_estimators': 111, 'learning_rate': 0.20061823148476673}. Best is trial 0 with value: 0.7515588782887939.\n",
      "[I 2024-12-08 18:58:45,735] Trial 5 finished with value: 0.7321489513057993 and parameters: {'n_estimators': 104, 'learning_rate': 0.061429643095049086}. Best is trial 0 with value: 0.7515588782887939.\n",
      "[I 2024-12-08 18:58:46,853] Trial 6 finished with value: 0.7400339446210689 and parameters: {'n_estimators': 339, 'learning_rate': 0.056950934013528076}. Best is trial 0 with value: 0.7515588782887939.\n",
      "[I 2024-12-08 18:58:48,047] Trial 7 finished with value: 0.7387026381718033 and parameters: {'n_estimators': 368, 'learning_rate': 0.05862996810274346}. Best is trial 0 with value: 0.7515588782887939.\n",
      "[I 2024-12-08 18:58:49,072] Trial 8 finished with value: 0.7359248344082007 and parameters: {'n_estimators': 314, 'learning_rate': 0.052607996231889644}. Best is trial 0 with value: 0.7515588782887939.\n",
      "[I 2024-12-08 18:58:49,542] Trial 9 finished with value: 0.7304220915017028 and parameters: {'n_estimators': 74, 'learning_rate': 0.0841850464239103}. Best is trial 0 with value: 0.7515588782887939.\n",
      "[I 2024-12-08 18:58:51,053] Trial 10 finished with value: 0.7490643876017115 and parameters: {'n_estimators': 487, 'learning_rate': 1.7665848773396027}. Best is trial 0 with value: 0.7515588782887939.\n",
      "[I 2024-12-08 18:58:52,552] Trial 11 finished with value: 0.7512579733762733 and parameters: {'n_estimators': 499, 'learning_rate': 1.7042268702491008}. Best is trial 0 with value: 0.7515588782887939.\n",
      "[I 2024-12-08 18:58:53,376] Trial 12 finished with value: 0.7074793090580183 and parameters: {'n_estimators': 225, 'learning_rate': 1.9785584057246306}. Best is trial 0 with value: 0.7515588782887939.\n",
      "[I 2024-12-08 18:58:54,789] Trial 13 finished with value: 0.7518104661696086 and parameters: {'n_estimators': 455, 'learning_rate': 0.7622825048892606}. Best is trial 13 with value: 0.7518104661696086.\n",
      "[I 2024-12-08 18:58:55,516] Trial 14 finished with value: 0.7412277283888193 and parameters: {'n_estimators': 189, 'learning_rate': 0.6324828708871623}. Best is trial 13 with value: 0.7518104661696086.\n",
      "[I 2024-12-08 18:58:56,847] Trial 15 finished with value: 0.7446650978114364 and parameters: {'n_estimators': 428, 'learning_rate': 0.6956480774116216}. Best is trial 13 with value: 0.7518104661696086.\n",
      "[I 2024-12-08 18:58:57,808] Trial 16 finished with value: 0.681703403332212 and parameters: {'n_estimators': 284, 'learning_rate': 0.010137442096931624}. Best is trial 13 with value: 0.7518104661696086.\n",
      "[I 2024-12-08 18:58:58,508] Trial 17 finished with value: 0.7397423453515788 and parameters: {'n_estimators': 178, 'learning_rate': 0.3081901123821564}. Best is trial 13 with value: 0.7518104661696086.\n",
      "[I 2024-12-08 18:58:59,842] Trial 18 finished with value: 0.7444175380788187 and parameters: {'n_estimators': 422, 'learning_rate': 0.942406405372736}. Best is trial 13 with value: 0.7518104661696086.\n",
      "[I 2024-12-08 18:59:00,874] Trial 19 finished with value: 0.7394668734316827 and parameters: {'n_estimators': 300, 'learning_rate': 0.3422375134680202}. Best is trial 13 with value: 0.7518104661696086.\n",
      "[I 2024-12-08 18:59:02,079] A new study created in memory with name: no-name-94465041-ee27-409c-a001-34bde54146d2\n",
      "[I 2024-12-08 18:59:06,242] Trial 0 finished with value: 0.7135007254976793 and parameters: {'C': 0.0001551229599168674, 'kernel': 'sigmoid'}. Best is trial 0 with value: 0.7135007254976793.\n",
      "[I 2024-12-08 18:59:07,821] Trial 1 finished with value: 0.726575663655276 and parameters: {'C': 0.0076059247603065235, 'kernel': 'linear'}. Best is trial 1 with value: 0.726575663655276.\n",
      "[I 2024-12-08 18:59:10,982] Trial 2 finished with value: 0.7108844295635095 and parameters: {'C': 0.024903486530126216, 'kernel': 'rbf'}. Best is trial 1 with value: 0.726575663655276.\n",
      "[I 2024-12-08 18:59:15,079] Trial 3 finished with value: 0.7106296546576094 and parameters: {'C': 0.0004116919394948805, 'kernel': 'sigmoid'}. Best is trial 1 with value: 0.726575663655276.\n",
      "[I 2024-12-08 18:59:17,381] Trial 4 finished with value: 0.6371710920581348 and parameters: {'C': 0.3047606191862328, 'kernel': 'sigmoid'}. Best is trial 1 with value: 0.726575663655276.\n",
      "[I 2024-12-08 18:59:18,942] Trial 5 finished with value: 0.726575663655276 and parameters: {'C': 0.03656133731335217, 'kernel': 'linear'}. Best is trial 1 with value: 0.726575663655276.\n",
      "[I 2024-12-08 18:59:22,515] Trial 6 finished with value: 0.7050786984359168 and parameters: {'C': 0.01144539808634139, 'kernel': 'rbf'}. Best is trial 1 with value: 0.726575663655276.\n",
      "[I 2024-12-08 18:59:24,337] Trial 7 finished with value: 0.6216189489657125 and parameters: {'C': 30.709902737969582, 'kernel': 'sigmoid'}. Best is trial 1 with value: 0.726575663655276.\n",
      "[I 2024-12-08 18:59:29,000] Trial 8 finished with value: 0.686175925570127 and parameters: {'C': 0.0010387608204963177, 'kernel': 'rbf'}. Best is trial 1 with value: 0.726575663655276.\n",
      "[I 2024-12-08 18:59:31,817] Trial 9 finished with value: 0.7242597896845341 and parameters: {'C': 0.059686986676918664, 'kernel': 'rbf'}. Best is trial 1 with value: 0.726575663655276.\n",
      "[I 2024-12-08 18:59:34,720] Trial 10 finished with value: 0.726575663655276 and parameters: {'C': 1.6326790008552785, 'kernel': 'linear'}. Best is trial 1 with value: 0.726575663655276.\n",
      "[I 2024-12-08 18:59:36,354] Trial 11 finished with value: 0.726575663655276 and parameters: {'C': 0.003909726261759573, 'kernel': 'linear'}. Best is trial 1 with value: 0.726575663655276.\n",
      "[I 2024-12-08 18:59:38,774] Trial 12 finished with value: 0.726575663655276 and parameters: {'C': 0.8083179690472483, 'kernel': 'linear'}. Best is trial 1 with value: 0.726575663655276.\n",
      "[I 2024-12-08 18:59:40,369] Trial 13 finished with value: 0.726575663655276 and parameters: {'C': 0.0031540650262271786, 'kernel': 'linear'}. Best is trial 1 with value: 0.726575663655276.\n",
      "[I 2024-12-08 18:59:44,664] Trial 14 finished with value: 0.726575663655276 and parameters: {'C': 4.1656001584750655, 'kernel': 'linear'}. Best is trial 1 with value: 0.726575663655276.\n",
      "[I 2024-12-08 18:59:46,372] Trial 15 finished with value: 0.7275737632999922 and parameters: {'C': 0.11315267217060113, 'kernel': 'linear'}. Best is trial 15 with value: 0.7275737632999922.\n",
      "[I 2024-12-08 18:59:48,239] Trial 16 finished with value: 0.726575663655276 and parameters: {'C': 0.22440278744277828, 'kernel': 'linear'}. Best is trial 15 with value: 0.7275737632999922.\n",
      "[I 2024-12-08 19:00:25,780] Trial 17 finished with value: 0.726575663655276 and parameters: {'C': 97.91893960809995, 'kernel': 'linear'}. Best is trial 15 with value: 0.7275737632999922.\n",
      "[I 2024-12-08 19:00:27,403] Trial 18 finished with value: 0.726575663655276 and parameters: {'C': 0.005258570717047871, 'kernel': 'linear'}. Best is trial 15 with value: 0.7275737632999922.\n",
      "[I 2024-12-08 19:00:32,033] Trial 19 finished with value: 0.726575663655276 and parameters: {'C': 5.6272255350775, 'kernel': 'linear'}. Best is trial 15 with value: 0.7275737632999922.\n",
      "[I 2024-12-08 19:00:33,939] A new study created in memory with name: no-name-9b115f57-b955-40f6-a1a5-b30013556747\n",
      "[I 2024-12-08 19:00:42,683] Trial 0 finished with value: 0.7242618793232594 and parameters: {'C': 17.894090186117122, 'kernel': 'linear'}. Best is trial 0 with value: 0.7242618793232594.\n",
      "[I 2024-12-08 19:00:44,531] Trial 1 finished with value: 0.7229104063593275 and parameters: {'C': 16.37845280738674, 'kernel': 'rbf'}. Best is trial 0 with value: 0.7242618793232594.\n",
      "[I 2024-12-08 19:00:46,516] Trial 2 finished with value: 0.7235201768974397 and parameters: {'C': 0.013409054433608332, 'kernel': 'sigmoid'}. Best is trial 0 with value: 0.7242618793232594.\n",
      "[I 2024-12-08 19:00:49,329] Trial 3 finished with value: 0.715393958066355 and parameters: {'C': 0.001122170440219357, 'kernel': 'sigmoid'}. Best is trial 0 with value: 0.7242618793232594.\n",
      "[I 2024-12-08 19:00:51,345] Trial 4 finished with value: 0.725725859815085 and parameters: {'C': 0.011406564943555228, 'kernel': 'sigmoid'}. Best is trial 4 with value: 0.725725859815085.\n",
      "[I 2024-12-08 19:00:56,262] Trial 5 finished with value: 0.724256560372192 and parameters: {'C': 10.798849267438316, 'kernel': 'linear'}. Best is trial 4 with value: 0.725725859815085.\n",
      "[I 2024-12-08 19:00:59,013] Trial 6 finished with value: 0.6768031557710097 and parameters: {'C': 0.0004146955525849441, 'kernel': 'rbf'}. Best is trial 4 with value: 0.725725859815085.\n",
      "[I 2024-12-08 19:01:00,715] Trial 7 finished with value: 0.6844877601555454 and parameters: {'C': 0.06724594130556408, 'kernel': 'sigmoid'}. Best is trial 4 with value: 0.725725859815085.\n",
      "[I 2024-12-08 19:01:01,925] Trial 8 finished with value: 0.7252509724462057 and parameters: {'C': 0.0008879419479633866, 'kernel': 'linear'}. Best is trial 4 with value: 0.725725859815085.\n",
      "[I 2024-12-08 19:01:04,794] Trial 9 finished with value: 0.7242618793232594 and parameters: {'C': 4.932575713580494, 'kernel': 'linear'}. Best is trial 4 with value: 0.725725859815085.\n",
      "[I 2024-12-08 19:01:06,237] Trial 10 finished with value: 0.6288487743681033 and parameters: {'C': 0.5355840045695989, 'kernel': 'sigmoid'}. Best is trial 4 with value: 0.725725859815085.\n",
      "[I 2024-12-08 19:01:07,245] Trial 11 finished with value: 0.7245765302573793 and parameters: {'C': 0.004654596328963629, 'kernel': 'linear'}. Best is trial 4 with value: 0.725725859815085.\n",
      "[I 2024-12-08 19:01:09,987] Trial 12 finished with value: 0.717467074244132 and parameters: {'C': 0.00014292023384439436, 'kernel': 'sigmoid'}. Best is trial 4 with value: 0.725725859815085.\n",
      "[I 2024-12-08 19:01:10,990] Trial 13 finished with value: 0.7245765302573793 and parameters: {'C': 0.006066098907963668, 'kernel': 'linear'}. Best is trial 4 with value: 0.725725859815085.\n",
      "[I 2024-12-08 19:01:12,632] Trial 14 finished with value: 0.7255670576888009 and parameters: {'C': 0.1173163683724174, 'kernel': 'rbf'}. Best is trial 4 with value: 0.725725859815085.\n",
      "[I 2024-12-08 19:01:14,213] Trial 15 finished with value: 0.7293872706636897 and parameters: {'C': 0.7246305835260528, 'kernel': 'rbf'}. Best is trial 15 with value: 0.7293872706636897.\n",
      "[I 2024-12-08 19:01:15,827] Trial 16 finished with value: 0.7263895065705976 and parameters: {'C': 0.7661143841694691, 'kernel': 'rbf'}. Best is trial 15 with value: 0.7293872706636897.\n",
      "[I 2024-12-08 19:01:17,384] Trial 17 finished with value: 0.7295563176917627 and parameters: {'C': 1.4448157598546025, 'kernel': 'rbf'}. Best is trial 17 with value: 0.7295563176917627.\n",
      "[I 2024-12-08 19:01:20,221] Trial 18 finished with value: 0.700123592758345 and parameters: {'C': 78.53348928820198, 'kernel': 'rbf'}. Best is trial 17 with value: 0.7295563176917627.\n",
      "[I 2024-12-08 19:01:21,812] Trial 19 finished with value: 0.7287130014352659 and parameters: {'C': 1.429158790276029, 'kernel': 'rbf'}. Best is trial 17 with value: 0.7295563176917627.\n",
      "[I 2024-12-08 19:01:23,329] A new study created in memory with name: no-name-d00e5381-0b10-4d44-975c-308bff2dc418\n",
      "[I 2024-12-08 19:01:26,164] Trial 0 finished with value: 0.714847912021385 and parameters: {'C': 0.001116569134714431, 'kernel': 'sigmoid'}. Best is trial 0 with value: 0.714847912021385.\n",
      "[I 2024-12-08 19:01:28,025] Trial 1 finished with value: 0.7226715050691734 and parameters: {'C': 0.03379829228179358, 'kernel': 'rbf'}. Best is trial 1 with value: 0.7226715050691734.\n",
      "[I 2024-12-08 19:01:46,780] Trial 2 finished with value: 0.7225486677773555 and parameters: {'C': 71.11544496934289, 'kernel': 'linear'}. Best is trial 1 with value: 0.7226715050691734.\n",
      "[I 2024-12-08 19:01:48,317] Trial 3 finished with value: 0.7305772380777651 and parameters: {'C': 0.24530466467594045, 'kernel': 'rbf'}. Best is trial 3 with value: 0.7305772380777651.\n",
      "[I 2024-12-08 19:01:50,325] Trial 4 finished with value: 0.7134554628598935 and parameters: {'C': 0.020969260770582254, 'kernel': 'rbf'}. Best is trial 3 with value: 0.7305772380777651.\n",
      "[I 2024-12-08 19:01:51,595] Trial 5 finished with value: 0.6178376100857028 and parameters: {'C': 15.411027777161399, 'kernel': 'sigmoid'}. Best is trial 3 with value: 0.7305772380777651.\n",
      "[I 2024-12-08 19:01:52,809] Trial 6 finished with value: 0.7225486677773555 and parameters: {'C': 0.12567920487416437, 'kernel': 'linear'}. Best is trial 3 with value: 0.7305772380777651.\n",
      "[I 2024-12-08 19:01:53,956] Trial 7 finished with value: 0.7225486677773555 and parameters: {'C': 0.003537735094887568, 'kernel': 'linear'}. Best is trial 3 with value: 0.7305772380777651.\n",
      "[I 2024-12-08 19:01:55,317] Trial 8 finished with value: 0.6281896050723057 and parameters: {'C': 2.2640328855751233, 'kernel': 'sigmoid'}. Best is trial 3 with value: 0.7305772380777651.\n",
      "[I 2024-12-08 19:01:57,094] Trial 9 finished with value: 0.724533717266893 and parameters: {'C': 0.10721941126777747, 'kernel': 'rbf'}. Best is trial 3 with value: 0.7305772380777651.\n",
      "[I 2024-12-08 19:01:58,690] Trial 10 finished with value: 0.7345742804191108 and parameters: {'C': 1.177575978835834, 'kernel': 'rbf'}. Best is trial 10 with value: 0.7345742804191108.\n",
      "[I 2024-12-08 19:02:00,266] Trial 11 finished with value: 0.73572244060729 and parameters: {'C': 1.149619634637531, 'kernel': 'rbf'}. Best is trial 11 with value: 0.73572244060729.\n",
      "[I 2024-12-08 19:02:01,873] Trial 12 finished with value: 0.7365962394578257 and parameters: {'C': 1.5203041070723429, 'kernel': 'rbf'}. Best is trial 12 with value: 0.7365962394578257.\n",
      "[I 2024-12-08 19:02:03,499] Trial 13 finished with value: 0.7249008162474762 and parameters: {'C': 3.171965438360323, 'kernel': 'rbf'}. Best is trial 12 with value: 0.7365962394578257.\n",
      "[I 2024-12-08 19:02:06,444] Trial 14 finished with value: 0.6803235500354646 and parameters: {'C': 0.00011980943719925933, 'kernel': 'rbf'}. Best is trial 12 with value: 0.7365962394578257.\n",
      "[I 2024-12-08 19:02:08,440] Trial 15 finished with value: 0.7251791967917097 and parameters: {'C': 14.493657773236933, 'kernel': 'rbf'}. Best is trial 12 with value: 0.7365962394578257.\n",
      "[I 2024-12-08 19:02:10,167] Trial 16 finished with value: 0.7330109838055855 and parameters: {'C': 0.8237187997659513, 'kernel': 'rbf'}. Best is trial 12 with value: 0.7365962394578257.\n",
      "[I 2024-12-08 19:02:12,141] Trial 17 finished with value: 0.723089761556502 and parameters: {'C': 13.386955365608838, 'kernel': 'rbf'}. Best is trial 12 with value: 0.7365962394578257.\n",
      "[I 2024-12-08 19:02:13,563] Trial 18 finished with value: 0.7225486677773555 and parameters: {'C': 0.5224040031824089, 'kernel': 'linear'}. Best is trial 12 with value: 0.7365962394578257.\n",
      "[I 2024-12-08 19:02:14,750] Trial 19 finished with value: 0.6264553500158774 and parameters: {'C': 91.13425952447606, 'kernel': 'sigmoid'}. Best is trial 12 with value: 0.7365962394578257.\n",
      "[I 2024-12-08 19:02:16,294] A new study created in memory with name: no-name-816c8b62-ea60-4eb0-b288-11e43cc67a29\n",
      "[I 2024-12-08 19:02:17,354] Trial 0 finished with value: 0.7280801368300837 and parameters: {'C': 0.04844635258356505, 'kernel': 'linear'}. Best is trial 0 with value: 0.7280801368300837.\n",
      "[I 2024-12-08 19:02:19,279] Trial 1 finished with value: 0.7218551534742447 and parameters: {'C': 0.018949760068768126, 'kernel': 'sigmoid'}. Best is trial 0 with value: 0.7280801368300837.\n",
      "[I 2024-12-08 19:02:22,434] Trial 2 finished with value: 0.705157205792373 and parameters: {'C': 99.80378357677542, 'kernel': 'rbf'}. Best is trial 0 with value: 0.7280801368300837.\n",
      "[I 2024-12-08 19:02:24,255] Trial 3 finished with value: 0.7280801368300837 and parameters: {'C': 1.3394620543457032, 'kernel': 'linear'}. Best is trial 0 with value: 0.7280801368300837.\n",
      "[I 2024-12-08 19:02:26,559] Trial 4 finished with value: 0.7315003136998122 and parameters: {'C': 0.006088181395859887, 'kernel': 'sigmoid'}. Best is trial 4 with value: 0.7315003136998122.\n",
      "[I 2024-12-08 19:02:29,031] Trial 5 finished with value: 0.7097533132701306 and parameters: {'C': 48.69578015826815, 'kernel': 'rbf'}. Best is trial 4 with value: 0.7315003136998122.\n",
      "[I 2024-12-08 19:02:31,805] Trial 6 finished with value: 0.6793121047244394 and parameters: {'C': 0.004289377745488089, 'kernel': 'rbf'}. Best is trial 4 with value: 0.7315003136998122.\n",
      "[I 2024-12-08 19:02:34,643] Trial 7 finished with value: 0.6876805016169835 and parameters: {'C': 0.0010750486678501295, 'kernel': 'rbf'}. Best is trial 4 with value: 0.7315003136998122.\n",
      "[I 2024-12-08 19:02:35,817] Trial 8 finished with value: 0.6277351998933924 and parameters: {'C': 10.199008963401422, 'kernel': 'sigmoid'}. Best is trial 4 with value: 0.7315003136998122.\n",
      "[I 2024-12-08 19:02:36,925] Trial 9 finished with value: 0.7280801368300837 and parameters: {'C': 0.0021105138401170255, 'kernel': 'linear'}. Best is trial 4 with value: 0.7315003136998122.\n",
      "[I 2024-12-08 19:02:39,802] Trial 10 finished with value: 0.71184831606156 and parameters: {'C': 0.00017507951945449818, 'kernel': 'sigmoid'}. Best is trial 4 with value: 0.7315003136998122.\n",
      "[I 2024-12-08 19:02:40,905] Trial 11 finished with value: 0.7280801368300837 and parameters: {'C': 0.1461534343797517, 'kernel': 'linear'}. Best is trial 4 with value: 0.7315003136998122.\n",
      "[I 2024-12-08 19:02:42,602] Trial 12 finished with value: 0.6486036070381183 and parameters: {'C': 0.10945702824790324, 'kernel': 'sigmoid'}. Best is trial 4 with value: 0.7315003136998122.\n",
      "[I 2024-12-08 19:02:43,663] Trial 13 finished with value: 0.7280801368300837 and parameters: {'C': 0.02721544833743972, 'kernel': 'linear'}. Best is trial 4 with value: 0.7315003136998122.\n",
      "[I 2024-12-08 19:02:45,298] Trial 14 finished with value: 0.6324709127951003 and parameters: {'C': 0.4682268726776828, 'kernel': 'sigmoid'}. Best is trial 4 with value: 0.7315003136998122.\n",
      "[I 2024-12-08 19:02:46,934] Trial 15 finished with value: 0.7121302148985328 and parameters: {'C': 0.00012610249989246833, 'kernel': 'linear'}. Best is trial 4 with value: 0.7315003136998122.\n",
      "[I 2024-12-08 19:02:47,953] Trial 16 finished with value: 0.7280801368300837 and parameters: {'C': 0.012769847800198833, 'kernel': 'linear'}. Best is trial 4 with value: 0.7315003136998122.\n",
      "[I 2024-12-08 19:02:49,389] Trial 17 finished with value: 0.6375018949223646 and parameters: {'C': 1.1925874843885607, 'kernel': 'sigmoid'}. Best is trial 4 with value: 0.7315003136998122.\n",
      "[I 2024-12-08 19:02:50,639] Trial 18 finished with value: 0.7293778404879504 and parameters: {'C': 0.0006362824669954981, 'kernel': 'linear'}. Best is trial 4 with value: 0.7315003136998122.\n",
      "[I 2024-12-08 19:02:53,554] Trial 19 finished with value: 0.7167582186049827 and parameters: {'C': 0.000559381612727449, 'kernel': 'sigmoid'}. Best is trial 4 with value: 0.7315003136998122.\n",
      "[I 2024-12-08 19:02:55,792] A new study created in memory with name: no-name-a26c0246-a35d-454f-a2cc-b64fde324d70\n",
      "[I 2024-12-08 19:02:58,082] Trial 0 finished with value: 0.7263003357503257 and parameters: {'C': 0.004594705435851248, 'kernel': 'sigmoid'}. Best is trial 0 with value: 0.7263003357503257.\n",
      "[I 2024-12-08 19:03:00,510] Trial 1 finished with value: 0.729003723185284 and parameters: {'C': 0.0036401075096993874, 'kernel': 'sigmoid'}. Best is trial 1 with value: 0.729003723185284.\n",
      "[I 2024-12-08 19:03:02,020] Trial 2 finished with value: 0.7133001732049975 and parameters: {'C': 0.0001387199328469514, 'kernel': 'linear'}. Best is trial 1 with value: 0.729003723185284.\n",
      "[I 2024-12-08 19:03:04,857] Trial 3 finished with value: 0.7135921610707293 and parameters: {'C': 0.0005121049305641156, 'kernel': 'sigmoid'}. Best is trial 1 with value: 0.729003723185284.\n",
      "[I 2024-12-08 19:03:06,667] Trial 4 finished with value: 0.7252609582983437 and parameters: {'C': 1.1536149863382414, 'kernel': 'linear'}. Best is trial 1 with value: 0.729003723185284.\n",
      "[I 2024-12-08 19:03:07,717] Trial 5 finished with value: 0.7252609582983437 and parameters: {'C': 0.048444802248454176, 'kernel': 'linear'}. Best is trial 1 with value: 0.729003723185284.\n",
      "[I 2024-12-08 19:03:09,130] Trial 6 finished with value: 0.7252609582983437 and parameters: {'C': 0.4406010951490452, 'kernel': 'linear'}. Best is trial 1 with value: 0.729003723185284.\n",
      "[I 2024-12-08 19:03:11,795] Trial 7 finished with value: 0.7190749558255204 and parameters: {'C': 0.001829984759808667, 'kernel': 'sigmoid'}. Best is trial 1 with value: 0.729003723185284.\n",
      "[I 2024-12-08 19:03:15,337] Trial 8 finished with value: 0.7252609582983437 and parameters: {'C': 5.740898036351827, 'kernel': 'linear'}. Best is trial 1 with value: 0.729003723185284.\n",
      "[I 2024-12-08 19:03:18,153] Trial 9 finished with value: 0.7192762460915237 and parameters: {'C': 0.0014405889163991129, 'kernel': 'sigmoid'}. Best is trial 1 with value: 0.729003723185284.\n",
      "[I 2024-12-08 19:03:21,109] Trial 10 finished with value: 0.7062513225890499 and parameters: {'C': 93.28344808598204, 'kernel': 'rbf'}. Best is trial 1 with value: 0.729003723185284.\n",
      "[I 2024-12-08 19:03:23,064] Trial 11 finished with value: 0.7212177489085675 and parameters: {'C': 0.014278029453561925, 'kernel': 'sigmoid'}. Best is trial 1 with value: 0.729003723185284.\n",
      "[I 2024-12-08 19:03:25,130] Trial 12 finished with value: 0.7251567763766399 and parameters: {'C': 0.011355538717249003, 'kernel': 'sigmoid'}. Best is trial 1 with value: 0.729003723185284.\n",
      "[I 2024-12-08 19:03:27,542] Trial 13 finished with value: 0.6829626944397855 and parameters: {'C': 0.0067830472740089, 'kernel': 'rbf'}. Best is trial 1 with value: 0.729003723185284.\n",
      "[I 2024-12-08 19:03:29,237] Trial 14 finished with value: 0.6618012405636562 and parameters: {'C': 0.10303075869677282, 'kernel': 'sigmoid'}. Best is trial 1 with value: 0.729003723185284.\n",
      "[I 2024-12-08 19:03:32,057] Trial 15 finished with value: 0.7158644761408318 and parameters: {'C': 0.00012314898431275796, 'kernel': 'sigmoid'}. Best is trial 1 with value: 0.729003723185284.\n",
      "[I 2024-12-08 19:03:34,644] Trial 16 finished with value: 0.7191074456425582 and parameters: {'C': 0.0021732151946483686, 'kernel': 'sigmoid'}. Best is trial 1 with value: 0.729003723185284.\n",
      "[I 2024-12-08 19:03:36,449] Trial 17 finished with value: 0.7318247187297079 and parameters: {'C': 0.04952594298720373, 'kernel': 'rbf'}. Best is trial 17 with value: 0.7318247187297079.\n",
      "[I 2024-12-08 19:03:38,205] Trial 18 finished with value: 0.726623640977756 and parameters: {'C': 0.06338008593373676, 'kernel': 'rbf'}. Best is trial 17 with value: 0.7318247187297079.\n",
      "[I 2024-12-08 19:03:39,786] Trial 19 finished with value: 0.7312254359705277 and parameters: {'C': 0.5318676598853633, 'kernel': 'rbf'}. Best is trial 17 with value: 0.7318247187297079.\n",
      "[I 2024-12-08 19:03:41,500] A new study created in memory with name: no-name-b438711f-b1c8-47c9-9045-b40ea7c4a830\n",
      "[I 2024-12-08 19:03:44,293] Trial 0 finished with value: 0.7139550383301312 and parameters: {'C': 0.00022581735186507588, 'kernel': 'sigmoid'}. Best is trial 0 with value: 0.7139550383301312.\n",
      "[I 2024-12-08 19:03:47,108] Trial 1 finished with value: 0.6836481745827638 and parameters: {'C': 0.000401843132785032, 'kernel': 'rbf'}. Best is trial 0 with value: 0.7139550383301312.\n",
      "[I 2024-12-08 19:03:49,940] Trial 2 finished with value: 0.6787572292246977 and parameters: {'C': 0.0004076963339483982, 'kernel': 'rbf'}. Best is trial 0 with value: 0.7139550383301312.\n",
      "[I 2024-12-08 19:03:51,712] Trial 3 finished with value: 0.7227547354016921 and parameters: {'C': 0.05943055966778331, 'kernel': 'rbf'}. Best is trial 3 with value: 0.7227547354016921.\n",
      "[I 2024-12-08 19:03:52,897] Trial 4 finished with value: 0.6289786678561183 and parameters: {'C': 84.31126114204403, 'kernel': 'sigmoid'}. Best is trial 3 with value: 0.7227547354016921.\n",
      "[I 2024-12-08 19:04:03,504] Trial 5 finished with value: 0.7248413705283066 and parameters: {'C': 31.368849257213878, 'kernel': 'linear'}. Best is trial 5 with value: 0.7248413705283066.\n",
      "[I 2024-12-08 19:04:05,107] Trial 6 finished with value: 0.7263154723313419 and parameters: {'C': 0.5536935735746941, 'kernel': 'rbf'}. Best is trial 6 with value: 0.7263154723313419.\n",
      "[I 2024-12-08 19:04:18,441] Trial 7 finished with value: 0.7248413705283066 and parameters: {'C': 45.162260675165946, 'kernel': 'linear'}. Best is trial 6 with value: 0.7263154723313419.\n",
      "[I 2024-12-08 19:04:20,382] Trial 8 finished with value: 0.7156264662907916 and parameters: {'C': 0.019903424966489423, 'kernel': 'sigmoid'}. Best is trial 6 with value: 0.7263154723313419.\n",
      "[I 2024-12-08 19:04:21,631] Trial 9 finished with value: 0.6077846849951797 and parameters: {'C': 45.82846025253014, 'kernel': 'sigmoid'}. Best is trial 6 with value: 0.7263154723313419.\n",
      "[I 2024-12-08 19:04:23,267] Trial 10 finished with value: 0.7309832436636153 and parameters: {'C': 0.5057975111536399, 'kernel': 'rbf'}. Best is trial 10 with value: 0.7309832436636153.\n",
      "[I 2024-12-08 19:04:24,839] Trial 11 finished with value: 0.7349782182086095 and parameters: {'C': 1.1149710670911543, 'kernel': 'rbf'}. Best is trial 11 with value: 0.7349782182086095.\n",
      "[I 2024-12-08 19:04:26,495] Trial 12 finished with value: 0.7302377534625302 and parameters: {'C': 1.1498567834454005, 'kernel': 'rbf'}. Best is trial 11 with value: 0.7349782182086095.\n",
      "[I 2024-12-08 19:04:28,152] Trial 13 finished with value: 0.7346327236557271 and parameters: {'C': 2.0978083925662396, 'kernel': 'rbf'}. Best is trial 11 with value: 0.7349782182086095.\n",
      "[I 2024-12-08 19:04:29,896] Trial 14 finished with value: 0.7261946277159051 and parameters: {'C': 3.7383852066133736, 'kernel': 'rbf'}. Best is trial 11 with value: 0.7349782182086095.\n",
      "[I 2024-12-08 19:04:32,261] Trial 15 finished with value: 0.6984289012019277 and parameters: {'C': 0.010675111229871064, 'kernel': 'rbf'}. Best is trial 11 with value: 0.7349782182086095.\n",
      "[I 2024-12-08 19:04:35,191] Trial 16 finished with value: 0.725425492288899 and parameters: {'C': 4.6130373245538046, 'kernel': 'linear'}. Best is trial 11 with value: 0.7349782182086095.\n",
      "[I 2024-12-08 19:04:36,881] Trial 17 finished with value: 0.7272585147058321 and parameters: {'C': 0.12431294474492405, 'kernel': 'rbf'}. Best is trial 11 with value: 0.7349782182086095.\n",
      "[I 2024-12-08 19:04:38,696] Trial 18 finished with value: 0.7261306644641744 and parameters: {'C': 6.146919793998808, 'kernel': 'rbf'}. Best is trial 11 with value: 0.7349782182086095.\n",
      "[I 2024-12-08 19:04:39,789] Trial 19 finished with value: 0.7248413705283066 and parameters: {'C': 0.0036662224328420367, 'kernel': 'linear'}. Best is trial 11 with value: 0.7349782182086095.\n",
      "[I 2024-12-08 19:04:41,327] A new study created in memory with name: no-name-483816fe-8bbd-4b26-b742-b51805009148\n",
      "[I 2024-12-08 19:04:42,983] Trial 0 finished with value: 0.7267036012257139 and parameters: {'C': 3.1835552872606656, 'kernel': 'rbf'}. Best is trial 0 with value: 0.7267036012257139.\n",
      "[I 2024-12-08 19:04:44,042] Trial 1 finished with value: 0.724155864799251 and parameters: {'C': 0.05016231789021901, 'kernel': 'linear'}. Best is trial 0 with value: 0.7267036012257139.\n",
      "[I 2024-12-08 19:04:45,652] Trial 2 finished with value: 0.6473457378678764 and parameters: {'C': 0.22460174319059278, 'kernel': 'sigmoid'}. Best is trial 0 with value: 0.7267036012257139.\n",
      "[I 2024-12-08 19:04:46,836] Trial 3 finished with value: 0.618155683744601 and parameters: {'C': 98.23713719593802, 'kernel': 'sigmoid'}. Best is trial 0 with value: 0.7267036012257139.\n",
      "[I 2024-12-08 19:04:48,584] Trial 4 finished with value: 0.7266596704418044 and parameters: {'C': 0.07056290557690262, 'kernel': 'rbf'}. Best is trial 0 with value: 0.7267036012257139.\n",
      "[I 2024-12-08 19:04:50,165] Trial 5 finished with value: 0.7006377447973937 and parameters: {'C': 0.00010918927194372279, 'kernel': 'linear'}. Best is trial 0 with value: 0.7267036012257139.\n",
      "[I 2024-12-08 19:04:56,587] Trial 6 finished with value: 0.724155864799251 and parameters: {'C': 16.17961039285882, 'kernel': 'linear'}. Best is trial 0 with value: 0.7267036012257139.\n",
      "[I 2024-12-08 19:04:58,230] Trial 7 finished with value: 0.7326132639787801 and parameters: {'C': 2.685647918149913, 'kernel': 'rbf'}. Best is trial 7 with value: 0.7326132639787801.\n",
      "[I 2024-12-08 19:04:59,622] Trial 8 finished with value: 0.7283902761633321 and parameters: {'C': 0.00030480079204761996, 'kernel': 'linear'}. Best is trial 7 with value: 0.7326132639787801.\n",
      "[I 2024-12-08 19:05:00,660] Trial 9 finished with value: 0.724155864799251 and parameters: {'C': 0.0038756433762899612, 'kernel': 'linear'}. Best is trial 7 with value: 0.7326132639787801.\n",
      "[I 2024-12-08 19:05:02,318] Trial 10 finished with value: 0.7315271144809932 and parameters: {'C': 1.118158000302238, 'kernel': 'rbf'}. Best is trial 7 with value: 0.7326132639787801.\n",
      "[I 2024-12-08 19:05:03,977] Trial 11 finished with value: 0.7279561341927451 and parameters: {'C': 1.635683567442065, 'kernel': 'rbf'}. Best is trial 7 with value: 0.7326132639787801.\n",
      "[I 2024-12-08 19:05:05,607] Trial 12 finished with value: 0.7305124922894393 and parameters: {'C': 0.8796796312183237, 'kernel': 'rbf'}. Best is trial 7 with value: 0.7326132639787801.\n",
      "[I 2024-12-08 19:05:07,500] Trial 13 finished with value: 0.7189433677352062 and parameters: {'C': 12.484098677991653, 'kernel': 'rbf'}. Best is trial 7 with value: 0.7326132639787801.\n",
      "[I 2024-12-08 19:05:09,167] Trial 14 finished with value: 0.7264997997394746 and parameters: {'C': 0.29699453242335216, 'kernel': 'rbf'}. Best is trial 7 with value: 0.7326132639787801.\n",
      "[I 2024-12-08 19:05:11,389] Trial 15 finished with value: 0.7047023060501169 and parameters: {'C': 0.01234713216762717, 'kernel': 'rbf'}. Best is trial 7 with value: 0.7326132639787801.\n",
      "[I 2024-12-08 19:05:13,186] Trial 16 finished with value: 0.7201540463109796 and parameters: {'C': 8.904697330681318, 'kernel': 'rbf'}. Best is trial 7 with value: 0.7326132639787801.\n",
      "[I 2024-12-08 19:05:14,363] Trial 17 finished with value: 0.6317139382781637 and parameters: {'C': 95.84188534122285, 'kernel': 'sigmoid'}. Best is trial 7 with value: 0.7326132639787801.\n",
      "[I 2024-12-08 19:05:15,958] Trial 18 finished with value: 0.7318765144367998 and parameters: {'C': 0.6542629974871887, 'kernel': 'rbf'}. Best is trial 7 with value: 0.7326132639787801.\n",
      "[I 2024-12-08 19:05:17,957] Trial 19 finished with value: 0.7073622889354918 and parameters: {'C': 0.02217367665698813, 'kernel': 'rbf'}. Best is trial 7 with value: 0.7326132639787801.\n",
      "[I 2024-12-08 19:05:19,549] A new study created in memory with name: no-name-7dc06403-3dbd-450d-a45f-7e068005ddac\n",
      "[I 2024-12-08 19:05:20,818] Trial 0 finished with value: 0.733344189833793 and parameters: {'C': 0.0004867553893024095, 'kernel': 'linear'}. Best is trial 0 with value: 0.733344189833793.\n",
      "[I 2024-12-08 19:05:34,880] Trial 1 finished with value: 0.7268665571521598 and parameters: {'C': 47.80517955336539, 'kernel': 'linear'}. Best is trial 0 with value: 0.733344189833793.\n",
      "[I 2024-12-08 19:05:35,951] Trial 2 finished with value: 0.7268665571521598 and parameters: {'C': 0.09147660234129784, 'kernel': 'linear'}. Best is trial 0 with value: 0.733344189833793.\n",
      "[I 2024-12-08 19:05:38,089] Trial 3 finished with value: 0.7297547047723605 and parameters: {'C': 0.009368255905684927, 'kernel': 'sigmoid'}. Best is trial 0 with value: 0.733344189833793.\n",
      "[I 2024-12-08 19:05:50,103] Trial 4 finished with value: 0.7268665571521598 and parameters: {'C': 37.70221087017842, 'kernel': 'linear'}. Best is trial 0 with value: 0.733344189833793.\n",
      "[I 2024-12-08 19:05:51,206] Trial 5 finished with value: 0.6174936523349058 and parameters: {'C': 39.760123585933755, 'kernel': 'sigmoid'}. Best is trial 0 with value: 0.733344189833793.\n",
      "[I 2024-12-08 19:05:54,474] Trial 6 finished with value: 0.7268665571521598 and parameters: {'C': 5.7494789877325125, 'kernel': 'linear'}. Best is trial 0 with value: 0.733344189833793.\n",
      "[I 2024-12-08 19:05:57,125] Trial 7 finished with value: 0.6782924598163338 and parameters: {'C': 0.004467751777492771, 'kernel': 'rbf'}. Best is trial 0 with value: 0.733344189833793.\n",
      "[I 2024-12-08 19:05:58,626] Trial 8 finished with value: 0.634569572587705 and parameters: {'C': 0.5691492166030672, 'kernel': 'sigmoid'}. Best is trial 0 with value: 0.733344189833793.\n",
      "[I 2024-12-08 19:05:59,985] Trial 9 finished with value: 0.6144040773156298 and parameters: {'C': 2.221808407834679, 'kernel': 'sigmoid'}. Best is trial 0 with value: 0.733344189833793.\n",
      "[I 2024-12-08 19:06:02,731] Trial 10 finished with value: 0.6734036870921172 and parameters: {'C': 0.0001518508138674677, 'kernel': 'rbf'}. Best is trial 0 with value: 0.733344189833793.\n",
      "[I 2024-12-08 19:06:05,369] Trial 11 finished with value: 0.7246549971382855 and parameters: {'C': 0.0015233893595024322, 'kernel': 'sigmoid'}. Best is trial 0 with value: 0.733344189833793.\n",
      "[I 2024-12-08 19:06:07,230] Trial 12 finished with value: 0.7223655081243878 and parameters: {'C': 0.01862261457199437, 'kernel': 'sigmoid'}. Best is trial 0 with value: 0.733344189833793.\n",
      "[I 2024-12-08 19:06:08,642] Trial 13 finished with value: 0.7288769033305668 and parameters: {'C': 0.00021042196835337846, 'kernel': 'linear'}. Best is trial 0 with value: 0.733344189833793.\n",
      "[I 2024-12-08 19:06:11,386] Trial 14 finished with value: 0.6854111484572352 and parameters: {'C': 0.001091368193113096, 'kernel': 'rbf'}. Best is trial 0 with value: 0.733344189833793.\n",
      "[I 2024-12-08 19:06:12,378] Trial 15 finished with value: 0.7268665571521598 and parameters: {'C': 0.019439687549405567, 'kernel': 'linear'}. Best is trial 0 with value: 0.733344189833793.\n",
      "[I 2024-12-08 19:06:14,491] Trial 16 finished with value: 0.7270235899143429 and parameters: {'C': 0.008786898619003156, 'kernel': 'sigmoid'}. Best is trial 0 with value: 0.733344189833793.\n",
      "[I 2024-12-08 19:06:15,547] Trial 17 finished with value: 0.7268665571521598 and parameters: {'C': 0.12391689726802398, 'kernel': 'linear'}. Best is trial 0 with value: 0.733344189833793.\n",
      "[I 2024-12-08 19:06:18,399] Trial 18 finished with value: 0.7210663282961577 and parameters: {'C': 0.0007363917899221045, 'kernel': 'sigmoid'}. Best is trial 0 with value: 0.733344189833793.\n",
      "[I 2024-12-08 19:06:20,180] Trial 19 finished with value: 0.7311078542848688 and parameters: {'C': 0.055169514829825475, 'kernel': 'rbf'}. Best is trial 0 with value: 0.733344189833793.\n",
      "[I 2024-12-08 19:06:21,409] A new study created in memory with name: no-name-cf899378-4d91-4ca2-b454-4c30caff2042\n",
      "[I 2024-12-08 19:06:23,344] Trial 0 finished with value: 0.7176322877381023 and parameters: {'C': 0.018664405654576992, 'kernel': 'sigmoid'}. Best is trial 0 with value: 0.7176322877381023.\n",
      "[I 2024-12-08 19:06:24,433] Trial 1 finished with value: 0.7270713483124953 and parameters: {'C': 0.0023212997432555276, 'kernel': 'linear'}. Best is trial 1 with value: 0.7270713483124953.\n",
      "[I 2024-12-08 19:06:25,759] Trial 2 finished with value: 0.7270713483124953 and parameters: {'C': 0.4032572726480554, 'kernel': 'linear'}. Best is trial 1 with value: 0.7270713483124953.\n",
      "[I 2024-12-08 19:06:28,607] Trial 3 finished with value: 0.7122405592201106 and parameters: {'C': 0.0010812508056598784, 'kernel': 'sigmoid'}. Best is trial 1 with value: 0.7270713483124953.\n",
      "[I 2024-12-08 19:06:29,627] Trial 4 finished with value: 0.7270713483124953 and parameters: {'C': 0.01312989636679545, 'kernel': 'linear'}. Best is trial 1 with value: 0.7270713483124953.\n",
      "[I 2024-12-08 19:06:31,230] Trial 5 finished with value: 0.7333111510217872 and parameters: {'C': 0.9303500166884449, 'kernel': 'rbf'}. Best is trial 5 with value: 0.7333111510217872.\n",
      "[I 2024-12-08 19:06:32,290] Trial 6 finished with value: 0.727281243364969 and parameters: {'C': 0.0337077549847324, 'kernel': 'linear'}. Best is trial 5 with value: 0.7333111510217872.\n",
      "[I 2024-12-08 19:06:35,342] Trial 7 finished with value: 0.7270713483124953 and parameters: {'C': 3.954927285576307, 'kernel': 'linear'}. Best is trial 5 with value: 0.7333111510217872.\n",
      "[I 2024-12-08 19:06:36,464] Trial 8 finished with value: 0.6216067535166412 and parameters: {'C': 25.34554226768645, 'kernel': 'sigmoid'}. Best is trial 5 with value: 0.7333111510217872.\n",
      "[I 2024-12-08 19:06:39,404] Trial 9 finished with value: 0.6810462125912468 and parameters: {'C': 0.00011863728878888854, 'kernel': 'rbf'}. Best is trial 5 with value: 0.7333111510217872.\n",
      "[I 2024-12-08 19:06:41,063] Trial 10 finished with value: 0.7238210844349624 and parameters: {'C': 0.5044602920775375, 'kernel': 'rbf'}. Best is trial 5 with value: 0.7333111510217872.\n",
      "[I 2024-12-08 19:06:42,745] Trial 11 finished with value: 0.7229967449109058 and parameters: {'C': 0.20539940791282602, 'kernel': 'rbf'}. Best is trial 5 with value: 0.7333111510217872.\n",
      "[I 2024-12-08 19:06:44,530] Trial 12 finished with value: 0.7155769512278651 and parameters: {'C': 4.357162122134124, 'kernel': 'rbf'}. Best is trial 5 with value: 0.7333111510217872.\n",
      "[I 2024-12-08 19:06:45,625] Trial 13 finished with value: 0.7270713483124953 and parameters: {'C': 0.03410821303237766, 'kernel': 'linear'}. Best is trial 5 with value: 0.7333111510217872.\n",
      "[I 2024-12-08 19:06:47,331] Trial 14 finished with value: 0.7272925450102208 and parameters: {'C': 3.089978371301997, 'kernel': 'rbf'}. Best is trial 5 with value: 0.7333111510217872.\n",
      "[I 2024-12-08 19:06:50,330] Trial 15 finished with value: 0.6885356752848375 and parameters: {'C': 90.3281842724686, 'kernel': 'rbf'}. Best is trial 5 with value: 0.7333111510217872.\n",
      "[I 2024-12-08 19:06:51,985] Trial 16 finished with value: 0.7244991316799299 and parameters: {'C': 2.7540546252766003, 'kernel': 'rbf'}. Best is trial 5 with value: 0.7333111510217872.\n",
      "[I 2024-12-08 19:06:53,565] Trial 17 finished with value: 0.7292727898065895 and parameters: {'C': 1.6132987041011089, 'kernel': 'rbf'}. Best is trial 5 with value: 0.7333111510217872.\n",
      "[I 2024-12-08 19:06:55,133] Trial 18 finished with value: 0.7274917022521976 and parameters: {'C': 0.8592411529501437, 'kernel': 'rbf'}. Best is trial 5 with value: 0.7333111510217872.\n",
      "[I 2024-12-08 19:06:57,285] Trial 19 finished with value: 0.7045006802727111 and parameters: {'C': 31.325264780992683, 'kernel': 'rbf'}. Best is trial 5 with value: 0.7333111510217872.\n",
      "[I 2024-12-08 19:06:58,766] A new study created in memory with name: no-name-6749a8aa-cf54-4eea-919a-deadea216ec2\n",
      "[I 2024-12-08 19:06:59,723] Trial 0 finished with value: 0.7252653644691989 and parameters: {'C': 0.03486707853486287, 'kernel': 'linear'}. Best is trial 0 with value: 0.7252653644691989.\n",
      "[I 2024-12-08 19:07:02,545] Trial 1 finished with value: 0.6795445482658841 and parameters: {'C': 0.000792075557379209, 'kernel': 'rbf'}. Best is trial 0 with value: 0.7252653644691989.\n",
      "[I 2024-12-08 19:07:03,618] Trial 2 finished with value: 0.7252653644691989 and parameters: {'C': 0.003169893856863154, 'kernel': 'linear'}. Best is trial 0 with value: 0.7252653644691989.\n",
      "[I 2024-12-08 19:07:06,419] Trial 3 finished with value: 0.6733702699766897 and parameters: {'C': 0.004214529652318597, 'kernel': 'rbf'}. Best is trial 0 with value: 0.7252653644691989.\n",
      "[I 2024-12-08 19:07:09,279] Trial 4 finished with value: 0.706258753686297 and parameters: {'C': 79.20738101397096, 'kernel': 'rbf'}. Best is trial 0 with value: 0.7252653644691989.\n",
      "[I 2024-12-08 19:07:10,374] Trial 5 finished with value: 0.7255596594023619 and parameters: {'C': 0.0023893961824360994, 'kernel': 'linear'}. Best is trial 5 with value: 0.7255596594023619.\n",
      "[I 2024-12-08 19:07:11,841] Trial 6 finished with value: 0.6351210555618254 and parameters: {'C': 0.864525403465534, 'kernel': 'sigmoid'}. Best is trial 5 with value: 0.7255596594023619.\n",
      "[I 2024-12-08 19:07:12,947] Trial 7 finished with value: 0.7252653644691989 and parameters: {'C': 0.14656367387933594, 'kernel': 'linear'}. Best is trial 5 with value: 0.7255596594023619.\n",
      "[I 2024-12-08 19:07:37,470] Trial 8 finished with value: 0.7252653644691989 and parameters: {'C': 96.62152092622792, 'kernel': 'linear'}. Best is trial 5 with value: 0.7255596594023619.\n",
      "[I 2024-12-08 19:07:38,683] Trial 9 finished with value: 0.7252653644691989 and parameters: {'C': 0.29398791735133284, 'kernel': 'linear'}. Best is trial 5 with value: 0.7255596594023619.\n",
      "[I 2024-12-08 19:07:41,517] Trial 10 finished with value: 0.7109162572516616 and parameters: {'C': 0.00010859181843034279, 'kernel': 'sigmoid'}. Best is trial 5 with value: 0.7255596594023619.\n",
      "[I 2024-12-08 19:07:42,546] Trial 11 finished with value: 0.7258203444899181 and parameters: {'C': 0.020701037371571272, 'kernel': 'linear'}. Best is trial 11 with value: 0.7258203444899181.\n",
      "[I 2024-12-08 19:07:43,584] Trial 12 finished with value: 0.7258018451558941 and parameters: {'C': 0.01993315562971311, 'kernel': 'linear'}. Best is trial 11 with value: 0.7258203444899181.\n",
      "[I 2024-12-08 19:07:44,619] Trial 13 finished with value: 0.7252653644691989 and parameters: {'C': 0.02774827375759353, 'kernel': 'linear'}. Best is trial 11 with value: 0.7258203444899181.\n",
      "[I 2024-12-08 19:07:47,732] Trial 14 finished with value: 0.7252653644691989 and parameters: {'C': 5.33436833156034, 'kernel': 'linear'}. Best is trial 11 with value: 0.7258203444899181.\n",
      "[I 2024-12-08 19:07:49,696] Trial 15 finished with value: 0.7202690867218912 and parameters: {'C': 0.015561409724453863, 'kernel': 'sigmoid'}. Best is trial 11 with value: 0.7258203444899181.\n",
      "[I 2024-12-08 19:07:51,362] Trial 16 finished with value: 0.7252653644691989 and parameters: {'C': 1.2859978351861885, 'kernel': 'linear'}. Best is trial 11 with value: 0.7258203444899181.\n",
      "[I 2024-12-08 19:07:52,739] Trial 17 finished with value: 0.7308036016808324 and parameters: {'C': 0.0003179638135669397, 'kernel': 'linear'}. Best is trial 17 with value: 0.7308036016808324.\n",
      "[I 2024-12-08 19:07:55,587] Trial 18 finished with value: 0.6781169107381027 and parameters: {'C': 0.0002295443370405455, 'kernel': 'rbf'}. Best is trial 17 with value: 0.7308036016808324.\n",
      "[I 2024-12-08 19:07:58,425] Trial 19 finished with value: 0.70782619824451 and parameters: {'C': 0.0009562151970392171, 'kernel': 'sigmoid'}. Best is trial 17 with value: 0.7308036016808324.\n"
     ]
    },
    {
     "data": {
      "text/html": [
       "<div>\n",
       "<style scoped>\n",
       "    .dataframe tbody tr th:only-of-type {\n",
       "        vertical-align: middle;\n",
       "    }\n",
       "\n",
       "    .dataframe tbody tr th {\n",
       "        vertical-align: top;\n",
       "    }\n",
       "\n",
       "    .dataframe thead th {\n",
       "        text-align: right;\n",
       "    }\n",
       "</style>\n",
       "<table border=\"1\" class=\"dataframe\">\n",
       "  <thead>\n",
       "    <tr style=\"text-align: right;\">\n",
       "      <th></th>\n",
       "      <th>F1 Score</th>\n",
       "      <th>Precision</th>\n",
       "      <th>Recall</th>\n",
       "      <th>ROC AUC</th>\n",
       "      <th>Model</th>\n",
       "    </tr>\n",
       "  </thead>\n",
       "  <tbody>\n",
       "    <tr>\n",
       "      <th>0</th>\n",
       "      <td>0.723404</td>\n",
       "      <td>0.733813</td>\n",
       "      <td>0.713287</td>\n",
       "      <td>0.869534</td>\n",
       "      <td>Logistic Regression</td>\n",
       "    </tr>\n",
       "    <tr>\n",
       "      <th>1</th>\n",
       "      <td>0.733813</td>\n",
       "      <td>0.750000</td>\n",
       "      <td>0.718310</td>\n",
       "      <td>0.868899</td>\n",
       "      <td>Logistic Regression</td>\n",
       "    </tr>\n",
       "    <tr>\n",
       "      <th>2</th>\n",
       "      <td>0.763251</td>\n",
       "      <td>0.765957</td>\n",
       "      <td>0.760563</td>\n",
       "      <td>0.885277</td>\n",
       "      <td>Logistic Regression</td>\n",
       "    </tr>\n",
       "    <tr>\n",
       "      <th>3</th>\n",
       "      <td>0.739927</td>\n",
       "      <td>0.770992</td>\n",
       "      <td>0.711268</td>\n",
       "      <td>0.879346</td>\n",
       "      <td>Logistic Regression</td>\n",
       "    </tr>\n",
       "    <tr>\n",
       "      <th>4</th>\n",
       "      <td>0.755396</td>\n",
       "      <td>0.772059</td>\n",
       "      <td>0.739437</td>\n",
       "      <td>0.891960</td>\n",
       "      <td>Logistic Regression</td>\n",
       "    </tr>\n",
       "    <tr>\n",
       "      <th>5</th>\n",
       "      <td>0.778571</td>\n",
       "      <td>0.789855</td>\n",
       "      <td>0.767606</td>\n",
       "      <td>0.886397</td>\n",
       "      <td>Logistic Regression</td>\n",
       "    </tr>\n",
       "    <tr>\n",
       "      <th>6</th>\n",
       "      <td>0.750877</td>\n",
       "      <td>0.748252</td>\n",
       "      <td>0.753521</td>\n",
       "      <td>0.897735</td>\n",
       "      <td>Logistic Regression</td>\n",
       "    </tr>\n",
       "    <tr>\n",
       "      <th>7</th>\n",
       "      <td>0.726644</td>\n",
       "      <td>0.714286</td>\n",
       "      <td>0.739437</td>\n",
       "      <td>0.868920</td>\n",
       "      <td>Logistic Regression</td>\n",
       "    </tr>\n",
       "    <tr>\n",
       "      <th>8</th>\n",
       "      <td>0.757895</td>\n",
       "      <td>0.755245</td>\n",
       "      <td>0.760563</td>\n",
       "      <td>0.890692</td>\n",
       "      <td>Logistic Regression</td>\n",
       "    </tr>\n",
       "    <tr>\n",
       "      <th>9</th>\n",
       "      <td>0.713755</td>\n",
       "      <td>0.755906</td>\n",
       "      <td>0.676056</td>\n",
       "      <td>0.856491</td>\n",
       "      <td>Logistic Regression</td>\n",
       "    </tr>\n",
       "    <tr>\n",
       "      <th>10</th>\n",
       "      <td>0.739437</td>\n",
       "      <td>0.744681</td>\n",
       "      <td>0.734266</td>\n",
       "      <td>0.883986</td>\n",
       "      <td>AdaBoost</td>\n",
       "    </tr>\n",
       "    <tr>\n",
       "      <th>11</th>\n",
       "      <td>0.743056</td>\n",
       "      <td>0.732877</td>\n",
       "      <td>0.753521</td>\n",
       "      <td>0.893056</td>\n",
       "      <td>AdaBoost</td>\n",
       "    </tr>\n",
       "    <tr>\n",
       "      <th>12</th>\n",
       "      <td>0.758621</td>\n",
       "      <td>0.743243</td>\n",
       "      <td>0.774648</td>\n",
       "      <td>0.887418</td>\n",
       "      <td>AdaBoost</td>\n",
       "    </tr>\n",
       "    <tr>\n",
       "      <th>13</th>\n",
       "      <td>0.690476</td>\n",
       "      <td>0.790909</td>\n",
       "      <td>0.612676</td>\n",
       "      <td>0.879498</td>\n",
       "      <td>AdaBoost</td>\n",
       "    </tr>\n",
       "    <tr>\n",
       "      <th>14</th>\n",
       "      <td>0.784173</td>\n",
       "      <td>0.801471</td>\n",
       "      <td>0.767606</td>\n",
       "      <td>0.898404</td>\n",
       "      <td>AdaBoost</td>\n",
       "    </tr>\n",
       "    <tr>\n",
       "      <th>15</th>\n",
       "      <td>0.762590</td>\n",
       "      <td>0.779412</td>\n",
       "      <td>0.746479</td>\n",
       "      <td>0.895446</td>\n",
       "      <td>AdaBoost</td>\n",
       "    </tr>\n",
       "    <tr>\n",
       "      <th>16</th>\n",
       "      <td>0.767606</td>\n",
       "      <td>0.767606</td>\n",
       "      <td>0.767606</td>\n",
       "      <td>0.899261</td>\n",
       "      <td>AdaBoost</td>\n",
       "    </tr>\n",
       "    <tr>\n",
       "      <th>17</th>\n",
       "      <td>0.741007</td>\n",
       "      <td>0.757353</td>\n",
       "      <td>0.725352</td>\n",
       "      <td>0.880646</td>\n",
       "      <td>AdaBoost</td>\n",
       "    </tr>\n",
       "    <tr>\n",
       "      <th>18</th>\n",
       "      <td>0.776224</td>\n",
       "      <td>0.770833</td>\n",
       "      <td>0.781690</td>\n",
       "      <td>0.894038</td>\n",
       "      <td>AdaBoost</td>\n",
       "    </tr>\n",
       "    <tr>\n",
       "      <th>19</th>\n",
       "      <td>0.741313</td>\n",
       "      <td>0.820513</td>\n",
       "      <td>0.676056</td>\n",
       "      <td>0.884131</td>\n",
       "      <td>AdaBoost</td>\n",
       "    </tr>\n",
       "    <tr>\n",
       "      <th>20</th>\n",
       "      <td>0.714286</td>\n",
       "      <td>0.825688</td>\n",
       "      <td>0.629371</td>\n",
       "      <td>0.865653</td>\n",
       "      <td>SVM</td>\n",
       "    </tr>\n",
       "    <tr>\n",
       "      <th>21</th>\n",
       "      <td>0.742857</td>\n",
       "      <td>0.753623</td>\n",
       "      <td>0.732394</td>\n",
       "      <td>0.862232</td>\n",
       "      <td>SVM</td>\n",
       "    </tr>\n",
       "    <tr>\n",
       "      <th>22</th>\n",
       "      <td>0.758621</td>\n",
       "      <td>0.743243</td>\n",
       "      <td>0.774648</td>\n",
       "      <td>0.876398</td>\n",
       "      <td>SVM</td>\n",
       "    </tr>\n",
       "    <tr>\n",
       "      <th>23</th>\n",
       "      <td>0.695652</td>\n",
       "      <td>0.792793</td>\n",
       "      <td>0.619718</td>\n",
       "      <td>0.866478</td>\n",
       "      <td>SVM</td>\n",
       "    </tr>\n",
       "    <tr>\n",
       "      <th>24</th>\n",
       "      <td>0.747253</td>\n",
       "      <td>0.778626</td>\n",
       "      <td>0.718310</td>\n",
       "      <td>0.866209</td>\n",
       "      <td>SVM</td>\n",
       "    </tr>\n",
       "    <tr>\n",
       "      <th>25</th>\n",
       "      <td>0.759398</td>\n",
       "      <td>0.814516</td>\n",
       "      <td>0.711268</td>\n",
       "      <td>0.890164</td>\n",
       "      <td>SVM</td>\n",
       "    </tr>\n",
       "    <tr>\n",
       "      <th>26</th>\n",
       "      <td>0.739726</td>\n",
       "      <td>0.720000</td>\n",
       "      <td>0.760563</td>\n",
       "      <td>0.886068</td>\n",
       "      <td>SVM</td>\n",
       "    </tr>\n",
       "    <tr>\n",
       "      <th>27</th>\n",
       "      <td>0.712121</td>\n",
       "      <td>0.770492</td>\n",
       "      <td>0.661972</td>\n",
       "      <td>0.864143</td>\n",
       "      <td>SVM</td>\n",
       "    </tr>\n",
       "    <tr>\n",
       "      <th>28</th>\n",
       "      <td>0.753731</td>\n",
       "      <td>0.801587</td>\n",
       "      <td>0.711268</td>\n",
       "      <td>0.856362</td>\n",
       "      <td>SVM</td>\n",
       "    </tr>\n",
       "    <tr>\n",
       "      <th>29</th>\n",
       "      <td>0.738956</td>\n",
       "      <td>0.859813</td>\n",
       "      <td>0.647887</td>\n",
       "      <td>0.861549</td>\n",
       "      <td>SVM</td>\n",
       "    </tr>\n",
       "  </tbody>\n",
       "</table>\n",
       "</div>"
      ],
      "text/plain": [
       "    F1 Score  Precision    Recall   ROC AUC                Model\n",
       "0   0.723404   0.733813  0.713287  0.869534  Logistic Regression\n",
       "1   0.733813   0.750000  0.718310  0.868899  Logistic Regression\n",
       "2   0.763251   0.765957  0.760563  0.885277  Logistic Regression\n",
       "3   0.739927   0.770992  0.711268  0.879346  Logistic Regression\n",
       "4   0.755396   0.772059  0.739437  0.891960  Logistic Regression\n",
       "5   0.778571   0.789855  0.767606  0.886397  Logistic Regression\n",
       "6   0.750877   0.748252  0.753521  0.897735  Logistic Regression\n",
       "7   0.726644   0.714286  0.739437  0.868920  Logistic Regression\n",
       "8   0.757895   0.755245  0.760563  0.890692  Logistic Regression\n",
       "9   0.713755   0.755906  0.676056  0.856491  Logistic Regression\n",
       "10  0.739437   0.744681  0.734266  0.883986             AdaBoost\n",
       "11  0.743056   0.732877  0.753521  0.893056             AdaBoost\n",
       "12  0.758621   0.743243  0.774648  0.887418             AdaBoost\n",
       "13  0.690476   0.790909  0.612676  0.879498             AdaBoost\n",
       "14  0.784173   0.801471  0.767606  0.898404             AdaBoost\n",
       "15  0.762590   0.779412  0.746479  0.895446             AdaBoost\n",
       "16  0.767606   0.767606  0.767606  0.899261             AdaBoost\n",
       "17  0.741007   0.757353  0.725352  0.880646             AdaBoost\n",
       "18  0.776224   0.770833  0.781690  0.894038             AdaBoost\n",
       "19  0.741313   0.820513  0.676056  0.884131             AdaBoost\n",
       "20  0.714286   0.825688  0.629371  0.865653                  SVM\n",
       "21  0.742857   0.753623  0.732394  0.862232                  SVM\n",
       "22  0.758621   0.743243  0.774648  0.876398                  SVM\n",
       "23  0.695652   0.792793  0.619718  0.866478                  SVM\n",
       "24  0.747253   0.778626  0.718310  0.866209                  SVM\n",
       "25  0.759398   0.814516  0.711268  0.890164                  SVM\n",
       "26  0.739726   0.720000  0.760563  0.886068                  SVM\n",
       "27  0.712121   0.770492  0.661972  0.864143                  SVM\n",
       "28  0.753731   0.801587  0.711268  0.856362                  SVM\n",
       "29  0.738956   0.859813  0.647887  0.861549                  SVM"
      ]
     },
     "metadata": {},
     "output_type": "display_data"
    }
   ],
   "source": [
    "optuna_algo_dict = {\n",
    "    'Logistic Regression': algo_dict['Logistic Regression'],\n",
    "    'AdaBoost': algo_dict['AdaBoost'],\n",
    "    'SVM': algo_dict['SVM']\n",
    "}\n",
    "\n",
    "# Executa a validação cruzada aninhada com otimização de hiperparâmetros via Optuna\n",
    "results_df, best_studies, best_params, best_f1 = nested_cv_with_optuna(X, y, optuna_algo_dict, outer_folds=10, inner_folds=10, metric='f1')\n",
    "display(results_df)"
   ]
  },
  {
   "cell_type": "code",
   "execution_count": 567,
   "metadata": {},
   "outputs": [
    {
     "name": "stdout",
     "output_type": "stream",
     "text": [
      "Best F1 for Logistic Regression: 0.7785714285714286\n",
      "Best Parameters for Logistic Regression: {'Modelo__C': 0.022993949148565417}\n",
      "Plots for model: Logistic Regression\n"
     ]
    },
    {
     "data": {
      "application/vnd.plotly.v1+json": {
       "config": {
        "plotlyServerURL": "https://plot.ly"
       },
       "data": [
        {
         "mode": "markers",
         "name": "Objective Value",
         "type": "scatter",
         "x": [
          0,
          1,
          2,
          3,
          4,
          5,
          6,
          7,
          8,
          9,
          10,
          11,
          12,
          13,
          14,
          15,
          16,
          17,
          18,
          19
         ],
         "y": [
          0.7233317146947147,
          0.7378449832821665,
          0.7382615050577941,
          0.739299436072811,
          0.7308574309488595,
          0.7393930079316193,
          0.7355680482526165,
          0.7396593182934543,
          0.7357287146447113,
          0.7436543299009234,
          0.7438600601927357,
          0.7379417073063695,
          0.7354734074261173,
          0.739304395430651,
          0.7380278309416126,
          0.7395517558731342,
          0.7360661078446958,
          0.7369656006493973,
          0.7356648879898526,
          0.7371637930316983
         ]
        },
        {
         "mode": "lines",
         "name": "Best Value",
         "type": "scatter",
         "x": [
          0,
          1,
          2,
          3,
          4,
          5,
          6,
          7,
          8,
          9,
          10,
          11,
          12,
          13,
          14,
          15,
          16,
          17,
          18,
          19
         ],
         "y": [
          0.7233317146947147,
          0.7378449832821665,
          0.7382615050577941,
          0.739299436072811,
          0.739299436072811,
          0.7393930079316193,
          0.7393930079316193,
          0.7396593182934543,
          0.7396593182934543,
          0.7436543299009234,
          0.7438600601927357,
          0.7438600601927357,
          0.7438600601927357,
          0.7438600601927357,
          0.7438600601927357,
          0.7438600601927357,
          0.7438600601927357,
          0.7438600601927357,
          0.7438600601927357,
          0.7438600601927357
         ]
        },
        {
         "marker": {
          "color": "#cccccc"
         },
         "mode": "markers",
         "name": "Infeasible Trial",
         "showlegend": false,
         "type": "scatter",
         "x": [],
         "y": []
        }
       ],
       "layout": {
        "template": {
         "data": {
          "bar": [
           {
            "error_x": {
             "color": "#2a3f5f"
            },
            "error_y": {
             "color": "#2a3f5f"
            },
            "marker": {
             "line": {
              "color": "#E5ECF6",
              "width": 0.5
             },
             "pattern": {
              "fillmode": "overlay",
              "size": 10,
              "solidity": 0.2
             }
            },
            "type": "bar"
           }
          ],
          "barpolar": [
           {
            "marker": {
             "line": {
              "color": "#E5ECF6",
              "width": 0.5
             },
             "pattern": {
              "fillmode": "overlay",
              "size": 10,
              "solidity": 0.2
             }
            },
            "type": "barpolar"
           }
          ],
          "carpet": [
           {
            "aaxis": {
             "endlinecolor": "#2a3f5f",
             "gridcolor": "white",
             "linecolor": "white",
             "minorgridcolor": "white",
             "startlinecolor": "#2a3f5f"
            },
            "baxis": {
             "endlinecolor": "#2a3f5f",
             "gridcolor": "white",
             "linecolor": "white",
             "minorgridcolor": "white",
             "startlinecolor": "#2a3f5f"
            },
            "type": "carpet"
           }
          ],
          "choropleth": [
           {
            "colorbar": {
             "outlinewidth": 0,
             "ticks": ""
            },
            "type": "choropleth"
           }
          ],
          "contour": [
           {
            "colorbar": {
             "outlinewidth": 0,
             "ticks": ""
            },
            "colorscale": [
             [
              0,
              "#0d0887"
             ],
             [
              0.1111111111111111,
              "#46039f"
             ],
             [
              0.2222222222222222,
              "#7201a8"
             ],
             [
              0.3333333333333333,
              "#9c179e"
             ],
             [
              0.4444444444444444,
              "#bd3786"
             ],
             [
              0.5555555555555556,
              "#d8576b"
             ],
             [
              0.6666666666666666,
              "#ed7953"
             ],
             [
              0.7777777777777778,
              "#fb9f3a"
             ],
             [
              0.8888888888888888,
              "#fdca26"
             ],
             [
              1,
              "#f0f921"
             ]
            ],
            "type": "contour"
           }
          ],
          "contourcarpet": [
           {
            "colorbar": {
             "outlinewidth": 0,
             "ticks": ""
            },
            "type": "contourcarpet"
           }
          ],
          "heatmap": [
           {
            "colorbar": {
             "outlinewidth": 0,
             "ticks": ""
            },
            "colorscale": [
             [
              0,
              "#0d0887"
             ],
             [
              0.1111111111111111,
              "#46039f"
             ],
             [
              0.2222222222222222,
              "#7201a8"
             ],
             [
              0.3333333333333333,
              "#9c179e"
             ],
             [
              0.4444444444444444,
              "#bd3786"
             ],
             [
              0.5555555555555556,
              "#d8576b"
             ],
             [
              0.6666666666666666,
              "#ed7953"
             ],
             [
              0.7777777777777778,
              "#fb9f3a"
             ],
             [
              0.8888888888888888,
              "#fdca26"
             ],
             [
              1,
              "#f0f921"
             ]
            ],
            "type": "heatmap"
           }
          ],
          "heatmapgl": [
           {
            "colorbar": {
             "outlinewidth": 0,
             "ticks": ""
            },
            "colorscale": [
             [
              0,
              "#0d0887"
             ],
             [
              0.1111111111111111,
              "#46039f"
             ],
             [
              0.2222222222222222,
              "#7201a8"
             ],
             [
              0.3333333333333333,
              "#9c179e"
             ],
             [
              0.4444444444444444,
              "#bd3786"
             ],
             [
              0.5555555555555556,
              "#d8576b"
             ],
             [
              0.6666666666666666,
              "#ed7953"
             ],
             [
              0.7777777777777778,
              "#fb9f3a"
             ],
             [
              0.8888888888888888,
              "#fdca26"
             ],
             [
              1,
              "#f0f921"
             ]
            ],
            "type": "heatmapgl"
           }
          ],
          "histogram": [
           {
            "marker": {
             "pattern": {
              "fillmode": "overlay",
              "size": 10,
              "solidity": 0.2
             }
            },
            "type": "histogram"
           }
          ],
          "histogram2d": [
           {
            "colorbar": {
             "outlinewidth": 0,
             "ticks": ""
            },
            "colorscale": [
             [
              0,
              "#0d0887"
             ],
             [
              0.1111111111111111,
              "#46039f"
             ],
             [
              0.2222222222222222,
              "#7201a8"
             ],
             [
              0.3333333333333333,
              "#9c179e"
             ],
             [
              0.4444444444444444,
              "#bd3786"
             ],
             [
              0.5555555555555556,
              "#d8576b"
             ],
             [
              0.6666666666666666,
              "#ed7953"
             ],
             [
              0.7777777777777778,
              "#fb9f3a"
             ],
             [
              0.8888888888888888,
              "#fdca26"
             ],
             [
              1,
              "#f0f921"
             ]
            ],
            "type": "histogram2d"
           }
          ],
          "histogram2dcontour": [
           {
            "colorbar": {
             "outlinewidth": 0,
             "ticks": ""
            },
            "colorscale": [
             [
              0,
              "#0d0887"
             ],
             [
              0.1111111111111111,
              "#46039f"
             ],
             [
              0.2222222222222222,
              "#7201a8"
             ],
             [
              0.3333333333333333,
              "#9c179e"
             ],
             [
              0.4444444444444444,
              "#bd3786"
             ],
             [
              0.5555555555555556,
              "#d8576b"
             ],
             [
              0.6666666666666666,
              "#ed7953"
             ],
             [
              0.7777777777777778,
              "#fb9f3a"
             ],
             [
              0.8888888888888888,
              "#fdca26"
             ],
             [
              1,
              "#f0f921"
             ]
            ],
            "type": "histogram2dcontour"
           }
          ],
          "mesh3d": [
           {
            "colorbar": {
             "outlinewidth": 0,
             "ticks": ""
            },
            "type": "mesh3d"
           }
          ],
          "parcoords": [
           {
            "line": {
             "colorbar": {
              "outlinewidth": 0,
              "ticks": ""
             }
            },
            "type": "parcoords"
           }
          ],
          "pie": [
           {
            "automargin": true,
            "type": "pie"
           }
          ],
          "scatter": [
           {
            "fillpattern": {
             "fillmode": "overlay",
             "size": 10,
             "solidity": 0.2
            },
            "type": "scatter"
           }
          ],
          "scatter3d": [
           {
            "line": {
             "colorbar": {
              "outlinewidth": 0,
              "ticks": ""
             }
            },
            "marker": {
             "colorbar": {
              "outlinewidth": 0,
              "ticks": ""
             }
            },
            "type": "scatter3d"
           }
          ],
          "scattercarpet": [
           {
            "marker": {
             "colorbar": {
              "outlinewidth": 0,
              "ticks": ""
             }
            },
            "type": "scattercarpet"
           }
          ],
          "scattergeo": [
           {
            "marker": {
             "colorbar": {
              "outlinewidth": 0,
              "ticks": ""
             }
            },
            "type": "scattergeo"
           }
          ],
          "scattergl": [
           {
            "marker": {
             "colorbar": {
              "outlinewidth": 0,
              "ticks": ""
             }
            },
            "type": "scattergl"
           }
          ],
          "scattermapbox": [
           {
            "marker": {
             "colorbar": {
              "outlinewidth": 0,
              "ticks": ""
             }
            },
            "type": "scattermapbox"
           }
          ],
          "scatterpolar": [
           {
            "marker": {
             "colorbar": {
              "outlinewidth": 0,
              "ticks": ""
             }
            },
            "type": "scatterpolar"
           }
          ],
          "scatterpolargl": [
           {
            "marker": {
             "colorbar": {
              "outlinewidth": 0,
              "ticks": ""
             }
            },
            "type": "scatterpolargl"
           }
          ],
          "scatterternary": [
           {
            "marker": {
             "colorbar": {
              "outlinewidth": 0,
              "ticks": ""
             }
            },
            "type": "scatterternary"
           }
          ],
          "surface": [
           {
            "colorbar": {
             "outlinewidth": 0,
             "ticks": ""
            },
            "colorscale": [
             [
              0,
              "#0d0887"
             ],
             [
              0.1111111111111111,
              "#46039f"
             ],
             [
              0.2222222222222222,
              "#7201a8"
             ],
             [
              0.3333333333333333,
              "#9c179e"
             ],
             [
              0.4444444444444444,
              "#bd3786"
             ],
             [
              0.5555555555555556,
              "#d8576b"
             ],
             [
              0.6666666666666666,
              "#ed7953"
             ],
             [
              0.7777777777777778,
              "#fb9f3a"
             ],
             [
              0.8888888888888888,
              "#fdca26"
             ],
             [
              1,
              "#f0f921"
             ]
            ],
            "type": "surface"
           }
          ],
          "table": [
           {
            "cells": {
             "fill": {
              "color": "#EBF0F8"
             },
             "line": {
              "color": "white"
             }
            },
            "header": {
             "fill": {
              "color": "#C8D4E3"
             },
             "line": {
              "color": "white"
             }
            },
            "type": "table"
           }
          ]
         },
         "layout": {
          "annotationdefaults": {
           "arrowcolor": "#2a3f5f",
           "arrowhead": 0,
           "arrowwidth": 1
          },
          "autotypenumbers": "strict",
          "coloraxis": {
           "colorbar": {
            "outlinewidth": 0,
            "ticks": ""
           }
          },
          "colorscale": {
           "diverging": [
            [
             0,
             "#8e0152"
            ],
            [
             0.1,
             "#c51b7d"
            ],
            [
             0.2,
             "#de77ae"
            ],
            [
             0.3,
             "#f1b6da"
            ],
            [
             0.4,
             "#fde0ef"
            ],
            [
             0.5,
             "#f7f7f7"
            ],
            [
             0.6,
             "#e6f5d0"
            ],
            [
             0.7,
             "#b8e186"
            ],
            [
             0.8,
             "#7fbc41"
            ],
            [
             0.9,
             "#4d9221"
            ],
            [
             1,
             "#276419"
            ]
           ],
           "sequential": [
            [
             0,
             "#0d0887"
            ],
            [
             0.1111111111111111,
             "#46039f"
            ],
            [
             0.2222222222222222,
             "#7201a8"
            ],
            [
             0.3333333333333333,
             "#9c179e"
            ],
            [
             0.4444444444444444,
             "#bd3786"
            ],
            [
             0.5555555555555556,
             "#d8576b"
            ],
            [
             0.6666666666666666,
             "#ed7953"
            ],
            [
             0.7777777777777778,
             "#fb9f3a"
            ],
            [
             0.8888888888888888,
             "#fdca26"
            ],
            [
             1,
             "#f0f921"
            ]
           ],
           "sequentialminus": [
            [
             0,
             "#0d0887"
            ],
            [
             0.1111111111111111,
             "#46039f"
            ],
            [
             0.2222222222222222,
             "#7201a8"
            ],
            [
             0.3333333333333333,
             "#9c179e"
            ],
            [
             0.4444444444444444,
             "#bd3786"
            ],
            [
             0.5555555555555556,
             "#d8576b"
            ],
            [
             0.6666666666666666,
             "#ed7953"
            ],
            [
             0.7777777777777778,
             "#fb9f3a"
            ],
            [
             0.8888888888888888,
             "#fdca26"
            ],
            [
             1,
             "#f0f921"
            ]
           ]
          },
          "colorway": [
           "#636efa",
           "#EF553B",
           "#00cc96",
           "#ab63fa",
           "#FFA15A",
           "#19d3f3",
           "#FF6692",
           "#B6E880",
           "#FF97FF",
           "#FECB52"
          ],
          "font": {
           "color": "#2a3f5f"
          },
          "geo": {
           "bgcolor": "white",
           "lakecolor": "white",
           "landcolor": "#E5ECF6",
           "showlakes": true,
           "showland": true,
           "subunitcolor": "white"
          },
          "hoverlabel": {
           "align": "left"
          },
          "hovermode": "closest",
          "mapbox": {
           "style": "light"
          },
          "paper_bgcolor": "white",
          "plot_bgcolor": "#E5ECF6",
          "polar": {
           "angularaxis": {
            "gridcolor": "white",
            "linecolor": "white",
            "ticks": ""
           },
           "bgcolor": "#E5ECF6",
           "radialaxis": {
            "gridcolor": "white",
            "linecolor": "white",
            "ticks": ""
           }
          },
          "scene": {
           "xaxis": {
            "backgroundcolor": "#E5ECF6",
            "gridcolor": "white",
            "gridwidth": 2,
            "linecolor": "white",
            "showbackground": true,
            "ticks": "",
            "zerolinecolor": "white"
           },
           "yaxis": {
            "backgroundcolor": "#E5ECF6",
            "gridcolor": "white",
            "gridwidth": 2,
            "linecolor": "white",
            "showbackground": true,
            "ticks": "",
            "zerolinecolor": "white"
           },
           "zaxis": {
            "backgroundcolor": "#E5ECF6",
            "gridcolor": "white",
            "gridwidth": 2,
            "linecolor": "white",
            "showbackground": true,
            "ticks": "",
            "zerolinecolor": "white"
           }
          },
          "shapedefaults": {
           "line": {
            "color": "#2a3f5f"
           }
          },
          "ternary": {
           "aaxis": {
            "gridcolor": "white",
            "linecolor": "white",
            "ticks": ""
           },
           "baxis": {
            "gridcolor": "white",
            "linecolor": "white",
            "ticks": ""
           },
           "bgcolor": "#E5ECF6",
           "caxis": {
            "gridcolor": "white",
            "linecolor": "white",
            "ticks": ""
           }
          },
          "title": {
           "x": 0.05
          },
          "xaxis": {
           "automargin": true,
           "gridcolor": "white",
           "linecolor": "white",
           "ticks": "",
           "title": {
            "standoff": 15
           },
           "zerolinecolor": "white",
           "zerolinewidth": 2
          },
          "yaxis": {
           "automargin": true,
           "gridcolor": "white",
           "linecolor": "white",
           "ticks": "",
           "title": {
            "standoff": 15
           },
           "zerolinecolor": "white",
           "zerolinewidth": 2
          }
         }
        },
        "title": {
         "text": "Optimization History Plot"
        },
        "xaxis": {
         "title": {
          "text": "Trial"
         }
        },
        "yaxis": {
         "title": {
          "text": "Objective Value"
         }
        }
       }
      }
     },
     "metadata": {},
     "output_type": "display_data"
    },
    {
     "data": {
      "application/vnd.plotly.v1+json": {
       "config": {
        "plotlyServerURL": "https://plot.ly"
       },
       "data": [
        {
         "marker": {
          "color": [
           0,
           1,
           2,
           3,
           4,
           5,
           6,
           7,
           8,
           9,
           10,
           11,
           12,
           13,
           14,
           15,
           16,
           17,
           18,
           19
          ],
          "colorbar": {
           "title": {
            "text": "Trial"
           },
           "x": 1,
           "xpad": 40
          },
          "colorscale": [
           [
            0,
            "rgb(247,251,255)"
           ],
           [
            0.125,
            "rgb(222,235,247)"
           ],
           [
            0.25,
            "rgb(198,219,239)"
           ],
           [
            0.375,
            "rgb(158,202,225)"
           ],
           [
            0.5,
            "rgb(107,174,214)"
           ],
           [
            0.625,
            "rgb(66,146,198)"
           ],
           [
            0.75,
            "rgb(33,113,181)"
           ],
           [
            0.875,
            "rgb(8,81,156)"
           ],
           [
            1,
            "rgb(8,48,107)"
           ]
          ],
          "line": {
           "color": "Grey",
           "width": 0.5
          },
          "showscale": true
         },
         "mode": "markers",
         "name": "Feasible Trial",
         "showlegend": false,
         "type": "scatter",
         "x": [
          0.0019871776078860567,
          0.0011005611532407798,
          18.65155844126682,
          34.23732387058813,
          358.6366169838267,
          0.770815611980288,
          0.12728983165319743,
          0.021912388728662344,
          25.602158761092102,
          0.004926491841095516,
          0.022993949148565417,
          0.02345808717709157,
          0.0100417934801074,
          0.25330885811320447,
          0.006748413078410768,
          0.0731492464872538,
          3.081500017539816,
          0.00381261477385563,
          0.030618475859881568,
          0.3434189861562787
         ],
         "xaxis": "x",
         "y": [
          0.7233317146947147,
          0.7378449832821665,
          0.7382615050577941,
          0.739299436072811,
          0.7308574309488595,
          0.7393930079316193,
          0.7355680482526165,
          0.7396593182934543,
          0.7357287146447113,
          0.7436543299009234,
          0.7438600601927357,
          0.7379417073063695,
          0.7354734074261173,
          0.739304395430651,
          0.7380278309416126,
          0.7395517558731342,
          0.7360661078446958,
          0.7369656006493973,
          0.7356648879898526,
          0.7371637930316983
         ],
         "yaxis": "y"
        },
        {
         "marker": {
          "color": [
           0,
           1,
           2,
           3,
           4,
           5,
           6,
           7,
           8,
           9,
           10,
           11,
           12,
           13,
           14,
           15,
           16,
           17,
           18,
           19
          ],
          "colorbar": {
           "title": {
            "text": "Trial"
           },
           "x": 1,
           "xpad": 40
          },
          "colorscale": [
           [
            0,
            "rgb(247,251,255)"
           ],
           [
            0.125,
            "rgb(222,235,247)"
           ],
           [
            0.25,
            "rgb(198,219,239)"
           ],
           [
            0.375,
            "rgb(158,202,225)"
           ],
           [
            0.5,
            "rgb(107,174,214)"
           ],
           [
            0.625,
            "rgb(66,146,198)"
           ],
           [
            0.75,
            "rgb(33,113,181)"
           ],
           [
            0.875,
            "rgb(8,81,156)"
           ],
           [
            1,
            "rgb(8,48,107)"
           ]
          ],
          "line": {
           "color": "Grey",
           "width": 0.5
          },
          "showscale": false
         },
         "mode": "markers",
         "name": "Feasible Trial",
         "showlegend": false,
         "type": "scatter",
         "x": [
          "liblinear_l1",
          "liblinear_l2",
          "liblinear_l2",
          "lbfgs_l2",
          "lbfgs_l2",
          "lbfgs_l2",
          "liblinear_l1",
          "liblinear_l1",
          "liblinear_l2",
          "liblinear_l2",
          "liblinear_l2",
          "liblinear_l2",
          "liblinear_l2",
          "liblinear_l2",
          "liblinear_l2",
          "liblinear_l2",
          "liblinear_l2",
          "liblinear_l2",
          "lbfgs_l2",
          "liblinear_l1"
         ],
         "xaxis": "x2",
         "y": [
          0.7233317146947147,
          0.7378449832821665,
          0.7382615050577941,
          0.739299436072811,
          0.7308574309488595,
          0.7393930079316193,
          0.7355680482526165,
          0.7396593182934543,
          0.7357287146447113,
          0.7436543299009234,
          0.7438600601927357,
          0.7379417073063695,
          0.7354734074261173,
          0.739304395430651,
          0.7380278309416126,
          0.7395517558731342,
          0.7360661078446958,
          0.7369656006493973,
          0.7356648879898526,
          0.7371637930316983
         ],
         "yaxis": "y2"
        }
       ],
       "layout": {
        "template": {
         "data": {
          "bar": [
           {
            "error_x": {
             "color": "#2a3f5f"
            },
            "error_y": {
             "color": "#2a3f5f"
            },
            "marker": {
             "line": {
              "color": "#E5ECF6",
              "width": 0.5
             },
             "pattern": {
              "fillmode": "overlay",
              "size": 10,
              "solidity": 0.2
             }
            },
            "type": "bar"
           }
          ],
          "barpolar": [
           {
            "marker": {
             "line": {
              "color": "#E5ECF6",
              "width": 0.5
             },
             "pattern": {
              "fillmode": "overlay",
              "size": 10,
              "solidity": 0.2
             }
            },
            "type": "barpolar"
           }
          ],
          "carpet": [
           {
            "aaxis": {
             "endlinecolor": "#2a3f5f",
             "gridcolor": "white",
             "linecolor": "white",
             "minorgridcolor": "white",
             "startlinecolor": "#2a3f5f"
            },
            "baxis": {
             "endlinecolor": "#2a3f5f",
             "gridcolor": "white",
             "linecolor": "white",
             "minorgridcolor": "white",
             "startlinecolor": "#2a3f5f"
            },
            "type": "carpet"
           }
          ],
          "choropleth": [
           {
            "colorbar": {
             "outlinewidth": 0,
             "ticks": ""
            },
            "type": "choropleth"
           }
          ],
          "contour": [
           {
            "colorbar": {
             "outlinewidth": 0,
             "ticks": ""
            },
            "colorscale": [
             [
              0,
              "#0d0887"
             ],
             [
              0.1111111111111111,
              "#46039f"
             ],
             [
              0.2222222222222222,
              "#7201a8"
             ],
             [
              0.3333333333333333,
              "#9c179e"
             ],
             [
              0.4444444444444444,
              "#bd3786"
             ],
             [
              0.5555555555555556,
              "#d8576b"
             ],
             [
              0.6666666666666666,
              "#ed7953"
             ],
             [
              0.7777777777777778,
              "#fb9f3a"
             ],
             [
              0.8888888888888888,
              "#fdca26"
             ],
             [
              1,
              "#f0f921"
             ]
            ],
            "type": "contour"
           }
          ],
          "contourcarpet": [
           {
            "colorbar": {
             "outlinewidth": 0,
             "ticks": ""
            },
            "type": "contourcarpet"
           }
          ],
          "heatmap": [
           {
            "colorbar": {
             "outlinewidth": 0,
             "ticks": ""
            },
            "colorscale": [
             [
              0,
              "#0d0887"
             ],
             [
              0.1111111111111111,
              "#46039f"
             ],
             [
              0.2222222222222222,
              "#7201a8"
             ],
             [
              0.3333333333333333,
              "#9c179e"
             ],
             [
              0.4444444444444444,
              "#bd3786"
             ],
             [
              0.5555555555555556,
              "#d8576b"
             ],
             [
              0.6666666666666666,
              "#ed7953"
             ],
             [
              0.7777777777777778,
              "#fb9f3a"
             ],
             [
              0.8888888888888888,
              "#fdca26"
             ],
             [
              1,
              "#f0f921"
             ]
            ],
            "type": "heatmap"
           }
          ],
          "heatmapgl": [
           {
            "colorbar": {
             "outlinewidth": 0,
             "ticks": ""
            },
            "colorscale": [
             [
              0,
              "#0d0887"
             ],
             [
              0.1111111111111111,
              "#46039f"
             ],
             [
              0.2222222222222222,
              "#7201a8"
             ],
             [
              0.3333333333333333,
              "#9c179e"
             ],
             [
              0.4444444444444444,
              "#bd3786"
             ],
             [
              0.5555555555555556,
              "#d8576b"
             ],
             [
              0.6666666666666666,
              "#ed7953"
             ],
             [
              0.7777777777777778,
              "#fb9f3a"
             ],
             [
              0.8888888888888888,
              "#fdca26"
             ],
             [
              1,
              "#f0f921"
             ]
            ],
            "type": "heatmapgl"
           }
          ],
          "histogram": [
           {
            "marker": {
             "pattern": {
              "fillmode": "overlay",
              "size": 10,
              "solidity": 0.2
             }
            },
            "type": "histogram"
           }
          ],
          "histogram2d": [
           {
            "colorbar": {
             "outlinewidth": 0,
             "ticks": ""
            },
            "colorscale": [
             [
              0,
              "#0d0887"
             ],
             [
              0.1111111111111111,
              "#46039f"
             ],
             [
              0.2222222222222222,
              "#7201a8"
             ],
             [
              0.3333333333333333,
              "#9c179e"
             ],
             [
              0.4444444444444444,
              "#bd3786"
             ],
             [
              0.5555555555555556,
              "#d8576b"
             ],
             [
              0.6666666666666666,
              "#ed7953"
             ],
             [
              0.7777777777777778,
              "#fb9f3a"
             ],
             [
              0.8888888888888888,
              "#fdca26"
             ],
             [
              1,
              "#f0f921"
             ]
            ],
            "type": "histogram2d"
           }
          ],
          "histogram2dcontour": [
           {
            "colorbar": {
             "outlinewidth": 0,
             "ticks": ""
            },
            "colorscale": [
             [
              0,
              "#0d0887"
             ],
             [
              0.1111111111111111,
              "#46039f"
             ],
             [
              0.2222222222222222,
              "#7201a8"
             ],
             [
              0.3333333333333333,
              "#9c179e"
             ],
             [
              0.4444444444444444,
              "#bd3786"
             ],
             [
              0.5555555555555556,
              "#d8576b"
             ],
             [
              0.6666666666666666,
              "#ed7953"
             ],
             [
              0.7777777777777778,
              "#fb9f3a"
             ],
             [
              0.8888888888888888,
              "#fdca26"
             ],
             [
              1,
              "#f0f921"
             ]
            ],
            "type": "histogram2dcontour"
           }
          ],
          "mesh3d": [
           {
            "colorbar": {
             "outlinewidth": 0,
             "ticks": ""
            },
            "type": "mesh3d"
           }
          ],
          "parcoords": [
           {
            "line": {
             "colorbar": {
              "outlinewidth": 0,
              "ticks": ""
             }
            },
            "type": "parcoords"
           }
          ],
          "pie": [
           {
            "automargin": true,
            "type": "pie"
           }
          ],
          "scatter": [
           {
            "fillpattern": {
             "fillmode": "overlay",
             "size": 10,
             "solidity": 0.2
            },
            "type": "scatter"
           }
          ],
          "scatter3d": [
           {
            "line": {
             "colorbar": {
              "outlinewidth": 0,
              "ticks": ""
             }
            },
            "marker": {
             "colorbar": {
              "outlinewidth": 0,
              "ticks": ""
             }
            },
            "type": "scatter3d"
           }
          ],
          "scattercarpet": [
           {
            "marker": {
             "colorbar": {
              "outlinewidth": 0,
              "ticks": ""
             }
            },
            "type": "scattercarpet"
           }
          ],
          "scattergeo": [
           {
            "marker": {
             "colorbar": {
              "outlinewidth": 0,
              "ticks": ""
             }
            },
            "type": "scattergeo"
           }
          ],
          "scattergl": [
           {
            "marker": {
             "colorbar": {
              "outlinewidth": 0,
              "ticks": ""
             }
            },
            "type": "scattergl"
           }
          ],
          "scattermapbox": [
           {
            "marker": {
             "colorbar": {
              "outlinewidth": 0,
              "ticks": ""
             }
            },
            "type": "scattermapbox"
           }
          ],
          "scatterpolar": [
           {
            "marker": {
             "colorbar": {
              "outlinewidth": 0,
              "ticks": ""
             }
            },
            "type": "scatterpolar"
           }
          ],
          "scatterpolargl": [
           {
            "marker": {
             "colorbar": {
              "outlinewidth": 0,
              "ticks": ""
             }
            },
            "type": "scatterpolargl"
           }
          ],
          "scatterternary": [
           {
            "marker": {
             "colorbar": {
              "outlinewidth": 0,
              "ticks": ""
             }
            },
            "type": "scatterternary"
           }
          ],
          "surface": [
           {
            "colorbar": {
             "outlinewidth": 0,
             "ticks": ""
            },
            "colorscale": [
             [
              0,
              "#0d0887"
             ],
             [
              0.1111111111111111,
              "#46039f"
             ],
             [
              0.2222222222222222,
              "#7201a8"
             ],
             [
              0.3333333333333333,
              "#9c179e"
             ],
             [
              0.4444444444444444,
              "#bd3786"
             ],
             [
              0.5555555555555556,
              "#d8576b"
             ],
             [
              0.6666666666666666,
              "#ed7953"
             ],
             [
              0.7777777777777778,
              "#fb9f3a"
             ],
             [
              0.8888888888888888,
              "#fdca26"
             ],
             [
              1,
              "#f0f921"
             ]
            ],
            "type": "surface"
           }
          ],
          "table": [
           {
            "cells": {
             "fill": {
              "color": "#EBF0F8"
             },
             "line": {
              "color": "white"
             }
            },
            "header": {
             "fill": {
              "color": "#C8D4E3"
             },
             "line": {
              "color": "white"
             }
            },
            "type": "table"
           }
          ]
         },
         "layout": {
          "annotationdefaults": {
           "arrowcolor": "#2a3f5f",
           "arrowhead": 0,
           "arrowwidth": 1
          },
          "autotypenumbers": "strict",
          "coloraxis": {
           "colorbar": {
            "outlinewidth": 0,
            "ticks": ""
           }
          },
          "colorscale": {
           "diverging": [
            [
             0,
             "#8e0152"
            ],
            [
             0.1,
             "#c51b7d"
            ],
            [
             0.2,
             "#de77ae"
            ],
            [
             0.3,
             "#f1b6da"
            ],
            [
             0.4,
             "#fde0ef"
            ],
            [
             0.5,
             "#f7f7f7"
            ],
            [
             0.6,
             "#e6f5d0"
            ],
            [
             0.7,
             "#b8e186"
            ],
            [
             0.8,
             "#7fbc41"
            ],
            [
             0.9,
             "#4d9221"
            ],
            [
             1,
             "#276419"
            ]
           ],
           "sequential": [
            [
             0,
             "#0d0887"
            ],
            [
             0.1111111111111111,
             "#46039f"
            ],
            [
             0.2222222222222222,
             "#7201a8"
            ],
            [
             0.3333333333333333,
             "#9c179e"
            ],
            [
             0.4444444444444444,
             "#bd3786"
            ],
            [
             0.5555555555555556,
             "#d8576b"
            ],
            [
             0.6666666666666666,
             "#ed7953"
            ],
            [
             0.7777777777777778,
             "#fb9f3a"
            ],
            [
             0.8888888888888888,
             "#fdca26"
            ],
            [
             1,
             "#f0f921"
            ]
           ],
           "sequentialminus": [
            [
             0,
             "#0d0887"
            ],
            [
             0.1111111111111111,
             "#46039f"
            ],
            [
             0.2222222222222222,
             "#7201a8"
            ],
            [
             0.3333333333333333,
             "#9c179e"
            ],
            [
             0.4444444444444444,
             "#bd3786"
            ],
            [
             0.5555555555555556,
             "#d8576b"
            ],
            [
             0.6666666666666666,
             "#ed7953"
            ],
            [
             0.7777777777777778,
             "#fb9f3a"
            ],
            [
             0.8888888888888888,
             "#fdca26"
            ],
            [
             1,
             "#f0f921"
            ]
           ]
          },
          "colorway": [
           "#636efa",
           "#EF553B",
           "#00cc96",
           "#ab63fa",
           "#FFA15A",
           "#19d3f3",
           "#FF6692",
           "#B6E880",
           "#FF97FF",
           "#FECB52"
          ],
          "font": {
           "color": "#2a3f5f"
          },
          "geo": {
           "bgcolor": "white",
           "lakecolor": "white",
           "landcolor": "#E5ECF6",
           "showlakes": true,
           "showland": true,
           "subunitcolor": "white"
          },
          "hoverlabel": {
           "align": "left"
          },
          "hovermode": "closest",
          "mapbox": {
           "style": "light"
          },
          "paper_bgcolor": "white",
          "plot_bgcolor": "#E5ECF6",
          "polar": {
           "angularaxis": {
            "gridcolor": "white",
            "linecolor": "white",
            "ticks": ""
           },
           "bgcolor": "#E5ECF6",
           "radialaxis": {
            "gridcolor": "white",
            "linecolor": "white",
            "ticks": ""
           }
          },
          "scene": {
           "xaxis": {
            "backgroundcolor": "#E5ECF6",
            "gridcolor": "white",
            "gridwidth": 2,
            "linecolor": "white",
            "showbackground": true,
            "ticks": "",
            "zerolinecolor": "white"
           },
           "yaxis": {
            "backgroundcolor": "#E5ECF6",
            "gridcolor": "white",
            "gridwidth": 2,
            "linecolor": "white",
            "showbackground": true,
            "ticks": "",
            "zerolinecolor": "white"
           },
           "zaxis": {
            "backgroundcolor": "#E5ECF6",
            "gridcolor": "white",
            "gridwidth": 2,
            "linecolor": "white",
            "showbackground": true,
            "ticks": "",
            "zerolinecolor": "white"
           }
          },
          "shapedefaults": {
           "line": {
            "color": "#2a3f5f"
           }
          },
          "ternary": {
           "aaxis": {
            "gridcolor": "white",
            "linecolor": "white",
            "ticks": ""
           },
           "baxis": {
            "gridcolor": "white",
            "linecolor": "white",
            "ticks": ""
           },
           "bgcolor": "#E5ECF6",
           "caxis": {
            "gridcolor": "white",
            "linecolor": "white",
            "ticks": ""
           }
          },
          "title": {
           "x": 0.05
          },
          "xaxis": {
           "automargin": true,
           "gridcolor": "white",
           "linecolor": "white",
           "ticks": "",
           "title": {
            "standoff": 15
           },
           "zerolinecolor": "white",
           "zerolinewidth": 2
          },
          "yaxis": {
           "automargin": true,
           "gridcolor": "white",
           "linecolor": "white",
           "ticks": "",
           "title": {
            "standoff": 15
           },
           "zerolinecolor": "white",
           "zerolinewidth": 2
          }
         }
        },
        "title": {
         "text": "Slice Plot"
        },
        "xaxis": {
         "anchor": "y",
         "domain": [
          0,
          0.45
         ],
         "title": {
          "text": "C"
         },
         "type": "log"
        },
        "xaxis2": {
         "anchor": "y2",
         "categoryarray": [
          "liblinear_l1",
          "liblinear_l2",
          "lbfgs_l2"
         ],
         "categoryorder": "array",
         "domain": [
          0.55,
          1
         ],
         "title": {
          "text": "solver_penalty"
         },
         "type": "category"
        },
        "yaxis": {
         "anchor": "x",
         "domain": [
          0,
          1
         ],
         "title": {
          "text": "Objective Value"
         }
        },
        "yaxis2": {
         "anchor": "x2",
         "domain": [
          0,
          1
         ],
         "matches": "y",
         "showticklabels": false
        }
       }
      }
     },
     "metadata": {},
     "output_type": "display_data"
    },
    {
     "data": {
      "application/vnd.plotly.v1+json": {
       "config": {
        "plotlyServerURL": "https://plot.ly"
       },
       "data": [
        {
         "dimensions": [
          {
           "label": "Objective Value",
           "range": [
            0.7233317146947147,
            0.7438600601927357
           ],
           "values": [
            0.7233317146947147,
            0.7378449832821665,
            0.7382615050577941,
            0.739299436072811,
            0.7308574309488595,
            0.7393930079316193,
            0.7355680482526165,
            0.7396593182934543,
            0.7357287146447113,
            0.7436543299009234,
            0.7438600601927357,
            0.7379417073063695,
            0.7354734074261173,
            0.739304395430651,
            0.7380278309416126,
            0.7395517558731342,
            0.7360661078446958,
            0.7369656006493973,
            0.7356648879898526,
            0.7371637930316983
           ]
          },
          {
           "label": "C",
           "range": [
            -2.9583858206461726,
            2.5546546291808845
           ],
           "ticktext": [
            "0.0011",
            "0.01",
            "0.1",
            "1",
            "10",
            "100",
            "359"
           ],
           "tickvals": [
            -2.9583858206461726,
            -2,
            -1,
            0,
            1,
            2,
            2.5546546291808845
           ],
           "values": [
            -2.7017633152365623,
            -2.9583858206461726,
            1.2707151253761073,
            1.534499811096894,
            2.5546546291808845,
            -0.11304949779418237,
            -0.8952062878882661,
            -1.6593102762444412,
            1.4082765863471063,
            -2.30746223212121,
            -1.638386433422308,
            -1.6297074040833524,
            -1.9981887145860537,
            -0.5963496228331416,
            -2.170798341586216,
            -1.1357901431970874,
            0.4887621745386868,
            -2.418777073572531,
            -1.5140164316037155,
            -0.4641756982404232
           ]
          },
          {
           "label": "solver_penalty",
           "range": [
            0,
            2
           ],
           "ticktext": [
            "liblinear_l1",
            "liblinear_l2",
            "lbfgs_l2"
           ],
           "tickvals": [
            0,
            1,
            2
           ],
           "values": [
            0,
            1,
            1,
            2,
            2,
            2,
            0,
            0,
            1,
            1,
            1,
            1,
            1,
            1,
            1,
            1,
            1,
            1,
            2,
            0
           ]
          }
         ],
         "labelangle": 30,
         "labelside": "bottom",
         "line": {
          "color": [
           0.7233317146947147,
           0.7378449832821665,
           0.7382615050577941,
           0.739299436072811,
           0.7308574309488595,
           0.7393930079316193,
           0.7355680482526165,
           0.7396593182934543,
           0.7357287146447113,
           0.7436543299009234,
           0.7438600601927357,
           0.7379417073063695,
           0.7354734074261173,
           0.739304395430651,
           0.7380278309416126,
           0.7395517558731342,
           0.7360661078446958,
           0.7369656006493973,
           0.7356648879898526,
           0.7371637930316983
          ],
          "colorbar": {
           "title": {
            "text": "Objective Value"
           }
          },
          "colorscale": [
           [
            0,
            "rgb(247,251,255)"
           ],
           [
            0.125,
            "rgb(222,235,247)"
           ],
           [
            0.25,
            "rgb(198,219,239)"
           ],
           [
            0.375,
            "rgb(158,202,225)"
           ],
           [
            0.5,
            "rgb(107,174,214)"
           ],
           [
            0.625,
            "rgb(66,146,198)"
           ],
           [
            0.75,
            "rgb(33,113,181)"
           ],
           [
            0.875,
            "rgb(8,81,156)"
           ],
           [
            1,
            "rgb(8,48,107)"
           ]
          ],
          "reversescale": false,
          "showscale": true
         },
         "type": "parcoords"
        }
       ],
       "layout": {
        "template": {
         "data": {
          "bar": [
           {
            "error_x": {
             "color": "#2a3f5f"
            },
            "error_y": {
             "color": "#2a3f5f"
            },
            "marker": {
             "line": {
              "color": "#E5ECF6",
              "width": 0.5
             },
             "pattern": {
              "fillmode": "overlay",
              "size": 10,
              "solidity": 0.2
             }
            },
            "type": "bar"
           }
          ],
          "barpolar": [
           {
            "marker": {
             "line": {
              "color": "#E5ECF6",
              "width": 0.5
             },
             "pattern": {
              "fillmode": "overlay",
              "size": 10,
              "solidity": 0.2
             }
            },
            "type": "barpolar"
           }
          ],
          "carpet": [
           {
            "aaxis": {
             "endlinecolor": "#2a3f5f",
             "gridcolor": "white",
             "linecolor": "white",
             "minorgridcolor": "white",
             "startlinecolor": "#2a3f5f"
            },
            "baxis": {
             "endlinecolor": "#2a3f5f",
             "gridcolor": "white",
             "linecolor": "white",
             "minorgridcolor": "white",
             "startlinecolor": "#2a3f5f"
            },
            "type": "carpet"
           }
          ],
          "choropleth": [
           {
            "colorbar": {
             "outlinewidth": 0,
             "ticks": ""
            },
            "type": "choropleth"
           }
          ],
          "contour": [
           {
            "colorbar": {
             "outlinewidth": 0,
             "ticks": ""
            },
            "colorscale": [
             [
              0,
              "#0d0887"
             ],
             [
              0.1111111111111111,
              "#46039f"
             ],
             [
              0.2222222222222222,
              "#7201a8"
             ],
             [
              0.3333333333333333,
              "#9c179e"
             ],
             [
              0.4444444444444444,
              "#bd3786"
             ],
             [
              0.5555555555555556,
              "#d8576b"
             ],
             [
              0.6666666666666666,
              "#ed7953"
             ],
             [
              0.7777777777777778,
              "#fb9f3a"
             ],
             [
              0.8888888888888888,
              "#fdca26"
             ],
             [
              1,
              "#f0f921"
             ]
            ],
            "type": "contour"
           }
          ],
          "contourcarpet": [
           {
            "colorbar": {
             "outlinewidth": 0,
             "ticks": ""
            },
            "type": "contourcarpet"
           }
          ],
          "heatmap": [
           {
            "colorbar": {
             "outlinewidth": 0,
             "ticks": ""
            },
            "colorscale": [
             [
              0,
              "#0d0887"
             ],
             [
              0.1111111111111111,
              "#46039f"
             ],
             [
              0.2222222222222222,
              "#7201a8"
             ],
             [
              0.3333333333333333,
              "#9c179e"
             ],
             [
              0.4444444444444444,
              "#bd3786"
             ],
             [
              0.5555555555555556,
              "#d8576b"
             ],
             [
              0.6666666666666666,
              "#ed7953"
             ],
             [
              0.7777777777777778,
              "#fb9f3a"
             ],
             [
              0.8888888888888888,
              "#fdca26"
             ],
             [
              1,
              "#f0f921"
             ]
            ],
            "type": "heatmap"
           }
          ],
          "heatmapgl": [
           {
            "colorbar": {
             "outlinewidth": 0,
             "ticks": ""
            },
            "colorscale": [
             [
              0,
              "#0d0887"
             ],
             [
              0.1111111111111111,
              "#46039f"
             ],
             [
              0.2222222222222222,
              "#7201a8"
             ],
             [
              0.3333333333333333,
              "#9c179e"
             ],
             [
              0.4444444444444444,
              "#bd3786"
             ],
             [
              0.5555555555555556,
              "#d8576b"
             ],
             [
              0.6666666666666666,
              "#ed7953"
             ],
             [
              0.7777777777777778,
              "#fb9f3a"
             ],
             [
              0.8888888888888888,
              "#fdca26"
             ],
             [
              1,
              "#f0f921"
             ]
            ],
            "type": "heatmapgl"
           }
          ],
          "histogram": [
           {
            "marker": {
             "pattern": {
              "fillmode": "overlay",
              "size": 10,
              "solidity": 0.2
             }
            },
            "type": "histogram"
           }
          ],
          "histogram2d": [
           {
            "colorbar": {
             "outlinewidth": 0,
             "ticks": ""
            },
            "colorscale": [
             [
              0,
              "#0d0887"
             ],
             [
              0.1111111111111111,
              "#46039f"
             ],
             [
              0.2222222222222222,
              "#7201a8"
             ],
             [
              0.3333333333333333,
              "#9c179e"
             ],
             [
              0.4444444444444444,
              "#bd3786"
             ],
             [
              0.5555555555555556,
              "#d8576b"
             ],
             [
              0.6666666666666666,
              "#ed7953"
             ],
             [
              0.7777777777777778,
              "#fb9f3a"
             ],
             [
              0.8888888888888888,
              "#fdca26"
             ],
             [
              1,
              "#f0f921"
             ]
            ],
            "type": "histogram2d"
           }
          ],
          "histogram2dcontour": [
           {
            "colorbar": {
             "outlinewidth": 0,
             "ticks": ""
            },
            "colorscale": [
             [
              0,
              "#0d0887"
             ],
             [
              0.1111111111111111,
              "#46039f"
             ],
             [
              0.2222222222222222,
              "#7201a8"
             ],
             [
              0.3333333333333333,
              "#9c179e"
             ],
             [
              0.4444444444444444,
              "#bd3786"
             ],
             [
              0.5555555555555556,
              "#d8576b"
             ],
             [
              0.6666666666666666,
              "#ed7953"
             ],
             [
              0.7777777777777778,
              "#fb9f3a"
             ],
             [
              0.8888888888888888,
              "#fdca26"
             ],
             [
              1,
              "#f0f921"
             ]
            ],
            "type": "histogram2dcontour"
           }
          ],
          "mesh3d": [
           {
            "colorbar": {
             "outlinewidth": 0,
             "ticks": ""
            },
            "type": "mesh3d"
           }
          ],
          "parcoords": [
           {
            "line": {
             "colorbar": {
              "outlinewidth": 0,
              "ticks": ""
             }
            },
            "type": "parcoords"
           }
          ],
          "pie": [
           {
            "automargin": true,
            "type": "pie"
           }
          ],
          "scatter": [
           {
            "fillpattern": {
             "fillmode": "overlay",
             "size": 10,
             "solidity": 0.2
            },
            "type": "scatter"
           }
          ],
          "scatter3d": [
           {
            "line": {
             "colorbar": {
              "outlinewidth": 0,
              "ticks": ""
             }
            },
            "marker": {
             "colorbar": {
              "outlinewidth": 0,
              "ticks": ""
             }
            },
            "type": "scatter3d"
           }
          ],
          "scattercarpet": [
           {
            "marker": {
             "colorbar": {
              "outlinewidth": 0,
              "ticks": ""
             }
            },
            "type": "scattercarpet"
           }
          ],
          "scattergeo": [
           {
            "marker": {
             "colorbar": {
              "outlinewidth": 0,
              "ticks": ""
             }
            },
            "type": "scattergeo"
           }
          ],
          "scattergl": [
           {
            "marker": {
             "colorbar": {
              "outlinewidth": 0,
              "ticks": ""
             }
            },
            "type": "scattergl"
           }
          ],
          "scattermapbox": [
           {
            "marker": {
             "colorbar": {
              "outlinewidth": 0,
              "ticks": ""
             }
            },
            "type": "scattermapbox"
           }
          ],
          "scatterpolar": [
           {
            "marker": {
             "colorbar": {
              "outlinewidth": 0,
              "ticks": ""
             }
            },
            "type": "scatterpolar"
           }
          ],
          "scatterpolargl": [
           {
            "marker": {
             "colorbar": {
              "outlinewidth": 0,
              "ticks": ""
             }
            },
            "type": "scatterpolargl"
           }
          ],
          "scatterternary": [
           {
            "marker": {
             "colorbar": {
              "outlinewidth": 0,
              "ticks": ""
             }
            },
            "type": "scatterternary"
           }
          ],
          "surface": [
           {
            "colorbar": {
             "outlinewidth": 0,
             "ticks": ""
            },
            "colorscale": [
             [
              0,
              "#0d0887"
             ],
             [
              0.1111111111111111,
              "#46039f"
             ],
             [
              0.2222222222222222,
              "#7201a8"
             ],
             [
              0.3333333333333333,
              "#9c179e"
             ],
             [
              0.4444444444444444,
              "#bd3786"
             ],
             [
              0.5555555555555556,
              "#d8576b"
             ],
             [
              0.6666666666666666,
              "#ed7953"
             ],
             [
              0.7777777777777778,
              "#fb9f3a"
             ],
             [
              0.8888888888888888,
              "#fdca26"
             ],
             [
              1,
              "#f0f921"
             ]
            ],
            "type": "surface"
           }
          ],
          "table": [
           {
            "cells": {
             "fill": {
              "color": "#EBF0F8"
             },
             "line": {
              "color": "white"
             }
            },
            "header": {
             "fill": {
              "color": "#C8D4E3"
             },
             "line": {
              "color": "white"
             }
            },
            "type": "table"
           }
          ]
         },
         "layout": {
          "annotationdefaults": {
           "arrowcolor": "#2a3f5f",
           "arrowhead": 0,
           "arrowwidth": 1
          },
          "autotypenumbers": "strict",
          "coloraxis": {
           "colorbar": {
            "outlinewidth": 0,
            "ticks": ""
           }
          },
          "colorscale": {
           "diverging": [
            [
             0,
             "#8e0152"
            ],
            [
             0.1,
             "#c51b7d"
            ],
            [
             0.2,
             "#de77ae"
            ],
            [
             0.3,
             "#f1b6da"
            ],
            [
             0.4,
             "#fde0ef"
            ],
            [
             0.5,
             "#f7f7f7"
            ],
            [
             0.6,
             "#e6f5d0"
            ],
            [
             0.7,
             "#b8e186"
            ],
            [
             0.8,
             "#7fbc41"
            ],
            [
             0.9,
             "#4d9221"
            ],
            [
             1,
             "#276419"
            ]
           ],
           "sequential": [
            [
             0,
             "#0d0887"
            ],
            [
             0.1111111111111111,
             "#46039f"
            ],
            [
             0.2222222222222222,
             "#7201a8"
            ],
            [
             0.3333333333333333,
             "#9c179e"
            ],
            [
             0.4444444444444444,
             "#bd3786"
            ],
            [
             0.5555555555555556,
             "#d8576b"
            ],
            [
             0.6666666666666666,
             "#ed7953"
            ],
            [
             0.7777777777777778,
             "#fb9f3a"
            ],
            [
             0.8888888888888888,
             "#fdca26"
            ],
            [
             1,
             "#f0f921"
            ]
           ],
           "sequentialminus": [
            [
             0,
             "#0d0887"
            ],
            [
             0.1111111111111111,
             "#46039f"
            ],
            [
             0.2222222222222222,
             "#7201a8"
            ],
            [
             0.3333333333333333,
             "#9c179e"
            ],
            [
             0.4444444444444444,
             "#bd3786"
            ],
            [
             0.5555555555555556,
             "#d8576b"
            ],
            [
             0.6666666666666666,
             "#ed7953"
            ],
            [
             0.7777777777777778,
             "#fb9f3a"
            ],
            [
             0.8888888888888888,
             "#fdca26"
            ],
            [
             1,
             "#f0f921"
            ]
           ]
          },
          "colorway": [
           "#636efa",
           "#EF553B",
           "#00cc96",
           "#ab63fa",
           "#FFA15A",
           "#19d3f3",
           "#FF6692",
           "#B6E880",
           "#FF97FF",
           "#FECB52"
          ],
          "font": {
           "color": "#2a3f5f"
          },
          "geo": {
           "bgcolor": "white",
           "lakecolor": "white",
           "landcolor": "#E5ECF6",
           "showlakes": true,
           "showland": true,
           "subunitcolor": "white"
          },
          "hoverlabel": {
           "align": "left"
          },
          "hovermode": "closest",
          "mapbox": {
           "style": "light"
          },
          "paper_bgcolor": "white",
          "plot_bgcolor": "#E5ECF6",
          "polar": {
           "angularaxis": {
            "gridcolor": "white",
            "linecolor": "white",
            "ticks": ""
           },
           "bgcolor": "#E5ECF6",
           "radialaxis": {
            "gridcolor": "white",
            "linecolor": "white",
            "ticks": ""
           }
          },
          "scene": {
           "xaxis": {
            "backgroundcolor": "#E5ECF6",
            "gridcolor": "white",
            "gridwidth": 2,
            "linecolor": "white",
            "showbackground": true,
            "ticks": "",
            "zerolinecolor": "white"
           },
           "yaxis": {
            "backgroundcolor": "#E5ECF6",
            "gridcolor": "white",
            "gridwidth": 2,
            "linecolor": "white",
            "showbackground": true,
            "ticks": "",
            "zerolinecolor": "white"
           },
           "zaxis": {
            "backgroundcolor": "#E5ECF6",
            "gridcolor": "white",
            "gridwidth": 2,
            "linecolor": "white",
            "showbackground": true,
            "ticks": "",
            "zerolinecolor": "white"
           }
          },
          "shapedefaults": {
           "line": {
            "color": "#2a3f5f"
           }
          },
          "ternary": {
           "aaxis": {
            "gridcolor": "white",
            "linecolor": "white",
            "ticks": ""
           },
           "baxis": {
            "gridcolor": "white",
            "linecolor": "white",
            "ticks": ""
           },
           "bgcolor": "#E5ECF6",
           "caxis": {
            "gridcolor": "white",
            "linecolor": "white",
            "ticks": ""
           }
          },
          "title": {
           "x": 0.05
          },
          "xaxis": {
           "automargin": true,
           "gridcolor": "white",
           "linecolor": "white",
           "ticks": "",
           "title": {
            "standoff": 15
           },
           "zerolinecolor": "white",
           "zerolinewidth": 2
          },
          "yaxis": {
           "automargin": true,
           "gridcolor": "white",
           "linecolor": "white",
           "ticks": "",
           "title": {
            "standoff": 15
           },
           "zerolinecolor": "white",
           "zerolinewidth": 2
          }
         }
        },
        "title": {
         "text": "Parallel Coordinate Plot"
        }
       }
      }
     },
     "metadata": {},
     "output_type": "display_data"
    },
    {
     "data": {
      "application/vnd.plotly.v1+json": {
       "config": {
        "plotlyServerURL": "https://plot.ly"
       },
       "data": [
        {
         "colorbar": {
          "title": {
           "text": "Objective Value"
          }
         },
         "colorscale": [
          [
           0,
           "rgb(247,251,255)"
          ],
          [
           0.125,
           "rgb(222,235,247)"
          ],
          [
           0.25,
           "rgb(198,219,239)"
          ],
          [
           0.375,
           "rgb(158,202,225)"
          ],
          [
           0.5,
           "rgb(107,174,214)"
          ],
          [
           0.625,
           "rgb(66,146,198)"
          ],
          [
           0.75,
           "rgb(33,113,181)"
          ],
          [
           0.875,
           "rgb(8,81,156)"
          ],
          [
           1,
           "rgb(8,48,107)"
          ]
         ],
         "connectgaps": true,
         "contours": {
          "coloring": "heatmap"
         },
         "hoverinfo": "none",
         "line": {
          "smoothing": 1.3
         },
         "reversescale": false,
         "type": "contour",
         "x": [
          0.0005833942668067702,
          0.0011005611532407798,
          0.0019871776078860567,
          0.00381261477385563,
          0.004926491841095516,
          0.006748413078410768,
          0.0100417934801074,
          0.021912388728662344,
          0.022993949148565417,
          0.02345808717709157,
          0.030618475859881568,
          0.0731492464872538,
          0.12728983165319743,
          0.25330885811320447,
          0.3434189861562787,
          0.770815611980288,
          3.081500017539816,
          18.65155844126682,
          25.602158761092102,
          34.23732387058813,
          358.6366169838267,
          676.5605204564408
         ],
         "y": [
          "lbfgs_l2",
          "liblinear_l1",
          "liblinear_l2"
         ],
         "z": [
          [
           null,
           null,
           null,
           null,
           null,
           null,
           null,
           null,
           null,
           null,
           0.7356648879898526,
           null,
           null,
           null,
           null,
           0.7393930079316193,
           null,
           null,
           null,
           0.739299436072811,
           0.7308574309488595,
           null
          ],
          [
           null,
           null,
           0.7233317146947147,
           null,
           null,
           null,
           null,
           0.7396593182934543,
           null,
           null,
           null,
           null,
           0.7355680482526165,
           null,
           0.7371637930316983,
           null,
           null,
           null,
           null,
           null,
           null,
           null
          ],
          [
           null,
           0.7378449832821665,
           null,
           0.7369656006493973,
           0.7436543299009234,
           0.7380278309416126,
           0.7354734074261173,
           null,
           0.7438600601927357,
           0.7379417073063695,
           null,
           0.7395517558731342,
           null,
           0.739304395430651,
           null,
           null,
           0.7360661078446958,
           0.7382615050577941,
           0.7357287146447113,
           null,
           null,
           null
          ]
         ]
        },
        {
         "marker": {
          "color": "black",
          "line": {
           "color": "Gray",
           "width": 2
          }
         },
         "mode": "markers",
         "name": "Feasible Trial",
         "showlegend": false,
         "type": "scatter",
         "x": [
          0.0019871776078860567,
          0.0011005611532407798,
          18.65155844126682,
          34.23732387058813,
          358.6366169838267,
          0.770815611980288,
          0.12728983165319743,
          0.021912388728662344,
          25.602158761092102,
          0.004926491841095516,
          0.022993949148565417,
          0.02345808717709157,
          0.0100417934801074,
          0.25330885811320447,
          0.006748413078410768,
          0.0731492464872538,
          3.081500017539816,
          0.00381261477385563,
          0.030618475859881568,
          0.3434189861562787
         ],
         "y": [
          "liblinear_l1",
          "liblinear_l2",
          "liblinear_l2",
          "lbfgs_l2",
          "lbfgs_l2",
          "lbfgs_l2",
          "liblinear_l1",
          "liblinear_l1",
          "liblinear_l2",
          "liblinear_l2",
          "liblinear_l2",
          "liblinear_l2",
          "liblinear_l2",
          "liblinear_l2",
          "liblinear_l2",
          "liblinear_l2",
          "liblinear_l2",
          "liblinear_l2",
          "lbfgs_l2",
          "liblinear_l1"
         ]
        },
        {
         "marker": {
          "color": "#cccccc",
          "line": {
           "color": "Gray",
           "width": 2
          }
         },
         "mode": "markers",
         "name": "Infeasible Trial",
         "showlegend": false,
         "type": "scatter",
         "x": [],
         "y": []
        }
       ],
       "layout": {
        "template": {
         "data": {
          "bar": [
           {
            "error_x": {
             "color": "#2a3f5f"
            },
            "error_y": {
             "color": "#2a3f5f"
            },
            "marker": {
             "line": {
              "color": "#E5ECF6",
              "width": 0.5
             },
             "pattern": {
              "fillmode": "overlay",
              "size": 10,
              "solidity": 0.2
             }
            },
            "type": "bar"
           }
          ],
          "barpolar": [
           {
            "marker": {
             "line": {
              "color": "#E5ECF6",
              "width": 0.5
             },
             "pattern": {
              "fillmode": "overlay",
              "size": 10,
              "solidity": 0.2
             }
            },
            "type": "barpolar"
           }
          ],
          "carpet": [
           {
            "aaxis": {
             "endlinecolor": "#2a3f5f",
             "gridcolor": "white",
             "linecolor": "white",
             "minorgridcolor": "white",
             "startlinecolor": "#2a3f5f"
            },
            "baxis": {
             "endlinecolor": "#2a3f5f",
             "gridcolor": "white",
             "linecolor": "white",
             "minorgridcolor": "white",
             "startlinecolor": "#2a3f5f"
            },
            "type": "carpet"
           }
          ],
          "choropleth": [
           {
            "colorbar": {
             "outlinewidth": 0,
             "ticks": ""
            },
            "type": "choropleth"
           }
          ],
          "contour": [
           {
            "colorbar": {
             "outlinewidth": 0,
             "ticks": ""
            },
            "colorscale": [
             [
              0,
              "#0d0887"
             ],
             [
              0.1111111111111111,
              "#46039f"
             ],
             [
              0.2222222222222222,
              "#7201a8"
             ],
             [
              0.3333333333333333,
              "#9c179e"
             ],
             [
              0.4444444444444444,
              "#bd3786"
             ],
             [
              0.5555555555555556,
              "#d8576b"
             ],
             [
              0.6666666666666666,
              "#ed7953"
             ],
             [
              0.7777777777777778,
              "#fb9f3a"
             ],
             [
              0.8888888888888888,
              "#fdca26"
             ],
             [
              1,
              "#f0f921"
             ]
            ],
            "type": "contour"
           }
          ],
          "contourcarpet": [
           {
            "colorbar": {
             "outlinewidth": 0,
             "ticks": ""
            },
            "type": "contourcarpet"
           }
          ],
          "heatmap": [
           {
            "colorbar": {
             "outlinewidth": 0,
             "ticks": ""
            },
            "colorscale": [
             [
              0,
              "#0d0887"
             ],
             [
              0.1111111111111111,
              "#46039f"
             ],
             [
              0.2222222222222222,
              "#7201a8"
             ],
             [
              0.3333333333333333,
              "#9c179e"
             ],
             [
              0.4444444444444444,
              "#bd3786"
             ],
             [
              0.5555555555555556,
              "#d8576b"
             ],
             [
              0.6666666666666666,
              "#ed7953"
             ],
             [
              0.7777777777777778,
              "#fb9f3a"
             ],
             [
              0.8888888888888888,
              "#fdca26"
             ],
             [
              1,
              "#f0f921"
             ]
            ],
            "type": "heatmap"
           }
          ],
          "heatmapgl": [
           {
            "colorbar": {
             "outlinewidth": 0,
             "ticks": ""
            },
            "colorscale": [
             [
              0,
              "#0d0887"
             ],
             [
              0.1111111111111111,
              "#46039f"
             ],
             [
              0.2222222222222222,
              "#7201a8"
             ],
             [
              0.3333333333333333,
              "#9c179e"
             ],
             [
              0.4444444444444444,
              "#bd3786"
             ],
             [
              0.5555555555555556,
              "#d8576b"
             ],
             [
              0.6666666666666666,
              "#ed7953"
             ],
             [
              0.7777777777777778,
              "#fb9f3a"
             ],
             [
              0.8888888888888888,
              "#fdca26"
             ],
             [
              1,
              "#f0f921"
             ]
            ],
            "type": "heatmapgl"
           }
          ],
          "histogram": [
           {
            "marker": {
             "pattern": {
              "fillmode": "overlay",
              "size": 10,
              "solidity": 0.2
             }
            },
            "type": "histogram"
           }
          ],
          "histogram2d": [
           {
            "colorbar": {
             "outlinewidth": 0,
             "ticks": ""
            },
            "colorscale": [
             [
              0,
              "#0d0887"
             ],
             [
              0.1111111111111111,
              "#46039f"
             ],
             [
              0.2222222222222222,
              "#7201a8"
             ],
             [
              0.3333333333333333,
              "#9c179e"
             ],
             [
              0.4444444444444444,
              "#bd3786"
             ],
             [
              0.5555555555555556,
              "#d8576b"
             ],
             [
              0.6666666666666666,
              "#ed7953"
             ],
             [
              0.7777777777777778,
              "#fb9f3a"
             ],
             [
              0.8888888888888888,
              "#fdca26"
             ],
             [
              1,
              "#f0f921"
             ]
            ],
            "type": "histogram2d"
           }
          ],
          "histogram2dcontour": [
           {
            "colorbar": {
             "outlinewidth": 0,
             "ticks": ""
            },
            "colorscale": [
             [
              0,
              "#0d0887"
             ],
             [
              0.1111111111111111,
              "#46039f"
             ],
             [
              0.2222222222222222,
              "#7201a8"
             ],
             [
              0.3333333333333333,
              "#9c179e"
             ],
             [
              0.4444444444444444,
              "#bd3786"
             ],
             [
              0.5555555555555556,
              "#d8576b"
             ],
             [
              0.6666666666666666,
              "#ed7953"
             ],
             [
              0.7777777777777778,
              "#fb9f3a"
             ],
             [
              0.8888888888888888,
              "#fdca26"
             ],
             [
              1,
              "#f0f921"
             ]
            ],
            "type": "histogram2dcontour"
           }
          ],
          "mesh3d": [
           {
            "colorbar": {
             "outlinewidth": 0,
             "ticks": ""
            },
            "type": "mesh3d"
           }
          ],
          "parcoords": [
           {
            "line": {
             "colorbar": {
              "outlinewidth": 0,
              "ticks": ""
             }
            },
            "type": "parcoords"
           }
          ],
          "pie": [
           {
            "automargin": true,
            "type": "pie"
           }
          ],
          "scatter": [
           {
            "fillpattern": {
             "fillmode": "overlay",
             "size": 10,
             "solidity": 0.2
            },
            "type": "scatter"
           }
          ],
          "scatter3d": [
           {
            "line": {
             "colorbar": {
              "outlinewidth": 0,
              "ticks": ""
             }
            },
            "marker": {
             "colorbar": {
              "outlinewidth": 0,
              "ticks": ""
             }
            },
            "type": "scatter3d"
           }
          ],
          "scattercarpet": [
           {
            "marker": {
             "colorbar": {
              "outlinewidth": 0,
              "ticks": ""
             }
            },
            "type": "scattercarpet"
           }
          ],
          "scattergeo": [
           {
            "marker": {
             "colorbar": {
              "outlinewidth": 0,
              "ticks": ""
             }
            },
            "type": "scattergeo"
           }
          ],
          "scattergl": [
           {
            "marker": {
             "colorbar": {
              "outlinewidth": 0,
              "ticks": ""
             }
            },
            "type": "scattergl"
           }
          ],
          "scattermapbox": [
           {
            "marker": {
             "colorbar": {
              "outlinewidth": 0,
              "ticks": ""
             }
            },
            "type": "scattermapbox"
           }
          ],
          "scatterpolar": [
           {
            "marker": {
             "colorbar": {
              "outlinewidth": 0,
              "ticks": ""
             }
            },
            "type": "scatterpolar"
           }
          ],
          "scatterpolargl": [
           {
            "marker": {
             "colorbar": {
              "outlinewidth": 0,
              "ticks": ""
             }
            },
            "type": "scatterpolargl"
           }
          ],
          "scatterternary": [
           {
            "marker": {
             "colorbar": {
              "outlinewidth": 0,
              "ticks": ""
             }
            },
            "type": "scatterternary"
           }
          ],
          "surface": [
           {
            "colorbar": {
             "outlinewidth": 0,
             "ticks": ""
            },
            "colorscale": [
             [
              0,
              "#0d0887"
             ],
             [
              0.1111111111111111,
              "#46039f"
             ],
             [
              0.2222222222222222,
              "#7201a8"
             ],
             [
              0.3333333333333333,
              "#9c179e"
             ],
             [
              0.4444444444444444,
              "#bd3786"
             ],
             [
              0.5555555555555556,
              "#d8576b"
             ],
             [
              0.6666666666666666,
              "#ed7953"
             ],
             [
              0.7777777777777778,
              "#fb9f3a"
             ],
             [
              0.8888888888888888,
              "#fdca26"
             ],
             [
              1,
              "#f0f921"
             ]
            ],
            "type": "surface"
           }
          ],
          "table": [
           {
            "cells": {
             "fill": {
              "color": "#EBF0F8"
             },
             "line": {
              "color": "white"
             }
            },
            "header": {
             "fill": {
              "color": "#C8D4E3"
             },
             "line": {
              "color": "white"
             }
            },
            "type": "table"
           }
          ]
         },
         "layout": {
          "annotationdefaults": {
           "arrowcolor": "#2a3f5f",
           "arrowhead": 0,
           "arrowwidth": 1
          },
          "autotypenumbers": "strict",
          "coloraxis": {
           "colorbar": {
            "outlinewidth": 0,
            "ticks": ""
           }
          },
          "colorscale": {
           "diverging": [
            [
             0,
             "#8e0152"
            ],
            [
             0.1,
             "#c51b7d"
            ],
            [
             0.2,
             "#de77ae"
            ],
            [
             0.3,
             "#f1b6da"
            ],
            [
             0.4,
             "#fde0ef"
            ],
            [
             0.5,
             "#f7f7f7"
            ],
            [
             0.6,
             "#e6f5d0"
            ],
            [
             0.7,
             "#b8e186"
            ],
            [
             0.8,
             "#7fbc41"
            ],
            [
             0.9,
             "#4d9221"
            ],
            [
             1,
             "#276419"
            ]
           ],
           "sequential": [
            [
             0,
             "#0d0887"
            ],
            [
             0.1111111111111111,
             "#46039f"
            ],
            [
             0.2222222222222222,
             "#7201a8"
            ],
            [
             0.3333333333333333,
             "#9c179e"
            ],
            [
             0.4444444444444444,
             "#bd3786"
            ],
            [
             0.5555555555555556,
             "#d8576b"
            ],
            [
             0.6666666666666666,
             "#ed7953"
            ],
            [
             0.7777777777777778,
             "#fb9f3a"
            ],
            [
             0.8888888888888888,
             "#fdca26"
            ],
            [
             1,
             "#f0f921"
            ]
           ],
           "sequentialminus": [
            [
             0,
             "#0d0887"
            ],
            [
             0.1111111111111111,
             "#46039f"
            ],
            [
             0.2222222222222222,
             "#7201a8"
            ],
            [
             0.3333333333333333,
             "#9c179e"
            ],
            [
             0.4444444444444444,
             "#bd3786"
            ],
            [
             0.5555555555555556,
             "#d8576b"
            ],
            [
             0.6666666666666666,
             "#ed7953"
            ],
            [
             0.7777777777777778,
             "#fb9f3a"
            ],
            [
             0.8888888888888888,
             "#fdca26"
            ],
            [
             1,
             "#f0f921"
            ]
           ]
          },
          "colorway": [
           "#636efa",
           "#EF553B",
           "#00cc96",
           "#ab63fa",
           "#FFA15A",
           "#19d3f3",
           "#FF6692",
           "#B6E880",
           "#FF97FF",
           "#FECB52"
          ],
          "font": {
           "color": "#2a3f5f"
          },
          "geo": {
           "bgcolor": "white",
           "lakecolor": "white",
           "landcolor": "#E5ECF6",
           "showlakes": true,
           "showland": true,
           "subunitcolor": "white"
          },
          "hoverlabel": {
           "align": "left"
          },
          "hovermode": "closest",
          "mapbox": {
           "style": "light"
          },
          "paper_bgcolor": "white",
          "plot_bgcolor": "#E5ECF6",
          "polar": {
           "angularaxis": {
            "gridcolor": "white",
            "linecolor": "white",
            "ticks": ""
           },
           "bgcolor": "#E5ECF6",
           "radialaxis": {
            "gridcolor": "white",
            "linecolor": "white",
            "ticks": ""
           }
          },
          "scene": {
           "xaxis": {
            "backgroundcolor": "#E5ECF6",
            "gridcolor": "white",
            "gridwidth": 2,
            "linecolor": "white",
            "showbackground": true,
            "ticks": "",
            "zerolinecolor": "white"
           },
           "yaxis": {
            "backgroundcolor": "#E5ECF6",
            "gridcolor": "white",
            "gridwidth": 2,
            "linecolor": "white",
            "showbackground": true,
            "ticks": "",
            "zerolinecolor": "white"
           },
           "zaxis": {
            "backgroundcolor": "#E5ECF6",
            "gridcolor": "white",
            "gridwidth": 2,
            "linecolor": "white",
            "showbackground": true,
            "ticks": "",
            "zerolinecolor": "white"
           }
          },
          "shapedefaults": {
           "line": {
            "color": "#2a3f5f"
           }
          },
          "ternary": {
           "aaxis": {
            "gridcolor": "white",
            "linecolor": "white",
            "ticks": ""
           },
           "baxis": {
            "gridcolor": "white",
            "linecolor": "white",
            "ticks": ""
           },
           "bgcolor": "#E5ECF6",
           "caxis": {
            "gridcolor": "white",
            "linecolor": "white",
            "ticks": ""
           }
          },
          "title": {
           "x": 0.05
          },
          "xaxis": {
           "automargin": true,
           "gridcolor": "white",
           "linecolor": "white",
           "ticks": "",
           "title": {
            "standoff": 15
           },
           "zerolinecolor": "white",
           "zerolinewidth": 2
          },
          "yaxis": {
           "automargin": true,
           "gridcolor": "white",
           "linecolor": "white",
           "ticks": "",
           "title": {
            "standoff": 15
           },
           "zerolinecolor": "white",
           "zerolinewidth": 2
          }
         }
        },
        "title": {
         "text": "Contour Plot"
        },
        "xaxis": {
         "range": [
          -3.2340378431375254,
          2.8303066516722373
         ],
         "title": {
          "text": "C"
         },
         "type": "log"
        },
        "yaxis": {
         "range": [
          -0.1,
          2.1
         ],
         "title": {
          "text": "solver_penalty"
         },
         "type": "category"
        }
       }
      }
     },
     "metadata": {},
     "output_type": "display_data"
    },
    {
     "data": {
      "application/vnd.plotly.v1+json": {
       "config": {
        "plotlyServerURL": "https://plot.ly"
       },
       "data": [
        {
         "cliponaxis": false,
         "hovertemplate": [
          "solver_penalty (CategoricalDistribution): 0.39318092120934395<extra></extra>",
          "C (FloatDistribution): 0.606819078790656<extra></extra>"
         ],
         "name": "Objective Value",
         "orientation": "h",
         "text": [
          "0.39",
          "0.61"
         ],
         "textposition": "outside",
         "type": "bar",
         "x": [
          0.39318092120934395,
          0.606819078790656
         ],
         "y": [
          "solver_penalty",
          "C"
         ]
        }
       ],
       "layout": {
        "template": {
         "data": {
          "bar": [
           {
            "error_x": {
             "color": "#2a3f5f"
            },
            "error_y": {
             "color": "#2a3f5f"
            },
            "marker": {
             "line": {
              "color": "#E5ECF6",
              "width": 0.5
             },
             "pattern": {
              "fillmode": "overlay",
              "size": 10,
              "solidity": 0.2
             }
            },
            "type": "bar"
           }
          ],
          "barpolar": [
           {
            "marker": {
             "line": {
              "color": "#E5ECF6",
              "width": 0.5
             },
             "pattern": {
              "fillmode": "overlay",
              "size": 10,
              "solidity": 0.2
             }
            },
            "type": "barpolar"
           }
          ],
          "carpet": [
           {
            "aaxis": {
             "endlinecolor": "#2a3f5f",
             "gridcolor": "white",
             "linecolor": "white",
             "minorgridcolor": "white",
             "startlinecolor": "#2a3f5f"
            },
            "baxis": {
             "endlinecolor": "#2a3f5f",
             "gridcolor": "white",
             "linecolor": "white",
             "minorgridcolor": "white",
             "startlinecolor": "#2a3f5f"
            },
            "type": "carpet"
           }
          ],
          "choropleth": [
           {
            "colorbar": {
             "outlinewidth": 0,
             "ticks": ""
            },
            "type": "choropleth"
           }
          ],
          "contour": [
           {
            "colorbar": {
             "outlinewidth": 0,
             "ticks": ""
            },
            "colorscale": [
             [
              0,
              "#0d0887"
             ],
             [
              0.1111111111111111,
              "#46039f"
             ],
             [
              0.2222222222222222,
              "#7201a8"
             ],
             [
              0.3333333333333333,
              "#9c179e"
             ],
             [
              0.4444444444444444,
              "#bd3786"
             ],
             [
              0.5555555555555556,
              "#d8576b"
             ],
             [
              0.6666666666666666,
              "#ed7953"
             ],
             [
              0.7777777777777778,
              "#fb9f3a"
             ],
             [
              0.8888888888888888,
              "#fdca26"
             ],
             [
              1,
              "#f0f921"
             ]
            ],
            "type": "contour"
           }
          ],
          "contourcarpet": [
           {
            "colorbar": {
             "outlinewidth": 0,
             "ticks": ""
            },
            "type": "contourcarpet"
           }
          ],
          "heatmap": [
           {
            "colorbar": {
             "outlinewidth": 0,
             "ticks": ""
            },
            "colorscale": [
             [
              0,
              "#0d0887"
             ],
             [
              0.1111111111111111,
              "#46039f"
             ],
             [
              0.2222222222222222,
              "#7201a8"
             ],
             [
              0.3333333333333333,
              "#9c179e"
             ],
             [
              0.4444444444444444,
              "#bd3786"
             ],
             [
              0.5555555555555556,
              "#d8576b"
             ],
             [
              0.6666666666666666,
              "#ed7953"
             ],
             [
              0.7777777777777778,
              "#fb9f3a"
             ],
             [
              0.8888888888888888,
              "#fdca26"
             ],
             [
              1,
              "#f0f921"
             ]
            ],
            "type": "heatmap"
           }
          ],
          "heatmapgl": [
           {
            "colorbar": {
             "outlinewidth": 0,
             "ticks": ""
            },
            "colorscale": [
             [
              0,
              "#0d0887"
             ],
             [
              0.1111111111111111,
              "#46039f"
             ],
             [
              0.2222222222222222,
              "#7201a8"
             ],
             [
              0.3333333333333333,
              "#9c179e"
             ],
             [
              0.4444444444444444,
              "#bd3786"
             ],
             [
              0.5555555555555556,
              "#d8576b"
             ],
             [
              0.6666666666666666,
              "#ed7953"
             ],
             [
              0.7777777777777778,
              "#fb9f3a"
             ],
             [
              0.8888888888888888,
              "#fdca26"
             ],
             [
              1,
              "#f0f921"
             ]
            ],
            "type": "heatmapgl"
           }
          ],
          "histogram": [
           {
            "marker": {
             "pattern": {
              "fillmode": "overlay",
              "size": 10,
              "solidity": 0.2
             }
            },
            "type": "histogram"
           }
          ],
          "histogram2d": [
           {
            "colorbar": {
             "outlinewidth": 0,
             "ticks": ""
            },
            "colorscale": [
             [
              0,
              "#0d0887"
             ],
             [
              0.1111111111111111,
              "#46039f"
             ],
             [
              0.2222222222222222,
              "#7201a8"
             ],
             [
              0.3333333333333333,
              "#9c179e"
             ],
             [
              0.4444444444444444,
              "#bd3786"
             ],
             [
              0.5555555555555556,
              "#d8576b"
             ],
             [
              0.6666666666666666,
              "#ed7953"
             ],
             [
              0.7777777777777778,
              "#fb9f3a"
             ],
             [
              0.8888888888888888,
              "#fdca26"
             ],
             [
              1,
              "#f0f921"
             ]
            ],
            "type": "histogram2d"
           }
          ],
          "histogram2dcontour": [
           {
            "colorbar": {
             "outlinewidth": 0,
             "ticks": ""
            },
            "colorscale": [
             [
              0,
              "#0d0887"
             ],
             [
              0.1111111111111111,
              "#46039f"
             ],
             [
              0.2222222222222222,
              "#7201a8"
             ],
             [
              0.3333333333333333,
              "#9c179e"
             ],
             [
              0.4444444444444444,
              "#bd3786"
             ],
             [
              0.5555555555555556,
              "#d8576b"
             ],
             [
              0.6666666666666666,
              "#ed7953"
             ],
             [
              0.7777777777777778,
              "#fb9f3a"
             ],
             [
              0.8888888888888888,
              "#fdca26"
             ],
             [
              1,
              "#f0f921"
             ]
            ],
            "type": "histogram2dcontour"
           }
          ],
          "mesh3d": [
           {
            "colorbar": {
             "outlinewidth": 0,
             "ticks": ""
            },
            "type": "mesh3d"
           }
          ],
          "parcoords": [
           {
            "line": {
             "colorbar": {
              "outlinewidth": 0,
              "ticks": ""
             }
            },
            "type": "parcoords"
           }
          ],
          "pie": [
           {
            "automargin": true,
            "type": "pie"
           }
          ],
          "scatter": [
           {
            "fillpattern": {
             "fillmode": "overlay",
             "size": 10,
             "solidity": 0.2
            },
            "type": "scatter"
           }
          ],
          "scatter3d": [
           {
            "line": {
             "colorbar": {
              "outlinewidth": 0,
              "ticks": ""
             }
            },
            "marker": {
             "colorbar": {
              "outlinewidth": 0,
              "ticks": ""
             }
            },
            "type": "scatter3d"
           }
          ],
          "scattercarpet": [
           {
            "marker": {
             "colorbar": {
              "outlinewidth": 0,
              "ticks": ""
             }
            },
            "type": "scattercarpet"
           }
          ],
          "scattergeo": [
           {
            "marker": {
             "colorbar": {
              "outlinewidth": 0,
              "ticks": ""
             }
            },
            "type": "scattergeo"
           }
          ],
          "scattergl": [
           {
            "marker": {
             "colorbar": {
              "outlinewidth": 0,
              "ticks": ""
             }
            },
            "type": "scattergl"
           }
          ],
          "scattermapbox": [
           {
            "marker": {
             "colorbar": {
              "outlinewidth": 0,
              "ticks": ""
             }
            },
            "type": "scattermapbox"
           }
          ],
          "scatterpolar": [
           {
            "marker": {
             "colorbar": {
              "outlinewidth": 0,
              "ticks": ""
             }
            },
            "type": "scatterpolar"
           }
          ],
          "scatterpolargl": [
           {
            "marker": {
             "colorbar": {
              "outlinewidth": 0,
              "ticks": ""
             }
            },
            "type": "scatterpolargl"
           }
          ],
          "scatterternary": [
           {
            "marker": {
             "colorbar": {
              "outlinewidth": 0,
              "ticks": ""
             }
            },
            "type": "scatterternary"
           }
          ],
          "surface": [
           {
            "colorbar": {
             "outlinewidth": 0,
             "ticks": ""
            },
            "colorscale": [
             [
              0,
              "#0d0887"
             ],
             [
              0.1111111111111111,
              "#46039f"
             ],
             [
              0.2222222222222222,
              "#7201a8"
             ],
             [
              0.3333333333333333,
              "#9c179e"
             ],
             [
              0.4444444444444444,
              "#bd3786"
             ],
             [
              0.5555555555555556,
              "#d8576b"
             ],
             [
              0.6666666666666666,
              "#ed7953"
             ],
             [
              0.7777777777777778,
              "#fb9f3a"
             ],
             [
              0.8888888888888888,
              "#fdca26"
             ],
             [
              1,
              "#f0f921"
             ]
            ],
            "type": "surface"
           }
          ],
          "table": [
           {
            "cells": {
             "fill": {
              "color": "#EBF0F8"
             },
             "line": {
              "color": "white"
             }
            },
            "header": {
             "fill": {
              "color": "#C8D4E3"
             },
             "line": {
              "color": "white"
             }
            },
            "type": "table"
           }
          ]
         },
         "layout": {
          "annotationdefaults": {
           "arrowcolor": "#2a3f5f",
           "arrowhead": 0,
           "arrowwidth": 1
          },
          "autotypenumbers": "strict",
          "coloraxis": {
           "colorbar": {
            "outlinewidth": 0,
            "ticks": ""
           }
          },
          "colorscale": {
           "diverging": [
            [
             0,
             "#8e0152"
            ],
            [
             0.1,
             "#c51b7d"
            ],
            [
             0.2,
             "#de77ae"
            ],
            [
             0.3,
             "#f1b6da"
            ],
            [
             0.4,
             "#fde0ef"
            ],
            [
             0.5,
             "#f7f7f7"
            ],
            [
             0.6,
             "#e6f5d0"
            ],
            [
             0.7,
             "#b8e186"
            ],
            [
             0.8,
             "#7fbc41"
            ],
            [
             0.9,
             "#4d9221"
            ],
            [
             1,
             "#276419"
            ]
           ],
           "sequential": [
            [
             0,
             "#0d0887"
            ],
            [
             0.1111111111111111,
             "#46039f"
            ],
            [
             0.2222222222222222,
             "#7201a8"
            ],
            [
             0.3333333333333333,
             "#9c179e"
            ],
            [
             0.4444444444444444,
             "#bd3786"
            ],
            [
             0.5555555555555556,
             "#d8576b"
            ],
            [
             0.6666666666666666,
             "#ed7953"
            ],
            [
             0.7777777777777778,
             "#fb9f3a"
            ],
            [
             0.8888888888888888,
             "#fdca26"
            ],
            [
             1,
             "#f0f921"
            ]
           ],
           "sequentialminus": [
            [
             0,
             "#0d0887"
            ],
            [
             0.1111111111111111,
             "#46039f"
            ],
            [
             0.2222222222222222,
             "#7201a8"
            ],
            [
             0.3333333333333333,
             "#9c179e"
            ],
            [
             0.4444444444444444,
             "#bd3786"
            ],
            [
             0.5555555555555556,
             "#d8576b"
            ],
            [
             0.6666666666666666,
             "#ed7953"
            ],
            [
             0.7777777777777778,
             "#fb9f3a"
            ],
            [
             0.8888888888888888,
             "#fdca26"
            ],
            [
             1,
             "#f0f921"
            ]
           ]
          },
          "colorway": [
           "#636efa",
           "#EF553B",
           "#00cc96",
           "#ab63fa",
           "#FFA15A",
           "#19d3f3",
           "#FF6692",
           "#B6E880",
           "#FF97FF",
           "#FECB52"
          ],
          "font": {
           "color": "#2a3f5f"
          },
          "geo": {
           "bgcolor": "white",
           "lakecolor": "white",
           "landcolor": "#E5ECF6",
           "showlakes": true,
           "showland": true,
           "subunitcolor": "white"
          },
          "hoverlabel": {
           "align": "left"
          },
          "hovermode": "closest",
          "mapbox": {
           "style": "light"
          },
          "paper_bgcolor": "white",
          "plot_bgcolor": "#E5ECF6",
          "polar": {
           "angularaxis": {
            "gridcolor": "white",
            "linecolor": "white",
            "ticks": ""
           },
           "bgcolor": "#E5ECF6",
           "radialaxis": {
            "gridcolor": "white",
            "linecolor": "white",
            "ticks": ""
           }
          },
          "scene": {
           "xaxis": {
            "backgroundcolor": "#E5ECF6",
            "gridcolor": "white",
            "gridwidth": 2,
            "linecolor": "white",
            "showbackground": true,
            "ticks": "",
            "zerolinecolor": "white"
           },
           "yaxis": {
            "backgroundcolor": "#E5ECF6",
            "gridcolor": "white",
            "gridwidth": 2,
            "linecolor": "white",
            "showbackground": true,
            "ticks": "",
            "zerolinecolor": "white"
           },
           "zaxis": {
            "backgroundcolor": "#E5ECF6",
            "gridcolor": "white",
            "gridwidth": 2,
            "linecolor": "white",
            "showbackground": true,
            "ticks": "",
            "zerolinecolor": "white"
           }
          },
          "shapedefaults": {
           "line": {
            "color": "#2a3f5f"
           }
          },
          "ternary": {
           "aaxis": {
            "gridcolor": "white",
            "linecolor": "white",
            "ticks": ""
           },
           "baxis": {
            "gridcolor": "white",
            "linecolor": "white",
            "ticks": ""
           },
           "bgcolor": "#E5ECF6",
           "caxis": {
            "gridcolor": "white",
            "linecolor": "white",
            "ticks": ""
           }
          },
          "title": {
           "x": 0.05
          },
          "xaxis": {
           "automargin": true,
           "gridcolor": "white",
           "linecolor": "white",
           "ticks": "",
           "title": {
            "standoff": 15
           },
           "zerolinecolor": "white",
           "zerolinewidth": 2
          },
          "yaxis": {
           "automargin": true,
           "gridcolor": "white",
           "linecolor": "white",
           "ticks": "",
           "title": {
            "standoff": 15
           },
           "zerolinecolor": "white",
           "zerolinewidth": 2
          }
         }
        },
        "title": {
         "text": "Hyperparameter Importances"
        },
        "xaxis": {
         "title": {
          "text": "Hyperparameter Importance"
         }
        },
        "yaxis": {
         "title": {
          "text": "Hyperparameter"
         }
        }
       }
      }
     },
     "metadata": {},
     "output_type": "display_data"
    },
    {
     "name": "stdout",
     "output_type": "stream",
     "text": [
      "Best F1 for AdaBoost: 0.7841726618705036\n",
      "Best Parameters for AdaBoost: {'Modelo__n_estimators': 405, 'Modelo__learning_rate': 1.130971340598003}\n",
      "Plots for model: AdaBoost\n"
     ]
    },
    {
     "data": {
      "application/vnd.plotly.v1+json": {
       "config": {
        "plotlyServerURL": "https://plot.ly"
       },
       "data": [
        {
         "mode": "markers",
         "name": "Objective Value",
         "type": "scatter",
         "x": [
          0,
          1,
          2,
          3,
          4,
          5,
          6,
          7,
          8,
          9,
          10,
          11,
          12,
          13,
          14,
          15,
          16,
          17,
          18,
          19
         ],
         "y": [
          0.6765918826504093,
          0.7208250889837818,
          0.6753210532759913,
          0.7530088075177754,
          0.7542559100033126,
          0.7052944376114778,
          0.7522429496076931,
          0.7441537891013195,
          0.753320297730115,
          0.7412457708739321,
          0.7462534301625258,
          0.7427722647250352,
          0.7345026776172737,
          0.7425817411237375,
          0.742676651243317,
          0.7521811241017351,
          0.7403913794963092,
          0.7361219217913166,
          0.7473051748076305,
          0.742397558909905
         ]
        },
        {
         "mode": "lines",
         "name": "Best Value",
         "type": "scatter",
         "x": [
          0,
          1,
          2,
          3,
          4,
          5,
          6,
          7,
          8,
          9,
          10,
          11,
          12,
          13,
          14,
          15,
          16,
          17,
          18,
          19
         ],
         "y": [
          0.6765918826504093,
          0.7208250889837818,
          0.7208250889837818,
          0.7530088075177754,
          0.7542559100033126,
          0.7542559100033126,
          0.7542559100033126,
          0.7542559100033126,
          0.7542559100033126,
          0.7542559100033126,
          0.7542559100033126,
          0.7542559100033126,
          0.7542559100033126,
          0.7542559100033126,
          0.7542559100033126,
          0.7542559100033126,
          0.7542559100033126,
          0.7542559100033126,
          0.7542559100033126,
          0.7542559100033126
         ]
        },
        {
         "marker": {
          "color": "#cccccc"
         },
         "mode": "markers",
         "name": "Infeasible Trial",
         "showlegend": false,
         "type": "scatter",
         "x": [],
         "y": []
        }
       ],
       "layout": {
        "template": {
         "data": {
          "bar": [
           {
            "error_x": {
             "color": "#2a3f5f"
            },
            "error_y": {
             "color": "#2a3f5f"
            },
            "marker": {
             "line": {
              "color": "#E5ECF6",
              "width": 0.5
             },
             "pattern": {
              "fillmode": "overlay",
              "size": 10,
              "solidity": 0.2
             }
            },
            "type": "bar"
           }
          ],
          "barpolar": [
           {
            "marker": {
             "line": {
              "color": "#E5ECF6",
              "width": 0.5
             },
             "pattern": {
              "fillmode": "overlay",
              "size": 10,
              "solidity": 0.2
             }
            },
            "type": "barpolar"
           }
          ],
          "carpet": [
           {
            "aaxis": {
             "endlinecolor": "#2a3f5f",
             "gridcolor": "white",
             "linecolor": "white",
             "minorgridcolor": "white",
             "startlinecolor": "#2a3f5f"
            },
            "baxis": {
             "endlinecolor": "#2a3f5f",
             "gridcolor": "white",
             "linecolor": "white",
             "minorgridcolor": "white",
             "startlinecolor": "#2a3f5f"
            },
            "type": "carpet"
           }
          ],
          "choropleth": [
           {
            "colorbar": {
             "outlinewidth": 0,
             "ticks": ""
            },
            "type": "choropleth"
           }
          ],
          "contour": [
           {
            "colorbar": {
             "outlinewidth": 0,
             "ticks": ""
            },
            "colorscale": [
             [
              0,
              "#0d0887"
             ],
             [
              0.1111111111111111,
              "#46039f"
             ],
             [
              0.2222222222222222,
              "#7201a8"
             ],
             [
              0.3333333333333333,
              "#9c179e"
             ],
             [
              0.4444444444444444,
              "#bd3786"
             ],
             [
              0.5555555555555556,
              "#d8576b"
             ],
             [
              0.6666666666666666,
              "#ed7953"
             ],
             [
              0.7777777777777778,
              "#fb9f3a"
             ],
             [
              0.8888888888888888,
              "#fdca26"
             ],
             [
              1,
              "#f0f921"
             ]
            ],
            "type": "contour"
           }
          ],
          "contourcarpet": [
           {
            "colorbar": {
             "outlinewidth": 0,
             "ticks": ""
            },
            "type": "contourcarpet"
           }
          ],
          "heatmap": [
           {
            "colorbar": {
             "outlinewidth": 0,
             "ticks": ""
            },
            "colorscale": [
             [
              0,
              "#0d0887"
             ],
             [
              0.1111111111111111,
              "#46039f"
             ],
             [
              0.2222222222222222,
              "#7201a8"
             ],
             [
              0.3333333333333333,
              "#9c179e"
             ],
             [
              0.4444444444444444,
              "#bd3786"
             ],
             [
              0.5555555555555556,
              "#d8576b"
             ],
             [
              0.6666666666666666,
              "#ed7953"
             ],
             [
              0.7777777777777778,
              "#fb9f3a"
             ],
             [
              0.8888888888888888,
              "#fdca26"
             ],
             [
              1,
              "#f0f921"
             ]
            ],
            "type": "heatmap"
           }
          ],
          "heatmapgl": [
           {
            "colorbar": {
             "outlinewidth": 0,
             "ticks": ""
            },
            "colorscale": [
             [
              0,
              "#0d0887"
             ],
             [
              0.1111111111111111,
              "#46039f"
             ],
             [
              0.2222222222222222,
              "#7201a8"
             ],
             [
              0.3333333333333333,
              "#9c179e"
             ],
             [
              0.4444444444444444,
              "#bd3786"
             ],
             [
              0.5555555555555556,
              "#d8576b"
             ],
             [
              0.6666666666666666,
              "#ed7953"
             ],
             [
              0.7777777777777778,
              "#fb9f3a"
             ],
             [
              0.8888888888888888,
              "#fdca26"
             ],
             [
              1,
              "#f0f921"
             ]
            ],
            "type": "heatmapgl"
           }
          ],
          "histogram": [
           {
            "marker": {
             "pattern": {
              "fillmode": "overlay",
              "size": 10,
              "solidity": 0.2
             }
            },
            "type": "histogram"
           }
          ],
          "histogram2d": [
           {
            "colorbar": {
             "outlinewidth": 0,
             "ticks": ""
            },
            "colorscale": [
             [
              0,
              "#0d0887"
             ],
             [
              0.1111111111111111,
              "#46039f"
             ],
             [
              0.2222222222222222,
              "#7201a8"
             ],
             [
              0.3333333333333333,
              "#9c179e"
             ],
             [
              0.4444444444444444,
              "#bd3786"
             ],
             [
              0.5555555555555556,
              "#d8576b"
             ],
             [
              0.6666666666666666,
              "#ed7953"
             ],
             [
              0.7777777777777778,
              "#fb9f3a"
             ],
             [
              0.8888888888888888,
              "#fdca26"
             ],
             [
              1,
              "#f0f921"
             ]
            ],
            "type": "histogram2d"
           }
          ],
          "histogram2dcontour": [
           {
            "colorbar": {
             "outlinewidth": 0,
             "ticks": ""
            },
            "colorscale": [
             [
              0,
              "#0d0887"
             ],
             [
              0.1111111111111111,
              "#46039f"
             ],
             [
              0.2222222222222222,
              "#7201a8"
             ],
             [
              0.3333333333333333,
              "#9c179e"
             ],
             [
              0.4444444444444444,
              "#bd3786"
             ],
             [
              0.5555555555555556,
              "#d8576b"
             ],
             [
              0.6666666666666666,
              "#ed7953"
             ],
             [
              0.7777777777777778,
              "#fb9f3a"
             ],
             [
              0.8888888888888888,
              "#fdca26"
             ],
             [
              1,
              "#f0f921"
             ]
            ],
            "type": "histogram2dcontour"
           }
          ],
          "mesh3d": [
           {
            "colorbar": {
             "outlinewidth": 0,
             "ticks": ""
            },
            "type": "mesh3d"
           }
          ],
          "parcoords": [
           {
            "line": {
             "colorbar": {
              "outlinewidth": 0,
              "ticks": ""
             }
            },
            "type": "parcoords"
           }
          ],
          "pie": [
           {
            "automargin": true,
            "type": "pie"
           }
          ],
          "scatter": [
           {
            "fillpattern": {
             "fillmode": "overlay",
             "size": 10,
             "solidity": 0.2
            },
            "type": "scatter"
           }
          ],
          "scatter3d": [
           {
            "line": {
             "colorbar": {
              "outlinewidth": 0,
              "ticks": ""
             }
            },
            "marker": {
             "colorbar": {
              "outlinewidth": 0,
              "ticks": ""
             }
            },
            "type": "scatter3d"
           }
          ],
          "scattercarpet": [
           {
            "marker": {
             "colorbar": {
              "outlinewidth": 0,
              "ticks": ""
             }
            },
            "type": "scattercarpet"
           }
          ],
          "scattergeo": [
           {
            "marker": {
             "colorbar": {
              "outlinewidth": 0,
              "ticks": ""
             }
            },
            "type": "scattergeo"
           }
          ],
          "scattergl": [
           {
            "marker": {
             "colorbar": {
              "outlinewidth": 0,
              "ticks": ""
             }
            },
            "type": "scattergl"
           }
          ],
          "scattermapbox": [
           {
            "marker": {
             "colorbar": {
              "outlinewidth": 0,
              "ticks": ""
             }
            },
            "type": "scattermapbox"
           }
          ],
          "scatterpolar": [
           {
            "marker": {
             "colorbar": {
              "outlinewidth": 0,
              "ticks": ""
             }
            },
            "type": "scatterpolar"
           }
          ],
          "scatterpolargl": [
           {
            "marker": {
             "colorbar": {
              "outlinewidth": 0,
              "ticks": ""
             }
            },
            "type": "scatterpolargl"
           }
          ],
          "scatterternary": [
           {
            "marker": {
             "colorbar": {
              "outlinewidth": 0,
              "ticks": ""
             }
            },
            "type": "scatterternary"
           }
          ],
          "surface": [
           {
            "colorbar": {
             "outlinewidth": 0,
             "ticks": ""
            },
            "colorscale": [
             [
              0,
              "#0d0887"
             ],
             [
              0.1111111111111111,
              "#46039f"
             ],
             [
              0.2222222222222222,
              "#7201a8"
             ],
             [
              0.3333333333333333,
              "#9c179e"
             ],
             [
              0.4444444444444444,
              "#bd3786"
             ],
             [
              0.5555555555555556,
              "#d8576b"
             ],
             [
              0.6666666666666666,
              "#ed7953"
             ],
             [
              0.7777777777777778,
              "#fb9f3a"
             ],
             [
              0.8888888888888888,
              "#fdca26"
             ],
             [
              1,
              "#f0f921"
             ]
            ],
            "type": "surface"
           }
          ],
          "table": [
           {
            "cells": {
             "fill": {
              "color": "#EBF0F8"
             },
             "line": {
              "color": "white"
             }
            },
            "header": {
             "fill": {
              "color": "#C8D4E3"
             },
             "line": {
              "color": "white"
             }
            },
            "type": "table"
           }
          ]
         },
         "layout": {
          "annotationdefaults": {
           "arrowcolor": "#2a3f5f",
           "arrowhead": 0,
           "arrowwidth": 1
          },
          "autotypenumbers": "strict",
          "coloraxis": {
           "colorbar": {
            "outlinewidth": 0,
            "ticks": ""
           }
          },
          "colorscale": {
           "diverging": [
            [
             0,
             "#8e0152"
            ],
            [
             0.1,
             "#c51b7d"
            ],
            [
             0.2,
             "#de77ae"
            ],
            [
             0.3,
             "#f1b6da"
            ],
            [
             0.4,
             "#fde0ef"
            ],
            [
             0.5,
             "#f7f7f7"
            ],
            [
             0.6,
             "#e6f5d0"
            ],
            [
             0.7,
             "#b8e186"
            ],
            [
             0.8,
             "#7fbc41"
            ],
            [
             0.9,
             "#4d9221"
            ],
            [
             1,
             "#276419"
            ]
           ],
           "sequential": [
            [
             0,
             "#0d0887"
            ],
            [
             0.1111111111111111,
             "#46039f"
            ],
            [
             0.2222222222222222,
             "#7201a8"
            ],
            [
             0.3333333333333333,
             "#9c179e"
            ],
            [
             0.4444444444444444,
             "#bd3786"
            ],
            [
             0.5555555555555556,
             "#d8576b"
            ],
            [
             0.6666666666666666,
             "#ed7953"
            ],
            [
             0.7777777777777778,
             "#fb9f3a"
            ],
            [
             0.8888888888888888,
             "#fdca26"
            ],
            [
             1,
             "#f0f921"
            ]
           ],
           "sequentialminus": [
            [
             0,
             "#0d0887"
            ],
            [
             0.1111111111111111,
             "#46039f"
            ],
            [
             0.2222222222222222,
             "#7201a8"
            ],
            [
             0.3333333333333333,
             "#9c179e"
            ],
            [
             0.4444444444444444,
             "#bd3786"
            ],
            [
             0.5555555555555556,
             "#d8576b"
            ],
            [
             0.6666666666666666,
             "#ed7953"
            ],
            [
             0.7777777777777778,
             "#fb9f3a"
            ],
            [
             0.8888888888888888,
             "#fdca26"
            ],
            [
             1,
             "#f0f921"
            ]
           ]
          },
          "colorway": [
           "#636efa",
           "#EF553B",
           "#00cc96",
           "#ab63fa",
           "#FFA15A",
           "#19d3f3",
           "#FF6692",
           "#B6E880",
           "#FF97FF",
           "#FECB52"
          ],
          "font": {
           "color": "#2a3f5f"
          },
          "geo": {
           "bgcolor": "white",
           "lakecolor": "white",
           "landcolor": "#E5ECF6",
           "showlakes": true,
           "showland": true,
           "subunitcolor": "white"
          },
          "hoverlabel": {
           "align": "left"
          },
          "hovermode": "closest",
          "mapbox": {
           "style": "light"
          },
          "paper_bgcolor": "white",
          "plot_bgcolor": "#E5ECF6",
          "polar": {
           "angularaxis": {
            "gridcolor": "white",
            "linecolor": "white",
            "ticks": ""
           },
           "bgcolor": "#E5ECF6",
           "radialaxis": {
            "gridcolor": "white",
            "linecolor": "white",
            "ticks": ""
           }
          },
          "scene": {
           "xaxis": {
            "backgroundcolor": "#E5ECF6",
            "gridcolor": "white",
            "gridwidth": 2,
            "linecolor": "white",
            "showbackground": true,
            "ticks": "",
            "zerolinecolor": "white"
           },
           "yaxis": {
            "backgroundcolor": "#E5ECF6",
            "gridcolor": "white",
            "gridwidth": 2,
            "linecolor": "white",
            "showbackground": true,
            "ticks": "",
            "zerolinecolor": "white"
           },
           "zaxis": {
            "backgroundcolor": "#E5ECF6",
            "gridcolor": "white",
            "gridwidth": 2,
            "linecolor": "white",
            "showbackground": true,
            "ticks": "",
            "zerolinecolor": "white"
           }
          },
          "shapedefaults": {
           "line": {
            "color": "#2a3f5f"
           }
          },
          "ternary": {
           "aaxis": {
            "gridcolor": "white",
            "linecolor": "white",
            "ticks": ""
           },
           "baxis": {
            "gridcolor": "white",
            "linecolor": "white",
            "ticks": ""
           },
           "bgcolor": "#E5ECF6",
           "caxis": {
            "gridcolor": "white",
            "linecolor": "white",
            "ticks": ""
           }
          },
          "title": {
           "x": 0.05
          },
          "xaxis": {
           "automargin": true,
           "gridcolor": "white",
           "linecolor": "white",
           "ticks": "",
           "title": {
            "standoff": 15
           },
           "zerolinecolor": "white",
           "zerolinewidth": 2
          },
          "yaxis": {
           "automargin": true,
           "gridcolor": "white",
           "linecolor": "white",
           "ticks": "",
           "title": {
            "standoff": 15
           },
           "zerolinecolor": "white",
           "zerolinewidth": 2
          }
         }
        },
        "title": {
         "text": "Optimization History Plot"
        },
        "xaxis": {
         "title": {
          "text": "Trial"
         }
        },
        "yaxis": {
         "title": {
          "text": "Objective Value"
         }
        }
       }
      }
     },
     "metadata": {},
     "output_type": "display_data"
    },
    {
     "data": {
      "application/vnd.plotly.v1+json": {
       "config": {
        "plotlyServerURL": "https://plot.ly"
       },
       "data": [
        {
         "marker": {
          "color": [
           0,
           1,
           2,
           3,
           4,
           5,
           6,
           7,
           8,
           9,
           10,
           11,
           12,
           13,
           14,
           15,
           16,
           17,
           18,
           19
          ],
          "colorbar": {
           "title": {
            "text": "Trial"
           },
           "x": 1,
           "xpad": 40
          },
          "colorscale": [
           [
            0,
            "rgb(247,251,255)"
           ],
           [
            0.125,
            "rgb(222,235,247)"
           ],
           [
            0.25,
            "rgb(198,219,239)"
           ],
           [
            0.375,
            "rgb(158,202,225)"
           ],
           [
            0.5,
            "rgb(107,174,214)"
           ],
           [
            0.625,
            "rgb(66,146,198)"
           ],
           [
            0.75,
            "rgb(33,113,181)"
           ],
           [
            0.875,
            "rgb(8,81,156)"
           ],
           [
            1,
            "rgb(8,48,107)"
           ]
          ],
          "line": {
           "color": "Grey",
           "width": 0.5
          },
          "showscale": true
         },
         "mode": "markers",
         "name": "Feasible Trial",
         "showlegend": false,
         "type": "scatter",
         "x": [
          0.01355200677621686,
          0.039869846207736225,
          0.013699912322684223,
          0.9785491526819717,
          1.130971340598003,
          0.012444370592885091,
          0.6455904498739444,
          1.8462185887884308,
          0.9791792425173294,
          0.5565810370560661,
          0.16338681676381983,
          0.27312735929782156,
          1.9612033642954578,
          0.07816395047440564,
          0.3438111318491957,
          1.0080857144312148,
          0.1306813741763693,
          1.0372923095243238,
          0.4777602816443038,
          0.22084614118784224
         ],
         "xaxis": "x",
         "y": [
          0.6765918826504093,
          0.7208250889837818,
          0.6753210532759913,
          0.7530088075177754,
          0.7542559100033126,
          0.7052944376114778,
          0.7522429496076931,
          0.7441537891013195,
          0.753320297730115,
          0.7412457708739321,
          0.7462534301625258,
          0.7427722647250352,
          0.7345026776172737,
          0.7425817411237375,
          0.742676651243317,
          0.7521811241017351,
          0.7403913794963092,
          0.7361219217913166,
          0.7473051748076305,
          0.742397558909905
         ],
         "yaxis": "y"
        },
        {
         "marker": {
          "color": [
           0,
           1,
           2,
           3,
           4,
           5,
           6,
           7,
           8,
           9,
           10,
           11,
           12,
           13,
           14,
           15,
           16,
           17,
           18,
           19
          ],
          "colorbar": {
           "title": {
            "text": "Trial"
           },
           "x": 1,
           "xpad": 40
          },
          "colorscale": [
           [
            0,
            "rgb(247,251,255)"
           ],
           [
            0.125,
            "rgb(222,235,247)"
           ],
           [
            0.25,
            "rgb(198,219,239)"
           ],
           [
            0.375,
            "rgb(158,202,225)"
           ],
           [
            0.5,
            "rgb(107,174,214)"
           ],
           [
            0.625,
            "rgb(66,146,198)"
           ],
           [
            0.75,
            "rgb(33,113,181)"
           ],
           [
            0.875,
            "rgb(8,81,156)"
           ],
           [
            1,
            "rgb(8,48,107)"
           ]
          ],
          "line": {
           "color": "Grey",
           "width": 0.5
          },
          "showscale": false
         },
         "mode": "markers",
         "name": "Feasible Trial",
         "showlegend": false,
         "type": "scatter",
         "x": [
          139,
          119,
          95,
          207,
          405,
          316,
          409,
          488,
          287,
          263,
          393,
          341,
          488,
          213,
          405,
          325,
          243,
          53,
          375,
          293
         ],
         "xaxis": "x2",
         "y": [
          0.6765918826504093,
          0.7208250889837818,
          0.6753210532759913,
          0.7530088075177754,
          0.7542559100033126,
          0.7052944376114778,
          0.7522429496076931,
          0.7441537891013195,
          0.753320297730115,
          0.7412457708739321,
          0.7462534301625258,
          0.7427722647250352,
          0.7345026776172737,
          0.7425817411237375,
          0.742676651243317,
          0.7521811241017351,
          0.7403913794963092,
          0.7361219217913166,
          0.7473051748076305,
          0.742397558909905
         ],
         "yaxis": "y2"
        }
       ],
       "layout": {
        "template": {
         "data": {
          "bar": [
           {
            "error_x": {
             "color": "#2a3f5f"
            },
            "error_y": {
             "color": "#2a3f5f"
            },
            "marker": {
             "line": {
              "color": "#E5ECF6",
              "width": 0.5
             },
             "pattern": {
              "fillmode": "overlay",
              "size": 10,
              "solidity": 0.2
             }
            },
            "type": "bar"
           }
          ],
          "barpolar": [
           {
            "marker": {
             "line": {
              "color": "#E5ECF6",
              "width": 0.5
             },
             "pattern": {
              "fillmode": "overlay",
              "size": 10,
              "solidity": 0.2
             }
            },
            "type": "barpolar"
           }
          ],
          "carpet": [
           {
            "aaxis": {
             "endlinecolor": "#2a3f5f",
             "gridcolor": "white",
             "linecolor": "white",
             "minorgridcolor": "white",
             "startlinecolor": "#2a3f5f"
            },
            "baxis": {
             "endlinecolor": "#2a3f5f",
             "gridcolor": "white",
             "linecolor": "white",
             "minorgridcolor": "white",
             "startlinecolor": "#2a3f5f"
            },
            "type": "carpet"
           }
          ],
          "choropleth": [
           {
            "colorbar": {
             "outlinewidth": 0,
             "ticks": ""
            },
            "type": "choropleth"
           }
          ],
          "contour": [
           {
            "colorbar": {
             "outlinewidth": 0,
             "ticks": ""
            },
            "colorscale": [
             [
              0,
              "#0d0887"
             ],
             [
              0.1111111111111111,
              "#46039f"
             ],
             [
              0.2222222222222222,
              "#7201a8"
             ],
             [
              0.3333333333333333,
              "#9c179e"
             ],
             [
              0.4444444444444444,
              "#bd3786"
             ],
             [
              0.5555555555555556,
              "#d8576b"
             ],
             [
              0.6666666666666666,
              "#ed7953"
             ],
             [
              0.7777777777777778,
              "#fb9f3a"
             ],
             [
              0.8888888888888888,
              "#fdca26"
             ],
             [
              1,
              "#f0f921"
             ]
            ],
            "type": "contour"
           }
          ],
          "contourcarpet": [
           {
            "colorbar": {
             "outlinewidth": 0,
             "ticks": ""
            },
            "type": "contourcarpet"
           }
          ],
          "heatmap": [
           {
            "colorbar": {
             "outlinewidth": 0,
             "ticks": ""
            },
            "colorscale": [
             [
              0,
              "#0d0887"
             ],
             [
              0.1111111111111111,
              "#46039f"
             ],
             [
              0.2222222222222222,
              "#7201a8"
             ],
             [
              0.3333333333333333,
              "#9c179e"
             ],
             [
              0.4444444444444444,
              "#bd3786"
             ],
             [
              0.5555555555555556,
              "#d8576b"
             ],
             [
              0.6666666666666666,
              "#ed7953"
             ],
             [
              0.7777777777777778,
              "#fb9f3a"
             ],
             [
              0.8888888888888888,
              "#fdca26"
             ],
             [
              1,
              "#f0f921"
             ]
            ],
            "type": "heatmap"
           }
          ],
          "heatmapgl": [
           {
            "colorbar": {
             "outlinewidth": 0,
             "ticks": ""
            },
            "colorscale": [
             [
              0,
              "#0d0887"
             ],
             [
              0.1111111111111111,
              "#46039f"
             ],
             [
              0.2222222222222222,
              "#7201a8"
             ],
             [
              0.3333333333333333,
              "#9c179e"
             ],
             [
              0.4444444444444444,
              "#bd3786"
             ],
             [
              0.5555555555555556,
              "#d8576b"
             ],
             [
              0.6666666666666666,
              "#ed7953"
             ],
             [
              0.7777777777777778,
              "#fb9f3a"
             ],
             [
              0.8888888888888888,
              "#fdca26"
             ],
             [
              1,
              "#f0f921"
             ]
            ],
            "type": "heatmapgl"
           }
          ],
          "histogram": [
           {
            "marker": {
             "pattern": {
              "fillmode": "overlay",
              "size": 10,
              "solidity": 0.2
             }
            },
            "type": "histogram"
           }
          ],
          "histogram2d": [
           {
            "colorbar": {
             "outlinewidth": 0,
             "ticks": ""
            },
            "colorscale": [
             [
              0,
              "#0d0887"
             ],
             [
              0.1111111111111111,
              "#46039f"
             ],
             [
              0.2222222222222222,
              "#7201a8"
             ],
             [
              0.3333333333333333,
              "#9c179e"
             ],
             [
              0.4444444444444444,
              "#bd3786"
             ],
             [
              0.5555555555555556,
              "#d8576b"
             ],
             [
              0.6666666666666666,
              "#ed7953"
             ],
             [
              0.7777777777777778,
              "#fb9f3a"
             ],
             [
              0.8888888888888888,
              "#fdca26"
             ],
             [
              1,
              "#f0f921"
             ]
            ],
            "type": "histogram2d"
           }
          ],
          "histogram2dcontour": [
           {
            "colorbar": {
             "outlinewidth": 0,
             "ticks": ""
            },
            "colorscale": [
             [
              0,
              "#0d0887"
             ],
             [
              0.1111111111111111,
              "#46039f"
             ],
             [
              0.2222222222222222,
              "#7201a8"
             ],
             [
              0.3333333333333333,
              "#9c179e"
             ],
             [
              0.4444444444444444,
              "#bd3786"
             ],
             [
              0.5555555555555556,
              "#d8576b"
             ],
             [
              0.6666666666666666,
              "#ed7953"
             ],
             [
              0.7777777777777778,
              "#fb9f3a"
             ],
             [
              0.8888888888888888,
              "#fdca26"
             ],
             [
              1,
              "#f0f921"
             ]
            ],
            "type": "histogram2dcontour"
           }
          ],
          "mesh3d": [
           {
            "colorbar": {
             "outlinewidth": 0,
             "ticks": ""
            },
            "type": "mesh3d"
           }
          ],
          "parcoords": [
           {
            "line": {
             "colorbar": {
              "outlinewidth": 0,
              "ticks": ""
             }
            },
            "type": "parcoords"
           }
          ],
          "pie": [
           {
            "automargin": true,
            "type": "pie"
           }
          ],
          "scatter": [
           {
            "fillpattern": {
             "fillmode": "overlay",
             "size": 10,
             "solidity": 0.2
            },
            "type": "scatter"
           }
          ],
          "scatter3d": [
           {
            "line": {
             "colorbar": {
              "outlinewidth": 0,
              "ticks": ""
             }
            },
            "marker": {
             "colorbar": {
              "outlinewidth": 0,
              "ticks": ""
             }
            },
            "type": "scatter3d"
           }
          ],
          "scattercarpet": [
           {
            "marker": {
             "colorbar": {
              "outlinewidth": 0,
              "ticks": ""
             }
            },
            "type": "scattercarpet"
           }
          ],
          "scattergeo": [
           {
            "marker": {
             "colorbar": {
              "outlinewidth": 0,
              "ticks": ""
             }
            },
            "type": "scattergeo"
           }
          ],
          "scattergl": [
           {
            "marker": {
             "colorbar": {
              "outlinewidth": 0,
              "ticks": ""
             }
            },
            "type": "scattergl"
           }
          ],
          "scattermapbox": [
           {
            "marker": {
             "colorbar": {
              "outlinewidth": 0,
              "ticks": ""
             }
            },
            "type": "scattermapbox"
           }
          ],
          "scatterpolar": [
           {
            "marker": {
             "colorbar": {
              "outlinewidth": 0,
              "ticks": ""
             }
            },
            "type": "scatterpolar"
           }
          ],
          "scatterpolargl": [
           {
            "marker": {
             "colorbar": {
              "outlinewidth": 0,
              "ticks": ""
             }
            },
            "type": "scatterpolargl"
           }
          ],
          "scatterternary": [
           {
            "marker": {
             "colorbar": {
              "outlinewidth": 0,
              "ticks": ""
             }
            },
            "type": "scatterternary"
           }
          ],
          "surface": [
           {
            "colorbar": {
             "outlinewidth": 0,
             "ticks": ""
            },
            "colorscale": [
             [
              0,
              "#0d0887"
             ],
             [
              0.1111111111111111,
              "#46039f"
             ],
             [
              0.2222222222222222,
              "#7201a8"
             ],
             [
              0.3333333333333333,
              "#9c179e"
             ],
             [
              0.4444444444444444,
              "#bd3786"
             ],
             [
              0.5555555555555556,
              "#d8576b"
             ],
             [
              0.6666666666666666,
              "#ed7953"
             ],
             [
              0.7777777777777778,
              "#fb9f3a"
             ],
             [
              0.8888888888888888,
              "#fdca26"
             ],
             [
              1,
              "#f0f921"
             ]
            ],
            "type": "surface"
           }
          ],
          "table": [
           {
            "cells": {
             "fill": {
              "color": "#EBF0F8"
             },
             "line": {
              "color": "white"
             }
            },
            "header": {
             "fill": {
              "color": "#C8D4E3"
             },
             "line": {
              "color": "white"
             }
            },
            "type": "table"
           }
          ]
         },
         "layout": {
          "annotationdefaults": {
           "arrowcolor": "#2a3f5f",
           "arrowhead": 0,
           "arrowwidth": 1
          },
          "autotypenumbers": "strict",
          "coloraxis": {
           "colorbar": {
            "outlinewidth": 0,
            "ticks": ""
           }
          },
          "colorscale": {
           "diverging": [
            [
             0,
             "#8e0152"
            ],
            [
             0.1,
             "#c51b7d"
            ],
            [
             0.2,
             "#de77ae"
            ],
            [
             0.3,
             "#f1b6da"
            ],
            [
             0.4,
             "#fde0ef"
            ],
            [
             0.5,
             "#f7f7f7"
            ],
            [
             0.6,
             "#e6f5d0"
            ],
            [
             0.7,
             "#b8e186"
            ],
            [
             0.8,
             "#7fbc41"
            ],
            [
             0.9,
             "#4d9221"
            ],
            [
             1,
             "#276419"
            ]
           ],
           "sequential": [
            [
             0,
             "#0d0887"
            ],
            [
             0.1111111111111111,
             "#46039f"
            ],
            [
             0.2222222222222222,
             "#7201a8"
            ],
            [
             0.3333333333333333,
             "#9c179e"
            ],
            [
             0.4444444444444444,
             "#bd3786"
            ],
            [
             0.5555555555555556,
             "#d8576b"
            ],
            [
             0.6666666666666666,
             "#ed7953"
            ],
            [
             0.7777777777777778,
             "#fb9f3a"
            ],
            [
             0.8888888888888888,
             "#fdca26"
            ],
            [
             1,
             "#f0f921"
            ]
           ],
           "sequentialminus": [
            [
             0,
             "#0d0887"
            ],
            [
             0.1111111111111111,
             "#46039f"
            ],
            [
             0.2222222222222222,
             "#7201a8"
            ],
            [
             0.3333333333333333,
             "#9c179e"
            ],
            [
             0.4444444444444444,
             "#bd3786"
            ],
            [
             0.5555555555555556,
             "#d8576b"
            ],
            [
             0.6666666666666666,
             "#ed7953"
            ],
            [
             0.7777777777777778,
             "#fb9f3a"
            ],
            [
             0.8888888888888888,
             "#fdca26"
            ],
            [
             1,
             "#f0f921"
            ]
           ]
          },
          "colorway": [
           "#636efa",
           "#EF553B",
           "#00cc96",
           "#ab63fa",
           "#FFA15A",
           "#19d3f3",
           "#FF6692",
           "#B6E880",
           "#FF97FF",
           "#FECB52"
          ],
          "font": {
           "color": "#2a3f5f"
          },
          "geo": {
           "bgcolor": "white",
           "lakecolor": "white",
           "landcolor": "#E5ECF6",
           "showlakes": true,
           "showland": true,
           "subunitcolor": "white"
          },
          "hoverlabel": {
           "align": "left"
          },
          "hovermode": "closest",
          "mapbox": {
           "style": "light"
          },
          "paper_bgcolor": "white",
          "plot_bgcolor": "#E5ECF6",
          "polar": {
           "angularaxis": {
            "gridcolor": "white",
            "linecolor": "white",
            "ticks": ""
           },
           "bgcolor": "#E5ECF6",
           "radialaxis": {
            "gridcolor": "white",
            "linecolor": "white",
            "ticks": ""
           }
          },
          "scene": {
           "xaxis": {
            "backgroundcolor": "#E5ECF6",
            "gridcolor": "white",
            "gridwidth": 2,
            "linecolor": "white",
            "showbackground": true,
            "ticks": "",
            "zerolinecolor": "white"
           },
           "yaxis": {
            "backgroundcolor": "#E5ECF6",
            "gridcolor": "white",
            "gridwidth": 2,
            "linecolor": "white",
            "showbackground": true,
            "ticks": "",
            "zerolinecolor": "white"
           },
           "zaxis": {
            "backgroundcolor": "#E5ECF6",
            "gridcolor": "white",
            "gridwidth": 2,
            "linecolor": "white",
            "showbackground": true,
            "ticks": "",
            "zerolinecolor": "white"
           }
          },
          "shapedefaults": {
           "line": {
            "color": "#2a3f5f"
           }
          },
          "ternary": {
           "aaxis": {
            "gridcolor": "white",
            "linecolor": "white",
            "ticks": ""
           },
           "baxis": {
            "gridcolor": "white",
            "linecolor": "white",
            "ticks": ""
           },
           "bgcolor": "#E5ECF6",
           "caxis": {
            "gridcolor": "white",
            "linecolor": "white",
            "ticks": ""
           }
          },
          "title": {
           "x": 0.05
          },
          "xaxis": {
           "automargin": true,
           "gridcolor": "white",
           "linecolor": "white",
           "ticks": "",
           "title": {
            "standoff": 15
           },
           "zerolinecolor": "white",
           "zerolinewidth": 2
          },
          "yaxis": {
           "automargin": true,
           "gridcolor": "white",
           "linecolor": "white",
           "ticks": "",
           "title": {
            "standoff": 15
           },
           "zerolinecolor": "white",
           "zerolinewidth": 2
          }
         }
        },
        "title": {
         "text": "Slice Plot"
        },
        "xaxis": {
         "anchor": "y",
         "domain": [
          0,
          0.45
         ],
         "title": {
          "text": "learning_rate"
         },
         "type": "log"
        },
        "xaxis2": {
         "anchor": "y2",
         "domain": [
          0.55,
          1
         ],
         "title": {
          "text": "n_estimators"
         }
        },
        "yaxis": {
         "anchor": "x",
         "domain": [
          0,
          1
         ],
         "title": {
          "text": "Objective Value"
         }
        },
        "yaxis2": {
         "anchor": "x2",
         "domain": [
          0,
          1
         ],
         "matches": "y",
         "showticklabels": false
        }
       }
      }
     },
     "metadata": {},
     "output_type": "display_data"
    },
    {
     "data": {
      "application/vnd.plotly.v1+json": {
       "config": {
        "plotlyServerURL": "https://plot.ly"
       },
       "data": [
        {
         "dimensions": [
          {
           "label": "Objective Value",
           "range": [
            0.6753210532759913,
            0.7542559100033126
           ],
           "values": [
            0.6765918826504093,
            0.7208250889837818,
            0.6753210532759913,
            0.7530088075177754,
            0.7542559100033126,
            0.7052944376114778,
            0.7522429496076931,
            0.7441537891013195,
            0.753320297730115,
            0.7412457708739321,
            0.7462534301625258,
            0.7427722647250352,
            0.7345026776172737,
            0.7425817411237375,
            0.742676651243317,
            0.7521811241017351,
            0.7403913794963092,
            0.7361219217913166,
            0.7473051748076305,
            0.742397558909905
           ]
          },
          {
           "label": "learning_rate",
           "range": [
            -1.9050270640975262,
            0.2925226295739875
           ],
           "ticktext": [
            "0.0124",
            "0.1",
            "1",
            "1.96"
           ],
           "tickvals": [
            -1.9050270640975262,
            -1,
            0,
            0.2925226295739875
           ],
           "values": [
            -1.867996389859232,
            -1.3993554395635985,
            -1.8632822122520805,
            -0.00941735477612103,
            0.05345159981684124,
            -1.9050270640975262,
            -0.19004290269386154,
            0.2662831193792327,
            -0.009137801648405533,
            -0.2544715943408242,
            -0.7867829884260279,
            -0.5636347941958932,
            0.2925226295739875,
            -1.1069934991117139,
            -0.4636800659200165,
            0.0034974604050169514,
            -0.8837863073609977,
            0.015901158052180762,
            -0.32078995793419846,
            -0.655910184702931
           ]
          },
          {
           "label": "n_estimators",
           "range": [
            53,
            488
           ],
           "values": [
            139,
            119,
            95,
            207,
            405,
            316,
            409,
            488,
            287,
            263,
            393,
            341,
            488,
            213,
            405,
            325,
            243,
            53,
            375,
            293
           ]
          }
         ],
         "labelangle": 30,
         "labelside": "bottom",
         "line": {
          "color": [
           0.6765918826504093,
           0.7208250889837818,
           0.6753210532759913,
           0.7530088075177754,
           0.7542559100033126,
           0.7052944376114778,
           0.7522429496076931,
           0.7441537891013195,
           0.753320297730115,
           0.7412457708739321,
           0.7462534301625258,
           0.7427722647250352,
           0.7345026776172737,
           0.7425817411237375,
           0.742676651243317,
           0.7521811241017351,
           0.7403913794963092,
           0.7361219217913166,
           0.7473051748076305,
           0.742397558909905
          ],
          "colorbar": {
           "title": {
            "text": "Objective Value"
           }
          },
          "colorscale": [
           [
            0,
            "rgb(247,251,255)"
           ],
           [
            0.125,
            "rgb(222,235,247)"
           ],
           [
            0.25,
            "rgb(198,219,239)"
           ],
           [
            0.375,
            "rgb(158,202,225)"
           ],
           [
            0.5,
            "rgb(107,174,214)"
           ],
           [
            0.625,
            "rgb(66,146,198)"
           ],
           [
            0.75,
            "rgb(33,113,181)"
           ],
           [
            0.875,
            "rgb(8,81,156)"
           ],
           [
            1,
            "rgb(8,48,107)"
           ]
          ],
          "reversescale": false,
          "showscale": true
         },
         "type": "parcoords"
        }
       ],
       "layout": {
        "template": {
         "data": {
          "bar": [
           {
            "error_x": {
             "color": "#2a3f5f"
            },
            "error_y": {
             "color": "#2a3f5f"
            },
            "marker": {
             "line": {
              "color": "#E5ECF6",
              "width": 0.5
             },
             "pattern": {
              "fillmode": "overlay",
              "size": 10,
              "solidity": 0.2
             }
            },
            "type": "bar"
           }
          ],
          "barpolar": [
           {
            "marker": {
             "line": {
              "color": "#E5ECF6",
              "width": 0.5
             },
             "pattern": {
              "fillmode": "overlay",
              "size": 10,
              "solidity": 0.2
             }
            },
            "type": "barpolar"
           }
          ],
          "carpet": [
           {
            "aaxis": {
             "endlinecolor": "#2a3f5f",
             "gridcolor": "white",
             "linecolor": "white",
             "minorgridcolor": "white",
             "startlinecolor": "#2a3f5f"
            },
            "baxis": {
             "endlinecolor": "#2a3f5f",
             "gridcolor": "white",
             "linecolor": "white",
             "minorgridcolor": "white",
             "startlinecolor": "#2a3f5f"
            },
            "type": "carpet"
           }
          ],
          "choropleth": [
           {
            "colorbar": {
             "outlinewidth": 0,
             "ticks": ""
            },
            "type": "choropleth"
           }
          ],
          "contour": [
           {
            "colorbar": {
             "outlinewidth": 0,
             "ticks": ""
            },
            "colorscale": [
             [
              0,
              "#0d0887"
             ],
             [
              0.1111111111111111,
              "#46039f"
             ],
             [
              0.2222222222222222,
              "#7201a8"
             ],
             [
              0.3333333333333333,
              "#9c179e"
             ],
             [
              0.4444444444444444,
              "#bd3786"
             ],
             [
              0.5555555555555556,
              "#d8576b"
             ],
             [
              0.6666666666666666,
              "#ed7953"
             ],
             [
              0.7777777777777778,
              "#fb9f3a"
             ],
             [
              0.8888888888888888,
              "#fdca26"
             ],
             [
              1,
              "#f0f921"
             ]
            ],
            "type": "contour"
           }
          ],
          "contourcarpet": [
           {
            "colorbar": {
             "outlinewidth": 0,
             "ticks": ""
            },
            "type": "contourcarpet"
           }
          ],
          "heatmap": [
           {
            "colorbar": {
             "outlinewidth": 0,
             "ticks": ""
            },
            "colorscale": [
             [
              0,
              "#0d0887"
             ],
             [
              0.1111111111111111,
              "#46039f"
             ],
             [
              0.2222222222222222,
              "#7201a8"
             ],
             [
              0.3333333333333333,
              "#9c179e"
             ],
             [
              0.4444444444444444,
              "#bd3786"
             ],
             [
              0.5555555555555556,
              "#d8576b"
             ],
             [
              0.6666666666666666,
              "#ed7953"
             ],
             [
              0.7777777777777778,
              "#fb9f3a"
             ],
             [
              0.8888888888888888,
              "#fdca26"
             ],
             [
              1,
              "#f0f921"
             ]
            ],
            "type": "heatmap"
           }
          ],
          "heatmapgl": [
           {
            "colorbar": {
             "outlinewidth": 0,
             "ticks": ""
            },
            "colorscale": [
             [
              0,
              "#0d0887"
             ],
             [
              0.1111111111111111,
              "#46039f"
             ],
             [
              0.2222222222222222,
              "#7201a8"
             ],
             [
              0.3333333333333333,
              "#9c179e"
             ],
             [
              0.4444444444444444,
              "#bd3786"
             ],
             [
              0.5555555555555556,
              "#d8576b"
             ],
             [
              0.6666666666666666,
              "#ed7953"
             ],
             [
              0.7777777777777778,
              "#fb9f3a"
             ],
             [
              0.8888888888888888,
              "#fdca26"
             ],
             [
              1,
              "#f0f921"
             ]
            ],
            "type": "heatmapgl"
           }
          ],
          "histogram": [
           {
            "marker": {
             "pattern": {
              "fillmode": "overlay",
              "size": 10,
              "solidity": 0.2
             }
            },
            "type": "histogram"
           }
          ],
          "histogram2d": [
           {
            "colorbar": {
             "outlinewidth": 0,
             "ticks": ""
            },
            "colorscale": [
             [
              0,
              "#0d0887"
             ],
             [
              0.1111111111111111,
              "#46039f"
             ],
             [
              0.2222222222222222,
              "#7201a8"
             ],
             [
              0.3333333333333333,
              "#9c179e"
             ],
             [
              0.4444444444444444,
              "#bd3786"
             ],
             [
              0.5555555555555556,
              "#d8576b"
             ],
             [
              0.6666666666666666,
              "#ed7953"
             ],
             [
              0.7777777777777778,
              "#fb9f3a"
             ],
             [
              0.8888888888888888,
              "#fdca26"
             ],
             [
              1,
              "#f0f921"
             ]
            ],
            "type": "histogram2d"
           }
          ],
          "histogram2dcontour": [
           {
            "colorbar": {
             "outlinewidth": 0,
             "ticks": ""
            },
            "colorscale": [
             [
              0,
              "#0d0887"
             ],
             [
              0.1111111111111111,
              "#46039f"
             ],
             [
              0.2222222222222222,
              "#7201a8"
             ],
             [
              0.3333333333333333,
              "#9c179e"
             ],
             [
              0.4444444444444444,
              "#bd3786"
             ],
             [
              0.5555555555555556,
              "#d8576b"
             ],
             [
              0.6666666666666666,
              "#ed7953"
             ],
             [
              0.7777777777777778,
              "#fb9f3a"
             ],
             [
              0.8888888888888888,
              "#fdca26"
             ],
             [
              1,
              "#f0f921"
             ]
            ],
            "type": "histogram2dcontour"
           }
          ],
          "mesh3d": [
           {
            "colorbar": {
             "outlinewidth": 0,
             "ticks": ""
            },
            "type": "mesh3d"
           }
          ],
          "parcoords": [
           {
            "line": {
             "colorbar": {
              "outlinewidth": 0,
              "ticks": ""
             }
            },
            "type": "parcoords"
           }
          ],
          "pie": [
           {
            "automargin": true,
            "type": "pie"
           }
          ],
          "scatter": [
           {
            "fillpattern": {
             "fillmode": "overlay",
             "size": 10,
             "solidity": 0.2
            },
            "type": "scatter"
           }
          ],
          "scatter3d": [
           {
            "line": {
             "colorbar": {
              "outlinewidth": 0,
              "ticks": ""
             }
            },
            "marker": {
             "colorbar": {
              "outlinewidth": 0,
              "ticks": ""
             }
            },
            "type": "scatter3d"
           }
          ],
          "scattercarpet": [
           {
            "marker": {
             "colorbar": {
              "outlinewidth": 0,
              "ticks": ""
             }
            },
            "type": "scattercarpet"
           }
          ],
          "scattergeo": [
           {
            "marker": {
             "colorbar": {
              "outlinewidth": 0,
              "ticks": ""
             }
            },
            "type": "scattergeo"
           }
          ],
          "scattergl": [
           {
            "marker": {
             "colorbar": {
              "outlinewidth": 0,
              "ticks": ""
             }
            },
            "type": "scattergl"
           }
          ],
          "scattermapbox": [
           {
            "marker": {
             "colorbar": {
              "outlinewidth": 0,
              "ticks": ""
             }
            },
            "type": "scattermapbox"
           }
          ],
          "scatterpolar": [
           {
            "marker": {
             "colorbar": {
              "outlinewidth": 0,
              "ticks": ""
             }
            },
            "type": "scatterpolar"
           }
          ],
          "scatterpolargl": [
           {
            "marker": {
             "colorbar": {
              "outlinewidth": 0,
              "ticks": ""
             }
            },
            "type": "scatterpolargl"
           }
          ],
          "scatterternary": [
           {
            "marker": {
             "colorbar": {
              "outlinewidth": 0,
              "ticks": ""
             }
            },
            "type": "scatterternary"
           }
          ],
          "surface": [
           {
            "colorbar": {
             "outlinewidth": 0,
             "ticks": ""
            },
            "colorscale": [
             [
              0,
              "#0d0887"
             ],
             [
              0.1111111111111111,
              "#46039f"
             ],
             [
              0.2222222222222222,
              "#7201a8"
             ],
             [
              0.3333333333333333,
              "#9c179e"
             ],
             [
              0.4444444444444444,
              "#bd3786"
             ],
             [
              0.5555555555555556,
              "#d8576b"
             ],
             [
              0.6666666666666666,
              "#ed7953"
             ],
             [
              0.7777777777777778,
              "#fb9f3a"
             ],
             [
              0.8888888888888888,
              "#fdca26"
             ],
             [
              1,
              "#f0f921"
             ]
            ],
            "type": "surface"
           }
          ],
          "table": [
           {
            "cells": {
             "fill": {
              "color": "#EBF0F8"
             },
             "line": {
              "color": "white"
             }
            },
            "header": {
             "fill": {
              "color": "#C8D4E3"
             },
             "line": {
              "color": "white"
             }
            },
            "type": "table"
           }
          ]
         },
         "layout": {
          "annotationdefaults": {
           "arrowcolor": "#2a3f5f",
           "arrowhead": 0,
           "arrowwidth": 1
          },
          "autotypenumbers": "strict",
          "coloraxis": {
           "colorbar": {
            "outlinewidth": 0,
            "ticks": ""
           }
          },
          "colorscale": {
           "diverging": [
            [
             0,
             "#8e0152"
            ],
            [
             0.1,
             "#c51b7d"
            ],
            [
             0.2,
             "#de77ae"
            ],
            [
             0.3,
             "#f1b6da"
            ],
            [
             0.4,
             "#fde0ef"
            ],
            [
             0.5,
             "#f7f7f7"
            ],
            [
             0.6,
             "#e6f5d0"
            ],
            [
             0.7,
             "#b8e186"
            ],
            [
             0.8,
             "#7fbc41"
            ],
            [
             0.9,
             "#4d9221"
            ],
            [
             1,
             "#276419"
            ]
           ],
           "sequential": [
            [
             0,
             "#0d0887"
            ],
            [
             0.1111111111111111,
             "#46039f"
            ],
            [
             0.2222222222222222,
             "#7201a8"
            ],
            [
             0.3333333333333333,
             "#9c179e"
            ],
            [
             0.4444444444444444,
             "#bd3786"
            ],
            [
             0.5555555555555556,
             "#d8576b"
            ],
            [
             0.6666666666666666,
             "#ed7953"
            ],
            [
             0.7777777777777778,
             "#fb9f3a"
            ],
            [
             0.8888888888888888,
             "#fdca26"
            ],
            [
             1,
             "#f0f921"
            ]
           ],
           "sequentialminus": [
            [
             0,
             "#0d0887"
            ],
            [
             0.1111111111111111,
             "#46039f"
            ],
            [
             0.2222222222222222,
             "#7201a8"
            ],
            [
             0.3333333333333333,
             "#9c179e"
            ],
            [
             0.4444444444444444,
             "#bd3786"
            ],
            [
             0.5555555555555556,
             "#d8576b"
            ],
            [
             0.6666666666666666,
             "#ed7953"
            ],
            [
             0.7777777777777778,
             "#fb9f3a"
            ],
            [
             0.8888888888888888,
             "#fdca26"
            ],
            [
             1,
             "#f0f921"
            ]
           ]
          },
          "colorway": [
           "#636efa",
           "#EF553B",
           "#00cc96",
           "#ab63fa",
           "#FFA15A",
           "#19d3f3",
           "#FF6692",
           "#B6E880",
           "#FF97FF",
           "#FECB52"
          ],
          "font": {
           "color": "#2a3f5f"
          },
          "geo": {
           "bgcolor": "white",
           "lakecolor": "white",
           "landcolor": "#E5ECF6",
           "showlakes": true,
           "showland": true,
           "subunitcolor": "white"
          },
          "hoverlabel": {
           "align": "left"
          },
          "hovermode": "closest",
          "mapbox": {
           "style": "light"
          },
          "paper_bgcolor": "white",
          "plot_bgcolor": "#E5ECF6",
          "polar": {
           "angularaxis": {
            "gridcolor": "white",
            "linecolor": "white",
            "ticks": ""
           },
           "bgcolor": "#E5ECF6",
           "radialaxis": {
            "gridcolor": "white",
            "linecolor": "white",
            "ticks": ""
           }
          },
          "scene": {
           "xaxis": {
            "backgroundcolor": "#E5ECF6",
            "gridcolor": "white",
            "gridwidth": 2,
            "linecolor": "white",
            "showbackground": true,
            "ticks": "",
            "zerolinecolor": "white"
           },
           "yaxis": {
            "backgroundcolor": "#E5ECF6",
            "gridcolor": "white",
            "gridwidth": 2,
            "linecolor": "white",
            "showbackground": true,
            "ticks": "",
            "zerolinecolor": "white"
           },
           "zaxis": {
            "backgroundcolor": "#E5ECF6",
            "gridcolor": "white",
            "gridwidth": 2,
            "linecolor": "white",
            "showbackground": true,
            "ticks": "",
            "zerolinecolor": "white"
           }
          },
          "shapedefaults": {
           "line": {
            "color": "#2a3f5f"
           }
          },
          "ternary": {
           "aaxis": {
            "gridcolor": "white",
            "linecolor": "white",
            "ticks": ""
           },
           "baxis": {
            "gridcolor": "white",
            "linecolor": "white",
            "ticks": ""
           },
           "bgcolor": "#E5ECF6",
           "caxis": {
            "gridcolor": "white",
            "linecolor": "white",
            "ticks": ""
           }
          },
          "title": {
           "x": 0.05
          },
          "xaxis": {
           "automargin": true,
           "gridcolor": "white",
           "linecolor": "white",
           "ticks": "",
           "title": {
            "standoff": 15
           },
           "zerolinecolor": "white",
           "zerolinewidth": 2
          },
          "yaxis": {
           "automargin": true,
           "gridcolor": "white",
           "linecolor": "white",
           "ticks": "",
           "title": {
            "standoff": 15
           },
           "zerolinecolor": "white",
           "zerolinewidth": 2
          }
         }
        },
        "title": {
         "text": "Parallel Coordinate Plot"
        }
       }
      }
     },
     "metadata": {},
     "output_type": "display_data"
    },
    {
     "data": {
      "application/vnd.plotly.v1+json": {
       "config": {
        "plotlyServerURL": "https://plot.ly"
       },
       "data": [
        {
         "colorbar": {
          "title": {
           "text": "Objective Value"
          }
         },
         "colorscale": [
          [
           0,
           "rgb(247,251,255)"
          ],
          [
           0.125,
           "rgb(222,235,247)"
          ],
          [
           0.25,
           "rgb(198,219,239)"
          ],
          [
           0.375,
           "rgb(158,202,225)"
          ],
          [
           0.5,
           "rgb(107,174,214)"
          ],
          [
           0.625,
           "rgb(66,146,198)"
          ],
          [
           0.75,
           "rgb(33,113,181)"
          ],
          [
           0.875,
           "rgb(8,81,156)"
          ],
          [
           1,
           "rgb(8,48,107)"
          ]
         ],
         "connectgaps": true,
         "contours": {
          "coloring": "heatmap"
         },
         "hoverinfo": "none",
         "line": {
          "smoothing": 1.3
         },
         "reversescale": false,
         "type": "contour",
         "x": [
          0.009662632253855191,
          0.012444370592885091,
          0.01355200677621686,
          0.013699912322684223,
          0.039869846207736225,
          0.07816395047440564,
          0.1306813741763693,
          0.16338681676381983,
          0.22084614118784224,
          0.27312735929782156,
          0.3438111318491957,
          0.4777602816443038,
          0.5565810370560661,
          0.6455904498739444,
          0.9785491526819717,
          0.9791792425173294,
          1.0080857144312148,
          1.0372923095243238,
          1.130971340598003,
          1.8462185887884308,
          1.9612033642954578,
          2.525806719340709
         ],
         "y": [
          31.25,
          53,
          95,
          119,
          139,
          207,
          213,
          243,
          263,
          287,
          293,
          316,
          325,
          341,
          375,
          393,
          405,
          409,
          488,
          509.75
         ],
         "z": [
          [
           null,
           null,
           null,
           null,
           null,
           null,
           null,
           null,
           null,
           null,
           null,
           null,
           null,
           null,
           null,
           null,
           null,
           null,
           null,
           null,
           null,
           null
          ],
          [
           null,
           null,
           null,
           null,
           null,
           null,
           null,
           null,
           null,
           null,
           null,
           null,
           null,
           null,
           null,
           null,
           null,
           0.7361219217913166,
           null,
           null,
           null,
           null
          ],
          [
           null,
           null,
           null,
           0.6753210532759913,
           null,
           null,
           null,
           null,
           null,
           null,
           null,
           null,
           null,
           null,
           null,
           null,
           null,
           null,
           null,
           null,
           null,
           null
          ],
          [
           null,
           null,
           null,
           null,
           0.7208250889837818,
           null,
           null,
           null,
           null,
           null,
           null,
           null,
           null,
           null,
           null,
           null,
           null,
           null,
           null,
           null,
           null,
           null
          ],
          [
           null,
           null,
           0.6765918826504093,
           null,
           null,
           null,
           null,
           null,
           null,
           null,
           null,
           null,
           null,
           null,
           null,
           null,
           null,
           null,
           null,
           null,
           null,
           null
          ],
          [
           null,
           null,
           null,
           null,
           null,
           null,
           null,
           null,
           null,
           null,
           null,
           null,
           null,
           null,
           0.7530088075177754,
           null,
           null,
           null,
           null,
           null,
           null,
           null
          ],
          [
           null,
           null,
           null,
           null,
           null,
           0.7425817411237375,
           null,
           null,
           null,
           null,
           null,
           null,
           null,
           null,
           null,
           null,
           null,
           null,
           null,
           null,
           null,
           null
          ],
          [
           null,
           null,
           null,
           null,
           null,
           null,
           0.7403913794963092,
           null,
           null,
           null,
           null,
           null,
           null,
           null,
           null,
           null,
           null,
           null,
           null,
           null,
           null,
           null
          ],
          [
           null,
           null,
           null,
           null,
           null,
           null,
           null,
           null,
           null,
           null,
           null,
           null,
           0.7412457708739321,
           null,
           null,
           null,
           null,
           null,
           null,
           null,
           null,
           null
          ],
          [
           null,
           null,
           null,
           null,
           null,
           null,
           null,
           null,
           null,
           null,
           null,
           null,
           null,
           null,
           null,
           0.753320297730115,
           null,
           null,
           null,
           null,
           null,
           null
          ],
          [
           null,
           null,
           null,
           null,
           null,
           null,
           null,
           null,
           0.742397558909905,
           null,
           null,
           null,
           null,
           null,
           null,
           null,
           null,
           null,
           null,
           null,
           null,
           null
          ],
          [
           null,
           0.7052944376114778,
           null,
           null,
           null,
           null,
           null,
           null,
           null,
           null,
           null,
           null,
           null,
           null,
           null,
           null,
           null,
           null,
           null,
           null,
           null,
           null
          ],
          [
           null,
           null,
           null,
           null,
           null,
           null,
           null,
           null,
           null,
           null,
           null,
           null,
           null,
           null,
           null,
           null,
           0.7521811241017351,
           null,
           null,
           null,
           null,
           null
          ],
          [
           null,
           null,
           null,
           null,
           null,
           null,
           null,
           null,
           null,
           0.7427722647250352,
           null,
           null,
           null,
           null,
           null,
           null,
           null,
           null,
           null,
           null,
           null,
           null
          ],
          [
           null,
           null,
           null,
           null,
           null,
           null,
           null,
           null,
           null,
           null,
           null,
           0.7473051748076305,
           null,
           null,
           null,
           null,
           null,
           null,
           null,
           null,
           null,
           null
          ],
          [
           null,
           null,
           null,
           null,
           null,
           null,
           null,
           0.7462534301625258,
           null,
           null,
           null,
           null,
           null,
           null,
           null,
           null,
           null,
           null,
           null,
           null,
           null,
           null
          ],
          [
           null,
           null,
           null,
           null,
           null,
           null,
           null,
           null,
           null,
           null,
           0.742676651243317,
           null,
           null,
           null,
           null,
           null,
           null,
           null,
           0.7542559100033126,
           null,
           null,
           null
          ],
          [
           null,
           null,
           null,
           null,
           null,
           null,
           null,
           null,
           null,
           null,
           null,
           null,
           null,
           0.7522429496076931,
           null,
           null,
           null,
           null,
           null,
           null,
           null,
           null
          ],
          [
           null,
           null,
           null,
           null,
           null,
           null,
           null,
           null,
           null,
           null,
           null,
           null,
           null,
           null,
           null,
           null,
           null,
           null,
           null,
           0.7441537891013195,
           0.7345026776172737,
           null
          ],
          [
           null,
           null,
           null,
           null,
           null,
           null,
           null,
           null,
           null,
           null,
           null,
           null,
           null,
           null,
           null,
           null,
           null,
           null,
           null,
           null,
           null,
           null
          ]
         ]
        },
        {
         "marker": {
          "color": "black",
          "line": {
           "color": "Gray",
           "width": 2
          }
         },
         "mode": "markers",
         "name": "Feasible Trial",
         "showlegend": false,
         "type": "scatter",
         "x": [
          0.01355200677621686,
          0.039869846207736225,
          0.013699912322684223,
          0.9785491526819717,
          1.130971340598003,
          0.012444370592885091,
          0.6455904498739444,
          1.8462185887884308,
          0.9791792425173294,
          0.5565810370560661,
          0.16338681676381983,
          0.27312735929782156,
          1.9612033642954578,
          0.07816395047440564,
          0.3438111318491957,
          1.0080857144312148,
          0.1306813741763693,
          1.0372923095243238,
          0.4777602816443038,
          0.22084614118784224
         ],
         "y": [
          139,
          119,
          95,
          207,
          405,
          316,
          409,
          488,
          287,
          263,
          393,
          341,
          488,
          213,
          405,
          325,
          243,
          53,
          375,
          293
         ]
        },
        {
         "marker": {
          "color": "#cccccc",
          "line": {
           "color": "Gray",
           "width": 2
          }
         },
         "mode": "markers",
         "name": "Infeasible Trial",
         "showlegend": false,
         "type": "scatter",
         "x": [],
         "y": []
        }
       ],
       "layout": {
        "template": {
         "data": {
          "bar": [
           {
            "error_x": {
             "color": "#2a3f5f"
            },
            "error_y": {
             "color": "#2a3f5f"
            },
            "marker": {
             "line": {
              "color": "#E5ECF6",
              "width": 0.5
             },
             "pattern": {
              "fillmode": "overlay",
              "size": 10,
              "solidity": 0.2
             }
            },
            "type": "bar"
           }
          ],
          "barpolar": [
           {
            "marker": {
             "line": {
              "color": "#E5ECF6",
              "width": 0.5
             },
             "pattern": {
              "fillmode": "overlay",
              "size": 10,
              "solidity": 0.2
             }
            },
            "type": "barpolar"
           }
          ],
          "carpet": [
           {
            "aaxis": {
             "endlinecolor": "#2a3f5f",
             "gridcolor": "white",
             "linecolor": "white",
             "minorgridcolor": "white",
             "startlinecolor": "#2a3f5f"
            },
            "baxis": {
             "endlinecolor": "#2a3f5f",
             "gridcolor": "white",
             "linecolor": "white",
             "minorgridcolor": "white",
             "startlinecolor": "#2a3f5f"
            },
            "type": "carpet"
           }
          ],
          "choropleth": [
           {
            "colorbar": {
             "outlinewidth": 0,
             "ticks": ""
            },
            "type": "choropleth"
           }
          ],
          "contour": [
           {
            "colorbar": {
             "outlinewidth": 0,
             "ticks": ""
            },
            "colorscale": [
             [
              0,
              "#0d0887"
             ],
             [
              0.1111111111111111,
              "#46039f"
             ],
             [
              0.2222222222222222,
              "#7201a8"
             ],
             [
              0.3333333333333333,
              "#9c179e"
             ],
             [
              0.4444444444444444,
              "#bd3786"
             ],
             [
              0.5555555555555556,
              "#d8576b"
             ],
             [
              0.6666666666666666,
              "#ed7953"
             ],
             [
              0.7777777777777778,
              "#fb9f3a"
             ],
             [
              0.8888888888888888,
              "#fdca26"
             ],
             [
              1,
              "#f0f921"
             ]
            ],
            "type": "contour"
           }
          ],
          "contourcarpet": [
           {
            "colorbar": {
             "outlinewidth": 0,
             "ticks": ""
            },
            "type": "contourcarpet"
           }
          ],
          "heatmap": [
           {
            "colorbar": {
             "outlinewidth": 0,
             "ticks": ""
            },
            "colorscale": [
             [
              0,
              "#0d0887"
             ],
             [
              0.1111111111111111,
              "#46039f"
             ],
             [
              0.2222222222222222,
              "#7201a8"
             ],
             [
              0.3333333333333333,
              "#9c179e"
             ],
             [
              0.4444444444444444,
              "#bd3786"
             ],
             [
              0.5555555555555556,
              "#d8576b"
             ],
             [
              0.6666666666666666,
              "#ed7953"
             ],
             [
              0.7777777777777778,
              "#fb9f3a"
             ],
             [
              0.8888888888888888,
              "#fdca26"
             ],
             [
              1,
              "#f0f921"
             ]
            ],
            "type": "heatmap"
           }
          ],
          "heatmapgl": [
           {
            "colorbar": {
             "outlinewidth": 0,
             "ticks": ""
            },
            "colorscale": [
             [
              0,
              "#0d0887"
             ],
             [
              0.1111111111111111,
              "#46039f"
             ],
             [
              0.2222222222222222,
              "#7201a8"
             ],
             [
              0.3333333333333333,
              "#9c179e"
             ],
             [
              0.4444444444444444,
              "#bd3786"
             ],
             [
              0.5555555555555556,
              "#d8576b"
             ],
             [
              0.6666666666666666,
              "#ed7953"
             ],
             [
              0.7777777777777778,
              "#fb9f3a"
             ],
             [
              0.8888888888888888,
              "#fdca26"
             ],
             [
              1,
              "#f0f921"
             ]
            ],
            "type": "heatmapgl"
           }
          ],
          "histogram": [
           {
            "marker": {
             "pattern": {
              "fillmode": "overlay",
              "size": 10,
              "solidity": 0.2
             }
            },
            "type": "histogram"
           }
          ],
          "histogram2d": [
           {
            "colorbar": {
             "outlinewidth": 0,
             "ticks": ""
            },
            "colorscale": [
             [
              0,
              "#0d0887"
             ],
             [
              0.1111111111111111,
              "#46039f"
             ],
             [
              0.2222222222222222,
              "#7201a8"
             ],
             [
              0.3333333333333333,
              "#9c179e"
             ],
             [
              0.4444444444444444,
              "#bd3786"
             ],
             [
              0.5555555555555556,
              "#d8576b"
             ],
             [
              0.6666666666666666,
              "#ed7953"
             ],
             [
              0.7777777777777778,
              "#fb9f3a"
             ],
             [
              0.8888888888888888,
              "#fdca26"
             ],
             [
              1,
              "#f0f921"
             ]
            ],
            "type": "histogram2d"
           }
          ],
          "histogram2dcontour": [
           {
            "colorbar": {
             "outlinewidth": 0,
             "ticks": ""
            },
            "colorscale": [
             [
              0,
              "#0d0887"
             ],
             [
              0.1111111111111111,
              "#46039f"
             ],
             [
              0.2222222222222222,
              "#7201a8"
             ],
             [
              0.3333333333333333,
              "#9c179e"
             ],
             [
              0.4444444444444444,
              "#bd3786"
             ],
             [
              0.5555555555555556,
              "#d8576b"
             ],
             [
              0.6666666666666666,
              "#ed7953"
             ],
             [
              0.7777777777777778,
              "#fb9f3a"
             ],
             [
              0.8888888888888888,
              "#fdca26"
             ],
             [
              1,
              "#f0f921"
             ]
            ],
            "type": "histogram2dcontour"
           }
          ],
          "mesh3d": [
           {
            "colorbar": {
             "outlinewidth": 0,
             "ticks": ""
            },
            "type": "mesh3d"
           }
          ],
          "parcoords": [
           {
            "line": {
             "colorbar": {
              "outlinewidth": 0,
              "ticks": ""
             }
            },
            "type": "parcoords"
           }
          ],
          "pie": [
           {
            "automargin": true,
            "type": "pie"
           }
          ],
          "scatter": [
           {
            "fillpattern": {
             "fillmode": "overlay",
             "size": 10,
             "solidity": 0.2
            },
            "type": "scatter"
           }
          ],
          "scatter3d": [
           {
            "line": {
             "colorbar": {
              "outlinewidth": 0,
              "ticks": ""
             }
            },
            "marker": {
             "colorbar": {
              "outlinewidth": 0,
              "ticks": ""
             }
            },
            "type": "scatter3d"
           }
          ],
          "scattercarpet": [
           {
            "marker": {
             "colorbar": {
              "outlinewidth": 0,
              "ticks": ""
             }
            },
            "type": "scattercarpet"
           }
          ],
          "scattergeo": [
           {
            "marker": {
             "colorbar": {
              "outlinewidth": 0,
              "ticks": ""
             }
            },
            "type": "scattergeo"
           }
          ],
          "scattergl": [
           {
            "marker": {
             "colorbar": {
              "outlinewidth": 0,
              "ticks": ""
             }
            },
            "type": "scattergl"
           }
          ],
          "scattermapbox": [
           {
            "marker": {
             "colorbar": {
              "outlinewidth": 0,
              "ticks": ""
             }
            },
            "type": "scattermapbox"
           }
          ],
          "scatterpolar": [
           {
            "marker": {
             "colorbar": {
              "outlinewidth": 0,
              "ticks": ""
             }
            },
            "type": "scatterpolar"
           }
          ],
          "scatterpolargl": [
           {
            "marker": {
             "colorbar": {
              "outlinewidth": 0,
              "ticks": ""
             }
            },
            "type": "scatterpolargl"
           }
          ],
          "scatterternary": [
           {
            "marker": {
             "colorbar": {
              "outlinewidth": 0,
              "ticks": ""
             }
            },
            "type": "scatterternary"
           }
          ],
          "surface": [
           {
            "colorbar": {
             "outlinewidth": 0,
             "ticks": ""
            },
            "colorscale": [
             [
              0,
              "#0d0887"
             ],
             [
              0.1111111111111111,
              "#46039f"
             ],
             [
              0.2222222222222222,
              "#7201a8"
             ],
             [
              0.3333333333333333,
              "#9c179e"
             ],
             [
              0.4444444444444444,
              "#bd3786"
             ],
             [
              0.5555555555555556,
              "#d8576b"
             ],
             [
              0.6666666666666666,
              "#ed7953"
             ],
             [
              0.7777777777777778,
              "#fb9f3a"
             ],
             [
              0.8888888888888888,
              "#fdca26"
             ],
             [
              1,
              "#f0f921"
             ]
            ],
            "type": "surface"
           }
          ],
          "table": [
           {
            "cells": {
             "fill": {
              "color": "#EBF0F8"
             },
             "line": {
              "color": "white"
             }
            },
            "header": {
             "fill": {
              "color": "#C8D4E3"
             },
             "line": {
              "color": "white"
             }
            },
            "type": "table"
           }
          ]
         },
         "layout": {
          "annotationdefaults": {
           "arrowcolor": "#2a3f5f",
           "arrowhead": 0,
           "arrowwidth": 1
          },
          "autotypenumbers": "strict",
          "coloraxis": {
           "colorbar": {
            "outlinewidth": 0,
            "ticks": ""
           }
          },
          "colorscale": {
           "diverging": [
            [
             0,
             "#8e0152"
            ],
            [
             0.1,
             "#c51b7d"
            ],
            [
             0.2,
             "#de77ae"
            ],
            [
             0.3,
             "#f1b6da"
            ],
            [
             0.4,
             "#fde0ef"
            ],
            [
             0.5,
             "#f7f7f7"
            ],
            [
             0.6,
             "#e6f5d0"
            ],
            [
             0.7,
             "#b8e186"
            ],
            [
             0.8,
             "#7fbc41"
            ],
            [
             0.9,
             "#4d9221"
            ],
            [
             1,
             "#276419"
            ]
           ],
           "sequential": [
            [
             0,
             "#0d0887"
            ],
            [
             0.1111111111111111,
             "#46039f"
            ],
            [
             0.2222222222222222,
             "#7201a8"
            ],
            [
             0.3333333333333333,
             "#9c179e"
            ],
            [
             0.4444444444444444,
             "#bd3786"
            ],
            [
             0.5555555555555556,
             "#d8576b"
            ],
            [
             0.6666666666666666,
             "#ed7953"
            ],
            [
             0.7777777777777778,
             "#fb9f3a"
            ],
            [
             0.8888888888888888,
             "#fdca26"
            ],
            [
             1,
             "#f0f921"
            ]
           ],
           "sequentialminus": [
            [
             0,
             "#0d0887"
            ],
            [
             0.1111111111111111,
             "#46039f"
            ],
            [
             0.2222222222222222,
             "#7201a8"
            ],
            [
             0.3333333333333333,
             "#9c179e"
            ],
            [
             0.4444444444444444,
             "#bd3786"
            ],
            [
             0.5555555555555556,
             "#d8576b"
            ],
            [
             0.6666666666666666,
             "#ed7953"
            ],
            [
             0.7777777777777778,
             "#fb9f3a"
            ],
            [
             0.8888888888888888,
             "#fdca26"
            ],
            [
             1,
             "#f0f921"
            ]
           ]
          },
          "colorway": [
           "#636efa",
           "#EF553B",
           "#00cc96",
           "#ab63fa",
           "#FFA15A",
           "#19d3f3",
           "#FF6692",
           "#B6E880",
           "#FF97FF",
           "#FECB52"
          ],
          "font": {
           "color": "#2a3f5f"
          },
          "geo": {
           "bgcolor": "white",
           "lakecolor": "white",
           "landcolor": "#E5ECF6",
           "showlakes": true,
           "showland": true,
           "subunitcolor": "white"
          },
          "hoverlabel": {
           "align": "left"
          },
          "hovermode": "closest",
          "mapbox": {
           "style": "light"
          },
          "paper_bgcolor": "white",
          "plot_bgcolor": "#E5ECF6",
          "polar": {
           "angularaxis": {
            "gridcolor": "white",
            "linecolor": "white",
            "ticks": ""
           },
           "bgcolor": "#E5ECF6",
           "radialaxis": {
            "gridcolor": "white",
            "linecolor": "white",
            "ticks": ""
           }
          },
          "scene": {
           "xaxis": {
            "backgroundcolor": "#E5ECF6",
            "gridcolor": "white",
            "gridwidth": 2,
            "linecolor": "white",
            "showbackground": true,
            "ticks": "",
            "zerolinecolor": "white"
           },
           "yaxis": {
            "backgroundcolor": "#E5ECF6",
            "gridcolor": "white",
            "gridwidth": 2,
            "linecolor": "white",
            "showbackground": true,
            "ticks": "",
            "zerolinecolor": "white"
           },
           "zaxis": {
            "backgroundcolor": "#E5ECF6",
            "gridcolor": "white",
            "gridwidth": 2,
            "linecolor": "white",
            "showbackground": true,
            "ticks": "",
            "zerolinecolor": "white"
           }
          },
          "shapedefaults": {
           "line": {
            "color": "#2a3f5f"
           }
          },
          "ternary": {
           "aaxis": {
            "gridcolor": "white",
            "linecolor": "white",
            "ticks": ""
           },
           "baxis": {
            "gridcolor": "white",
            "linecolor": "white",
            "ticks": ""
           },
           "bgcolor": "#E5ECF6",
           "caxis": {
            "gridcolor": "white",
            "linecolor": "white",
            "ticks": ""
           }
          },
          "title": {
           "x": 0.05
          },
          "xaxis": {
           "automargin": true,
           "gridcolor": "white",
           "linecolor": "white",
           "ticks": "",
           "title": {
            "standoff": 15
           },
           "zerolinecolor": "white",
           "zerolinewidth": 2
          },
          "yaxis": {
           "automargin": true,
           "gridcolor": "white",
           "linecolor": "white",
           "ticks": "",
           "title": {
            "standoff": 15
           },
           "zerolinecolor": "white",
           "zerolinewidth": 2
          }
         }
        },
        "title": {
         "text": "Contour Plot"
        },
        "xaxis": {
         "range": [
          -2.014904548781102,
          0.40240011425756317
         ],
         "title": {
          "text": "learning_rate"
         },
         "type": "log"
        },
        "yaxis": {
         "range": [
          31.25,
          509.75
         ],
         "title": {
          "text": "n_estimators"
         }
        }
       }
      }
     },
     "metadata": {},
     "output_type": "display_data"
    },
    {
     "data": {
      "application/vnd.plotly.v1+json": {
       "config": {
        "plotlyServerURL": "https://plot.ly"
       },
       "data": [
        {
         "cliponaxis": false,
         "hovertemplate": [
          "n_estimators (IntDistribution): 0.26015141455949925<extra></extra>",
          "learning_rate (FloatDistribution): 0.7398485854405008<extra></extra>"
         ],
         "name": "Objective Value",
         "orientation": "h",
         "text": [
          "0.26",
          "0.74"
         ],
         "textposition": "outside",
         "type": "bar",
         "x": [
          0.26015141455949925,
          0.7398485854405008
         ],
         "y": [
          "n_estimators",
          "learning_rate"
         ]
        }
       ],
       "layout": {
        "template": {
         "data": {
          "bar": [
           {
            "error_x": {
             "color": "#2a3f5f"
            },
            "error_y": {
             "color": "#2a3f5f"
            },
            "marker": {
             "line": {
              "color": "#E5ECF6",
              "width": 0.5
             },
             "pattern": {
              "fillmode": "overlay",
              "size": 10,
              "solidity": 0.2
             }
            },
            "type": "bar"
           }
          ],
          "barpolar": [
           {
            "marker": {
             "line": {
              "color": "#E5ECF6",
              "width": 0.5
             },
             "pattern": {
              "fillmode": "overlay",
              "size": 10,
              "solidity": 0.2
             }
            },
            "type": "barpolar"
           }
          ],
          "carpet": [
           {
            "aaxis": {
             "endlinecolor": "#2a3f5f",
             "gridcolor": "white",
             "linecolor": "white",
             "minorgridcolor": "white",
             "startlinecolor": "#2a3f5f"
            },
            "baxis": {
             "endlinecolor": "#2a3f5f",
             "gridcolor": "white",
             "linecolor": "white",
             "minorgridcolor": "white",
             "startlinecolor": "#2a3f5f"
            },
            "type": "carpet"
           }
          ],
          "choropleth": [
           {
            "colorbar": {
             "outlinewidth": 0,
             "ticks": ""
            },
            "type": "choropleth"
           }
          ],
          "contour": [
           {
            "colorbar": {
             "outlinewidth": 0,
             "ticks": ""
            },
            "colorscale": [
             [
              0,
              "#0d0887"
             ],
             [
              0.1111111111111111,
              "#46039f"
             ],
             [
              0.2222222222222222,
              "#7201a8"
             ],
             [
              0.3333333333333333,
              "#9c179e"
             ],
             [
              0.4444444444444444,
              "#bd3786"
             ],
             [
              0.5555555555555556,
              "#d8576b"
             ],
             [
              0.6666666666666666,
              "#ed7953"
             ],
             [
              0.7777777777777778,
              "#fb9f3a"
             ],
             [
              0.8888888888888888,
              "#fdca26"
             ],
             [
              1,
              "#f0f921"
             ]
            ],
            "type": "contour"
           }
          ],
          "contourcarpet": [
           {
            "colorbar": {
             "outlinewidth": 0,
             "ticks": ""
            },
            "type": "contourcarpet"
           }
          ],
          "heatmap": [
           {
            "colorbar": {
             "outlinewidth": 0,
             "ticks": ""
            },
            "colorscale": [
             [
              0,
              "#0d0887"
             ],
             [
              0.1111111111111111,
              "#46039f"
             ],
             [
              0.2222222222222222,
              "#7201a8"
             ],
             [
              0.3333333333333333,
              "#9c179e"
             ],
             [
              0.4444444444444444,
              "#bd3786"
             ],
             [
              0.5555555555555556,
              "#d8576b"
             ],
             [
              0.6666666666666666,
              "#ed7953"
             ],
             [
              0.7777777777777778,
              "#fb9f3a"
             ],
             [
              0.8888888888888888,
              "#fdca26"
             ],
             [
              1,
              "#f0f921"
             ]
            ],
            "type": "heatmap"
           }
          ],
          "heatmapgl": [
           {
            "colorbar": {
             "outlinewidth": 0,
             "ticks": ""
            },
            "colorscale": [
             [
              0,
              "#0d0887"
             ],
             [
              0.1111111111111111,
              "#46039f"
             ],
             [
              0.2222222222222222,
              "#7201a8"
             ],
             [
              0.3333333333333333,
              "#9c179e"
             ],
             [
              0.4444444444444444,
              "#bd3786"
             ],
             [
              0.5555555555555556,
              "#d8576b"
             ],
             [
              0.6666666666666666,
              "#ed7953"
             ],
             [
              0.7777777777777778,
              "#fb9f3a"
             ],
             [
              0.8888888888888888,
              "#fdca26"
             ],
             [
              1,
              "#f0f921"
             ]
            ],
            "type": "heatmapgl"
           }
          ],
          "histogram": [
           {
            "marker": {
             "pattern": {
              "fillmode": "overlay",
              "size": 10,
              "solidity": 0.2
             }
            },
            "type": "histogram"
           }
          ],
          "histogram2d": [
           {
            "colorbar": {
             "outlinewidth": 0,
             "ticks": ""
            },
            "colorscale": [
             [
              0,
              "#0d0887"
             ],
             [
              0.1111111111111111,
              "#46039f"
             ],
             [
              0.2222222222222222,
              "#7201a8"
             ],
             [
              0.3333333333333333,
              "#9c179e"
             ],
             [
              0.4444444444444444,
              "#bd3786"
             ],
             [
              0.5555555555555556,
              "#d8576b"
             ],
             [
              0.6666666666666666,
              "#ed7953"
             ],
             [
              0.7777777777777778,
              "#fb9f3a"
             ],
             [
              0.8888888888888888,
              "#fdca26"
             ],
             [
              1,
              "#f0f921"
             ]
            ],
            "type": "histogram2d"
           }
          ],
          "histogram2dcontour": [
           {
            "colorbar": {
             "outlinewidth": 0,
             "ticks": ""
            },
            "colorscale": [
             [
              0,
              "#0d0887"
             ],
             [
              0.1111111111111111,
              "#46039f"
             ],
             [
              0.2222222222222222,
              "#7201a8"
             ],
             [
              0.3333333333333333,
              "#9c179e"
             ],
             [
              0.4444444444444444,
              "#bd3786"
             ],
             [
              0.5555555555555556,
              "#d8576b"
             ],
             [
              0.6666666666666666,
              "#ed7953"
             ],
             [
              0.7777777777777778,
              "#fb9f3a"
             ],
             [
              0.8888888888888888,
              "#fdca26"
             ],
             [
              1,
              "#f0f921"
             ]
            ],
            "type": "histogram2dcontour"
           }
          ],
          "mesh3d": [
           {
            "colorbar": {
             "outlinewidth": 0,
             "ticks": ""
            },
            "type": "mesh3d"
           }
          ],
          "parcoords": [
           {
            "line": {
             "colorbar": {
              "outlinewidth": 0,
              "ticks": ""
             }
            },
            "type": "parcoords"
           }
          ],
          "pie": [
           {
            "automargin": true,
            "type": "pie"
           }
          ],
          "scatter": [
           {
            "fillpattern": {
             "fillmode": "overlay",
             "size": 10,
             "solidity": 0.2
            },
            "type": "scatter"
           }
          ],
          "scatter3d": [
           {
            "line": {
             "colorbar": {
              "outlinewidth": 0,
              "ticks": ""
             }
            },
            "marker": {
             "colorbar": {
              "outlinewidth": 0,
              "ticks": ""
             }
            },
            "type": "scatter3d"
           }
          ],
          "scattercarpet": [
           {
            "marker": {
             "colorbar": {
              "outlinewidth": 0,
              "ticks": ""
             }
            },
            "type": "scattercarpet"
           }
          ],
          "scattergeo": [
           {
            "marker": {
             "colorbar": {
              "outlinewidth": 0,
              "ticks": ""
             }
            },
            "type": "scattergeo"
           }
          ],
          "scattergl": [
           {
            "marker": {
             "colorbar": {
              "outlinewidth": 0,
              "ticks": ""
             }
            },
            "type": "scattergl"
           }
          ],
          "scattermapbox": [
           {
            "marker": {
             "colorbar": {
              "outlinewidth": 0,
              "ticks": ""
             }
            },
            "type": "scattermapbox"
           }
          ],
          "scatterpolar": [
           {
            "marker": {
             "colorbar": {
              "outlinewidth": 0,
              "ticks": ""
             }
            },
            "type": "scatterpolar"
           }
          ],
          "scatterpolargl": [
           {
            "marker": {
             "colorbar": {
              "outlinewidth": 0,
              "ticks": ""
             }
            },
            "type": "scatterpolargl"
           }
          ],
          "scatterternary": [
           {
            "marker": {
             "colorbar": {
              "outlinewidth": 0,
              "ticks": ""
             }
            },
            "type": "scatterternary"
           }
          ],
          "surface": [
           {
            "colorbar": {
             "outlinewidth": 0,
             "ticks": ""
            },
            "colorscale": [
             [
              0,
              "#0d0887"
             ],
             [
              0.1111111111111111,
              "#46039f"
             ],
             [
              0.2222222222222222,
              "#7201a8"
             ],
             [
              0.3333333333333333,
              "#9c179e"
             ],
             [
              0.4444444444444444,
              "#bd3786"
             ],
             [
              0.5555555555555556,
              "#d8576b"
             ],
             [
              0.6666666666666666,
              "#ed7953"
             ],
             [
              0.7777777777777778,
              "#fb9f3a"
             ],
             [
              0.8888888888888888,
              "#fdca26"
             ],
             [
              1,
              "#f0f921"
             ]
            ],
            "type": "surface"
           }
          ],
          "table": [
           {
            "cells": {
             "fill": {
              "color": "#EBF0F8"
             },
             "line": {
              "color": "white"
             }
            },
            "header": {
             "fill": {
              "color": "#C8D4E3"
             },
             "line": {
              "color": "white"
             }
            },
            "type": "table"
           }
          ]
         },
         "layout": {
          "annotationdefaults": {
           "arrowcolor": "#2a3f5f",
           "arrowhead": 0,
           "arrowwidth": 1
          },
          "autotypenumbers": "strict",
          "coloraxis": {
           "colorbar": {
            "outlinewidth": 0,
            "ticks": ""
           }
          },
          "colorscale": {
           "diverging": [
            [
             0,
             "#8e0152"
            ],
            [
             0.1,
             "#c51b7d"
            ],
            [
             0.2,
             "#de77ae"
            ],
            [
             0.3,
             "#f1b6da"
            ],
            [
             0.4,
             "#fde0ef"
            ],
            [
             0.5,
             "#f7f7f7"
            ],
            [
             0.6,
             "#e6f5d0"
            ],
            [
             0.7,
             "#b8e186"
            ],
            [
             0.8,
             "#7fbc41"
            ],
            [
             0.9,
             "#4d9221"
            ],
            [
             1,
             "#276419"
            ]
           ],
           "sequential": [
            [
             0,
             "#0d0887"
            ],
            [
             0.1111111111111111,
             "#46039f"
            ],
            [
             0.2222222222222222,
             "#7201a8"
            ],
            [
             0.3333333333333333,
             "#9c179e"
            ],
            [
             0.4444444444444444,
             "#bd3786"
            ],
            [
             0.5555555555555556,
             "#d8576b"
            ],
            [
             0.6666666666666666,
             "#ed7953"
            ],
            [
             0.7777777777777778,
             "#fb9f3a"
            ],
            [
             0.8888888888888888,
             "#fdca26"
            ],
            [
             1,
             "#f0f921"
            ]
           ],
           "sequentialminus": [
            [
             0,
             "#0d0887"
            ],
            [
             0.1111111111111111,
             "#46039f"
            ],
            [
             0.2222222222222222,
             "#7201a8"
            ],
            [
             0.3333333333333333,
             "#9c179e"
            ],
            [
             0.4444444444444444,
             "#bd3786"
            ],
            [
             0.5555555555555556,
             "#d8576b"
            ],
            [
             0.6666666666666666,
             "#ed7953"
            ],
            [
             0.7777777777777778,
             "#fb9f3a"
            ],
            [
             0.8888888888888888,
             "#fdca26"
            ],
            [
             1,
             "#f0f921"
            ]
           ]
          },
          "colorway": [
           "#636efa",
           "#EF553B",
           "#00cc96",
           "#ab63fa",
           "#FFA15A",
           "#19d3f3",
           "#FF6692",
           "#B6E880",
           "#FF97FF",
           "#FECB52"
          ],
          "font": {
           "color": "#2a3f5f"
          },
          "geo": {
           "bgcolor": "white",
           "lakecolor": "white",
           "landcolor": "#E5ECF6",
           "showlakes": true,
           "showland": true,
           "subunitcolor": "white"
          },
          "hoverlabel": {
           "align": "left"
          },
          "hovermode": "closest",
          "mapbox": {
           "style": "light"
          },
          "paper_bgcolor": "white",
          "plot_bgcolor": "#E5ECF6",
          "polar": {
           "angularaxis": {
            "gridcolor": "white",
            "linecolor": "white",
            "ticks": ""
           },
           "bgcolor": "#E5ECF6",
           "radialaxis": {
            "gridcolor": "white",
            "linecolor": "white",
            "ticks": ""
           }
          },
          "scene": {
           "xaxis": {
            "backgroundcolor": "#E5ECF6",
            "gridcolor": "white",
            "gridwidth": 2,
            "linecolor": "white",
            "showbackground": true,
            "ticks": "",
            "zerolinecolor": "white"
           },
           "yaxis": {
            "backgroundcolor": "#E5ECF6",
            "gridcolor": "white",
            "gridwidth": 2,
            "linecolor": "white",
            "showbackground": true,
            "ticks": "",
            "zerolinecolor": "white"
           },
           "zaxis": {
            "backgroundcolor": "#E5ECF6",
            "gridcolor": "white",
            "gridwidth": 2,
            "linecolor": "white",
            "showbackground": true,
            "ticks": "",
            "zerolinecolor": "white"
           }
          },
          "shapedefaults": {
           "line": {
            "color": "#2a3f5f"
           }
          },
          "ternary": {
           "aaxis": {
            "gridcolor": "white",
            "linecolor": "white",
            "ticks": ""
           },
           "baxis": {
            "gridcolor": "white",
            "linecolor": "white",
            "ticks": ""
           },
           "bgcolor": "#E5ECF6",
           "caxis": {
            "gridcolor": "white",
            "linecolor": "white",
            "ticks": ""
           }
          },
          "title": {
           "x": 0.05
          },
          "xaxis": {
           "automargin": true,
           "gridcolor": "white",
           "linecolor": "white",
           "ticks": "",
           "title": {
            "standoff": 15
           },
           "zerolinecolor": "white",
           "zerolinewidth": 2
          },
          "yaxis": {
           "automargin": true,
           "gridcolor": "white",
           "linecolor": "white",
           "ticks": "",
           "title": {
            "standoff": 15
           },
           "zerolinecolor": "white",
           "zerolinewidth": 2
          }
         }
        },
        "title": {
         "text": "Hyperparameter Importances"
        },
        "xaxis": {
         "title": {
          "text": "Hyperparameter Importance"
         }
        },
        "yaxis": {
         "title": {
          "text": "Hyperparameter"
         }
        }
       }
      }
     },
     "metadata": {},
     "output_type": "display_data"
    },
    {
     "name": "stdout",
     "output_type": "stream",
     "text": [
      "Best F1 for SVM: 0.7593984962406015\n",
      "Best Parameters for SVM: {'Modelo__C': 1.1149710670911543, 'Modelo__kernel': 'rbf'}\n",
      "Plots for model: SVM\n"
     ]
    },
    {
     "data": {
      "application/vnd.plotly.v1+json": {
       "config": {
        "plotlyServerURL": "https://plot.ly"
       },
       "data": [
        {
         "mode": "markers",
         "name": "Objective Value",
         "type": "scatter",
         "x": [
          0,
          1,
          2,
          3,
          4,
          5,
          6,
          7,
          8,
          9,
          10,
          11,
          12,
          13,
          14,
          15,
          16,
          17,
          18,
          19
         ],
         "y": [
          0.7139550383301312,
          0.6836481745827638,
          0.6787572292246977,
          0.7227547354016921,
          0.6289786678561183,
          0.7248413705283066,
          0.7263154723313419,
          0.7248413705283066,
          0.7156264662907916,
          0.6077846849951797,
          0.7309832436636153,
          0.7349782182086095,
          0.7302377534625302,
          0.7346327236557271,
          0.7261946277159051,
          0.6984289012019277,
          0.725425492288899,
          0.7272585147058321,
          0.7261306644641744,
          0.7248413705283066
         ]
        },
        {
         "mode": "lines",
         "name": "Best Value",
         "type": "scatter",
         "x": [
          0,
          1,
          2,
          3,
          4,
          5,
          6,
          7,
          8,
          9,
          10,
          11,
          12,
          13,
          14,
          15,
          16,
          17,
          18,
          19
         ],
         "y": [
          0.7139550383301312,
          0.7139550383301312,
          0.7139550383301312,
          0.7227547354016921,
          0.7227547354016921,
          0.7248413705283066,
          0.7263154723313419,
          0.7263154723313419,
          0.7263154723313419,
          0.7263154723313419,
          0.7309832436636153,
          0.7349782182086095,
          0.7349782182086095,
          0.7349782182086095,
          0.7349782182086095,
          0.7349782182086095,
          0.7349782182086095,
          0.7349782182086095,
          0.7349782182086095,
          0.7349782182086095
         ]
        },
        {
         "marker": {
          "color": "#cccccc"
         },
         "mode": "markers",
         "name": "Infeasible Trial",
         "showlegend": false,
         "type": "scatter",
         "x": [],
         "y": []
        }
       ],
       "layout": {
        "template": {
         "data": {
          "bar": [
           {
            "error_x": {
             "color": "#2a3f5f"
            },
            "error_y": {
             "color": "#2a3f5f"
            },
            "marker": {
             "line": {
              "color": "#E5ECF6",
              "width": 0.5
             },
             "pattern": {
              "fillmode": "overlay",
              "size": 10,
              "solidity": 0.2
             }
            },
            "type": "bar"
           }
          ],
          "barpolar": [
           {
            "marker": {
             "line": {
              "color": "#E5ECF6",
              "width": 0.5
             },
             "pattern": {
              "fillmode": "overlay",
              "size": 10,
              "solidity": 0.2
             }
            },
            "type": "barpolar"
           }
          ],
          "carpet": [
           {
            "aaxis": {
             "endlinecolor": "#2a3f5f",
             "gridcolor": "white",
             "linecolor": "white",
             "minorgridcolor": "white",
             "startlinecolor": "#2a3f5f"
            },
            "baxis": {
             "endlinecolor": "#2a3f5f",
             "gridcolor": "white",
             "linecolor": "white",
             "minorgridcolor": "white",
             "startlinecolor": "#2a3f5f"
            },
            "type": "carpet"
           }
          ],
          "choropleth": [
           {
            "colorbar": {
             "outlinewidth": 0,
             "ticks": ""
            },
            "type": "choropleth"
           }
          ],
          "contour": [
           {
            "colorbar": {
             "outlinewidth": 0,
             "ticks": ""
            },
            "colorscale": [
             [
              0,
              "#0d0887"
             ],
             [
              0.1111111111111111,
              "#46039f"
             ],
             [
              0.2222222222222222,
              "#7201a8"
             ],
             [
              0.3333333333333333,
              "#9c179e"
             ],
             [
              0.4444444444444444,
              "#bd3786"
             ],
             [
              0.5555555555555556,
              "#d8576b"
             ],
             [
              0.6666666666666666,
              "#ed7953"
             ],
             [
              0.7777777777777778,
              "#fb9f3a"
             ],
             [
              0.8888888888888888,
              "#fdca26"
             ],
             [
              1,
              "#f0f921"
             ]
            ],
            "type": "contour"
           }
          ],
          "contourcarpet": [
           {
            "colorbar": {
             "outlinewidth": 0,
             "ticks": ""
            },
            "type": "contourcarpet"
           }
          ],
          "heatmap": [
           {
            "colorbar": {
             "outlinewidth": 0,
             "ticks": ""
            },
            "colorscale": [
             [
              0,
              "#0d0887"
             ],
             [
              0.1111111111111111,
              "#46039f"
             ],
             [
              0.2222222222222222,
              "#7201a8"
             ],
             [
              0.3333333333333333,
              "#9c179e"
             ],
             [
              0.4444444444444444,
              "#bd3786"
             ],
             [
              0.5555555555555556,
              "#d8576b"
             ],
             [
              0.6666666666666666,
              "#ed7953"
             ],
             [
              0.7777777777777778,
              "#fb9f3a"
             ],
             [
              0.8888888888888888,
              "#fdca26"
             ],
             [
              1,
              "#f0f921"
             ]
            ],
            "type": "heatmap"
           }
          ],
          "heatmapgl": [
           {
            "colorbar": {
             "outlinewidth": 0,
             "ticks": ""
            },
            "colorscale": [
             [
              0,
              "#0d0887"
             ],
             [
              0.1111111111111111,
              "#46039f"
             ],
             [
              0.2222222222222222,
              "#7201a8"
             ],
             [
              0.3333333333333333,
              "#9c179e"
             ],
             [
              0.4444444444444444,
              "#bd3786"
             ],
             [
              0.5555555555555556,
              "#d8576b"
             ],
             [
              0.6666666666666666,
              "#ed7953"
             ],
             [
              0.7777777777777778,
              "#fb9f3a"
             ],
             [
              0.8888888888888888,
              "#fdca26"
             ],
             [
              1,
              "#f0f921"
             ]
            ],
            "type": "heatmapgl"
           }
          ],
          "histogram": [
           {
            "marker": {
             "pattern": {
              "fillmode": "overlay",
              "size": 10,
              "solidity": 0.2
             }
            },
            "type": "histogram"
           }
          ],
          "histogram2d": [
           {
            "colorbar": {
             "outlinewidth": 0,
             "ticks": ""
            },
            "colorscale": [
             [
              0,
              "#0d0887"
             ],
             [
              0.1111111111111111,
              "#46039f"
             ],
             [
              0.2222222222222222,
              "#7201a8"
             ],
             [
              0.3333333333333333,
              "#9c179e"
             ],
             [
              0.4444444444444444,
              "#bd3786"
             ],
             [
              0.5555555555555556,
              "#d8576b"
             ],
             [
              0.6666666666666666,
              "#ed7953"
             ],
             [
              0.7777777777777778,
              "#fb9f3a"
             ],
             [
              0.8888888888888888,
              "#fdca26"
             ],
             [
              1,
              "#f0f921"
             ]
            ],
            "type": "histogram2d"
           }
          ],
          "histogram2dcontour": [
           {
            "colorbar": {
             "outlinewidth": 0,
             "ticks": ""
            },
            "colorscale": [
             [
              0,
              "#0d0887"
             ],
             [
              0.1111111111111111,
              "#46039f"
             ],
             [
              0.2222222222222222,
              "#7201a8"
             ],
             [
              0.3333333333333333,
              "#9c179e"
             ],
             [
              0.4444444444444444,
              "#bd3786"
             ],
             [
              0.5555555555555556,
              "#d8576b"
             ],
             [
              0.6666666666666666,
              "#ed7953"
             ],
             [
              0.7777777777777778,
              "#fb9f3a"
             ],
             [
              0.8888888888888888,
              "#fdca26"
             ],
             [
              1,
              "#f0f921"
             ]
            ],
            "type": "histogram2dcontour"
           }
          ],
          "mesh3d": [
           {
            "colorbar": {
             "outlinewidth": 0,
             "ticks": ""
            },
            "type": "mesh3d"
           }
          ],
          "parcoords": [
           {
            "line": {
             "colorbar": {
              "outlinewidth": 0,
              "ticks": ""
             }
            },
            "type": "parcoords"
           }
          ],
          "pie": [
           {
            "automargin": true,
            "type": "pie"
           }
          ],
          "scatter": [
           {
            "fillpattern": {
             "fillmode": "overlay",
             "size": 10,
             "solidity": 0.2
            },
            "type": "scatter"
           }
          ],
          "scatter3d": [
           {
            "line": {
             "colorbar": {
              "outlinewidth": 0,
              "ticks": ""
             }
            },
            "marker": {
             "colorbar": {
              "outlinewidth": 0,
              "ticks": ""
             }
            },
            "type": "scatter3d"
           }
          ],
          "scattercarpet": [
           {
            "marker": {
             "colorbar": {
              "outlinewidth": 0,
              "ticks": ""
             }
            },
            "type": "scattercarpet"
           }
          ],
          "scattergeo": [
           {
            "marker": {
             "colorbar": {
              "outlinewidth": 0,
              "ticks": ""
             }
            },
            "type": "scattergeo"
           }
          ],
          "scattergl": [
           {
            "marker": {
             "colorbar": {
              "outlinewidth": 0,
              "ticks": ""
             }
            },
            "type": "scattergl"
           }
          ],
          "scattermapbox": [
           {
            "marker": {
             "colorbar": {
              "outlinewidth": 0,
              "ticks": ""
             }
            },
            "type": "scattermapbox"
           }
          ],
          "scatterpolar": [
           {
            "marker": {
             "colorbar": {
              "outlinewidth": 0,
              "ticks": ""
             }
            },
            "type": "scatterpolar"
           }
          ],
          "scatterpolargl": [
           {
            "marker": {
             "colorbar": {
              "outlinewidth": 0,
              "ticks": ""
             }
            },
            "type": "scatterpolargl"
           }
          ],
          "scatterternary": [
           {
            "marker": {
             "colorbar": {
              "outlinewidth": 0,
              "ticks": ""
             }
            },
            "type": "scatterternary"
           }
          ],
          "surface": [
           {
            "colorbar": {
             "outlinewidth": 0,
             "ticks": ""
            },
            "colorscale": [
             [
              0,
              "#0d0887"
             ],
             [
              0.1111111111111111,
              "#46039f"
             ],
             [
              0.2222222222222222,
              "#7201a8"
             ],
             [
              0.3333333333333333,
              "#9c179e"
             ],
             [
              0.4444444444444444,
              "#bd3786"
             ],
             [
              0.5555555555555556,
              "#d8576b"
             ],
             [
              0.6666666666666666,
              "#ed7953"
             ],
             [
              0.7777777777777778,
              "#fb9f3a"
             ],
             [
              0.8888888888888888,
              "#fdca26"
             ],
             [
              1,
              "#f0f921"
             ]
            ],
            "type": "surface"
           }
          ],
          "table": [
           {
            "cells": {
             "fill": {
              "color": "#EBF0F8"
             },
             "line": {
              "color": "white"
             }
            },
            "header": {
             "fill": {
              "color": "#C8D4E3"
             },
             "line": {
              "color": "white"
             }
            },
            "type": "table"
           }
          ]
         },
         "layout": {
          "annotationdefaults": {
           "arrowcolor": "#2a3f5f",
           "arrowhead": 0,
           "arrowwidth": 1
          },
          "autotypenumbers": "strict",
          "coloraxis": {
           "colorbar": {
            "outlinewidth": 0,
            "ticks": ""
           }
          },
          "colorscale": {
           "diverging": [
            [
             0,
             "#8e0152"
            ],
            [
             0.1,
             "#c51b7d"
            ],
            [
             0.2,
             "#de77ae"
            ],
            [
             0.3,
             "#f1b6da"
            ],
            [
             0.4,
             "#fde0ef"
            ],
            [
             0.5,
             "#f7f7f7"
            ],
            [
             0.6,
             "#e6f5d0"
            ],
            [
             0.7,
             "#b8e186"
            ],
            [
             0.8,
             "#7fbc41"
            ],
            [
             0.9,
             "#4d9221"
            ],
            [
             1,
             "#276419"
            ]
           ],
           "sequential": [
            [
             0,
             "#0d0887"
            ],
            [
             0.1111111111111111,
             "#46039f"
            ],
            [
             0.2222222222222222,
             "#7201a8"
            ],
            [
             0.3333333333333333,
             "#9c179e"
            ],
            [
             0.4444444444444444,
             "#bd3786"
            ],
            [
             0.5555555555555556,
             "#d8576b"
            ],
            [
             0.6666666666666666,
             "#ed7953"
            ],
            [
             0.7777777777777778,
             "#fb9f3a"
            ],
            [
             0.8888888888888888,
             "#fdca26"
            ],
            [
             1,
             "#f0f921"
            ]
           ],
           "sequentialminus": [
            [
             0,
             "#0d0887"
            ],
            [
             0.1111111111111111,
             "#46039f"
            ],
            [
             0.2222222222222222,
             "#7201a8"
            ],
            [
             0.3333333333333333,
             "#9c179e"
            ],
            [
             0.4444444444444444,
             "#bd3786"
            ],
            [
             0.5555555555555556,
             "#d8576b"
            ],
            [
             0.6666666666666666,
             "#ed7953"
            ],
            [
             0.7777777777777778,
             "#fb9f3a"
            ],
            [
             0.8888888888888888,
             "#fdca26"
            ],
            [
             1,
             "#f0f921"
            ]
           ]
          },
          "colorway": [
           "#636efa",
           "#EF553B",
           "#00cc96",
           "#ab63fa",
           "#FFA15A",
           "#19d3f3",
           "#FF6692",
           "#B6E880",
           "#FF97FF",
           "#FECB52"
          ],
          "font": {
           "color": "#2a3f5f"
          },
          "geo": {
           "bgcolor": "white",
           "lakecolor": "white",
           "landcolor": "#E5ECF6",
           "showlakes": true,
           "showland": true,
           "subunitcolor": "white"
          },
          "hoverlabel": {
           "align": "left"
          },
          "hovermode": "closest",
          "mapbox": {
           "style": "light"
          },
          "paper_bgcolor": "white",
          "plot_bgcolor": "#E5ECF6",
          "polar": {
           "angularaxis": {
            "gridcolor": "white",
            "linecolor": "white",
            "ticks": ""
           },
           "bgcolor": "#E5ECF6",
           "radialaxis": {
            "gridcolor": "white",
            "linecolor": "white",
            "ticks": ""
           }
          },
          "scene": {
           "xaxis": {
            "backgroundcolor": "#E5ECF6",
            "gridcolor": "white",
            "gridwidth": 2,
            "linecolor": "white",
            "showbackground": true,
            "ticks": "",
            "zerolinecolor": "white"
           },
           "yaxis": {
            "backgroundcolor": "#E5ECF6",
            "gridcolor": "white",
            "gridwidth": 2,
            "linecolor": "white",
            "showbackground": true,
            "ticks": "",
            "zerolinecolor": "white"
           },
           "zaxis": {
            "backgroundcolor": "#E5ECF6",
            "gridcolor": "white",
            "gridwidth": 2,
            "linecolor": "white",
            "showbackground": true,
            "ticks": "",
            "zerolinecolor": "white"
           }
          },
          "shapedefaults": {
           "line": {
            "color": "#2a3f5f"
           }
          },
          "ternary": {
           "aaxis": {
            "gridcolor": "white",
            "linecolor": "white",
            "ticks": ""
           },
           "baxis": {
            "gridcolor": "white",
            "linecolor": "white",
            "ticks": ""
           },
           "bgcolor": "#E5ECF6",
           "caxis": {
            "gridcolor": "white",
            "linecolor": "white",
            "ticks": ""
           }
          },
          "title": {
           "x": 0.05
          },
          "xaxis": {
           "automargin": true,
           "gridcolor": "white",
           "linecolor": "white",
           "ticks": "",
           "title": {
            "standoff": 15
           },
           "zerolinecolor": "white",
           "zerolinewidth": 2
          },
          "yaxis": {
           "automargin": true,
           "gridcolor": "white",
           "linecolor": "white",
           "ticks": "",
           "title": {
            "standoff": 15
           },
           "zerolinecolor": "white",
           "zerolinewidth": 2
          }
         }
        },
        "title": {
         "text": "Optimization History Plot"
        },
        "xaxis": {
         "title": {
          "text": "Trial"
         }
        },
        "yaxis": {
         "title": {
          "text": "Objective Value"
         }
        }
       }
      }
     },
     "metadata": {},
     "output_type": "display_data"
    },
    {
     "data": {
      "application/vnd.plotly.v1+json": {
       "config": {
        "plotlyServerURL": "https://plot.ly"
       },
       "data": [
        {
         "marker": {
          "color": [
           0,
           1,
           2,
           3,
           4,
           5,
           6,
           7,
           8,
           9,
           10,
           11,
           12,
           13,
           14,
           15,
           16,
           17,
           18,
           19
          ],
          "colorbar": {
           "title": {
            "text": "Trial"
           },
           "x": 1,
           "xpad": 40
          },
          "colorscale": [
           [
            0,
            "rgb(247,251,255)"
           ],
           [
            0.125,
            "rgb(222,235,247)"
           ],
           [
            0.25,
            "rgb(198,219,239)"
           ],
           [
            0.375,
            "rgb(158,202,225)"
           ],
           [
            0.5,
            "rgb(107,174,214)"
           ],
           [
            0.625,
            "rgb(66,146,198)"
           ],
           [
            0.75,
            "rgb(33,113,181)"
           ],
           [
            0.875,
            "rgb(8,81,156)"
           ],
           [
            1,
            "rgb(8,48,107)"
           ]
          ],
          "line": {
           "color": "Grey",
           "width": 0.5
          },
          "showscale": true
         },
         "mode": "markers",
         "name": "Feasible Trial",
         "showlegend": false,
         "type": "scatter",
         "x": [
          0.00022581735186507588,
          0.000401843132785032,
          0.0004076963339483982,
          0.05943055966778331,
          84.31126114204403,
          31.368849257213878,
          0.5536935735746941,
          45.162260675165946,
          0.019903424966489423,
          45.82846025253014,
          0.5057975111536399,
          1.1149710670911543,
          1.1498567834454005,
          2.0978083925662396,
          3.7383852066133736,
          0.010675111229871064,
          4.6130373245538046,
          0.12431294474492405,
          6.146919793998808,
          0.0036662224328420367
         ],
         "xaxis": "x",
         "y": [
          0.7139550383301312,
          0.6836481745827638,
          0.6787572292246977,
          0.7227547354016921,
          0.6289786678561183,
          0.7248413705283066,
          0.7263154723313419,
          0.7248413705283066,
          0.7156264662907916,
          0.6077846849951797,
          0.7309832436636153,
          0.7349782182086095,
          0.7302377534625302,
          0.7346327236557271,
          0.7261946277159051,
          0.6984289012019277,
          0.725425492288899,
          0.7272585147058321,
          0.7261306644641744,
          0.7248413705283066
         ],
         "yaxis": "y"
        },
        {
         "marker": {
          "color": [
           0,
           1,
           2,
           3,
           4,
           5,
           6,
           7,
           8,
           9,
           10,
           11,
           12,
           13,
           14,
           15,
           16,
           17,
           18,
           19
          ],
          "colorbar": {
           "title": {
            "text": "Trial"
           },
           "x": 1,
           "xpad": 40
          },
          "colorscale": [
           [
            0,
            "rgb(247,251,255)"
           ],
           [
            0.125,
            "rgb(222,235,247)"
           ],
           [
            0.25,
            "rgb(198,219,239)"
           ],
           [
            0.375,
            "rgb(158,202,225)"
           ],
           [
            0.5,
            "rgb(107,174,214)"
           ],
           [
            0.625,
            "rgb(66,146,198)"
           ],
           [
            0.75,
            "rgb(33,113,181)"
           ],
           [
            0.875,
            "rgb(8,81,156)"
           ],
           [
            1,
            "rgb(8,48,107)"
           ]
          ],
          "line": {
           "color": "Grey",
           "width": 0.5
          },
          "showscale": false
         },
         "mode": "markers",
         "name": "Feasible Trial",
         "showlegend": false,
         "type": "scatter",
         "x": [
          "sigmoid",
          "rbf",
          "rbf",
          "rbf",
          "sigmoid",
          "linear",
          "rbf",
          "linear",
          "sigmoid",
          "sigmoid",
          "rbf",
          "rbf",
          "rbf",
          "rbf",
          "rbf",
          "rbf",
          "linear",
          "rbf",
          "rbf",
          "linear"
         ],
         "xaxis": "x2",
         "y": [
          0.7139550383301312,
          0.6836481745827638,
          0.6787572292246977,
          0.7227547354016921,
          0.6289786678561183,
          0.7248413705283066,
          0.7263154723313419,
          0.7248413705283066,
          0.7156264662907916,
          0.6077846849951797,
          0.7309832436636153,
          0.7349782182086095,
          0.7302377534625302,
          0.7346327236557271,
          0.7261946277159051,
          0.6984289012019277,
          0.725425492288899,
          0.7272585147058321,
          0.7261306644641744,
          0.7248413705283066
         ],
         "yaxis": "y2"
        }
       ],
       "layout": {
        "template": {
         "data": {
          "bar": [
           {
            "error_x": {
             "color": "#2a3f5f"
            },
            "error_y": {
             "color": "#2a3f5f"
            },
            "marker": {
             "line": {
              "color": "#E5ECF6",
              "width": 0.5
             },
             "pattern": {
              "fillmode": "overlay",
              "size": 10,
              "solidity": 0.2
             }
            },
            "type": "bar"
           }
          ],
          "barpolar": [
           {
            "marker": {
             "line": {
              "color": "#E5ECF6",
              "width": 0.5
             },
             "pattern": {
              "fillmode": "overlay",
              "size": 10,
              "solidity": 0.2
             }
            },
            "type": "barpolar"
           }
          ],
          "carpet": [
           {
            "aaxis": {
             "endlinecolor": "#2a3f5f",
             "gridcolor": "white",
             "linecolor": "white",
             "minorgridcolor": "white",
             "startlinecolor": "#2a3f5f"
            },
            "baxis": {
             "endlinecolor": "#2a3f5f",
             "gridcolor": "white",
             "linecolor": "white",
             "minorgridcolor": "white",
             "startlinecolor": "#2a3f5f"
            },
            "type": "carpet"
           }
          ],
          "choropleth": [
           {
            "colorbar": {
             "outlinewidth": 0,
             "ticks": ""
            },
            "type": "choropleth"
           }
          ],
          "contour": [
           {
            "colorbar": {
             "outlinewidth": 0,
             "ticks": ""
            },
            "colorscale": [
             [
              0,
              "#0d0887"
             ],
             [
              0.1111111111111111,
              "#46039f"
             ],
             [
              0.2222222222222222,
              "#7201a8"
             ],
             [
              0.3333333333333333,
              "#9c179e"
             ],
             [
              0.4444444444444444,
              "#bd3786"
             ],
             [
              0.5555555555555556,
              "#d8576b"
             ],
             [
              0.6666666666666666,
              "#ed7953"
             ],
             [
              0.7777777777777778,
              "#fb9f3a"
             ],
             [
              0.8888888888888888,
              "#fdca26"
             ],
             [
              1,
              "#f0f921"
             ]
            ],
            "type": "contour"
           }
          ],
          "contourcarpet": [
           {
            "colorbar": {
             "outlinewidth": 0,
             "ticks": ""
            },
            "type": "contourcarpet"
           }
          ],
          "heatmap": [
           {
            "colorbar": {
             "outlinewidth": 0,
             "ticks": ""
            },
            "colorscale": [
             [
              0,
              "#0d0887"
             ],
             [
              0.1111111111111111,
              "#46039f"
             ],
             [
              0.2222222222222222,
              "#7201a8"
             ],
             [
              0.3333333333333333,
              "#9c179e"
             ],
             [
              0.4444444444444444,
              "#bd3786"
             ],
             [
              0.5555555555555556,
              "#d8576b"
             ],
             [
              0.6666666666666666,
              "#ed7953"
             ],
             [
              0.7777777777777778,
              "#fb9f3a"
             ],
             [
              0.8888888888888888,
              "#fdca26"
             ],
             [
              1,
              "#f0f921"
             ]
            ],
            "type": "heatmap"
           }
          ],
          "heatmapgl": [
           {
            "colorbar": {
             "outlinewidth": 0,
             "ticks": ""
            },
            "colorscale": [
             [
              0,
              "#0d0887"
             ],
             [
              0.1111111111111111,
              "#46039f"
             ],
             [
              0.2222222222222222,
              "#7201a8"
             ],
             [
              0.3333333333333333,
              "#9c179e"
             ],
             [
              0.4444444444444444,
              "#bd3786"
             ],
             [
              0.5555555555555556,
              "#d8576b"
             ],
             [
              0.6666666666666666,
              "#ed7953"
             ],
             [
              0.7777777777777778,
              "#fb9f3a"
             ],
             [
              0.8888888888888888,
              "#fdca26"
             ],
             [
              1,
              "#f0f921"
             ]
            ],
            "type": "heatmapgl"
           }
          ],
          "histogram": [
           {
            "marker": {
             "pattern": {
              "fillmode": "overlay",
              "size": 10,
              "solidity": 0.2
             }
            },
            "type": "histogram"
           }
          ],
          "histogram2d": [
           {
            "colorbar": {
             "outlinewidth": 0,
             "ticks": ""
            },
            "colorscale": [
             [
              0,
              "#0d0887"
             ],
             [
              0.1111111111111111,
              "#46039f"
             ],
             [
              0.2222222222222222,
              "#7201a8"
             ],
             [
              0.3333333333333333,
              "#9c179e"
             ],
             [
              0.4444444444444444,
              "#bd3786"
             ],
             [
              0.5555555555555556,
              "#d8576b"
             ],
             [
              0.6666666666666666,
              "#ed7953"
             ],
             [
              0.7777777777777778,
              "#fb9f3a"
             ],
             [
              0.8888888888888888,
              "#fdca26"
             ],
             [
              1,
              "#f0f921"
             ]
            ],
            "type": "histogram2d"
           }
          ],
          "histogram2dcontour": [
           {
            "colorbar": {
             "outlinewidth": 0,
             "ticks": ""
            },
            "colorscale": [
             [
              0,
              "#0d0887"
             ],
             [
              0.1111111111111111,
              "#46039f"
             ],
             [
              0.2222222222222222,
              "#7201a8"
             ],
             [
              0.3333333333333333,
              "#9c179e"
             ],
             [
              0.4444444444444444,
              "#bd3786"
             ],
             [
              0.5555555555555556,
              "#d8576b"
             ],
             [
              0.6666666666666666,
              "#ed7953"
             ],
             [
              0.7777777777777778,
              "#fb9f3a"
             ],
             [
              0.8888888888888888,
              "#fdca26"
             ],
             [
              1,
              "#f0f921"
             ]
            ],
            "type": "histogram2dcontour"
           }
          ],
          "mesh3d": [
           {
            "colorbar": {
             "outlinewidth": 0,
             "ticks": ""
            },
            "type": "mesh3d"
           }
          ],
          "parcoords": [
           {
            "line": {
             "colorbar": {
              "outlinewidth": 0,
              "ticks": ""
             }
            },
            "type": "parcoords"
           }
          ],
          "pie": [
           {
            "automargin": true,
            "type": "pie"
           }
          ],
          "scatter": [
           {
            "fillpattern": {
             "fillmode": "overlay",
             "size": 10,
             "solidity": 0.2
            },
            "type": "scatter"
           }
          ],
          "scatter3d": [
           {
            "line": {
             "colorbar": {
              "outlinewidth": 0,
              "ticks": ""
             }
            },
            "marker": {
             "colorbar": {
              "outlinewidth": 0,
              "ticks": ""
             }
            },
            "type": "scatter3d"
           }
          ],
          "scattercarpet": [
           {
            "marker": {
             "colorbar": {
              "outlinewidth": 0,
              "ticks": ""
             }
            },
            "type": "scattercarpet"
           }
          ],
          "scattergeo": [
           {
            "marker": {
             "colorbar": {
              "outlinewidth": 0,
              "ticks": ""
             }
            },
            "type": "scattergeo"
           }
          ],
          "scattergl": [
           {
            "marker": {
             "colorbar": {
              "outlinewidth": 0,
              "ticks": ""
             }
            },
            "type": "scattergl"
           }
          ],
          "scattermapbox": [
           {
            "marker": {
             "colorbar": {
              "outlinewidth": 0,
              "ticks": ""
             }
            },
            "type": "scattermapbox"
           }
          ],
          "scatterpolar": [
           {
            "marker": {
             "colorbar": {
              "outlinewidth": 0,
              "ticks": ""
             }
            },
            "type": "scatterpolar"
           }
          ],
          "scatterpolargl": [
           {
            "marker": {
             "colorbar": {
              "outlinewidth": 0,
              "ticks": ""
             }
            },
            "type": "scatterpolargl"
           }
          ],
          "scatterternary": [
           {
            "marker": {
             "colorbar": {
              "outlinewidth": 0,
              "ticks": ""
             }
            },
            "type": "scatterternary"
           }
          ],
          "surface": [
           {
            "colorbar": {
             "outlinewidth": 0,
             "ticks": ""
            },
            "colorscale": [
             [
              0,
              "#0d0887"
             ],
             [
              0.1111111111111111,
              "#46039f"
             ],
             [
              0.2222222222222222,
              "#7201a8"
             ],
             [
              0.3333333333333333,
              "#9c179e"
             ],
             [
              0.4444444444444444,
              "#bd3786"
             ],
             [
              0.5555555555555556,
              "#d8576b"
             ],
             [
              0.6666666666666666,
              "#ed7953"
             ],
             [
              0.7777777777777778,
              "#fb9f3a"
             ],
             [
              0.8888888888888888,
              "#fdca26"
             ],
             [
              1,
              "#f0f921"
             ]
            ],
            "type": "surface"
           }
          ],
          "table": [
           {
            "cells": {
             "fill": {
              "color": "#EBF0F8"
             },
             "line": {
              "color": "white"
             }
            },
            "header": {
             "fill": {
              "color": "#C8D4E3"
             },
             "line": {
              "color": "white"
             }
            },
            "type": "table"
           }
          ]
         },
         "layout": {
          "annotationdefaults": {
           "arrowcolor": "#2a3f5f",
           "arrowhead": 0,
           "arrowwidth": 1
          },
          "autotypenumbers": "strict",
          "coloraxis": {
           "colorbar": {
            "outlinewidth": 0,
            "ticks": ""
           }
          },
          "colorscale": {
           "diverging": [
            [
             0,
             "#8e0152"
            ],
            [
             0.1,
             "#c51b7d"
            ],
            [
             0.2,
             "#de77ae"
            ],
            [
             0.3,
             "#f1b6da"
            ],
            [
             0.4,
             "#fde0ef"
            ],
            [
             0.5,
             "#f7f7f7"
            ],
            [
             0.6,
             "#e6f5d0"
            ],
            [
             0.7,
             "#b8e186"
            ],
            [
             0.8,
             "#7fbc41"
            ],
            [
             0.9,
             "#4d9221"
            ],
            [
             1,
             "#276419"
            ]
           ],
           "sequential": [
            [
             0,
             "#0d0887"
            ],
            [
             0.1111111111111111,
             "#46039f"
            ],
            [
             0.2222222222222222,
             "#7201a8"
            ],
            [
             0.3333333333333333,
             "#9c179e"
            ],
            [
             0.4444444444444444,
             "#bd3786"
            ],
            [
             0.5555555555555556,
             "#d8576b"
            ],
            [
             0.6666666666666666,
             "#ed7953"
            ],
            [
             0.7777777777777778,
             "#fb9f3a"
            ],
            [
             0.8888888888888888,
             "#fdca26"
            ],
            [
             1,
             "#f0f921"
            ]
           ],
           "sequentialminus": [
            [
             0,
             "#0d0887"
            ],
            [
             0.1111111111111111,
             "#46039f"
            ],
            [
             0.2222222222222222,
             "#7201a8"
            ],
            [
             0.3333333333333333,
             "#9c179e"
            ],
            [
             0.4444444444444444,
             "#bd3786"
            ],
            [
             0.5555555555555556,
             "#d8576b"
            ],
            [
             0.6666666666666666,
             "#ed7953"
            ],
            [
             0.7777777777777778,
             "#fb9f3a"
            ],
            [
             0.8888888888888888,
             "#fdca26"
            ],
            [
             1,
             "#f0f921"
            ]
           ]
          },
          "colorway": [
           "#636efa",
           "#EF553B",
           "#00cc96",
           "#ab63fa",
           "#FFA15A",
           "#19d3f3",
           "#FF6692",
           "#B6E880",
           "#FF97FF",
           "#FECB52"
          ],
          "font": {
           "color": "#2a3f5f"
          },
          "geo": {
           "bgcolor": "white",
           "lakecolor": "white",
           "landcolor": "#E5ECF6",
           "showlakes": true,
           "showland": true,
           "subunitcolor": "white"
          },
          "hoverlabel": {
           "align": "left"
          },
          "hovermode": "closest",
          "mapbox": {
           "style": "light"
          },
          "paper_bgcolor": "white",
          "plot_bgcolor": "#E5ECF6",
          "polar": {
           "angularaxis": {
            "gridcolor": "white",
            "linecolor": "white",
            "ticks": ""
           },
           "bgcolor": "#E5ECF6",
           "radialaxis": {
            "gridcolor": "white",
            "linecolor": "white",
            "ticks": ""
           }
          },
          "scene": {
           "xaxis": {
            "backgroundcolor": "#E5ECF6",
            "gridcolor": "white",
            "gridwidth": 2,
            "linecolor": "white",
            "showbackground": true,
            "ticks": "",
            "zerolinecolor": "white"
           },
           "yaxis": {
            "backgroundcolor": "#E5ECF6",
            "gridcolor": "white",
            "gridwidth": 2,
            "linecolor": "white",
            "showbackground": true,
            "ticks": "",
            "zerolinecolor": "white"
           },
           "zaxis": {
            "backgroundcolor": "#E5ECF6",
            "gridcolor": "white",
            "gridwidth": 2,
            "linecolor": "white",
            "showbackground": true,
            "ticks": "",
            "zerolinecolor": "white"
           }
          },
          "shapedefaults": {
           "line": {
            "color": "#2a3f5f"
           }
          },
          "ternary": {
           "aaxis": {
            "gridcolor": "white",
            "linecolor": "white",
            "ticks": ""
           },
           "baxis": {
            "gridcolor": "white",
            "linecolor": "white",
            "ticks": ""
           },
           "bgcolor": "#E5ECF6",
           "caxis": {
            "gridcolor": "white",
            "linecolor": "white",
            "ticks": ""
           }
          },
          "title": {
           "x": 0.05
          },
          "xaxis": {
           "automargin": true,
           "gridcolor": "white",
           "linecolor": "white",
           "ticks": "",
           "title": {
            "standoff": 15
           },
           "zerolinecolor": "white",
           "zerolinewidth": 2
          },
          "yaxis": {
           "automargin": true,
           "gridcolor": "white",
           "linecolor": "white",
           "ticks": "",
           "title": {
            "standoff": 15
           },
           "zerolinecolor": "white",
           "zerolinewidth": 2
          }
         }
        },
        "title": {
         "text": "Slice Plot"
        },
        "xaxis": {
         "anchor": "y",
         "domain": [
          0,
          0.45
         ],
         "title": {
          "text": "C"
         },
         "type": "log"
        },
        "xaxis2": {
         "anchor": "y2",
         "categoryarray": [
          "linear",
          "rbf",
          "sigmoid"
         ],
         "categoryorder": "array",
         "domain": [
          0.55,
          1
         ],
         "title": {
          "text": "kernel"
         },
         "type": "category"
        },
        "yaxis": {
         "anchor": "x",
         "domain": [
          0,
          1
         ],
         "title": {
          "text": "Objective Value"
         }
        },
        "yaxis2": {
         "anchor": "x2",
         "domain": [
          0,
          1
         ],
         "matches": "y",
         "showticklabels": false
        }
       }
      }
     },
     "metadata": {},
     "output_type": "display_data"
    },
    {
     "data": {
      "application/vnd.plotly.v1+json": {
       "config": {
        "plotlyServerURL": "https://plot.ly"
       },
       "data": [
        {
         "dimensions": [
          {
           "label": "Objective Value",
           "range": [
            0.6077846849951797,
            0.7349782182086095
           ],
           "values": [
            0.7139550383301312,
            0.6836481745827638,
            0.6787572292246977,
            0.7227547354016921,
            0.6289786678561183,
            0.7248413705283066,
            0.7263154723313419,
            0.7248413705283066,
            0.7156264662907916,
            0.6077846849951797,
            0.7309832436636153,
            0.7349782182086095,
            0.7302377534625302,
            0.7346327236557271,
            0.7261946277159051,
            0.6984289012019277,
            0.725425492288899,
            0.7272585147058321,
            0.7261306644641744,
            0.7248413705283066
           ]
          },
          {
           "label": "C",
           "range": [
            -3.6462426898259377,
            1.9258855856000923
           ],
           "ticktext": [
            "0.000226",
            "0.001",
            "0.01",
            "0.1",
            "1",
            "10",
            "84.3"
           ],
           "tickvals": [
            -3.6462426898259377,
            -3,
            -2,
            -1,
            0,
            1,
            1.9258855856000923
           ],
           "values": [
            -3.6462426898259377,
            -3.39594344905827,
            -3.3896631937554456,
            -1.2259901798968382,
            1.9258855856000923,
            1.4964985872215362,
            -0.2567305170826942,
            1.654775673159412,
            -1.7010721840897614,
            1.6611352660367757,
            -0.29602331199220683,
            0.04726359781853962,
            0.06064375162955909,
            0.321765818532793,
            0.5726840494471117,
            -1.9716275911256496,
            0.6639869685432719,
            -0.9054836457865251,
            0.7886575464133602,
            -2.4357811895578205
           ]
          },
          {
           "label": "kernel",
           "range": [
            0,
            2
           ],
           "ticktext": [
            "sigmoid",
            "rbf",
            "linear"
           ],
           "tickvals": [
            0,
            1,
            2
           ],
           "values": [
            0,
            1,
            1,
            1,
            0,
            2,
            1,
            2,
            0,
            0,
            1,
            1,
            1,
            1,
            1,
            1,
            2,
            1,
            1,
            2
           ]
          }
         ],
         "labelangle": 30,
         "labelside": "bottom",
         "line": {
          "color": [
           0.7139550383301312,
           0.6836481745827638,
           0.6787572292246977,
           0.7227547354016921,
           0.6289786678561183,
           0.7248413705283066,
           0.7263154723313419,
           0.7248413705283066,
           0.7156264662907916,
           0.6077846849951797,
           0.7309832436636153,
           0.7349782182086095,
           0.7302377534625302,
           0.7346327236557271,
           0.7261946277159051,
           0.6984289012019277,
           0.725425492288899,
           0.7272585147058321,
           0.7261306644641744,
           0.7248413705283066
          ],
          "colorbar": {
           "title": {
            "text": "Objective Value"
           }
          },
          "colorscale": [
           [
            0,
            "rgb(247,251,255)"
           ],
           [
            0.125,
            "rgb(222,235,247)"
           ],
           [
            0.25,
            "rgb(198,219,239)"
           ],
           [
            0.375,
            "rgb(158,202,225)"
           ],
           [
            0.5,
            "rgb(107,174,214)"
           ],
           [
            0.625,
            "rgb(66,146,198)"
           ],
           [
            0.75,
            "rgb(33,113,181)"
           ],
           [
            0.875,
            "rgb(8,81,156)"
           ],
           [
            1,
            "rgb(8,48,107)"
           ]
          ],
          "reversescale": false,
          "showscale": true
         },
         "type": "parcoords"
        }
       ],
       "layout": {
        "template": {
         "data": {
          "bar": [
           {
            "error_x": {
             "color": "#2a3f5f"
            },
            "error_y": {
             "color": "#2a3f5f"
            },
            "marker": {
             "line": {
              "color": "#E5ECF6",
              "width": 0.5
             },
             "pattern": {
              "fillmode": "overlay",
              "size": 10,
              "solidity": 0.2
             }
            },
            "type": "bar"
           }
          ],
          "barpolar": [
           {
            "marker": {
             "line": {
              "color": "#E5ECF6",
              "width": 0.5
             },
             "pattern": {
              "fillmode": "overlay",
              "size": 10,
              "solidity": 0.2
             }
            },
            "type": "barpolar"
           }
          ],
          "carpet": [
           {
            "aaxis": {
             "endlinecolor": "#2a3f5f",
             "gridcolor": "white",
             "linecolor": "white",
             "minorgridcolor": "white",
             "startlinecolor": "#2a3f5f"
            },
            "baxis": {
             "endlinecolor": "#2a3f5f",
             "gridcolor": "white",
             "linecolor": "white",
             "minorgridcolor": "white",
             "startlinecolor": "#2a3f5f"
            },
            "type": "carpet"
           }
          ],
          "choropleth": [
           {
            "colorbar": {
             "outlinewidth": 0,
             "ticks": ""
            },
            "type": "choropleth"
           }
          ],
          "contour": [
           {
            "colorbar": {
             "outlinewidth": 0,
             "ticks": ""
            },
            "colorscale": [
             [
              0,
              "#0d0887"
             ],
             [
              0.1111111111111111,
              "#46039f"
             ],
             [
              0.2222222222222222,
              "#7201a8"
             ],
             [
              0.3333333333333333,
              "#9c179e"
             ],
             [
              0.4444444444444444,
              "#bd3786"
             ],
             [
              0.5555555555555556,
              "#d8576b"
             ],
             [
              0.6666666666666666,
              "#ed7953"
             ],
             [
              0.7777777777777778,
              "#fb9f3a"
             ],
             [
              0.8888888888888888,
              "#fdca26"
             ],
             [
              1,
              "#f0f921"
             ]
            ],
            "type": "contour"
           }
          ],
          "contourcarpet": [
           {
            "colorbar": {
             "outlinewidth": 0,
             "ticks": ""
            },
            "type": "contourcarpet"
           }
          ],
          "heatmap": [
           {
            "colorbar": {
             "outlinewidth": 0,
             "ticks": ""
            },
            "colorscale": [
             [
              0,
              "#0d0887"
             ],
             [
              0.1111111111111111,
              "#46039f"
             ],
             [
              0.2222222222222222,
              "#7201a8"
             ],
             [
              0.3333333333333333,
              "#9c179e"
             ],
             [
              0.4444444444444444,
              "#bd3786"
             ],
             [
              0.5555555555555556,
              "#d8576b"
             ],
             [
              0.6666666666666666,
              "#ed7953"
             ],
             [
              0.7777777777777778,
              "#fb9f3a"
             ],
             [
              0.8888888888888888,
              "#fdca26"
             ],
             [
              1,
              "#f0f921"
             ]
            ],
            "type": "heatmap"
           }
          ],
          "heatmapgl": [
           {
            "colorbar": {
             "outlinewidth": 0,
             "ticks": ""
            },
            "colorscale": [
             [
              0,
              "#0d0887"
             ],
             [
              0.1111111111111111,
              "#46039f"
             ],
             [
              0.2222222222222222,
              "#7201a8"
             ],
             [
              0.3333333333333333,
              "#9c179e"
             ],
             [
              0.4444444444444444,
              "#bd3786"
             ],
             [
              0.5555555555555556,
              "#d8576b"
             ],
             [
              0.6666666666666666,
              "#ed7953"
             ],
             [
              0.7777777777777778,
              "#fb9f3a"
             ],
             [
              0.8888888888888888,
              "#fdca26"
             ],
             [
              1,
              "#f0f921"
             ]
            ],
            "type": "heatmapgl"
           }
          ],
          "histogram": [
           {
            "marker": {
             "pattern": {
              "fillmode": "overlay",
              "size": 10,
              "solidity": 0.2
             }
            },
            "type": "histogram"
           }
          ],
          "histogram2d": [
           {
            "colorbar": {
             "outlinewidth": 0,
             "ticks": ""
            },
            "colorscale": [
             [
              0,
              "#0d0887"
             ],
             [
              0.1111111111111111,
              "#46039f"
             ],
             [
              0.2222222222222222,
              "#7201a8"
             ],
             [
              0.3333333333333333,
              "#9c179e"
             ],
             [
              0.4444444444444444,
              "#bd3786"
             ],
             [
              0.5555555555555556,
              "#d8576b"
             ],
             [
              0.6666666666666666,
              "#ed7953"
             ],
             [
              0.7777777777777778,
              "#fb9f3a"
             ],
             [
              0.8888888888888888,
              "#fdca26"
             ],
             [
              1,
              "#f0f921"
             ]
            ],
            "type": "histogram2d"
           }
          ],
          "histogram2dcontour": [
           {
            "colorbar": {
             "outlinewidth": 0,
             "ticks": ""
            },
            "colorscale": [
             [
              0,
              "#0d0887"
             ],
             [
              0.1111111111111111,
              "#46039f"
             ],
             [
              0.2222222222222222,
              "#7201a8"
             ],
             [
              0.3333333333333333,
              "#9c179e"
             ],
             [
              0.4444444444444444,
              "#bd3786"
             ],
             [
              0.5555555555555556,
              "#d8576b"
             ],
             [
              0.6666666666666666,
              "#ed7953"
             ],
             [
              0.7777777777777778,
              "#fb9f3a"
             ],
             [
              0.8888888888888888,
              "#fdca26"
             ],
             [
              1,
              "#f0f921"
             ]
            ],
            "type": "histogram2dcontour"
           }
          ],
          "mesh3d": [
           {
            "colorbar": {
             "outlinewidth": 0,
             "ticks": ""
            },
            "type": "mesh3d"
           }
          ],
          "parcoords": [
           {
            "line": {
             "colorbar": {
              "outlinewidth": 0,
              "ticks": ""
             }
            },
            "type": "parcoords"
           }
          ],
          "pie": [
           {
            "automargin": true,
            "type": "pie"
           }
          ],
          "scatter": [
           {
            "fillpattern": {
             "fillmode": "overlay",
             "size": 10,
             "solidity": 0.2
            },
            "type": "scatter"
           }
          ],
          "scatter3d": [
           {
            "line": {
             "colorbar": {
              "outlinewidth": 0,
              "ticks": ""
             }
            },
            "marker": {
             "colorbar": {
              "outlinewidth": 0,
              "ticks": ""
             }
            },
            "type": "scatter3d"
           }
          ],
          "scattercarpet": [
           {
            "marker": {
             "colorbar": {
              "outlinewidth": 0,
              "ticks": ""
             }
            },
            "type": "scattercarpet"
           }
          ],
          "scattergeo": [
           {
            "marker": {
             "colorbar": {
              "outlinewidth": 0,
              "ticks": ""
             }
            },
            "type": "scattergeo"
           }
          ],
          "scattergl": [
           {
            "marker": {
             "colorbar": {
              "outlinewidth": 0,
              "ticks": ""
             }
            },
            "type": "scattergl"
           }
          ],
          "scattermapbox": [
           {
            "marker": {
             "colorbar": {
              "outlinewidth": 0,
              "ticks": ""
             }
            },
            "type": "scattermapbox"
           }
          ],
          "scatterpolar": [
           {
            "marker": {
             "colorbar": {
              "outlinewidth": 0,
              "ticks": ""
             }
            },
            "type": "scatterpolar"
           }
          ],
          "scatterpolargl": [
           {
            "marker": {
             "colorbar": {
              "outlinewidth": 0,
              "ticks": ""
             }
            },
            "type": "scatterpolargl"
           }
          ],
          "scatterternary": [
           {
            "marker": {
             "colorbar": {
              "outlinewidth": 0,
              "ticks": ""
             }
            },
            "type": "scatterternary"
           }
          ],
          "surface": [
           {
            "colorbar": {
             "outlinewidth": 0,
             "ticks": ""
            },
            "colorscale": [
             [
              0,
              "#0d0887"
             ],
             [
              0.1111111111111111,
              "#46039f"
             ],
             [
              0.2222222222222222,
              "#7201a8"
             ],
             [
              0.3333333333333333,
              "#9c179e"
             ],
             [
              0.4444444444444444,
              "#bd3786"
             ],
             [
              0.5555555555555556,
              "#d8576b"
             ],
             [
              0.6666666666666666,
              "#ed7953"
             ],
             [
              0.7777777777777778,
              "#fb9f3a"
             ],
             [
              0.8888888888888888,
              "#fdca26"
             ],
             [
              1,
              "#f0f921"
             ]
            ],
            "type": "surface"
           }
          ],
          "table": [
           {
            "cells": {
             "fill": {
              "color": "#EBF0F8"
             },
             "line": {
              "color": "white"
             }
            },
            "header": {
             "fill": {
              "color": "#C8D4E3"
             },
             "line": {
              "color": "white"
             }
            },
            "type": "table"
           }
          ]
         },
         "layout": {
          "annotationdefaults": {
           "arrowcolor": "#2a3f5f",
           "arrowhead": 0,
           "arrowwidth": 1
          },
          "autotypenumbers": "strict",
          "coloraxis": {
           "colorbar": {
            "outlinewidth": 0,
            "ticks": ""
           }
          },
          "colorscale": {
           "diverging": [
            [
             0,
             "#8e0152"
            ],
            [
             0.1,
             "#c51b7d"
            ],
            [
             0.2,
             "#de77ae"
            ],
            [
             0.3,
             "#f1b6da"
            ],
            [
             0.4,
             "#fde0ef"
            ],
            [
             0.5,
             "#f7f7f7"
            ],
            [
             0.6,
             "#e6f5d0"
            ],
            [
             0.7,
             "#b8e186"
            ],
            [
             0.8,
             "#7fbc41"
            ],
            [
             0.9,
             "#4d9221"
            ],
            [
             1,
             "#276419"
            ]
           ],
           "sequential": [
            [
             0,
             "#0d0887"
            ],
            [
             0.1111111111111111,
             "#46039f"
            ],
            [
             0.2222222222222222,
             "#7201a8"
            ],
            [
             0.3333333333333333,
             "#9c179e"
            ],
            [
             0.4444444444444444,
             "#bd3786"
            ],
            [
             0.5555555555555556,
             "#d8576b"
            ],
            [
             0.6666666666666666,
             "#ed7953"
            ],
            [
             0.7777777777777778,
             "#fb9f3a"
            ],
            [
             0.8888888888888888,
             "#fdca26"
            ],
            [
             1,
             "#f0f921"
            ]
           ],
           "sequentialminus": [
            [
             0,
             "#0d0887"
            ],
            [
             0.1111111111111111,
             "#46039f"
            ],
            [
             0.2222222222222222,
             "#7201a8"
            ],
            [
             0.3333333333333333,
             "#9c179e"
            ],
            [
             0.4444444444444444,
             "#bd3786"
            ],
            [
             0.5555555555555556,
             "#d8576b"
            ],
            [
             0.6666666666666666,
             "#ed7953"
            ],
            [
             0.7777777777777778,
             "#fb9f3a"
            ],
            [
             0.8888888888888888,
             "#fdca26"
            ],
            [
             1,
             "#f0f921"
            ]
           ]
          },
          "colorway": [
           "#636efa",
           "#EF553B",
           "#00cc96",
           "#ab63fa",
           "#FFA15A",
           "#19d3f3",
           "#FF6692",
           "#B6E880",
           "#FF97FF",
           "#FECB52"
          ],
          "font": {
           "color": "#2a3f5f"
          },
          "geo": {
           "bgcolor": "white",
           "lakecolor": "white",
           "landcolor": "#E5ECF6",
           "showlakes": true,
           "showland": true,
           "subunitcolor": "white"
          },
          "hoverlabel": {
           "align": "left"
          },
          "hovermode": "closest",
          "mapbox": {
           "style": "light"
          },
          "paper_bgcolor": "white",
          "plot_bgcolor": "#E5ECF6",
          "polar": {
           "angularaxis": {
            "gridcolor": "white",
            "linecolor": "white",
            "ticks": ""
           },
           "bgcolor": "#E5ECF6",
           "radialaxis": {
            "gridcolor": "white",
            "linecolor": "white",
            "ticks": ""
           }
          },
          "scene": {
           "xaxis": {
            "backgroundcolor": "#E5ECF6",
            "gridcolor": "white",
            "gridwidth": 2,
            "linecolor": "white",
            "showbackground": true,
            "ticks": "",
            "zerolinecolor": "white"
           },
           "yaxis": {
            "backgroundcolor": "#E5ECF6",
            "gridcolor": "white",
            "gridwidth": 2,
            "linecolor": "white",
            "showbackground": true,
            "ticks": "",
            "zerolinecolor": "white"
           },
           "zaxis": {
            "backgroundcolor": "#E5ECF6",
            "gridcolor": "white",
            "gridwidth": 2,
            "linecolor": "white",
            "showbackground": true,
            "ticks": "",
            "zerolinecolor": "white"
           }
          },
          "shapedefaults": {
           "line": {
            "color": "#2a3f5f"
           }
          },
          "ternary": {
           "aaxis": {
            "gridcolor": "white",
            "linecolor": "white",
            "ticks": ""
           },
           "baxis": {
            "gridcolor": "white",
            "linecolor": "white",
            "ticks": ""
           },
           "bgcolor": "#E5ECF6",
           "caxis": {
            "gridcolor": "white",
            "linecolor": "white",
            "ticks": ""
           }
          },
          "title": {
           "x": 0.05
          },
          "xaxis": {
           "automargin": true,
           "gridcolor": "white",
           "linecolor": "white",
           "ticks": "",
           "title": {
            "standoff": 15
           },
           "zerolinecolor": "white",
           "zerolinewidth": 2
          },
          "yaxis": {
           "automargin": true,
           "gridcolor": "white",
           "linecolor": "white",
           "ticks": "",
           "title": {
            "standoff": 15
           },
           "zerolinecolor": "white",
           "zerolinewidth": 2
          }
         }
        },
        "title": {
         "text": "Parallel Coordinate Plot"
        }
       }
      }
     },
     "metadata": {},
     "output_type": "display_data"
    },
    {
     "data": {
      "application/vnd.plotly.v1+json": {
       "config": {
        "plotlyServerURL": "https://plot.ly"
       },
       "data": [
        {
         "colorbar": {
          "title": {
           "text": "Objective Value"
          }
         },
         "colorscale": [
          [
           0,
           "rgb(247,251,255)"
          ],
          [
           0.125,
           "rgb(222,235,247)"
          ],
          [
           0.25,
           "rgb(198,219,239)"
          ],
          [
           0.375,
           "rgb(158,202,225)"
          ],
          [
           0.5,
           "rgb(107,174,214)"
          ],
          [
           0.625,
           "rgb(66,146,198)"
          ],
          [
           0.75,
           "rgb(33,113,181)"
          ],
          [
           0.875,
           "rgb(8,81,156)"
          ],
          [
           1,
           "rgb(8,48,107)"
          ]
         ],
         "connectgaps": true,
         "contours": {
          "coloring": "heatmap"
         },
         "hoverinfo": "none",
         "line": {
          "smoothing": 1.3
         },
         "reversescale": false,
         "type": "contour",
         "x": [
          0.00011889152464322014,
          0.00022581735186507588,
          0.000401843132785032,
          0.0004076963339483982,
          0.0036662224328420367,
          0.010675111229871064,
          0.019903424966489423,
          0.05943055966778331,
          0.12431294474492405,
          0.5057975111536399,
          0.5536935735746941,
          1.1149710670911543,
          1.1498567834454005,
          2.0978083925662396,
          3.7383852066133736,
          4.6130373245538046,
          6.146919793998808,
          31.368849257213878,
          45.162260675165946,
          45.82846025253014,
          84.31126114204403,
          160.13711474081046
         ],
         "y": [
          "linear",
          "rbf",
          "sigmoid"
         ],
         "z": [
          [
           null,
           null,
           null,
           null,
           0.7248413705283066,
           null,
           null,
           null,
           null,
           null,
           null,
           null,
           null,
           null,
           null,
           0.725425492288899,
           null,
           0.7248413705283066,
           0.7248413705283066,
           null,
           null,
           null
          ],
          [
           null,
           null,
           0.6836481745827638,
           0.6787572292246977,
           null,
           0.6984289012019277,
           null,
           0.7227547354016921,
           0.7272585147058321,
           0.7309832436636153,
           0.7263154723313419,
           0.7349782182086095,
           0.7302377534625302,
           0.7346327236557271,
           0.7261946277159051,
           null,
           0.7261306644641744,
           null,
           null,
           null,
           null,
           null
          ],
          [
           null,
           0.7139550383301312,
           null,
           null,
           null,
           null,
           0.7156264662907916,
           null,
           null,
           null,
           null,
           null,
           null,
           null,
           null,
           null,
           null,
           null,
           null,
           0.6077846849951797,
           0.6289786678561183,
           null
          ]
         ]
        },
        {
         "marker": {
          "color": "black",
          "line": {
           "color": "Gray",
           "width": 2
          }
         },
         "mode": "markers",
         "name": "Feasible Trial",
         "showlegend": false,
         "type": "scatter",
         "x": [
          0.00022581735186507588,
          0.000401843132785032,
          0.0004076963339483982,
          0.05943055966778331,
          84.31126114204403,
          31.368849257213878,
          0.5536935735746941,
          45.162260675165946,
          0.019903424966489423,
          45.82846025253014,
          0.5057975111536399,
          1.1149710670911543,
          1.1498567834454005,
          2.0978083925662396,
          3.7383852066133736,
          0.010675111229871064,
          4.6130373245538046,
          0.12431294474492405,
          6.146919793998808,
          0.0036662224328420367
         ],
         "y": [
          "sigmoid",
          "rbf",
          "rbf",
          "rbf",
          "sigmoid",
          "linear",
          "rbf",
          "linear",
          "sigmoid",
          "sigmoid",
          "rbf",
          "rbf",
          "rbf",
          "rbf",
          "rbf",
          "rbf",
          "linear",
          "rbf",
          "rbf",
          "linear"
         ]
        },
        {
         "marker": {
          "color": "#cccccc",
          "line": {
           "color": "Gray",
           "width": 2
          }
         },
         "mode": "markers",
         "name": "Infeasible Trial",
         "showlegend": false,
         "type": "scatter",
         "x": [],
         "y": []
        }
       ],
       "layout": {
        "template": {
         "data": {
          "bar": [
           {
            "error_x": {
             "color": "#2a3f5f"
            },
            "error_y": {
             "color": "#2a3f5f"
            },
            "marker": {
             "line": {
              "color": "#E5ECF6",
              "width": 0.5
             },
             "pattern": {
              "fillmode": "overlay",
              "size": 10,
              "solidity": 0.2
             }
            },
            "type": "bar"
           }
          ],
          "barpolar": [
           {
            "marker": {
             "line": {
              "color": "#E5ECF6",
              "width": 0.5
             },
             "pattern": {
              "fillmode": "overlay",
              "size": 10,
              "solidity": 0.2
             }
            },
            "type": "barpolar"
           }
          ],
          "carpet": [
           {
            "aaxis": {
             "endlinecolor": "#2a3f5f",
             "gridcolor": "white",
             "linecolor": "white",
             "minorgridcolor": "white",
             "startlinecolor": "#2a3f5f"
            },
            "baxis": {
             "endlinecolor": "#2a3f5f",
             "gridcolor": "white",
             "linecolor": "white",
             "minorgridcolor": "white",
             "startlinecolor": "#2a3f5f"
            },
            "type": "carpet"
           }
          ],
          "choropleth": [
           {
            "colorbar": {
             "outlinewidth": 0,
             "ticks": ""
            },
            "type": "choropleth"
           }
          ],
          "contour": [
           {
            "colorbar": {
             "outlinewidth": 0,
             "ticks": ""
            },
            "colorscale": [
             [
              0,
              "#0d0887"
             ],
             [
              0.1111111111111111,
              "#46039f"
             ],
             [
              0.2222222222222222,
              "#7201a8"
             ],
             [
              0.3333333333333333,
              "#9c179e"
             ],
             [
              0.4444444444444444,
              "#bd3786"
             ],
             [
              0.5555555555555556,
              "#d8576b"
             ],
             [
              0.6666666666666666,
              "#ed7953"
             ],
             [
              0.7777777777777778,
              "#fb9f3a"
             ],
             [
              0.8888888888888888,
              "#fdca26"
             ],
             [
              1,
              "#f0f921"
             ]
            ],
            "type": "contour"
           }
          ],
          "contourcarpet": [
           {
            "colorbar": {
             "outlinewidth": 0,
             "ticks": ""
            },
            "type": "contourcarpet"
           }
          ],
          "heatmap": [
           {
            "colorbar": {
             "outlinewidth": 0,
             "ticks": ""
            },
            "colorscale": [
             [
              0,
              "#0d0887"
             ],
             [
              0.1111111111111111,
              "#46039f"
             ],
             [
              0.2222222222222222,
              "#7201a8"
             ],
             [
              0.3333333333333333,
              "#9c179e"
             ],
             [
              0.4444444444444444,
              "#bd3786"
             ],
             [
              0.5555555555555556,
              "#d8576b"
             ],
             [
              0.6666666666666666,
              "#ed7953"
             ],
             [
              0.7777777777777778,
              "#fb9f3a"
             ],
             [
              0.8888888888888888,
              "#fdca26"
             ],
             [
              1,
              "#f0f921"
             ]
            ],
            "type": "heatmap"
           }
          ],
          "heatmapgl": [
           {
            "colorbar": {
             "outlinewidth": 0,
             "ticks": ""
            },
            "colorscale": [
             [
              0,
              "#0d0887"
             ],
             [
              0.1111111111111111,
              "#46039f"
             ],
             [
              0.2222222222222222,
              "#7201a8"
             ],
             [
              0.3333333333333333,
              "#9c179e"
             ],
             [
              0.4444444444444444,
              "#bd3786"
             ],
             [
              0.5555555555555556,
              "#d8576b"
             ],
             [
              0.6666666666666666,
              "#ed7953"
             ],
             [
              0.7777777777777778,
              "#fb9f3a"
             ],
             [
              0.8888888888888888,
              "#fdca26"
             ],
             [
              1,
              "#f0f921"
             ]
            ],
            "type": "heatmapgl"
           }
          ],
          "histogram": [
           {
            "marker": {
             "pattern": {
              "fillmode": "overlay",
              "size": 10,
              "solidity": 0.2
             }
            },
            "type": "histogram"
           }
          ],
          "histogram2d": [
           {
            "colorbar": {
             "outlinewidth": 0,
             "ticks": ""
            },
            "colorscale": [
             [
              0,
              "#0d0887"
             ],
             [
              0.1111111111111111,
              "#46039f"
             ],
             [
              0.2222222222222222,
              "#7201a8"
             ],
             [
              0.3333333333333333,
              "#9c179e"
             ],
             [
              0.4444444444444444,
              "#bd3786"
             ],
             [
              0.5555555555555556,
              "#d8576b"
             ],
             [
              0.6666666666666666,
              "#ed7953"
             ],
             [
              0.7777777777777778,
              "#fb9f3a"
             ],
             [
              0.8888888888888888,
              "#fdca26"
             ],
             [
              1,
              "#f0f921"
             ]
            ],
            "type": "histogram2d"
           }
          ],
          "histogram2dcontour": [
           {
            "colorbar": {
             "outlinewidth": 0,
             "ticks": ""
            },
            "colorscale": [
             [
              0,
              "#0d0887"
             ],
             [
              0.1111111111111111,
              "#46039f"
             ],
             [
              0.2222222222222222,
              "#7201a8"
             ],
             [
              0.3333333333333333,
              "#9c179e"
             ],
             [
              0.4444444444444444,
              "#bd3786"
             ],
             [
              0.5555555555555556,
              "#d8576b"
             ],
             [
              0.6666666666666666,
              "#ed7953"
             ],
             [
              0.7777777777777778,
              "#fb9f3a"
             ],
             [
              0.8888888888888888,
              "#fdca26"
             ],
             [
              1,
              "#f0f921"
             ]
            ],
            "type": "histogram2dcontour"
           }
          ],
          "mesh3d": [
           {
            "colorbar": {
             "outlinewidth": 0,
             "ticks": ""
            },
            "type": "mesh3d"
           }
          ],
          "parcoords": [
           {
            "line": {
             "colorbar": {
              "outlinewidth": 0,
              "ticks": ""
             }
            },
            "type": "parcoords"
           }
          ],
          "pie": [
           {
            "automargin": true,
            "type": "pie"
           }
          ],
          "scatter": [
           {
            "fillpattern": {
             "fillmode": "overlay",
             "size": 10,
             "solidity": 0.2
            },
            "type": "scatter"
           }
          ],
          "scatter3d": [
           {
            "line": {
             "colorbar": {
              "outlinewidth": 0,
              "ticks": ""
             }
            },
            "marker": {
             "colorbar": {
              "outlinewidth": 0,
              "ticks": ""
             }
            },
            "type": "scatter3d"
           }
          ],
          "scattercarpet": [
           {
            "marker": {
             "colorbar": {
              "outlinewidth": 0,
              "ticks": ""
             }
            },
            "type": "scattercarpet"
           }
          ],
          "scattergeo": [
           {
            "marker": {
             "colorbar": {
              "outlinewidth": 0,
              "ticks": ""
             }
            },
            "type": "scattergeo"
           }
          ],
          "scattergl": [
           {
            "marker": {
             "colorbar": {
              "outlinewidth": 0,
              "ticks": ""
             }
            },
            "type": "scattergl"
           }
          ],
          "scattermapbox": [
           {
            "marker": {
             "colorbar": {
              "outlinewidth": 0,
              "ticks": ""
             }
            },
            "type": "scattermapbox"
           }
          ],
          "scatterpolar": [
           {
            "marker": {
             "colorbar": {
              "outlinewidth": 0,
              "ticks": ""
             }
            },
            "type": "scatterpolar"
           }
          ],
          "scatterpolargl": [
           {
            "marker": {
             "colorbar": {
              "outlinewidth": 0,
              "ticks": ""
             }
            },
            "type": "scatterpolargl"
           }
          ],
          "scatterternary": [
           {
            "marker": {
             "colorbar": {
              "outlinewidth": 0,
              "ticks": ""
             }
            },
            "type": "scatterternary"
           }
          ],
          "surface": [
           {
            "colorbar": {
             "outlinewidth": 0,
             "ticks": ""
            },
            "colorscale": [
             [
              0,
              "#0d0887"
             ],
             [
              0.1111111111111111,
              "#46039f"
             ],
             [
              0.2222222222222222,
              "#7201a8"
             ],
             [
              0.3333333333333333,
              "#9c179e"
             ],
             [
              0.4444444444444444,
              "#bd3786"
             ],
             [
              0.5555555555555556,
              "#d8576b"
             ],
             [
              0.6666666666666666,
              "#ed7953"
             ],
             [
              0.7777777777777778,
              "#fb9f3a"
             ],
             [
              0.8888888888888888,
              "#fdca26"
             ],
             [
              1,
              "#f0f921"
             ]
            ],
            "type": "surface"
           }
          ],
          "table": [
           {
            "cells": {
             "fill": {
              "color": "#EBF0F8"
             },
             "line": {
              "color": "white"
             }
            },
            "header": {
             "fill": {
              "color": "#C8D4E3"
             },
             "line": {
              "color": "white"
             }
            },
            "type": "table"
           }
          ]
         },
         "layout": {
          "annotationdefaults": {
           "arrowcolor": "#2a3f5f",
           "arrowhead": 0,
           "arrowwidth": 1
          },
          "autotypenumbers": "strict",
          "coloraxis": {
           "colorbar": {
            "outlinewidth": 0,
            "ticks": ""
           }
          },
          "colorscale": {
           "diverging": [
            [
             0,
             "#8e0152"
            ],
            [
             0.1,
             "#c51b7d"
            ],
            [
             0.2,
             "#de77ae"
            ],
            [
             0.3,
             "#f1b6da"
            ],
            [
             0.4,
             "#fde0ef"
            ],
            [
             0.5,
             "#f7f7f7"
            ],
            [
             0.6,
             "#e6f5d0"
            ],
            [
             0.7,
             "#b8e186"
            ],
            [
             0.8,
             "#7fbc41"
            ],
            [
             0.9,
             "#4d9221"
            ],
            [
             1,
             "#276419"
            ]
           ],
           "sequential": [
            [
             0,
             "#0d0887"
            ],
            [
             0.1111111111111111,
             "#46039f"
            ],
            [
             0.2222222222222222,
             "#7201a8"
            ],
            [
             0.3333333333333333,
             "#9c179e"
            ],
            [
             0.4444444444444444,
             "#bd3786"
            ],
            [
             0.5555555555555556,
             "#d8576b"
            ],
            [
             0.6666666666666666,
             "#ed7953"
            ],
            [
             0.7777777777777778,
             "#fb9f3a"
            ],
            [
             0.8888888888888888,
             "#fdca26"
            ],
            [
             1,
             "#f0f921"
            ]
           ],
           "sequentialminus": [
            [
             0,
             "#0d0887"
            ],
            [
             0.1111111111111111,
             "#46039f"
            ],
            [
             0.2222222222222222,
             "#7201a8"
            ],
            [
             0.3333333333333333,
             "#9c179e"
            ],
            [
             0.4444444444444444,
             "#bd3786"
            ],
            [
             0.5555555555555556,
             "#d8576b"
            ],
            [
             0.6666666666666666,
             "#ed7953"
            ],
            [
             0.7777777777777778,
             "#fb9f3a"
            ],
            [
             0.8888888888888888,
             "#fdca26"
            ],
            [
             1,
             "#f0f921"
            ]
           ]
          },
          "colorway": [
           "#636efa",
           "#EF553B",
           "#00cc96",
           "#ab63fa",
           "#FFA15A",
           "#19d3f3",
           "#FF6692",
           "#B6E880",
           "#FF97FF",
           "#FECB52"
          ],
          "font": {
           "color": "#2a3f5f"
          },
          "geo": {
           "bgcolor": "white",
           "lakecolor": "white",
           "landcolor": "#E5ECF6",
           "showlakes": true,
           "showland": true,
           "subunitcolor": "white"
          },
          "hoverlabel": {
           "align": "left"
          },
          "hovermode": "closest",
          "mapbox": {
           "style": "light"
          },
          "paper_bgcolor": "white",
          "plot_bgcolor": "#E5ECF6",
          "polar": {
           "angularaxis": {
            "gridcolor": "white",
            "linecolor": "white",
            "ticks": ""
           },
           "bgcolor": "#E5ECF6",
           "radialaxis": {
            "gridcolor": "white",
            "linecolor": "white",
            "ticks": ""
           }
          },
          "scene": {
           "xaxis": {
            "backgroundcolor": "#E5ECF6",
            "gridcolor": "white",
            "gridwidth": 2,
            "linecolor": "white",
            "showbackground": true,
            "ticks": "",
            "zerolinecolor": "white"
           },
           "yaxis": {
            "backgroundcolor": "#E5ECF6",
            "gridcolor": "white",
            "gridwidth": 2,
            "linecolor": "white",
            "showbackground": true,
            "ticks": "",
            "zerolinecolor": "white"
           },
           "zaxis": {
            "backgroundcolor": "#E5ECF6",
            "gridcolor": "white",
            "gridwidth": 2,
            "linecolor": "white",
            "showbackground": true,
            "ticks": "",
            "zerolinecolor": "white"
           }
          },
          "shapedefaults": {
           "line": {
            "color": "#2a3f5f"
           }
          },
          "ternary": {
           "aaxis": {
            "gridcolor": "white",
            "linecolor": "white",
            "ticks": ""
           },
           "baxis": {
            "gridcolor": "white",
            "linecolor": "white",
            "ticks": ""
           },
           "bgcolor": "#E5ECF6",
           "caxis": {
            "gridcolor": "white",
            "linecolor": "white",
            "ticks": ""
           }
          },
          "title": {
           "x": 0.05
          },
          "xaxis": {
           "automargin": true,
           "gridcolor": "white",
           "linecolor": "white",
           "ticks": "",
           "title": {
            "standoff": 15
           },
           "zerolinecolor": "white",
           "zerolinewidth": 2
          },
          "yaxis": {
           "automargin": true,
           "gridcolor": "white",
           "linecolor": "white",
           "ticks": "",
           "title": {
            "standoff": 15
           },
           "zerolinecolor": "white",
           "zerolinewidth": 2
          }
         }
        },
        "title": {
         "text": "Contour Plot"
        },
        "xaxis": {
         "range": [
          -3.9248491035972393,
          2.2044919993713936
         ],
         "title": {
          "text": "C"
         },
         "type": "log"
        },
        "yaxis": {
         "range": [
          -0.1,
          2.1
         ],
         "title": {
          "text": "kernel"
         },
         "type": "category"
        }
       }
      }
     },
     "metadata": {},
     "output_type": "display_data"
    },
    {
     "data": {
      "application/vnd.plotly.v1+json": {
       "config": {
        "plotlyServerURL": "https://plot.ly"
       },
       "data": [
        {
         "cliponaxis": false,
         "hovertemplate": [
          "kernel (CategoricalDistribution): 0.09864608641906364<extra></extra>",
          "C (FloatDistribution): 0.9013539135809364<extra></extra>"
         ],
         "name": "Objective Value",
         "orientation": "h",
         "text": [
          "0.10",
          "0.90"
         ],
         "textposition": "outside",
         "type": "bar",
         "x": [
          0.09864608641906364,
          0.9013539135809364
         ],
         "y": [
          "kernel",
          "C"
         ]
        }
       ],
       "layout": {
        "template": {
         "data": {
          "bar": [
           {
            "error_x": {
             "color": "#2a3f5f"
            },
            "error_y": {
             "color": "#2a3f5f"
            },
            "marker": {
             "line": {
              "color": "#E5ECF6",
              "width": 0.5
             },
             "pattern": {
              "fillmode": "overlay",
              "size": 10,
              "solidity": 0.2
             }
            },
            "type": "bar"
           }
          ],
          "barpolar": [
           {
            "marker": {
             "line": {
              "color": "#E5ECF6",
              "width": 0.5
             },
             "pattern": {
              "fillmode": "overlay",
              "size": 10,
              "solidity": 0.2
             }
            },
            "type": "barpolar"
           }
          ],
          "carpet": [
           {
            "aaxis": {
             "endlinecolor": "#2a3f5f",
             "gridcolor": "white",
             "linecolor": "white",
             "minorgridcolor": "white",
             "startlinecolor": "#2a3f5f"
            },
            "baxis": {
             "endlinecolor": "#2a3f5f",
             "gridcolor": "white",
             "linecolor": "white",
             "minorgridcolor": "white",
             "startlinecolor": "#2a3f5f"
            },
            "type": "carpet"
           }
          ],
          "choropleth": [
           {
            "colorbar": {
             "outlinewidth": 0,
             "ticks": ""
            },
            "type": "choropleth"
           }
          ],
          "contour": [
           {
            "colorbar": {
             "outlinewidth": 0,
             "ticks": ""
            },
            "colorscale": [
             [
              0,
              "#0d0887"
             ],
             [
              0.1111111111111111,
              "#46039f"
             ],
             [
              0.2222222222222222,
              "#7201a8"
             ],
             [
              0.3333333333333333,
              "#9c179e"
             ],
             [
              0.4444444444444444,
              "#bd3786"
             ],
             [
              0.5555555555555556,
              "#d8576b"
             ],
             [
              0.6666666666666666,
              "#ed7953"
             ],
             [
              0.7777777777777778,
              "#fb9f3a"
             ],
             [
              0.8888888888888888,
              "#fdca26"
             ],
             [
              1,
              "#f0f921"
             ]
            ],
            "type": "contour"
           }
          ],
          "contourcarpet": [
           {
            "colorbar": {
             "outlinewidth": 0,
             "ticks": ""
            },
            "type": "contourcarpet"
           }
          ],
          "heatmap": [
           {
            "colorbar": {
             "outlinewidth": 0,
             "ticks": ""
            },
            "colorscale": [
             [
              0,
              "#0d0887"
             ],
             [
              0.1111111111111111,
              "#46039f"
             ],
             [
              0.2222222222222222,
              "#7201a8"
             ],
             [
              0.3333333333333333,
              "#9c179e"
             ],
             [
              0.4444444444444444,
              "#bd3786"
             ],
             [
              0.5555555555555556,
              "#d8576b"
             ],
             [
              0.6666666666666666,
              "#ed7953"
             ],
             [
              0.7777777777777778,
              "#fb9f3a"
             ],
             [
              0.8888888888888888,
              "#fdca26"
             ],
             [
              1,
              "#f0f921"
             ]
            ],
            "type": "heatmap"
           }
          ],
          "heatmapgl": [
           {
            "colorbar": {
             "outlinewidth": 0,
             "ticks": ""
            },
            "colorscale": [
             [
              0,
              "#0d0887"
             ],
             [
              0.1111111111111111,
              "#46039f"
             ],
             [
              0.2222222222222222,
              "#7201a8"
             ],
             [
              0.3333333333333333,
              "#9c179e"
             ],
             [
              0.4444444444444444,
              "#bd3786"
             ],
             [
              0.5555555555555556,
              "#d8576b"
             ],
             [
              0.6666666666666666,
              "#ed7953"
             ],
             [
              0.7777777777777778,
              "#fb9f3a"
             ],
             [
              0.8888888888888888,
              "#fdca26"
             ],
             [
              1,
              "#f0f921"
             ]
            ],
            "type": "heatmapgl"
           }
          ],
          "histogram": [
           {
            "marker": {
             "pattern": {
              "fillmode": "overlay",
              "size": 10,
              "solidity": 0.2
             }
            },
            "type": "histogram"
           }
          ],
          "histogram2d": [
           {
            "colorbar": {
             "outlinewidth": 0,
             "ticks": ""
            },
            "colorscale": [
             [
              0,
              "#0d0887"
             ],
             [
              0.1111111111111111,
              "#46039f"
             ],
             [
              0.2222222222222222,
              "#7201a8"
             ],
             [
              0.3333333333333333,
              "#9c179e"
             ],
             [
              0.4444444444444444,
              "#bd3786"
             ],
             [
              0.5555555555555556,
              "#d8576b"
             ],
             [
              0.6666666666666666,
              "#ed7953"
             ],
             [
              0.7777777777777778,
              "#fb9f3a"
             ],
             [
              0.8888888888888888,
              "#fdca26"
             ],
             [
              1,
              "#f0f921"
             ]
            ],
            "type": "histogram2d"
           }
          ],
          "histogram2dcontour": [
           {
            "colorbar": {
             "outlinewidth": 0,
             "ticks": ""
            },
            "colorscale": [
             [
              0,
              "#0d0887"
             ],
             [
              0.1111111111111111,
              "#46039f"
             ],
             [
              0.2222222222222222,
              "#7201a8"
             ],
             [
              0.3333333333333333,
              "#9c179e"
             ],
             [
              0.4444444444444444,
              "#bd3786"
             ],
             [
              0.5555555555555556,
              "#d8576b"
             ],
             [
              0.6666666666666666,
              "#ed7953"
             ],
             [
              0.7777777777777778,
              "#fb9f3a"
             ],
             [
              0.8888888888888888,
              "#fdca26"
             ],
             [
              1,
              "#f0f921"
             ]
            ],
            "type": "histogram2dcontour"
           }
          ],
          "mesh3d": [
           {
            "colorbar": {
             "outlinewidth": 0,
             "ticks": ""
            },
            "type": "mesh3d"
           }
          ],
          "parcoords": [
           {
            "line": {
             "colorbar": {
              "outlinewidth": 0,
              "ticks": ""
             }
            },
            "type": "parcoords"
           }
          ],
          "pie": [
           {
            "automargin": true,
            "type": "pie"
           }
          ],
          "scatter": [
           {
            "fillpattern": {
             "fillmode": "overlay",
             "size": 10,
             "solidity": 0.2
            },
            "type": "scatter"
           }
          ],
          "scatter3d": [
           {
            "line": {
             "colorbar": {
              "outlinewidth": 0,
              "ticks": ""
             }
            },
            "marker": {
             "colorbar": {
              "outlinewidth": 0,
              "ticks": ""
             }
            },
            "type": "scatter3d"
           }
          ],
          "scattercarpet": [
           {
            "marker": {
             "colorbar": {
              "outlinewidth": 0,
              "ticks": ""
             }
            },
            "type": "scattercarpet"
           }
          ],
          "scattergeo": [
           {
            "marker": {
             "colorbar": {
              "outlinewidth": 0,
              "ticks": ""
             }
            },
            "type": "scattergeo"
           }
          ],
          "scattergl": [
           {
            "marker": {
             "colorbar": {
              "outlinewidth": 0,
              "ticks": ""
             }
            },
            "type": "scattergl"
           }
          ],
          "scattermapbox": [
           {
            "marker": {
             "colorbar": {
              "outlinewidth": 0,
              "ticks": ""
             }
            },
            "type": "scattermapbox"
           }
          ],
          "scatterpolar": [
           {
            "marker": {
             "colorbar": {
              "outlinewidth": 0,
              "ticks": ""
             }
            },
            "type": "scatterpolar"
           }
          ],
          "scatterpolargl": [
           {
            "marker": {
             "colorbar": {
              "outlinewidth": 0,
              "ticks": ""
             }
            },
            "type": "scatterpolargl"
           }
          ],
          "scatterternary": [
           {
            "marker": {
             "colorbar": {
              "outlinewidth": 0,
              "ticks": ""
             }
            },
            "type": "scatterternary"
           }
          ],
          "surface": [
           {
            "colorbar": {
             "outlinewidth": 0,
             "ticks": ""
            },
            "colorscale": [
             [
              0,
              "#0d0887"
             ],
             [
              0.1111111111111111,
              "#46039f"
             ],
             [
              0.2222222222222222,
              "#7201a8"
             ],
             [
              0.3333333333333333,
              "#9c179e"
             ],
             [
              0.4444444444444444,
              "#bd3786"
             ],
             [
              0.5555555555555556,
              "#d8576b"
             ],
             [
              0.6666666666666666,
              "#ed7953"
             ],
             [
              0.7777777777777778,
              "#fb9f3a"
             ],
             [
              0.8888888888888888,
              "#fdca26"
             ],
             [
              1,
              "#f0f921"
             ]
            ],
            "type": "surface"
           }
          ],
          "table": [
           {
            "cells": {
             "fill": {
              "color": "#EBF0F8"
             },
             "line": {
              "color": "white"
             }
            },
            "header": {
             "fill": {
              "color": "#C8D4E3"
             },
             "line": {
              "color": "white"
             }
            },
            "type": "table"
           }
          ]
         },
         "layout": {
          "annotationdefaults": {
           "arrowcolor": "#2a3f5f",
           "arrowhead": 0,
           "arrowwidth": 1
          },
          "autotypenumbers": "strict",
          "coloraxis": {
           "colorbar": {
            "outlinewidth": 0,
            "ticks": ""
           }
          },
          "colorscale": {
           "diverging": [
            [
             0,
             "#8e0152"
            ],
            [
             0.1,
             "#c51b7d"
            ],
            [
             0.2,
             "#de77ae"
            ],
            [
             0.3,
             "#f1b6da"
            ],
            [
             0.4,
             "#fde0ef"
            ],
            [
             0.5,
             "#f7f7f7"
            ],
            [
             0.6,
             "#e6f5d0"
            ],
            [
             0.7,
             "#b8e186"
            ],
            [
             0.8,
             "#7fbc41"
            ],
            [
             0.9,
             "#4d9221"
            ],
            [
             1,
             "#276419"
            ]
           ],
           "sequential": [
            [
             0,
             "#0d0887"
            ],
            [
             0.1111111111111111,
             "#46039f"
            ],
            [
             0.2222222222222222,
             "#7201a8"
            ],
            [
             0.3333333333333333,
             "#9c179e"
            ],
            [
             0.4444444444444444,
             "#bd3786"
            ],
            [
             0.5555555555555556,
             "#d8576b"
            ],
            [
             0.6666666666666666,
             "#ed7953"
            ],
            [
             0.7777777777777778,
             "#fb9f3a"
            ],
            [
             0.8888888888888888,
             "#fdca26"
            ],
            [
             1,
             "#f0f921"
            ]
           ],
           "sequentialminus": [
            [
             0,
             "#0d0887"
            ],
            [
             0.1111111111111111,
             "#46039f"
            ],
            [
             0.2222222222222222,
             "#7201a8"
            ],
            [
             0.3333333333333333,
             "#9c179e"
            ],
            [
             0.4444444444444444,
             "#bd3786"
            ],
            [
             0.5555555555555556,
             "#d8576b"
            ],
            [
             0.6666666666666666,
             "#ed7953"
            ],
            [
             0.7777777777777778,
             "#fb9f3a"
            ],
            [
             0.8888888888888888,
             "#fdca26"
            ],
            [
             1,
             "#f0f921"
            ]
           ]
          },
          "colorway": [
           "#636efa",
           "#EF553B",
           "#00cc96",
           "#ab63fa",
           "#FFA15A",
           "#19d3f3",
           "#FF6692",
           "#B6E880",
           "#FF97FF",
           "#FECB52"
          ],
          "font": {
           "color": "#2a3f5f"
          },
          "geo": {
           "bgcolor": "white",
           "lakecolor": "white",
           "landcolor": "#E5ECF6",
           "showlakes": true,
           "showland": true,
           "subunitcolor": "white"
          },
          "hoverlabel": {
           "align": "left"
          },
          "hovermode": "closest",
          "mapbox": {
           "style": "light"
          },
          "paper_bgcolor": "white",
          "plot_bgcolor": "#E5ECF6",
          "polar": {
           "angularaxis": {
            "gridcolor": "white",
            "linecolor": "white",
            "ticks": ""
           },
           "bgcolor": "#E5ECF6",
           "radialaxis": {
            "gridcolor": "white",
            "linecolor": "white",
            "ticks": ""
           }
          },
          "scene": {
           "xaxis": {
            "backgroundcolor": "#E5ECF6",
            "gridcolor": "white",
            "gridwidth": 2,
            "linecolor": "white",
            "showbackground": true,
            "ticks": "",
            "zerolinecolor": "white"
           },
           "yaxis": {
            "backgroundcolor": "#E5ECF6",
            "gridcolor": "white",
            "gridwidth": 2,
            "linecolor": "white",
            "showbackground": true,
            "ticks": "",
            "zerolinecolor": "white"
           },
           "zaxis": {
            "backgroundcolor": "#E5ECF6",
            "gridcolor": "white",
            "gridwidth": 2,
            "linecolor": "white",
            "showbackground": true,
            "ticks": "",
            "zerolinecolor": "white"
           }
          },
          "shapedefaults": {
           "line": {
            "color": "#2a3f5f"
           }
          },
          "ternary": {
           "aaxis": {
            "gridcolor": "white",
            "linecolor": "white",
            "ticks": ""
           },
           "baxis": {
            "gridcolor": "white",
            "linecolor": "white",
            "ticks": ""
           },
           "bgcolor": "#E5ECF6",
           "caxis": {
            "gridcolor": "white",
            "linecolor": "white",
            "ticks": ""
           }
          },
          "title": {
           "x": 0.05
          },
          "xaxis": {
           "automargin": true,
           "gridcolor": "white",
           "linecolor": "white",
           "ticks": "",
           "title": {
            "standoff": 15
           },
           "zerolinecolor": "white",
           "zerolinewidth": 2
          },
          "yaxis": {
           "automargin": true,
           "gridcolor": "white",
           "linecolor": "white",
           "ticks": "",
           "title": {
            "standoff": 15
           },
           "zerolinecolor": "white",
           "zerolinewidth": 2
          }
         }
        },
        "title": {
         "text": "Hyperparameter Importances"
        },
        "xaxis": {
         "title": {
          "text": "Hyperparameter Importance"
         }
        },
        "yaxis": {
         "title": {
          "text": "Hyperparameter"
         }
        }
       }
      }
     },
     "metadata": {},
     "output_type": "display_data"
    }
   ],
   "source": [
    "# Exibe os melhores resultados e parâmetros para cada modelo\n",
    "for model_name in best_studies:\n",
    "    print(f\"Best F1 for {model_name}: {best_f1[model_name]}\")\n",
    "    print(f\"Best Parameters for {model_name}: {best_params[model_name]}\")\n",
    "\n",
    "    print(f\"Plots for model: {model_name}\")\n",
    "    fig_opt_history = plot_optimization_history(best_studies[model_name])\n",
    "    fig_opt_history.show()\n",
    "\n",
    "    fig_slice = plot_slice(best_studies[model_name])\n",
    "    fig_slice.show()\n",
    "\n",
    "    fig_parallel = plot_parallel_coordinate(best_studies[model_name])\n",
    "    fig_parallel.show()\n",
    "\n",
    "    fig_contour = plot_contour(best_studies[model_name])\n",
    "    fig_contour.show()\n",
    "\n",
    "    fig_param_importances = plot_param_importances(best_studies[model_name])\n",
    "    fig_param_importances.show()"
   ]
  },
  {
   "cell_type": "code",
   "execution_count": 568,
   "metadata": {},
   "outputs": [
    {
     "data": {
      "image/png": "[encoded data removed]",
      "text/plain": [
       "<Figure size 1200x600 with 1 Axes>"
      ]
     },
     "metadata": {},
     "output_type": "display_data"
    },
    {
     "data": {
      "image/png": "[encoded data removed]",
      "text/plain": [
       "<Figure size 1200x600 with 1 Axes>"
      ]
     },
     "metadata": {},
     "output_type": "display_data"
    },
    {
     "data": {
      "image/png": "[encoded data removed]",
      "text/plain": [
       "<Figure size 1200x600 with 1 Axes>"
      ]
     },
     "metadata": {},
     "output_type": "display_data"
    },
    {
     "data": {
      "image/png": "[encoded data removed]",
      "text/plain": [
       "<Figure size 1200x600 with 1 Axes>"
      ]
     },
     "metadata": {},
     "output_type": "display_data"
    }
   ],
   "source": [
    "import matplotlib.pyplot as plt\n",
    "import seaborn as sns\n",
    "\n",
    "# Boxplot de F1\n",
    "plt.figure(figsize=(12, 6))\n",
    "sns.boxplot(data=results_df, x='Model', y='F1 Score', hue='Model', palette='Set3')\n",
    "plt.xticks(rotation=45)\n",
    "plt.show()\n",
    "\n",
    "# Boxplot da precisão\n",
    "plt.figure(figsize=(12, 6))\n",
    "sns.boxplot(data=results_df, x='Model', y='Precision', hue='Model', palette='Set3')\n",
    "plt.xticks(rotation=45)\n",
    "plt.show()\n",
    "\n",
    "# Boxplot do recall\n",
    "plt.figure(figsize=(12, 6))\n",
    "sns.boxplot(data=results_df, x='Model', y='Recall', hue='Model', palette='Set3')\n",
    "plt.xticks(rotation=45)\n",
    "plt.show()\n",
    "\n",
    "# Boxplot da ROC AUC\n",
    "plt.figure(figsize=(12, 6))\n",
    "sns.boxplot(data=results_df, x='Model', y='ROC AUC', hue='Model', palette='Set3')\n",
    "plt.xticks(rotation=45)\n",
    "plt.show()\n"
   ]
  }
 ],
 "metadata": {
  "kernelspec": {
   "display_name": ".venv",
   "language": "python",
   "name": "python3"
  },
  "language_info": {
   "codemirror_mode": {
    "name": "ipython",
    "version": 3
   },
   "file_extension": ".py",
   "mimetype": "text/x-python",
   "name": "python",
   "nbconvert_exporter": "python",
   "pygments_lexer": "ipython3",
   "version": "3.12.6"
  }
 },
 "nbformat": 4,
 "nbformat_minor": 2
}
