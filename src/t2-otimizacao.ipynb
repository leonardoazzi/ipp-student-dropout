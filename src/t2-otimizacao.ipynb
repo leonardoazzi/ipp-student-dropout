{
 "cells": [
  {
   "cell_type": "markdown",
   "metadata": {},
   "source": [
    "# 1. Introdução\n",
    "O notebook abaixo apresenta e implementa o spot-checking de modelos preditivos supervisionados, desenvolvido para primeiro trabalho da disciplina Aprendizado de Máquina da Universidade Federal do Rio Grande do Sul (2024/2).\n",
    "\n",
    "Neste trabalho, buscamos analisar a relação de diversos fatores, como gênero e notas do primeiro semestre, com a taxa de desistência de alunos. No modelo abaixo usamos o dataset carregado nesse notebook, analisamos quais os fatores que de fato influenciam na desistência dos alunos e possibilitamos que inputs personalizados sejam adicionados ao modelo para que seja calculado a probabilidade de um aluno desistir do curso.\n"
   ]
  },
  {
   "cell_type": "markdown",
   "metadata": {},
   "source": [
    "## Setup"
   ]
  },
  {
   "cell_type": "code",
   "execution_count": 90,
   "metadata": {},
   "outputs": [
    {
     "name": "stdout",
     "output_type": "stream",
     "text": [
      "Requirement already satisfied: pandas in c:\\users\\matheus\\source\\repos\\ipp-student-dropout\\.venv\\lib\\site-packages (2.2.3)\n",
      "Requirement already satisfied: plotly in c:\\users\\matheus\\source\\repos\\ipp-student-dropout\\.venv\\lib\\site-packages (5.24.1)\n",
      "Requirement already satisfied: matplotlib in c:\\users\\matheus\\source\\repos\\ipp-student-dropout\\.venv\\lib\\site-packages (3.9.3)\n",
      "Requirement already satisfied: seaborn in c:\\users\\matheus\\source\\repos\\ipp-student-dropout\\.venv\\lib\\site-packages (0.13.2)\n",
      "Requirement already satisfied: scikit-learn in c:\\users\\matheus\\source\\repos\\ipp-student-dropout\\.venv\\lib\\site-packages (1.5.2)\n",
      "Requirement already satisfied: xgboost in c:\\users\\matheus\\source\\repos\\ipp-student-dropout\\.venv\\lib\\site-packages (2.1.3)\n",
      "Requirement already satisfied: optuna in c:\\users\\matheus\\source\\repos\\ipp-student-dropout\\.venv\\lib\\site-packages (4.1.0)\n",
      "Requirement already satisfied: hyperopt in c:\\users\\matheus\\source\\repos\\ipp-student-dropout\\.venv\\lib\\site-packages (0.2.7)\n",
      "Requirement already satisfied: setuptools in c:\\users\\matheus\\source\\repos\\ipp-student-dropout\\.venv\\lib\\site-packages (75.6.0)\n",
      "Requirement already satisfied: nbformat in c:\\users\\matheus\\source\\repos\\ipp-student-dropout\\.venv\\lib\\site-packages (5.10.4)\n",
      "Requirement already satisfied: numpy>=1.26.0 in c:\\users\\matheus\\source\\repos\\ipp-student-dropout\\.venv\\lib\\site-packages (from pandas) (2.1.3)\n",
      "Requirement already satisfied: python-dateutil>=2.8.2 in c:\\users\\matheus\\source\\repos\\ipp-student-dropout\\.venv\\lib\\site-packages (from pandas) (2.9.0.post0)\n",
      "Requirement already satisfied: pytz>=2020.1 in c:\\users\\matheus\\source\\repos\\ipp-student-dropout\\.venv\\lib\\site-packages (from pandas) (2024.2)\n",
      "Requirement already satisfied: tzdata>=2022.7 in c:\\users\\matheus\\source\\repos\\ipp-student-dropout\\.venv\\lib\\site-packages (from pandas) (2024.2)\n",
      "Requirement already satisfied: tenacity>=6.2.0 in c:\\users\\matheus\\source\\repos\\ipp-student-dropout\\.venv\\lib\\site-packages (from plotly) (9.0.0)\n",
      "Requirement already satisfied: packaging in c:\\users\\matheus\\source\\repos\\ipp-student-dropout\\.venv\\lib\\site-packages (from plotly) (24.2)\n",
      "Requirement already satisfied: contourpy>=1.0.1 in c:\\users\\matheus\\source\\repos\\ipp-student-dropout\\.venv\\lib\\site-packages (from matplotlib) (1.3.1)\n",
      "Requirement already satisfied: cycler>=0.10 in c:\\users\\matheus\\source\\repos\\ipp-student-dropout\\.venv\\lib\\site-packages (from matplotlib) (0.12.1)\n",
      "Requirement already satisfied: fonttools>=4.22.0 in c:\\users\\matheus\\source\\repos\\ipp-student-dropout\\.venv\\lib\\site-packages (from matplotlib) (4.55.2)\n",
      "Requirement already satisfied: kiwisolver>=1.3.1 in c:\\users\\matheus\\source\\repos\\ipp-student-dropout\\.venv\\lib\\site-packages (from matplotlib) (1.4.7)\n",
      "Requirement already satisfied: pillow>=8 in c:\\users\\matheus\\source\\repos\\ipp-student-dropout\\.venv\\lib\\site-packages (from matplotlib) (11.0.0)\n",
      "Requirement already satisfied: pyparsing>=2.3.1 in c:\\users\\matheus\\source\\repos\\ipp-student-dropout\\.venv\\lib\\site-packages (from matplotlib) (3.2.0)\n",
      "Requirement already satisfied: scipy>=1.6.0 in c:\\users\\matheus\\source\\repos\\ipp-student-dropout\\.venv\\lib\\site-packages (from scikit-learn) (1.14.1)\n",
      "Requirement already satisfied: joblib>=1.2.0 in c:\\users\\matheus\\source\\repos\\ipp-student-dropout\\.venv\\lib\\site-packages (from scikit-learn) (1.4.2)\n",
      "Requirement already satisfied: threadpoolctl>=3.1.0 in c:\\users\\matheus\\source\\repos\\ipp-student-dropout\\.venv\\lib\\site-packages (from scikit-learn) (3.5.0)\n",
      "Requirement already satisfied: alembic>=1.5.0 in c:\\users\\matheus\\source\\repos\\ipp-student-dropout\\.venv\\lib\\site-packages (from optuna) (1.14.0)\n",
      "Requirement already satisfied: colorlog in c:\\users\\matheus\\source\\repos\\ipp-student-dropout\\.venv\\lib\\site-packages (from optuna) (6.9.0)\n",
      "Requirement already satisfied: sqlalchemy>=1.4.2 in c:\\users\\matheus\\source\\repos\\ipp-student-dropout\\.venv\\lib\\site-packages (from optuna) (2.0.36)\n",
      "Requirement already satisfied: tqdm in c:\\users\\matheus\\source\\repos\\ipp-student-dropout\\.venv\\lib\\site-packages (from optuna) (4.67.1)\n",
      "Requirement already satisfied: PyYAML in c:\\users\\matheus\\source\\repos\\ipp-student-dropout\\.venv\\lib\\site-packages (from optuna) (6.0.2)\n",
      "Requirement already satisfied: six in c:\\users\\matheus\\source\\repos\\ipp-student-dropout\\.venv\\lib\\site-packages (from hyperopt) (1.17.0)\n",
      "Requirement already satisfied: networkx>=2.2 in c:\\users\\matheus\\source\\repos\\ipp-student-dropout\\.venv\\lib\\site-packages (from hyperopt) (3.4.2)\n",
      "Requirement already satisfied: future in c:\\users\\matheus\\source\\repos\\ipp-student-dropout\\.venv\\lib\\site-packages (from hyperopt) (1.0.0)\n",
      "Requirement already satisfied: cloudpickle in c:\\users\\matheus\\source\\repos\\ipp-student-dropout\\.venv\\lib\\site-packages (from hyperopt) (3.1.0)\n",
      "Requirement already satisfied: py4j in c:\\users\\matheus\\source\\repos\\ipp-student-dropout\\.venv\\lib\\site-packages (from hyperopt) (0.10.9.7)\n",
      "Requirement already satisfied: fastjsonschema>=2.15 in c:\\users\\matheus\\source\\repos\\ipp-student-dropout\\.venv\\lib\\site-packages (from nbformat) (2.21.1)\n",
      "Requirement already satisfied: jsonschema>=2.6 in c:\\users\\matheus\\source\\repos\\ipp-student-dropout\\.venv\\lib\\site-packages (from nbformat) (4.23.0)\n",
      "Requirement already satisfied: jupyter-core!=5.0.*,>=4.12 in c:\\users\\matheus\\source\\repos\\ipp-student-dropout\\.venv\\lib\\site-packages (from nbformat) (5.7.2)\n",
      "Requirement already satisfied: traitlets>=5.1 in c:\\users\\matheus\\source\\repos\\ipp-student-dropout\\.venv\\lib\\site-packages (from nbformat) (5.14.3)\n",
      "Requirement already satisfied: Mako in c:\\users\\matheus\\source\\repos\\ipp-student-dropout\\.venv\\lib\\site-packages (from alembic>=1.5.0->optuna) (1.3.7)\n",
      "Requirement already satisfied: typing-extensions>=4 in c:\\users\\matheus\\source\\repos\\ipp-student-dropout\\.venv\\lib\\site-packages (from alembic>=1.5.0->optuna) (4.12.2)\n",
      "Requirement already satisfied: attrs>=22.2.0 in c:\\users\\matheus\\source\\repos\\ipp-student-dropout\\.venv\\lib\\site-packages (from jsonschema>=2.6->nbformat) (24.2.0)\n",
      "Requirement already satisfied: jsonschema-specifications>=2023.03.6 in c:\\users\\matheus\\source\\repos\\ipp-student-dropout\\.venv\\lib\\site-packages (from jsonschema>=2.6->nbformat) (2024.10.1)\n",
      "Requirement already satisfied: referencing>=0.28.4 in c:\\users\\matheus\\source\\repos\\ipp-student-dropout\\.venv\\lib\\site-packages (from jsonschema>=2.6->nbformat) (0.35.1)\n",
      "Requirement already satisfied: rpds-py>=0.7.1 in c:\\users\\matheus\\source\\repos\\ipp-student-dropout\\.venv\\lib\\site-packages (from jsonschema>=2.6->nbformat) (0.22.3)\n",
      "Requirement already satisfied: platformdirs>=2.5 in c:\\users\\matheus\\source\\repos\\ipp-student-dropout\\.venv\\lib\\site-packages (from jupyter-core!=5.0.*,>=4.12->nbformat) (4.3.6)\n",
      "Requirement already satisfied: pywin32>=300 in c:\\users\\matheus\\source\\repos\\ipp-student-dropout\\.venv\\lib\\site-packages (from jupyter-core!=5.0.*,>=4.12->nbformat) (308)\n",
      "Requirement already satisfied: greenlet!=0.4.17 in c:\\users\\matheus\\source\\repos\\ipp-student-dropout\\.venv\\lib\\site-packages (from sqlalchemy>=1.4.2->optuna) (3.1.1)\n",
      "Requirement already satisfied: colorama in c:\\users\\matheus\\source\\repos\\ipp-student-dropout\\.venv\\lib\\site-packages (from colorlog->optuna) (0.4.6)\n",
      "Requirement already satisfied: MarkupSafe>=0.9.2 in c:\\users\\matheus\\source\\repos\\ipp-student-dropout\\.venv\\lib\\site-packages (from Mako->alembic>=1.5.0->optuna) (3.0.2)\n"
     ]
    }
   ],
   "source": [
    "!pip install pandas plotly matplotlib seaborn scikit-learn xgboost optuna hyperopt setuptools nbformat"
   ]
  },
  {
   "cell_type": "code",
   "execution_count": 91,
   "metadata": {},
   "outputs": [],
   "source": [
    "# Módulo para leitura e manipulação dos dados\n",
    "import pandas as pd\n",
    "\n",
    "# Módulo para manipulação de arrays e matrizes\n",
    "import numpy as np\n",
    "\n",
    "# Módulos para visualização de dados e plotagem de gráficos\n",
    "import plotly.express as px\n",
    "import matplotlib.pyplot as plt\n",
    "import seaborn as sns\n",
    "\n",
    "# Módulos específicos da sklearn\n",
    "from sklearn.model_selection import train_test_split, StratifiedKFold, cross_val_score\n",
    "from sklearn.metrics import accuracy_score,f1_score,precision_score,recall_score, roc_auc_score\n",
    "from sklearn.tree import DecisionTreeClassifier\n",
    "from sklearn.ensemble import RandomForestClassifier\n",
    "from sklearn.linear_model import LogisticRegression\n",
    "from sklearn.neighbors import KNeighborsClassifier\n",
    "from sklearn.ensemble import AdaBoostClassifier\n",
    "from sklearn import svm\n",
    "from sklearn.model_selection import GridSearchCV, RandomizedSearchCV\n",
    "from sklearn.ensemble import VotingClassifier\n",
    "from sklearn.preprocessing import StandardScaler, MinMaxScaler\n",
    "from sklearn.feature_selection import SelectKBest, mutual_info_classif\n",
    "\n",
    "# Biblioteca com algoritmos específicos de machine learning\n",
    "from xgboost import XGBClassifier\n",
    "\n",
    "# Módulo para balanceamento de classes\n",
    "from imblearn.over_sampling import SMOTE\n",
    "from imblearn.under_sampling import RandomUnderSampler\n",
    "from imblearn.pipeline import Pipeline\n",
    "\n",
    "import optuna\n",
    "from optuna.visualization import plot_optimization_history, plot_slice, plot_contour, plot_parallel_coordinate, plot_param_importances\n",
    "from hyperopt import fmin, tpe, hp, STATUS_OK, Trials"
   ]
  },
  {
   "cell_type": "markdown",
   "metadata": {},
   "source": [
    "# 1. Carregamento dos dados"
   ]
  },
  {
   "cell_type": "markdown",
   "metadata": {},
   "source": [
    "Dataset pré-processado no notebook [t1-spot-checking.ipynb](./t1-spot-checking.ipynb)\n",
    "\n",
    "---\n",
    "Dataset obtido em https://www.kaggle.com/datasets/thedevastator/higher-education-predictors-of-student-retention/data\n",
    "\n",
    "Original: https://zenodo.org/records/5777340#.Y7FJotJBwUE"
   ]
  },
  {
   "cell_type": "code",
   "execution_count": 92,
   "metadata": {},
   "outputs": [],
   "source": [
    "data = pd.read_csv(\"../data/clean-dataset.csv\")"
   ]
  },
  {
   "cell_type": "code",
   "execution_count": 93,
   "metadata": {},
   "outputs": [],
   "source": [
    "# Separa atributos preditivos e atributo alvo\n",
    "X = data.drop('Target', axis=1)\n",
    "y = data['Target']"
   ]
  },
  {
   "cell_type": "code",
   "execution_count": 94,
   "metadata": {},
   "outputs": [],
   "source": [
    "# Algoritmos selecionados para treinamento\n",
    "dtree = DecisionTreeClassifier(random_state=0)\n",
    "dtree2 = DecisionTreeClassifier(random_state=0, max_depth=10)\n",
    "rfc_gini = RandomForestClassifier(random_state=2)\n",
    "rfc_entropy = RandomForestClassifier(random_state=2, criterion='entropy')\n",
    "lr = LogisticRegression(random_state=42)\n",
    "knn_3 = KNeighborsClassifier(n_neighbors=3)\n",
    "knn_5 = KNeighborsClassifier(n_neighbors=5)\n",
    "abc = AdaBoostClassifier(n_estimators=50,learning_rate=1, random_state=0, algorithm='SAMME')\n",
    "svmachine = svm.SVC(kernel='linear',probability=True)\n",
    "\n",
    "algo_dict = {'Decision Tree': dtree, 'Decision Tree Max depth 5': dtree2, 'Random Forest gini': rfc_gini, 'Random Forest entropy': rfc_entropy, 'Logistic Regression': lr, '3-Nearest Neighbors': knn_3, '5-Nearest Neighbors': knn_5, 'AdaBoost': abc, 'SVM': svmachine}"
   ]
  },
  {
   "cell_type": "code",
   "execution_count": 95,
   "metadata": {},
   "outputs": [],
   "source": [
    "# Referências\n",
    "# https://machinelearningmastery.com/spot-check-machine-learning-algorithms-in-python/\n",
    "# https://scikit-learn.org/stable/modules/generated/sklearn.pipeline.Pipeline.html\n",
    "def make_pipeline(model):\n",
    "    steps = list()\n",
    "\n",
    "    steps.append(('Feature Selection', SelectKBest(k=10, score_func=mutual_info_classif)))\n",
    "    steps.append(('Normalização', StandardScaler()))\n",
    "    steps.append(('Balanceamento da classe minoritária', SMOTE(sampling_strategy='minority')))\n",
    "    steps.append(('Modelo', model))\n",
    "\n",
    "    # Cria a pipeline\n",
    "    pipe = Pipeline(steps=steps)\n",
    "\n",
    "    return pipe"
   ]
  },
  {
   "cell_type": "code",
   "execution_count": 96,
   "metadata": {},
   "outputs": [],
   "source": [
    "# def define_grid_search_params(model_name):\n",
    "#     if model_name == 'Random Forest gini' or model_name == 'Random Forest entropy':\n",
    "#         return {\n",
    "#             'Modelo__n_estimators': [50, 100, 150],\n",
    "#             'Modelo__max_depth': [10, 20, 30]\n",
    "#         }\n",
    "#     elif model_name == 'Decision Tree' or model_name == 'Decision Tree Max depth 5':\n",
    "#         return {\n",
    "#             'Modelo__max_depth': [5, 10, 20, 30]\n",
    "#         }\n",
    "#     elif model_name == 'Logistic Regression':\n",
    "#         return {\n",
    "#             'Modelo__C': [0.01, 0.1, 1, 10, 100]\n",
    "#         }\n",
    "#     elif model_name == '3-Nearest Neighbors' or model_name == '5-Nearest Neighbors':\n",
    "#         return {\n",
    "#             'Modelo__n_neighbors': [3, 5, 7, 10]\n",
    "#         }\n",
    "#     elif model_name == 'AdaBoost':\n",
    "#         return {\n",
    "#             'Modelo__n_estimators': [50, 100, 150],\n",
    "#             'Modelo__learning_rate': [0.01, 0.1, 1]\n",
    "#         }\n",
    "#     elif model_name == 'SVM':\n",
    "#         return {\n",
    "#             'Modelo__C': [0.01, 0.1, 1, 10],\n",
    "#             'Modelo__kernel': ['linear', 'rbf']\n",
    "#         }\n",
    "#     else:\n",
    "#         raise ValueError(f\"Não foi definido parâmetro para o modelo: {model_name}\")"
   ]
  },
  {
   "cell_type": "code",
   "execution_count": 97,
   "metadata": {},
   "outputs": [],
   "source": [
    "# def nested_cv_with_gridsearch(X, y, models, outer_folds=5, inner_folds=3, metric='f1'):\n",
    "#     outer_cv = StratifiedKFold(n_splits=outer_folds, shuffle=True, random_state=42)\n",
    "#     results = []\n",
    "\n",
    "#     for model_name, model in models.items():\n",
    "#         param_grid = define_grid_search_params(model_name)\n",
    "\n",
    "#         for train_idx, test_idx in outer_cv.split(X, y):\n",
    "#             X_train, X_test = X.iloc[train_idx], X.iloc[test_idx]\n",
    "#             y_train, y_test = y.iloc[train_idx], y.iloc[test_idx]\n",
    "\n",
    "#             pipeline = make_pipeline(model)\n",
    "\n",
    "#             grid_search = GridSearchCV(\n",
    "#                 estimator=pipeline,\n",
    "#                 param_grid=param_grid,\n",
    "#                 cv=StratifiedKFold(n_splits=inner_folds, shuffle=True, random_state=42),\n",
    "#                 scoring=metric,\n",
    "#                 n_jobs=-1\n",
    "#             )\n",
    "\n",
    "#             grid_search.fit(X_train, y_train)\n",
    "\n",
    "#             best_pipeline = grid_search.best_estimator_\n",
    "#             y_pred = best_pipeline.predict(X_test)\n",
    "\n",
    "#             metrics = {\n",
    "#                 'Model': model_name,\n",
    "#                 'F1 Score': f1_score(y_test, y_pred),\n",
    "#                 'Precision': precision_score(y_test, y_pred),\n",
    "#                 'Recall': recall_score(y_test, y_pred),\n",
    "#                 'ROC AUC': roc_auc_score(y_test, best_pipeline.predict_proba(X_test)[:, 1])\n",
    "#             }\n",
    "#             results.append(metrics)\n",
    "\n",
    "#     return pd.DataFrame(results)"
   ]
  },
  {
   "cell_type": "code",
   "execution_count": 98,
   "metadata": {},
   "outputs": [],
   "source": [
    "# results_df = nested_cv_with_gridsearch(X, y, algo_dict, outer_folds=5, inner_folds=3, metric='f1')\n",
    "# display(results_df)"
   ]
  },
  {
   "cell_type": "code",
   "execution_count": 99,
   "metadata": {},
   "outputs": [],
   "source": [
    "# def define_hyperopt_space(model_name):\n",
    "#     if model_name == 'Random Forest gini' or model_name == 'Random Forest entropy':\n",
    "#         return {\n",
    "#             'n_estimators': hp.quniform('n_estimators', 50, 300, 10),\n",
    "#             'max_depth': hp.quniform('max_depth', 5, 50, 1),\n",
    "#         }\n",
    "#     elif model_name == 'Decision Tree' or model_name == 'Decision Tree Max depth 5':\n",
    "#         return {\n",
    "#             'max_depth': hp.quniform('max_depth', 5, 50, 1),\n",
    "#         }\n",
    "#     elif model_name == 'Logistic Regression':\n",
    "#         return {\n",
    "#             'C': hp.loguniform('C', np.log(1e-4), np.log(1e2)),\n",
    "#         }\n",
    "#     elif model_name == '3-Nearest Neighbors' or model_name == '5-Nearest Neighbors':\n",
    "#         return {\n",
    "#             'n_neighbors': hp.quniform('n_neighbors', 3, 20, 1),\n",
    "#         }\n",
    "#     elif model_name == 'AdaBoost':\n",
    "#         return {\n",
    "#             'n_estimators': hp.quniform('n_estimators', 50, 300, 10),\n",
    "#             'learning_rate': hp.loguniform('learning_rate', np.log(0.01), np.log(2)),\n",
    "#         }\n",
    "#     elif model_name == 'SVM':\n",
    "#         return {\n",
    "#             'C': hp.loguniform('C', np.log(1e-4), np.log(1e2)),\n",
    "#             'kernel': hp.choice('kernel', ['linear', 'rbf']),\n",
    "#         }"
   ]
  },
  {
   "cell_type": "code",
   "execution_count": 100,
   "metadata": {},
   "outputs": [],
   "source": [
    "# def nested_cv_with_hyperopt(X, y, models, outer_folds=5, inner_folds=3, metric='f1'):\n",
    "#     outer_cv = StratifiedKFold(n_splits=outer_folds, shuffle=True, random_state=42)\n",
    "#     results = []\n",
    "\n",
    "#     for model_name, model in models.items():\n",
    "\n",
    "#         # Define objective function for Hyperopt\n",
    "#         def objective(params):\n",
    "#             # If SVM, map the kernel index to string for correct cross-validation\n",
    "#             if 'kernel' in params and model_name == 'SVM':\n",
    "#                 kernel_mapping = ['linear', 'rbf']\n",
    "#                 if isinstance(params['kernel'], int):\n",
    "#                     params['kernel'] = kernel_mapping[params['kernel']]\n",
    "\n",
    "#             pipeline = make_pipeline(model)\n",
    "\n",
    "#             # Convert integer-like floats to int\n",
    "#             final_params = {}\n",
    "#             for k, v in params.items():\n",
    "#                 if isinstance(v, float) and v.is_integer():\n",
    "#                     v = int(v)  # Convert to int if it is a whole number float\n",
    "#                 final_params[f'Modelo__{k}'] = v\n",
    "\n",
    "#             pipeline.set_params(**final_params)\n",
    "\n",
    "#             inner_cv = StratifiedKFold(n_splits=inner_folds, shuffle=True, random_state=42)\n",
    "#             scores = cross_val_score(pipeline, X_train, y_train, cv=inner_cv, scoring=metric, n_jobs=-1)\n",
    "#             return {'loss': -np.mean(scores), 'status': STATUS_OK}\n",
    "\n",
    "#         # Outer loop\n",
    "#         for train_idx, test_idx in outer_cv.split(X, y):\n",
    "#             X_train, X_test = X.iloc[train_idx], X.iloc[test_idx]\n",
    "#             y_train, y_test = y.iloc[train_idx], y.iloc[test_idx]\n",
    "\n",
    "#             search_space = define_hyperopt_space(model_name)\n",
    "#             trials = Trials()\n",
    "\n",
    "#             best_params = fmin(\n",
    "#                 fn=objective,\n",
    "#                 space=search_space,\n",
    "#                 algo=tpe.suggest,\n",
    "#                 max_evals=20,\n",
    "#                 trials=trials,\n",
    "#             )\n",
    "\n",
    "#             # Map SVM kernel back if needed\n",
    "#             if model_name == 'SVM' and 'kernel' in best_params:\n",
    "#                 kernel_mapping = ['linear', 'rbf']\n",
    "#                 best_params['kernel'] = kernel_mapping[best_params['kernel']]\n",
    "\n",
    "#             # Convert parameters and retrain pipeline\n",
    "#             final_params = {}\n",
    "#             for k, v in best_params.items():\n",
    "#                 if isinstance(v, float) and v.is_integer():\n",
    "#                     v = int(v)\n",
    "#                 final_params[f'Modelo__{k}'] = v\n",
    "\n",
    "#             # Train the pipeline with the best parameters\n",
    "#             pipeline = make_pipeline(model)\n",
    "#             pipeline.set_params(**final_params)\n",
    "#             pipeline.fit(X_train, y_train)\n",
    "\n",
    "#             # Evaluate on the test set\n",
    "#             y_pred = pipeline.predict(X_test)\n",
    "#             metrics = {\n",
    "#                 'Model': model_name,\n",
    "#                 'F1 Score': f1_score(y_test, y_pred),\n",
    "#                 'Precision': precision_score(y_test, y_pred),\n",
    "#                 'Recall': recall_score(y_test, y_pred),\n",
    "#                 'ROC AUC': roc_auc_score(y_test, pipeline.predict_proba(X_test)[:, 1])\n",
    "#             }\n",
    "#             results.append(metrics)\n",
    "\n",
    "#     return pd.DataFrame(results)"
   ]
  },
  {
   "cell_type": "code",
   "execution_count": 101,
   "metadata": {},
   "outputs": [],
   "source": [
    "# results_df = nested_cv_with_hyperopt(X, y, algo_dict, outer_folds=5, inner_folds=3, metric='f1')\n",
    "# display(results_df)"
   ]
  },
  {
   "cell_type": "code",
   "execution_count": 102,
   "metadata": {},
   "outputs": [],
   "source": [
    "# def define_optuna_space(model_name, trial):\n",
    "#     if model_name == 'Random Forest gini' or model_name == 'Random Forest entropy':\n",
    "#         return {\n",
    "#             'Modelo__n_estimators': trial.suggest_int('n_estimators', 50, 300),\n",
    "#             'Modelo__max_depth': trial.suggest_int('max_depth', 5, 50)\n",
    "#         }\n",
    "#     elif model_name == 'Decision Tree' or model_name == 'Decision Tree Max depth 5':\n",
    "#         return {\n",
    "#             'Modelo__max_depth': trial.suggest_int('max_depth', 5, 50)\n",
    "#         }\n",
    "#     elif model_name == 'Logistic Regression':\n",
    "#         return {\n",
    "#             'Modelo__C': trial.suggest_float('C', 1e-3, 1e3, log=True)\n",
    "#         }\n",
    "#     elif model_name == '3-Nearest Neighbors' or model_name == '5-Nearest Neighbors':\n",
    "#         return {\n",
    "#             'Modelo__n_neighbors': trial.suggest_int('n_neighbors', 3, 20)\n",
    "#         }\n",
    "#     elif model_name == 'AdaBoost':\n",
    "#         return {\n",
    "#             'Modelo__n_estimators': trial.suggest_int('n_estimators', 50, 500),\n",
    "#             'Modelo__learning_rate': trial.suggest_float('learning_rate', 0.01, 2, log=True)\n",
    "#         }\n",
    "#     elif model_name == 'SVM':\n",
    "#         return {\n",
    "#             'Modelo__C': trial.suggest_float('C', 1e-4, 1e2, log=True),\n",
    "#             'Modelo__kernel': trial.suggest_categorical('kernel', ['linear', 'rbf'])\n",
    "#         }"
   ]
  },
  {
   "cell_type": "code",
   "execution_count": 103,
   "metadata": {},
   "outputs": [],
   "source": [
    "def define_optuna_space(model_name, trial):\n",
    "    \n",
    "    # Define o espaço de busca de hiperparâmetros para cada tipo de modelo\n",
    "    if model_name == 'Logistic Regression':\n",
    "\n",
    "        # Caso a gente queira fazer uma avaliação mais simples:\n",
    "        # # Para regressão logística, ajusta o parâmetro de regularização C\n",
    "        # return {\n",
    "        #     'Modelo__C': trial.suggest_float('C', 1e-3, 1e3, log=True)\n",
    "        # }\n",
    "\n",
    "        # Senão, com mais hiperparâmetros:\n",
    "        solver_penalty_str = trial.suggest_categorical(\n",
    "            'solver_penalty',\n",
    "            ['liblinear_l1', 'liblinear_l2', 'lbfgs_l2']\n",
    "        )\n",
    "\n",
    "        # Quebra as strings de maneira a ter o solver e a penalidade certa\n",
    "        solver, penalty = solver_penalty_str.split('_')\n",
    "\n",
    "        return {\n",
    "            'Modelo__C': trial.suggest_float('C', 1e-3, 1e3, log=True),\n",
    "            'Modelo__solver': solver,\n",
    "            'Modelo__penalty': penalty\n",
    "        }\n",
    "\n",
    "    elif model_name == 'AdaBoost':\n",
    "        # Para AdaBoost, ajusta o número de estimadores e a taxa de aprendizado\n",
    "        return {\n",
    "            'Modelo__n_estimators': trial.suggest_int('n_estimators', 50, 500),\n",
    "            'Modelo__learning_rate': trial.suggest_float('learning_rate', 0.01, 2, log=True)\n",
    "        }\n",
    "    elif model_name == 'SVM':\n",
    "        # Para SVM, ajusta o parâmetro C e o tipo de kernel\n",
    "        return {\n",
    "            'Modelo__C': trial.suggest_float('C', 1e-4, 1e2, log=True),\n",
    "            'Modelo__kernel': trial.suggest_categorical('kernel', ['linear', 'rbf', 'sigmoid'])\n",
    "        }\n",
    "    else:\n",
    "        # Se nenhum hiperparâmetro estiver definido no modelo, retorna um dicionário vazio\n",
    "        return {}"
   ]
  },
  {
   "cell_type": "code",
   "execution_count": 104,
   "metadata": {},
   "outputs": [],
   "source": [
    "def objective_function(trial, model_name, model, X_train, y_train, inner_folds, metric):\n",
    "    # Define o espaço de busca dos hiperparâmetros\n",
    "    params = define_optuna_space(model_name, trial)\n",
    "\n",
    "    # Cria o pipeline com seleção de atributos, normalização, balanceamento e o modelo\n",
    "    pipeline = make_pipeline(model)\n",
    "\n",
    "    # Ajusta o pipeline com os hiperparâmetros sugeridos pelo trial do optuna\n",
    "    pipeline.set_params(**params)\n",
    "\n",
    "    # Define o k-fold interno para validação cruzada\n",
    "    inner_cv = StratifiedKFold(n_splits=inner_folds, shuffle=True, random_state=42)\n",
    "\n",
    "    # Calcula a métrica de avaliação média (por ex. F1) através de validação cruzada\n",
    "    score = cross_val_score(pipeline, X_train, y_train, cv=inner_cv, scoring=metric, n_jobs=-1).mean()\n",
    "    return score\n"
   ]
  },
  {
   "cell_type": "code",
   "execution_count": 105,
   "metadata": {},
   "outputs": [],
   "source": [
    "# Executa o estudo do Optuna para um único fold externo e retorna o melhor estudo\n",
    "def run_optuna_study_for_fold(model_name, model, X_train, y_train, inner_folds, metric, n_trials=20):\n",
    "\n",
    "    # Função objetivo que o Optuna irá otimizar\n",
    "    def objective(trial):\n",
    "        return objective_function(trial, model_name, model, X_train, y_train, inner_folds, metric)\n",
    "\n",
    "    # Cria o estudo do Optuna com objetivo de maximizar a métrica\n",
    "    study = optuna.create_study(direction=\"maximize\")\n",
    "\n",
    "    # Executa o estudo com número definido de tentativas (n_trials)\n",
    "    study.optimize(objective, n_trials=n_trials)\n",
    "    return study"
   ]
  },
  {
   "cell_type": "code",
   "execution_count": 106,
   "metadata": {},
   "outputs": [],
   "source": [
    "# Avalia o modelo com os melhores parâmetros encontrados no conjunto de teste.\n",
    "def evaluate_best_params(model, best_params, X_train, y_train, X_test, y_test):\n",
    "    pipeline = make_pipeline(model)\n",
    "    pipeline.set_params(**best_params) # Ajusta o pipeline com os melhores parâmetros\n",
    "    pipeline.fit(X_train, y_train)\n",
    "    y_pred = pipeline.predict(X_test)\n",
    "\n",
    "    return {\n",
    "        'F1 Score': f1_score(y_test, y_pred),\n",
    "        'Precision': precision_score(y_test, y_pred),\n",
    "        'Recall': recall_score(y_test, y_pred),\n",
    "        'ROC AUC': roc_auc_score(y_test, pipeline.predict_proba(X_test)[:, 1])\n",
    "    }"
   ]
  },
  {
   "cell_type": "code",
   "execution_count": 107,
   "metadata": {},
   "outputs": [],
   "source": [
    "def nested_cv_with_optuna(X, y, models, outer_folds=4, inner_folds=2, metric='f1'):\n",
    "\n",
    "    # Define o k-fold externo para a nested cv\n",
    "    outer_cv = StratifiedKFold(n_splits=outer_folds, shuffle=True, random_state=42)\n",
    "    results = []\n",
    "    best_study_per_model = {}\n",
    "    best_params_per_model = {}\n",
    "    best_f1_per_model = {}\n",
    "    all_fold_params_per_model = {}\n",
    "\n",
    "    # Loop pelos modelos que serão ajustados\n",
    "    for model_name, model in models.items():\n",
    "        # Vamos armazenar o melhor estudo e parâmetros por conveniência, \n",
    "        # mas não iremos basear a escolha dos parâmetros no conjunto de teste.\n",
    "        studies = []\n",
    "        fold_params = []\n",
    "        fold_test_metrics = []\n",
    "\n",
    "        # Loop do k-fold externo\n",
    "        for train_idx, test_idx in outer_cv.split(X, y):\n",
    "            X_train, X_test = X.iloc[train_idx], X.iloc[test_idx]\n",
    "            y_train, y_test = y.iloc[train_idx], y.iloc[test_idx]\n",
    "\n",
    "            # Executa o estudo do Optuna para o fold atual\n",
    "            study = run_optuna_study_for_fold(model_name, model, X_train, y_train, inner_folds, metric, n_trials=20)\n",
    "            studies.append(study)  # Append the study to the list\n",
    "\n",
    "            # Obtém os melhores parâmetros do estudo\n",
    "            fold_best_params = {f'Modelo__{key}': value for key, value in study.best_params.items()}\n",
    "\n",
    "            # Retira os pares de strings solver_penalty, caso presentes\n",
    "            if 'Modelo__solver_penalty' in fold_best_params:\n",
    "                del fold_best_params['Modelo__solver_penalty']\n",
    "\n",
    "            # Avalia no conjunto de teste com os melhores parâmetros\n",
    "            metrics = evaluate_best_params(model, fold_best_params, X_train, y_train, X_test, y_test)\n",
    "            metrics['Model'] = model_name\n",
    "            results.append(metrics)\n",
    "\n",
    "            fold_params.append(fold_best_params)\n",
    "            fold_test_metrics.append(metrics['F1 Score'])\n",
    "\n",
    "        # Aqui, best_study_per_model, best_params_per_model, e best_f1_per_model não usam o conjunto de teste para escolha,\n",
    "        # mas iremos apenas reportar os melhores resultados encontrados internamente.\n",
    "        # Como cada fold externo produz seu próprio conjunto de parâmetros, \n",
    "        # não há um único \"melhor\" conjunto global, pois cada outer fold é independente.\n",
    "        # Podemos, por exemplo, escolher o primeiro estudo ou o estudo com melhor média interna.\n",
    "        best_study_per_model[model_name] = studies[0]\n",
    "        best_params_per_model[model_name] = fold_params[0]  # por exemplo, o primeiro fold\n",
    "        best_f1_per_model[model_name] = sum(fold_test_metrics) / len(fold_test_metrics)\n",
    "\n",
    "        all_fold_params_per_model[model_name] = fold_params\n",
    "\n",
    "    # Retorna os resultados consolidados, o melhor estudo, os melhores parâmetros e a melhor pontuação F1 por modelo\n",
    "    return pd.DataFrame(results), best_study_per_model, best_params_per_model, best_f1_per_model, all_fold_params_per_model"
   ]
  },
  {
   "cell_type": "code",
   "execution_count": 108,
   "metadata": {},
   "outputs": [
    {
     "name": "stderr",
     "output_type": "stream",
     "text": [
      "[I 2024-12-11 09:53:50,249] A new study created in memory with name: no-name-94623e2d-bec0-42cb-bb33-87713121e8fb\n",
      "[I 2024-12-11 09:53:51,819] Trial 0 finished with value: 0.7442516759069039 and parameters: {'solver_penalty': 'lbfgs_l2', 'C': 0.002934262474576823}. Best is trial 0 with value: 0.7442516759069039.\n",
      "[I 2024-12-11 09:53:52,933] Trial 1 finished with value: 0.7441708983579903 and parameters: {'solver_penalty': 'liblinear_l2', 'C': 0.037089418260033764}. Best is trial 0 with value: 0.7442516759069039.\n",
      "[I 2024-12-11 09:53:53,190] Trial 2 finished with value: 0.745767945017119 and parameters: {'solver_penalty': 'liblinear_l2', 'C': 0.22562179842903202}. Best is trial 2 with value: 0.745767945017119.\n",
      "[I 2024-12-11 09:53:53,446] Trial 3 finished with value: 0.7415750276804605 and parameters: {'solver_penalty': 'liblinear_l1', 'C': 342.3584933510227}. Best is trial 2 with value: 0.745767945017119.\n",
      "[I 2024-12-11 09:53:53,697] Trial 4 finished with value: 0.7406566995431885 and parameters: {'solver_penalty': 'lbfgs_l2', 'C': 0.03894442732489986}. Best is trial 2 with value: 0.745767945017119.\n",
      "[I 2024-12-11 09:53:53,943] Trial 5 finished with value: 0.7438085793568552 and parameters: {'solver_penalty': 'liblinear_l2', 'C': 0.04260600647972879}. Best is trial 2 with value: 0.745767945017119.\n",
      "[I 2024-12-11 09:53:54,190] Trial 6 finished with value: 0.7488700164473617 and parameters: {'solver_penalty': 'liblinear_l1', 'C': 0.10257974923461119}. Best is trial 6 with value: 0.7488700164473617.\n",
      "[I 2024-12-11 09:53:54,436] Trial 7 finished with value: 0.7427598569826201 and parameters: {'solver_penalty': 'lbfgs_l2', 'C': 0.004033328436272409}. Best is trial 6 with value: 0.7488700164473617.\n",
      "[I 2024-12-11 09:53:54,683] Trial 8 finished with value: 0.7439029791682086 and parameters: {'solver_penalty': 'lbfgs_l2', 'C': 2.947479135734104}. Best is trial 6 with value: 0.7488700164473617.\n",
      "[I 2024-12-11 09:53:54,940] Trial 9 finished with value: 0.7412614129931239 and parameters: {'solver_penalty': 'lbfgs_l2', 'C': 0.025567899011668033}. Best is trial 6 with value: 0.7488700164473617.\n",
      "[I 2024-12-11 09:53:55,187] Trial 10 finished with value: 0.7415054997125109 and parameters: {'solver_penalty': 'liblinear_l1', 'C': 5.225680353257825}. Best is trial 6 with value: 0.7488700164473617.\n",
      "[I 2024-12-11 09:53:55,436] Trial 11 finished with value: 0.7424285787250486 and parameters: {'solver_penalty': 'liblinear_l2', 'C': 0.3856127334363129}. Best is trial 6 with value: 0.7488700164473617.\n",
      "[I 2024-12-11 09:53:55,683] Trial 12 finished with value: 0.7446738212382237 and parameters: {'solver_penalty': 'liblinear_l1', 'C': 0.49658310044386467}. Best is trial 6 with value: 0.7488700164473617.\n",
      "[I 2024-12-11 09:53:55,930] Trial 13 finished with value: 0.7434240809263948 and parameters: {'solver_penalty': 'liblinear_l1', 'C': 45.461298751692055}. Best is trial 6 with value: 0.7488700164473617.\n",
      "[I 2024-12-11 09:53:56,176] Trial 14 finished with value: 0.7467119340158439 and parameters: {'solver_penalty': 'liblinear_l2', 'C': 0.32902445465914026}. Best is trial 6 with value: 0.7488700164473617.\n",
      "[I 2024-12-11 09:53:56,434] Trial 15 finished with value: 0.7444165097677389 and parameters: {'solver_penalty': 'liblinear_l2', 'C': 12.254510463702813}. Best is trial 6 with value: 0.7488700164473617.\n",
      "[I 2024-12-11 09:53:56,683] Trial 16 finished with value: 0.7410937887582325 and parameters: {'solver_penalty': 'liblinear_l1', 'C': 0.15792343301604156}. Best is trial 6 with value: 0.7488700164473617.\n",
      "[I 2024-12-11 09:53:56,930] Trial 17 finished with value: 0.7447948556268039 and parameters: {'solver_penalty': 'liblinear_l2', 'C': 1.898776488860904}. Best is trial 6 with value: 0.7488700164473617.\n",
      "[I 2024-12-11 09:53:57,241] Trial 18 finished with value: 0.7505180943519919 and parameters: {'solver_penalty': 'liblinear_l1', 'C': 0.008544452911311366}. Best is trial 18 with value: 0.7505180943519919.\n",
      "[I 2024-12-11 09:53:57,552] Trial 19 finished with value: 0.7086483317835106 and parameters: {'solver_penalty': 'liblinear_l1', 'C': 0.001128976712297542}. Best is trial 18 with value: 0.7505180943519919.\n",
      "[I 2024-12-11 09:53:57,728] A new study created in memory with name: no-name-9550c17d-9350-4bc0-9338-a952f0699ed7\n",
      "[I 2024-12-11 09:53:58,037] Trial 0 finished with value: 0.7408681217979424 and parameters: {'solver_penalty': 'liblinear_l2', 'C': 41.445435246435146}. Best is trial 0 with value: 0.7408681217979424.\n",
      "[I 2024-12-11 09:53:58,345] Trial 1 finished with value: 0.7418744948695578 and parameters: {'solver_penalty': 'liblinear_l2', 'C': 39.534308538642705}. Best is trial 1 with value: 0.7418744948695578.\n",
      "[I 2024-12-11 09:53:58,653] Trial 2 finished with value: 0.7403681352722526 and parameters: {'solver_penalty': 'liblinear_l1', 'C': 34.35124258642451}. Best is trial 1 with value: 0.7418744948695578.\n",
      "[I 2024-12-11 09:53:58,962] Trial 3 finished with value: 0.7404464541327724 and parameters: {'solver_penalty': 'lbfgs_l2', 'C': 0.022813339521509747}. Best is trial 1 with value: 0.7418744948695578.\n",
      "[I 2024-12-11 09:53:59,272] Trial 4 finished with value: 0.7403067927669772 and parameters: {'solver_penalty': 'lbfgs_l2', 'C': 0.0028555695754864233}. Best is trial 1 with value: 0.7418744948695578.\n",
      "[I 2024-12-11 09:53:59,580] Trial 5 finished with value: 0.7424289720359444 and parameters: {'solver_penalty': 'lbfgs_l2', 'C': 0.7461423943002168}. Best is trial 5 with value: 0.7424289720359444.\n",
      "[I 2024-12-11 09:53:59,888] Trial 6 finished with value: 0.7404832522281227 and parameters: {'solver_penalty': 'lbfgs_l2', 'C': 70.95569070872375}. Best is trial 5 with value: 0.7424289720359444.\n",
      "[I 2024-12-11 09:54:00,196] Trial 7 finished with value: 0.734896546889862 and parameters: {'solver_penalty': 'liblinear_l1', 'C': 2.127352033526071}. Best is trial 5 with value: 0.7424289720359444.\n",
      "[I 2024-12-11 09:54:00,502] Trial 8 finished with value: 0.7450231862773106 and parameters: {'solver_penalty': 'liblinear_l1', 'C': 0.07431818984260818}. Best is trial 8 with value: 0.7450231862773106.\n",
      "[I 2024-12-11 09:54:00,811] Trial 9 finished with value: 0.7404896845142012 and parameters: {'solver_penalty': 'lbfgs_l2', 'C': 16.452289014630928}. Best is trial 8 with value: 0.7450231862773106.\n",
      "[I 2024-12-11 09:54:01,120] Trial 10 finished with value: 0.7368779483228377 and parameters: {'solver_penalty': 'liblinear_l1', 'C': 0.09081556671803312}. Best is trial 8 with value: 0.7450231862773106.\n",
      "[I 2024-12-11 09:54:01,544] Trial 11 finished with value: 0.7398599176787658 and parameters: {'solver_penalty': 'liblinear_l1', 'C': 0.29332496855169}. Best is trial 8 with value: 0.7450231862773106.\n",
      "[I 2024-12-11 09:54:01,954] Trial 12 finished with value: 0.7388348816788927 and parameters: {'solver_penalty': 'lbfgs_l2', 'C': 1.4102067501487152}. Best is trial 8 with value: 0.7450231862773106.\n",
      "[I 2024-12-11 09:54:02,378] Trial 13 finished with value: 0.7451953371165683 and parameters: {'solver_penalty': 'liblinear_l1', 'C': 0.01301415555805272}. Best is trial 13 with value: 0.7451953371165683.\n",
      "[I 2024-12-11 09:54:02,796] Trial 14 finished with value: 0.7236876341150922 and parameters: {'solver_penalty': 'liblinear_l1', 'C': 0.002426846057661241}. Best is trial 13 with value: 0.7451953371165683.\n",
      "[I 2024-12-11 09:54:03,218] Trial 15 finished with value: 0.7451217814169446 and parameters: {'solver_penalty': 'liblinear_l1', 'C': 0.016987843520561492}. Best is trial 13 with value: 0.7451953371165683.\n",
      "[I 2024-12-11 09:54:03,614] Trial 16 finished with value: 0.7411753640597084 and parameters: {'solver_penalty': 'liblinear_l1', 'C': 0.011465895814757418}. Best is trial 13 with value: 0.7451953371165683.\n",
      "[I 2024-12-11 09:54:04,047] Trial 17 finished with value: 0.744301004355654 and parameters: {'solver_penalty': 'liblinear_l1', 'C': 0.010654488831131676}. Best is trial 13 with value: 0.7451953371165683.\n",
      "[I 2024-12-11 09:54:04,459] Trial 18 finished with value: 0.7433282936640296 and parameters: {'solver_penalty': 'liblinear_l2', 'C': 0.0014241919160034712}. Best is trial 13 with value: 0.7451953371165683.\n",
      "[I 2024-12-11 09:54:04,884] Trial 19 finished with value: 0.7425901181813364 and parameters: {'solver_penalty': 'liblinear_l1', 'C': 550.3401689677939}. Best is trial 13 with value: 0.7451953371165683.\n",
      "[I 2024-12-11 09:54:05,074] A new study created in memory with name: no-name-1d00d96f-8efa-4122-8b02-50a1d1122e9f\n",
      "[I 2024-12-11 09:54:05,482] Trial 0 finished with value: 0.7459235681070215 and parameters: {'solver_penalty': 'lbfgs_l2', 'C': 215.15358624531035}. Best is trial 0 with value: 0.7459235681070215.\n",
      "[I 2024-12-11 09:54:05,919] Trial 1 finished with value: 0.730982297430992 and parameters: {'solver_penalty': 'liblinear_l1', 'C': 0.003948324163225044}. Best is trial 0 with value: 0.7459235681070215.\n",
      "[I 2024-12-11 09:54:06,342] Trial 2 finished with value: 0.739076099101263 and parameters: {'solver_penalty': 'lbfgs_l2', 'C': 0.22421128738924512}. Best is trial 0 with value: 0.7459235681070215.\n",
      "[I 2024-12-11 09:54:06,752] Trial 3 finished with value: 0.7401846784128715 and parameters: {'solver_penalty': 'liblinear_l2', 'C': 0.436450067929967}. Best is trial 0 with value: 0.7459235681070215.\n",
      "[I 2024-12-11 09:54:07,169] Trial 4 finished with value: 0.7416123091318512 and parameters: {'solver_penalty': 'lbfgs_l2', 'C': 17.265451605559644}. Best is trial 0 with value: 0.7459235681070215.\n",
      "[I 2024-12-11 09:54:07,597] Trial 5 finished with value: 0.7430970889907974 and parameters: {'solver_penalty': 'liblinear_l2', 'C': 0.09651069275817374}. Best is trial 0 with value: 0.7459235681070215.\n",
      "[I 2024-12-11 09:54:08,010] Trial 6 finished with value: 0.7424734507555271 and parameters: {'solver_penalty': 'liblinear_l2', 'C': 1.90466470732459}. Best is trial 0 with value: 0.7459235681070215.\n",
      "[I 2024-12-11 09:54:08,431] Trial 7 finished with value: 0.741613951549029 and parameters: {'solver_penalty': 'lbfgs_l2', 'C': 0.02116238413415623}. Best is trial 0 with value: 0.7459235681070215.\n",
      "[I 2024-12-11 09:54:08,830] Trial 8 finished with value: 0.7410681811835605 and parameters: {'solver_penalty': 'liblinear_l2', 'C': 0.011212247142828917}. Best is trial 0 with value: 0.7459235681070215.\n",
      "[I 2024-12-11 09:54:09,255] Trial 9 finished with value: 0.7430082362310075 and parameters: {'solver_penalty': 'liblinear_l2', 'C': 0.8193981383695279}. Best is trial 0 with value: 0.7459235681070215.\n",
      "[I 2024-12-11 09:54:09,675] Trial 10 finished with value: 0.7381657355023512 and parameters: {'solver_penalty': 'liblinear_l1', 'C': 304.93114490219995}. Best is trial 0 with value: 0.7459235681070215.\n",
      "[I 2024-12-11 09:54:10,094] Trial 11 finished with value: 0.7428853440919609 and parameters: {'solver_penalty': 'lbfgs_l2', 'C': 764.6798279442716}. Best is trial 0 with value: 0.7459235681070215.\n",
      "[I 2024-12-11 09:54:10,507] Trial 12 finished with value: 0.7405829363581302 and parameters: {'solver_penalty': 'lbfgs_l2', 'C': 19.599969790650153}. Best is trial 0 with value: 0.7459235681070215.\n",
      "[I 2024-12-11 09:54:10,935] Trial 13 finished with value: 0.7441948164461405 and parameters: {'solver_penalty': 'liblinear_l2', 'C': 0.08934041686298892}. Best is trial 0 with value: 0.7459235681070215.\n",
      "[I 2024-12-11 09:54:11,372] Trial 14 finished with value: 0.7458172172720146 and parameters: {'solver_penalty': 'liblinear_l1', 'C': 13.151916976834423}. Best is trial 0 with value: 0.7459235681070215.\n",
      "[I 2024-12-11 09:54:11,785] Trial 15 finished with value: 0.7423477604575683 and parameters: {'solver_penalty': 'liblinear_l1', 'C': 49.533023631618754}. Best is trial 0 with value: 0.7459235681070215.\n",
      "[I 2024-12-11 09:54:12,207] Trial 16 finished with value: 0.7436489228218601 and parameters: {'solver_penalty': 'liblinear_l1', 'C': 116.36779843616388}. Best is trial 0 with value: 0.7459235681070215.\n",
      "[I 2024-12-11 09:54:12,628] Trial 17 finished with value: 0.7435608169465885 and parameters: {'solver_penalty': 'liblinear_l1', 'C': 3.2036932176855033}. Best is trial 0 with value: 0.7459235681070215.\n",
      "[I 2024-12-11 09:54:13,031] Trial 18 finished with value: 0.736631703664397 and parameters: {'solver_penalty': 'liblinear_l1', 'C': 5.978130230176877}. Best is trial 0 with value: 0.7459235681070215.\n",
      "[I 2024-12-11 09:54:13,452] Trial 19 finished with value: 0.7422501611965518 and parameters: {'solver_penalty': 'lbfgs_l2', 'C': 117.14830086317644}. Best is trial 0 with value: 0.7459235681070215.\n",
      "[I 2024-12-11 09:54:13,632] A new study created in memory with name: no-name-4a6cd6a4-a481-43ba-8265-90286b09a7bb\n",
      "[I 2024-12-11 09:54:14,048] Trial 0 finished with value: 0.7411242250932257 and parameters: {'solver_penalty': 'lbfgs_l2', 'C': 0.012673635310163573}. Best is trial 0 with value: 0.7411242250932257.\n",
      "[I 2024-12-11 09:54:14,462] Trial 1 finished with value: 0.7394331935957248 and parameters: {'solver_penalty': 'liblinear_l2', 'C': 0.020847510104704686}. Best is trial 0 with value: 0.7411242250932257.\n",
      "[I 2024-12-11 09:54:14,888] Trial 2 finished with value: 0.7371558013767496 and parameters: {'solver_penalty': 'liblinear_l1', 'C': 0.4090243533083159}. Best is trial 0 with value: 0.7411242250932257.\n",
      "[I 2024-12-11 09:54:15,300] Trial 3 finished with value: 0.7377932523531775 and parameters: {'solver_penalty': 'lbfgs_l2', 'C': 0.017323327779953022}. Best is trial 0 with value: 0.7411242250932257.\n",
      "[I 2024-12-11 09:54:15,716] Trial 4 finished with value: 0.737014088286181 and parameters: {'solver_penalty': 'liblinear_l2', 'C': 40.02835626874768}. Best is trial 0 with value: 0.7411242250932257.\n",
      "[I 2024-12-11 09:54:16,130] Trial 5 finished with value: 0.7367265288006841 and parameters: {'solver_penalty': 'liblinear_l2', 'C': 90.0229597124542}. Best is trial 0 with value: 0.7411242250932257.\n",
      "[I 2024-12-11 09:54:16,539] Trial 6 finished with value: 0.7358681365123316 and parameters: {'solver_penalty': 'lbfgs_l2', 'C': 0.6891928510340904}. Best is trial 0 with value: 0.7411242250932257.\n",
      "[I 2024-12-11 09:54:16,963] Trial 7 finished with value: 0.7380000845331183 and parameters: {'solver_penalty': 'liblinear_l2', 'C': 0.14013979547689054}. Best is trial 0 with value: 0.7411242250932257.\n",
      "[I 2024-12-11 09:54:17,382] Trial 8 finished with value: 0.7398163946396533 and parameters: {'solver_penalty': 'liblinear_l2', 'C': 32.282858620365246}. Best is trial 0 with value: 0.7411242250932257.\n",
      "[I 2024-12-11 09:54:17,791] Trial 9 finished with value: 0.7403108976872024 and parameters: {'solver_penalty': 'lbfgs_l2', 'C': 0.0018697357821856571}. Best is trial 0 with value: 0.7411242250932257.\n",
      "[I 2024-12-11 09:54:18,223] Trial 10 finished with value: 0.683713146530695 and parameters: {'solver_penalty': 'liblinear_l1', 'C': 0.0010601358362325028}. Best is trial 0 with value: 0.7411242250932257.\n",
      "[I 2024-12-11 09:54:18,642] Trial 11 finished with value: 0.7369528437115636 and parameters: {'solver_penalty': 'lbfgs_l2', 'C': 0.002350738493989261}. Best is trial 0 with value: 0.7411242250932257.\n",
      "[I 2024-12-11 09:54:19,073] Trial 12 finished with value: 0.7406179752980623 and parameters: {'solver_penalty': 'lbfgs_l2', 'C': 0.012043718367026278}. Best is trial 0 with value: 0.7411242250932257.\n",
      "[I 2024-12-11 09:54:19,485] Trial 13 finished with value: 0.737324014202829 and parameters: {'solver_penalty': 'lbfgs_l2', 'C': 0.034008000449072685}. Best is trial 0 with value: 0.7411242250932257.\n",
      "[I 2024-12-11 09:54:19,916] Trial 14 finished with value: 0.7351911642296797 and parameters: {'solver_penalty': 'lbfgs_l2', 'C': 2.6934135854366215}. Best is trial 0 with value: 0.7411242250932257.\n",
      "[I 2024-12-11 09:54:20,331] Trial 15 finished with value: 0.7367427255045065 and parameters: {'solver_penalty': 'lbfgs_l2', 'C': 650.2366569136199}. Best is trial 0 with value: 0.7411242250932257.\n",
      "[I 2024-12-11 09:54:20,741] Trial 16 finished with value: 0.7366348669813545 and parameters: {'solver_penalty': 'lbfgs_l2', 'C': 0.006339945378945538}. Best is trial 0 with value: 0.7411242250932257.\n",
      "[I 2024-12-11 09:54:21,189] Trial 17 finished with value: 0.738619850913425 and parameters: {'solver_penalty': 'liblinear_l1', 'C': 0.11427612042261695}. Best is trial 0 with value: 0.7411242250932257.\n",
      "[I 2024-12-11 09:54:21,621] Trial 18 finished with value: 0.7401160978857146 and parameters: {'solver_penalty': 'lbfgs_l2', 'C': 2.7617445055436116}. Best is trial 0 with value: 0.7411242250932257.\n",
      "[I 2024-12-11 09:54:22,036] Trial 19 finished with value: 0.7341880690888035 and parameters: {'solver_penalty': 'lbfgs_l2', 'C': 0.007174503445076763}. Best is trial 0 with value: 0.7411242250932257.\n",
      "[I 2024-12-11 09:54:22,436] A new study created in memory with name: no-name-f7486eb6-951a-47ed-9648-ae7cd5acbb99\n",
      "[I 2024-12-11 09:54:22,856] Trial 0 finished with value: 0.740910007794547 and parameters: {'solver_penalty': 'liblinear_l2', 'C': 55.64916471579775}. Best is trial 0 with value: 0.740910007794547.\n",
      "[I 2024-12-11 09:54:23,270] Trial 1 finished with value: 0.7413548814602532 and parameters: {'solver_penalty': 'lbfgs_l2', 'C': 7.465963892889453}. Best is trial 1 with value: 0.7413548814602532.\n",
      "[I 2024-12-11 09:54:23,696] Trial 2 finished with value: 0.7424084967718425 and parameters: {'solver_penalty': 'liblinear_l2', 'C': 0.8937969646072673}. Best is trial 2 with value: 0.7424084967718425.\n",
      "[I 2024-12-11 09:54:24,116] Trial 3 finished with value: 0.7403828483214316 and parameters: {'solver_penalty': 'lbfgs_l2', 'C': 42.108851342102874}. Best is trial 2 with value: 0.7424084967718425.\n",
      "[I 2024-12-11 09:54:24,553] Trial 4 finished with value: 0.745717339933258 and parameters: {'solver_penalty': 'liblinear_l2', 'C': 0.029107612962082363}. Best is trial 4 with value: 0.745717339933258.\n",
      "[I 2024-12-11 09:54:24,974] Trial 5 finished with value: 0.7445820468940831 and parameters: {'solver_penalty': 'lbfgs_l2', 'C': 0.19493380179288156}. Best is trial 4 with value: 0.745717339933258.\n",
      "[I 2024-12-11 09:54:25,401] Trial 6 finished with value: 0.7386503529851053 and parameters: {'solver_penalty': 'liblinear_l2', 'C': 13.607488417890217}. Best is trial 4 with value: 0.745717339933258.\n",
      "[I 2024-12-11 09:54:25,840] Trial 7 finished with value: 0.7449628637229428 and parameters: {'solver_penalty': 'liblinear_l1', 'C': 14.547460550554035}. Best is trial 4 with value: 0.745717339933258.\n",
      "[I 2024-12-11 09:54:26,233] Trial 8 finished with value: 0.7386872137975693 and parameters: {'solver_penalty': 'liblinear_l1', 'C': 18.295538131645092}. Best is trial 4 with value: 0.745717339933258.\n",
      "[I 2024-12-11 09:54:26,660] Trial 9 finished with value: 0.7394546645116189 and parameters: {'solver_penalty': 'liblinear_l2', 'C': 0.9126267393436748}. Best is trial 4 with value: 0.745717339933258.\n",
      "[I 2024-12-11 09:54:27,062] Trial 10 finished with value: 0.7362639654434225 and parameters: {'solver_penalty': 'liblinear_l2', 'C': 0.0010801782638317336}. Best is trial 4 with value: 0.745717339933258.\n",
      "[I 2024-12-11 09:54:27,486] Trial 11 finished with value: 0.7397100840381268 and parameters: {'solver_penalty': 'liblinear_l1', 'C': 0.022587453175264283}. Best is trial 4 with value: 0.745717339933258.\n",
      "[I 2024-12-11 09:54:27,921] Trial 12 finished with value: 0.7368633487007916 and parameters: {'solver_penalty': 'liblinear_l1', 'C': 652.3623796139016}. Best is trial 4 with value: 0.745717339933258.\n",
      "[I 2024-12-11 09:54:28,323] Trial 13 finished with value: 0.7403344083999538 and parameters: {'solver_penalty': 'liblinear_l1', 'C': 0.023951340877384035}. Best is trial 4 with value: 0.745717339933258.\n",
      "[I 2024-12-11 09:54:28,765] Trial 14 finished with value: 0.7426530185066742 and parameters: {'solver_penalty': 'liblinear_l1', 'C': 0.033157343849691295}. Best is trial 4 with value: 0.745717339933258.\n",
      "[I 2024-12-11 09:54:29,204] Trial 15 finished with value: 0.7405586741585792 and parameters: {'solver_penalty': 'liblinear_l2', 'C': 0.0011242721852750836}. Best is trial 4 with value: 0.745717339933258.\n",
      "[I 2024-12-11 09:54:29,636] Trial 16 finished with value: 0.7381832775058205 and parameters: {'solver_penalty': 'liblinear_l1', 'C': 512.8669932909708}. Best is trial 4 with value: 0.745717339933258.\n",
      "[I 2024-12-11 09:54:30,060] Trial 17 finished with value: 0.742469907165401 and parameters: {'solver_penalty': 'liblinear_l2', 'C': 0.15218221987319586}. Best is trial 4 with value: 0.745717339933258.\n",
      "[I 2024-12-11 09:54:30,480] Trial 18 finished with value: 0.7324246519179524 and parameters: {'solver_penalty': 'liblinear_l1', 'C': 0.004553118612061042}. Best is trial 4 with value: 0.745717339933258.\n",
      "[I 2024-12-11 09:54:30,884] Trial 19 finished with value: 0.7435928836346387 and parameters: {'solver_penalty': 'lbfgs_l2', 'C': 3.743626581644889}. Best is trial 4 with value: 0.745717339933258.\n",
      "[I 2024-12-11 09:54:31,083] A new study created in memory with name: no-name-dd65417d-7f86-42c0-a572-fb90d798dcf7\n",
      "[I 2024-12-11 09:54:31,509] Trial 0 finished with value: 0.7448309384832759 and parameters: {'solver_penalty': 'liblinear_l2', 'C': 0.019820136367800865}. Best is trial 0 with value: 0.7448309384832759.\n",
      "[I 2024-12-11 09:54:31,925] Trial 1 finished with value: 0.7407352847813168 and parameters: {'solver_penalty': 'liblinear_l2', 'C': 1.3518177315613928}. Best is trial 0 with value: 0.7448309384832759.\n",
      "[I 2024-12-11 09:54:32,353] Trial 2 finished with value: 0.7360625796945025 and parameters: {'solver_penalty': 'lbfgs_l2', 'C': 0.17200076499237804}. Best is trial 0 with value: 0.7448309384832759.\n",
      "[I 2024-12-11 09:54:32,809] Trial 3 finished with value: 0.7406406183614933 and parameters: {'solver_penalty': 'liblinear_l2', 'C': 0.002550203811466899}. Best is trial 0 with value: 0.7448309384832759.\n",
      "[I 2024-12-11 09:54:33,218] Trial 4 finished with value: 0.7410010434305484 and parameters: {'solver_penalty': 'lbfgs_l2', 'C': 238.60885607273124}. Best is trial 0 with value: 0.7448309384832759.\n",
      "[I 2024-12-11 09:54:33,655] Trial 5 finished with value: 0.7371128138497972 and parameters: {'solver_penalty': 'lbfgs_l2', 'C': 743.0081865882588}. Best is trial 0 with value: 0.7448309384832759.\n",
      "[I 2024-12-11 09:54:34,068] Trial 6 finished with value: 0.7372313897156949 and parameters: {'solver_penalty': 'liblinear_l2', 'C': 0.003720873193133906}. Best is trial 0 with value: 0.7448309384832759.\n",
      "[I 2024-12-11 09:54:34,484] Trial 7 finished with value: 0.7393506450657036 and parameters: {'solver_penalty': 'liblinear_l1', 'C': 0.680977983650506}. Best is trial 0 with value: 0.7448309384832759.\n",
      "[I 2024-12-11 09:54:34,903] Trial 8 finished with value: 0.7386661284152609 and parameters: {'solver_penalty': 'liblinear_l1', 'C': 12.966277926583176}. Best is trial 0 with value: 0.7448309384832759.\n",
      "[I 2024-12-11 09:54:35,327] Trial 9 finished with value: 0.7398373902304325 and parameters: {'solver_penalty': 'liblinear_l2', 'C': 0.0072772220496964786}. Best is trial 0 with value: 0.7448309384832759.\n",
      "[I 2024-12-11 09:54:35,767] Trial 10 finished with value: 0.7376180195480445 and parameters: {'solver_penalty': 'liblinear_l2', 'C': 0.043389262501325195}. Best is trial 0 with value: 0.7448309384832759.\n",
      "[I 2024-12-11 09:54:36,167] Trial 11 finished with value: 0.7416558506013174 and parameters: {'solver_penalty': 'lbfgs_l2', 'C': 922.6577917169257}. Best is trial 0 with value: 0.7448309384832759.\n",
      "[I 2024-12-11 09:54:36,585] Trial 12 finished with value: 0.7419144893331369 and parameters: {'solver_penalty': 'lbfgs_l2', 'C': 31.443073913119118}. Best is trial 0 with value: 0.7448309384832759.\n",
      "[I 2024-12-11 09:54:37,024] Trial 13 finished with value: 0.7348455277472993 and parameters: {'solver_penalty': 'lbfgs_l2', 'C': 26.711762653988337}. Best is trial 0 with value: 0.7448309384832759.\n",
      "[I 2024-12-11 09:54:37,457] Trial 14 finished with value: 0.738769854101055 and parameters: {'solver_penalty': 'liblinear_l1', 'C': 10.55799026560674}. Best is trial 0 with value: 0.7448309384832759.\n",
      "[I 2024-12-11 09:54:37,885] Trial 15 finished with value: 0.7365563903720556 and parameters: {'solver_penalty': 'liblinear_l2', 'C': 1.714860039258848}. Best is trial 0 with value: 0.7448309384832759.\n",
      "[I 2024-12-11 09:54:38,286] Trial 16 finished with value: 0.7446682579594147 and parameters: {'solver_penalty': 'lbfgs_l2', 'C': 0.030973140842327235}. Best is trial 0 with value: 0.7448309384832759.\n",
      "[I 2024-12-11 09:54:38,707] Trial 17 finished with value: 0.739040720332245 and parameters: {'solver_penalty': 'liblinear_l2', 'C': 0.029797684439682247}. Best is trial 0 with value: 0.7448309384832759.\n",
      "[I 2024-12-11 09:54:39,123] Trial 18 finished with value: 0.7374073040890262 and parameters: {'solver_penalty': 'lbfgs_l2', 'C': 0.028472157181737998}. Best is trial 0 with value: 0.7448309384832759.\n",
      "[I 2024-12-11 09:54:39,536] Trial 19 finished with value: 0.7163794485812125 and parameters: {'solver_penalty': 'liblinear_l1', 'C': 0.0012209496176673448}. Best is trial 0 with value: 0.7448309384832759.\n",
      "[I 2024-12-11 09:54:39,775] A new study created in memory with name: no-name-86130a93-9397-4c8d-9f4a-a70c7f3593d8\n",
      "[I 2024-12-11 09:54:40,201] Trial 0 finished with value: 0.7392764561304465 and parameters: {'solver_penalty': 'liblinear_l2', 'C': 265.2636999397962}. Best is trial 0 with value: 0.7392764561304465.\n",
      "[I 2024-12-11 09:54:40,621] Trial 1 finished with value: 0.7332858396054405 and parameters: {'solver_penalty': 'liblinear_l1', 'C': 2.1628915800386106}. Best is trial 0 with value: 0.7392764561304465.\n",
      "[I 2024-12-11 09:54:41,032] Trial 2 finished with value: 0.7384191128587706 and parameters: {'solver_penalty': 'lbfgs_l2', 'C': 37.96688967147681}. Best is trial 0 with value: 0.7392764561304465.\n",
      "[I 2024-12-11 09:54:41,439] Trial 3 finished with value: 0.7389129294525784 and parameters: {'solver_penalty': 'lbfgs_l2', 'C': 2.707379102515232}. Best is trial 0 with value: 0.7392764561304465.\n",
      "[I 2024-12-11 09:54:41,845] Trial 4 finished with value: 0.7308463788978666 and parameters: {'solver_penalty': 'lbfgs_l2', 'C': 0.049705392912283854}. Best is trial 0 with value: 0.7392764561304465.\n",
      "[I 2024-12-11 09:54:42,266] Trial 5 finished with value: 0.7304065991012548 and parameters: {'solver_penalty': 'liblinear_l2', 'C': 126.25530130370213}. Best is trial 0 with value: 0.7392764561304465.\n",
      "[I 2024-12-11 09:54:42,672] Trial 6 finished with value: 0.736899850870852 and parameters: {'solver_penalty': 'lbfgs_l2', 'C': 0.03991974551649192}. Best is trial 0 with value: 0.7392764561304465.\n",
      "[I 2024-12-11 09:54:43,104] Trial 7 finished with value: 0.73975444095769 and parameters: {'solver_penalty': 'liblinear_l2', 'C': 0.023616911855950672}. Best is trial 7 with value: 0.73975444095769.\n",
      "[I 2024-12-11 09:54:43,537] Trial 8 finished with value: 0.7387045125886436 and parameters: {'solver_penalty': 'liblinear_l1', 'C': 0.010099558921728103}. Best is trial 7 with value: 0.73975444095769.\n",
      "[I 2024-12-11 09:54:43,959] Trial 9 finished with value: 0.7391638040059486 and parameters: {'solver_penalty': 'liblinear_l1', 'C': 0.026407192364831036}. Best is trial 7 with value: 0.73975444095769.\n",
      "[I 2024-12-11 09:54:44,371] Trial 10 finished with value: 0.7378149148722152 and parameters: {'solver_penalty': 'liblinear_l2', 'C': 0.0012221313830014546}. Best is trial 7 with value: 0.73975444095769.\n",
      "[I 2024-12-11 09:54:44,788] Trial 11 finished with value: 0.7370883059968208 and parameters: {'solver_penalty': 'liblinear_l2', 'C': 958.0026624911313}. Best is trial 7 with value: 0.73975444095769.\n",
      "[I 2024-12-11 09:54:45,197] Trial 12 finished with value: 0.7394915548182976 and parameters: {'solver_penalty': 'liblinear_l2', 'C': 0.4464005902290274}. Best is trial 7 with value: 0.73975444095769.\n",
      "[I 2024-12-11 09:54:45,642] Trial 13 finished with value: 0.736298491681551 and parameters: {'solver_penalty': 'liblinear_l2', 'C': 0.24185968576221664}. Best is trial 7 with value: 0.73975444095769.\n",
      "[I 2024-12-11 09:54:46,064] Trial 14 finished with value: 0.7334112968456353 and parameters: {'solver_penalty': 'liblinear_l2', 'C': 0.4177404164579611}. Best is trial 7 with value: 0.73975444095769.\n",
      "[I 2024-12-11 09:54:46,494] Trial 15 finished with value: 0.7369574877956763 and parameters: {'solver_penalty': 'liblinear_l2', 'C': 0.00200696269244391}. Best is trial 7 with value: 0.73975444095769.\n",
      "[I 2024-12-11 09:54:46,913] Trial 16 finished with value: 0.7394905775364077 and parameters: {'solver_penalty': 'liblinear_l2', 'C': 7.8710882158703175}. Best is trial 7 with value: 0.73975444095769.\n",
      "[I 2024-12-11 09:54:47,329] Trial 17 finished with value: 0.7370080176282858 and parameters: {'solver_penalty': 'liblinear_l2', 'C': 0.17255259251846314}. Best is trial 7 with value: 0.73975444095769.\n",
      "[I 2024-12-11 09:54:47,741] Trial 18 finished with value: 0.7361407760221169 and parameters: {'solver_penalty': 'liblinear_l2', 'C': 0.008484976954049112}. Best is trial 7 with value: 0.73975444095769.\n",
      "[I 2024-12-11 09:54:48,156] Trial 19 finished with value: 0.7339195961638603 and parameters: {'solver_penalty': 'liblinear_l1', 'C': 0.7209243014763709}. Best is trial 7 with value: 0.73975444095769.\n",
      "[I 2024-12-11 09:54:48,398] A new study created in memory with name: no-name-558f2628-d6da-4081-950a-6d2c163eba49\n",
      "[I 2024-12-11 09:54:48,826] Trial 0 finished with value: 0.7428106544205907 and parameters: {'solver_penalty': 'lbfgs_l2', 'C': 402.67846741274894}. Best is trial 0 with value: 0.7428106544205907.\n",
      "[I 2024-12-11 09:54:49,260] Trial 1 finished with value: 0.7399976172602496 and parameters: {'solver_penalty': 'liblinear_l1', 'C': 0.04129168522263818}. Best is trial 0 with value: 0.7428106544205907.\n",
      "[I 2024-12-11 09:54:49,674] Trial 2 finished with value: 0.7422087565877107 and parameters: {'solver_penalty': 'liblinear_l2', 'C': 47.13575002113411}. Best is trial 0 with value: 0.7428106544205907.\n",
      "[I 2024-12-11 09:54:50,100] Trial 3 finished with value: 0.739266228130773 and parameters: {'solver_penalty': 'liblinear_l2', 'C': 179.58343706009052}. Best is trial 0 with value: 0.7428106544205907.\n",
      "[I 2024-12-11 09:54:50,521] Trial 4 finished with value: 0.7420304053743126 and parameters: {'solver_penalty': 'lbfgs_l2', 'C': 0.01305724993295929}. Best is trial 0 with value: 0.7428106544205907.\n",
      "[I 2024-12-11 09:54:50,945] Trial 5 finished with value: 0.7443913303252685 and parameters: {'solver_penalty': 'liblinear_l2', 'C': 10.751238256622916}. Best is trial 5 with value: 0.7443913303252685.\n",
      "[I 2024-12-11 09:54:51,356] Trial 6 finished with value: 0.739465385259273 and parameters: {'solver_penalty': 'liblinear_l1', 'C': 3.1531520758392846}. Best is trial 5 with value: 0.7443913303252685.\n",
      "[I 2024-12-11 09:54:51,761] Trial 7 finished with value: 0.7441984802712559 and parameters: {'solver_penalty': 'liblinear_l2', 'C': 0.007442759226214871}. Best is trial 5 with value: 0.7443913303252685.\n",
      "[I 2024-12-11 09:54:52,178] Trial 8 finished with value: 0.740213055087319 and parameters: {'solver_penalty': 'liblinear_l1', 'C': 0.255111210284655}. Best is trial 5 with value: 0.7443913303252685.\n",
      "[I 2024-12-11 09:54:52,605] Trial 9 finished with value: 0.7460031304595723 and parameters: {'solver_penalty': 'liblinear_l1', 'C': 748.6217989012847}. Best is trial 9 with value: 0.7460031304595723.\n",
      "[I 2024-12-11 09:54:53,009] Trial 10 finished with value: 0.7384103458962609 and parameters: {'solver_penalty': 'liblinear_l1', 'C': 911.8563868834638}. Best is trial 9 with value: 0.7460031304595723.\n",
      "[I 2024-12-11 09:54:53,435] Trial 11 finished with value: 0.7418233101811498 and parameters: {'solver_penalty': 'liblinear_l2', 'C': 9.72744722381307}. Best is trial 9 with value: 0.7460031304595723.\n",
      "[I 2024-12-11 09:54:53,873] Trial 12 finished with value: 0.741187556071694 and parameters: {'solver_penalty': 'liblinear_l1', 'C': 23.338066618538537}. Best is trial 9 with value: 0.7460031304595723.\n",
      "[I 2024-12-11 09:54:54,304] Trial 13 finished with value: 0.741852128557677 and parameters: {'solver_penalty': 'liblinear_l2', 'C': 1.328560906105452}. Best is trial 9 with value: 0.7460031304595723.\n",
      "[I 2024-12-11 09:54:54,738] Trial 14 finished with value: 0.7420569716745774 and parameters: {'solver_penalty': 'lbfgs_l2', 'C': 0.24934076400633226}. Best is trial 9 with value: 0.7460031304595723.\n",
      "[I 2024-12-11 09:54:55,161] Trial 15 finished with value: 0.7429023262252116 and parameters: {'solver_penalty': 'liblinear_l1', 'C': 112.58723139700069}. Best is trial 9 with value: 0.7460031304595723.\n",
      "[I 2024-12-11 09:54:55,579] Trial 16 finished with value: 0.743728295048123 and parameters: {'solver_penalty': 'liblinear_l2', 'C': 5.378422852331912}. Best is trial 9 with value: 0.7460031304595723.\n",
      "[I 2024-12-11 09:54:55,999] Trial 17 finished with value: 0.740408708438678 and parameters: {'solver_penalty': 'liblinear_l1', 'C': 44.68428524310901}. Best is trial 9 with value: 0.7460031304595723.\n",
      "[I 2024-12-11 09:54:56,409] Trial 18 finished with value: 0.7415428924268922 and parameters: {'solver_penalty': 'liblinear_l2', 'C': 0.0013741505937395673}. Best is trial 9 with value: 0.7460031304595723.\n",
      "[I 2024-12-11 09:54:56,831] Trial 19 finished with value: 0.7372031550620723 and parameters: {'solver_penalty': 'lbfgs_l2', 'C': 0.3374723453674296}. Best is trial 9 with value: 0.7460031304595723.\n",
      "[I 2024-12-11 09:54:57,015] A new study created in memory with name: no-name-8b90119d-56cf-4c9d-9013-54003df13afb\n",
      "[I 2024-12-11 09:54:57,473] Trial 0 finished with value: 0.7381433743629761 and parameters: {'solver_penalty': 'liblinear_l2', 'C': 0.0014077906636769137}. Best is trial 0 with value: 0.7381433743629761.\n",
      "[I 2024-12-11 09:54:57,892] Trial 1 finished with value: 0.7419276456895029 and parameters: {'solver_penalty': 'liblinear_l2', 'C': 0.20217678086363663}. Best is trial 1 with value: 0.7419276456895029.\n",
      "[I 2024-12-11 09:54:58,316] Trial 2 finished with value: 0.7375121359629306 and parameters: {'solver_penalty': 'liblinear_l2', 'C': 0.20841850186187016}. Best is trial 1 with value: 0.7419276456895029.\n",
      "[I 2024-12-11 09:54:58,753] Trial 3 finished with value: 0.741749606060183 and parameters: {'solver_penalty': 'liblinear_l2', 'C': 1.1829970861414105}. Best is trial 1 with value: 0.7419276456895029.\n",
      "[I 2024-12-11 09:54:59,161] Trial 4 finished with value: 0.7358590236075445 and parameters: {'solver_penalty': 'liblinear_l1', 'C': 188.78928782581932}. Best is trial 1 with value: 0.7419276456895029.\n",
      "[I 2024-12-11 09:54:59,583] Trial 5 finished with value: 0.7419798854905724 and parameters: {'solver_penalty': 'lbfgs_l2', 'C': 53.44513697898395}. Best is trial 5 with value: 0.7419798854905724.\n",
      "[I 2024-12-11 09:54:59,998] Trial 6 finished with value: 0.7403876932803953 and parameters: {'solver_penalty': 'liblinear_l1', 'C': 7.9782100824952105}. Best is trial 5 with value: 0.7419798854905724.\n",
      "[I 2024-12-11 09:55:00,403] Trial 7 finished with value: 0.7369671861008783 and parameters: {'solver_penalty': 'liblinear_l1', 'C': 1.279480752228866}. Best is trial 5 with value: 0.7419798854905724.\n",
      "[I 2024-12-11 09:55:00,818] Trial 8 finished with value: 0.7375538337540293 and parameters: {'solver_penalty': 'liblinear_l1', 'C': 34.60949904984059}. Best is trial 5 with value: 0.7419798854905724.\n",
      "[I 2024-12-11 09:55:01,251] Trial 9 finished with value: 0.7392073831170892 and parameters: {'solver_penalty': 'liblinear_l2', 'C': 4.055132173721132}. Best is trial 5 with value: 0.7419798854905724.\n",
      "[I 2024-12-11 09:55:01,675] Trial 10 finished with value: 0.7353285688762606 and parameters: {'solver_penalty': 'lbfgs_l2', 'C': 995.479934998242}. Best is trial 5 with value: 0.7419798854905724.\n",
      "[I 2024-12-11 09:55:02,085] Trial 11 finished with value: 0.7341878729584389 and parameters: {'solver_penalty': 'lbfgs_l2', 'C': 0.041919385138794965}. Best is trial 5 with value: 0.7419798854905724.\n",
      "[I 2024-12-11 09:55:02,511] Trial 12 finished with value: 0.7361006835817052 and parameters: {'solver_penalty': 'lbfgs_l2', 'C': 0.043067220212059394}. Best is trial 5 with value: 0.7419798854905724.\n",
      "[I 2024-12-11 09:55:02,930] Trial 13 finished with value: 0.738438652822388 and parameters: {'solver_penalty': 'lbfgs_l2', 'C': 46.052223417666795}. Best is trial 5 with value: 0.7419798854905724.\n",
      "[I 2024-12-11 09:55:03,362] Trial 14 finished with value: 0.7363487535671136 and parameters: {'solver_penalty': 'liblinear_l2', 'C': 0.00348579139060074}. Best is trial 5 with value: 0.7419798854905724.\n",
      "[I 2024-12-11 09:55:03,798] Trial 15 finished with value: 0.7367669606912214 and parameters: {'solver_penalty': 'lbfgs_l2', 'C': 0.10020810906484463}. Best is trial 5 with value: 0.7419798854905724.\n",
      "[I 2024-12-11 09:55:04,260] Trial 16 finished with value: 0.738671342787822 and parameters: {'solver_penalty': 'liblinear_l2', 'C': 0.009955212344271889}. Best is trial 5 with value: 0.7419798854905724.\n",
      "[I 2024-12-11 09:55:04,668] Trial 17 finished with value: 0.7311177363459955 and parameters: {'solver_penalty': 'lbfgs_l2', 'C': 0.433833897647265}. Best is trial 5 with value: 0.7419798854905724.\n",
      "[I 2024-12-11 09:55:05,091] Trial 18 finished with value: 0.7320774615528076 and parameters: {'solver_penalty': 'lbfgs_l2', 'C': 10.268325976848805}. Best is trial 5 with value: 0.7419798854905724.\n",
      "[I 2024-12-11 09:55:05,532] Trial 19 finished with value: 0.7373324816135894 and parameters: {'solver_penalty': 'liblinear_l2', 'C': 731.4825046233718}. Best is trial 5 with value: 0.7419798854905724.\n",
      "[I 2024-12-11 09:55:05,707] A new study created in memory with name: no-name-c47418ff-8c23-47ef-847a-3e8720308b10\n",
      "[I 2024-12-11 09:55:06,121] Trial 0 finished with value: 0.7363404593080893 and parameters: {'solver_penalty': 'liblinear_l2', 'C': 472.5469965275695}. Best is trial 0 with value: 0.7363404593080893.\n",
      "[I 2024-12-11 09:55:06,538] Trial 1 finished with value: 0.7424588346848205 and parameters: {'solver_penalty': 'liblinear_l2', 'C': 2.8832674543203596}. Best is trial 1 with value: 0.7424588346848205.\n",
      "[I 2024-12-11 09:55:06,958] Trial 2 finished with value: 0.7433129352907777 and parameters: {'solver_penalty': 'liblinear_l2', 'C': 0.7671149473639858}. Best is trial 2 with value: 0.7433129352907777.\n",
      "[I 2024-12-11 09:55:07,380] Trial 3 finished with value: 0.7406248755308701 and parameters: {'solver_penalty': 'liblinear_l2', 'C': 0.008282668651015271}. Best is trial 2 with value: 0.7433129352907777.\n",
      "[I 2024-12-11 09:55:07,795] Trial 4 finished with value: 0.7419446157974317 and parameters: {'solver_penalty': 'lbfgs_l2', 'C': 30.69351964293239}. Best is trial 2 with value: 0.7433129352907777.\n",
      "[I 2024-12-11 09:55:08,193] Trial 5 finished with value: 0.7375936163529822 and parameters: {'solver_penalty': 'lbfgs_l2', 'C': 0.0043290867341515375}. Best is trial 2 with value: 0.7433129352907777.\n",
      "[I 2024-12-11 09:55:08,617] Trial 6 finished with value: 0.7438539516208365 and parameters: {'solver_penalty': 'liblinear_l2', 'C': 1.227932717255244}. Best is trial 6 with value: 0.7438539516208365.\n",
      "[I 2024-12-11 09:55:09,014] Trial 7 finished with value: 0.7425372787797279 and parameters: {'solver_penalty': 'liblinear_l2', 'C': 0.06737868759587876}. Best is trial 6 with value: 0.7438539516208365.\n",
      "[I 2024-12-11 09:55:09,432] Trial 8 finished with value: 0.7410341308451956 and parameters: {'solver_penalty': 'lbfgs_l2', 'C': 5.14634900180033}. Best is trial 6 with value: 0.7438539516208365.\n",
      "[I 2024-12-11 09:55:09,841] Trial 9 finished with value: 0.7398826935429527 and parameters: {'solver_penalty': 'liblinear_l2', 'C': 35.59480347453954}. Best is trial 6 with value: 0.7438539516208365.\n",
      "[I 2024-12-11 09:55:10,255] Trial 10 finished with value: 0.743830780540819 and parameters: {'solver_penalty': 'liblinear_l1', 'C': 0.11338661575010543}. Best is trial 6 with value: 0.7438539516208365.\n",
      "[I 2024-12-11 09:55:10,676] Trial 11 finished with value: 0.7405369939158323 and parameters: {'solver_penalty': 'liblinear_l1', 'C': 0.16196275085002895}. Best is trial 6 with value: 0.7438539516208365.\n",
      "[I 2024-12-11 09:55:11,103] Trial 12 finished with value: 0.7466296833117275 and parameters: {'solver_penalty': 'liblinear_l1', 'C': 0.06738984957306546}. Best is trial 12 with value: 0.7466296833117275.\n",
      "[I 2024-12-11 09:55:11,506] Trial 13 finished with value: 0.7424194599872014 and parameters: {'solver_penalty': 'liblinear_l1', 'C': 0.0130263438140097}. Best is trial 12 with value: 0.7466296833117275.\n",
      "[I 2024-12-11 09:55:11,938] Trial 14 finished with value: 0.7418418890102793 and parameters: {'solver_penalty': 'liblinear_l1', 'C': 0.5748120726715001}. Best is trial 12 with value: 0.7466296833117275.\n",
      "[I 2024-12-11 09:55:12,350] Trial 15 finished with value: 0.7246309058723369 and parameters: {'solver_penalty': 'liblinear_l1', 'C': 0.0015336591354440444}. Best is trial 12 with value: 0.7466296833117275.\n",
      "[I 2024-12-11 09:55:12,777] Trial 16 finished with value: 0.7463121445779756 and parameters: {'solver_penalty': 'liblinear_l1', 'C': 0.031945257238865585}. Best is trial 12 with value: 0.7466296833117275.\n",
      "[I 2024-12-11 09:55:13,186] Trial 17 finished with value: 0.7445477097259678 and parameters: {'solver_penalty': 'liblinear_l1', 'C': 0.02981096752431386}. Best is trial 12 with value: 0.7466296833117275.\n",
      "[I 2024-12-11 09:55:13,598] Trial 18 finished with value: 0.739760968166071 and parameters: {'solver_penalty': 'liblinear_l1', 'C': 0.2400891970978578}. Best is trial 12 with value: 0.7466296833117275.\n",
      "[I 2024-12-11 09:55:14,041] Trial 19 finished with value: 0.7425506940768262 and parameters: {'solver_penalty': 'liblinear_l1', 'C': 0.030645494264594727}. Best is trial 12 with value: 0.7466296833117275.\n",
      "[I 2024-12-11 09:55:14,386] A new study created in memory with name: no-name-c97fee87-11c4-49c9-a42e-3641a848a64b\n",
      "[I 2024-12-11 09:55:14,805] Trial 0 finished with value: 0.7364571021530499 and parameters: {'solver_penalty': 'liblinear_l2', 'C': 0.0028317851118663732}. Best is trial 0 with value: 0.7364571021530499.\n",
      "[I 2024-12-11 09:55:15,207] Trial 1 finished with value: 0.7372333494367324 and parameters: {'solver_penalty': 'lbfgs_l2', 'C': 0.014539563675646934}. Best is trial 1 with value: 0.7372333494367324.\n",
      "[I 2024-12-11 09:55:15,626] Trial 2 finished with value: 0.7351201088900727 and parameters: {'solver_penalty': 'liblinear_l2', 'C': 0.47227611321004054}. Best is trial 1 with value: 0.7372333494367324.\n",
      "[I 2024-12-11 09:55:16,037] Trial 3 finished with value: 0.7335937358982096 and parameters: {'solver_penalty': 'lbfgs_l2', 'C': 1.1068080942146645}. Best is trial 1 with value: 0.7372333494367324.\n",
      "[I 2024-12-11 09:55:16,464] Trial 4 finished with value: 0.7378714729958235 and parameters: {'solver_penalty': 'liblinear_l1', 'C': 0.28794702649702214}. Best is trial 4 with value: 0.7378714729958235.\n",
      "[I 2024-12-11 09:55:16,873] Trial 5 finished with value: 0.7396665300600599 and parameters: {'solver_penalty': 'liblinear_l1', 'C': 0.016050289284527144}. Best is trial 5 with value: 0.7396665300600599.\n",
      "[I 2024-12-11 09:55:17,276] Trial 6 finished with value: 0.7377627236288264 and parameters: {'solver_penalty': 'liblinear_l1', 'C': 707.298934874473}. Best is trial 5 with value: 0.7396665300600599.\n",
      "[I 2024-12-11 09:55:17,687] Trial 7 finished with value: 0.7347413314741438 and parameters: {'solver_penalty': 'lbfgs_l2', 'C': 55.805055252631554}. Best is trial 5 with value: 0.7396665300600599.\n",
      "[I 2024-12-11 09:55:18,099] Trial 8 finished with value: 0.7322308151387699 and parameters: {'solver_penalty': 'lbfgs_l2', 'C': 0.40706064721062346}. Best is trial 5 with value: 0.7396665300600599.\n",
      "[I 2024-12-11 09:55:18,512] Trial 9 finished with value: 0.7344268682601759 and parameters: {'solver_penalty': 'liblinear_l2', 'C': 0.006128362899149789}. Best is trial 5 with value: 0.7396665300600599.\n",
      "[I 2024-12-11 09:55:18,918] Trial 10 finished with value: 0.733623916702492 and parameters: {'solver_penalty': 'liblinear_l1', 'C': 0.05585286591458277}. Best is trial 5 with value: 0.7396665300600599.\n",
      "[I 2024-12-11 09:55:19,332] Trial 11 finished with value: 0.735021170503449 and parameters: {'solver_penalty': 'liblinear_l1', 'C': 3.711331173905883}. Best is trial 5 with value: 0.7396665300600599.\n",
      "[I 2024-12-11 09:55:19,760] Trial 12 finished with value: 0.7382541950575504 and parameters: {'solver_penalty': 'liblinear_l1', 'C': 0.05651878248436003}. Best is trial 5 with value: 0.7396665300600599.\n",
      "[I 2024-12-11 09:55:20,179] Trial 13 finished with value: 0.7362512179615377 and parameters: {'solver_penalty': 'liblinear_l1', 'C': 0.04553541667644773}. Best is trial 5 with value: 0.7396665300600599.\n",
      "[I 2024-12-11 09:55:20,595] Trial 14 finished with value: 0.7208963031523457 and parameters: {'solver_penalty': 'liblinear_l1', 'C': 0.001996187513156464}. Best is trial 5 with value: 0.7396665300600599.\n",
      "[I 2024-12-11 09:55:21,007] Trial 15 finished with value: 0.7360873454507424 and parameters: {'solver_penalty': 'liblinear_l1', 'C': 0.04522058336282023}. Best is trial 5 with value: 0.7396665300600599.\n",
      "[I 2024-12-11 09:55:21,437] Trial 16 finished with value: 0.7370816442392096 and parameters: {'solver_penalty': 'liblinear_l1', 'C': 5.611709153084571}. Best is trial 5 with value: 0.7396665300600599.\n",
      "[I 2024-12-11 09:55:21,857] Trial 17 finished with value: 0.731810719027517 and parameters: {'solver_penalty': 'liblinear_l1', 'C': 0.013992582648499157}. Best is trial 5 with value: 0.7396665300600599.\n",
      "[I 2024-12-11 09:55:22,280] Trial 18 finished with value: 0.7325998908530917 and parameters: {'solver_penalty': 'liblinear_l1', 'C': 0.14267656207922222}. Best is trial 5 with value: 0.7396665300600599.\n",
      "[I 2024-12-11 09:55:22,707] Trial 19 finished with value: 0.7368476347046952 and parameters: {'solver_penalty': 'liblinear_l2', 'C': 4.4642973992994675}. Best is trial 5 with value: 0.7396665300600599.\n",
      "[I 2024-12-11 09:55:23,015] A new study created in memory with name: no-name-19469b4b-d7fa-424b-95c3-633198fd6f4f\n",
      "[I 2024-12-11 09:55:23,438] Trial 0 finished with value: 0.7409488273873849 and parameters: {'solver_penalty': 'liblinear_l2', 'C': 2.659956715910974}. Best is trial 0 with value: 0.7409488273873849.\n",
      "[I 2024-12-11 09:55:23,872] Trial 1 finished with value: 0.7434674586976057 and parameters: {'solver_penalty': 'lbfgs_l2', 'C': 0.12042612269038162}. Best is trial 1 with value: 0.7434674586976057.\n",
      "[I 2024-12-11 09:55:24,302] Trial 2 finished with value: 0.7438991909348093 and parameters: {'solver_penalty': 'lbfgs_l2', 'C': 59.93191888417158}. Best is trial 2 with value: 0.7438991909348093.\n",
      "[I 2024-12-11 09:55:24,715] Trial 3 finished with value: 0.7441541687497143 and parameters: {'solver_penalty': 'lbfgs_l2', 'C': 0.01863599271871351}. Best is trial 3 with value: 0.7441541687497143.\n",
      "[I 2024-12-11 09:55:25,148] Trial 4 finished with value: 0.7427880546445907 and parameters: {'solver_penalty': 'liblinear_l1', 'C': 0.024526997085658583}. Best is trial 3 with value: 0.7441541687497143.\n",
      "[I 2024-12-11 09:55:25,576] Trial 5 finished with value: 0.7412528042407021 and parameters: {'solver_penalty': 'liblinear_l1', 'C': 18.785983008701553}. Best is trial 3 with value: 0.7441541687497143.\n",
      "[I 2024-12-11 09:55:26,006] Trial 6 finished with value: 0.7452029606058768 and parameters: {'solver_penalty': 'lbfgs_l2', 'C': 0.8949654960534135}. Best is trial 6 with value: 0.7452029606058768.\n",
      "[I 2024-12-11 09:55:26,435] Trial 7 finished with value: 0.7446097494812085 and parameters: {'solver_penalty': 'liblinear_l2', 'C': 260.66915825001263}. Best is trial 6 with value: 0.7452029606058768.\n",
      "[I 2024-12-11 09:55:26,853] Trial 8 finished with value: 0.7429737441870081 and parameters: {'solver_penalty': 'liblinear_l2', 'C': 0.06209672618169817}. Best is trial 6 with value: 0.7452029606058768.\n",
      "[I 2024-12-11 09:55:27,261] Trial 9 finished with value: 0.7424241863367489 and parameters: {'solver_penalty': 'lbfgs_l2', 'C': 2.6761657133561054}. Best is trial 6 with value: 0.7452029606058768.\n",
      "[I 2024-12-11 09:55:27,678] Trial 10 finished with value: 0.7434882839539798 and parameters: {'solver_penalty': 'lbfgs_l2', 'C': 0.0015991862621963892}. Best is trial 6 with value: 0.7452029606058768.\n",
      "[I 2024-12-11 09:55:28,088] Trial 11 finished with value: 0.7445483107065495 and parameters: {'solver_penalty': 'liblinear_l2', 'C': 869.1756450949385}. Best is trial 6 with value: 0.7452029606058768.\n",
      "[I 2024-12-11 09:55:28,509] Trial 12 finished with value: 0.7406028065856012 and parameters: {'solver_penalty': 'liblinear_l2', 'C': 795.4354675976177}. Best is trial 6 with value: 0.7452029606058768.\n",
      "[I 2024-12-11 09:55:28,948] Trial 13 finished with value: 0.7392261438284415 and parameters: {'solver_penalty': 'liblinear_l2', 'C': 0.5952370840240734}. Best is trial 6 with value: 0.7452029606058768.\n",
      "[I 2024-12-11 09:55:29,357] Trial 14 finished with value: 0.7437976124717945 and parameters: {'solver_penalty': 'liblinear_l1', 'C': 21.585510519575095}. Best is trial 6 with value: 0.7452029606058768.\n",
      "[I 2024-12-11 09:55:29,763] Trial 15 finished with value: 0.7418548817886442 and parameters: {'solver_penalty': 'lbfgs_l2', 'C': 94.69861279312103}. Best is trial 6 with value: 0.7452029606058768.\n",
      "[I 2024-12-11 09:55:30,187] Trial 16 finished with value: 0.7411763671874955 and parameters: {'solver_penalty': 'liblinear_l2', 'C': 0.8899355750644389}. Best is trial 6 with value: 0.7452029606058768.\n",
      "[I 2024-12-11 09:55:30,614] Trial 17 finished with value: 0.7430720894748258 and parameters: {'solver_penalty': 'lbfgs_l2', 'C': 5.580863097198862}. Best is trial 6 with value: 0.7452029606058768.\n",
      "[I 2024-12-11 09:55:31,061] Trial 18 finished with value: 0.7400752351409968 and parameters: {'solver_penalty': 'liblinear_l2', 'C': 0.2965866672375451}. Best is trial 6 with value: 0.7452029606058768.\n",
      "[I 2024-12-11 09:55:31,475] Trial 19 finished with value: 0.7447864663824002 and parameters: {'solver_penalty': 'liblinear_l1', 'C': 187.43042901408083}. Best is trial 6 with value: 0.7452029606058768.\n",
      "[I 2024-12-11 09:55:31,681] A new study created in memory with name: no-name-9a8d784a-687b-4163-84a5-0db67790c967\n",
      "[I 2024-12-11 09:55:32,101] Trial 0 finished with value: 0.7354948452102225 and parameters: {'solver_penalty': 'liblinear_l1', 'C': 0.03122926027134914}. Best is trial 0 with value: 0.7354948452102225.\n",
      "[I 2024-12-11 09:55:32,516] Trial 1 finished with value: 0.736529739883779 and parameters: {'solver_penalty': 'liblinear_l1', 'C': 4.9318829675888844}. Best is trial 1 with value: 0.736529739883779.\n",
      "[I 2024-12-11 09:55:32,948] Trial 2 finished with value: 0.7313117127231045 and parameters: {'solver_penalty': 'liblinear_l1', 'C': 37.30907816637316}. Best is trial 1 with value: 0.736529739883779.\n",
      "[I 2024-12-11 09:55:33,359] Trial 3 finished with value: 0.7390453883593395 and parameters: {'solver_penalty': 'liblinear_l1', 'C': 0.8237093838765396}. Best is trial 3 with value: 0.7390453883593395.\n",
      "[I 2024-12-11 09:55:33,771] Trial 4 finished with value: 0.7411548938613877 and parameters: {'solver_penalty': 'liblinear_l1', 'C': 0.016178500089183007}. Best is trial 4 with value: 0.7411548938613877.\n",
      "[I 2024-12-11 09:55:34,222] Trial 5 finished with value: 0.7413786520607524 and parameters: {'solver_penalty': 'liblinear_l1', 'C': 0.44547084048581875}. Best is trial 5 with value: 0.7413786520607524.\n",
      "[I 2024-12-11 09:55:34,638] Trial 6 finished with value: 0.7370271280218513 and parameters: {'solver_penalty': 'liblinear_l2', 'C': 248.88167138807776}. Best is trial 5 with value: 0.7413786520607524.\n",
      "[I 2024-12-11 09:55:35,065] Trial 7 finished with value: 0.7353015988685772 and parameters: {'solver_penalty': 'lbfgs_l2', 'C': 0.533423322622585}. Best is trial 5 with value: 0.7413786520607524.\n",
      "[I 2024-12-11 09:55:35,484] Trial 8 finished with value: 0.7352620210783493 and parameters: {'solver_penalty': 'lbfgs_l2', 'C': 0.3835351505365675}. Best is trial 5 with value: 0.7413786520607524.\n",
      "[I 2024-12-11 09:55:35,904] Trial 9 finished with value: 0.7362485308697015 and parameters: {'solver_penalty': 'lbfgs_l2', 'C': 0.13575532587171785}. Best is trial 5 with value: 0.7413786520607524.\n",
      "[I 2024-12-11 09:55:36,332] Trial 10 finished with value: 0.7345197922481702 and parameters: {'solver_penalty': 'liblinear_l2', 'C': 0.0019123164781229725}. Best is trial 5 with value: 0.7413786520607524.\n",
      "[I 2024-12-11 09:55:36,781] Trial 11 finished with value: 0.7368598177822789 and parameters: {'solver_penalty': 'liblinear_l1', 'C': 0.007569013236558072}. Best is trial 5 with value: 0.7413786520607524.\n",
      "[I 2024-12-11 09:55:37,190] Trial 12 finished with value: 0.7399015066727456 and parameters: {'solver_penalty': 'liblinear_l1', 'C': 0.020023656848138963}. Best is trial 5 with value: 0.7413786520607524.\n",
      "[I 2024-12-11 09:55:37,602] Trial 13 finished with value: 0.6757218708268411 and parameters: {'solver_penalty': 'liblinear_l1', 'C': 0.0010154045407772005}. Best is trial 5 with value: 0.7413786520607524.\n",
      "[I 2024-12-11 09:55:38,034] Trial 14 finished with value: 0.7345710901793314 and parameters: {'solver_penalty': 'liblinear_l1', 'C': 5.875342178751634}. Best is trial 5 with value: 0.7413786520607524.\n",
      "[I 2024-12-11 09:55:38,477] Trial 15 finished with value: 0.7347193283537741 and parameters: {'solver_penalty': 'liblinear_l2', 'C': 0.05636245899693305}. Best is trial 5 with value: 0.7413786520607524.\n",
      "[I 2024-12-11 09:55:38,907] Trial 16 finished with value: 0.7387690651273339 and parameters: {'solver_penalty': 'liblinear_l1', 'C': 6.732739848003539}. Best is trial 5 with value: 0.7413786520607524.\n",
      "[I 2024-12-11 09:55:39,321] Trial 17 finished with value: 0.7315278723053453 and parameters: {'solver_penalty': 'liblinear_l1', 'C': 0.005225385743455801}. Best is trial 5 with value: 0.7413786520607524.\n",
      "[I 2024-12-11 09:55:39,733] Trial 18 finished with value: 0.7339725226843142 and parameters: {'solver_penalty': 'lbfgs_l2', 'C': 0.13433189357446113}. Best is trial 5 with value: 0.7413786520607524.\n",
      "[I 2024-12-11 09:55:40,156] Trial 19 finished with value: 0.7335772088838612 and parameters: {'solver_penalty': 'liblinear_l2', 'C': 738.879674639281}. Best is trial 5 with value: 0.7413786520607524.\n",
      "[I 2024-12-11 09:55:40,404] A new study created in memory with name: no-name-c712c34f-860c-449e-8714-82a8c0d01199\n",
      "[I 2024-12-11 09:55:40,827] Trial 0 finished with value: 0.7451882491170063 and parameters: {'solver_penalty': 'lbfgs_l2', 'C': 0.007801324014717247}. Best is trial 0 with value: 0.7451882491170063.\n",
      "[I 2024-12-11 09:55:41,233] Trial 1 finished with value: 0.7403951949189344 and parameters: {'solver_penalty': 'lbfgs_l2', 'C': 8.097303954867357}. Best is trial 0 with value: 0.7451882491170063.\n",
      "[I 2024-12-11 09:55:41,661] Trial 2 finished with value: 0.7465168100712302 and parameters: {'solver_penalty': 'liblinear_l1', 'C': 0.020475597857913454}. Best is trial 2 with value: 0.7465168100712302.\n",
      "[I 2024-12-11 09:55:42,072] Trial 3 finished with value: 0.7448744856324064 and parameters: {'solver_penalty': 'lbfgs_l2', 'C': 6.219830723080742}. Best is trial 2 with value: 0.7465168100712302.\n",
      "[I 2024-12-11 09:55:42,508] Trial 4 finished with value: 0.7427102627730803 and parameters: {'solver_penalty': 'lbfgs_l2', 'C': 0.0013050234238362226}. Best is trial 2 with value: 0.7465168100712302.\n",
      "[I 2024-12-11 09:55:42,937] Trial 5 finished with value: 0.7445639725611701 and parameters: {'solver_penalty': 'liblinear_l1', 'C': 0.023458802637963544}. Best is trial 2 with value: 0.7465168100712302.\n",
      "[I 2024-12-11 09:55:43,356] Trial 6 finished with value: 0.7429064117060407 and parameters: {'solver_penalty': 'liblinear_l1', 'C': 3.151049822167262}. Best is trial 2 with value: 0.7465168100712302.\n",
      "[I 2024-12-11 09:55:43,789] Trial 7 finished with value: 0.7357181259535562 and parameters: {'solver_penalty': 'liblinear_l2', 'C': 0.0012937989081861308}. Best is trial 2 with value: 0.7465168100712302.\n",
      "[I 2024-12-11 09:55:44,237] Trial 8 finished with value: 0.7442059671943411 and parameters: {'solver_penalty': 'liblinear_l1', 'C': 0.28887662722641105}. Best is trial 2 with value: 0.7465168100712302.\n",
      "[I 2024-12-11 09:55:44,684] Trial 9 finished with value: 0.7385398347136088 and parameters: {'solver_penalty': 'liblinear_l1', 'C': 1.2137006032103363}. Best is trial 2 with value: 0.7465168100712302.\n",
      "[I 2024-12-11 09:55:45,103] Trial 10 finished with value: 0.7390986126823247 and parameters: {'solver_penalty': 'liblinear_l2', 'C': 722.4085106004158}. Best is trial 2 with value: 0.7465168100712302.\n",
      "[I 2024-12-11 09:55:45,518] Trial 11 finished with value: 0.7411951598732652 and parameters: {'solver_penalty': 'lbfgs_l2', 'C': 0.03361062813301744}. Best is trial 2 with value: 0.7465168100712302.\n",
      "[I 2024-12-11 09:55:45,946] Trial 12 finished with value: 0.7472086566223681 and parameters: {'solver_penalty': 'lbfgs_l2', 'C': 0.01581976020044997}. Best is trial 12 with value: 0.7472086566223681.\n",
      "[I 2024-12-11 09:55:46,358] Trial 13 finished with value: 0.7393917820636671 and parameters: {'solver_penalty': 'liblinear_l1', 'C': 0.16677606714470772}. Best is trial 12 with value: 0.7472086566223681.\n",
      "[I 2024-12-11 09:55:46,776] Trial 14 finished with value: 0.7466672619013874 and parameters: {'solver_penalty': 'liblinear_l2', 'C': 0.009785723073172959}. Best is trial 12 with value: 0.7472086566223681.\n",
      "[I 2024-12-11 09:55:47,198] Trial 15 finished with value: 0.7419259791803747 and parameters: {'solver_penalty': 'liblinear_l2', 'C': 59.96858570917545}. Best is trial 12 with value: 0.7472086566223681.\n",
      "[I 2024-12-11 09:55:47,610] Trial 16 finished with value: 0.7464477123865925 and parameters: {'solver_penalty': 'liblinear_l2', 'C': 0.005311733202833795}. Best is trial 12 with value: 0.7472086566223681.\n",
      "[I 2024-12-11 09:55:48,027] Trial 17 finished with value: 0.7386322925901165 and parameters: {'solver_penalty': 'liblinear_l2', 'C': 0.08567541432554247}. Best is trial 12 with value: 0.7472086566223681.\n",
      "[I 2024-12-11 09:55:48,446] Trial 18 finished with value: 0.7414119186633048 and parameters: {'solver_penalty': 'liblinear_l2', 'C': 0.44984030294481264}. Best is trial 12 with value: 0.7472086566223681.\n",
      "[I 2024-12-11 09:55:48,874] Trial 19 finished with value: 0.7395935237461905 and parameters: {'solver_penalty': 'lbfgs_l2', 'C': 0.0049240552253793785}. Best is trial 12 with value: 0.7472086566223681.\n",
      "[I 2024-12-11 09:55:49,168] A new study created in memory with name: no-name-4d833490-d88a-41db-bc88-67ff9d27aa59\n",
      "[I 2024-12-11 09:55:49,596] Trial 0 finished with value: 0.7405152503966221 and parameters: {'solver_penalty': 'liblinear_l2', 'C': 89.34281576449774}. Best is trial 0 with value: 0.7405152503966221.\n",
      "[I 2024-12-11 09:55:50,040] Trial 1 finished with value: 0.7416645235646845 and parameters: {'solver_penalty': 'lbfgs_l2', 'C': 5.723206554823927}. Best is trial 1 with value: 0.7416645235646845.\n",
      "[I 2024-12-11 09:55:50,461] Trial 2 finished with value: 0.7401936502170765 and parameters: {'solver_penalty': 'liblinear_l2', 'C': 0.1015312376200523}. Best is trial 1 with value: 0.7416645235646845.\n",
      "[I 2024-12-11 09:55:50,882] Trial 3 finished with value: 0.7378288278595996 and parameters: {'solver_penalty': 'liblinear_l2', 'C': 204.7035237310547}. Best is trial 1 with value: 0.7416645235646845.\n",
      "[I 2024-12-11 09:55:51,328] Trial 4 finished with value: 0.7382276831286176 and parameters: {'solver_penalty': 'lbfgs_l2', 'C': 0.5869349653154768}. Best is trial 1 with value: 0.7416645235646845.\n",
      "[I 2024-12-11 09:55:51,734] Trial 5 finished with value: 0.7416111603035938 and parameters: {'solver_penalty': 'liblinear_l1', 'C': 2.2866603350965486}. Best is trial 1 with value: 0.7416645235646845.\n",
      "[I 2024-12-11 09:55:52,164] Trial 6 finished with value: 0.7364533600152524 and parameters: {'solver_penalty': 'liblinear_l2', 'C': 0.016167984317374925}. Best is trial 1 with value: 0.7416645235646845.\n",
      "[I 2024-12-11 09:55:52,613] Trial 7 finished with value: 0.7450983954606691 and parameters: {'solver_penalty': 'liblinear_l2', 'C': 133.09536850479424}. Best is trial 7 with value: 0.7450983954606691.\n",
      "[I 2024-12-11 09:55:53,058] Trial 8 finished with value: 0.7371364833151908 and parameters: {'solver_penalty': 'liblinear_l2', 'C': 0.03661325945135255}. Best is trial 7 with value: 0.7450983954606691.\n",
      "[I 2024-12-11 09:55:53,468] Trial 9 finished with value: 0.7315135923058118 and parameters: {'solver_penalty': 'liblinear_l1', 'C': 0.004529207395009467}. Best is trial 7 with value: 0.7450983954606691.\n",
      "[I 2024-12-11 09:55:53,889] Trial 10 finished with value: 0.7384627973044041 and parameters: {'solver_penalty': 'liblinear_l1', 'C': 780.2980023098246}. Best is trial 7 with value: 0.7450983954606691.\n",
      "[I 2024-12-11 09:55:54,298] Trial 11 finished with value: 0.743826284136738 and parameters: {'solver_penalty': 'lbfgs_l2', 'C': 11.46160077316421}. Best is trial 7 with value: 0.7450983954606691.\n",
      "[I 2024-12-11 09:55:54,742] Trial 12 finished with value: 0.7406690773923177 and parameters: {'solver_penalty': 'lbfgs_l2', 'C': 21.540907094067954}. Best is trial 7 with value: 0.7450983954606691.\n",
      "[I 2024-12-11 09:55:55,154] Trial 13 finished with value: 0.7346886948415798 and parameters: {'solver_penalty': 'lbfgs_l2', 'C': 24.85249099847827}. Best is trial 7 with value: 0.7450983954606691.\n",
      "[I 2024-12-11 09:55:55,576] Trial 14 finished with value: 0.742790892299665 and parameters: {'solver_penalty': 'lbfgs_l2', 'C': 0.3656632777648916}. Best is trial 7 with value: 0.7450983954606691.\n",
      "[I 2024-12-11 09:55:55,995] Trial 15 finished with value: 0.7418142989697845 and parameters: {'solver_penalty': 'liblinear_l2', 'C': 728.5027036275061}. Best is trial 7 with value: 0.7450983954606691.\n",
      "[I 2024-12-11 09:55:56,414] Trial 16 finished with value: 0.7413995765851096 and parameters: {'solver_penalty': 'lbfgs_l2', 'C': 15.97143084423347}. Best is trial 7 with value: 0.7450983954606691.\n",
      "[I 2024-12-11 09:55:56,836] Trial 17 finished with value: 0.7407055102901295 and parameters: {'solver_penalty': 'lbfgs_l2', 'C': 102.40399988825519}. Best is trial 7 with value: 0.7450983954606691.\n",
      "[I 2024-12-11 09:55:57,259] Trial 18 finished with value: 0.7388972240754192 and parameters: {'solver_penalty': 'liblinear_l2', 'C': 3.3419316346402748}. Best is trial 7 with value: 0.7450983954606691.\n",
      "[I 2024-12-11 09:55:57,666] Trial 19 finished with value: 0.6954619353065705 and parameters: {'solver_penalty': 'liblinear_l1', 'C': 0.0011081353314410756}. Best is trial 7 with value: 0.7450983954606691.\n",
      "[I 2024-12-11 09:55:57,914] A new study created in memory with name: no-name-70761b09-43df-4c67-88d0-75b49d643867\n",
      "[I 2024-12-11 09:55:59,506] Trial 0 finished with value: 0.7560332946649418 and parameters: {'n_estimators': 352, 'learning_rate': 0.27504519354442164}. Best is trial 0 with value: 0.7560332946649418.\n",
      "[I 2024-12-11 09:56:00,378] Trial 1 finished with value: 0.7512286899356861 and parameters: {'n_estimators': 137, 'learning_rate': 0.13247991823202485}. Best is trial 0 with value: 0.7560332946649418.\n",
      "[I 2024-12-11 09:56:02,361] Trial 2 finished with value: 0.7544407551504478 and parameters: {'n_estimators': 438, 'learning_rate': 0.2941338340108666}. Best is trial 0 with value: 0.7560332946649418.\n",
      "[I 2024-12-11 09:56:03,129] Trial 3 finished with value: 0.7527485253448715 and parameters: {'n_estimators': 100, 'learning_rate': 0.3632903409074158}. Best is trial 0 with value: 0.7560332946649418.\n",
      "[I 2024-12-11 09:56:05,218] Trial 4 finished with value: 0.7574567466334332 and parameters: {'n_estimators': 486, 'learning_rate': 0.5375091713097193}. Best is trial 4 with value: 0.7574567466334332.\n",
      "[I 2024-12-11 09:56:05,922] Trial 5 finished with value: 0.7496858210972318 and parameters: {'n_estimators': 83, 'learning_rate': 1.2268251779665311}. Best is trial 4 with value: 0.7574567466334332.\n",
      "[I 2024-12-11 09:56:07,814] Trial 6 finished with value: 0.7544049408825193 and parameters: {'n_estimators': 416, 'learning_rate': 0.5284962178628986}. Best is trial 4 with value: 0.7574567466334332.\n",
      "[I 2024-12-11 09:56:08,523] Trial 7 finished with value: 0.7462789437873286 and parameters: {'n_estimators': 89, 'learning_rate': 0.4016934995994244}. Best is trial 4 with value: 0.7574567466334332.\n",
      "[I 2024-12-11 09:56:09,481] Trial 8 finished with value: 0.7393270084575801 and parameters: {'n_estimators': 155, 'learning_rate': 0.055446909393973495}. Best is trial 4 with value: 0.7574567466334332.\n",
      "[I 2024-12-11 09:56:10,726] Trial 9 finished with value: 0.6847801022218026 and parameters: {'n_estimators': 238, 'learning_rate': 0.010934492742648646}. Best is trial 4 with value: 0.7574567466334332.\n",
      "[I 2024-12-11 09:56:12,250] Trial 10 finished with value: 0.7522053735461324 and parameters: {'n_estimators': 307, 'learning_rate': 1.5943508929248889}. Best is trial 4 with value: 0.7574567466334332.\n",
      "[I 2024-12-11 09:56:14,337] Trial 11 finished with value: 0.7534439649687166 and parameters: {'n_estimators': 496, 'learning_rate': 0.1042091350491094}. Best is trial 4 with value: 0.7574567466334332.\n",
      "[I 2024-12-11 09:56:15,919] Trial 12 finished with value: 0.7464107439211547 and parameters: {'n_estimators': 339, 'learning_rate': 0.040805467155349204}. Best is trial 4 with value: 0.7574567466334332.\n",
      "[I 2024-12-11 09:56:17,696] Trial 13 finished with value: 0.7605428553140415 and parameters: {'n_estimators': 378, 'learning_rate': 0.7933685570730554}. Best is trial 13 with value: 0.7605428553140415.\n",
      "[I 2024-12-11 09:56:19,741] Trial 14 finished with value: 0.7571279857550378 and parameters: {'n_estimators': 475, 'learning_rate': 0.770302741305883}. Best is trial 13 with value: 0.7605428553140415.\n",
      "[I 2024-12-11 09:56:21,520] Trial 15 finished with value: 0.761845980960602 and parameters: {'n_estimators': 389, 'learning_rate': 0.906248622778108}. Best is trial 15 with value: 0.761845980960602.\n",
      "[I 2024-12-11 09:56:22,768] Trial 16 finished with value: 0.7411445287483374 and parameters: {'n_estimators': 248, 'learning_rate': 1.8961302306349725}. Best is trial 15 with value: 0.761845980960602.\n",
      "[I 2024-12-11 09:56:24,537] Trial 17 finished with value: 0.7518623353368352 and parameters: {'n_estimators': 393, 'learning_rate': 1.2513016106269894}. Best is trial 15 with value: 0.761845980960602.\n",
      "[I 2024-12-11 09:56:26,309] Trial 18 finished with value: 0.7549503137444581 and parameters: {'n_estimators': 373, 'learning_rate': 0.8391906313904498}. Best is trial 15 with value: 0.761845980960602.\n",
      "[I 2024-12-11 09:56:27,691] Trial 19 finished with value: 0.7575494738655764 and parameters: {'n_estimators': 279, 'learning_rate': 0.8538273917893588}. Best is trial 15 with value: 0.761845980960602.\n",
      "[I 2024-12-11 09:56:28,885] A new study created in memory with name: no-name-6ab4adb7-a2d7-42a5-aaaa-d936ad30feae\n",
      "[I 2024-12-11 09:56:30,608] Trial 0 finished with value: 0.7350190369373487 and parameters: {'n_estimators': 399, 'learning_rate': 0.05334201787561325}. Best is trial 0 with value: 0.7350190369373487.\n",
      "[I 2024-12-11 09:56:31,295] Trial 1 finished with value: 0.7341198835173363 and parameters: {'n_estimators': 82, 'learning_rate': 0.1340937446413426}. Best is trial 0 with value: 0.7350190369373487.\n",
      "[I 2024-12-11 09:56:32,811] Trial 2 finished with value: 0.7445107285202407 and parameters: {'n_estimators': 318, 'learning_rate': 0.562523450527066}. Best is trial 2 with value: 0.7445107285202407.\n",
      "[I 2024-12-11 09:56:34,769] Trial 3 finished with value: 0.7417553364479464 and parameters: {'n_estimators': 454, 'learning_rate': 0.24719849147958622}. Best is trial 2 with value: 0.7445107285202407.\n",
      "[I 2024-12-11 09:56:35,807] Trial 4 finished with value: 0.7242188413677698 and parameters: {'n_estimators': 174, 'learning_rate': 0.03361063242953833}. Best is trial 2 with value: 0.7445107285202407.\n",
      "[I 2024-12-11 09:56:37,475] Trial 5 finished with value: 0.7436286221142325 and parameters: {'n_estimators': 369, 'learning_rate': 0.3655606195679246}. Best is trial 2 with value: 0.7445107285202407.\n",
      "[I 2024-12-11 09:56:38,967] Trial 6 finished with value: 0.7448447433542902 and parameters: {'n_estimators': 319, 'learning_rate': 0.256129595344501}. Best is trial 6 with value: 0.7448447433542902.\n",
      "[I 2024-12-11 09:56:40,124] Trial 7 finished with value: 0.7321610883291447 and parameters: {'n_estimators': 223, 'learning_rate': 0.03632332923867223}. Best is trial 6 with value: 0.7448447433542902.\n",
      "[I 2024-12-11 09:56:40,984] Trial 8 finished with value: 0.7283350754451866 and parameters: {'n_estimators': 132, 'learning_rate': 0.05288389868102726}. Best is trial 6 with value: 0.7448447433542902.\n",
      "[I 2024-12-11 09:56:42,163] Trial 9 finished with value: 0.7466726887930288 and parameters: {'n_estimators': 214, 'learning_rate': 0.4073048019634073}. Best is trial 9 with value: 0.7466726887930288.\n",
      "[I 2024-12-11 09:56:43,376] Trial 10 finished with value: 0.7152407175819321 and parameters: {'n_estimators': 234, 'learning_rate': 1.9873263490936004}. Best is trial 9 with value: 0.7466726887930288.\n",
      "[I 2024-12-11 09:56:44,844] Trial 11 finished with value: 0.7512281760967461 and parameters: {'n_estimators': 295, 'learning_rate': 0.9085059472700473}. Best is trial 11 with value: 0.7512281760967461.\n",
      "[I 2024-12-11 09:56:46,231] Trial 12 finished with value: 0.7515766961014271 and parameters: {'n_estimators': 263, 'learning_rate': 1.1413691278172216}. Best is trial 12 with value: 0.7515766961014271.\n",
      "[I 2024-12-11 09:56:47,772] Trial 13 finished with value: 0.7535089311884663 and parameters: {'n_estimators': 280, 'learning_rate': 1.2323014485534884}. Best is trial 13 with value: 0.7535089311884663.\n",
      "[I 2024-12-11 09:56:49,144] Trial 14 finished with value: 0.7370746332871941 and parameters: {'n_estimators': 267, 'learning_rate': 1.8674916539158877}. Best is trial 13 with value: 0.7535089311884663.\n",
      "[I 2024-12-11 09:56:50,873] Trial 15 finished with value: 0.7055032880918624 and parameters: {'n_estimators': 378, 'learning_rate': 0.012032387890590437}. Best is trial 13 with value: 0.7535089311884663.\n",
      "[I 2024-12-11 09:56:52,228] Trial 16 finished with value: 0.749257388906131 and parameters: {'n_estimators': 493, 'learning_rate': 1.0219793912418358}. Best is trial 13 with value: 0.7535089311884663.\n",
      "[I 2024-12-11 09:56:52,824] Trial 17 finished with value: 0.7377633811473797 and parameters: {'n_estimators': 152, 'learning_rate': 0.7891242805838529}. Best is trial 13 with value: 0.7535089311884663.\n",
      "[I 2024-12-11 09:56:53,671] Trial 18 finished with value: 0.7415754706404255 and parameters: {'n_estimators': 265, 'learning_rate': 0.1252677717875459}. Best is trial 13 with value: 0.7535089311884663.\n",
      "[I 2024-12-11 09:56:54,665] Trial 19 finished with value: 0.7487952782727562 and parameters: {'n_estimators': 346, 'learning_rate': 1.3790140265473174}. Best is trial 13 with value: 0.7535089311884663.\n",
      "[I 2024-12-11 09:56:55,324] A new study created in memory with name: no-name-b08ff702-7de2-4cde-a835-695fc7ac56c6\n",
      "[I 2024-12-11 09:56:56,336] Trial 0 finished with value: 0.7308341488469415 and parameters: {'n_estimators': 368, 'learning_rate': 0.017419297613876367}. Best is trial 0 with value: 0.7308341488469415.\n",
      "[I 2024-12-11 09:56:57,318] Trial 1 finished with value: 0.7428509074315829 and parameters: {'n_estimators': 344, 'learning_rate': 0.054712453356954606}. Best is trial 1 with value: 0.7428509074315829.\n",
      "[I 2024-12-11 09:56:58,053] Trial 2 finished with value: 0.7491717102042462 and parameters: {'n_estimators': 218, 'learning_rate': 1.0547737394427803}. Best is trial 2 with value: 0.7491717102042462.\n",
      "[I 2024-12-11 09:56:58,593] Trial 3 finished with value: 0.7458635731301574 and parameters: {'n_estimators': 133, 'learning_rate': 0.36979091692439764}. Best is trial 2 with value: 0.7491717102042462.\n",
      "[I 2024-12-11 09:56:59,069] Trial 4 finished with value: 0.740526784582599 and parameters: {'n_estimators': 95, 'learning_rate': 0.20029810721427857}. Best is trial 2 with value: 0.7491717102042462.\n",
      "[I 2024-12-11 09:57:00,188] Trial 5 finished with value: 0.7418763843827431 and parameters: {'n_estimators': 410, 'learning_rate': 0.029806753205369615}. Best is trial 2 with value: 0.7491717102042462.\n",
      "[I 2024-12-11 09:57:01,338] Trial 6 finished with value: 0.7489448123360648 and parameters: {'n_estimators': 397, 'learning_rate': 0.54657159807393}. Best is trial 2 with value: 0.7491717102042462.\n",
      "[I 2024-12-11 09:57:02,620] Trial 7 finished with value: 0.7461514484106182 and parameters: {'n_estimators': 492, 'learning_rate': 0.9722119623533009}. Best is trial 2 with value: 0.7491717102042462.\n",
      "[I 2024-12-11 09:57:03,402] Trial 8 finished with value: 0.6724595965634793 and parameters: {'n_estimators': 245, 'learning_rate': 0.01129259193003688}. Best is trial 2 with value: 0.7491717102042462.\n",
      "[I 2024-12-11 09:57:04,732] Trial 9 finished with value: 0.7304737698513233 and parameters: {'n_estimators': 490, 'learning_rate': 0.011065993156324939}. Best is trial 2 with value: 0.7491717102042462.\n",
      "[I 2024-12-11 09:57:05,473] Trial 10 finished with value: 0.7446316888228931 and parameters: {'n_estimators': 210, 'learning_rate': 1.8595403726372473}. Best is trial 2 with value: 0.7491717102042462.\n",
      "[I 2024-12-11 09:57:06,395] Trial 11 finished with value: 0.7488117168559252 and parameters: {'n_estimators': 300, 'learning_rate': 0.607587464341637}. Best is trial 2 with value: 0.7491717102042462.\n",
      "[I 2024-12-11 09:57:07,043] Trial 12 finished with value: 0.693497179100936 and parameters: {'n_estimators': 181, 'learning_rate': 1.9786266379755892}. Best is trial 2 with value: 0.7491717102042462.\n",
      "[I 2024-12-11 09:57:07,911] Trial 13 finished with value: 0.7472444106119563 and parameters: {'n_estimators': 280, 'learning_rate': 0.13686989524839502}. Best is trial 2 with value: 0.7491717102042462.\n",
      "[I 2024-12-11 09:57:09,105] Trial 14 finished with value: 0.7447198835931753 and parameters: {'n_estimators': 428, 'learning_rate': 0.6812978863765926}. Best is trial 2 with value: 0.7491717102042462.\n",
      "[I 2024-12-11 09:57:09,470] Trial 15 finished with value: 0.7432610510693994 and parameters: {'n_estimators': 50, 'learning_rate': 0.26091340821616793}. Best is trial 2 with value: 0.7491717102042462.\n",
      "[I 2024-12-11 09:57:10,439] Trial 16 finished with value: 0.7470661583498643 and parameters: {'n_estimators': 328, 'learning_rate': 0.1085908882354069}. Best is trial 2 with value: 0.7491717102042462.\n",
      "[I 2024-12-11 09:57:11,224] Trial 17 finished with value: 0.7494703658781566 and parameters: {'n_estimators': 240, 'learning_rate': 1.0088821515341109}. Best is trial 17 with value: 0.7494703658781566.\n",
      "[I 2024-12-11 09:57:11,859] Trial 18 finished with value: 0.7538836603735375 and parameters: {'n_estimators': 172, 'learning_rate': 1.0565348459844226}. Best is trial 18 with value: 0.7538836603735375.\n",
      "[I 2024-12-11 09:57:12,474] Trial 19 finished with value: 0.7391448243464057 and parameters: {'n_estimators': 168, 'learning_rate': 0.0716326029786285}. Best is trial 18 with value: 0.7538836603735375.\n",
      "[I 2024-12-11 09:57:12,927] A new study created in memory with name: no-name-f8eed6ec-cdfa-4ee2-a96e-668f5dda3645\n",
      "[I 2024-12-11 09:57:14,221] Trial 0 finished with value: 0.748345048655575 and parameters: {'n_estimators': 484, 'learning_rate': 0.6369761261271153}. Best is trial 0 with value: 0.748345048655575.\n",
      "[I 2024-12-11 09:57:15,076] Trial 1 finished with value: 0.7404505023739607 and parameters: {'n_estimators': 278, 'learning_rate': 0.09810138001813039}. Best is trial 0 with value: 0.748345048655575.\n",
      "[I 2024-12-11 09:57:15,888] Trial 2 finished with value: 0.7439962184019004 and parameters: {'n_estimators': 263, 'learning_rate': 1.2076034395968027}. Best is trial 0 with value: 0.748345048655575.\n",
      "[I 2024-12-11 09:57:17,047] Trial 3 finished with value: 0.7409699494735287 and parameters: {'n_estimators': 431, 'learning_rate': 0.11585223046336418}. Best is trial 0 with value: 0.748345048655575.\n",
      "[I 2024-12-11 09:57:17,554] Trial 4 finished with value: 0.7336446059087524 and parameters: {'n_estimators': 114, 'learning_rate': 0.8180774653340492}. Best is trial 0 with value: 0.748345048655575.\n",
      "[I 2024-12-11 09:57:18,355] Trial 5 finished with value: 0.740235866283009 and parameters: {'n_estimators': 257, 'learning_rate': 0.1924506904127299}. Best is trial 0 with value: 0.748345048655575.\n",
      "[I 2024-12-11 09:57:19,397] Trial 6 finished with value: 0.7458199148428204 and parameters: {'n_estimators': 351, 'learning_rate': 1.7427174517565525}. Best is trial 0 with value: 0.748345048655575.\n",
      "[I 2024-12-11 09:57:20,688] Trial 7 finished with value: 0.7384542743703425 and parameters: {'n_estimators': 473, 'learning_rate': 0.026796849128900863}. Best is trial 0 with value: 0.748345048655575.\n",
      "[I 2024-12-11 09:57:21,406] Trial 8 finished with value: 0.7412051856603263 and parameters: {'n_estimators': 212, 'learning_rate': 0.6789568463250926}. Best is trial 0 with value: 0.748345048655575.\n",
      "[I 2024-12-11 09:57:22,127] Trial 9 finished with value: 0.7363723548112712 and parameters: {'n_estimators': 216, 'learning_rate': 0.38414740880047255}. Best is trial 0 with value: 0.748345048655575.\n",
      "[I 2024-12-11 09:57:23,257] Trial 10 finished with value: 0.7284325546963074 and parameters: {'n_estimators': 404, 'learning_rate': 0.013798930350914508}. Best is trial 0 with value: 0.748345048655575.\n",
      "[I 2024-12-11 09:57:24,262] Trial 11 finished with value: 0.7468584319310694 and parameters: {'n_estimators': 358, 'learning_rate': 1.8969818117805326}. Best is trial 0 with value: 0.748345048655575.\n",
      "[I 2024-12-11 09:57:25,644] Trial 12 finished with value: 0.7370306506791127 and parameters: {'n_estimators': 492, 'learning_rate': 1.950859507660337}. Best is trial 0 with value: 0.748345048655575.\n",
      "[I 2024-12-11 09:57:26,658] Trial 13 finished with value: 0.7423640727774573 and parameters: {'n_estimators': 360, 'learning_rate': 0.39917793211920755}. Best is trial 0 with value: 0.748345048655575.\n",
      "[I 2024-12-11 09:57:27,642] Trial 14 finished with value: 0.751819448427905 and parameters: {'n_estimators': 342, 'learning_rate': 0.359935338327715}. Best is trial 14 with value: 0.751819448427905.\n",
      "[I 2024-12-11 09:57:28,185] Trial 15 finished with value: 0.7390668953730593 and parameters: {'n_estimators': 136, 'learning_rate': 0.23822259329993883}. Best is trial 14 with value: 0.751819448427905.\n",
      "[I 2024-12-11 09:57:28,559] Trial 16 finished with value: 0.7021432886633339 and parameters: {'n_estimators': 62, 'learning_rate': 0.061800951741188936}. Best is trial 14 with value: 0.751819448427905.\n",
      "[I 2024-12-11 09:57:29,736] Trial 17 finished with value: 0.7442071813611767 and parameters: {'n_estimators': 422, 'learning_rate': 0.4369135866167795}. Best is trial 14 with value: 0.751819448427905.\n",
      "[I 2024-12-11 09:57:30,698] Trial 18 finished with value: 0.7445405965497189 and parameters: {'n_estimators': 321, 'learning_rate': 0.7741775062810534}. Best is trial 14 with value: 0.751819448427905.\n",
      "[I 2024-12-11 09:57:32,016] Trial 19 finished with value: 0.7378081345399761 and parameters: {'n_estimators': 498, 'learning_rate': 0.06829599984123812}. Best is trial 14 with value: 0.751819448427905.\n",
      "[I 2024-12-11 09:57:32,755] A new study created in memory with name: no-name-b0c25bd2-7a6f-446c-9b83-7160c3e37e15\n",
      "[I 2024-12-11 09:57:33,493] Trial 0 finished with value: 0.732598051248827 and parameters: {'n_estimators': 219, 'learning_rate': 0.032217515201313364}. Best is trial 0 with value: 0.732598051248827.\n",
      "[I 2024-12-11 09:57:34,105] Trial 1 finished with value: 0.7479559949575345 and parameters: {'n_estimators': 156, 'learning_rate': 0.6214879267637154}. Best is trial 1 with value: 0.7479559949575345.\n",
      "[I 2024-12-11 09:57:34,822] Trial 2 finished with value: 0.7424538085074618 and parameters: {'n_estimators': 209, 'learning_rate': 0.055864212535688025}. Best is trial 1 with value: 0.7479559949575345.\n",
      "[I 2024-12-11 09:57:35,802] Trial 3 finished with value: 0.7458775770731757 and parameters: {'n_estimators': 334, 'learning_rate': 0.6715640972423275}. Best is trial 1 with value: 0.7479559949575345.\n",
      "[I 2024-12-11 09:57:37,023] Trial 4 finished with value: 0.7422703045878123 and parameters: {'n_estimators': 451, 'learning_rate': 0.0721820379190735}. Best is trial 1 with value: 0.7479559949575345.\n",
      "[I 2024-12-11 09:57:37,729] Trial 5 finished with value: 0.7362624282799951 and parameters: {'n_estimators': 210, 'learning_rate': 0.03281810038248859}. Best is trial 1 with value: 0.7479559949575345.\n",
      "[I 2024-12-11 09:57:38,110] Trial 6 finished with value: 0.6787068848898287 and parameters: {'n_estimators': 57, 'learning_rate': 0.024813738022521452}. Best is trial 1 with value: 0.7479559949575345.\n",
      "[I 2024-12-11 09:57:38,839] Trial 7 finished with value: 0.7433416320693624 and parameters: {'n_estimators': 213, 'learning_rate': 0.17565128958866957}. Best is trial 1 with value: 0.7479559949575345.\n",
      "[I 2024-12-11 09:57:39,767] Trial 8 finished with value: 0.7404744889645442 and parameters: {'n_estimators': 306, 'learning_rate': 0.09798957943758042}. Best is trial 1 with value: 0.7479559949575345.\n",
      "[I 2024-12-11 09:57:40,264] Trial 9 finished with value: 0.7444907148691915 and parameters: {'n_estimators': 116, 'learning_rate': 0.7820955312868657}. Best is trial 1 with value: 0.7479559949575345.\n",
      "[I 2024-12-11 09:57:41,646] Trial 10 finished with value: 0.7452449827833817 and parameters: {'n_estimators': 500, 'learning_rate': 1.9232900475210577}. Best is trial 1 with value: 0.7479559949575345.\n",
      "[I 2024-12-11 09:57:42,661] Trial 11 finished with value: 0.7458197705206903 and parameters: {'n_estimators': 355, 'learning_rate': 0.3515908326008728}. Best is trial 1 with value: 0.7479559949575345.\n",
      "[I 2024-12-11 09:57:43,740] Trial 12 finished with value: 0.7542393284707671 and parameters: {'n_estimators': 368, 'learning_rate': 0.6651090187292831}. Best is trial 12 with value: 0.7542393284707671.\n",
      "[I 2024-12-11 09:57:44,954] Trial 13 finished with value: 0.7457348741000394 and parameters: {'n_estimators': 423, 'learning_rate': 1.5924545008175837}. Best is trial 12 with value: 0.7542393284707671.\n",
      "[I 2024-12-11 09:57:45,466] Trial 14 finished with value: 0.7448954810626789 and parameters: {'n_estimators': 116, 'learning_rate': 0.2648272039463232}. Best is trial 12 with value: 0.7542393284707671.\n",
      "[I 2024-12-11 09:57:46,345] Trial 15 finished with value: 0.7515557288910661 and parameters: {'n_estimators': 273, 'learning_rate': 0.8375395902020731}. Best is trial 12 with value: 0.7542393284707671.\n",
      "[I 2024-12-11 09:57:47,433] Trial 16 finished with value: 0.7619027958174013 and parameters: {'n_estimators': 372, 'learning_rate': 0.871161430053225}. Best is trial 16 with value: 0.7619027958174013.\n",
      "[I 2024-12-11 09:57:48,533] Trial 17 finished with value: 0.7072523894938095 and parameters: {'n_estimators': 386, 'learning_rate': 0.011660873314214434}. Best is trial 16 with value: 0.7619027958174013.\n",
      "[I 2024-12-11 09:57:49,664] Trial 18 finished with value: 0.7464099443341176 and parameters: {'n_estimators': 406, 'learning_rate': 0.27899940953191366}. Best is trial 16 with value: 0.7619027958174013.\n",
      "[I 2024-12-11 09:57:50,597] Trial 19 finished with value: 0.7630173452020031 and parameters: {'n_estimators': 287, 'learning_rate': 1.2242382872525421}. Best is trial 19 with value: 0.7630173452020031.\n",
      "[I 2024-12-11 09:57:51,294] A new study created in memory with name: no-name-b2bfad5c-6896-4b84-b99d-0a72a39bc034\n",
      "[I 2024-12-11 09:57:52,326] Trial 0 finished with value: 0.7414972925244799 and parameters: {'n_estimators': 375, 'learning_rate': 0.03434138117900318}. Best is trial 0 with value: 0.7414972925244799.\n",
      "[I 2024-12-11 09:57:52,931] Trial 1 finished with value: 0.6793790855829859 and parameters: {'n_estimators': 160, 'learning_rate': 0.013406581635343709}. Best is trial 0 with value: 0.7414972925244799.\n",
      "[I 2024-12-11 09:57:53,624] Trial 2 finished with value: 0.6839285828952966 and parameters: {'n_estimators': 188, 'learning_rate': 0.015130961980015326}. Best is trial 0 with value: 0.7414972925244799.\n",
      "[I 2024-12-11 09:57:54,929] Trial 3 finished with value: 0.7528680715469002 and parameters: {'n_estimators': 496, 'learning_rate': 0.5424052905969179}. Best is trial 3 with value: 0.7528680715469002.\n",
      "[I 2024-12-11 09:57:55,455] Trial 4 finished with value: 0.742188309957513 and parameters: {'n_estimators': 115, 'learning_rate': 0.1667274556375002}. Best is trial 3 with value: 0.7528680715469002.\n",
      "[I 2024-12-11 09:57:55,963] Trial 5 finished with value: 0.744700003754055 and parameters: {'n_estimators': 111, 'learning_rate': 0.25244542362009814}. Best is trial 3 with value: 0.7528680715469002.\n",
      "[I 2024-12-11 09:57:56,775] Trial 6 finished with value: 0.7477920475110039 and parameters: {'n_estimators': 266, 'learning_rate': 0.36929291490700406}. Best is trial 3 with value: 0.7528680715469002.\n",
      "[I 2024-12-11 09:57:57,883] Trial 7 finished with value: 0.750990504988948 and parameters: {'n_estimators': 392, 'learning_rate': 0.69070709296887}. Best is trial 3 with value: 0.7528680715469002.\n",
      "[I 2024-12-11 09:57:59,169] Trial 8 finished with value: 0.7481552651739924 and parameters: {'n_estimators': 487, 'learning_rate': 0.1973075930506288}. Best is trial 3 with value: 0.7528680715469002.\n",
      "[I 2024-12-11 09:57:59,551] Trial 9 finished with value: 0.7397434567001551 and parameters: {'n_estimators': 62, 'learning_rate': 0.7479841677572932}. Best is trial 3 with value: 0.7528680715469002.\n",
      "[I 2024-12-11 09:58:00,881] Trial 10 finished with value: 0.7544467566718606 and parameters: {'n_estimators': 493, 'learning_rate': 1.6583452727745067}. Best is trial 10 with value: 0.7544467566718606.\n",
      "[I 2024-12-11 09:58:02,243] Trial 11 finished with value: 0.7499888792434051 and parameters: {'n_estimators': 498, 'learning_rate': 1.6953904657536885}. Best is trial 10 with value: 0.7544467566718606.\n",
      "[I 2024-12-11 09:58:03,425] Trial 12 finished with value: 0.7425824648019091 and parameters: {'n_estimators': 412, 'learning_rate': 1.8586977535141553}. Best is trial 10 with value: 0.7544467566718606.\n",
      "[I 2024-12-11 09:58:04,387] Trial 13 finished with value: 0.7550469253582102 and parameters: {'n_estimators': 328, 'learning_rate': 0.7670016968711306}. Best is trial 13 with value: 0.7550469253582102.\n",
      "[I 2024-12-11 09:58:05,296] Trial 14 finished with value: 0.753083834368026 and parameters: {'n_estimators': 303, 'learning_rate': 1.186927114918958}. Best is trial 13 with value: 0.7550469253582102.\n",
      "[I 2024-12-11 09:58:06,205] Trial 15 finished with value: 0.7406619163507151 and parameters: {'n_estimators': 296, 'learning_rate': 0.07813667981242878}. Best is trial 13 with value: 0.7550469253582102.\n",
      "[I 2024-12-11 09:58:07,407] Trial 16 finished with value: 0.7457711321131456 and parameters: {'n_estimators': 432, 'learning_rate': 0.09624894492887139}. Best is trial 13 with value: 0.7550469253582102.\n",
      "[I 2024-12-11 09:58:08,381] Trial 17 finished with value: 0.7523111285620746 and parameters: {'n_estimators': 336, 'learning_rate': 1.0399089036021696}. Best is trial 13 with value: 0.7550469253582102.\n",
      "[I 2024-12-11 09:58:09,165] Trial 18 finished with value: 0.7459514214121005 and parameters: {'n_estimators': 237, 'learning_rate': 0.4176186162902617}. Best is trial 13 with value: 0.7550469253582102.\n",
      "[I 2024-12-11 09:58:10,360] Trial 19 finished with value: 0.7508249640072897 and parameters: {'n_estimators': 438, 'learning_rate': 1.1607653196559669}. Best is trial 13 with value: 0.7550469253582102.\n",
      "[I 2024-12-11 09:58:11,128] A new study created in memory with name: no-name-8cd9fa0f-cc4c-4b27-b0d4-9a5aff3d5e16\n",
      "[I 2024-12-11 09:58:11,900] Trial 0 finished with value: 0.7418336941203232 and parameters: {'n_estimators': 244, 'learning_rate': 1.9115522090316373}. Best is trial 0 with value: 0.7418336941203232.\n",
      "[I 2024-12-11 09:58:12,420] Trial 1 finished with value: 0.731822788579306 and parameters: {'n_estimators': 128, 'learning_rate': 0.05117266393985446}. Best is trial 0 with value: 0.7418336941203232.\n",
      "[I 2024-12-11 09:58:13,733] Trial 2 finished with value: 0.7455553864777235 and parameters: {'n_estimators': 476, 'learning_rate': 0.07871194661260046}. Best is trial 2 with value: 0.7455553864777235.\n",
      "[I 2024-12-11 09:58:14,380] Trial 3 finished with value: 0.7497689517156376 and parameters: {'n_estimators': 179, 'learning_rate': 0.6985434414127898}. Best is trial 3 with value: 0.7497689517156376.\n",
      "[I 2024-12-11 09:58:15,140] Trial 4 finished with value: 0.7484620411230108 and parameters: {'n_estimators': 229, 'learning_rate': 1.0889253714940057}. Best is trial 3 with value: 0.7497689517156376.\n",
      "[I 2024-12-11 09:58:15,857] Trial 5 finished with value: 0.7484222266973983 and parameters: {'n_estimators': 214, 'learning_rate': 1.8715859086419875}. Best is trial 3 with value: 0.7497689517156376.\n",
      "[I 2024-12-11 09:58:16,915] Trial 6 finished with value: 0.7542116102687023 and parameters: {'n_estimators': 372, 'learning_rate': 0.5956915276127184}. Best is trial 6 with value: 0.7542116102687023.\n",
      "[I 2024-12-11 09:58:18,174] Trial 7 finished with value: 0.7507759314592717 and parameters: {'n_estimators': 467, 'learning_rate': 0.20062499935546135}. Best is trial 6 with value: 0.7542116102687023.\n",
      "[I 2024-12-11 09:58:18,925] Trial 8 finished with value: 0.7467066849525497 and parameters: {'n_estimators': 224, 'learning_rate': 0.18797075292559043}. Best is trial 6 with value: 0.7542116102687023.\n",
      "[I 2024-12-11 09:58:20,194] Trial 9 finished with value: 0.7445058426300267 and parameters: {'n_estimators': 468, 'learning_rate': 0.047916818777507295}. Best is trial 6 with value: 0.7542116102687023.\n",
      "[I 2024-12-11 09:58:21,261] Trial 10 finished with value: 0.7312992252311041 and parameters: {'n_estimators': 373, 'learning_rate': 0.017122370703994343}. Best is trial 6 with value: 0.7542116102687023.\n",
      "[I 2024-12-11 09:58:22,321] Trial 11 finished with value: 0.7465211163977155 and parameters: {'n_estimators': 362, 'learning_rate': 0.3132618519904018}. Best is trial 6 with value: 0.7542116102687023.\n",
      "[I 2024-12-11 09:58:23,369] Trial 12 finished with value: 0.751154634419443 and parameters: {'n_estimators': 351, 'learning_rate': 0.4392000124552296}. Best is trial 6 with value: 0.7542116102687023.\n",
      "[I 2024-12-11 09:58:24,352] Trial 13 finished with value: 0.7474431938478249 and parameters: {'n_estimators': 337, 'learning_rate': 0.46590906308590974}. Best is trial 6 with value: 0.7542116102687023.\n",
      "[I 2024-12-11 09:58:25,272] Trial 14 finished with value: 0.7481545626423504 and parameters: {'n_estimators': 304, 'learning_rate': 0.43705324916869115}. Best is trial 6 with value: 0.7542116102687023.\n",
      "[I 2024-12-11 09:58:26,443] Trial 15 finished with value: 0.7582358804705661 and parameters: {'n_estimators': 405, 'learning_rate': 0.846687846899993}. Best is trial 15 with value: 0.7582358804705661.\n",
      "[I 2024-12-11 09:58:27,593] Trial 16 finished with value: 0.7509865353621705 and parameters: {'n_estimators': 402, 'learning_rate': 0.8863734044466943}. Best is trial 15 with value: 0.7582358804705661.\n",
      "[I 2024-12-11 09:58:28,756] Trial 17 finished with value: 0.7451130801723181 and parameters: {'n_estimators': 421, 'learning_rate': 0.10570701941153929}. Best is trial 15 with value: 0.7582358804705661.\n",
      "[I 2024-12-11 09:58:29,691] Trial 18 finished with value: 0.6910878709330155 and parameters: {'n_estimators': 303, 'learning_rate': 0.010273056712750667}. Best is trial 15 with value: 0.7582358804705661.\n",
      "[I 2024-12-11 09:58:30,849] Trial 19 finished with value: 0.7582558206913048 and parameters: {'n_estimators': 419, 'learning_rate': 1.1107215985190773}. Best is trial 19 with value: 0.7582558206913048.\n",
      "[I 2024-12-11 09:58:31,704] A new study created in memory with name: no-name-377a5ada-50f7-4b0a-8ac9-b060019339b7\n",
      "[I 2024-12-11 09:58:33,041] Trial 0 finished with value: 0.7414928958584035 and parameters: {'n_estimators': 494, 'learning_rate': 0.10501806102400159}. Best is trial 0 with value: 0.7414928958584035.\n",
      "[I 2024-12-11 09:58:34,168] Trial 1 finished with value: 0.7465614656691593 and parameters: {'n_estimators': 415, 'learning_rate': 0.30332452669855997}. Best is trial 1 with value: 0.7465614656691593.\n",
      "[I 2024-12-11 09:58:34,571] Trial 2 finished with value: 0.7388401945078703 and parameters: {'n_estimators': 61, 'learning_rate': 1.536490571665945}. Best is trial 1 with value: 0.7465614656691593.\n",
      "[I 2024-12-11 09:58:35,550] Trial 3 finished with value: 0.7550354869664898 and parameters: {'n_estimators': 323, 'learning_rate': 1.157135778745835}. Best is trial 3 with value: 0.7550354869664898.\n",
      "[I 2024-12-11 09:58:36,370] Trial 4 finished with value: 0.7302546457802774 and parameters: {'n_estimators': 253, 'learning_rate': 0.03751474843672862}. Best is trial 3 with value: 0.7550354869664898.\n",
      "[I 2024-12-11 09:58:37,571] Trial 5 finished with value: 0.742385547111779 and parameters: {'n_estimators': 431, 'learning_rate': 0.15364936499779586}. Best is trial 3 with value: 0.7550354869664898.\n",
      "[I 2024-12-11 09:58:38,247] Trial 6 finished with value: 0.7285321063062562 and parameters: {'n_estimators': 194, 'learning_rate': 0.043839403457826935}. Best is trial 3 with value: 0.7550354869664898.\n",
      "[I 2024-12-11 09:58:39,500] Trial 7 finished with value: 0.7380151477610468 and parameters: {'n_estimators': 460, 'learning_rate': 0.05258425240345353}. Best is trial 3 with value: 0.7550354869664898.\n",
      "[I 2024-12-11 09:58:39,954] Trial 8 finished with value: 0.7436285504501734 and parameters: {'n_estimators': 88, 'learning_rate': 1.2062713406572956}. Best is trial 3 with value: 0.7550354869664898.\n",
      "[I 2024-12-11 09:58:40,431] Trial 9 finished with value: 0.7328213731949978 and parameters: {'n_estimators': 105, 'learning_rate': 0.18519807735422966}. Best is trial 3 with value: 0.7550354869664898.\n",
      "[I 2024-12-11 09:58:41,457] Trial 10 finished with value: 0.7059827718194005 and parameters: {'n_estimators': 356, 'learning_rate': 0.011496523196155541}. Best is trial 3 with value: 0.7550354869664898.\n",
      "[I 2024-12-11 09:58:42,482] Trial 11 finished with value: 0.7438223628028872 and parameters: {'n_estimators': 359, 'learning_rate': 0.5124441285829193}. Best is trial 3 with value: 0.7550354869664898.\n",
      "[I 2024-12-11 09:58:43,467] Trial 12 finished with value: 0.7503327928886918 and parameters: {'n_estimators': 358, 'learning_rate': 0.5298315871583171}. Best is trial 3 with value: 0.7550354869664898.\n",
      "[I 2024-12-11 09:58:44,386] Trial 13 finished with value: 0.7464563152504256 and parameters: {'n_estimators': 309, 'learning_rate': 0.7834185597132174}. Best is trial 3 with value: 0.7550354869664898.\n",
      "[I 2024-12-11 09:58:45,267] Trial 14 finished with value: 0.7207484359192747 and parameters: {'n_estimators': 263, 'learning_rate': 1.9649562637428422}. Best is trial 3 with value: 0.7550354869664898.\n",
      "[I 2024-12-11 09:58:45,932] Trial 15 finished with value: 0.7404553113695351 and parameters: {'n_estimators': 192, 'learning_rate': 0.49765061847194964}. Best is trial 3 with value: 0.7550354869664898.\n",
      "[I 2024-12-11 09:58:46,935] Trial 16 finished with value: 0.7478005054202029 and parameters: {'n_estimators': 351, 'learning_rate': 0.833470191737746}. Best is trial 3 with value: 0.7550354869664898.\n",
      "[I 2024-12-11 09:58:47,678] Trial 17 finished with value: 0.7422545101314791 and parameters: {'n_estimators': 217, 'learning_rate': 0.34540453418573386}. Best is trial 3 with value: 0.7550354869664898.\n",
      "[I 2024-12-11 09:58:48,650] Trial 18 finished with value: 0.7480958413953415 and parameters: {'n_estimators': 308, 'learning_rate': 0.8857811653196952}. Best is trial 3 with value: 0.7550354869664898.\n",
      "[I 2024-12-11 09:58:49,791] Trial 19 finished with value: 0.7452820445135099 and parameters: {'n_estimators': 394, 'learning_rate': 0.23522808716224747}. Best is trial 3 with value: 0.7550354869664898.\n",
      "[I 2024-12-11 09:58:50,451] A new study created in memory with name: no-name-f0658a61-02c1-4a33-a729-5e97e94523fd\n",
      "[I 2024-12-11 09:58:51,052] Trial 0 finished with value: 0.7236865411525859 and parameters: {'n_estimators': 153, 'learning_rate': 1.9530681438701292}. Best is trial 0 with value: 0.7236865411525859.\n",
      "[I 2024-12-11 09:58:52,170] Trial 1 finished with value: 0.7482904688073014 and parameters: {'n_estimators': 382, 'learning_rate': 1.0005107892997744}. Best is trial 1 with value: 0.7482904688073014.\n",
      "[I 2024-12-11 09:58:52,635] Trial 2 finished with value: 0.7127374134944499 and parameters: {'n_estimators': 93, 'learning_rate': 1.9934494948754908}. Best is trial 1 with value: 0.7482904688073014.\n",
      "[I 2024-12-11 09:58:53,858] Trial 3 finished with value: 0.7462485387768492 and parameters: {'n_estimators': 432, 'learning_rate': 1.1052529272001659}. Best is trial 1 with value: 0.7482904688073014.\n",
      "[I 2024-12-11 09:58:54,364] Trial 4 finished with value: 0.7415774173344196 and parameters: {'n_estimators': 116, 'learning_rate': 0.19532947608141987}. Best is trial 1 with value: 0.7482904688073014.\n",
      "[I 2024-12-11 09:58:54,989] Trial 5 finished with value: 0.7409060386236276 and parameters: {'n_estimators': 178, 'learning_rate': 0.6675128392407528}. Best is trial 1 with value: 0.7482904688073014.\n",
      "[I 2024-12-11 09:58:55,944] Trial 6 finished with value: 0.7416083651132421 and parameters: {'n_estimators': 334, 'learning_rate': 0.31859829377575066}. Best is trial 1 with value: 0.7482904688073014.\n",
      "[I 2024-12-11 09:58:56,409] Trial 7 finished with value: 0.6624654297271355 and parameters: {'n_estimators': 88, 'learning_rate': 0.012493291689882004}. Best is trial 1 with value: 0.7482904688073014.\n",
      "[I 2024-12-11 09:58:57,054] Trial 8 finished with value: 0.7441213911722367 and parameters: {'n_estimators': 179, 'learning_rate': 1.831872304608904}. Best is trial 1 with value: 0.7482904688073014.\n",
      "[I 2024-12-11 09:58:57,426] Trial 9 finished with value: 0.7323883088910578 and parameters: {'n_estimators': 52, 'learning_rate': 0.12815661284261706}. Best is trial 1 with value: 0.7482904688073014.\n",
      "[I 2024-12-11 09:58:58,733] Trial 10 finished with value: 0.738723113561451 and parameters: {'n_estimators': 490, 'learning_rate': 0.05723044763127326}. Best is trial 1 with value: 0.7482904688073014.\n",
      "[I 2024-12-11 09:58:59,924] Trial 11 finished with value: 0.7448380231247355 and parameters: {'n_estimators': 412, 'learning_rate': 0.605799634669449}. Best is trial 1 with value: 0.7482904688073014.\n",
      "[I 2024-12-11 09:59:00,960] Trial 12 finished with value: 0.7507161718045547 and parameters: {'n_estimators': 357, 'learning_rate': 0.6143001805610951}. Best is trial 12 with value: 0.7507161718045547.\n",
      "[I 2024-12-11 09:59:01,829] Trial 13 finished with value: 0.737782428189234 and parameters: {'n_estimators': 293, 'learning_rate': 0.4723605268134208}. Best is trial 12 with value: 0.7507161718045547.\n",
      "[I 2024-12-11 09:59:02,874] Trial 14 finished with value: 0.7359590831906219 and parameters: {'n_estimators': 362, 'learning_rate': 0.06796023291607634}. Best is trial 12 with value: 0.7507161718045547.\n",
      "[I 2024-12-11 09:59:03,669] Trial 15 finished with value: 0.7420108680466686 and parameters: {'n_estimators': 235, 'learning_rate': 0.2890356251287173}. Best is trial 12 with value: 0.7507161718045547.\n",
      "[I 2024-12-11 09:59:04,725] Trial 16 finished with value: 0.7449132101210689 and parameters: {'n_estimators': 370, 'learning_rate': 0.8937907997374807}. Best is trial 12 with value: 0.7507161718045547.\n",
      "[I 2024-12-11 09:59:05,615] Trial 17 finished with value: 0.739661073203443 and parameters: {'n_estimators': 276, 'learning_rate': 0.10331224272615695}. Best is trial 12 with value: 0.7507161718045547.\n",
      "[I 2024-12-11 09:59:06,906] Trial 18 finished with value: 0.7295690444114239 and parameters: {'n_estimators': 470, 'learning_rate': 0.01647477120687789}. Best is trial 12 with value: 0.7507161718045547.\n",
      "[I 2024-12-11 09:59:08,076] Trial 19 finished with value: 0.7443078712451208 and parameters: {'n_estimators': 413, 'learning_rate': 0.33334190670369773}. Best is trial 12 with value: 0.7507161718045547.\n",
      "[I 2024-12-11 09:59:08,858] A new study created in memory with name: no-name-f271f462-1995-4335-85bf-cd559ca1f907\n",
      "[I 2024-12-11 09:59:09,649] Trial 0 finished with value: 0.7456193871933819 and parameters: {'n_estimators': 258, 'learning_rate': 0.2650522032549721}. Best is trial 0 with value: 0.7456193871933819.\n",
      "[I 2024-12-11 09:59:10,775] Trial 1 finished with value: 0.7335919231890013 and parameters: {'n_estimators': 413, 'learning_rate': 0.01795722905326567}. Best is trial 0 with value: 0.7456193871933819.\n",
      "[I 2024-12-11 09:59:11,220] Trial 2 finished with value: 0.7391267435224778 and parameters: {'n_estimators': 79, 'learning_rate': 0.9340673826751096}. Best is trial 0 with value: 0.7456193871933819.\n",
      "[I 2024-12-11 09:59:11,781] Trial 3 finished with value: 0.74950170487691 and parameters: {'n_estimators': 136, 'learning_rate': 1.3671696453545}. Best is trial 3 with value: 0.74950170487691.\n",
      "[I 2024-12-11 09:59:12,710] Trial 4 finished with value: 0.7110052079763751 and parameters: {'n_estimators': 307, 'learning_rate': 0.014312709930685993}. Best is trial 3 with value: 0.74950170487691.\n",
      "[I 2024-12-11 09:59:13,240] Trial 5 finished with value: 0.714741009971979 and parameters: {'n_estimators': 111, 'learning_rate': 0.04019679693805503}. Best is trial 3 with value: 0.74950170487691.\n",
      "[I 2024-12-11 09:59:13,664] Trial 6 finished with value: 0.6667270280974855 and parameters: {'n_estimators': 64, 'learning_rate': 0.014796447676332326}. Best is trial 3 with value: 0.74950170487691.\n",
      "[I 2024-12-11 09:59:14,926] Trial 7 finished with value: 0.7408259716115142 and parameters: {'n_estimators': 442, 'learning_rate': 0.043962641397957185}. Best is trial 3 with value: 0.74950170487691.\n",
      "[I 2024-12-11 09:59:16,091] Trial 8 finished with value: 0.7442844031300414 and parameters: {'n_estimators': 424, 'learning_rate': 1.786416782884696}. Best is trial 3 with value: 0.74950170487691.\n",
      "[I 2024-12-11 09:59:17,218] Trial 9 finished with value: 0.7478013482483722 and parameters: {'n_estimators': 397, 'learning_rate': 0.2877210211334214}. Best is trial 3 with value: 0.74950170487691.\n",
      "[I 2024-12-11 09:59:17,917] Trial 10 finished with value: 0.7418414870688005 and parameters: {'n_estimators': 208, 'learning_rate': 0.6284521114594143}. Best is trial 3 with value: 0.74950170487691.\n",
      "[I 2024-12-11 09:59:18,921] Trial 11 finished with value: 0.7450874747110794 and parameters: {'n_estimators': 319, 'learning_rate': 0.2122457724293735}. Best is trial 3 with value: 0.74950170487691.\n",
      "[I 2024-12-11 09:59:19,579] Trial 12 finished with value: 0.7404739280358938 and parameters: {'n_estimators': 177, 'learning_rate': 0.49214030199756753}. Best is trial 3 with value: 0.74950170487691.\n",
      "[I 2024-12-11 09:59:20,636] Trial 13 finished with value: 0.7449348871636894 and parameters: {'n_estimators': 362, 'learning_rate': 1.7760309567288173}. Best is trial 3 with value: 0.74950170487691.\n",
      "[I 2024-12-11 09:59:22,010] Trial 14 finished with value: 0.7453649943444806 and parameters: {'n_estimators': 500, 'learning_rate': 0.10303976549325693}. Best is trial 3 with value: 0.74950170487691.\n",
      "[I 2024-12-11 09:59:22,564] Trial 15 finished with value: 0.7399071644173225 and parameters: {'n_estimators': 141, 'learning_rate': 0.1037708437882666}. Best is trial 3 with value: 0.74950170487691.\n",
      "[I 2024-12-11 09:59:23,328] Trial 16 finished with value: 0.7456376940085495 and parameters: {'n_estimators': 231, 'learning_rate': 0.427396699635228}. Best is trial 3 with value: 0.74950170487691.\n",
      "[I 2024-12-11 09:59:24,354] Trial 17 finished with value: 0.751199079616305 and parameters: {'n_estimators': 340, 'learning_rate': 1.0038954119396684}. Best is trial 17 with value: 0.751199079616305.\n",
      "[I 2024-12-11 09:59:25,275] Trial 18 finished with value: 0.746277722034979 and parameters: {'n_estimators': 307, 'learning_rate': 1.0976537678016953}. Best is trial 17 with value: 0.751199079616305.\n",
      "[I 2024-12-11 09:59:25,953] Trial 19 finished with value: 0.7511857098238088 and parameters: {'n_estimators': 183, 'learning_rate': 1.0012294074192183}. Best is trial 17 with value: 0.751199079616305.\n",
      "[I 2024-12-11 09:59:26,687] A new study created in memory with name: no-name-69c57d8e-7e6a-428d-8f22-49d507595fa4\n",
      "[I 2024-12-11 09:59:27,909] Trial 0 finished with value: 0.7397356273726636 and parameters: {'n_estimators': 451, 'learning_rate': 0.03802615678949181}. Best is trial 0 with value: 0.7397356273726636.\n",
      "[I 2024-12-11 09:59:28,794] Trial 1 finished with value: 0.7342851463439087 and parameters: {'n_estimators': 305, 'learning_rate': 0.03428881649502235}. Best is trial 0 with value: 0.7397356273726636.\n",
      "[I 2024-12-11 09:59:30,099] Trial 2 finished with value: 0.7371891528806144 and parameters: {'n_estimators': 475, 'learning_rate': 0.04122792592618587}. Best is trial 0 with value: 0.7397356273726636.\n",
      "[I 2024-12-11 09:59:31,099] Trial 3 finished with value: 0.7305637289148331 and parameters: {'n_estimators': 318, 'learning_rate': 0.01902748936372943}. Best is trial 0 with value: 0.7397356273726636.\n",
      "[I 2024-12-11 09:59:32,205] Trial 4 finished with value: 0.7451105295599488 and parameters: {'n_estimators': 400, 'learning_rate': 0.11589098174179312}. Best is trial 4 with value: 0.7451105295599488.\n",
      "[I 2024-12-11 09:59:32,912] Trial 5 finished with value: 0.7436746972645986 and parameters: {'n_estimators': 209, 'learning_rate': 0.1652686981047135}. Best is trial 4 with value: 0.7451105295599488.\n",
      "[I 2024-12-11 09:59:34,231] Trial 6 finished with value: 0.7339979892074721 and parameters: {'n_estimators': 475, 'learning_rate': 0.02101154981396139}. Best is trial 4 with value: 0.7451105295599488.\n",
      "[I 2024-12-11 09:59:35,104] Trial 7 finished with value: 0.7110137224764271 and parameters: {'n_estimators': 289, 'learning_rate': 0.015501649276023018}. Best is trial 4 with value: 0.7451105295599488.\n",
      "[I 2024-12-11 09:59:36,020] Trial 8 finished with value: 0.7421066710152826 and parameters: {'n_estimators': 288, 'learning_rate': 0.1872972119709098}. Best is trial 4 with value: 0.7451105295599488.\n",
      "[I 2024-12-11 09:59:36,390] Trial 9 finished with value: 0.7345303083582885 and parameters: {'n_estimators': 53, 'learning_rate': 0.6662328648558868}. Best is trial 4 with value: 0.7451105295599488.\n",
      "[I 2024-12-11 09:59:37,536] Trial 10 finished with value: 0.746303134465719 and parameters: {'n_estimators': 384, 'learning_rate': 1.4886366136372937}. Best is trial 10 with value: 0.746303134465719.\n",
      "[I 2024-12-11 09:59:38,656] Trial 11 finished with value: 0.7167507170512262 and parameters: {'n_estimators': 386, 'learning_rate': 1.9872175022236747}. Best is trial 10 with value: 0.746303134465719.\n",
      "[I 2024-12-11 09:59:39,766] Trial 12 finished with value: 0.7444388426281027 and parameters: {'n_estimators': 377, 'learning_rate': 0.42686202514873933}. Best is trial 10 with value: 0.746303134465719.\n",
      "[I 2024-12-11 09:59:40,467] Trial 13 finished with value: 0.7382793338945675 and parameters: {'n_estimators': 209, 'learning_rate': 0.08166019156302422}. Best is trial 10 with value: 0.746303134465719.\n",
      "[I 2024-12-11 09:59:41,609] Trial 14 finished with value: 0.7386589648935254 and parameters: {'n_estimators': 398, 'learning_rate': 1.9338346800685207}. Best is trial 10 with value: 0.746303134465719.\n",
      "[I 2024-12-11 09:59:42,320] Trial 15 finished with value: 0.740911862065246 and parameters: {'n_estimators': 209, 'learning_rate': 0.464597595078345}. Best is trial 10 with value: 0.746303134465719.\n",
      "[I 2024-12-11 09:59:43,509] Trial 16 finished with value: 0.7425180971702116 and parameters: {'n_estimators': 419, 'learning_rate': 0.09002357502939191}. Best is trial 10 with value: 0.746303134465719.\n",
      "[I 2024-12-11 09:59:44,546] Trial 17 finished with value: 0.7534173801476219 and parameters: {'n_estimators': 351, 'learning_rate': 0.8484713870786464}. Best is trial 17 with value: 0.7534173801476219.\n",
      "[I 2024-12-11 09:59:45,561] Trial 18 finished with value: 0.7497042365993913 and parameters: {'n_estimators': 350, 'learning_rate': 0.9630646948226778}. Best is trial 17 with value: 0.7534173801476219.\n",
      "[I 2024-12-11 09:59:46,104] Trial 19 finished with value: 0.7510565108342389 and parameters: {'n_estimators': 130, 'learning_rate': 0.9590619305224926}. Best is trial 17 with value: 0.7534173801476219.\n",
      "[I 2024-12-11 09:59:46,881] A new study created in memory with name: no-name-ed3f48ab-a189-4070-ac66-16839e4cde13\n",
      "[I 2024-12-11 09:59:47,881] Trial 0 finished with value: 0.7246678550161608 and parameters: {'n_estimators': 355, 'learning_rate': 0.01378328965159452}. Best is trial 0 with value: 0.7246678550161608.\n",
      "[I 2024-12-11 09:59:48,641] Trial 1 finished with value: 0.7375937411297241 and parameters: {'n_estimators': 241, 'learning_rate': 0.031267389299457084}. Best is trial 1 with value: 0.7375937411297241.\n",
      "[I 2024-12-11 09:59:49,878] Trial 2 finished with value: 0.7531554506858945 and parameters: {'n_estimators': 456, 'learning_rate': 0.3814021248426756}. Best is trial 2 with value: 0.7531554506858945.\n",
      "[I 2024-12-11 09:59:50,868] Trial 3 finished with value: 0.7386114321695058 and parameters: {'n_estimators': 338, 'learning_rate': 0.020096543539724405}. Best is trial 2 with value: 0.7531554506858945.\n",
      "[I 2024-12-11 09:59:51,607] Trial 4 finished with value: 0.7159833244670936 and parameters: {'n_estimators': 212, 'learning_rate': 1.9806697737579186}. Best is trial 2 with value: 0.7531554506858945.\n",
      "[I 2024-12-11 09:59:52,537] Trial 5 finished with value: 0.7462274635865614 and parameters: {'n_estimators': 314, 'learning_rate': 0.02862317543492671}. Best is trial 2 with value: 0.7531554506858945.\n",
      "[I 2024-12-11 09:59:53,055] Trial 6 finished with value: 0.6821506721938314 and parameters: {'n_estimators': 124, 'learning_rate': 0.012780890096572095}. Best is trial 2 with value: 0.7531554506858945.\n",
      "[I 2024-12-11 09:59:53,500] Trial 7 finished with value: 0.7455075318326202 and parameters: {'n_estimators': 85, 'learning_rate': 0.15848468709184538}. Best is trial 2 with value: 0.7531554506858945.\n",
      "[I 2024-12-11 09:59:54,343] Trial 8 finished with value: 0.6901140455501967 and parameters: {'n_estimators': 261, 'learning_rate': 0.010598132758400925}. Best is trial 2 with value: 0.7531554506858945.\n",
      "[I 2024-12-11 09:59:55,197] Trial 9 finished with value: 0.7193197085356672 and parameters: {'n_estimators': 269, 'learning_rate': 0.01787514645258667}. Best is trial 2 with value: 0.7531554506858945.\n",
      "[I 2024-12-11 09:59:56,549] Trial 10 finished with value: 0.7554862155533558 and parameters: {'n_estimators': 498, 'learning_rate': 0.5875069823484461}. Best is trial 10 with value: 0.7554862155533558.\n",
      "[I 2024-12-11 09:59:57,897] Trial 11 finished with value: 0.7576909490693555 and parameters: {'n_estimators': 488, 'learning_rate': 0.5659854562423525}. Best is trial 11 with value: 0.7576909490693555.\n",
      "[I 2024-12-11 09:59:59,248] Trial 12 finished with value: 0.7683983141774325 and parameters: {'n_estimators': 488, 'learning_rate': 0.8596423619908364}. Best is trial 12 with value: 0.7683983141774325.\n",
      "[I 2024-12-11 10:00:00,400] Trial 13 finished with value: 0.7571594544331065 and parameters: {'n_estimators': 419, 'learning_rate': 1.308921476468225}. Best is trial 12 with value: 0.7683983141774325.\n",
      "[I 2024-12-11 10:00:01,542] Trial 14 finished with value: 0.7557545384370222 and parameters: {'n_estimators': 398, 'learning_rate': 0.565609967939667}. Best is trial 12 with value: 0.7683983141774325.\n",
      "[I 2024-12-11 10:00:02,872] Trial 15 finished with value: 0.7511458362996247 and parameters: {'n_estimators': 500, 'learning_rate': 0.17926055778196515}. Best is trial 12 with value: 0.7683983141774325.\n",
      "[I 2024-12-11 10:00:04,057] Trial 16 finished with value: 0.7491149128546598 and parameters: {'n_estimators': 423, 'learning_rate': 0.07597111658715229}. Best is trial 12 with value: 0.7683983141774325.\n",
      "[I 2024-12-11 10:00:04,696] Trial 17 finished with value: 0.7615236514839361 and parameters: {'n_estimators': 181, 'learning_rate': 0.9329632267209236}. Best is trial 12 with value: 0.7683983141774325.\n",
      "[I 2024-12-11 10:00:05,334] Trial 18 finished with value: 0.7613592448231206 and parameters: {'n_estimators': 171, 'learning_rate': 1.084548484770778}. Best is trial 12 with value: 0.7683983141774325.\n",
      "[I 2024-12-11 10:00:05,992] Trial 19 finished with value: 0.748769279358341 and parameters: {'n_estimators': 191, 'learning_rate': 0.2724266997483055}. Best is trial 12 with value: 0.7683983141774325.\n",
      "[I 2024-12-11 10:00:06,985] A new study created in memory with name: no-name-57286573-087b-4b5e-9392-91808b68dfd8\n",
      "[I 2024-12-11 10:00:07,714] Trial 0 finished with value: 0.6938346130991287 and parameters: {'n_estimators': 220, 'learning_rate': 0.016898764754578015}. Best is trial 0 with value: 0.6938346130991287.\n",
      "[I 2024-12-11 10:00:08,963] Trial 1 finished with value: 0.7454590571540854 and parameters: {'n_estimators': 429, 'learning_rate': 0.9065267943636421}. Best is trial 1 with value: 0.7454590571540854.\n",
      "[I 2024-12-11 10:00:09,914] Trial 2 finished with value: 0.7417419780208572 and parameters: {'n_estimators': 326, 'learning_rate': 1.3116130460470858}. Best is trial 1 with value: 0.7454590571540854.\n",
      "[I 2024-12-11 10:00:10,724] Trial 3 finished with value: 0.7110807390732986 and parameters: {'n_estimators': 247, 'learning_rate': 0.016058383348563618}. Best is trial 1 with value: 0.7454590571540854.\n",
      "[I 2024-12-11 10:00:11,521] Trial 4 finished with value: 0.7102443876303387 and parameters: {'n_estimators': 244, 'learning_rate': 0.015282845330355595}. Best is trial 1 with value: 0.7454590571540854.\n",
      "[I 2024-12-11 10:00:12,302] Trial 5 finished with value: 0.6849150038867998 and parameters: {'n_estimators': 242, 'learning_rate': 0.012662044942836764}. Best is trial 1 with value: 0.7454590571540854.\n",
      "[I 2024-12-11 10:00:12,820] Trial 6 finished with value: 0.7323956508867806 and parameters: {'n_estimators': 120, 'learning_rate': 1.8804230869884944}. Best is trial 1 with value: 0.7454590571540854.\n",
      "[I 2024-12-11 10:00:13,360] Trial 7 finished with value: 0.7401803785577544 and parameters: {'n_estimators': 124, 'learning_rate': 0.32055572146056566}. Best is trial 1 with value: 0.7454590571540854.\n",
      "[I 2024-12-11 10:00:13,806] Trial 8 finished with value: 0.6816526850444767 and parameters: {'n_estimators': 92, 'learning_rate': 0.03240433691037438}. Best is trial 1 with value: 0.7454590571540854.\n",
      "[I 2024-12-11 10:00:14,481] Trial 9 finished with value: 0.7376199676542091 and parameters: {'n_estimators': 193, 'learning_rate': 0.06473297720511148}. Best is trial 1 with value: 0.7454590571540854.\n",
      "[I 2024-12-11 10:00:15,789] Trial 10 finished with value: 0.7383087142285097 and parameters: {'n_estimators': 495, 'learning_rate': 0.3979910781419732}. Best is trial 1 with value: 0.7454590571540854.\n",
      "[I 2024-12-11 10:00:16,947] Trial 11 finished with value: 0.726620914142855 and parameters: {'n_estimators': 394, 'learning_rate': 1.9789481325136944}. Best is trial 1 with value: 0.7454590571540854.\n",
      "[I 2024-12-11 10:00:18,024] Trial 12 finished with value: 0.746064014724617 and parameters: {'n_estimators': 369, 'learning_rate': 0.7674885026896706}. Best is trial 12 with value: 0.746064014724617.\n",
      "[I 2024-12-11 10:00:19,207] Trial 13 finished with value: 0.742083299319308 and parameters: {'n_estimators': 414, 'learning_rate': 0.61129548739556}. Best is trial 12 with value: 0.746064014724617.\n",
      "[I 2024-12-11 10:00:20,213] Trial 14 finished with value: 0.7412915277850078 and parameters: {'n_estimators': 345, 'learning_rate': 0.16698390240600008}. Best is trial 12 with value: 0.746064014724617.\n",
      "[I 2024-12-11 10:00:21,533] Trial 15 finished with value: 0.7459575135831813 and parameters: {'n_estimators': 495, 'learning_rate': 0.7958489920416422}. Best is trial 12 with value: 0.746064014724617.\n",
      "[I 2024-12-11 10:00:22,902] Trial 16 finished with value: 0.7362940157286868 and parameters: {'n_estimators': 499, 'learning_rate': 0.1776562736453046}. Best is trial 12 with value: 0.746064014724617.\n",
      "[I 2024-12-11 10:00:23,886] Trial 17 finished with value: 0.7384487933953227 and parameters: {'n_estimators': 322, 'learning_rate': 0.5964928828117991}. Best is trial 12 with value: 0.746064014724617.\n",
      "[I 2024-12-11 10:00:25,132] Trial 18 finished with value: 0.7384546344313097 and parameters: {'n_estimators': 449, 'learning_rate': 0.09427109611050412}. Best is trial 12 with value: 0.746064014724617.\n",
      "[I 2024-12-11 10:00:26,188] Trial 19 finished with value: 0.7445433901165559 and parameters: {'n_estimators': 368, 'learning_rate': 0.34974113235537374}. Best is trial 12 with value: 0.746064014724617.\n",
      "[I 2024-12-11 10:00:27,009] A new study created in memory with name: no-name-919cbdd6-2cb5-4e38-a905-e23cb2ed0163\n",
      "[I 2024-12-11 10:00:28,161] Trial 0 finished with value: 0.7470350784678607 and parameters: {'n_estimators': 420, 'learning_rate': 0.07702926812488951}. Best is trial 0 with value: 0.7470350784678607.\n",
      "[I 2024-12-11 10:00:28,805] Trial 1 finished with value: 0.7535881783171785 and parameters: {'n_estimators': 172, 'learning_rate': 1.1621285298302138}. Best is trial 1 with value: 0.7535881783171785.\n",
      "[I 2024-12-11 10:00:29,617] Trial 2 finished with value: 0.7464091993594929 and parameters: {'n_estimators': 260, 'learning_rate': 0.05313749954525682}. Best is trial 1 with value: 0.7535881783171785.\n",
      "[I 2024-12-11 10:00:30,671] Trial 3 finished with value: 0.752180853592675 and parameters: {'n_estimators': 365, 'learning_rate': 0.6106152625198722}. Best is trial 1 with value: 0.7535881783171785.\n",
      "[I 2024-12-11 10:00:31,662] Trial 4 finished with value: 0.751011400209297 and parameters: {'n_estimators': 351, 'learning_rate': 0.14855152225099014}. Best is trial 1 with value: 0.7535881783171785.\n",
      "[I 2024-12-11 10:00:32,538] Trial 5 finished with value: 0.7474347138111269 and parameters: {'n_estimators': 276, 'learning_rate': 0.21197710825013882}. Best is trial 1 with value: 0.7535881783171785.\n",
      "[I 2024-12-11 10:00:33,558] Trial 6 finished with value: 0.748409118964457 and parameters: {'n_estimators': 349, 'learning_rate': 0.05579045936999932}. Best is trial 1 with value: 0.7535881783171785.\n",
      "[I 2024-12-11 10:00:34,676] Trial 7 finished with value: 0.7328319459849747 and parameters: {'n_estimators': 403, 'learning_rate': 0.01571346446460107}. Best is trial 1 with value: 0.7535881783171785.\n",
      "[I 2024-12-11 10:00:35,929] Trial 8 finished with value: 0.7571056069440966 and parameters: {'n_estimators': 456, 'learning_rate': 0.8497181900868174}. Best is trial 8 with value: 0.7571056069440966.\n",
      "[I 2024-12-11 10:00:36,301] Trial 9 finished with value: 0.6550560159578621 and parameters: {'n_estimators': 50, 'learning_rate': 0.014185318880364135}. Best is trial 8 with value: 0.7571056069440966.\n",
      "[I 2024-12-11 10:00:37,681] Trial 10 finished with value: 0.7421370035919108 and parameters: {'n_estimators': 497, 'learning_rate': 1.8861791218996289}. Best is trial 8 with value: 0.7571056069440966.\n",
      "[I 2024-12-11 10:00:38,213] Trial 11 finished with value: 0.7438470575364351 and parameters: {'n_estimators': 133, 'learning_rate': 1.7355697389404028}. Best is trial 8 with value: 0.7571056069440966.\n",
      "[I 2024-12-11 10:00:38,900] Trial 12 finished with value: 0.7505040663892808 and parameters: {'n_estimators': 187, 'learning_rate': 0.5917960728047528}. Best is trial 8 with value: 0.7571056069440966.\n",
      "[I 2024-12-11 10:00:39,622] Trial 13 finished with value: 0.7490481774169425 and parameters: {'n_estimators': 204, 'learning_rate': 0.5701580521379633}. Best is trial 8 with value: 0.7571056069440966.\n",
      "[I 2024-12-11 10:00:40,076] Trial 14 finished with value: 0.744473958434705 and parameters: {'n_estimators': 88, 'learning_rate': 0.9674887138498991}. Best is trial 8 with value: 0.7571056069440966.\n",
      "[I 2024-12-11 10:00:41,385] Trial 15 finished with value: 0.7479749098437384 and parameters: {'n_estimators': 475, 'learning_rate': 0.34327578901947775}. Best is trial 8 with value: 0.7571056069440966.\n",
      "[I 2024-12-11 10:00:42,254] Trial 16 finished with value: 0.7490009398701023 and parameters: {'n_estimators': 264, 'learning_rate': 1.1507940840791602}. Best is trial 8 with value: 0.7571056069440966.\n",
      "[I 2024-12-11 10:00:42,902] Trial 17 finished with value: 0.7492282253823447 and parameters: {'n_estimators': 178, 'learning_rate': 0.3703391104339789}. Best is trial 8 with value: 0.7571056069440966.\n",
      "[I 2024-12-11 10:00:43,883] Trial 18 finished with value: 0.7513849567350835 and parameters: {'n_estimators': 303, 'learning_rate': 1.1675171235444683}. Best is trial 8 with value: 0.7571056069440966.\n",
      "[I 2024-12-11 10:00:44,449] Trial 19 finished with value: 0.7473173616718234 and parameters: {'n_estimators': 146, 'learning_rate': 0.29743262225333356}. Best is trial 8 with value: 0.7571056069440966.\n",
      "[I 2024-12-11 10:00:45,414] A new study created in memory with name: no-name-d5a2055c-5e41-449f-98a7-6d429313118d\n",
      "[I 2024-12-11 10:00:46,122] Trial 0 finished with value: 0.7423082742147613 and parameters: {'n_estimators': 212, 'learning_rate': 1.4820144863723115}. Best is trial 0 with value: 0.7423082742147613.\n",
      "[I 2024-12-11 10:00:47,209] Trial 1 finished with value: 0.7477046389459525 and parameters: {'n_estimators': 390, 'learning_rate': 1.226290271665024}. Best is trial 1 with value: 0.7477046389459525.\n",
      "[I 2024-12-11 10:00:48,547] Trial 2 finished with value: 0.7354492546313705 and parameters: {'n_estimators': 496, 'learning_rate': 0.035945485244627776}. Best is trial 1 with value: 0.7477046389459525.\n",
      "[I 2024-12-11 10:00:49,579] Trial 3 finished with value: 0.6988064703996166 and parameters: {'n_estimators': 351, 'learning_rate': 0.011523791171473634}. Best is trial 1 with value: 0.7477046389459525.\n",
      "[I 2024-12-11 10:00:50,905] Trial 4 finished with value: 0.7384670924923956 and parameters: {'n_estimators': 486, 'learning_rate': 0.04965226091711063}. Best is trial 1 with value: 0.7477046389459525.\n",
      "[I 2024-12-11 10:00:51,999] Trial 5 finished with value: 0.7439948207454002 and parameters: {'n_estimators': 383, 'learning_rate': 1.8090319497294112}. Best is trial 1 with value: 0.7477046389459525.\n",
      "[I 2024-12-11 10:00:52,653] Trial 6 finished with value: 0.7268934128303252 and parameters: {'n_estimators': 169, 'learning_rate': 0.0414544393742401}. Best is trial 1 with value: 0.7477046389459525.\n",
      "[I 2024-12-11 10:00:53,327] Trial 7 finished with value: 0.6799577342617007 and parameters: {'n_estimators': 193, 'learning_rate': 0.012963870661525614}. Best is trial 1 with value: 0.7477046389459525.\n",
      "[I 2024-12-11 10:00:54,470] Trial 8 finished with value: 0.7378715239724903 and parameters: {'n_estimators': 413, 'learning_rate': 0.07531043361639671}. Best is trial 1 with value: 0.7477046389459525.\n",
      "[I 2024-12-11 10:00:55,052] Trial 9 finished with value: 0.7431569076994513 and parameters: {'n_estimators': 151, 'learning_rate': 0.3125558651660151}. Best is trial 1 with value: 0.7477046389459525.\n",
      "[I 2024-12-11 10:00:55,433] Trial 10 finished with value: 0.735729749438169 and parameters: {'n_estimators': 55, 'learning_rate': 0.48958781213094016}. Best is trial 1 with value: 0.7477046389459525.\n",
      "[I 2024-12-11 10:00:56,497] Trial 11 finished with value: 0.7239770235418136 and parameters: {'n_estimators': 342, 'learning_rate': 1.9569885705652958}. Best is trial 1 with value: 0.7477046389459525.\n",
      "[I 2024-12-11 10:00:57,440] Trial 12 finished with value: 0.7467000351436617 and parameters: {'n_estimators': 322, 'learning_rate': 0.7218988416726062}. Best is trial 1 with value: 0.7477046389459525.\n",
      "[I 2024-12-11 10:00:58,391] Trial 13 finished with value: 0.7415539768191469 and parameters: {'n_estimators': 314, 'learning_rate': 0.5362866766072113}. Best is trial 1 with value: 0.7477046389459525.\n",
      "[I 2024-12-11 10:00:59,227] Trial 14 finished with value: 0.7449206728425165 and parameters: {'n_estimators': 265, 'learning_rate': 0.7130492727559204}. Best is trial 1 with value: 0.7477046389459525.\n",
      "[I 2024-12-11 10:01:00,398] Trial 15 finished with value: 0.7490321363297967 and parameters: {'n_estimators': 427, 'learning_rate': 0.20171388071695684}. Best is trial 15 with value: 0.7490321363297967.\n",
      "[I 2024-12-11 10:01:01,593] Trial 16 finished with value: 0.7408805686837293 and parameters: {'n_estimators': 433, 'learning_rate': 0.14997337617349943}. Best is trial 15 with value: 0.7490321363297967.\n",
      "[I 2024-12-11 10:01:02,801] Trial 17 finished with value: 0.7451872273233248 and parameters: {'n_estimators': 444, 'learning_rate': 0.16669721460118528}. Best is trial 15 with value: 0.7490321363297967.\n",
      "[I 2024-12-11 10:01:03,724] Trial 18 finished with value: 0.7387371725506059 and parameters: {'n_estimators': 277, 'learning_rate': 0.34282058927044945}. Best is trial 15 with value: 0.7490321363297967.\n",
      "[I 2024-12-11 10:01:04,812] Trial 19 finished with value: 0.7443829975162893 and parameters: {'n_estimators': 375, 'learning_rate': 0.08869629217764287}. Best is trial 15 with value: 0.7490321363297967.\n",
      "[I 2024-12-11 10:01:05,672] A new study created in memory with name: no-name-2df18f55-eed9-4f89-abae-6e2efdffbcce\n",
      "[I 2024-12-11 10:01:07,062] Trial 0 finished with value: 0.7279253512926774 and parameters: {'C': 0.013606856647824824, 'kernel': 'linear'}. Best is trial 0 with value: 0.7279253512926774.\n",
      "[I 2024-12-11 10:01:08,859] Trial 1 finished with value: 0.621347000756924 and parameters: {'C': 1.5644510421105247, 'kernel': 'sigmoid'}. Best is trial 0 with value: 0.7279253512926774.\n",
      "[I 2024-12-11 10:01:10,899] Trial 2 finished with value: 0.6425521718016315 and parameters: {'C': 0.32402416779674725, 'kernel': 'sigmoid'}. Best is trial 0 with value: 0.7279253512926774.\n",
      "[I 2024-12-11 10:01:13,108] Trial 3 finished with value: 0.7325402867057779 and parameters: {'C': 1.6344859835212426, 'kernel': 'rbf'}. Best is trial 3 with value: 0.7325402867057779.\n",
      "[I 2024-12-11 10:01:14,608] Trial 4 finished with value: 0.619442818349853 and parameters: {'C': 22.31688477346712, 'kernel': 'sigmoid'}. Best is trial 3 with value: 0.7325402867057779.\n",
      "[I 2024-12-11 10:01:16,904] Trial 5 finished with value: 0.7279253512926774 and parameters: {'C': 1.1930356624781124, 'kernel': 'linear'}. Best is trial 3 with value: 0.7325402867057779.\n",
      "[I 2024-12-11 10:01:18,335] Trial 6 finished with value: 0.7279253512926774 and parameters: {'C': 0.09724130387164921, 'kernel': 'linear'}. Best is trial 3 with value: 0.7325402867057779.\n",
      "[I 2024-12-11 10:01:21,748] Trial 7 finished with value: 0.6909968972159298 and parameters: {'C': 0.005596798940257619, 'kernel': 'rbf'}. Best is trial 3 with value: 0.7325402867057779.\n",
      "[I 2024-12-11 10:01:49,460] Trial 8 finished with value: 0.7279253512926774 and parameters: {'C': 72.81552943720159, 'kernel': 'linear'}. Best is trial 3 with value: 0.7325402867057779.\n",
      "[I 2024-12-11 10:02:19,031] Trial 9 finished with value: 0.7276044403195925 and parameters: {'C': 81.85114643288357, 'kernel': 'linear'}. Best is trial 3 with value: 0.7325402867057779.\n",
      "[I 2024-12-11 10:02:23,118] Trial 10 finished with value: 0.6848591474177752 and parameters: {'C': 0.00012123764262706965, 'kernel': 'rbf'}. Best is trial 3 with value: 0.7325402867057779.\n",
      "[I 2024-12-11 10:02:26,779] Trial 11 finished with value: 0.6850422474278726 and parameters: {'C': 0.004202343265336076, 'kernel': 'rbf'}. Best is trial 3 with value: 0.7325402867057779.\n",
      "[I 2024-12-11 10:02:29,328] Trial 12 finished with value: 0.7217277341652133 and parameters: {'C': 0.024808874951192852, 'kernel': 'rbf'}. Best is trial 3 with value: 0.7325402867057779.\n",
      "[I 2024-12-11 10:02:30,950] Trial 13 finished with value: 0.7288657976143701 and parameters: {'C': 0.0007615299931896444, 'kernel': 'linear'}. Best is trial 3 with value: 0.7325402867057779.\n",
      "[I 2024-12-11 10:02:34,953] Trial 14 finished with value: 0.6808082416666078 and parameters: {'C': 0.0001906152465472703, 'kernel': 'rbf'}. Best is trial 3 with value: 0.7325402867057779.\n",
      "[I 2024-12-11 10:02:36,650] Trial 15 finished with value: 0.7304546127288444 and parameters: {'C': 0.0006512706850115487, 'kernel': 'linear'}. Best is trial 3 with value: 0.7325402867057779.\n",
      "[I 2024-12-11 10:02:38,914] Trial 16 finished with value: 0.7406109278636971 and parameters: {'C': 4.970566854587303, 'kernel': 'rbf'}. Best is trial 16 with value: 0.7406109278636971.\n",
      "[I 2024-12-11 10:02:41,209] Trial 17 finished with value: 0.7320615576483223 and parameters: {'C': 7.0628504708794635, 'kernel': 'rbf'}. Best is trial 16 with value: 0.7406109278636971.\n",
      "[I 2024-12-11 10:02:43,416] Trial 18 finished with value: 0.7354126462931819 and parameters: {'C': 4.042095923137046, 'kernel': 'rbf'}. Best is trial 16 with value: 0.7406109278636971.\n",
      "[I 2024-12-11 10:02:45,711] Trial 19 finished with value: 0.7343628132844736 and parameters: {'C': 6.0310872594425815, 'kernel': 'rbf'}. Best is trial 16 with value: 0.7406109278636971.\n",
      "[I 2024-12-11 10:02:47,389] A new study created in memory with name: no-name-c997efcb-e834-4008-ab57-164844c67491\n",
      "[I 2024-12-11 10:02:49,343] Trial 0 finished with value: 0.6453682598047782 and parameters: {'C': 0.4495922105873237, 'kernel': 'sigmoid'}. Best is trial 0 with value: 0.6453682598047782.\n",
      "[I 2024-12-11 10:02:51,941] Trial 1 finished with value: 0.7236876341150922 and parameters: {'C': 1.5833130657310457, 'kernel': 'linear'}. Best is trial 1 with value: 0.7236876341150922.\n",
      "[I 2024-12-11 10:02:53,773] Trial 2 finished with value: 0.637655080711045 and parameters: {'C': 1.0867624519483194, 'kernel': 'sigmoid'}. Best is trial 1 with value: 0.7236876341150922.\n",
      "[I 2024-12-11 10:03:14,425] Trial 3 finished with value: 0.7236876341150922 and parameters: {'C': 51.40036544880685, 'kernel': 'linear'}. Best is trial 1 with value: 0.7236876341150922.\n",
      "[I 2024-12-11 10:03:17,368] Trial 4 finished with value: 0.696495906401973 and parameters: {'C': 0.012995293309084822, 'kernel': 'rbf'}. Best is trial 1 with value: 0.7236876341150922.\n",
      "[I 2024-12-11 10:03:18,914] Trial 5 finished with value: 0.6207333491308539 and parameters: {'C': 9.31959287831582, 'kernel': 'sigmoid'}. Best is trial 1 with value: 0.7236876341150922.\n",
      "[I 2024-12-11 10:03:20,643] Trial 6 finished with value: 0.6252451260637251 and parameters: {'C': 1.78937302979508, 'kernel': 'sigmoid'}. Best is trial 1 with value: 0.7236876341150922.\n",
      "[I 2024-12-11 10:03:22,465] Trial 7 finished with value: 0.6321437504141183 and parameters: {'C': 0.8203834965878402, 'kernel': 'sigmoid'}. Best is trial 1 with value: 0.7236876341150922.\n",
      "[I 2024-12-11 10:03:24,054] Trial 8 finished with value: 0.6244938828724724 and parameters: {'C': 60.51822830710686, 'kernel': 'sigmoid'}. Best is trial 1 with value: 0.7236876341150922.\n",
      "[I 2024-12-11 10:03:27,953] Trial 9 finished with value: 0.6921490855919513 and parameters: {'C': 80.24075991442342, 'kernel': 'rbf'}. Best is trial 1 with value: 0.7236876341150922.\n",
      "[I 2024-12-11 10:03:29,921] Trial 10 finished with value: 0.724315373800459 and parameters: {'C': 0.00020155825370511224, 'kernel': 'linear'}. Best is trial 10 with value: 0.724315373800459.\n",
      "[I 2024-12-11 10:03:31,845] Trial 11 finished with value: 0.7282849266130974 and parameters: {'C': 0.00024395625387072526, 'kernel': 'linear'}. Best is trial 11 with value: 0.7282849266130974.\n",
      "[I 2024-12-11 10:03:33,991] Trial 12 finished with value: 0.7131845517270681 and parameters: {'C': 0.00012410972789524686, 'kernel': 'linear'}. Best is trial 11 with value: 0.7282849266130974.\n",
      "[I 2024-12-11 10:03:36,148] Trial 13 finished with value: 0.7084659780251001 and parameters: {'C': 0.00012303021163858274, 'kernel': 'linear'}. Best is trial 11 with value: 0.7282849266130974.\n",
      "[I 2024-12-11 10:03:37,622] Trial 14 finished with value: 0.7236876341150922 and parameters: {'C': 0.0019247521707849713, 'kernel': 'linear'}. Best is trial 11 with value: 0.7282849266130974.\n",
      "[I 2024-12-11 10:03:39,075] Trial 15 finished with value: 0.7233798160163498 and parameters: {'C': 0.002460478499125612, 'kernel': 'linear'}. Best is trial 11 with value: 0.7282849266130974.\n",
      "[I 2024-12-11 10:03:40,697] Trial 16 finished with value: 0.7242755567223373 and parameters: {'C': 0.0008877416687900903, 'kernel': 'linear'}. Best is trial 11 with value: 0.7282849266130974.\n",
      "[I 2024-12-11 10:03:42,069] Trial 17 finished with value: 0.7236876341150922 and parameters: {'C': 0.024344549248403225, 'kernel': 'linear'}. Best is trial 11 with value: 0.7282849266130974.\n",
      "[I 2024-12-11 10:03:46,115] Trial 18 finished with value: 0.6741935333028118 and parameters: {'C': 0.0004959923824312817, 'kernel': 'rbf'}. Best is trial 11 with value: 0.7282849266130974.\n",
      "[I 2024-12-11 10:03:47,488] Trial 19 finished with value: 0.7236876341150922 and parameters: {'C': 0.011909909191961813, 'kernel': 'linear'}. Best is trial 11 with value: 0.7282849266130974.\n",
      "[I 2024-12-11 10:03:48,877] A new study created in memory with name: no-name-ce93b235-32e6-4504-82fa-b6edc3ce6bf8\n",
      "[I 2024-12-11 10:03:51,054] Trial 0 finished with value: 0.723920003274013 and parameters: {'C': 0.38248992730297143, 'kernel': 'rbf'}. Best is trial 0 with value: 0.723920003274013.\n",
      "[I 2024-12-11 10:03:53,241] Trial 1 finished with value: 0.6569038088227873 and parameters: {'C': 0.1539745410433309, 'kernel': 'sigmoid'}. Best is trial 0 with value: 0.723920003274013.\n",
      "[I 2024-12-11 10:03:55,366] Trial 2 finished with value: 0.7282270784935345 and parameters: {'C': 0.5667230969123238, 'kernel': 'rbf'}. Best is trial 2 with value: 0.7282270784935345.\n",
      "[I 2024-12-11 10:04:01,579] Trial 3 finished with value: 0.7245364656349597 and parameters: {'C': 10.143183803098065, 'kernel': 'linear'}. Best is trial 2 with value: 0.7282270784935345.\n",
      "[I 2024-12-11 10:04:06,449] Trial 4 finished with value: 0.7245364656349597 and parameters: {'C': 6.489669762556479, 'kernel': 'linear'}. Best is trial 2 with value: 0.7282270784935345.\n",
      "[I 2024-12-11 10:04:08,060] Trial 5 finished with value: 0.6262298169422084 and parameters: {'C': 18.442062436272327, 'kernel': 'sigmoid'}. Best is trial 2 with value: 0.7282270784935345.\n",
      "[I 2024-12-11 10:04:12,041] Trial 6 finished with value: 0.6750808550966204 and parameters: {'C': 0.0003558154493729381, 'kernel': 'rbf'}. Best is trial 2 with value: 0.7282270784935345.\n",
      "[I 2024-12-11 10:04:13,925] Trial 7 finished with value: 0.7305661351336481 and parameters: {'C': 0.0002935945892868154, 'kernel': 'linear'}. Best is trial 7 with value: 0.7305661351336481.\n",
      "[I 2024-12-11 10:04:16,280] Trial 8 finished with value: 0.7287069127121125 and parameters: {'C': 7.959780550811914, 'kernel': 'rbf'}. Best is trial 7 with value: 0.7305661351336481.\n",
      "[I 2024-12-11 10:04:20,205] Trial 9 finished with value: 0.6717044323593304 and parameters: {'C': 0.0009839815271689603, 'kernel': 'rbf'}. Best is trial 7 with value: 0.7305661351336481.\n",
      "[I 2024-12-11 10:04:21,585] Trial 10 finished with value: 0.7245364656349597 and parameters: {'C': 0.006243498171054587, 'kernel': 'linear'}. Best is trial 7 with value: 0.7305661351336481.\n",
      "[I 2024-12-11 10:04:22,945] Trial 11 finished with value: 0.7245364656349597 and parameters: {'C': 0.015685670680938634, 'kernel': 'linear'}. Best is trial 7 with value: 0.7305661351336481.\n",
      "[I 2024-12-11 10:04:26,475] Trial 12 finished with value: 0.7068857803082367 and parameters: {'C': 67.28167675010614, 'kernel': 'rbf'}. Best is trial 7 with value: 0.7305661351336481.\n",
      "[I 2024-12-11 10:04:28,684] Trial 13 finished with value: 0.707502702375342 and parameters: {'C': 0.00010630532395721605, 'kernel': 'linear'}. Best is trial 7 with value: 0.7305661351336481.\n",
      "[I 2024-12-11 10:04:30,484] Trial 14 finished with value: 0.6250061103534246 and parameters: {'C': 1.663931399934179, 'kernel': 'sigmoid'}. Best is trial 7 with value: 0.7305661351336481.\n",
      "[I 2024-12-11 10:04:33,032] Trial 15 finished with value: 0.7204374002701286 and parameters: {'C': 0.037124462139459274, 'kernel': 'rbf'}. Best is trial 7 with value: 0.7305661351336481.\n",
      "[I 2024-12-11 10:04:34,468] Trial 16 finished with value: 0.7245364656349597 and parameters: {'C': 0.0024141610960301285, 'kernel': 'linear'}. Best is trial 7 with value: 0.7305661351336481.\n",
      "[I 2024-12-11 10:04:37,222] Trial 17 finished with value: 0.7245364656349597 and parameters: {'C': 1.8834558127628858, 'kernel': 'linear'}. Best is trial 7 with value: 0.7305661351336481.\n",
      "[I 2024-12-11 10:04:39,562] Trial 18 finished with value: 0.7274941896144911 and parameters: {'C': 0.07164042102499772, 'kernel': 'rbf'}. Best is trial 7 with value: 0.7305661351336481.\n",
      "[I 2024-12-11 10:04:43,431] Trial 19 finished with value: 0.7188432127279043 and parameters: {'C': 0.0001319260003728078, 'kernel': 'sigmoid'}. Best is trial 7 with value: 0.7305661351336481.\n",
      "[I 2024-12-11 10:04:44,864] A new study created in memory with name: no-name-88aee817-cef5-4b95-8788-b896aa6a7632\n",
      "[I 2024-12-11 10:04:46,547] Trial 0 finished with value: 0.6180426457129733 and parameters: {'C': 3.72206865556876, 'kernel': 'sigmoid'}. Best is trial 0 with value: 0.6180426457129733.\n",
      "[I 2024-12-11 10:05:01,102] Trial 1 finished with value: 0.7209969732975979 and parameters: {'C': 34.24759751712793, 'kernel': 'linear'}. Best is trial 1 with value: 0.7209969732975979.\n",
      "[I 2024-12-11 10:05:05,143] Trial 2 finished with value: 0.6801563506963074 and parameters: {'C': 0.00011228038996751542, 'kernel': 'rbf'}. Best is trial 1 with value: 0.7209969732975979.\n",
      "[I 2024-12-11 10:05:06,493] Trial 3 finished with value: 0.7209969732975979 and parameters: {'C': 0.029234310842962463, 'kernel': 'linear'}. Best is trial 1 with value: 0.7209969732975979.\n",
      "[I 2024-12-11 10:05:08,282] Trial 4 finished with value: 0.7209969732975979 and parameters: {'C': 0.3937497399939106, 'kernel': 'linear'}. Best is trial 1 with value: 0.7209969732975979.\n",
      "[I 2024-12-11 10:05:09,642] Trial 5 finished with value: 0.7209969732975979 and parameters: {'C': 0.030472111466995484, 'kernel': 'linear'}. Best is trial 1 with value: 0.7209969732975979.\n",
      "[I 2024-12-11 10:05:11,898] Trial 6 finished with value: 0.724180195650342 and parameters: {'C': 0.1138361512000571, 'kernel': 'rbf'}. Best is trial 6 with value: 0.724180195650342.\n",
      "[I 2024-12-11 10:05:14,179] Trial 7 finished with value: 0.6665640652935494 and parameters: {'C': 0.10642944476800552, 'kernel': 'sigmoid'}. Best is trial 6 with value: 0.724180195650342.\n",
      "[I 2024-12-11 10:05:15,583] Trial 8 finished with value: 0.7209969732975979 and parameters: {'C': 0.06353085292805909, 'kernel': 'linear'}. Best is trial 6 with value: 0.724180195650342.\n",
      "[I 2024-12-11 10:05:19,534] Trial 9 finished with value: 0.6755518924830161 and parameters: {'C': 0.002219532393223567, 'kernel': 'rbf'}. Best is trial 6 with value: 0.724180195650342.\n",
      "[I 2024-12-11 10:05:23,674] Trial 10 finished with value: 0.691612556311589 and parameters: {'C': 95.45097233309126, 'kernel': 'rbf'}. Best is trial 6 with value: 0.724180195650342.\n",
      "[I 2024-12-11 10:05:26,746] Trial 11 finished with value: 0.710645730919573 and parameters: {'C': 41.0948693087685, 'kernel': 'rbf'}. Best is trial 6 with value: 0.724180195650342.\n",
      "[I 2024-12-11 10:05:32,203] Trial 12 finished with value: 0.7209969732975979 and parameters: {'C': 8.880294353972303, 'kernel': 'linear'}. Best is trial 6 with value: 0.724180195650342.\n",
      "[I 2024-12-11 10:05:34,371] Trial 13 finished with value: 0.7327506980214561 and parameters: {'C': 1.79553422475966, 'kernel': 'rbf'}. Best is trial 13 with value: 0.7327506980214561.\n",
      "[I 2024-12-11 10:05:36,517] Trial 14 finished with value: 0.7267771030561158 and parameters: {'C': 0.6015558613151474, 'kernel': 'rbf'}. Best is trial 13 with value: 0.7327506980214561.\n",
      "[I 2024-12-11 10:05:38,758] Trial 15 finished with value: 0.7364759993251149 and parameters: {'C': 1.1132133584798323, 'kernel': 'rbf'}. Best is trial 15 with value: 0.7364759993251149.\n",
      "[I 2024-12-11 10:05:40,960] Trial 16 finished with value: 0.7206367503721961 and parameters: {'C': 1.4670285711933793, 'kernel': 'rbf'}. Best is trial 15 with value: 0.7364759993251149.\n",
      "[I 2024-12-11 10:05:43,299] Trial 17 finished with value: 0.7224815795822773 and parameters: {'C': 6.916603042995181, 'kernel': 'rbf'}. Best is trial 15 with value: 0.7364759993251149.\n",
      "[I 2024-12-11 10:05:46,181] Trial 18 finished with value: 0.7236626427078572 and parameters: {'C': 0.007214759617511087, 'kernel': 'sigmoid'}. Best is trial 15 with value: 0.7364759993251149.\n",
      "[I 2024-12-11 10:05:48,341] Trial 19 finished with value: 0.7253822508480792 and parameters: {'C': 0.6417812509407903, 'kernel': 'rbf'}. Best is trial 15 with value: 0.7364759993251149.\n",
      "[I 2024-12-11 10:05:49,859] A new study created in memory with name: no-name-6c57f2fa-71f2-4139-bcd0-41c3ec78a4b4\n",
      "[I 2024-12-11 10:05:52,475] Trial 0 finished with value: 0.7229727377699492 and parameters: {'C': 0.012760994051091375, 'kernel': 'sigmoid'}. Best is trial 0 with value: 0.7229727377699492.\n",
      "[I 2024-12-11 10:05:56,026] Trial 1 finished with value: 0.7243806539343505 and parameters: {'C': 0.0016006059665095483, 'kernel': 'sigmoid'}. Best is trial 1 with value: 0.7243806539343505.\n",
      "[I 2024-12-11 10:05:57,542] Trial 2 finished with value: 0.7268120638408543 and parameters: {'C': 0.1335292289362683, 'kernel': 'linear'}. Best is trial 2 with value: 0.7268120638408543.\n",
      "[I 2024-12-11 10:06:01,491] Trial 3 finished with value: 0.681262206519211 and parameters: {'C': 0.00015236804506622132, 'kernel': 'rbf'}. Best is trial 2 with value: 0.7268120638408543.\n",
      "[I 2024-12-11 10:06:08,654] Trial 4 finished with value: 0.7268120638408543 and parameters: {'C': 12.286568590048686, 'kernel': 'linear'}. Best is trial 2 with value: 0.7268120638408543.\n",
      "[I 2024-12-11 10:06:11,075] Trial 5 finished with value: 0.7339983733137684 and parameters: {'C': 9.762628527340473, 'kernel': 'rbf'}. Best is trial 5 with value: 0.7339983733137684.\n",
      "[I 2024-12-11 10:06:13,565] Trial 6 finished with value: 0.7120687346340395 and parameters: {'C': 0.03335070155414131, 'kernel': 'sigmoid'}. Best is trial 5 with value: 0.7339983733137684.\n",
      "[I 2024-12-11 10:06:17,375] Trial 7 finished with value: 0.7163114800349077 and parameters: {'C': 0.00015140958324157139, 'kernel': 'sigmoid'}. Best is trial 5 with value: 0.7339983733137684.\n",
      "[I 2024-12-11 10:06:53,588] Trial 8 finished with value: 0.7268120638408543 and parameters: {'C': 97.39974512703685, 'kernel': 'linear'}. Best is trial 5 with value: 0.7339983733137684.\n",
      "[I 2024-12-11 10:06:55,744] Trial 9 finished with value: 0.7289929392255462 and parameters: {'C': 0.23345144014019767, 'kernel': 'rbf'}. Best is trial 5 with value: 0.7339983733137684.\n",
      "[I 2024-12-11 10:06:57,933] Trial 10 finished with value: 0.7293172758208276 and parameters: {'C': 2.4424258258119114, 'kernel': 'rbf'}. Best is trial 5 with value: 0.7339983733137684.\n",
      "[I 2024-12-11 10:07:00,132] Trial 11 finished with value: 0.7298373336684991 and parameters: {'C': 2.371529620985884, 'kernel': 'rbf'}. Best is trial 5 with value: 0.7339983733137684.\n",
      "[I 2024-12-11 10:07:02,354] Trial 12 finished with value: 0.7294475821228996 and parameters: {'C': 2.8048245212833396, 'kernel': 'rbf'}. Best is trial 5 with value: 0.7339983733137684.\n",
      "[I 2024-12-11 10:07:05,228] Trial 13 finished with value: 0.7184249169634138 and parameters: {'C': 28.67825387753315, 'kernel': 'rbf'}. Best is trial 5 with value: 0.7339983733137684.\n",
      "[I 2024-12-11 10:07:07,333] Trial 14 finished with value: 0.7304240527212982 and parameters: {'C': 1.135344360385455, 'kernel': 'rbf'}. Best is trial 5 with value: 0.7339983733137684.\n",
      "[I 2024-12-11 10:07:09,511] Trial 15 finished with value: 0.7290838659783565 and parameters: {'C': 0.5636907717500651, 'kernel': 'rbf'}. Best is trial 5 with value: 0.7339983733137684.\n",
      "[I 2024-12-11 10:07:12,006] Trial 16 finished with value: 0.7275010109248787 and parameters: {'C': 11.502445255165608, 'kernel': 'rbf'}. Best is trial 5 with value: 0.7339983733137684.\n",
      "[I 2024-12-11 10:07:14,173] Trial 17 finished with value: 0.7260575149330684 and parameters: {'C': 0.6423440291567181, 'kernel': 'rbf'}. Best is trial 5 with value: 0.7339983733137684.\n",
      "[I 2024-12-11 10:07:17,157] Trial 18 finished with value: 0.705418821314151 and parameters: {'C': 0.010216293819840381, 'kernel': 'rbf'}. Best is trial 5 with value: 0.7339983733137684.\n",
      "[I 2024-12-11 10:07:21,907] Trial 19 finished with value: 0.7268120638408543 and parameters: {'C': 6.821669390552258, 'kernel': 'linear'}. Best is trial 5 with value: 0.7339983733137684.\n",
      "[I 2024-12-11 10:07:23,647] A new study created in memory with name: no-name-632da068-c43d-460c-8299-f18733c59a5e\n",
      "[I 2024-12-11 10:07:25,130] Trial 0 finished with value: 0.6183092449117756 and parameters: {'C': 75.2632494974373, 'kernel': 'sigmoid'}. Best is trial 0 with value: 0.6183092449117756.\n",
      "[I 2024-12-11 10:07:27,387] Trial 1 finished with value: 0.7261531261318 and parameters: {'C': 0.11433125395802997, 'kernel': 'rbf'}. Best is trial 1 with value: 0.7261531261318.\n",
      "[I 2024-12-11 10:07:31,284] Trial 2 finished with value: 0.6837900955777737 and parameters: {'C': 0.00026533061118656586, 'kernel': 'rbf'}. Best is trial 1 with value: 0.7261531261318.\n",
      "[I 2024-12-11 10:07:35,550] Trial 3 finished with value: 0.7086054718118249 and parameters: {'C': 95.53938064042926, 'kernel': 'rbf'}. Best is trial 1 with value: 0.7261531261318.\n",
      "[I 2024-12-11 10:07:39,535] Trial 4 finished with value: 0.68455673770625 and parameters: {'C': 0.000371920988153725, 'kernel': 'rbf'}. Best is trial 1 with value: 0.7261531261318.\n",
      "[I 2024-12-11 10:07:41,888] Trial 5 finished with value: 0.7277617827244556 and parameters: {'C': 0.07756293448989529, 'kernel': 'rbf'}. Best is trial 5 with value: 0.7277617827244556.\n",
      "[I 2024-12-11 10:07:44,976] Trial 6 finished with value: 0.7339919767583739 and parameters: {'C': 0.003828318175220085, 'kernel': 'sigmoid'}. Best is trial 6 with value: 0.7339919767583739.\n",
      "[I 2024-12-11 10:07:47,408] Trial 7 finished with value: 0.7269019906183717 and parameters: {'C': 1.4136290192867844, 'kernel': 'linear'}. Best is trial 6 with value: 0.7339919767583739.\n",
      "[I 2024-12-11 10:07:48,767] Trial 8 finished with value: 0.7269019906183717 and parameters: {'C': 0.008534493944597087, 'kernel': 'linear'}. Best is trial 6 with value: 0.7339919767583739.\n",
      "[I 2024-12-11 10:07:50,524] Trial 9 finished with value: 0.6235065143961233 and parameters: {'C': 1.3302284680619958, 'kernel': 'sigmoid'}. Best is trial 6 with value: 0.7339919767583739.\n",
      "[I 2024-12-11 10:07:53,899] Trial 10 finished with value: 0.7256264983671837 and parameters: {'C': 0.002287083858419064, 'kernel': 'sigmoid'}. Best is trial 6 with value: 0.7339919767583739.\n",
      "[I 2024-12-11 10:07:56,382] Trial 11 finished with value: 0.7197958165809882 and parameters: {'C': 0.022269283755691288, 'kernel': 'sigmoid'}. Best is trial 6 with value: 0.7339919767583739.\n",
      "[I 2024-12-11 10:07:58,508] Trial 12 finished with value: 0.723201823447393 and parameters: {'C': 0.20382267397196588, 'kernel': 'rbf'}. Best is trial 6 with value: 0.7339919767583739.\n",
      "[I 2024-12-11 10:08:01,863] Trial 13 finished with value: 0.7284187941307402 and parameters: {'C': 0.0024417484634101268, 'kernel': 'sigmoid'}. Best is trial 6 with value: 0.7339919767583739.\n",
      "[I 2024-12-11 10:08:05,446] Trial 14 finished with value: 0.7249279773321263 and parameters: {'C': 0.0013616518982560756, 'kernel': 'sigmoid'}. Best is trial 6 with value: 0.7339919767583739.\n",
      "[I 2024-12-11 10:08:09,240] Trial 15 finished with value: 0.7156808180341362 and parameters: {'C': 0.00011950370506113638, 'kernel': 'sigmoid'}. Best is trial 6 with value: 0.7339919767583739.\n",
      "[I 2024-12-11 10:08:12,387] Trial 16 finished with value: 0.7339535669667469 and parameters: {'C': 0.0037255251284354124, 'kernel': 'sigmoid'}. Best is trial 6 with value: 0.7339919767583739.\n",
      "[I 2024-12-11 10:08:14,967] Trial 17 finished with value: 0.7222058344170447 and parameters: {'C': 0.015551413411907935, 'kernel': 'sigmoid'}. Best is trial 6 with value: 0.7339919767583739.\n",
      "[I 2024-12-11 10:08:16,547] Trial 18 finished with value: 0.7262850662195247 and parameters: {'C': 0.0008601725590175083, 'kernel': 'linear'}. Best is trial 6 with value: 0.7339919767583739.\n",
      "[I 2024-12-11 10:08:19,355] Trial 19 finished with value: 0.7288283411417902 and parameters: {'C': 0.009028385448296027, 'kernel': 'sigmoid'}. Best is trial 6 with value: 0.7339919767583739.\n",
      "[I 2024-12-11 10:08:21,794] A new study created in memory with name: no-name-82751d65-4a28-4d32-be33-0cbf917f4dd9\n",
      "[I 2024-12-11 10:08:23,500] Trial 0 finished with value: 0.724959767054637 and parameters: {'C': 0.32814446788506135, 'kernel': 'linear'}. Best is trial 0 with value: 0.724959767054637.\n",
      "[I 2024-12-11 10:08:27,253] Trial 1 finished with value: 0.7135984355392331 and parameters: {'C': 0.00031753610527195705, 'kernel': 'sigmoid'}. Best is trial 0 with value: 0.724959767054637.\n",
      "[I 2024-12-11 10:08:28,786] Trial 2 finished with value: 0.724959767054637 and parameters: {'C': 0.11073392790943207, 'kernel': 'linear'}. Best is trial 0 with value: 0.724959767054637.\n",
      "[I 2024-12-11 10:08:31,489] Trial 3 finished with value: 0.7250778348082254 and parameters: {'C': 0.011372592864967284, 'kernel': 'sigmoid'}. Best is trial 3 with value: 0.7250778348082254.\n",
      "[I 2024-12-11 10:08:33,067] Trial 4 finished with value: 0.6342207098377405 and parameters: {'C': 17.554357725437427, 'kernel': 'sigmoid'}. Best is trial 3 with value: 0.7250778348082254.\n",
      "[I 2024-12-11 10:08:34,732] Trial 5 finished with value: 0.6232237427074064 and parameters: {'C': 7.310627356303247, 'kernel': 'sigmoid'}. Best is trial 3 with value: 0.7250778348082254.\n",
      "[I 2024-12-11 10:08:36,362] Trial 6 finished with value: 0.6254431533478481 and parameters: {'C': 3.3041968553090832, 'kernel': 'sigmoid'}. Best is trial 3 with value: 0.7250778348082254.\n",
      "[I 2024-12-11 10:08:43,403] Trial 7 finished with value: 0.724959767054637 and parameters: {'C': 11.394847293011768, 'kernel': 'linear'}. Best is trial 3 with value: 0.7250778348082254.\n",
      "[I 2024-12-11 10:08:45,422] Trial 8 finished with value: 0.6375035565256386 and parameters: {'C': 0.3966054971067659, 'kernel': 'sigmoid'}. Best is trial 3 with value: 0.7250778348082254.\n",
      "[I 2024-12-11 10:08:47,622] Trial 9 finished with value: 0.7412497260947873 and parameters: {'C': 2.5885283130571843, 'kernel': 'rbf'}. Best is trial 9 with value: 0.7412497260947873.\n",
      "[I 2024-12-11 10:08:51,429] Trial 10 finished with value: 0.7056847375827291 and parameters: {'C': 88.31143029697189, 'kernel': 'rbf'}. Best is trial 9 with value: 0.7412497260947873.\n",
      "[I 2024-12-11 10:08:55,188] Trial 11 finished with value: 0.6785353574532222 and parameters: {'C': 0.0037011649542025953, 'kernel': 'rbf'}. Best is trial 9 with value: 0.7412497260947873.\n",
      "[I 2024-12-11 10:08:58,362] Trial 12 finished with value: 0.6991065875064858 and parameters: {'C': 0.007982650450619092, 'kernel': 'rbf'}. Best is trial 9 with value: 0.7412497260947873.\n",
      "[I 2024-12-11 10:09:01,391] Trial 13 finished with value: 0.7028976343384412 and parameters: {'C': 0.011443044259668909, 'kernel': 'rbf'}. Best is trial 9 with value: 0.7412497260947873.\n",
      "[I 2024-12-11 10:09:05,438] Trial 14 finished with value: 0.6826926566612533 and parameters: {'C': 0.00013672933437164898, 'kernel': 'rbf'}. Best is trial 9 with value: 0.7412497260947873.\n",
      "[I 2024-12-11 10:09:07,282] Trial 15 finished with value: 0.6274826846099671 and parameters: {'C': 1.3965258568432277, 'kernel': 'sigmoid'}. Best is trial 9 with value: 0.7412497260947873.\n",
      "[I 2024-12-11 10:09:09,723] Trial 16 finished with value: 0.7188331374429449 and parameters: {'C': 0.035420419115618225, 'kernel': 'rbf'}. Best is trial 9 with value: 0.7412497260947873.\n",
      "[I 2024-12-11 10:09:13,512] Trial 17 finished with value: 0.7155033737033957 and parameters: {'C': 0.001002676533327789, 'kernel': 'sigmoid'}. Best is trial 9 with value: 0.7412497260947873.\n",
      "[I 2024-12-11 10:09:15,818] Trial 18 finished with value: 0.724249405131625 and parameters: {'C': 0.06749794317451399, 'kernel': 'rbf'}. Best is trial 9 with value: 0.7412497260947873.\n",
      "[I 2024-12-11 10:09:17,799] Trial 19 finished with value: 0.724959767054637 and parameters: {'C': 0.594603289200205, 'kernel': 'linear'}. Best is trial 9 with value: 0.7412497260947873.\n",
      "[I 2024-12-11 10:09:19,378] A new study created in memory with name: no-name-f3aaaa10-19d6-4cb8-a6b9-494f63122bb2\n",
      "[I 2024-12-11 10:09:20,716] Trial 0 finished with value: 0.7256289507616048 and parameters: {'C': 0.006033554484994661, 'kernel': 'linear'}. Best is trial 0 with value: 0.7256289507616048.\n",
      "[I 2024-12-11 10:09:22,517] Trial 1 finished with value: 0.7256289507616048 and parameters: {'C': 0.5114137526375465, 'kernel': 'linear'}. Best is trial 0 with value: 0.7256289507616048.\n",
      "[I 2024-12-11 10:09:24,379] Trial 2 finished with value: 0.7310675293466005 and parameters: {'C': 0.00034667552322725385, 'kernel': 'linear'}. Best is trial 2 with value: 0.7310675293466005.\n",
      "[I 2024-12-11 10:09:28,296] Trial 3 finished with value: 0.6817572955828681 and parameters: {'C': 0.0014988586878301293, 'kernel': 'rbf'}. Best is trial 2 with value: 0.7310675293466005.\n",
      "[I 2024-12-11 10:09:32,038] Trial 4 finished with value: 0.7094901368257338 and parameters: {'C': 0.0004134694231946982, 'kernel': 'sigmoid'}. Best is trial 2 with value: 0.7310675293466005.\n",
      "[I 2024-12-11 10:09:33,669] Trial 5 finished with value: 0.6253062295119741 and parameters: {'C': 6.8023109042602306, 'kernel': 'sigmoid'}. Best is trial 2 with value: 0.7310675293466005.\n",
      "[I 2024-12-11 10:09:37,029] Trial 6 finished with value: 0.7269994027926283 and parameters: {'C': 0.002449785927571043, 'kernel': 'sigmoid'}. Best is trial 2 with value: 0.7310675293466005.\n",
      "[I 2024-12-11 10:09:40,987] Trial 7 finished with value: 0.6860091624557968 and parameters: {'C': 0.00030930642905527365, 'kernel': 'rbf'}. Best is trial 2 with value: 0.7310675293466005.\n",
      "[I 2024-12-11 10:09:43,332] Trial 8 finished with value: 0.7310753045136866 and parameters: {'C': 0.09669089903017694, 'kernel': 'rbf'}. Best is trial 8 with value: 0.7310753045136866.\n",
      "[I 2024-12-11 10:09:46,093] Trial 9 finished with value: 0.7193327151426605 and parameters: {'C': 0.02270706725602925, 'kernel': 'rbf'}. Best is trial 8 with value: 0.7310753045136866.\n",
      "[I 2024-12-11 10:09:50,162] Trial 10 finished with value: 0.6962333519391045 and parameters: {'C': 87.87630331212809, 'kernel': 'rbf'}. Best is trial 8 with value: 0.7310753045136866.\n",
      "[I 2024-12-11 10:09:51,763] Trial 11 finished with value: 0.7256289507616048 and parameters: {'C': 0.23014785869956708, 'kernel': 'linear'}. Best is trial 8 with value: 0.7310753045136866.\n",
      "[I 2024-12-11 10:09:53,176] Trial 12 finished with value: 0.7256289507616048 and parameters: {'C': 0.055405406373668836, 'kernel': 'linear'}. Best is trial 8 with value: 0.7310753045136866.\n",
      "[I 2024-12-11 10:09:55,362] Trial 13 finished with value: 0.7154823318066712 and parameters: {'C': 0.0001135650170371404, 'kernel': 'linear'}. Best is trial 8 with value: 0.7310753045136866.\n",
      "[I 2024-12-11 10:09:57,536] Trial 14 finished with value: 0.7297899962043601 and parameters: {'C': 2.0436278814392757, 'kernel': 'rbf'}. Best is trial 8 with value: 0.7310753045136866.\n",
      "[I 2024-12-11 10:10:00,456] Trial 15 finished with value: 0.7057378676566933 and parameters: {'C': 0.013493960383498252, 'kernel': 'rbf'}. Best is trial 8 with value: 0.7310753045136866.\n",
      "[I 2024-12-11 10:10:16,407] Trial 16 finished with value: 0.7256289507616048 and parameters: {'C': 38.34784781735999, 'kernel': 'linear'}. Best is trial 8 with value: 0.7310753045136866.\n",
      "[I 2024-12-11 10:10:18,764] Trial 17 finished with value: 0.7311442350534135 and parameters: {'C': 0.07950697996199178, 'kernel': 'rbf'}. Best is trial 17 with value: 0.7311442350534135.\n",
      "[I 2024-12-11 10:10:20,921] Trial 18 finished with value: 0.731523396147593 and parameters: {'C': 0.6773067347333402, 'kernel': 'rbf'}. Best is trial 18 with value: 0.731523396147593.\n",
      "[I 2024-12-11 10:10:23,090] Trial 19 finished with value: 0.7327073006651956 and parameters: {'C': 0.7754705416732951, 'kernel': 'rbf'}. Best is trial 19 with value: 0.7327073006651956.\n",
      "[I 2024-12-11 10:10:24,640] A new study created in memory with name: no-name-679d980a-c57e-43e4-aade-8ff7fccabe56\n",
      "[I 2024-12-11 10:10:27,217] Trial 0 finished with value: 0.7193717983208908 and parameters: {'C': 0.015459706228034819, 'kernel': 'sigmoid'}. Best is trial 0 with value: 0.7193717983208908.\n",
      "[I 2024-12-11 10:10:28,942] Trial 1 finished with value: 0.7265592699680423 and parameters: {'C': 0.00064768779796597, 'kernel': 'linear'}. Best is trial 1 with value: 0.7265592699680423.\n",
      "[I 2024-12-11 10:10:31,496] Trial 2 finished with value: 0.7226809850092927 and parameters: {'C': 0.026993841892894485, 'kernel': 'rbf'}. Best is trial 1 with value: 0.7265592699680423.\n",
      "[I 2024-12-11 10:10:33,768] Trial 3 finished with value: 0.6477726637676434 and parameters: {'C': 0.10834167163026881, 'kernel': 'sigmoid'}. Best is trial 1 with value: 0.7265592699680423.\n",
      "[I 2024-12-11 10:10:37,268] Trial 4 finished with value: 0.708032529727044 and parameters: {'C': 58.15175828198529, 'kernel': 'rbf'}. Best is trial 1 with value: 0.7265592699680423.\n",
      "[I 2024-12-11 10:11:03,954] Trial 5 finished with value: 0.7239189937813056 and parameters: {'C': 71.05353198549567, 'kernel': 'linear'}. Best is trial 1 with value: 0.7265592699680423.\n",
      "[I 2024-12-11 10:11:07,871] Trial 6 finished with value: 0.6742642869829254 and parameters: {'C': 0.0004683872331425514, 'kernel': 'rbf'}. Best is trial 1 with value: 0.7265592699680423.\n",
      "[I 2024-12-11 10:11:09,457] Trial 7 finished with value: 0.7242253712706227 and parameters: {'C': 0.0009482155421545938, 'kernel': 'linear'}. Best is trial 1 with value: 0.7265592699680423.\n",
      "[I 2024-12-11 10:11:12,376] Trial 8 finished with value: 0.7190071341661775 and parameters: {'C': 25.29227837046662, 'kernel': 'rbf'}. Best is trial 1 with value: 0.7265592699680423.\n",
      "[I 2024-12-11 10:11:14,185] Trial 9 finished with value: 0.7239189937813056 and parameters: {'C': 0.39333198181651174, 'kernel': 'linear'}. Best is trial 1 with value: 0.7265592699680423.\n",
      "[I 2024-12-11 10:11:16,284] Trial 10 finished with value: 0.7121105491274949 and parameters: {'C': 0.00013859993412491313, 'kernel': 'linear'}. Best is trial 1 with value: 0.7265592699680423.\n",
      "[I 2024-12-11 10:11:17,743] Trial 11 finished with value: 0.7239189937813056 and parameters: {'C': 0.0026628561336184088, 'kernel': 'linear'}. Best is trial 1 with value: 0.7265592699680423.\n",
      "[I 2024-12-11 10:11:19,216] Trial 12 finished with value: 0.7239189937813056 and parameters: {'C': 0.0018316647193734742, 'kernel': 'linear'}. Best is trial 1 with value: 0.7265592699680423.\n",
      "[I 2024-12-11 10:11:21,711] Trial 13 finished with value: 0.7239189937813056 and parameters: {'C': 1.4150495172710045, 'kernel': 'linear'}. Best is trial 1 with value: 0.7265592699680423.\n",
      "[I 2024-12-11 10:11:23,858] Trial 14 finished with value: 0.7089468781425655 and parameters: {'C': 0.00011394280020320074, 'kernel': 'linear'}. Best is trial 1 with value: 0.7265592699680423.\n",
      "[I 2024-12-11 10:11:25,292] Trial 15 finished with value: 0.7239189937813056 and parameters: {'C': 0.003250593962237695, 'kernel': 'linear'}. Best is trial 1 with value: 0.7265592699680423.\n",
      "[I 2024-12-11 10:11:29,095] Trial 16 finished with value: 0.7094956878581207 and parameters: {'C': 0.0005788031525668849, 'kernel': 'sigmoid'}. Best is trial 1 with value: 0.7265592699680423.\n",
      "[I 2024-12-11 10:11:30,485] Trial 17 finished with value: 0.7239189937813056 and parameters: {'C': 0.009538540054439514, 'kernel': 'linear'}. Best is trial 1 with value: 0.7265592699680423.\n",
      "[I 2024-12-11 10:11:31,951] Trial 18 finished with value: 0.7239189937813056 and parameters: {'C': 0.07430920388466347, 'kernel': 'linear'}. Best is trial 1 with value: 0.7265592699680423.\n",
      "[I 2024-12-11 10:11:35,722] Trial 19 finished with value: 0.7111584131415695 and parameters: {'C': 0.0008630652943180478, 'kernel': 'sigmoid'}. Best is trial 1 with value: 0.7265592699680423.\n",
      "[I 2024-12-11 10:11:36,894] A new study created in memory with name: no-name-18cd949c-d67f-4cc1-9265-761708b6ae92\n",
      "[I 2024-12-11 10:11:39,292] Trial 0 finished with value: 0.7217913744396222 and parameters: {'C': 0.03871754411007764, 'kernel': 'rbf'}. Best is trial 0 with value: 0.7217913744396222.\n",
      "[I 2024-12-11 10:11:41,301] Trial 1 finished with value: 0.6439238296425889 and parameters: {'C': 0.4658303835855487, 'kernel': 'sigmoid'}. Best is trial 0 with value: 0.7217913744396222.\n",
      "[I 2024-12-11 10:11:43,801] Trial 2 finished with value: 0.7237655347911962 and parameters: {'C': 0.03477772482064075, 'kernel': 'rbf'}. Best is trial 2 with value: 0.7237655347911962.\n",
      "[I 2024-12-11 10:11:45,538] Trial 3 finished with value: 0.6318864006996084 and parameters: {'C': 1.4430243492954047, 'kernel': 'sigmoid'}. Best is trial 2 with value: 0.7237655347911962.\n",
      "[I 2024-12-11 10:11:49,011] Trial 4 finished with value: 0.7217075862320808 and parameters: {'C': 0.001827394517853715, 'kernel': 'sigmoid'}. Best is trial 2 with value: 0.7237655347911962.\n",
      "[I 2024-12-11 10:12:04,458] Trial 5 finished with value: 0.7258204441962232 and parameters: {'C': 27.625783565202237, 'kernel': 'linear'}. Best is trial 5 with value: 0.7258204441962232.\n",
      "[I 2024-12-11 10:12:07,787] Trial 6 finished with value: 0.6885176945143233 and parameters: {'C': 0.00598750998144472, 'kernel': 'rbf'}. Best is trial 5 with value: 0.7258204441962232.\n",
      "[I 2024-12-11 10:12:10,314] Trial 7 finished with value: 0.7231225640286261 and parameters: {'C': 15.700701283415556, 'kernel': 'rbf'}. Best is trial 5 with value: 0.7258204441962232.\n",
      "[I 2024-12-11 10:12:11,923] Trial 8 finished with value: 0.7261183562869096 and parameters: {'C': 0.23702058335826706, 'kernel': 'linear'}. Best is trial 8 with value: 0.7261183562869096.\n",
      "[I 2024-12-11 10:12:14,436] Trial 9 finished with value: 0.7186826074127559 and parameters: {'C': 0.019482159574750333, 'kernel': 'sigmoid'}. Best is trial 8 with value: 0.7261183562869096.\n",
      "[I 2024-12-11 10:12:16,531] Trial 10 finished with value: 0.717192389504553 and parameters: {'C': 0.00013898048400136226, 'kernel': 'linear'}. Best is trial 8 with value: 0.7261183562869096.\n",
      "[I 2024-12-11 10:12:25,612] Trial 11 finished with value: 0.7261183562869096 and parameters: {'C': 17.171807608851363, 'kernel': 'linear'}. Best is trial 8 with value: 0.7261183562869096.\n",
      "[I 2024-12-11 10:12:28,755] Trial 12 finished with value: 0.7261183562869096 and parameters: {'C': 2.261813116089501, 'kernel': 'linear'}. Best is trial 8 with value: 0.7261183562869096.\n",
      "[I 2024-12-11 10:12:48,580] Trial 13 finished with value: 0.726299024760261 and parameters: {'C': 49.81464867488148, 'kernel': 'linear'}. Best is trial 13 with value: 0.726299024760261.\n",
      "[I 2024-12-11 10:13:24,706] Trial 14 finished with value: 0.7261183562869096 and parameters: {'C': 97.47954244897849, 'kernel': 'linear'}. Best is trial 13 with value: 0.726299024760261.\n",
      "[I 2024-12-11 10:13:26,320] Trial 15 finished with value: 0.7261183562869096 and parameters: {'C': 0.21440528765756434, 'kernel': 'linear'}. Best is trial 13 with value: 0.726299024760261.\n",
      "[I 2024-12-11 10:13:29,350] Trial 16 finished with value: 0.7261183562869096 and parameters: {'C': 2.580453662928433, 'kernel': 'linear'}. Best is trial 13 with value: 0.726299024760261.\n",
      "[I 2024-12-11 10:13:30,826] Trial 17 finished with value: 0.7261183562869096 and parameters: {'C': 0.001320516915141616, 'kernel': 'linear'}. Best is trial 13 with value: 0.726299024760261.\n",
      "[I 2024-12-11 10:14:07,425] Trial 18 finished with value: 0.7261183562869096 and parameters: {'C': 98.31696368970427, 'kernel': 'linear'}. Best is trial 13 with value: 0.726299024760261.\n",
      "[I 2024-12-11 10:14:09,280] Trial 19 finished with value: 0.7261183562869096 and parameters: {'C': 0.5394233642099923, 'kernel': 'linear'}. Best is trial 13 with value: 0.726299024760261.\n",
      "[I 2024-12-11 10:14:23,313] A new study created in memory with name: no-name-4b505a5d-4464-42cc-8a8d-298b98155c00\n",
      "[I 2024-12-11 10:14:25,552] Trial 0 finished with value: 0.7247928597370573 and parameters: {'C': 2.048279681672049, 'kernel': 'rbf'}. Best is trial 0 with value: 0.7247928597370573.\n",
      "[I 2024-12-11 10:14:27,678] Trial 1 finished with value: 0.6981462920290304 and parameters: {'C': 0.00010105245338453209, 'kernel': 'linear'}. Best is trial 0 with value: 0.7247928597370573.\n",
      "[I 2024-12-11 10:14:29,048] Trial 2 finished with value: 0.7214190774794677 and parameters: {'C': 0.010233815466558792, 'kernel': 'linear'}. Best is trial 0 with value: 0.7247928597370573.\n",
      "[I 2024-12-11 10:14:31,225] Trial 3 finished with value: 0.7251145167552574 and parameters: {'C': 0.5259743919691621, 'kernel': 'rbf'}. Best is trial 3 with value: 0.7251145167552574.\n",
      "[I 2024-12-11 10:14:34,297] Trial 4 finished with value: 0.7288525922036463 and parameters: {'C': 0.00445789169218901, 'kernel': 'sigmoid'}. Best is trial 4 with value: 0.7288525922036463.\n",
      "[I 2024-12-11 10:14:35,792] Trial 5 finished with value: 0.6135413557437389 and parameters: {'C': 49.10538000687613, 'kernel': 'sigmoid'}. Best is trial 4 with value: 0.7288525922036463.\n",
      "[I 2024-12-11 10:14:38,136] Trial 6 finished with value: 0.6705098271752356 and parameters: {'C': 0.07280256276292009, 'kernel': 'sigmoid'}. Best is trial 4 with value: 0.7288525922036463.\n",
      "[I 2024-12-11 10:14:42,080] Trial 7 finished with value: 0.6832071449981988 and parameters: {'C': 0.0018913773908830875, 'kernel': 'rbf'}. Best is trial 4 with value: 0.7288525922036463.\n",
      "[I 2024-12-11 10:14:44,225] Trial 8 finished with value: 0.7330212041110484 and parameters: {'C': 1.8914930401588192, 'kernel': 'rbf'}. Best is trial 8 with value: 0.7330212041110484.\n",
      "[I 2024-12-11 10:14:46,404] Trial 9 finished with value: 0.7326484582586019 and parameters: {'C': 2.6357221047290755, 'kernel': 'rbf'}. Best is trial 8 with value: 0.7330212041110484.\n",
      "[I 2024-12-11 10:14:49,077] Trial 10 finished with value: 0.7161405713546035 and parameters: {'C': 20.26838670266999, 'kernel': 'rbf'}. Best is trial 8 with value: 0.7330212041110484.\n",
      "[I 2024-12-11 10:14:51,392] Trial 11 finished with value: 0.7257743586619804 and parameters: {'C': 3.638845971139503, 'kernel': 'rbf'}. Best is trial 8 with value: 0.7330212041110484.\n",
      "[I 2024-12-11 10:14:53,549] Trial 12 finished with value: 0.726905022345162 and parameters: {'C': 0.23053562494103472, 'kernel': 'rbf'}. Best is trial 8 with value: 0.7330212041110484.\n",
      "[I 2024-12-11 10:14:55,863] Trial 13 finished with value: 0.7157670692506976 and parameters: {'C': 6.6849863281553, 'kernel': 'rbf'}. Best is trial 8 with value: 0.7330212041110484.\n",
      "[I 2024-12-11 10:15:00,009] Trial 14 finished with value: 0.7040052991040456 and parameters: {'C': 93.81653478747694, 'kernel': 'rbf'}. Best is trial 8 with value: 0.7330212041110484.\n",
      "[I 2024-12-11 10:15:01,390] Trial 15 finished with value: 0.7214190774794677 and parameters: {'C': 0.05242305003218667, 'kernel': 'linear'}. Best is trial 8 with value: 0.7330212041110484.\n",
      "[I 2024-12-11 10:15:03,555] Trial 16 finished with value: 0.733565267371515 and parameters: {'C': 0.8427771239658168, 'kernel': 'rbf'}. Best is trial 16 with value: 0.733565267371515.\n",
      "[I 2024-12-11 10:15:05,774] Trial 17 finished with value: 0.7265719724947529 and parameters: {'C': 0.48901729183931253, 'kernel': 'rbf'}. Best is trial 16 with value: 0.733565267371515.\n",
      "[I 2024-12-11 10:15:07,145] Trial 18 finished with value: 0.7214190774794677 and parameters: {'C': 0.02739138084805588, 'kernel': 'linear'}. Best is trial 16 with value: 0.733565267371515.\n",
      "[I 2024-12-11 10:15:09,070] Trial 19 finished with value: 0.6167627165150538 and parameters: {'C': 0.8293737310667038, 'kernel': 'sigmoid'}. Best is trial 16 with value: 0.733565267371515.\n",
      "[I 2024-12-11 10:15:10,614] A new study created in memory with name: no-name-7b73860d-8499-4c2b-96bb-105adeedd299\n",
      "[I 2024-12-11 10:15:13,043] Trial 0 finished with value: 0.7268364893803821 and parameters: {'C': 0.04205282805957043, 'kernel': 'rbf'}. Best is trial 0 with value: 0.7268364893803821.\n",
      "[I 2024-12-11 10:15:16,269] Trial 1 finished with value: 0.7304671729455663 and parameters: {'C': 0.002592481616930784, 'kernel': 'sigmoid'}. Best is trial 1 with value: 0.7304671729455663.\n",
      "[I 2024-12-11 10:15:17,847] Trial 2 finished with value: 0.6183140762357401 and parameters: {'C': 5.336938286921577, 'kernel': 'sigmoid'}. Best is trial 1 with value: 0.7304671729455663.\n",
      "[I 2024-12-11 10:15:19,195] Trial 3 finished with value: 0.7292436141090758 and parameters: {'C': 0.017409128443024918, 'kernel': 'linear'}. Best is trial 1 with value: 0.7304671729455663.\n",
      "[I 2024-12-11 10:15:21,246] Trial 4 finished with value: 0.7292436141090758 and parameters: {'C': 0.701363981859534, 'kernel': 'linear'}. Best is trial 1 with value: 0.7304671729455663.\n",
      "[I 2024-12-11 10:15:22,742] Trial 5 finished with value: 0.6197905112391655 and parameters: {'C': 32.75696090484267, 'kernel': 'sigmoid'}. Best is trial 1 with value: 0.7304671729455663.\n",
      "[I 2024-12-11 10:15:26,567] Trial 6 finished with value: 0.718170428811487 and parameters: {'C': 0.0007468149460894869, 'kernel': 'sigmoid'}. Best is trial 1 with value: 0.7304671729455663.\n",
      "[I 2024-12-11 10:15:30,563] Trial 7 finished with value: 0.6826666137111722 and parameters: {'C': 0.00045471020089617604, 'kernel': 'rbf'}. Best is trial 1 with value: 0.7304671729455663.\n",
      "[I 2024-12-11 10:15:32,745] Trial 8 finished with value: 0.731840847386038 and parameters: {'C': 0.15762397105976303, 'kernel': 'rbf'}. Best is trial 8 with value: 0.731840847386038.\n",
      "[I 2024-12-11 10:15:36,565] Trial 9 finished with value: 0.7150181146260983 and parameters: {'C': 0.0005077461425137405, 'kernel': 'sigmoid'}. Best is trial 8 with value: 0.731840847386038.\n",
      "[I 2024-12-11 10:15:38,667] Trial 10 finished with value: 0.7355036680293771 and parameters: {'C': 0.4328931758665955, 'kernel': 'rbf'}. Best is trial 10 with value: 0.7355036680293771.\n",
      "[I 2024-12-11 10:15:40,804] Trial 11 finished with value: 0.7297372168171433 and parameters: {'C': 0.43477767018925095, 'kernel': 'rbf'}. Best is trial 10 with value: 0.7355036680293771.\n",
      "[I 2024-12-11 10:15:42,939] Trial 12 finished with value: 0.7365946803889735 and parameters: {'C': 0.6697764400694891, 'kernel': 'rbf'}. Best is trial 12 with value: 0.7365946803889735.\n",
      "[I 2024-12-11 10:15:45,158] Trial 13 finished with value: 0.7302516332045557 and parameters: {'C': 3.0234826371349333, 'kernel': 'rbf'}. Best is trial 12 with value: 0.7365946803889735.\n",
      "[I 2024-12-11 10:15:48,556] Trial 14 finished with value: 0.7114240282601183 and parameters: {'C': 58.850874771436956, 'kernel': 'rbf'}. Best is trial 12 with value: 0.7365946803889735.\n",
      "[I 2024-12-11 10:15:51,590] Trial 15 finished with value: 0.7074124516319125 and parameters: {'C': 0.010179520790837374, 'kernel': 'rbf'}. Best is trial 12 with value: 0.7365946803889735.\n",
      "[I 2024-12-11 10:15:53,816] Trial 16 finished with value: 0.731533642481499 and parameters: {'C': 2.983293975805335, 'kernel': 'rbf'}. Best is trial 12 with value: 0.7365946803889735.\n",
      "[I 2024-12-11 10:15:55,630] Trial 17 finished with value: 0.7292436141090758 and parameters: {'C': 0.46093310064697024, 'kernel': 'linear'}. Best is trial 12 with value: 0.7365946803889735.\n",
      "[I 2024-12-11 10:15:58,134] Trial 18 finished with value: 0.7268172802883527 and parameters: {'C': 12.90229343685869, 'kernel': 'rbf'}. Best is trial 12 with value: 0.7365946803889735.\n",
      "[I 2024-12-11 10:16:00,354] Trial 19 finished with value: 0.7359446717922935 and parameters: {'C': 0.1446928482042206, 'kernel': 'rbf'}. Best is trial 12 with value: 0.7365946803889735.\n",
      "[I 2024-12-11 10:16:01,873] A new study created in memory with name: no-name-6e48dd5b-0161-4853-a160-74a883c594d7\n",
      "[I 2024-12-11 10:16:04,936] Trial 0 finished with value: 0.7239342425147075 and parameters: {'C': 2.5451809410304898, 'kernel': 'linear'}. Best is trial 0 with value: 0.7239342425147075.\n",
      "[I 2024-12-11 10:16:11,531] Trial 1 finished with value: 0.7239342425147075 and parameters: {'C': 10.171397817580477, 'kernel': 'linear'}. Best is trial 0 with value: 0.7239342425147075.\n",
      "[I 2024-12-11 10:16:15,543] Trial 2 finished with value: 0.6784191217418805 and parameters: {'C': 0.00021841128318671375, 'kernel': 'rbf'}. Best is trial 0 with value: 0.7239342425147075.\n",
      "[I 2024-12-11 10:16:17,036] Trial 3 finished with value: 0.7239342425147075 and parameters: {'C': 0.0017590586334419744, 'kernel': 'linear'}. Best is trial 0 with value: 0.7239342425147075.\n",
      "[I 2024-12-11 10:16:18,636] Trial 4 finished with value: 0.6326283289614046 and parameters: {'C': 7.859086265457073, 'kernel': 'sigmoid'}. Best is trial 0 with value: 0.7239342425147075.\n",
      "[I 2024-12-11 10:16:22,684] Trial 5 finished with value: 0.7239342425147075 and parameters: {'C': 4.216408805256303, 'kernel': 'linear'}. Best is trial 0 with value: 0.7239342425147075.\n",
      "[I 2024-12-11 10:16:58,353] Trial 6 finished with value: 0.7239342425147075 and parameters: {'C': 90.71523471792699, 'kernel': 'linear'}. Best is trial 0 with value: 0.7239342425147075.\n",
      "[I 2024-12-11 10:16:59,826] Trial 7 finished with value: 0.622934071165663 and parameters: {'C': 30.924756801087042, 'kernel': 'sigmoid'}. Best is trial 0 with value: 0.7239342425147075.\n",
      "[I 2024-12-11 10:17:01,205] Trial 8 finished with value: 0.7239342425147075 and parameters: {'C': 0.009110214822249333, 'kernel': 'linear'}. Best is trial 0 with value: 0.7239342425147075.\n",
      "[I 2024-12-11 10:17:14,888] Trial 9 finished with value: 0.7239342425147075 and parameters: {'C': 29.431314296840824, 'kernel': 'linear'}. Best is trial 0 with value: 0.7239342425147075.\n",
      "[I 2024-12-11 10:17:17,036] Trial 10 finished with value: 0.7201141433266126 and parameters: {'C': 0.30740861000580666, 'kernel': 'rbf'}. Best is trial 0 with value: 0.7239342425147075.\n",
      "[I 2024-12-11 10:17:18,966] Trial 11 finished with value: 0.7239342425147075 and parameters: {'C': 0.5572050441534913, 'kernel': 'linear'}. Best is trial 0 with value: 0.7239342425147075.\n",
      "[I 2024-12-11 10:17:21,583] Trial 12 finished with value: 0.7239342425147075 and parameters: {'C': 1.5883336314098375, 'kernel': 'linear'}. Best is trial 0 with value: 0.7239342425147075.\n",
      "[I 2024-12-11 10:17:23,017] Trial 13 finished with value: 0.7239342425147075 and parameters: {'C': 0.059804594111447285, 'kernel': 'linear'}. Best is trial 0 with value: 0.7239342425147075.\n",
      "[I 2024-12-11 10:17:25,300] Trial 14 finished with value: 0.667972875314865 and parameters: {'C': 0.07952378095060642, 'kernel': 'sigmoid'}. Best is trial 0 with value: 0.7239342425147075.\n",
      "[I 2024-12-11 10:17:27,575] Trial 15 finished with value: 0.7235052857361526 and parameters: {'C': 5.552501805169801, 'kernel': 'rbf'}. Best is trial 0 with value: 0.7239342425147075.\n",
      "[I 2024-12-11 10:17:29,784] Trial 16 finished with value: 0.7239342425147075 and parameters: {'C': 0.9252573491798523, 'kernel': 'linear'}. Best is trial 0 with value: 0.7239342425147075.\n",
      "[I 2024-12-11 10:17:38,034] Trial 17 finished with value: 0.7239342425147075 and parameters: {'C': 14.945554587863963, 'kernel': 'linear'}. Best is trial 0 with value: 0.7239342425147075.\n",
      "[I 2024-12-11 10:17:40,609] Trial 18 finished with value: 0.7196281513181133 and parameters: {'C': 0.01399644973139026, 'kernel': 'sigmoid'}. Best is trial 0 with value: 0.7239342425147075.\n",
      "[I 2024-12-11 10:17:44,536] Trial 19 finished with value: 0.6917959696335353 and parameters: {'C': 87.77083504657463, 'kernel': 'rbf'}. Best is trial 0 with value: 0.7239342425147075.\n",
      "[I 2024-12-11 10:17:46,649] A new study created in memory with name: no-name-92354772-e82e-4895-9db6-2893921da498\n",
      "[I 2024-12-11 10:17:47,997] Trial 0 finished with value: 0.7276834791327708 and parameters: {'C': 0.012975579979429998, 'kernel': 'linear'}. Best is trial 0 with value: 0.7276834791327708.\n",
      "[I 2024-12-11 10:17:49,868] Trial 1 finished with value: 0.6379541059773346 and parameters: {'C': 0.7371916648080831, 'kernel': 'sigmoid'}. Best is trial 0 with value: 0.7276834791327708.\n",
      "[I 2024-12-11 10:17:53,638] Trial 2 finished with value: 0.7177651633468564 and parameters: {'C': 0.00034889770884307097, 'kernel': 'sigmoid'}. Best is trial 0 with value: 0.7276834791327708.\n",
      "[I 2024-12-11 10:17:55,805] Trial 3 finished with value: 0.7294814929681255 and parameters: {'C': 0.21225203839961357, 'kernel': 'rbf'}. Best is trial 3 with value: 0.7294814929681255.\n",
      "[I 2024-12-11 10:17:59,527] Trial 4 finished with value: 0.7228311788194006 and parameters: {'C': 0.0011880458905318152, 'kernel': 'sigmoid'}. Best is trial 3 with value: 0.7294814929681255.\n",
      "[I 2024-12-11 10:18:01,648] Trial 5 finished with value: 0.7321895299966383 and parameters: {'C': 1.1346512264727624, 'kernel': 'rbf'}. Best is trial 5 with value: 0.7321895299966383.\n",
      "[I 2024-12-11 10:18:03,813] Trial 6 finished with value: 0.6581134945672289 and parameters: {'C': 0.12821932794746124, 'kernel': 'sigmoid'}. Best is trial 5 with value: 0.7321895299966383.\n",
      "[I 2024-12-11 10:18:05,220] Trial 7 finished with value: 0.7276834791327708 and parameters: {'C': 0.046070102170826396, 'kernel': 'linear'}. Best is trial 5 with value: 0.7321895299966383.\n",
      "[I 2024-12-11 10:18:09,062] Trial 8 finished with value: 0.7141127719479422 and parameters: {'C': 0.0007614464813623024, 'kernel': 'sigmoid'}. Best is trial 5 with value: 0.7321895299966383.\n",
      "[I 2024-12-11 10:18:10,567] Trial 9 finished with value: 0.7276834791327708 and parameters: {'C': 0.10847652643466613, 'kernel': 'linear'}. Best is trial 5 with value: 0.7321895299966383.\n",
      "[I 2024-12-11 10:18:14,014] Trial 10 finished with value: 0.7163527289210196 and parameters: {'C': 65.16573425144217, 'kernel': 'rbf'}. Best is trial 5 with value: 0.7321895299966383.\n",
      "[I 2024-12-11 10:18:16,346] Trial 11 finished with value: 0.7264075413604286 and parameters: {'C': 5.2582713245248405, 'kernel': 'rbf'}. Best is trial 5 with value: 0.7321895299966383.\n",
      "[I 2024-12-11 10:18:18,579] Trial 12 finished with value: 0.7360344357833082 and parameters: {'C': 5.028520140534383, 'kernel': 'rbf'}. Best is trial 12 with value: 0.7360344357833082.\n",
      "[I 2024-12-11 10:18:20,854] Trial 13 finished with value: 0.7373614801829845 and parameters: {'C': 6.7828182723867085, 'kernel': 'rbf'}. Best is trial 13 with value: 0.7373614801829845.\n",
      "[I 2024-12-11 10:18:24,013] Trial 14 finished with value: 0.7096128392848008 and parameters: {'C': 41.27159085045768, 'kernel': 'rbf'}. Best is trial 13 with value: 0.7373614801829845.\n",
      "[I 2024-12-11 10:18:26,277] Trial 15 finished with value: 0.7316163636001506 and parameters: {'C': 7.666890027439366, 'kernel': 'rbf'}. Best is trial 13 with value: 0.7373614801829845.\n",
      "[I 2024-12-11 10:18:28,706] Trial 16 finished with value: 0.7314252657427929 and parameters: {'C': 10.93063757757343, 'kernel': 'rbf'}. Best is trial 13 with value: 0.7373614801829845.\n",
      "[I 2024-12-11 10:18:30,853] Trial 17 finished with value: 0.7385045750595844 and parameters: {'C': 2.0934979873661494, 'kernel': 'rbf'}. Best is trial 17 with value: 0.7385045750595844.\n",
      "[I 2024-12-11 10:18:33,033] Trial 18 finished with value: 0.732211894056819 and parameters: {'C': 0.9187538395175054, 'kernel': 'rbf'}. Best is trial 17 with value: 0.7385045750595844.\n",
      "[I 2024-12-11 10:18:35,952] Trial 19 finished with value: 0.6973485522527292 and parameters: {'C': 0.010768381562001406, 'kernel': 'rbf'}. Best is trial 17 with value: 0.7385045750595844.\n",
      "[I 2024-12-11 10:18:37,545] A new study created in memory with name: no-name-0c15eadb-8044-48cd-ad95-589b6de65f93\n",
      "[I 2024-12-11 10:18:40,829] Trial 0 finished with value: 0.7238974612473874 and parameters: {'C': 0.0025237590970228433, 'kernel': 'sigmoid'}. Best is trial 0 with value: 0.7238974612473874.\n",
      "[I 2024-12-11 10:18:42,216] Trial 1 finished with value: 0.634729376655638 and parameters: {'C': 82.87997029687689, 'kernel': 'sigmoid'}. Best is trial 0 with value: 0.7238974612473874.\n",
      "[I 2024-12-11 10:18:44,652] Trial 2 finished with value: 0.7026133655940091 and parameters: {'C': 0.05840544048889072, 'kernel': 'sigmoid'}. Best is trial 0 with value: 0.7238974612473874.\n",
      "[I 2024-12-11 10:18:46,371] Trial 3 finished with value: 0.6345647041404696 and parameters: {'C': 1.5085205337074306, 'kernel': 'sigmoid'}. Best is trial 0 with value: 0.7238974612473874.\n",
      "[I 2024-12-11 10:18:47,718] Trial 4 finished with value: 0.7240312873745952 and parameters: {'C': 0.01816356046491061, 'kernel': 'linear'}. Best is trial 4 with value: 0.7240312873745952.\n",
      "[I 2024-12-11 10:18:49,265] Trial 5 finished with value: 0.6286234463345942 and parameters: {'C': 36.11095558611921, 'kernel': 'sigmoid'}. Best is trial 4 with value: 0.7240312873745952.\n",
      "[I 2024-12-11 10:18:53,238] Trial 6 finished with value: 0.6880340182386465 and parameters: {'C': 0.0005502233511911081, 'kernel': 'rbf'}. Best is trial 4 with value: 0.7240312873745952.\n",
      "[I 2024-12-11 10:18:55,666] Trial 7 finished with value: 0.7106793629806165 and parameters: {'C': 0.03303100988556791, 'kernel': 'sigmoid'}. Best is trial 4 with value: 0.7240312873745952.\n",
      "[I 2024-12-11 10:18:58,610] Trial 8 finished with value: 0.7282697446974951 and parameters: {'C': 0.00521854637820875, 'kernel': 'sigmoid'}. Best is trial 8 with value: 0.7282697446974951.\n",
      "[I 2024-12-11 10:19:00,053] Trial 9 finished with value: 0.7240312873745952 and parameters: {'C': 0.0019126902912318456, 'kernel': 'linear'}. Best is trial 8 with value: 0.7282697446974951.\n",
      "[I 2024-12-11 10:19:02,232] Trial 10 finished with value: 0.7314615910876936 and parameters: {'C': 1.1517502309218135, 'kernel': 'rbf'}. Best is trial 10 with value: 0.7314615910876936.\n",
      "[I 2024-12-11 10:19:04,395] Trial 11 finished with value: 0.7298344685079676 and parameters: {'C': 1.1608745709574018, 'kernel': 'rbf'}. Best is trial 10 with value: 0.7314615910876936.\n",
      "[I 2024-12-11 10:19:06,572] Trial 12 finished with value: 0.7314108723591736 and parameters: {'C': 1.363202511913404, 'kernel': 'rbf'}. Best is trial 10 with value: 0.7314615910876936.\n",
      "[I 2024-12-11 10:19:08,730] Trial 13 finished with value: 0.7367923016072122 and parameters: {'C': 1.6473281290860213, 'kernel': 'rbf'}. Best is trial 13 with value: 0.7367923016072122.\n",
      "[I 2024-12-11 10:19:11,119] Trial 14 finished with value: 0.7207948769749578 and parameters: {'C': 7.569428373887869, 'kernel': 'rbf'}. Best is trial 13 with value: 0.7367923016072122.\n",
      "[I 2024-12-11 10:19:13,290] Trial 15 finished with value: 0.7325763789075308 and parameters: {'C': 0.37301910460786414, 'kernel': 'rbf'}. Best is trial 13 with value: 0.7367923016072122.\n",
      "[I 2024-12-11 10:19:15,417] Trial 16 finished with value: 0.732587994927213 and parameters: {'C': 0.24718885454121142, 'kernel': 'rbf'}. Best is trial 13 with value: 0.7367923016072122.\n",
      "[I 2024-12-11 10:19:18,007] Trial 17 finished with value: 0.7245386408338209 and parameters: {'C': 14.345591252842189, 'kernel': 'rbf'}. Best is trial 13 with value: 0.7367923016072122.\n",
      "[I 2024-12-11 10:19:20,164] Trial 18 finished with value: 0.7270358877942801 and parameters: {'C': 0.2053481007207051, 'kernel': 'rbf'}. Best is trial 13 with value: 0.7367923016072122.\n",
      "[I 2024-12-11 10:19:22,352] Trial 19 finished with value: 0.7039057778261634 and parameters: {'C': 0.00010464368629515589, 'kernel': 'linear'}. Best is trial 13 with value: 0.7367923016072122.\n"
     ]
    },
    {
     "data": {
      "text/html": [
       "<div>\n",
       "<style scoped>\n",
       "    .dataframe tbody tr th:only-of-type {\n",
       "        vertical-align: middle;\n",
       "    }\n",
       "\n",
       "    .dataframe tbody tr th {\n",
       "        vertical-align: top;\n",
       "    }\n",
       "\n",
       "    .dataframe thead th {\n",
       "        text-align: right;\n",
       "    }\n",
       "</style>\n",
       "<table border=\"1\" class=\"dataframe\">\n",
       "  <thead>\n",
       "    <tr style=\"text-align: right;\">\n",
       "      <th></th>\n",
       "      <th>F1 Score</th>\n",
       "      <th>Precision</th>\n",
       "      <th>Recall</th>\n",
       "      <th>ROC AUC</th>\n",
       "      <th>Model</th>\n",
       "    </tr>\n",
       "  </thead>\n",
       "  <tbody>\n",
       "    <tr>\n",
       "      <th>0</th>\n",
       "      <td>0.707182</td>\n",
       "      <td>0.744186</td>\n",
       "      <td>0.673684</td>\n",
       "      <td>0.831368</td>\n",
       "      <td>Logistic Regression</td>\n",
       "    </tr>\n",
       "    <tr>\n",
       "      <th>1</th>\n",
       "      <td>0.755556</td>\n",
       "      <td>0.800000</td>\n",
       "      <td>0.715789</td>\n",
       "      <td>0.904947</td>\n",
       "      <td>Logistic Regression</td>\n",
       "    </tr>\n",
       "    <tr>\n",
       "      <th>2</th>\n",
       "      <td>0.715789</td>\n",
       "      <td>0.715789</td>\n",
       "      <td>0.715789</td>\n",
       "      <td>0.858316</td>\n",
       "      <td>Logistic Regression</td>\n",
       "    </tr>\n",
       "    <tr>\n",
       "      <th>3</th>\n",
       "      <td>0.776119</td>\n",
       "      <td>0.735849</td>\n",
       "      <td>0.821053</td>\n",
       "      <td>0.891263</td>\n",
       "      <td>Logistic Regression</td>\n",
       "    </tr>\n",
       "    <tr>\n",
       "      <th>4</th>\n",
       "      <td>0.725389</td>\n",
       "      <td>0.714286</td>\n",
       "      <td>0.736842</td>\n",
       "      <td>0.872737</td>\n",
       "      <td>Logistic Regression</td>\n",
       "    </tr>\n",
       "    <tr>\n",
       "      <th>5</th>\n",
       "      <td>0.738636</td>\n",
       "      <td>0.802469</td>\n",
       "      <td>0.684211</td>\n",
       "      <td>0.885053</td>\n",
       "      <td>Logistic Regression</td>\n",
       "    </tr>\n",
       "    <tr>\n",
       "      <th>6</th>\n",
       "      <td>0.775956</td>\n",
       "      <td>0.806818</td>\n",
       "      <td>0.747368</td>\n",
       "      <td>0.903132</td>\n",
       "      <td>Logistic Regression</td>\n",
       "    </tr>\n",
       "    <tr>\n",
       "      <th>7</th>\n",
       "      <td>0.739130</td>\n",
       "      <td>0.764045</td>\n",
       "      <td>0.715789</td>\n",
       "      <td>0.869158</td>\n",
       "      <td>Logistic Regression</td>\n",
       "    </tr>\n",
       "    <tr>\n",
       "      <th>8</th>\n",
       "      <td>0.787879</td>\n",
       "      <td>0.757282</td>\n",
       "      <td>0.821053</td>\n",
       "      <td>0.904842</td>\n",
       "      <td>Logistic Regression</td>\n",
       "    </tr>\n",
       "    <tr>\n",
       "      <th>9</th>\n",
       "      <td>0.722513</td>\n",
       "      <td>0.718750</td>\n",
       "      <td>0.726316</td>\n",
       "      <td>0.880684</td>\n",
       "      <td>Logistic Regression</td>\n",
       "    </tr>\n",
       "    <tr>\n",
       "      <th>10</th>\n",
       "      <td>0.804233</td>\n",
       "      <td>0.808511</td>\n",
       "      <td>0.800000</td>\n",
       "      <td>0.920105</td>\n",
       "      <td>Logistic Regression</td>\n",
       "    </tr>\n",
       "    <tr>\n",
       "      <th>11</th>\n",
       "      <td>0.681081</td>\n",
       "      <td>0.692308</td>\n",
       "      <td>0.670213</td>\n",
       "      <td>0.841855</td>\n",
       "      <td>Logistic Regression</td>\n",
       "    </tr>\n",
       "    <tr>\n",
       "      <th>12</th>\n",
       "      <td>0.773196</td>\n",
       "      <td>0.750000</td>\n",
       "      <td>0.797872</td>\n",
       "      <td>0.907060</td>\n",
       "      <td>Logistic Regression</td>\n",
       "    </tr>\n",
       "    <tr>\n",
       "      <th>13</th>\n",
       "      <td>0.724324</td>\n",
       "      <td>0.736264</td>\n",
       "      <td>0.712766</td>\n",
       "      <td>0.862496</td>\n",
       "      <td>Logistic Regression</td>\n",
       "    </tr>\n",
       "    <tr>\n",
       "      <th>14</th>\n",
       "      <td>0.705882</td>\n",
       "      <td>0.789474</td>\n",
       "      <td>0.638298</td>\n",
       "      <td>0.856649</td>\n",
       "      <td>Logistic Regression</td>\n",
       "    </tr>\n",
       "    <tr>\n",
       "      <th>15</th>\n",
       "      <td>0.695652</td>\n",
       "      <td>0.719101</td>\n",
       "      <td>0.673684</td>\n",
       "      <td>0.857211</td>\n",
       "      <td>AdaBoost</td>\n",
       "    </tr>\n",
       "    <tr>\n",
       "      <th>16</th>\n",
       "      <td>0.748663</td>\n",
       "      <td>0.760870</td>\n",
       "      <td>0.736842</td>\n",
       "      <td>0.913684</td>\n",
       "      <td>AdaBoost</td>\n",
       "    </tr>\n",
       "    <tr>\n",
       "      <th>17</th>\n",
       "      <td>0.735751</td>\n",
       "      <td>0.724490</td>\n",
       "      <td>0.747368</td>\n",
       "      <td>0.873816</td>\n",
       "      <td>AdaBoost</td>\n",
       "    </tr>\n",
       "    <tr>\n",
       "      <th>18</th>\n",
       "      <td>0.789744</td>\n",
       "      <td>0.770000</td>\n",
       "      <td>0.810526</td>\n",
       "      <td>0.888605</td>\n",
       "      <td>AdaBoost</td>\n",
       "    </tr>\n",
       "    <tr>\n",
       "      <th>19</th>\n",
       "      <td>0.721311</td>\n",
       "      <td>0.750000</td>\n",
       "      <td>0.694737</td>\n",
       "      <td>0.879053</td>\n",
       "      <td>AdaBoost</td>\n",
       "    </tr>\n",
       "    <tr>\n",
       "      <th>20</th>\n",
       "      <td>0.725275</td>\n",
       "      <td>0.758621</td>\n",
       "      <td>0.694737</td>\n",
       "      <td>0.876684</td>\n",
       "      <td>AdaBoost</td>\n",
       "    </tr>\n",
       "    <tr>\n",
       "      <th>21</th>\n",
       "      <td>0.758242</td>\n",
       "      <td>0.793103</td>\n",
       "      <td>0.726316</td>\n",
       "      <td>0.910632</td>\n",
       "      <td>AdaBoost</td>\n",
       "    </tr>\n",
       "    <tr>\n",
       "      <th>22</th>\n",
       "      <td>0.771739</td>\n",
       "      <td>0.797753</td>\n",
       "      <td>0.747368</td>\n",
       "      <td>0.900947</td>\n",
       "      <td>AdaBoost</td>\n",
       "    </tr>\n",
       "    <tr>\n",
       "      <th>23</th>\n",
       "      <td>0.770000</td>\n",
       "      <td>0.733333</td>\n",
       "      <td>0.810526</td>\n",
       "      <td>0.916421</td>\n",
       "      <td>AdaBoost</td>\n",
       "    </tr>\n",
       "    <tr>\n",
       "      <th>24</th>\n",
       "      <td>0.764398</td>\n",
       "      <td>0.760417</td>\n",
       "      <td>0.768421</td>\n",
       "      <td>0.895105</td>\n",
       "      <td>AdaBoost</td>\n",
       "    </tr>\n",
       "    <tr>\n",
       "      <th>25</th>\n",
       "      <td>0.777202</td>\n",
       "      <td>0.765306</td>\n",
       "      <td>0.789474</td>\n",
       "      <td>0.916816</td>\n",
       "      <td>AdaBoost</td>\n",
       "    </tr>\n",
       "    <tr>\n",
       "      <th>26</th>\n",
       "      <td>0.677596</td>\n",
       "      <td>0.696629</td>\n",
       "      <td>0.659574</td>\n",
       "      <td>0.845242</td>\n",
       "      <td>AdaBoost</td>\n",
       "    </tr>\n",
       "    <tr>\n",
       "      <th>27</th>\n",
       "      <td>0.820000</td>\n",
       "      <td>0.773585</td>\n",
       "      <td>0.872340</td>\n",
       "      <td>0.917328</td>\n",
       "      <td>AdaBoost</td>\n",
       "    </tr>\n",
       "    <tr>\n",
       "      <th>28</th>\n",
       "      <td>0.717647</td>\n",
       "      <td>0.802632</td>\n",
       "      <td>0.648936</td>\n",
       "      <td>0.870382</td>\n",
       "      <td>AdaBoost</td>\n",
       "    </tr>\n",
       "    <tr>\n",
       "      <th>29</th>\n",
       "      <td>0.760234</td>\n",
       "      <td>0.844156</td>\n",
       "      <td>0.691489</td>\n",
       "      <td>0.881463</td>\n",
       "      <td>AdaBoost</td>\n",
       "    </tr>\n",
       "    <tr>\n",
       "      <th>30</th>\n",
       "      <td>0.688889</td>\n",
       "      <td>0.729412</td>\n",
       "      <td>0.652632</td>\n",
       "      <td>0.830263</td>\n",
       "      <td>SVM</td>\n",
       "    </tr>\n",
       "    <tr>\n",
       "      <th>31</th>\n",
       "      <td>0.734940</td>\n",
       "      <td>0.859155</td>\n",
       "      <td>0.642105</td>\n",
       "      <td>0.899158</td>\n",
       "      <td>SVM</td>\n",
       "    </tr>\n",
       "    <tr>\n",
       "      <th>32</th>\n",
       "      <td>0.717647</td>\n",
       "      <td>0.813333</td>\n",
       "      <td>0.642105</td>\n",
       "      <td>0.865421</td>\n",
       "      <td>SVM</td>\n",
       "    </tr>\n",
       "    <tr>\n",
       "      <th>33</th>\n",
       "      <td>0.757576</td>\n",
       "      <td>0.728155</td>\n",
       "      <td>0.789474</td>\n",
       "      <td>0.885368</td>\n",
       "      <td>SVM</td>\n",
       "    </tr>\n",
       "    <tr>\n",
       "      <th>34</th>\n",
       "      <td>0.771574</td>\n",
       "      <td>0.745098</td>\n",
       "      <td>0.800000</td>\n",
       "      <td>0.871842</td>\n",
       "      <td>SVM</td>\n",
       "    </tr>\n",
       "    <tr>\n",
       "      <th>35</th>\n",
       "      <td>0.690909</td>\n",
       "      <td>0.814286</td>\n",
       "      <td>0.600000</td>\n",
       "      <td>0.853921</td>\n",
       "      <td>SVM</td>\n",
       "    </tr>\n",
       "    <tr>\n",
       "      <th>36</th>\n",
       "      <td>0.765027</td>\n",
       "      <td>0.795455</td>\n",
       "      <td>0.736842</td>\n",
       "      <td>0.862263</td>\n",
       "      <td>SVM</td>\n",
       "    </tr>\n",
       "    <tr>\n",
       "      <th>37</th>\n",
       "      <td>0.742857</td>\n",
       "      <td>0.812500</td>\n",
       "      <td>0.684211</td>\n",
       "      <td>0.867579</td>\n",
       "      <td>SVM</td>\n",
       "    </tr>\n",
       "    <tr>\n",
       "      <th>38</th>\n",
       "      <td>0.750000</td>\n",
       "      <td>0.814815</td>\n",
       "      <td>0.694737</td>\n",
       "      <td>0.907474</td>\n",
       "      <td>SVM</td>\n",
       "    </tr>\n",
       "    <tr>\n",
       "      <th>39</th>\n",
       "      <td>0.711864</td>\n",
       "      <td>0.768293</td>\n",
       "      <td>0.663158</td>\n",
       "      <td>0.869632</td>\n",
       "      <td>SVM</td>\n",
       "    </tr>\n",
       "    <tr>\n",
       "      <th>40</th>\n",
       "      <td>0.770053</td>\n",
       "      <td>0.782609</td>\n",
       "      <td>0.757895</td>\n",
       "      <td>0.911579</td>\n",
       "      <td>SVM</td>\n",
       "    </tr>\n",
       "    <tr>\n",
       "      <th>41</th>\n",
       "      <td>0.666667</td>\n",
       "      <td>0.710843</td>\n",
       "      <td>0.627660</td>\n",
       "      <td>0.830317</td>\n",
       "      <td>SVM</td>\n",
       "    </tr>\n",
       "    <tr>\n",
       "      <th>42</th>\n",
       "      <td>0.732558</td>\n",
       "      <td>0.807692</td>\n",
       "      <td>0.670213</td>\n",
       "      <td>0.899704</td>\n",
       "      <td>SVM</td>\n",
       "    </tr>\n",
       "    <tr>\n",
       "      <th>43</th>\n",
       "      <td>0.690058</td>\n",
       "      <td>0.766234</td>\n",
       "      <td>0.627660</td>\n",
       "      <td>0.803853</td>\n",
       "      <td>SVM</td>\n",
       "    </tr>\n",
       "    <tr>\n",
       "      <th>44</th>\n",
       "      <td>0.738095</td>\n",
       "      <td>0.837838</td>\n",
       "      <td>0.659574</td>\n",
       "      <td>0.878271</td>\n",
       "      <td>SVM</td>\n",
       "    </tr>\n",
       "  </tbody>\n",
       "</table>\n",
       "</div>"
      ],
      "text/plain": [
       "    F1 Score  Precision    Recall   ROC AUC                Model\n",
       "0   0.707182   0.744186  0.673684  0.831368  Logistic Regression\n",
       "1   0.755556   0.800000  0.715789  0.904947  Logistic Regression\n",
       "2   0.715789   0.715789  0.715789  0.858316  Logistic Regression\n",
       "3   0.776119   0.735849  0.821053  0.891263  Logistic Regression\n",
       "4   0.725389   0.714286  0.736842  0.872737  Logistic Regression\n",
       "5   0.738636   0.802469  0.684211  0.885053  Logistic Regression\n",
       "6   0.775956   0.806818  0.747368  0.903132  Logistic Regression\n",
       "7   0.739130   0.764045  0.715789  0.869158  Logistic Regression\n",
       "8   0.787879   0.757282  0.821053  0.904842  Logistic Regression\n",
       "9   0.722513   0.718750  0.726316  0.880684  Logistic Regression\n",
       "10  0.804233   0.808511  0.800000  0.920105  Logistic Regression\n",
       "11  0.681081   0.692308  0.670213  0.841855  Logistic Regression\n",
       "12  0.773196   0.750000  0.797872  0.907060  Logistic Regression\n",
       "13  0.724324   0.736264  0.712766  0.862496  Logistic Regression\n",
       "14  0.705882   0.789474  0.638298  0.856649  Logistic Regression\n",
       "15  0.695652   0.719101  0.673684  0.857211             AdaBoost\n",
       "16  0.748663   0.760870  0.736842  0.913684             AdaBoost\n",
       "17  0.735751   0.724490  0.747368  0.873816             AdaBoost\n",
       "18  0.789744   0.770000  0.810526  0.888605             AdaBoost\n",
       "19  0.721311   0.750000  0.694737  0.879053             AdaBoost\n",
       "20  0.725275   0.758621  0.694737  0.876684             AdaBoost\n",
       "21  0.758242   0.793103  0.726316  0.910632             AdaBoost\n",
       "22  0.771739   0.797753  0.747368  0.900947             AdaBoost\n",
       "23  0.770000   0.733333  0.810526  0.916421             AdaBoost\n",
       "24  0.764398   0.760417  0.768421  0.895105             AdaBoost\n",
       "25  0.777202   0.765306  0.789474  0.916816             AdaBoost\n",
       "26  0.677596   0.696629  0.659574  0.845242             AdaBoost\n",
       "27  0.820000   0.773585  0.872340  0.917328             AdaBoost\n",
       "28  0.717647   0.802632  0.648936  0.870382             AdaBoost\n",
       "29  0.760234   0.844156  0.691489  0.881463             AdaBoost\n",
       "30  0.688889   0.729412  0.652632  0.830263                  SVM\n",
       "31  0.734940   0.859155  0.642105  0.899158                  SVM\n",
       "32  0.717647   0.813333  0.642105  0.865421                  SVM\n",
       "33  0.757576   0.728155  0.789474  0.885368                  SVM\n",
       "34  0.771574   0.745098  0.800000  0.871842                  SVM\n",
       "35  0.690909   0.814286  0.600000  0.853921                  SVM\n",
       "36  0.765027   0.795455  0.736842  0.862263                  SVM\n",
       "37  0.742857   0.812500  0.684211  0.867579                  SVM\n",
       "38  0.750000   0.814815  0.694737  0.907474                  SVM\n",
       "39  0.711864   0.768293  0.663158  0.869632                  SVM\n",
       "40  0.770053   0.782609  0.757895  0.911579                  SVM\n",
       "41  0.666667   0.710843  0.627660  0.830317                  SVM\n",
       "42  0.732558   0.807692  0.670213  0.899704                  SVM\n",
       "43  0.690058   0.766234  0.627660  0.803853                  SVM\n",
       "44  0.738095   0.837838  0.659574  0.878271                  SVM"
      ]
     },
     "metadata": {},
     "output_type": "display_data"
    }
   ],
   "source": [
    "optuna_algo_dict = {\n",
    "    'Logistic Regression': algo_dict['Logistic Regression'],\n",
    "    'AdaBoost': algo_dict['AdaBoost'],\n",
    "    'SVM': algo_dict['SVM']\n",
    "}\n",
    "\n",
    "# Executa a validação cruzada aninhada com otimização de hiperparâmetros via Optuna\n",
    "results_df, best_study_per_model, best_params_per_model, best_f1_per_model, all_fold_params_per_model = nested_cv_with_optuna(X, y, optuna_algo_dict, outer_folds=15, inner_folds=15, metric='f1')\n",
    "display(results_df)"
   ]
  },
  {
   "cell_type": "code",
   "execution_count": 109,
   "metadata": {},
   "outputs": [
    {
     "name": "stdout",
     "output_type": "stream",
     "text": [
      "Best parameters for Logistic Regression: {'Modelo__C': 0.008544452911311366}\n",
      "Best parameters for AdaBoost: {'Modelo__n_estimators': 389, 'Modelo__learning_rate': 0.906248622778108}\n",
      "Best parameters for SVM: {'Modelo__C': 4.970566854587303, 'Modelo__kernel': 'rbf'}\n"
     ]
    }
   ],
   "source": [
    "for model_name in best_params_per_model:\n",
    "    print(f\"Best parameters for {model_name}: {best_params_per_model[model_name]}\")"
   ]
  },
  {
   "cell_type": "code",
   "execution_count": 110,
   "metadata": {},
   "outputs": [
    {
     "name": "stdout",
     "output_type": "stream",
     "text": [
      "Parameters for Logistic Regression, Fold 1: {'Modelo__C': 0.008544452911311366}\n",
      "Parameters for Logistic Regression, Fold 2: {'Modelo__C': 0.01301415555805272}\n",
      "Parameters for Logistic Regression, Fold 3: {'Modelo__C': 215.15358624531035}\n",
      "Parameters for Logistic Regression, Fold 4: {'Modelo__C': 0.012673635310163573}\n",
      "Parameters for Logistic Regression, Fold 5: {'Modelo__C': 0.029107612962082363}\n",
      "Parameters for Logistic Regression, Fold 6: {'Modelo__C': 0.019820136367800865}\n",
      "Parameters for Logistic Regression, Fold 7: {'Modelo__C': 0.023616911855950672}\n",
      "Parameters for Logistic Regression, Fold 8: {'Modelo__C': 748.6217989012847}\n",
      "Parameters for Logistic Regression, Fold 9: {'Modelo__C': 53.44513697898395}\n",
      "Parameters for Logistic Regression, Fold 10: {'Modelo__C': 0.06738984957306546}\n",
      "Parameters for Logistic Regression, Fold 11: {'Modelo__C': 0.016050289284527144}\n",
      "Parameters for Logistic Regression, Fold 12: {'Modelo__C': 0.8949654960534135}\n",
      "Parameters for Logistic Regression, Fold 13: {'Modelo__C': 0.44547084048581875}\n",
      "Parameters for Logistic Regression, Fold 14: {'Modelo__C': 0.01581976020044997}\n",
      "Parameters for Logistic Regression, Fold 15: {'Modelo__C': 133.09536850479424}\n",
      "Parameters for AdaBoost, Fold 1: {'Modelo__n_estimators': 389, 'Modelo__learning_rate': 0.906248622778108}\n",
      "Parameters for AdaBoost, Fold 2: {'Modelo__n_estimators': 280, 'Modelo__learning_rate': 1.2323014485534884}\n",
      "Parameters for AdaBoost, Fold 3: {'Modelo__n_estimators': 172, 'Modelo__learning_rate': 1.0565348459844226}\n",
      "Parameters for AdaBoost, Fold 4: {'Modelo__n_estimators': 342, 'Modelo__learning_rate': 0.359935338327715}\n",
      "Parameters for AdaBoost, Fold 5: {'Modelo__n_estimators': 287, 'Modelo__learning_rate': 1.2242382872525421}\n",
      "Parameters for AdaBoost, Fold 6: {'Modelo__n_estimators': 328, 'Modelo__learning_rate': 0.7670016968711306}\n",
      "Parameters for AdaBoost, Fold 7: {'Modelo__n_estimators': 419, 'Modelo__learning_rate': 1.1107215985190773}\n",
      "Parameters for AdaBoost, Fold 8: {'Modelo__n_estimators': 323, 'Modelo__learning_rate': 1.157135778745835}\n",
      "Parameters for AdaBoost, Fold 9: {'Modelo__n_estimators': 357, 'Modelo__learning_rate': 0.6143001805610951}\n",
      "Parameters for AdaBoost, Fold 10: {'Modelo__n_estimators': 340, 'Modelo__learning_rate': 1.0038954119396684}\n",
      "Parameters for AdaBoost, Fold 11: {'Modelo__n_estimators': 351, 'Modelo__learning_rate': 0.8484713870786464}\n",
      "Parameters for AdaBoost, Fold 12: {'Modelo__n_estimators': 488, 'Modelo__learning_rate': 0.8596423619908364}\n",
      "Parameters for AdaBoost, Fold 13: {'Modelo__n_estimators': 369, 'Modelo__learning_rate': 0.7674885026896706}\n",
      "Parameters for AdaBoost, Fold 14: {'Modelo__n_estimators': 456, 'Modelo__learning_rate': 0.8497181900868174}\n",
      "Parameters for AdaBoost, Fold 15: {'Modelo__n_estimators': 427, 'Modelo__learning_rate': 0.20171388071695684}\n",
      "Parameters for SVM, Fold 1: {'Modelo__C': 4.970566854587303, 'Modelo__kernel': 'rbf'}\n",
      "Parameters for SVM, Fold 2: {'Modelo__C': 0.00024395625387072526, 'Modelo__kernel': 'linear'}\n",
      "Parameters for SVM, Fold 3: {'Modelo__C': 0.0002935945892868154, 'Modelo__kernel': 'linear'}\n",
      "Parameters for SVM, Fold 4: {'Modelo__C': 1.1132133584798323, 'Modelo__kernel': 'rbf'}\n",
      "Parameters for SVM, Fold 5: {'Modelo__C': 9.762628527340473, 'Modelo__kernel': 'rbf'}\n",
      "Parameters for SVM, Fold 6: {'Modelo__C': 0.003828318175220085, 'Modelo__kernel': 'sigmoid'}\n",
      "Parameters for SVM, Fold 7: {'Modelo__C': 2.5885283130571843, 'Modelo__kernel': 'rbf'}\n",
      "Parameters for SVM, Fold 8: {'Modelo__C': 0.7754705416732951, 'Modelo__kernel': 'rbf'}\n",
      "Parameters for SVM, Fold 9: {'Modelo__C': 0.00064768779796597, 'Modelo__kernel': 'linear'}\n",
      "Parameters for SVM, Fold 10: {'Modelo__C': 49.81464867488148, 'Modelo__kernel': 'linear'}\n",
      "Parameters for SVM, Fold 11: {'Modelo__C': 0.8427771239658168, 'Modelo__kernel': 'rbf'}\n",
      "Parameters for SVM, Fold 12: {'Modelo__C': 0.6697764400694891, 'Modelo__kernel': 'rbf'}\n",
      "Parameters for SVM, Fold 13: {'Modelo__C': 2.5451809410304898, 'Modelo__kernel': 'linear'}\n",
      "Parameters for SVM, Fold 14: {'Modelo__C': 2.0934979873661494, 'Modelo__kernel': 'rbf'}\n",
      "Parameters for SVM, Fold 15: {'Modelo__C': 1.6473281290860213, 'Modelo__kernel': 'rbf'}\n"
     ]
    }
   ],
   "source": [
    "for model_name, fold_params_list in all_fold_params_per_model.items():\n",
    "    for fold_idx, fold_params in enumerate(fold_params_list, start=1):\n",
    "        print(f\"Parameters for {model_name}, Fold {fold_idx}: {fold_params}\")"
   ]
  },
  {
   "cell_type": "code",
   "execution_count": 111,
   "metadata": {},
   "outputs": [
    {
     "name": "stdout",
     "output_type": "stream",
     "text": [
      "{'C': 4.970566854587303, 'kernel': 'rbf'}\n"
     ]
    }
   ],
   "source": [
    "best_study = best_study_per_model[model_name]\n",
    "print(best_study.best_params)  # Dictionary of best hyperparameters"
   ]
  },
  {
   "cell_type": "code",
   "execution_count": 112,
   "metadata": {},
   "outputs": [
    {
     "name": "stdout",
     "output_type": "stream",
     "text": [
      "Best F1 for Logistic Regression: 0.7421911168018097\n",
      "Best Parameters for Logistic Regression: {'Modelo__C': 0.008544452911311366}\n",
      "Plots for model: Logistic Regression\n"
     ]
    },
    {
     "data": {
      "application/vnd.plotly.v1+json": {
       "config": {
        "plotlyServerURL": "https://plot.ly"
       },
       "data": [
        {
         "mode": "markers",
         "name": "Objective Value",
         "type": "scatter",
         "x": [
          0,
          1,
          2,
          3,
          4,
          5,
          6,
          7,
          8,
          9,
          10,
          11,
          12,
          13,
          14,
          15,
          16,
          17,
          18,
          19
         ],
         "y": [
          0.7442516759069039,
          0.7441708983579903,
          0.745767945017119,
          0.7415750276804605,
          0.7406566995431885,
          0.7438085793568552,
          0.7488700164473617,
          0.7427598569826201,
          0.7439029791682086,
          0.7412614129931239,
          0.7415054997125109,
          0.7424285787250486,
          0.7446738212382237,
          0.7434240809263948,
          0.7467119340158439,
          0.7444165097677389,
          0.7410937887582325,
          0.7447948556268039,
          0.7505180943519919,
          0.7086483317835106
         ]
        },
        {
         "mode": "lines",
         "name": "Best Value",
         "type": "scatter",
         "x": [
          0,
          1,
          2,
          3,
          4,
          5,
          6,
          7,
          8,
          9,
          10,
          11,
          12,
          13,
          14,
          15,
          16,
          17,
          18,
          19
         ],
         "y": [
          0.7442516759069039,
          0.7442516759069039,
          0.745767945017119,
          0.745767945017119,
          0.745767945017119,
          0.745767945017119,
          0.7488700164473617,
          0.7488700164473617,
          0.7488700164473617,
          0.7488700164473617,
          0.7488700164473617,
          0.7488700164473617,
          0.7488700164473617,
          0.7488700164473617,
          0.7488700164473617,
          0.7488700164473617,
          0.7488700164473617,
          0.7488700164473617,
          0.7505180943519919,
          0.7505180943519919
         ]
        },
        {
         "marker": {
          "color": "#cccccc"
         },
         "mode": "markers",
         "name": "Infeasible Trial",
         "showlegend": false,
         "type": "scatter",
         "x": [],
         "y": []
        }
       ],
       "layout": {
        "template": {
         "data": {
          "bar": [
           {
            "error_x": {
             "color": "#2a3f5f"
            },
            "error_y": {
             "color": "#2a3f5f"
            },
            "marker": {
             "line": {
              "color": "#E5ECF6",
              "width": 0.5
             },
             "pattern": {
              "fillmode": "overlay",
              "size": 10,
              "solidity": 0.2
             }
            },
            "type": "bar"
           }
          ],
          "barpolar": [
           {
            "marker": {
             "line": {
              "color": "#E5ECF6",
              "width": 0.5
             },
             "pattern": {
              "fillmode": "overlay",
              "size": 10,
              "solidity": 0.2
             }
            },
            "type": "barpolar"
           }
          ],
          "carpet": [
           {
            "aaxis": {
             "endlinecolor": "#2a3f5f",
             "gridcolor": "white",
             "linecolor": "white",
             "minorgridcolor": "white",
             "startlinecolor": "#2a3f5f"
            },
            "baxis": {
             "endlinecolor": "#2a3f5f",
             "gridcolor": "white",
             "linecolor": "white",
             "minorgridcolor": "white",
             "startlinecolor": "#2a3f5f"
            },
            "type": "carpet"
           }
          ],
          "choropleth": [
           {
            "colorbar": {
             "outlinewidth": 0,
             "ticks": ""
            },
            "type": "choropleth"
           }
          ],
          "contour": [
           {
            "colorbar": {
             "outlinewidth": 0,
             "ticks": ""
            },
            "colorscale": [
             [
              0,
              "#0d0887"
             ],
             [
              0.1111111111111111,
              "#46039f"
             ],
             [
              0.2222222222222222,
              "#7201a8"
             ],
             [
              0.3333333333333333,
              "#9c179e"
             ],
             [
              0.4444444444444444,
              "#bd3786"
             ],
             [
              0.5555555555555556,
              "#d8576b"
             ],
             [
              0.6666666666666666,
              "#ed7953"
             ],
             [
              0.7777777777777778,
              "#fb9f3a"
             ],
             [
              0.8888888888888888,
              "#fdca26"
             ],
             [
              1,
              "#f0f921"
             ]
            ],
            "type": "contour"
           }
          ],
          "contourcarpet": [
           {
            "colorbar": {
             "outlinewidth": 0,
             "ticks": ""
            },
            "type": "contourcarpet"
           }
          ],
          "heatmap": [
           {
            "colorbar": {
             "outlinewidth": 0,
             "ticks": ""
            },
            "colorscale": [
             [
              0,
              "#0d0887"
             ],
             [
              0.1111111111111111,
              "#46039f"
             ],
             [
              0.2222222222222222,
              "#7201a8"
             ],
             [
              0.3333333333333333,
              "#9c179e"
             ],
             [
              0.4444444444444444,
              "#bd3786"
             ],
             [
              0.5555555555555556,
              "#d8576b"
             ],
             [
              0.6666666666666666,
              "#ed7953"
             ],
             [
              0.7777777777777778,
              "#fb9f3a"
             ],
             [
              0.8888888888888888,
              "#fdca26"
             ],
             [
              1,
              "#f0f921"
             ]
            ],
            "type": "heatmap"
           }
          ],
          "heatmapgl": [
           {
            "colorbar": {
             "outlinewidth": 0,
             "ticks": ""
            },
            "colorscale": [
             [
              0,
              "#0d0887"
             ],
             [
              0.1111111111111111,
              "#46039f"
             ],
             [
              0.2222222222222222,
              "#7201a8"
             ],
             [
              0.3333333333333333,
              "#9c179e"
             ],
             [
              0.4444444444444444,
              "#bd3786"
             ],
             [
              0.5555555555555556,
              "#d8576b"
             ],
             [
              0.6666666666666666,
              "#ed7953"
             ],
             [
              0.7777777777777778,
              "#fb9f3a"
             ],
             [
              0.8888888888888888,
              "#fdca26"
             ],
             [
              1,
              "#f0f921"
             ]
            ],
            "type": "heatmapgl"
           }
          ],
          "histogram": [
           {
            "marker": {
             "pattern": {
              "fillmode": "overlay",
              "size": 10,
              "solidity": 0.2
             }
            },
            "type": "histogram"
           }
          ],
          "histogram2d": [
           {
            "colorbar": {
             "outlinewidth": 0,
             "ticks": ""
            },
            "colorscale": [
             [
              0,
              "#0d0887"
             ],
             [
              0.1111111111111111,
              "#46039f"
             ],
             [
              0.2222222222222222,
              "#7201a8"
             ],
             [
              0.3333333333333333,
              "#9c179e"
             ],
             [
              0.4444444444444444,
              "#bd3786"
             ],
             [
              0.5555555555555556,
              "#d8576b"
             ],
             [
              0.6666666666666666,
              "#ed7953"
             ],
             [
              0.7777777777777778,
              "#fb9f3a"
             ],
             [
              0.8888888888888888,
              "#fdca26"
             ],
             [
              1,
              "#f0f921"
             ]
            ],
            "type": "histogram2d"
           }
          ],
          "histogram2dcontour": [
           {
            "colorbar": {
             "outlinewidth": 0,
             "ticks": ""
            },
            "colorscale": [
             [
              0,
              "#0d0887"
             ],
             [
              0.1111111111111111,
              "#46039f"
             ],
             [
              0.2222222222222222,
              "#7201a8"
             ],
             [
              0.3333333333333333,
              "#9c179e"
             ],
             [
              0.4444444444444444,
              "#bd3786"
             ],
             [
              0.5555555555555556,
              "#d8576b"
             ],
             [
              0.6666666666666666,
              "#ed7953"
             ],
             [
              0.7777777777777778,
              "#fb9f3a"
             ],
             [
              0.8888888888888888,
              "#fdca26"
             ],
             [
              1,
              "#f0f921"
             ]
            ],
            "type": "histogram2dcontour"
           }
          ],
          "mesh3d": [
           {
            "colorbar": {
             "outlinewidth": 0,
             "ticks": ""
            },
            "type": "mesh3d"
           }
          ],
          "parcoords": [
           {
            "line": {
             "colorbar": {
              "outlinewidth": 0,
              "ticks": ""
             }
            },
            "type": "parcoords"
           }
          ],
          "pie": [
           {
            "automargin": true,
            "type": "pie"
           }
          ],
          "scatter": [
           {
            "fillpattern": {
             "fillmode": "overlay",
             "size": 10,
             "solidity": 0.2
            },
            "type": "scatter"
           }
          ],
          "scatter3d": [
           {
            "line": {
             "colorbar": {
              "outlinewidth": 0,
              "ticks": ""
             }
            },
            "marker": {
             "colorbar": {
              "outlinewidth": 0,
              "ticks": ""
             }
            },
            "type": "scatter3d"
           }
          ],
          "scattercarpet": [
           {
            "marker": {
             "colorbar": {
              "outlinewidth": 0,
              "ticks": ""
             }
            },
            "type": "scattercarpet"
           }
          ],
          "scattergeo": [
           {
            "marker": {
             "colorbar": {
              "outlinewidth": 0,
              "ticks": ""
             }
            },
            "type": "scattergeo"
           }
          ],
          "scattergl": [
           {
            "marker": {
             "colorbar": {
              "outlinewidth": 0,
              "ticks": ""
             }
            },
            "type": "scattergl"
           }
          ],
          "scattermapbox": [
           {
            "marker": {
             "colorbar": {
              "outlinewidth": 0,
              "ticks": ""
             }
            },
            "type": "scattermapbox"
           }
          ],
          "scatterpolar": [
           {
            "marker": {
             "colorbar": {
              "outlinewidth": 0,
              "ticks": ""
             }
            },
            "type": "scatterpolar"
           }
          ],
          "scatterpolargl": [
           {
            "marker": {
             "colorbar": {
              "outlinewidth": 0,
              "ticks": ""
             }
            },
            "type": "scatterpolargl"
           }
          ],
          "scatterternary": [
           {
            "marker": {
             "colorbar": {
              "outlinewidth": 0,
              "ticks": ""
             }
            },
            "type": "scatterternary"
           }
          ],
          "surface": [
           {
            "colorbar": {
             "outlinewidth": 0,
             "ticks": ""
            },
            "colorscale": [
             [
              0,
              "#0d0887"
             ],
             [
              0.1111111111111111,
              "#46039f"
             ],
             [
              0.2222222222222222,
              "#7201a8"
             ],
             [
              0.3333333333333333,
              "#9c179e"
             ],
             [
              0.4444444444444444,
              "#bd3786"
             ],
             [
              0.5555555555555556,
              "#d8576b"
             ],
             [
              0.6666666666666666,
              "#ed7953"
             ],
             [
              0.7777777777777778,
              "#fb9f3a"
             ],
             [
              0.8888888888888888,
              "#fdca26"
             ],
             [
              1,
              "#f0f921"
             ]
            ],
            "type": "surface"
           }
          ],
          "table": [
           {
            "cells": {
             "fill": {
              "color": "#EBF0F8"
             },
             "line": {
              "color": "white"
             }
            },
            "header": {
             "fill": {
              "color": "#C8D4E3"
             },
             "line": {
              "color": "white"
             }
            },
            "type": "table"
           }
          ]
         },
         "layout": {
          "annotationdefaults": {
           "arrowcolor": "#2a3f5f",
           "arrowhead": 0,
           "arrowwidth": 1
          },
          "autotypenumbers": "strict",
          "coloraxis": {
           "colorbar": {
            "outlinewidth": 0,
            "ticks": ""
           }
          },
          "colorscale": {
           "diverging": [
            [
             0,
             "#8e0152"
            ],
            [
             0.1,
             "#c51b7d"
            ],
            [
             0.2,
             "#de77ae"
            ],
            [
             0.3,
             "#f1b6da"
            ],
            [
             0.4,
             "#fde0ef"
            ],
            [
             0.5,
             "#f7f7f7"
            ],
            [
             0.6,
             "#e6f5d0"
            ],
            [
             0.7,
             "#b8e186"
            ],
            [
             0.8,
             "#7fbc41"
            ],
            [
             0.9,
             "#4d9221"
            ],
            [
             1,
             "#276419"
            ]
           ],
           "sequential": [
            [
             0,
             "#0d0887"
            ],
            [
             0.1111111111111111,
             "#46039f"
            ],
            [
             0.2222222222222222,
             "#7201a8"
            ],
            [
             0.3333333333333333,
             "#9c179e"
            ],
            [
             0.4444444444444444,
             "#bd3786"
            ],
            [
             0.5555555555555556,
             "#d8576b"
            ],
            [
             0.6666666666666666,
             "#ed7953"
            ],
            [
             0.7777777777777778,
             "#fb9f3a"
            ],
            [
             0.8888888888888888,
             "#fdca26"
            ],
            [
             1,
             "#f0f921"
            ]
           ],
           "sequentialminus": [
            [
             0,
             "#0d0887"
            ],
            [
             0.1111111111111111,
             "#46039f"
            ],
            [
             0.2222222222222222,
             "#7201a8"
            ],
            [
             0.3333333333333333,
             "#9c179e"
            ],
            [
             0.4444444444444444,
             "#bd3786"
            ],
            [
             0.5555555555555556,
             "#d8576b"
            ],
            [
             0.6666666666666666,
             "#ed7953"
            ],
            [
             0.7777777777777778,
             "#fb9f3a"
            ],
            [
             0.8888888888888888,
             "#fdca26"
            ],
            [
             1,
             "#f0f921"
            ]
           ]
          },
          "colorway": [
           "#636efa",
           "#EF553B",
           "#00cc96",
           "#ab63fa",
           "#FFA15A",
           "#19d3f3",
           "#FF6692",
           "#B6E880",
           "#FF97FF",
           "#FECB52"
          ],
          "font": {
           "color": "#2a3f5f"
          },
          "geo": {
           "bgcolor": "white",
           "lakecolor": "white",
           "landcolor": "#E5ECF6",
           "showlakes": true,
           "showland": true,
           "subunitcolor": "white"
          },
          "hoverlabel": {
           "align": "left"
          },
          "hovermode": "closest",
          "mapbox": {
           "style": "light"
          },
          "paper_bgcolor": "white",
          "plot_bgcolor": "#E5ECF6",
          "polar": {
           "angularaxis": {
            "gridcolor": "white",
            "linecolor": "white",
            "ticks": ""
           },
           "bgcolor": "#E5ECF6",
           "radialaxis": {
            "gridcolor": "white",
            "linecolor": "white",
            "ticks": ""
           }
          },
          "scene": {
           "xaxis": {
            "backgroundcolor": "#E5ECF6",
            "gridcolor": "white",
            "gridwidth": 2,
            "linecolor": "white",
            "showbackground": true,
            "ticks": "",
            "zerolinecolor": "white"
           },
           "yaxis": {
            "backgroundcolor": "#E5ECF6",
            "gridcolor": "white",
            "gridwidth": 2,
            "linecolor": "white",
            "showbackground": true,
            "ticks": "",
            "zerolinecolor": "white"
           },
           "zaxis": {
            "backgroundcolor": "#E5ECF6",
            "gridcolor": "white",
            "gridwidth": 2,
            "linecolor": "white",
            "showbackground": true,
            "ticks": "",
            "zerolinecolor": "white"
           }
          },
          "shapedefaults": {
           "line": {
            "color": "#2a3f5f"
           }
          },
          "ternary": {
           "aaxis": {
            "gridcolor": "white",
            "linecolor": "white",
            "ticks": ""
           },
           "baxis": {
            "gridcolor": "white",
            "linecolor": "white",
            "ticks": ""
           },
           "bgcolor": "#E5ECF6",
           "caxis": {
            "gridcolor": "white",
            "linecolor": "white",
            "ticks": ""
           }
          },
          "title": {
           "x": 0.05
          },
          "xaxis": {
           "automargin": true,
           "gridcolor": "white",
           "linecolor": "white",
           "ticks": "",
           "title": {
            "standoff": 15
           },
           "zerolinecolor": "white",
           "zerolinewidth": 2
          },
          "yaxis": {
           "automargin": true,
           "gridcolor": "white",
           "linecolor": "white",
           "ticks": "",
           "title": {
            "standoff": 15
           },
           "zerolinecolor": "white",
           "zerolinewidth": 2
          }
         }
        },
        "title": {
         "text": "Optimization History Plot"
        },
        "xaxis": {
         "title": {
          "text": "Trial"
         }
        },
        "yaxis": {
         "title": {
          "text": "Objective Value"
         }
        }
       }
      }
     },
     "metadata": {},
     "output_type": "display_data"
    },
    {
     "data": {
      "application/vnd.plotly.v1+json": {
       "config": {
        "plotlyServerURL": "https://plot.ly"
       },
       "data": [
        {
         "marker": {
          "color": [
           0,
           1,
           2,
           3,
           4,
           5,
           6,
           7,
           8,
           9,
           10,
           11,
           12,
           13,
           14,
           15,
           16,
           17,
           18,
           19
          ],
          "colorbar": {
           "title": {
            "text": "Trial"
           },
           "x": 1,
           "xpad": 40
          },
          "colorscale": [
           [
            0,
            "rgb(247,251,255)"
           ],
           [
            0.125,
            "rgb(222,235,247)"
           ],
           [
            0.25,
            "rgb(198,219,239)"
           ],
           [
            0.375,
            "rgb(158,202,225)"
           ],
           [
            0.5,
            "rgb(107,174,214)"
           ],
           [
            0.625,
            "rgb(66,146,198)"
           ],
           [
            0.75,
            "rgb(33,113,181)"
           ],
           [
            0.875,
            "rgb(8,81,156)"
           ],
           [
            1,
            "rgb(8,48,107)"
           ]
          ],
          "line": {
           "color": "Grey",
           "width": 0.5
          },
          "showscale": true
         },
         "mode": "markers",
         "name": "Feasible Trial",
         "showlegend": false,
         "type": "scatter",
         "x": [
          0.002934262474576823,
          0.037089418260033764,
          0.22562179842903202,
          342.3584933510227,
          0.03894442732489986,
          0.04260600647972879,
          0.10257974923461119,
          0.004033328436272409,
          2.947479135734104,
          0.025567899011668033,
          5.225680353257825,
          0.3856127334363129,
          0.49658310044386467,
          45.461298751692055,
          0.32902445465914026,
          12.254510463702813,
          0.15792343301604156,
          1.898776488860904,
          0.008544452911311366,
          0.001128976712297542
         ],
         "xaxis": "x",
         "y": [
          0.7442516759069039,
          0.7441708983579903,
          0.745767945017119,
          0.7415750276804605,
          0.7406566995431885,
          0.7438085793568552,
          0.7488700164473617,
          0.7427598569826201,
          0.7439029791682086,
          0.7412614129931239,
          0.7415054997125109,
          0.7424285787250486,
          0.7446738212382237,
          0.7434240809263948,
          0.7467119340158439,
          0.7444165097677389,
          0.7410937887582325,
          0.7447948556268039,
          0.7505180943519919,
          0.7086483317835106
         ],
         "yaxis": "y"
        },
        {
         "marker": {
          "color": [
           0,
           1,
           2,
           3,
           4,
           5,
           6,
           7,
           8,
           9,
           10,
           11,
           12,
           13,
           14,
           15,
           16,
           17,
           18,
           19
          ],
          "colorbar": {
           "title": {
            "text": "Trial"
           },
           "x": 1,
           "xpad": 40
          },
          "colorscale": [
           [
            0,
            "rgb(247,251,255)"
           ],
           [
            0.125,
            "rgb(222,235,247)"
           ],
           [
            0.25,
            "rgb(198,219,239)"
           ],
           [
            0.375,
            "rgb(158,202,225)"
           ],
           [
            0.5,
            "rgb(107,174,214)"
           ],
           [
            0.625,
            "rgb(66,146,198)"
           ],
           [
            0.75,
            "rgb(33,113,181)"
           ],
           [
            0.875,
            "rgb(8,81,156)"
           ],
           [
            1,
            "rgb(8,48,107)"
           ]
          ],
          "line": {
           "color": "Grey",
           "width": 0.5
          },
          "showscale": false
         },
         "mode": "markers",
         "name": "Feasible Trial",
         "showlegend": false,
         "type": "scatter",
         "x": [
          "lbfgs_l2",
          "liblinear_l2",
          "liblinear_l2",
          "liblinear_l1",
          "lbfgs_l2",
          "liblinear_l2",
          "liblinear_l1",
          "lbfgs_l2",
          "lbfgs_l2",
          "lbfgs_l2",
          "liblinear_l1",
          "liblinear_l2",
          "liblinear_l1",
          "liblinear_l1",
          "liblinear_l2",
          "liblinear_l2",
          "liblinear_l1",
          "liblinear_l2",
          "liblinear_l1",
          "liblinear_l1"
         ],
         "xaxis": "x2",
         "y": [
          0.7442516759069039,
          0.7441708983579903,
          0.745767945017119,
          0.7415750276804605,
          0.7406566995431885,
          0.7438085793568552,
          0.7488700164473617,
          0.7427598569826201,
          0.7439029791682086,
          0.7412614129931239,
          0.7415054997125109,
          0.7424285787250486,
          0.7446738212382237,
          0.7434240809263948,
          0.7467119340158439,
          0.7444165097677389,
          0.7410937887582325,
          0.7447948556268039,
          0.7505180943519919,
          0.7086483317835106
         ],
         "yaxis": "y2"
        }
       ],
       "layout": {
        "template": {
         "data": {
          "bar": [
           {
            "error_x": {
             "color": "#2a3f5f"
            },
            "error_y": {
             "color": "#2a3f5f"
            },
            "marker": {
             "line": {
              "color": "#E5ECF6",
              "width": 0.5
             },
             "pattern": {
              "fillmode": "overlay",
              "size": 10,
              "solidity": 0.2
             }
            },
            "type": "bar"
           }
          ],
          "barpolar": [
           {
            "marker": {
             "line": {
              "color": "#E5ECF6",
              "width": 0.5
             },
             "pattern": {
              "fillmode": "overlay",
              "size": 10,
              "solidity": 0.2
             }
            },
            "type": "barpolar"
           }
          ],
          "carpet": [
           {
            "aaxis": {
             "endlinecolor": "#2a3f5f",
             "gridcolor": "white",
             "linecolor": "white",
             "minorgridcolor": "white",
             "startlinecolor": "#2a3f5f"
            },
            "baxis": {
             "endlinecolor": "#2a3f5f",
             "gridcolor": "white",
             "linecolor": "white",
             "minorgridcolor": "white",
             "startlinecolor": "#2a3f5f"
            },
            "type": "carpet"
           }
          ],
          "choropleth": [
           {
            "colorbar": {
             "outlinewidth": 0,
             "ticks": ""
            },
            "type": "choropleth"
           }
          ],
          "contour": [
           {
            "colorbar": {
             "outlinewidth": 0,
             "ticks": ""
            },
            "colorscale": [
             [
              0,
              "#0d0887"
             ],
             [
              0.1111111111111111,
              "#46039f"
             ],
             [
              0.2222222222222222,
              "#7201a8"
             ],
             [
              0.3333333333333333,
              "#9c179e"
             ],
             [
              0.4444444444444444,
              "#bd3786"
             ],
             [
              0.5555555555555556,
              "#d8576b"
             ],
             [
              0.6666666666666666,
              "#ed7953"
             ],
             [
              0.7777777777777778,
              "#fb9f3a"
             ],
             [
              0.8888888888888888,
              "#fdca26"
             ],
             [
              1,
              "#f0f921"
             ]
            ],
            "type": "contour"
           }
          ],
          "contourcarpet": [
           {
            "colorbar": {
             "outlinewidth": 0,
             "ticks": ""
            },
            "type": "contourcarpet"
           }
          ],
          "heatmap": [
           {
            "colorbar": {
             "outlinewidth": 0,
             "ticks": ""
            },
            "colorscale": [
             [
              0,
              "#0d0887"
             ],
             [
              0.1111111111111111,
              "#46039f"
             ],
             [
              0.2222222222222222,
              "#7201a8"
             ],
             [
              0.3333333333333333,
              "#9c179e"
             ],
             [
              0.4444444444444444,
              "#bd3786"
             ],
             [
              0.5555555555555556,
              "#d8576b"
             ],
             [
              0.6666666666666666,
              "#ed7953"
             ],
             [
              0.7777777777777778,
              "#fb9f3a"
             ],
             [
              0.8888888888888888,
              "#fdca26"
             ],
             [
              1,
              "#f0f921"
             ]
            ],
            "type": "heatmap"
           }
          ],
          "heatmapgl": [
           {
            "colorbar": {
             "outlinewidth": 0,
             "ticks": ""
            },
            "colorscale": [
             [
              0,
              "#0d0887"
             ],
             [
              0.1111111111111111,
              "#46039f"
             ],
             [
              0.2222222222222222,
              "#7201a8"
             ],
             [
              0.3333333333333333,
              "#9c179e"
             ],
             [
              0.4444444444444444,
              "#bd3786"
             ],
             [
              0.5555555555555556,
              "#d8576b"
             ],
             [
              0.6666666666666666,
              "#ed7953"
             ],
             [
              0.7777777777777778,
              "#fb9f3a"
             ],
             [
              0.8888888888888888,
              "#fdca26"
             ],
             [
              1,
              "#f0f921"
             ]
            ],
            "type": "heatmapgl"
           }
          ],
          "histogram": [
           {
            "marker": {
             "pattern": {
              "fillmode": "overlay",
              "size": 10,
              "solidity": 0.2
             }
            },
            "type": "histogram"
           }
          ],
          "histogram2d": [
           {
            "colorbar": {
             "outlinewidth": 0,
             "ticks": ""
            },
            "colorscale": [
             [
              0,
              "#0d0887"
             ],
             [
              0.1111111111111111,
              "#46039f"
             ],
             [
              0.2222222222222222,
              "#7201a8"
             ],
             [
              0.3333333333333333,
              "#9c179e"
             ],
             [
              0.4444444444444444,
              "#bd3786"
             ],
             [
              0.5555555555555556,
              "#d8576b"
             ],
             [
              0.6666666666666666,
              "#ed7953"
             ],
             [
              0.7777777777777778,
              "#fb9f3a"
             ],
             [
              0.8888888888888888,
              "#fdca26"
             ],
             [
              1,
              "#f0f921"
             ]
            ],
            "type": "histogram2d"
           }
          ],
          "histogram2dcontour": [
           {
            "colorbar": {
             "outlinewidth": 0,
             "ticks": ""
            },
            "colorscale": [
             [
              0,
              "#0d0887"
             ],
             [
              0.1111111111111111,
              "#46039f"
             ],
             [
              0.2222222222222222,
              "#7201a8"
             ],
             [
              0.3333333333333333,
              "#9c179e"
             ],
             [
              0.4444444444444444,
              "#bd3786"
             ],
             [
              0.5555555555555556,
              "#d8576b"
             ],
             [
              0.6666666666666666,
              "#ed7953"
             ],
             [
              0.7777777777777778,
              "#fb9f3a"
             ],
             [
              0.8888888888888888,
              "#fdca26"
             ],
             [
              1,
              "#f0f921"
             ]
            ],
            "type": "histogram2dcontour"
           }
          ],
          "mesh3d": [
           {
            "colorbar": {
             "outlinewidth": 0,
             "ticks": ""
            },
            "type": "mesh3d"
           }
          ],
          "parcoords": [
           {
            "line": {
             "colorbar": {
              "outlinewidth": 0,
              "ticks": ""
             }
            },
            "type": "parcoords"
           }
          ],
          "pie": [
           {
            "automargin": true,
            "type": "pie"
           }
          ],
          "scatter": [
           {
            "fillpattern": {
             "fillmode": "overlay",
             "size": 10,
             "solidity": 0.2
            },
            "type": "scatter"
           }
          ],
          "scatter3d": [
           {
            "line": {
             "colorbar": {
              "outlinewidth": 0,
              "ticks": ""
             }
            },
            "marker": {
             "colorbar": {
              "outlinewidth": 0,
              "ticks": ""
             }
            },
            "type": "scatter3d"
           }
          ],
          "scattercarpet": [
           {
            "marker": {
             "colorbar": {
              "outlinewidth": 0,
              "ticks": ""
             }
            },
            "type": "scattercarpet"
           }
          ],
          "scattergeo": [
           {
            "marker": {
             "colorbar": {
              "outlinewidth": 0,
              "ticks": ""
             }
            },
            "type": "scattergeo"
           }
          ],
          "scattergl": [
           {
            "marker": {
             "colorbar": {
              "outlinewidth": 0,
              "ticks": ""
             }
            },
            "type": "scattergl"
           }
          ],
          "scattermapbox": [
           {
            "marker": {
             "colorbar": {
              "outlinewidth": 0,
              "ticks": ""
             }
            },
            "type": "scattermapbox"
           }
          ],
          "scatterpolar": [
           {
            "marker": {
             "colorbar": {
              "outlinewidth": 0,
              "ticks": ""
             }
            },
            "type": "scatterpolar"
           }
          ],
          "scatterpolargl": [
           {
            "marker": {
             "colorbar": {
              "outlinewidth": 0,
              "ticks": ""
             }
            },
            "type": "scatterpolargl"
           }
          ],
          "scatterternary": [
           {
            "marker": {
             "colorbar": {
              "outlinewidth": 0,
              "ticks": ""
             }
            },
            "type": "scatterternary"
           }
          ],
          "surface": [
           {
            "colorbar": {
             "outlinewidth": 0,
             "ticks": ""
            },
            "colorscale": [
             [
              0,
              "#0d0887"
             ],
             [
              0.1111111111111111,
              "#46039f"
             ],
             [
              0.2222222222222222,
              "#7201a8"
             ],
             [
              0.3333333333333333,
              "#9c179e"
             ],
             [
              0.4444444444444444,
              "#bd3786"
             ],
             [
              0.5555555555555556,
              "#d8576b"
             ],
             [
              0.6666666666666666,
              "#ed7953"
             ],
             [
              0.7777777777777778,
              "#fb9f3a"
             ],
             [
              0.8888888888888888,
              "#fdca26"
             ],
             [
              1,
              "#f0f921"
             ]
            ],
            "type": "surface"
           }
          ],
          "table": [
           {
            "cells": {
             "fill": {
              "color": "#EBF0F8"
             },
             "line": {
              "color": "white"
             }
            },
            "header": {
             "fill": {
              "color": "#C8D4E3"
             },
             "line": {
              "color": "white"
             }
            },
            "type": "table"
           }
          ]
         },
         "layout": {
          "annotationdefaults": {
           "arrowcolor": "#2a3f5f",
           "arrowhead": 0,
           "arrowwidth": 1
          },
          "autotypenumbers": "strict",
          "coloraxis": {
           "colorbar": {
            "outlinewidth": 0,
            "ticks": ""
           }
          },
          "colorscale": {
           "diverging": [
            [
             0,
             "#8e0152"
            ],
            [
             0.1,
             "#c51b7d"
            ],
            [
             0.2,
             "#de77ae"
            ],
            [
             0.3,
             "#f1b6da"
            ],
            [
             0.4,
             "#fde0ef"
            ],
            [
             0.5,
             "#f7f7f7"
            ],
            [
             0.6,
             "#e6f5d0"
            ],
            [
             0.7,
             "#b8e186"
            ],
            [
             0.8,
             "#7fbc41"
            ],
            [
             0.9,
             "#4d9221"
            ],
            [
             1,
             "#276419"
            ]
           ],
           "sequential": [
            [
             0,
             "#0d0887"
            ],
            [
             0.1111111111111111,
             "#46039f"
            ],
            [
             0.2222222222222222,
             "#7201a8"
            ],
            [
             0.3333333333333333,
             "#9c179e"
            ],
            [
             0.4444444444444444,
             "#bd3786"
            ],
            [
             0.5555555555555556,
             "#d8576b"
            ],
            [
             0.6666666666666666,
             "#ed7953"
            ],
            [
             0.7777777777777778,
             "#fb9f3a"
            ],
            [
             0.8888888888888888,
             "#fdca26"
            ],
            [
             1,
             "#f0f921"
            ]
           ],
           "sequentialminus": [
            [
             0,
             "#0d0887"
            ],
            [
             0.1111111111111111,
             "#46039f"
            ],
            [
             0.2222222222222222,
             "#7201a8"
            ],
            [
             0.3333333333333333,
             "#9c179e"
            ],
            [
             0.4444444444444444,
             "#bd3786"
            ],
            [
             0.5555555555555556,
             "#d8576b"
            ],
            [
             0.6666666666666666,
             "#ed7953"
            ],
            [
             0.7777777777777778,
             "#fb9f3a"
            ],
            [
             0.8888888888888888,
             "#fdca26"
            ],
            [
             1,
             "#f0f921"
            ]
           ]
          },
          "colorway": [
           "#636efa",
           "#EF553B",
           "#00cc96",
           "#ab63fa",
           "#FFA15A",
           "#19d3f3",
           "#FF6692",
           "#B6E880",
           "#FF97FF",
           "#FECB52"
          ],
          "font": {
           "color": "#2a3f5f"
          },
          "geo": {
           "bgcolor": "white",
           "lakecolor": "white",
           "landcolor": "#E5ECF6",
           "showlakes": true,
           "showland": true,
           "subunitcolor": "white"
          },
          "hoverlabel": {
           "align": "left"
          },
          "hovermode": "closest",
          "mapbox": {
           "style": "light"
          },
          "paper_bgcolor": "white",
          "plot_bgcolor": "#E5ECF6",
          "polar": {
           "angularaxis": {
            "gridcolor": "white",
            "linecolor": "white",
            "ticks": ""
           },
           "bgcolor": "#E5ECF6",
           "radialaxis": {
            "gridcolor": "white",
            "linecolor": "white",
            "ticks": ""
           }
          },
          "scene": {
           "xaxis": {
            "backgroundcolor": "#E5ECF6",
            "gridcolor": "white",
            "gridwidth": 2,
            "linecolor": "white",
            "showbackground": true,
            "ticks": "",
            "zerolinecolor": "white"
           },
           "yaxis": {
            "backgroundcolor": "#E5ECF6",
            "gridcolor": "white",
            "gridwidth": 2,
            "linecolor": "white",
            "showbackground": true,
            "ticks": "",
            "zerolinecolor": "white"
           },
           "zaxis": {
            "backgroundcolor": "#E5ECF6",
            "gridcolor": "white",
            "gridwidth": 2,
            "linecolor": "white",
            "showbackground": true,
            "ticks": "",
            "zerolinecolor": "white"
           }
          },
          "shapedefaults": {
           "line": {
            "color": "#2a3f5f"
           }
          },
          "ternary": {
           "aaxis": {
            "gridcolor": "white",
            "linecolor": "white",
            "ticks": ""
           },
           "baxis": {
            "gridcolor": "white",
            "linecolor": "white",
            "ticks": ""
           },
           "bgcolor": "#E5ECF6",
           "caxis": {
            "gridcolor": "white",
            "linecolor": "white",
            "ticks": ""
           }
          },
          "title": {
           "x": 0.05
          },
          "xaxis": {
           "automargin": true,
           "gridcolor": "white",
           "linecolor": "white",
           "ticks": "",
           "title": {
            "standoff": 15
           },
           "zerolinecolor": "white",
           "zerolinewidth": 2
          },
          "yaxis": {
           "automargin": true,
           "gridcolor": "white",
           "linecolor": "white",
           "ticks": "",
           "title": {
            "standoff": 15
           },
           "zerolinecolor": "white",
           "zerolinewidth": 2
          }
         }
        },
        "title": {
         "text": "Slice Plot"
        },
        "xaxis": {
         "anchor": "y",
         "domain": [
          0,
          0.45
         ],
         "title": {
          "text": "C"
         },
         "type": "log"
        },
        "xaxis2": {
         "anchor": "y2",
         "categoryarray": [
          "liblinear_l1",
          "liblinear_l2",
          "lbfgs_l2"
         ],
         "categoryorder": "array",
         "domain": [
          0.55,
          1
         ],
         "title": {
          "text": "solver_penalty"
         },
         "type": "category"
        },
        "yaxis": {
         "anchor": "x",
         "domain": [
          0,
          1
         ],
         "title": {
          "text": "Objective Value"
         }
        },
        "yaxis2": {
         "anchor": "x2",
         "domain": [
          0,
          1
         ],
         "matches": "y",
         "showticklabels": false
        }
       }
      }
     },
     "metadata": {},
     "output_type": "display_data"
    },
    {
     "data": {
      "application/vnd.plotly.v1+json": {
       "config": {
        "plotlyServerURL": "https://plot.ly"
       },
       "data": [
        {
         "dimensions": [
          {
           "label": "Objective Value",
           "range": [
            0.7086483317835106,
            0.7505180943519919
           ],
           "values": [
            0.7442516759069039,
            0.7441708983579903,
            0.745767945017119,
            0.7415750276804605,
            0.7406566995431885,
            0.7438085793568552,
            0.7488700164473617,
            0.7427598569826201,
            0.7439029791682086,
            0.7412614129931239,
            0.7415054997125109,
            0.7424285787250486,
            0.7446738212382237,
            0.7434240809263948,
            0.7467119340158439,
            0.7444165097677389,
            0.7410937887582325,
            0.7447948556268039,
            0.7505180943519919,
            0.7086483317835106
           ]
          },
          {
           "label": "C",
           "range": [
            -2.947315016290251,
            2.534481106468643
           ],
           "ticktext": [
            "0.00113",
            "0.01",
            "0.1",
            "1",
            "10",
            "100",
            "342"
           ],
           "tickvals": [
            -2.947315016290251,
            -2,
            -1,
            0,
            1,
            2,
            2.534481106468643
           ],
           "values": [
            -2.5325010404034893,
            -1.4307499784384048,
            -0.6466189433407148,
            2.534481106468643,
            -1.4095546780477128,
            -1.370529170917988,
            -0.9889383669407442,
            -2.394336411701021,
            0.46945073954571254,
            -1.5923049577432118,
            0.7181428410855424,
            -0.4138486335611663,
            -0.304008064299901,
            1.6576418386180833,
            -0.48277182202319346,
            1.0882959669827132,
            -0.8015534236681212,
            0.27847384553358356,
            -2.0683157392867124,
            -2.947315016290251
           ]
          },
          {
           "label": "solver_penalty",
           "range": [
            0,
            2
           ],
           "ticktext": [
            "lbfgs_l2",
            "liblinear_l2",
            "liblinear_l1"
           ],
           "tickvals": [
            0,
            1,
            2
           ],
           "values": [
            0,
            1,
            1,
            2,
            0,
            1,
            2,
            0,
            0,
            0,
            2,
            1,
            2,
            2,
            1,
            1,
            2,
            1,
            2,
            2
           ]
          }
         ],
         "labelangle": 30,
         "labelside": "bottom",
         "line": {
          "color": [
           0.7442516759069039,
           0.7441708983579903,
           0.745767945017119,
           0.7415750276804605,
           0.7406566995431885,
           0.7438085793568552,
           0.7488700164473617,
           0.7427598569826201,
           0.7439029791682086,
           0.7412614129931239,
           0.7415054997125109,
           0.7424285787250486,
           0.7446738212382237,
           0.7434240809263948,
           0.7467119340158439,
           0.7444165097677389,
           0.7410937887582325,
           0.7447948556268039,
           0.7505180943519919,
           0.7086483317835106
          ],
          "colorbar": {
           "title": {
            "text": "Objective Value"
           }
          },
          "colorscale": [
           [
            0,
            "rgb(247,251,255)"
           ],
           [
            0.125,
            "rgb(222,235,247)"
           ],
           [
            0.25,
            "rgb(198,219,239)"
           ],
           [
            0.375,
            "rgb(158,202,225)"
           ],
           [
            0.5,
            "rgb(107,174,214)"
           ],
           [
            0.625,
            "rgb(66,146,198)"
           ],
           [
            0.75,
            "rgb(33,113,181)"
           ],
           [
            0.875,
            "rgb(8,81,156)"
           ],
           [
            1,
            "rgb(8,48,107)"
           ]
          ],
          "reversescale": false,
          "showscale": true
         },
         "type": "parcoords"
        }
       ],
       "layout": {
        "template": {
         "data": {
          "bar": [
           {
            "error_x": {
             "color": "#2a3f5f"
            },
            "error_y": {
             "color": "#2a3f5f"
            },
            "marker": {
             "line": {
              "color": "#E5ECF6",
              "width": 0.5
             },
             "pattern": {
              "fillmode": "overlay",
              "size": 10,
              "solidity": 0.2
             }
            },
            "type": "bar"
           }
          ],
          "barpolar": [
           {
            "marker": {
             "line": {
              "color": "#E5ECF6",
              "width": 0.5
             },
             "pattern": {
              "fillmode": "overlay",
              "size": 10,
              "solidity": 0.2
             }
            },
            "type": "barpolar"
           }
          ],
          "carpet": [
           {
            "aaxis": {
             "endlinecolor": "#2a3f5f",
             "gridcolor": "white",
             "linecolor": "white",
             "minorgridcolor": "white",
             "startlinecolor": "#2a3f5f"
            },
            "baxis": {
             "endlinecolor": "#2a3f5f",
             "gridcolor": "white",
             "linecolor": "white",
             "minorgridcolor": "white",
             "startlinecolor": "#2a3f5f"
            },
            "type": "carpet"
           }
          ],
          "choropleth": [
           {
            "colorbar": {
             "outlinewidth": 0,
             "ticks": ""
            },
            "type": "choropleth"
           }
          ],
          "contour": [
           {
            "colorbar": {
             "outlinewidth": 0,
             "ticks": ""
            },
            "colorscale": [
             [
              0,
              "#0d0887"
             ],
             [
              0.1111111111111111,
              "#46039f"
             ],
             [
              0.2222222222222222,
              "#7201a8"
             ],
             [
              0.3333333333333333,
              "#9c179e"
             ],
             [
              0.4444444444444444,
              "#bd3786"
             ],
             [
              0.5555555555555556,
              "#d8576b"
             ],
             [
              0.6666666666666666,
              "#ed7953"
             ],
             [
              0.7777777777777778,
              "#fb9f3a"
             ],
             [
              0.8888888888888888,
              "#fdca26"
             ],
             [
              1,
              "#f0f921"
             ]
            ],
            "type": "contour"
           }
          ],
          "contourcarpet": [
           {
            "colorbar": {
             "outlinewidth": 0,
             "ticks": ""
            },
            "type": "contourcarpet"
           }
          ],
          "heatmap": [
           {
            "colorbar": {
             "outlinewidth": 0,
             "ticks": ""
            },
            "colorscale": [
             [
              0,
              "#0d0887"
             ],
             [
              0.1111111111111111,
              "#46039f"
             ],
             [
              0.2222222222222222,
              "#7201a8"
             ],
             [
              0.3333333333333333,
              "#9c179e"
             ],
             [
              0.4444444444444444,
              "#bd3786"
             ],
             [
              0.5555555555555556,
              "#d8576b"
             ],
             [
              0.6666666666666666,
              "#ed7953"
             ],
             [
              0.7777777777777778,
              "#fb9f3a"
             ],
             [
              0.8888888888888888,
              "#fdca26"
             ],
             [
              1,
              "#f0f921"
             ]
            ],
            "type": "heatmap"
           }
          ],
          "heatmapgl": [
           {
            "colorbar": {
             "outlinewidth": 0,
             "ticks": ""
            },
            "colorscale": [
             [
              0,
              "#0d0887"
             ],
             [
              0.1111111111111111,
              "#46039f"
             ],
             [
              0.2222222222222222,
              "#7201a8"
             ],
             [
              0.3333333333333333,
              "#9c179e"
             ],
             [
              0.4444444444444444,
              "#bd3786"
             ],
             [
              0.5555555555555556,
              "#d8576b"
             ],
             [
              0.6666666666666666,
              "#ed7953"
             ],
             [
              0.7777777777777778,
              "#fb9f3a"
             ],
             [
              0.8888888888888888,
              "#fdca26"
             ],
             [
              1,
              "#f0f921"
             ]
            ],
            "type": "heatmapgl"
           }
          ],
          "histogram": [
           {
            "marker": {
             "pattern": {
              "fillmode": "overlay",
              "size": 10,
              "solidity": 0.2
             }
            },
            "type": "histogram"
           }
          ],
          "histogram2d": [
           {
            "colorbar": {
             "outlinewidth": 0,
             "ticks": ""
            },
            "colorscale": [
             [
              0,
              "#0d0887"
             ],
             [
              0.1111111111111111,
              "#46039f"
             ],
             [
              0.2222222222222222,
              "#7201a8"
             ],
             [
              0.3333333333333333,
              "#9c179e"
             ],
             [
              0.4444444444444444,
              "#bd3786"
             ],
             [
              0.5555555555555556,
              "#d8576b"
             ],
             [
              0.6666666666666666,
              "#ed7953"
             ],
             [
              0.7777777777777778,
              "#fb9f3a"
             ],
             [
              0.8888888888888888,
              "#fdca26"
             ],
             [
              1,
              "#f0f921"
             ]
            ],
            "type": "histogram2d"
           }
          ],
          "histogram2dcontour": [
           {
            "colorbar": {
             "outlinewidth": 0,
             "ticks": ""
            },
            "colorscale": [
             [
              0,
              "#0d0887"
             ],
             [
              0.1111111111111111,
              "#46039f"
             ],
             [
              0.2222222222222222,
              "#7201a8"
             ],
             [
              0.3333333333333333,
              "#9c179e"
             ],
             [
              0.4444444444444444,
              "#bd3786"
             ],
             [
              0.5555555555555556,
              "#d8576b"
             ],
             [
              0.6666666666666666,
              "#ed7953"
             ],
             [
              0.7777777777777778,
              "#fb9f3a"
             ],
             [
              0.8888888888888888,
              "#fdca26"
             ],
             [
              1,
              "#f0f921"
             ]
            ],
            "type": "histogram2dcontour"
           }
          ],
          "mesh3d": [
           {
            "colorbar": {
             "outlinewidth": 0,
             "ticks": ""
            },
            "type": "mesh3d"
           }
          ],
          "parcoords": [
           {
            "line": {
             "colorbar": {
              "outlinewidth": 0,
              "ticks": ""
             }
            },
            "type": "parcoords"
           }
          ],
          "pie": [
           {
            "automargin": true,
            "type": "pie"
           }
          ],
          "scatter": [
           {
            "fillpattern": {
             "fillmode": "overlay",
             "size": 10,
             "solidity": 0.2
            },
            "type": "scatter"
           }
          ],
          "scatter3d": [
           {
            "line": {
             "colorbar": {
              "outlinewidth": 0,
              "ticks": ""
             }
            },
            "marker": {
             "colorbar": {
              "outlinewidth": 0,
              "ticks": ""
             }
            },
            "type": "scatter3d"
           }
          ],
          "scattercarpet": [
           {
            "marker": {
             "colorbar": {
              "outlinewidth": 0,
              "ticks": ""
             }
            },
            "type": "scattercarpet"
           }
          ],
          "scattergeo": [
           {
            "marker": {
             "colorbar": {
              "outlinewidth": 0,
              "ticks": ""
             }
            },
            "type": "scattergeo"
           }
          ],
          "scattergl": [
           {
            "marker": {
             "colorbar": {
              "outlinewidth": 0,
              "ticks": ""
             }
            },
            "type": "scattergl"
           }
          ],
          "scattermapbox": [
           {
            "marker": {
             "colorbar": {
              "outlinewidth": 0,
              "ticks": ""
             }
            },
            "type": "scattermapbox"
           }
          ],
          "scatterpolar": [
           {
            "marker": {
             "colorbar": {
              "outlinewidth": 0,
              "ticks": ""
             }
            },
            "type": "scatterpolar"
           }
          ],
          "scatterpolargl": [
           {
            "marker": {
             "colorbar": {
              "outlinewidth": 0,
              "ticks": ""
             }
            },
            "type": "scatterpolargl"
           }
          ],
          "scatterternary": [
           {
            "marker": {
             "colorbar": {
              "outlinewidth": 0,
              "ticks": ""
             }
            },
            "type": "scatterternary"
           }
          ],
          "surface": [
           {
            "colorbar": {
             "outlinewidth": 0,
             "ticks": ""
            },
            "colorscale": [
             [
              0,
              "#0d0887"
             ],
             [
              0.1111111111111111,
              "#46039f"
             ],
             [
              0.2222222222222222,
              "#7201a8"
             ],
             [
              0.3333333333333333,
              "#9c179e"
             ],
             [
              0.4444444444444444,
              "#bd3786"
             ],
             [
              0.5555555555555556,
              "#d8576b"
             ],
             [
              0.6666666666666666,
              "#ed7953"
             ],
             [
              0.7777777777777778,
              "#fb9f3a"
             ],
             [
              0.8888888888888888,
              "#fdca26"
             ],
             [
              1,
              "#f0f921"
             ]
            ],
            "type": "surface"
           }
          ],
          "table": [
           {
            "cells": {
             "fill": {
              "color": "#EBF0F8"
             },
             "line": {
              "color": "white"
             }
            },
            "header": {
             "fill": {
              "color": "#C8D4E3"
             },
             "line": {
              "color": "white"
             }
            },
            "type": "table"
           }
          ]
         },
         "layout": {
          "annotationdefaults": {
           "arrowcolor": "#2a3f5f",
           "arrowhead": 0,
           "arrowwidth": 1
          },
          "autotypenumbers": "strict",
          "coloraxis": {
           "colorbar": {
            "outlinewidth": 0,
            "ticks": ""
           }
          },
          "colorscale": {
           "diverging": [
            [
             0,
             "#8e0152"
            ],
            [
             0.1,
             "#c51b7d"
            ],
            [
             0.2,
             "#de77ae"
            ],
            [
             0.3,
             "#f1b6da"
            ],
            [
             0.4,
             "#fde0ef"
            ],
            [
             0.5,
             "#f7f7f7"
            ],
            [
             0.6,
             "#e6f5d0"
            ],
            [
             0.7,
             "#b8e186"
            ],
            [
             0.8,
             "#7fbc41"
            ],
            [
             0.9,
             "#4d9221"
            ],
            [
             1,
             "#276419"
            ]
           ],
           "sequential": [
            [
             0,
             "#0d0887"
            ],
            [
             0.1111111111111111,
             "#46039f"
            ],
            [
             0.2222222222222222,
             "#7201a8"
            ],
            [
             0.3333333333333333,
             "#9c179e"
            ],
            [
             0.4444444444444444,
             "#bd3786"
            ],
            [
             0.5555555555555556,
             "#d8576b"
            ],
            [
             0.6666666666666666,
             "#ed7953"
            ],
            [
             0.7777777777777778,
             "#fb9f3a"
            ],
            [
             0.8888888888888888,
             "#fdca26"
            ],
            [
             1,
             "#f0f921"
            ]
           ],
           "sequentialminus": [
            [
             0,
             "#0d0887"
            ],
            [
             0.1111111111111111,
             "#46039f"
            ],
            [
             0.2222222222222222,
             "#7201a8"
            ],
            [
             0.3333333333333333,
             "#9c179e"
            ],
            [
             0.4444444444444444,
             "#bd3786"
            ],
            [
             0.5555555555555556,
             "#d8576b"
            ],
            [
             0.6666666666666666,
             "#ed7953"
            ],
            [
             0.7777777777777778,
             "#fb9f3a"
            ],
            [
             0.8888888888888888,
             "#fdca26"
            ],
            [
             1,
             "#f0f921"
            ]
           ]
          },
          "colorway": [
           "#636efa",
           "#EF553B",
           "#00cc96",
           "#ab63fa",
           "#FFA15A",
           "#19d3f3",
           "#FF6692",
           "#B6E880",
           "#FF97FF",
           "#FECB52"
          ],
          "font": {
           "color": "#2a3f5f"
          },
          "geo": {
           "bgcolor": "white",
           "lakecolor": "white",
           "landcolor": "#E5ECF6",
           "showlakes": true,
           "showland": true,
           "subunitcolor": "white"
          },
          "hoverlabel": {
           "align": "left"
          },
          "hovermode": "closest",
          "mapbox": {
           "style": "light"
          },
          "paper_bgcolor": "white",
          "plot_bgcolor": "#E5ECF6",
          "polar": {
           "angularaxis": {
            "gridcolor": "white",
            "linecolor": "white",
            "ticks": ""
           },
           "bgcolor": "#E5ECF6",
           "radialaxis": {
            "gridcolor": "white",
            "linecolor": "white",
            "ticks": ""
           }
          },
          "scene": {
           "xaxis": {
            "backgroundcolor": "#E5ECF6",
            "gridcolor": "white",
            "gridwidth": 2,
            "linecolor": "white",
            "showbackground": true,
            "ticks": "",
            "zerolinecolor": "white"
           },
           "yaxis": {
            "backgroundcolor": "#E5ECF6",
            "gridcolor": "white",
            "gridwidth": 2,
            "linecolor": "white",
            "showbackground": true,
            "ticks": "",
            "zerolinecolor": "white"
           },
           "zaxis": {
            "backgroundcolor": "#E5ECF6",
            "gridcolor": "white",
            "gridwidth": 2,
            "linecolor": "white",
            "showbackground": true,
            "ticks": "",
            "zerolinecolor": "white"
           }
          },
          "shapedefaults": {
           "line": {
            "color": "#2a3f5f"
           }
          },
          "ternary": {
           "aaxis": {
            "gridcolor": "white",
            "linecolor": "white",
            "ticks": ""
           },
           "baxis": {
            "gridcolor": "white",
            "linecolor": "white",
            "ticks": ""
           },
           "bgcolor": "#E5ECF6",
           "caxis": {
            "gridcolor": "white",
            "linecolor": "white",
            "ticks": ""
           }
          },
          "title": {
           "x": 0.05
          },
          "xaxis": {
           "automargin": true,
           "gridcolor": "white",
           "linecolor": "white",
           "ticks": "",
           "title": {
            "standoff": 15
           },
           "zerolinecolor": "white",
           "zerolinewidth": 2
          },
          "yaxis": {
           "automargin": true,
           "gridcolor": "white",
           "linecolor": "white",
           "ticks": "",
           "title": {
            "standoff": 15
           },
           "zerolinecolor": "white",
           "zerolinewidth": 2
          }
         }
        },
        "title": {
         "text": "Parallel Coordinate Plot"
        }
       }
      }
     },
     "metadata": {},
     "output_type": "display_data"
    },
    {
     "data": {
      "application/vnd.plotly.v1+json": {
       "config": {
        "plotlyServerURL": "https://plot.ly"
       },
       "data": [
        {
         "colorbar": {
          "title": {
           "text": "Objective Value"
          }
         },
         "colorscale": [
          [
           0,
           "rgb(247,251,255)"
          ],
          [
           0.125,
           "rgb(222,235,247)"
          ],
          [
           0.25,
           "rgb(198,219,239)"
          ],
          [
           0.375,
           "rgb(158,202,225)"
          ],
          [
           0.5,
           "rgb(107,174,214)"
          ],
          [
           0.625,
           "rgb(66,146,198)"
          ],
          [
           0.75,
           "rgb(33,113,181)"
          ],
          [
           0.875,
           "rgb(8,81,156)"
          ],
          [
           1,
           "rgb(8,48,107)"
          ]
         ],
         "connectgaps": true,
         "contours": {
          "coloring": "heatmap"
         },
         "hoverinfo": "none",
         "line": {
          "smoothing": 1.3
         },
         "reversescale": false,
         "type": "contour",
         "x": [
          0.0006006136216379927,
          0.001128976712297542,
          0.002934262474576823,
          0.004033328436272409,
          0.008544452911311366,
          0.025567899011668033,
          0.037089418260033764,
          0.03894442732489986,
          0.04260600647972879,
          0.10257974923461119,
          0.15792343301604156,
          0.22562179842903202,
          0.32902445465914026,
          0.3856127334363129,
          0.49658310044386467,
          1.898776488860904,
          2.947479135734104,
          5.225680353257825,
          12.254510463702813,
          45.461298751692055,
          342.3584933510227,
          643.5331339913253
         ],
         "y": [
          "lbfgs_l2",
          "liblinear_l1",
          "liblinear_l2"
         ],
         "z": [
          [
           null,
           null,
           0.7442516759069039,
           0.7427598569826201,
           null,
           0.7412614129931239,
           null,
           0.7406566995431885,
           null,
           null,
           null,
           null,
           null,
           null,
           null,
           null,
           0.7439029791682086,
           null,
           null,
           null,
           null,
           null
          ],
          [
           null,
           0.7086483317835106,
           null,
           null,
           0.7505180943519919,
           null,
           null,
           null,
           null,
           0.7488700164473617,
           0.7410937887582325,
           null,
           null,
           null,
           0.7446738212382237,
           null,
           null,
           0.7415054997125109,
           null,
           0.7434240809263948,
           0.7415750276804605,
           null
          ],
          [
           null,
           null,
           null,
           null,
           null,
           null,
           0.7441708983579903,
           null,
           0.7438085793568552,
           null,
           null,
           0.745767945017119,
           0.7467119340158439,
           0.7424285787250486,
           null,
           0.7447948556268039,
           null,
           null,
           0.7444165097677389,
           null,
           null,
           null
          ]
         ]
        },
        {
         "marker": {
          "color": "black",
          "line": {
           "color": "Gray",
           "width": 2
          }
         },
         "mode": "markers",
         "name": "Feasible Trial",
         "showlegend": false,
         "type": "scatter",
         "x": [
          0.002934262474576823,
          0.037089418260033764,
          0.22562179842903202,
          342.3584933510227,
          0.03894442732489986,
          0.04260600647972879,
          0.10257974923461119,
          0.004033328436272409,
          2.947479135734104,
          0.025567899011668033,
          5.225680353257825,
          0.3856127334363129,
          0.49658310044386467,
          45.461298751692055,
          0.32902445465914026,
          12.254510463702813,
          0.15792343301604156,
          1.898776488860904,
          0.008544452911311366,
          0.001128976712297542
         ],
         "y": [
          "lbfgs_l2",
          "liblinear_l2",
          "liblinear_l2",
          "liblinear_l1",
          "lbfgs_l2",
          "liblinear_l2",
          "liblinear_l1",
          "lbfgs_l2",
          "lbfgs_l2",
          "lbfgs_l2",
          "liblinear_l1",
          "liblinear_l2",
          "liblinear_l1",
          "liblinear_l1",
          "liblinear_l2",
          "liblinear_l2",
          "liblinear_l1",
          "liblinear_l2",
          "liblinear_l1",
          "liblinear_l1"
         ]
        },
        {
         "marker": {
          "color": "#cccccc",
          "line": {
           "color": "Gray",
           "width": 2
          }
         },
         "mode": "markers",
         "name": "Infeasible Trial",
         "showlegend": false,
         "type": "scatter",
         "x": [],
         "y": []
        }
       ],
       "layout": {
        "template": {
         "data": {
          "bar": [
           {
            "error_x": {
             "color": "#2a3f5f"
            },
            "error_y": {
             "color": "#2a3f5f"
            },
            "marker": {
             "line": {
              "color": "#E5ECF6",
              "width": 0.5
             },
             "pattern": {
              "fillmode": "overlay",
              "size": 10,
              "solidity": 0.2
             }
            },
            "type": "bar"
           }
          ],
          "barpolar": [
           {
            "marker": {
             "line": {
              "color": "#E5ECF6",
              "width": 0.5
             },
             "pattern": {
              "fillmode": "overlay",
              "size": 10,
              "solidity": 0.2
             }
            },
            "type": "barpolar"
           }
          ],
          "carpet": [
           {
            "aaxis": {
             "endlinecolor": "#2a3f5f",
             "gridcolor": "white",
             "linecolor": "white",
             "minorgridcolor": "white",
             "startlinecolor": "#2a3f5f"
            },
            "baxis": {
             "endlinecolor": "#2a3f5f",
             "gridcolor": "white",
             "linecolor": "white",
             "minorgridcolor": "white",
             "startlinecolor": "#2a3f5f"
            },
            "type": "carpet"
           }
          ],
          "choropleth": [
           {
            "colorbar": {
             "outlinewidth": 0,
             "ticks": ""
            },
            "type": "choropleth"
           }
          ],
          "contour": [
           {
            "colorbar": {
             "outlinewidth": 0,
             "ticks": ""
            },
            "colorscale": [
             [
              0,
              "#0d0887"
             ],
             [
              0.1111111111111111,
              "#46039f"
             ],
             [
              0.2222222222222222,
              "#7201a8"
             ],
             [
              0.3333333333333333,
              "#9c179e"
             ],
             [
              0.4444444444444444,
              "#bd3786"
             ],
             [
              0.5555555555555556,
              "#d8576b"
             ],
             [
              0.6666666666666666,
              "#ed7953"
             ],
             [
              0.7777777777777778,
              "#fb9f3a"
             ],
             [
              0.8888888888888888,
              "#fdca26"
             ],
             [
              1,
              "#f0f921"
             ]
            ],
            "type": "contour"
           }
          ],
          "contourcarpet": [
           {
            "colorbar": {
             "outlinewidth": 0,
             "ticks": ""
            },
            "type": "contourcarpet"
           }
          ],
          "heatmap": [
           {
            "colorbar": {
             "outlinewidth": 0,
             "ticks": ""
            },
            "colorscale": [
             [
              0,
              "#0d0887"
             ],
             [
              0.1111111111111111,
              "#46039f"
             ],
             [
              0.2222222222222222,
              "#7201a8"
             ],
             [
              0.3333333333333333,
              "#9c179e"
             ],
             [
              0.4444444444444444,
              "#bd3786"
             ],
             [
              0.5555555555555556,
              "#d8576b"
             ],
             [
              0.6666666666666666,
              "#ed7953"
             ],
             [
              0.7777777777777778,
              "#fb9f3a"
             ],
             [
              0.8888888888888888,
              "#fdca26"
             ],
             [
              1,
              "#f0f921"
             ]
            ],
            "type": "heatmap"
           }
          ],
          "heatmapgl": [
           {
            "colorbar": {
             "outlinewidth": 0,
             "ticks": ""
            },
            "colorscale": [
             [
              0,
              "#0d0887"
             ],
             [
              0.1111111111111111,
              "#46039f"
             ],
             [
              0.2222222222222222,
              "#7201a8"
             ],
             [
              0.3333333333333333,
              "#9c179e"
             ],
             [
              0.4444444444444444,
              "#bd3786"
             ],
             [
              0.5555555555555556,
              "#d8576b"
             ],
             [
              0.6666666666666666,
              "#ed7953"
             ],
             [
              0.7777777777777778,
              "#fb9f3a"
             ],
             [
              0.8888888888888888,
              "#fdca26"
             ],
             [
              1,
              "#f0f921"
             ]
            ],
            "type": "heatmapgl"
           }
          ],
          "histogram": [
           {
            "marker": {
             "pattern": {
              "fillmode": "overlay",
              "size": 10,
              "solidity": 0.2
             }
            },
            "type": "histogram"
           }
          ],
          "histogram2d": [
           {
            "colorbar": {
             "outlinewidth": 0,
             "ticks": ""
            },
            "colorscale": [
             [
              0,
              "#0d0887"
             ],
             [
              0.1111111111111111,
              "#46039f"
             ],
             [
              0.2222222222222222,
              "#7201a8"
             ],
             [
              0.3333333333333333,
              "#9c179e"
             ],
             [
              0.4444444444444444,
              "#bd3786"
             ],
             [
              0.5555555555555556,
              "#d8576b"
             ],
             [
              0.6666666666666666,
              "#ed7953"
             ],
             [
              0.7777777777777778,
              "#fb9f3a"
             ],
             [
              0.8888888888888888,
              "#fdca26"
             ],
             [
              1,
              "#f0f921"
             ]
            ],
            "type": "histogram2d"
           }
          ],
          "histogram2dcontour": [
           {
            "colorbar": {
             "outlinewidth": 0,
             "ticks": ""
            },
            "colorscale": [
             [
              0,
              "#0d0887"
             ],
             [
              0.1111111111111111,
              "#46039f"
             ],
             [
              0.2222222222222222,
              "#7201a8"
             ],
             [
              0.3333333333333333,
              "#9c179e"
             ],
             [
              0.4444444444444444,
              "#bd3786"
             ],
             [
              0.5555555555555556,
              "#d8576b"
             ],
             [
              0.6666666666666666,
              "#ed7953"
             ],
             [
              0.7777777777777778,
              "#fb9f3a"
             ],
             [
              0.8888888888888888,
              "#fdca26"
             ],
             [
              1,
              "#f0f921"
             ]
            ],
            "type": "histogram2dcontour"
           }
          ],
          "mesh3d": [
           {
            "colorbar": {
             "outlinewidth": 0,
             "ticks": ""
            },
            "type": "mesh3d"
           }
          ],
          "parcoords": [
           {
            "line": {
             "colorbar": {
              "outlinewidth": 0,
              "ticks": ""
             }
            },
            "type": "parcoords"
           }
          ],
          "pie": [
           {
            "automargin": true,
            "type": "pie"
           }
          ],
          "scatter": [
           {
            "fillpattern": {
             "fillmode": "overlay",
             "size": 10,
             "solidity": 0.2
            },
            "type": "scatter"
           }
          ],
          "scatter3d": [
           {
            "line": {
             "colorbar": {
              "outlinewidth": 0,
              "ticks": ""
             }
            },
            "marker": {
             "colorbar": {
              "outlinewidth": 0,
              "ticks": ""
             }
            },
            "type": "scatter3d"
           }
          ],
          "scattercarpet": [
           {
            "marker": {
             "colorbar": {
              "outlinewidth": 0,
              "ticks": ""
             }
            },
            "type": "scattercarpet"
           }
          ],
          "scattergeo": [
           {
            "marker": {
             "colorbar": {
              "outlinewidth": 0,
              "ticks": ""
             }
            },
            "type": "scattergeo"
           }
          ],
          "scattergl": [
           {
            "marker": {
             "colorbar": {
              "outlinewidth": 0,
              "ticks": ""
             }
            },
            "type": "scattergl"
           }
          ],
          "scattermapbox": [
           {
            "marker": {
             "colorbar": {
              "outlinewidth": 0,
              "ticks": ""
             }
            },
            "type": "scattermapbox"
           }
          ],
          "scatterpolar": [
           {
            "marker": {
             "colorbar": {
              "outlinewidth": 0,
              "ticks": ""
             }
            },
            "type": "scatterpolar"
           }
          ],
          "scatterpolargl": [
           {
            "marker": {
             "colorbar": {
              "outlinewidth": 0,
              "ticks": ""
             }
            },
            "type": "scatterpolargl"
           }
          ],
          "scatterternary": [
           {
            "marker": {
             "colorbar": {
              "outlinewidth": 0,
              "ticks": ""
             }
            },
            "type": "scatterternary"
           }
          ],
          "surface": [
           {
            "colorbar": {
             "outlinewidth": 0,
             "ticks": ""
            },
            "colorscale": [
             [
              0,
              "#0d0887"
             ],
             [
              0.1111111111111111,
              "#46039f"
             ],
             [
              0.2222222222222222,
              "#7201a8"
             ],
             [
              0.3333333333333333,
              "#9c179e"
             ],
             [
              0.4444444444444444,
              "#bd3786"
             ],
             [
              0.5555555555555556,
              "#d8576b"
             ],
             [
              0.6666666666666666,
              "#ed7953"
             ],
             [
              0.7777777777777778,
              "#fb9f3a"
             ],
             [
              0.8888888888888888,
              "#fdca26"
             ],
             [
              1,
              "#f0f921"
             ]
            ],
            "type": "surface"
           }
          ],
          "table": [
           {
            "cells": {
             "fill": {
              "color": "#EBF0F8"
             },
             "line": {
              "color": "white"
             }
            },
            "header": {
             "fill": {
              "color": "#C8D4E3"
             },
             "line": {
              "color": "white"
             }
            },
            "type": "table"
           }
          ]
         },
         "layout": {
          "annotationdefaults": {
           "arrowcolor": "#2a3f5f",
           "arrowhead": 0,
           "arrowwidth": 1
          },
          "autotypenumbers": "strict",
          "coloraxis": {
           "colorbar": {
            "outlinewidth": 0,
            "ticks": ""
           }
          },
          "colorscale": {
           "diverging": [
            [
             0,
             "#8e0152"
            ],
            [
             0.1,
             "#c51b7d"
            ],
            [
             0.2,
             "#de77ae"
            ],
            [
             0.3,
             "#f1b6da"
            ],
            [
             0.4,
             "#fde0ef"
            ],
            [
             0.5,
             "#f7f7f7"
            ],
            [
             0.6,
             "#e6f5d0"
            ],
            [
             0.7,
             "#b8e186"
            ],
            [
             0.8,
             "#7fbc41"
            ],
            [
             0.9,
             "#4d9221"
            ],
            [
             1,
             "#276419"
            ]
           ],
           "sequential": [
            [
             0,
             "#0d0887"
            ],
            [
             0.1111111111111111,
             "#46039f"
            ],
            [
             0.2222222222222222,
             "#7201a8"
            ],
            [
             0.3333333333333333,
             "#9c179e"
            ],
            [
             0.4444444444444444,
             "#bd3786"
            ],
            [
             0.5555555555555556,
             "#d8576b"
            ],
            [
             0.6666666666666666,
             "#ed7953"
            ],
            [
             0.7777777777777778,
             "#fb9f3a"
            ],
            [
             0.8888888888888888,
             "#fdca26"
            ],
            [
             1,
             "#f0f921"
            ]
           ],
           "sequentialminus": [
            [
             0,
             "#0d0887"
            ],
            [
             0.1111111111111111,
             "#46039f"
            ],
            [
             0.2222222222222222,
             "#7201a8"
            ],
            [
             0.3333333333333333,
             "#9c179e"
            ],
            [
             0.4444444444444444,
             "#bd3786"
            ],
            [
             0.5555555555555556,
             "#d8576b"
            ],
            [
             0.6666666666666666,
             "#ed7953"
            ],
            [
             0.7777777777777778,
             "#fb9f3a"
            ],
            [
             0.8888888888888888,
             "#fdca26"
            ],
            [
             1,
             "#f0f921"
            ]
           ]
          },
          "colorway": [
           "#636efa",
           "#EF553B",
           "#00cc96",
           "#ab63fa",
           "#FFA15A",
           "#19d3f3",
           "#FF6692",
           "#B6E880",
           "#FF97FF",
           "#FECB52"
          ],
          "font": {
           "color": "#2a3f5f"
          },
          "geo": {
           "bgcolor": "white",
           "lakecolor": "white",
           "landcolor": "#E5ECF6",
           "showlakes": true,
           "showland": true,
           "subunitcolor": "white"
          },
          "hoverlabel": {
           "align": "left"
          },
          "hovermode": "closest",
          "mapbox": {
           "style": "light"
          },
          "paper_bgcolor": "white",
          "plot_bgcolor": "#E5ECF6",
          "polar": {
           "angularaxis": {
            "gridcolor": "white",
            "linecolor": "white",
            "ticks": ""
           },
           "bgcolor": "#E5ECF6",
           "radialaxis": {
            "gridcolor": "white",
            "linecolor": "white",
            "ticks": ""
           }
          },
          "scene": {
           "xaxis": {
            "backgroundcolor": "#E5ECF6",
            "gridcolor": "white",
            "gridwidth": 2,
            "linecolor": "white",
            "showbackground": true,
            "ticks": "",
            "zerolinecolor": "white"
           },
           "yaxis": {
            "backgroundcolor": "#E5ECF6",
            "gridcolor": "white",
            "gridwidth": 2,
            "linecolor": "white",
            "showbackground": true,
            "ticks": "",
            "zerolinecolor": "white"
           },
           "zaxis": {
            "backgroundcolor": "#E5ECF6",
            "gridcolor": "white",
            "gridwidth": 2,
            "linecolor": "white",
            "showbackground": true,
            "ticks": "",
            "zerolinecolor": "white"
           }
          },
          "shapedefaults": {
           "line": {
            "color": "#2a3f5f"
           }
          },
          "ternary": {
           "aaxis": {
            "gridcolor": "white",
            "linecolor": "white",
            "ticks": ""
           },
           "baxis": {
            "gridcolor": "white",
            "linecolor": "white",
            "ticks": ""
           },
           "bgcolor": "#E5ECF6",
           "caxis": {
            "gridcolor": "white",
            "linecolor": "white",
            "ticks": ""
           }
          },
          "title": {
           "x": 0.05
          },
          "xaxis": {
           "automargin": true,
           "gridcolor": "white",
           "linecolor": "white",
           "ticks": "",
           "title": {
            "standoff": 15
           },
           "zerolinecolor": "white",
           "zerolinewidth": 2
          },
          "yaxis": {
           "automargin": true,
           "gridcolor": "white",
           "linecolor": "white",
           "ticks": "",
           "title": {
            "standoff": 15
           },
           "zerolinecolor": "white",
           "zerolinewidth": 2
          }
         }
        },
        "title": {
         "text": "Contour Plot"
        },
        "xaxis": {
         "range": [
          -3.221404822428196,
          2.808570912606588
         ],
         "title": {
          "text": "C"
         },
         "type": "log"
        },
        "yaxis": {
         "range": [
          -0.1,
          2.1
         ],
         "title": {
          "text": "solver_penalty"
         },
         "type": "category"
        }
       }
      }
     },
     "metadata": {},
     "output_type": "display_data"
    },
    {
     "data": {
      "application/vnd.plotly.v1+json": {
       "config": {
        "plotlyServerURL": "https://plot.ly"
       },
       "data": [
        {
         "cliponaxis": false,
         "hovertemplate": [
          "C (FloatDistribution): 0.2563572502721688<extra></extra>",
          "solver_penalty (CategoricalDistribution): 0.7436427497278312<extra></extra>"
         ],
         "name": "Objective Value",
         "orientation": "h",
         "text": [
          "0.26",
          "0.74"
         ],
         "textposition": "outside",
         "type": "bar",
         "x": [
          0.2563572502721688,
          0.7436427497278312
         ],
         "y": [
          "C",
          "solver_penalty"
         ]
        }
       ],
       "layout": {
        "template": {
         "data": {
          "bar": [
           {
            "error_x": {
             "color": "#2a3f5f"
            },
            "error_y": {
             "color": "#2a3f5f"
            },
            "marker": {
             "line": {
              "color": "#E5ECF6",
              "width": 0.5
             },
             "pattern": {
              "fillmode": "overlay",
              "size": 10,
              "solidity": 0.2
             }
            },
            "type": "bar"
           }
          ],
          "barpolar": [
           {
            "marker": {
             "line": {
              "color": "#E5ECF6",
              "width": 0.5
             },
             "pattern": {
              "fillmode": "overlay",
              "size": 10,
              "solidity": 0.2
             }
            },
            "type": "barpolar"
           }
          ],
          "carpet": [
           {
            "aaxis": {
             "endlinecolor": "#2a3f5f",
             "gridcolor": "white",
             "linecolor": "white",
             "minorgridcolor": "white",
             "startlinecolor": "#2a3f5f"
            },
            "baxis": {
             "endlinecolor": "#2a3f5f",
             "gridcolor": "white",
             "linecolor": "white",
             "minorgridcolor": "white",
             "startlinecolor": "#2a3f5f"
            },
            "type": "carpet"
           }
          ],
          "choropleth": [
           {
            "colorbar": {
             "outlinewidth": 0,
             "ticks": ""
            },
            "type": "choropleth"
           }
          ],
          "contour": [
           {
            "colorbar": {
             "outlinewidth": 0,
             "ticks": ""
            },
            "colorscale": [
             [
              0,
              "#0d0887"
             ],
             [
              0.1111111111111111,
              "#46039f"
             ],
             [
              0.2222222222222222,
              "#7201a8"
             ],
             [
              0.3333333333333333,
              "#9c179e"
             ],
             [
              0.4444444444444444,
              "#bd3786"
             ],
             [
              0.5555555555555556,
              "#d8576b"
             ],
             [
              0.6666666666666666,
              "#ed7953"
             ],
             [
              0.7777777777777778,
              "#fb9f3a"
             ],
             [
              0.8888888888888888,
              "#fdca26"
             ],
             [
              1,
              "#f0f921"
             ]
            ],
            "type": "contour"
           }
          ],
          "contourcarpet": [
           {
            "colorbar": {
             "outlinewidth": 0,
             "ticks": ""
            },
            "type": "contourcarpet"
           }
          ],
          "heatmap": [
           {
            "colorbar": {
             "outlinewidth": 0,
             "ticks": ""
            },
            "colorscale": [
             [
              0,
              "#0d0887"
             ],
             [
              0.1111111111111111,
              "#46039f"
             ],
             [
              0.2222222222222222,
              "#7201a8"
             ],
             [
              0.3333333333333333,
              "#9c179e"
             ],
             [
              0.4444444444444444,
              "#bd3786"
             ],
             [
              0.5555555555555556,
              "#d8576b"
             ],
             [
              0.6666666666666666,
              "#ed7953"
             ],
             [
              0.7777777777777778,
              "#fb9f3a"
             ],
             [
              0.8888888888888888,
              "#fdca26"
             ],
             [
              1,
              "#f0f921"
             ]
            ],
            "type": "heatmap"
           }
          ],
          "heatmapgl": [
           {
            "colorbar": {
             "outlinewidth": 0,
             "ticks": ""
            },
            "colorscale": [
             [
              0,
              "#0d0887"
             ],
             [
              0.1111111111111111,
              "#46039f"
             ],
             [
              0.2222222222222222,
              "#7201a8"
             ],
             [
              0.3333333333333333,
              "#9c179e"
             ],
             [
              0.4444444444444444,
              "#bd3786"
             ],
             [
              0.5555555555555556,
              "#d8576b"
             ],
             [
              0.6666666666666666,
              "#ed7953"
             ],
             [
              0.7777777777777778,
              "#fb9f3a"
             ],
             [
              0.8888888888888888,
              "#fdca26"
             ],
             [
              1,
              "#f0f921"
             ]
            ],
            "type": "heatmapgl"
           }
          ],
          "histogram": [
           {
            "marker": {
             "pattern": {
              "fillmode": "overlay",
              "size": 10,
              "solidity": 0.2
             }
            },
            "type": "histogram"
           }
          ],
          "histogram2d": [
           {
            "colorbar": {
             "outlinewidth": 0,
             "ticks": ""
            },
            "colorscale": [
             [
              0,
              "#0d0887"
             ],
             [
              0.1111111111111111,
              "#46039f"
             ],
             [
              0.2222222222222222,
              "#7201a8"
             ],
             [
              0.3333333333333333,
              "#9c179e"
             ],
             [
              0.4444444444444444,
              "#bd3786"
             ],
             [
              0.5555555555555556,
              "#d8576b"
             ],
             [
              0.6666666666666666,
              "#ed7953"
             ],
             [
              0.7777777777777778,
              "#fb9f3a"
             ],
             [
              0.8888888888888888,
              "#fdca26"
             ],
             [
              1,
              "#f0f921"
             ]
            ],
            "type": "histogram2d"
           }
          ],
          "histogram2dcontour": [
           {
            "colorbar": {
             "outlinewidth": 0,
             "ticks": ""
            },
            "colorscale": [
             [
              0,
              "#0d0887"
             ],
             [
              0.1111111111111111,
              "#46039f"
             ],
             [
              0.2222222222222222,
              "#7201a8"
             ],
             [
              0.3333333333333333,
              "#9c179e"
             ],
             [
              0.4444444444444444,
              "#bd3786"
             ],
             [
              0.5555555555555556,
              "#d8576b"
             ],
             [
              0.6666666666666666,
              "#ed7953"
             ],
             [
              0.7777777777777778,
              "#fb9f3a"
             ],
             [
              0.8888888888888888,
              "#fdca26"
             ],
             [
              1,
              "#f0f921"
             ]
            ],
            "type": "histogram2dcontour"
           }
          ],
          "mesh3d": [
           {
            "colorbar": {
             "outlinewidth": 0,
             "ticks": ""
            },
            "type": "mesh3d"
           }
          ],
          "parcoords": [
           {
            "line": {
             "colorbar": {
              "outlinewidth": 0,
              "ticks": ""
             }
            },
            "type": "parcoords"
           }
          ],
          "pie": [
           {
            "automargin": true,
            "type": "pie"
           }
          ],
          "scatter": [
           {
            "fillpattern": {
             "fillmode": "overlay",
             "size": 10,
             "solidity": 0.2
            },
            "type": "scatter"
           }
          ],
          "scatter3d": [
           {
            "line": {
             "colorbar": {
              "outlinewidth": 0,
              "ticks": ""
             }
            },
            "marker": {
             "colorbar": {
              "outlinewidth": 0,
              "ticks": ""
             }
            },
            "type": "scatter3d"
           }
          ],
          "scattercarpet": [
           {
            "marker": {
             "colorbar": {
              "outlinewidth": 0,
              "ticks": ""
             }
            },
            "type": "scattercarpet"
           }
          ],
          "scattergeo": [
           {
            "marker": {
             "colorbar": {
              "outlinewidth": 0,
              "ticks": ""
             }
            },
            "type": "scattergeo"
           }
          ],
          "scattergl": [
           {
            "marker": {
             "colorbar": {
              "outlinewidth": 0,
              "ticks": ""
             }
            },
            "type": "scattergl"
           }
          ],
          "scattermapbox": [
           {
            "marker": {
             "colorbar": {
              "outlinewidth": 0,
              "ticks": ""
             }
            },
            "type": "scattermapbox"
           }
          ],
          "scatterpolar": [
           {
            "marker": {
             "colorbar": {
              "outlinewidth": 0,
              "ticks": ""
             }
            },
            "type": "scatterpolar"
           }
          ],
          "scatterpolargl": [
           {
            "marker": {
             "colorbar": {
              "outlinewidth": 0,
              "ticks": ""
             }
            },
            "type": "scatterpolargl"
           }
          ],
          "scatterternary": [
           {
            "marker": {
             "colorbar": {
              "outlinewidth": 0,
              "ticks": ""
             }
            },
            "type": "scatterternary"
           }
          ],
          "surface": [
           {
            "colorbar": {
             "outlinewidth": 0,
             "ticks": ""
            },
            "colorscale": [
             [
              0,
              "#0d0887"
             ],
             [
              0.1111111111111111,
              "#46039f"
             ],
             [
              0.2222222222222222,
              "#7201a8"
             ],
             [
              0.3333333333333333,
              "#9c179e"
             ],
             [
              0.4444444444444444,
              "#bd3786"
             ],
             [
              0.5555555555555556,
              "#d8576b"
             ],
             [
              0.6666666666666666,
              "#ed7953"
             ],
             [
              0.7777777777777778,
              "#fb9f3a"
             ],
             [
              0.8888888888888888,
              "#fdca26"
             ],
             [
              1,
              "#f0f921"
             ]
            ],
            "type": "surface"
           }
          ],
          "table": [
           {
            "cells": {
             "fill": {
              "color": "#EBF0F8"
             },
             "line": {
              "color": "white"
             }
            },
            "header": {
             "fill": {
              "color": "#C8D4E3"
             },
             "line": {
              "color": "white"
             }
            },
            "type": "table"
           }
          ]
         },
         "layout": {
          "annotationdefaults": {
           "arrowcolor": "#2a3f5f",
           "arrowhead": 0,
           "arrowwidth": 1
          },
          "autotypenumbers": "strict",
          "coloraxis": {
           "colorbar": {
            "outlinewidth": 0,
            "ticks": ""
           }
          },
          "colorscale": {
           "diverging": [
            [
             0,
             "#8e0152"
            ],
            [
             0.1,
             "#c51b7d"
            ],
            [
             0.2,
             "#de77ae"
            ],
            [
             0.3,
             "#f1b6da"
            ],
            [
             0.4,
             "#fde0ef"
            ],
            [
             0.5,
             "#f7f7f7"
            ],
            [
             0.6,
             "#e6f5d0"
            ],
            [
             0.7,
             "#b8e186"
            ],
            [
             0.8,
             "#7fbc41"
            ],
            [
             0.9,
             "#4d9221"
            ],
            [
             1,
             "#276419"
            ]
           ],
           "sequential": [
            [
             0,
             "#0d0887"
            ],
            [
             0.1111111111111111,
             "#46039f"
            ],
            [
             0.2222222222222222,
             "#7201a8"
            ],
            [
             0.3333333333333333,
             "#9c179e"
            ],
            [
             0.4444444444444444,
             "#bd3786"
            ],
            [
             0.5555555555555556,
             "#d8576b"
            ],
            [
             0.6666666666666666,
             "#ed7953"
            ],
            [
             0.7777777777777778,
             "#fb9f3a"
            ],
            [
             0.8888888888888888,
             "#fdca26"
            ],
            [
             1,
             "#f0f921"
            ]
           ],
           "sequentialminus": [
            [
             0,
             "#0d0887"
            ],
            [
             0.1111111111111111,
             "#46039f"
            ],
            [
             0.2222222222222222,
             "#7201a8"
            ],
            [
             0.3333333333333333,
             "#9c179e"
            ],
            [
             0.4444444444444444,
             "#bd3786"
            ],
            [
             0.5555555555555556,
             "#d8576b"
            ],
            [
             0.6666666666666666,
             "#ed7953"
            ],
            [
             0.7777777777777778,
             "#fb9f3a"
            ],
            [
             0.8888888888888888,
             "#fdca26"
            ],
            [
             1,
             "#f0f921"
            ]
           ]
          },
          "colorway": [
           "#636efa",
           "#EF553B",
           "#00cc96",
           "#ab63fa",
           "#FFA15A",
           "#19d3f3",
           "#FF6692",
           "#B6E880",
           "#FF97FF",
           "#FECB52"
          ],
          "font": {
           "color": "#2a3f5f"
          },
          "geo": {
           "bgcolor": "white",
           "lakecolor": "white",
           "landcolor": "#E5ECF6",
           "showlakes": true,
           "showland": true,
           "subunitcolor": "white"
          },
          "hoverlabel": {
           "align": "left"
          },
          "hovermode": "closest",
          "mapbox": {
           "style": "light"
          },
          "paper_bgcolor": "white",
          "plot_bgcolor": "#E5ECF6",
          "polar": {
           "angularaxis": {
            "gridcolor": "white",
            "linecolor": "white",
            "ticks": ""
           },
           "bgcolor": "#E5ECF6",
           "radialaxis": {
            "gridcolor": "white",
            "linecolor": "white",
            "ticks": ""
           }
          },
          "scene": {
           "xaxis": {
            "backgroundcolor": "#E5ECF6",
            "gridcolor": "white",
            "gridwidth": 2,
            "linecolor": "white",
            "showbackground": true,
            "ticks": "",
            "zerolinecolor": "white"
           },
           "yaxis": {
            "backgroundcolor": "#E5ECF6",
            "gridcolor": "white",
            "gridwidth": 2,
            "linecolor": "white",
            "showbackground": true,
            "ticks": "",
            "zerolinecolor": "white"
           },
           "zaxis": {
            "backgroundcolor": "#E5ECF6",
            "gridcolor": "white",
            "gridwidth": 2,
            "linecolor": "white",
            "showbackground": true,
            "ticks": "",
            "zerolinecolor": "white"
           }
          },
          "shapedefaults": {
           "line": {
            "color": "#2a3f5f"
           }
          },
          "ternary": {
           "aaxis": {
            "gridcolor": "white",
            "linecolor": "white",
            "ticks": ""
           },
           "baxis": {
            "gridcolor": "white",
            "linecolor": "white",
            "ticks": ""
           },
           "bgcolor": "#E5ECF6",
           "caxis": {
            "gridcolor": "white",
            "linecolor": "white",
            "ticks": ""
           }
          },
          "title": {
           "x": 0.05
          },
          "xaxis": {
           "automargin": true,
           "gridcolor": "white",
           "linecolor": "white",
           "ticks": "",
           "title": {
            "standoff": 15
           },
           "zerolinecolor": "white",
           "zerolinewidth": 2
          },
          "yaxis": {
           "automargin": true,
           "gridcolor": "white",
           "linecolor": "white",
           "ticks": "",
           "title": {
            "standoff": 15
           },
           "zerolinecolor": "white",
           "zerolinewidth": 2
          }
         }
        },
        "title": {
         "text": "Hyperparameter Importances"
        },
        "xaxis": {
         "title": {
          "text": "Hyperparameter Importance"
         }
        },
        "yaxis": {
         "title": {
          "text": "Hyperparameter"
         }
        }
       }
      }
     },
     "metadata": {},
     "output_type": "display_data"
    },
    {
     "name": "stdout",
     "output_type": "stream",
     "text": [
      "Best F1 for AdaBoost: 0.7488969222416204\n",
      "Best Parameters for AdaBoost: {'Modelo__n_estimators': 389, 'Modelo__learning_rate': 0.906248622778108}\n",
      "Plots for model: AdaBoost\n"
     ]
    },
    {
     "data": {
      "application/vnd.plotly.v1+json": {
       "config": {
        "plotlyServerURL": "https://plot.ly"
       },
       "data": [
        {
         "mode": "markers",
         "name": "Objective Value",
         "type": "scatter",
         "x": [
          0,
          1,
          2,
          3,
          4,
          5,
          6,
          7,
          8,
          9,
          10,
          11,
          12,
          13,
          14,
          15,
          16,
          17,
          18,
          19
         ],
         "y": [
          0.7560332946649418,
          0.7512286899356861,
          0.7544407551504478,
          0.7527485253448715,
          0.7574567466334332,
          0.7496858210972318,
          0.7544049408825193,
          0.7462789437873286,
          0.7393270084575801,
          0.6847801022218026,
          0.7522053735461324,
          0.7534439649687166,
          0.7464107439211547,
          0.7605428553140415,
          0.7571279857550378,
          0.761845980960602,
          0.7411445287483374,
          0.7518623353368352,
          0.7549503137444581,
          0.7575494738655764
         ]
        },
        {
         "mode": "lines",
         "name": "Best Value",
         "type": "scatter",
         "x": [
          0,
          1,
          2,
          3,
          4,
          5,
          6,
          7,
          8,
          9,
          10,
          11,
          12,
          13,
          14,
          15,
          16,
          17,
          18,
          19
         ],
         "y": [
          0.7560332946649418,
          0.7560332946649418,
          0.7560332946649418,
          0.7560332946649418,
          0.7574567466334332,
          0.7574567466334332,
          0.7574567466334332,
          0.7574567466334332,
          0.7574567466334332,
          0.7574567466334332,
          0.7574567466334332,
          0.7574567466334332,
          0.7574567466334332,
          0.7605428553140415,
          0.7605428553140415,
          0.761845980960602,
          0.761845980960602,
          0.761845980960602,
          0.761845980960602,
          0.761845980960602
         ]
        },
        {
         "marker": {
          "color": "#cccccc"
         },
         "mode": "markers",
         "name": "Infeasible Trial",
         "showlegend": false,
         "type": "scatter",
         "x": [],
         "y": []
        }
       ],
       "layout": {
        "template": {
         "data": {
          "bar": [
           {
            "error_x": {
             "color": "#2a3f5f"
            },
            "error_y": {
             "color": "#2a3f5f"
            },
            "marker": {
             "line": {
              "color": "#E5ECF6",
              "width": 0.5
             },
             "pattern": {
              "fillmode": "overlay",
              "size": 10,
              "solidity": 0.2
             }
            },
            "type": "bar"
           }
          ],
          "barpolar": [
           {
            "marker": {
             "line": {
              "color": "#E5ECF6",
              "width": 0.5
             },
             "pattern": {
              "fillmode": "overlay",
              "size": 10,
              "solidity": 0.2
             }
            },
            "type": "barpolar"
           }
          ],
          "carpet": [
           {
            "aaxis": {
             "endlinecolor": "#2a3f5f",
             "gridcolor": "white",
             "linecolor": "white",
             "minorgridcolor": "white",
             "startlinecolor": "#2a3f5f"
            },
            "baxis": {
             "endlinecolor": "#2a3f5f",
             "gridcolor": "white",
             "linecolor": "white",
             "minorgridcolor": "white",
             "startlinecolor": "#2a3f5f"
            },
            "type": "carpet"
           }
          ],
          "choropleth": [
           {
            "colorbar": {
             "outlinewidth": 0,
             "ticks": ""
            },
            "type": "choropleth"
           }
          ],
          "contour": [
           {
            "colorbar": {
             "outlinewidth": 0,
             "ticks": ""
            },
            "colorscale": [
             [
              0,
              "#0d0887"
             ],
             [
              0.1111111111111111,
              "#46039f"
             ],
             [
              0.2222222222222222,
              "#7201a8"
             ],
             [
              0.3333333333333333,
              "#9c179e"
             ],
             [
              0.4444444444444444,
              "#bd3786"
             ],
             [
              0.5555555555555556,
              "#d8576b"
             ],
             [
              0.6666666666666666,
              "#ed7953"
             ],
             [
              0.7777777777777778,
              "#fb9f3a"
             ],
             [
              0.8888888888888888,
              "#fdca26"
             ],
             [
              1,
              "#f0f921"
             ]
            ],
            "type": "contour"
           }
          ],
          "contourcarpet": [
           {
            "colorbar": {
             "outlinewidth": 0,
             "ticks": ""
            },
            "type": "contourcarpet"
           }
          ],
          "heatmap": [
           {
            "colorbar": {
             "outlinewidth": 0,
             "ticks": ""
            },
            "colorscale": [
             [
              0,
              "#0d0887"
             ],
             [
              0.1111111111111111,
              "#46039f"
             ],
             [
              0.2222222222222222,
              "#7201a8"
             ],
             [
              0.3333333333333333,
              "#9c179e"
             ],
             [
              0.4444444444444444,
              "#bd3786"
             ],
             [
              0.5555555555555556,
              "#d8576b"
             ],
             [
              0.6666666666666666,
              "#ed7953"
             ],
             [
              0.7777777777777778,
              "#fb9f3a"
             ],
             [
              0.8888888888888888,
              "#fdca26"
             ],
             [
              1,
              "#f0f921"
             ]
            ],
            "type": "heatmap"
           }
          ],
          "heatmapgl": [
           {
            "colorbar": {
             "outlinewidth": 0,
             "ticks": ""
            },
            "colorscale": [
             [
              0,
              "#0d0887"
             ],
             [
              0.1111111111111111,
              "#46039f"
             ],
             [
              0.2222222222222222,
              "#7201a8"
             ],
             [
              0.3333333333333333,
              "#9c179e"
             ],
             [
              0.4444444444444444,
              "#bd3786"
             ],
             [
              0.5555555555555556,
              "#d8576b"
             ],
             [
              0.6666666666666666,
              "#ed7953"
             ],
             [
              0.7777777777777778,
              "#fb9f3a"
             ],
             [
              0.8888888888888888,
              "#fdca26"
             ],
             [
              1,
              "#f0f921"
             ]
            ],
            "type": "heatmapgl"
           }
          ],
          "histogram": [
           {
            "marker": {
             "pattern": {
              "fillmode": "overlay",
              "size": 10,
              "solidity": 0.2
             }
            },
            "type": "histogram"
           }
          ],
          "histogram2d": [
           {
            "colorbar": {
             "outlinewidth": 0,
             "ticks": ""
            },
            "colorscale": [
             [
              0,
              "#0d0887"
             ],
             [
              0.1111111111111111,
              "#46039f"
             ],
             [
              0.2222222222222222,
              "#7201a8"
             ],
             [
              0.3333333333333333,
              "#9c179e"
             ],
             [
              0.4444444444444444,
              "#bd3786"
             ],
             [
              0.5555555555555556,
              "#d8576b"
             ],
             [
              0.6666666666666666,
              "#ed7953"
             ],
             [
              0.7777777777777778,
              "#fb9f3a"
             ],
             [
              0.8888888888888888,
              "#fdca26"
             ],
             [
              1,
              "#f0f921"
             ]
            ],
            "type": "histogram2d"
           }
          ],
          "histogram2dcontour": [
           {
            "colorbar": {
             "outlinewidth": 0,
             "ticks": ""
            },
            "colorscale": [
             [
              0,
              "#0d0887"
             ],
             [
              0.1111111111111111,
              "#46039f"
             ],
             [
              0.2222222222222222,
              "#7201a8"
             ],
             [
              0.3333333333333333,
              "#9c179e"
             ],
             [
              0.4444444444444444,
              "#bd3786"
             ],
             [
              0.5555555555555556,
              "#d8576b"
             ],
             [
              0.6666666666666666,
              "#ed7953"
             ],
             [
              0.7777777777777778,
              "#fb9f3a"
             ],
             [
              0.8888888888888888,
              "#fdca26"
             ],
             [
              1,
              "#f0f921"
             ]
            ],
            "type": "histogram2dcontour"
           }
          ],
          "mesh3d": [
           {
            "colorbar": {
             "outlinewidth": 0,
             "ticks": ""
            },
            "type": "mesh3d"
           }
          ],
          "parcoords": [
           {
            "line": {
             "colorbar": {
              "outlinewidth": 0,
              "ticks": ""
             }
            },
            "type": "parcoords"
           }
          ],
          "pie": [
           {
            "automargin": true,
            "type": "pie"
           }
          ],
          "scatter": [
           {
            "fillpattern": {
             "fillmode": "overlay",
             "size": 10,
             "solidity": 0.2
            },
            "type": "scatter"
           }
          ],
          "scatter3d": [
           {
            "line": {
             "colorbar": {
              "outlinewidth": 0,
              "ticks": ""
             }
            },
            "marker": {
             "colorbar": {
              "outlinewidth": 0,
              "ticks": ""
             }
            },
            "type": "scatter3d"
           }
          ],
          "scattercarpet": [
           {
            "marker": {
             "colorbar": {
              "outlinewidth": 0,
              "ticks": ""
             }
            },
            "type": "scattercarpet"
           }
          ],
          "scattergeo": [
           {
            "marker": {
             "colorbar": {
              "outlinewidth": 0,
              "ticks": ""
             }
            },
            "type": "scattergeo"
           }
          ],
          "scattergl": [
           {
            "marker": {
             "colorbar": {
              "outlinewidth": 0,
              "ticks": ""
             }
            },
            "type": "scattergl"
           }
          ],
          "scattermapbox": [
           {
            "marker": {
             "colorbar": {
              "outlinewidth": 0,
              "ticks": ""
             }
            },
            "type": "scattermapbox"
           }
          ],
          "scatterpolar": [
           {
            "marker": {
             "colorbar": {
              "outlinewidth": 0,
              "ticks": ""
             }
            },
            "type": "scatterpolar"
           }
          ],
          "scatterpolargl": [
           {
            "marker": {
             "colorbar": {
              "outlinewidth": 0,
              "ticks": ""
             }
            },
            "type": "scatterpolargl"
           }
          ],
          "scatterternary": [
           {
            "marker": {
             "colorbar": {
              "outlinewidth": 0,
              "ticks": ""
             }
            },
            "type": "scatterternary"
           }
          ],
          "surface": [
           {
            "colorbar": {
             "outlinewidth": 0,
             "ticks": ""
            },
            "colorscale": [
             [
              0,
              "#0d0887"
             ],
             [
              0.1111111111111111,
              "#46039f"
             ],
             [
              0.2222222222222222,
              "#7201a8"
             ],
             [
              0.3333333333333333,
              "#9c179e"
             ],
             [
              0.4444444444444444,
              "#bd3786"
             ],
             [
              0.5555555555555556,
              "#d8576b"
             ],
             [
              0.6666666666666666,
              "#ed7953"
             ],
             [
              0.7777777777777778,
              "#fb9f3a"
             ],
             [
              0.8888888888888888,
              "#fdca26"
             ],
             [
              1,
              "#f0f921"
             ]
            ],
            "type": "surface"
           }
          ],
          "table": [
           {
            "cells": {
             "fill": {
              "color": "#EBF0F8"
             },
             "line": {
              "color": "white"
             }
            },
            "header": {
             "fill": {
              "color": "#C8D4E3"
             },
             "line": {
              "color": "white"
             }
            },
            "type": "table"
           }
          ]
         },
         "layout": {
          "annotationdefaults": {
           "arrowcolor": "#2a3f5f",
           "arrowhead": 0,
           "arrowwidth": 1
          },
          "autotypenumbers": "strict",
          "coloraxis": {
           "colorbar": {
            "outlinewidth": 0,
            "ticks": ""
           }
          },
          "colorscale": {
           "diverging": [
            [
             0,
             "#8e0152"
            ],
            [
             0.1,
             "#c51b7d"
            ],
            [
             0.2,
             "#de77ae"
            ],
            [
             0.3,
             "#f1b6da"
            ],
            [
             0.4,
             "#fde0ef"
            ],
            [
             0.5,
             "#f7f7f7"
            ],
            [
             0.6,
             "#e6f5d0"
            ],
            [
             0.7,
             "#b8e186"
            ],
            [
             0.8,
             "#7fbc41"
            ],
            [
             0.9,
             "#4d9221"
            ],
            [
             1,
             "#276419"
            ]
           ],
           "sequential": [
            [
             0,
             "#0d0887"
            ],
            [
             0.1111111111111111,
             "#46039f"
            ],
            [
             0.2222222222222222,
             "#7201a8"
            ],
            [
             0.3333333333333333,
             "#9c179e"
            ],
            [
             0.4444444444444444,
             "#bd3786"
            ],
            [
             0.5555555555555556,
             "#d8576b"
            ],
            [
             0.6666666666666666,
             "#ed7953"
            ],
            [
             0.7777777777777778,
             "#fb9f3a"
            ],
            [
             0.8888888888888888,
             "#fdca26"
            ],
            [
             1,
             "#f0f921"
            ]
           ],
           "sequentialminus": [
            [
             0,
             "#0d0887"
            ],
            [
             0.1111111111111111,
             "#46039f"
            ],
            [
             0.2222222222222222,
             "#7201a8"
            ],
            [
             0.3333333333333333,
             "#9c179e"
            ],
            [
             0.4444444444444444,
             "#bd3786"
            ],
            [
             0.5555555555555556,
             "#d8576b"
            ],
            [
             0.6666666666666666,
             "#ed7953"
            ],
            [
             0.7777777777777778,
             "#fb9f3a"
            ],
            [
             0.8888888888888888,
             "#fdca26"
            ],
            [
             1,
             "#f0f921"
            ]
           ]
          },
          "colorway": [
           "#636efa",
           "#EF553B",
           "#00cc96",
           "#ab63fa",
           "#FFA15A",
           "#19d3f3",
           "#FF6692",
           "#B6E880",
           "#FF97FF",
           "#FECB52"
          ],
          "font": {
           "color": "#2a3f5f"
          },
          "geo": {
           "bgcolor": "white",
           "lakecolor": "white",
           "landcolor": "#E5ECF6",
           "showlakes": true,
           "showland": true,
           "subunitcolor": "white"
          },
          "hoverlabel": {
           "align": "left"
          },
          "hovermode": "closest",
          "mapbox": {
           "style": "light"
          },
          "paper_bgcolor": "white",
          "plot_bgcolor": "#E5ECF6",
          "polar": {
           "angularaxis": {
            "gridcolor": "white",
            "linecolor": "white",
            "ticks": ""
           },
           "bgcolor": "#E5ECF6",
           "radialaxis": {
            "gridcolor": "white",
            "linecolor": "white",
            "ticks": ""
           }
          },
          "scene": {
           "xaxis": {
            "backgroundcolor": "#E5ECF6",
            "gridcolor": "white",
            "gridwidth": 2,
            "linecolor": "white",
            "showbackground": true,
            "ticks": "",
            "zerolinecolor": "white"
           },
           "yaxis": {
            "backgroundcolor": "#E5ECF6",
            "gridcolor": "white",
            "gridwidth": 2,
            "linecolor": "white",
            "showbackground": true,
            "ticks": "",
            "zerolinecolor": "white"
           },
           "zaxis": {
            "backgroundcolor": "#E5ECF6",
            "gridcolor": "white",
            "gridwidth": 2,
            "linecolor": "white",
            "showbackground": true,
            "ticks": "",
            "zerolinecolor": "white"
           }
          },
          "shapedefaults": {
           "line": {
            "color": "#2a3f5f"
           }
          },
          "ternary": {
           "aaxis": {
            "gridcolor": "white",
            "linecolor": "white",
            "ticks": ""
           },
           "baxis": {
            "gridcolor": "white",
            "linecolor": "white",
            "ticks": ""
           },
           "bgcolor": "#E5ECF6",
           "caxis": {
            "gridcolor": "white",
            "linecolor": "white",
            "ticks": ""
           }
          },
          "title": {
           "x": 0.05
          },
          "xaxis": {
           "automargin": true,
           "gridcolor": "white",
           "linecolor": "white",
           "ticks": "",
           "title": {
            "standoff": 15
           },
           "zerolinecolor": "white",
           "zerolinewidth": 2
          },
          "yaxis": {
           "automargin": true,
           "gridcolor": "white",
           "linecolor": "white",
           "ticks": "",
           "title": {
            "standoff": 15
           },
           "zerolinecolor": "white",
           "zerolinewidth": 2
          }
         }
        },
        "title": {
         "text": "Optimization History Plot"
        },
        "xaxis": {
         "title": {
          "text": "Trial"
         }
        },
        "yaxis": {
         "title": {
          "text": "Objective Value"
         }
        }
       }
      }
     },
     "metadata": {},
     "output_type": "display_data"
    },
    {
     "data": {
      "application/vnd.plotly.v1+json": {
       "config": {
        "plotlyServerURL": "https://plot.ly"
       },
       "data": [
        {
         "marker": {
          "color": [
           0,
           1,
           2,
           3,
           4,
           5,
           6,
           7,
           8,
           9,
           10,
           11,
           12,
           13,
           14,
           15,
           16,
           17,
           18,
           19
          ],
          "colorbar": {
           "title": {
            "text": "Trial"
           },
           "x": 1,
           "xpad": 40
          },
          "colorscale": [
           [
            0,
            "rgb(247,251,255)"
           ],
           [
            0.125,
            "rgb(222,235,247)"
           ],
           [
            0.25,
            "rgb(198,219,239)"
           ],
           [
            0.375,
            "rgb(158,202,225)"
           ],
           [
            0.5,
            "rgb(107,174,214)"
           ],
           [
            0.625,
            "rgb(66,146,198)"
           ],
           [
            0.75,
            "rgb(33,113,181)"
           ],
           [
            0.875,
            "rgb(8,81,156)"
           ],
           [
            1,
            "rgb(8,48,107)"
           ]
          ],
          "line": {
           "color": "Grey",
           "width": 0.5
          },
          "showscale": true
         },
         "mode": "markers",
         "name": "Feasible Trial",
         "showlegend": false,
         "type": "scatter",
         "x": [
          0.27504519354442164,
          0.13247991823202485,
          0.2941338340108666,
          0.3632903409074158,
          0.5375091713097193,
          1.2268251779665311,
          0.5284962178628986,
          0.4016934995994244,
          0.055446909393973495,
          0.010934492742648646,
          1.5943508929248889,
          0.1042091350491094,
          0.040805467155349204,
          0.7933685570730554,
          0.770302741305883,
          0.906248622778108,
          1.8961302306349725,
          1.2513016106269894,
          0.8391906313904498,
          0.8538273917893588
         ],
         "xaxis": "x",
         "y": [
          0.7560332946649418,
          0.7512286899356861,
          0.7544407551504478,
          0.7527485253448715,
          0.7574567466334332,
          0.7496858210972318,
          0.7544049408825193,
          0.7462789437873286,
          0.7393270084575801,
          0.6847801022218026,
          0.7522053735461324,
          0.7534439649687166,
          0.7464107439211547,
          0.7605428553140415,
          0.7571279857550378,
          0.761845980960602,
          0.7411445287483374,
          0.7518623353368352,
          0.7549503137444581,
          0.7575494738655764
         ],
         "yaxis": "y"
        },
        {
         "marker": {
          "color": [
           0,
           1,
           2,
           3,
           4,
           5,
           6,
           7,
           8,
           9,
           10,
           11,
           12,
           13,
           14,
           15,
           16,
           17,
           18,
           19
          ],
          "colorbar": {
           "title": {
            "text": "Trial"
           },
           "x": 1,
           "xpad": 40
          },
          "colorscale": [
           [
            0,
            "rgb(247,251,255)"
           ],
           [
            0.125,
            "rgb(222,235,247)"
           ],
           [
            0.25,
            "rgb(198,219,239)"
           ],
           [
            0.375,
            "rgb(158,202,225)"
           ],
           [
            0.5,
            "rgb(107,174,214)"
           ],
           [
            0.625,
            "rgb(66,146,198)"
           ],
           [
            0.75,
            "rgb(33,113,181)"
           ],
           [
            0.875,
            "rgb(8,81,156)"
           ],
           [
            1,
            "rgb(8,48,107)"
           ]
          ],
          "line": {
           "color": "Grey",
           "width": 0.5
          },
          "showscale": false
         },
         "mode": "markers",
         "name": "Feasible Trial",
         "showlegend": false,
         "type": "scatter",
         "x": [
          352,
          137,
          438,
          100,
          486,
          83,
          416,
          89,
          155,
          238,
          307,
          496,
          339,
          378,
          475,
          389,
          248,
          393,
          373,
          279
         ],
         "xaxis": "x2",
         "y": [
          0.7560332946649418,
          0.7512286899356861,
          0.7544407551504478,
          0.7527485253448715,
          0.7574567466334332,
          0.7496858210972318,
          0.7544049408825193,
          0.7462789437873286,
          0.7393270084575801,
          0.6847801022218026,
          0.7522053735461324,
          0.7534439649687166,
          0.7464107439211547,
          0.7605428553140415,
          0.7571279857550378,
          0.761845980960602,
          0.7411445287483374,
          0.7518623353368352,
          0.7549503137444581,
          0.7575494738655764
         ],
         "yaxis": "y2"
        }
       ],
       "layout": {
        "template": {
         "data": {
          "bar": [
           {
            "error_x": {
             "color": "#2a3f5f"
            },
            "error_y": {
             "color": "#2a3f5f"
            },
            "marker": {
             "line": {
              "color": "#E5ECF6",
              "width": 0.5
             },
             "pattern": {
              "fillmode": "overlay",
              "size": 10,
              "solidity": 0.2
             }
            },
            "type": "bar"
           }
          ],
          "barpolar": [
           {
            "marker": {
             "line": {
              "color": "#E5ECF6",
              "width": 0.5
             },
             "pattern": {
              "fillmode": "overlay",
              "size": 10,
              "solidity": 0.2
             }
            },
            "type": "barpolar"
           }
          ],
          "carpet": [
           {
            "aaxis": {
             "endlinecolor": "#2a3f5f",
             "gridcolor": "white",
             "linecolor": "white",
             "minorgridcolor": "white",
             "startlinecolor": "#2a3f5f"
            },
            "baxis": {
             "endlinecolor": "#2a3f5f",
             "gridcolor": "white",
             "linecolor": "white",
             "minorgridcolor": "white",
             "startlinecolor": "#2a3f5f"
            },
            "type": "carpet"
           }
          ],
          "choropleth": [
           {
            "colorbar": {
             "outlinewidth": 0,
             "ticks": ""
            },
            "type": "choropleth"
           }
          ],
          "contour": [
           {
            "colorbar": {
             "outlinewidth": 0,
             "ticks": ""
            },
            "colorscale": [
             [
              0,
              "#0d0887"
             ],
             [
              0.1111111111111111,
              "#46039f"
             ],
             [
              0.2222222222222222,
              "#7201a8"
             ],
             [
              0.3333333333333333,
              "#9c179e"
             ],
             [
              0.4444444444444444,
              "#bd3786"
             ],
             [
              0.5555555555555556,
              "#d8576b"
             ],
             [
              0.6666666666666666,
              "#ed7953"
             ],
             [
              0.7777777777777778,
              "#fb9f3a"
             ],
             [
              0.8888888888888888,
              "#fdca26"
             ],
             [
              1,
              "#f0f921"
             ]
            ],
            "type": "contour"
           }
          ],
          "contourcarpet": [
           {
            "colorbar": {
             "outlinewidth": 0,
             "ticks": ""
            },
            "type": "contourcarpet"
           }
          ],
          "heatmap": [
           {
            "colorbar": {
             "outlinewidth": 0,
             "ticks": ""
            },
            "colorscale": [
             [
              0,
              "#0d0887"
             ],
             [
              0.1111111111111111,
              "#46039f"
             ],
             [
              0.2222222222222222,
              "#7201a8"
             ],
             [
              0.3333333333333333,
              "#9c179e"
             ],
             [
              0.4444444444444444,
              "#bd3786"
             ],
             [
              0.5555555555555556,
              "#d8576b"
             ],
             [
              0.6666666666666666,
              "#ed7953"
             ],
             [
              0.7777777777777778,
              "#fb9f3a"
             ],
             [
              0.8888888888888888,
              "#fdca26"
             ],
             [
              1,
              "#f0f921"
             ]
            ],
            "type": "heatmap"
           }
          ],
          "heatmapgl": [
           {
            "colorbar": {
             "outlinewidth": 0,
             "ticks": ""
            },
            "colorscale": [
             [
              0,
              "#0d0887"
             ],
             [
              0.1111111111111111,
              "#46039f"
             ],
             [
              0.2222222222222222,
              "#7201a8"
             ],
             [
              0.3333333333333333,
              "#9c179e"
             ],
             [
              0.4444444444444444,
              "#bd3786"
             ],
             [
              0.5555555555555556,
              "#d8576b"
             ],
             [
              0.6666666666666666,
              "#ed7953"
             ],
             [
              0.7777777777777778,
              "#fb9f3a"
             ],
             [
              0.8888888888888888,
              "#fdca26"
             ],
             [
              1,
              "#f0f921"
             ]
            ],
            "type": "heatmapgl"
           }
          ],
          "histogram": [
           {
            "marker": {
             "pattern": {
              "fillmode": "overlay",
              "size": 10,
              "solidity": 0.2
             }
            },
            "type": "histogram"
           }
          ],
          "histogram2d": [
           {
            "colorbar": {
             "outlinewidth": 0,
             "ticks": ""
            },
            "colorscale": [
             [
              0,
              "#0d0887"
             ],
             [
              0.1111111111111111,
              "#46039f"
             ],
             [
              0.2222222222222222,
              "#7201a8"
             ],
             [
              0.3333333333333333,
              "#9c179e"
             ],
             [
              0.4444444444444444,
              "#bd3786"
             ],
             [
              0.5555555555555556,
              "#d8576b"
             ],
             [
              0.6666666666666666,
              "#ed7953"
             ],
             [
              0.7777777777777778,
              "#fb9f3a"
             ],
             [
              0.8888888888888888,
              "#fdca26"
             ],
             [
              1,
              "#f0f921"
             ]
            ],
            "type": "histogram2d"
           }
          ],
          "histogram2dcontour": [
           {
            "colorbar": {
             "outlinewidth": 0,
             "ticks": ""
            },
            "colorscale": [
             [
              0,
              "#0d0887"
             ],
             [
              0.1111111111111111,
              "#46039f"
             ],
             [
              0.2222222222222222,
              "#7201a8"
             ],
             [
              0.3333333333333333,
              "#9c179e"
             ],
             [
              0.4444444444444444,
              "#bd3786"
             ],
             [
              0.5555555555555556,
              "#d8576b"
             ],
             [
              0.6666666666666666,
              "#ed7953"
             ],
             [
              0.7777777777777778,
              "#fb9f3a"
             ],
             [
              0.8888888888888888,
              "#fdca26"
             ],
             [
              1,
              "#f0f921"
             ]
            ],
            "type": "histogram2dcontour"
           }
          ],
          "mesh3d": [
           {
            "colorbar": {
             "outlinewidth": 0,
             "ticks": ""
            },
            "type": "mesh3d"
           }
          ],
          "parcoords": [
           {
            "line": {
             "colorbar": {
              "outlinewidth": 0,
              "ticks": ""
             }
            },
            "type": "parcoords"
           }
          ],
          "pie": [
           {
            "automargin": true,
            "type": "pie"
           }
          ],
          "scatter": [
           {
            "fillpattern": {
             "fillmode": "overlay",
             "size": 10,
             "solidity": 0.2
            },
            "type": "scatter"
           }
          ],
          "scatter3d": [
           {
            "line": {
             "colorbar": {
              "outlinewidth": 0,
              "ticks": ""
             }
            },
            "marker": {
             "colorbar": {
              "outlinewidth": 0,
              "ticks": ""
             }
            },
            "type": "scatter3d"
           }
          ],
          "scattercarpet": [
           {
            "marker": {
             "colorbar": {
              "outlinewidth": 0,
              "ticks": ""
             }
            },
            "type": "scattercarpet"
           }
          ],
          "scattergeo": [
           {
            "marker": {
             "colorbar": {
              "outlinewidth": 0,
              "ticks": ""
             }
            },
            "type": "scattergeo"
           }
          ],
          "scattergl": [
           {
            "marker": {
             "colorbar": {
              "outlinewidth": 0,
              "ticks": ""
             }
            },
            "type": "scattergl"
           }
          ],
          "scattermapbox": [
           {
            "marker": {
             "colorbar": {
              "outlinewidth": 0,
              "ticks": ""
             }
            },
            "type": "scattermapbox"
           }
          ],
          "scatterpolar": [
           {
            "marker": {
             "colorbar": {
              "outlinewidth": 0,
              "ticks": ""
             }
            },
            "type": "scatterpolar"
           }
          ],
          "scatterpolargl": [
           {
            "marker": {
             "colorbar": {
              "outlinewidth": 0,
              "ticks": ""
             }
            },
            "type": "scatterpolargl"
           }
          ],
          "scatterternary": [
           {
            "marker": {
             "colorbar": {
              "outlinewidth": 0,
              "ticks": ""
             }
            },
            "type": "scatterternary"
           }
          ],
          "surface": [
           {
            "colorbar": {
             "outlinewidth": 0,
             "ticks": ""
            },
            "colorscale": [
             [
              0,
              "#0d0887"
             ],
             [
              0.1111111111111111,
              "#46039f"
             ],
             [
              0.2222222222222222,
              "#7201a8"
             ],
             [
              0.3333333333333333,
              "#9c179e"
             ],
             [
              0.4444444444444444,
              "#bd3786"
             ],
             [
              0.5555555555555556,
              "#d8576b"
             ],
             [
              0.6666666666666666,
              "#ed7953"
             ],
             [
              0.7777777777777778,
              "#fb9f3a"
             ],
             [
              0.8888888888888888,
              "#fdca26"
             ],
             [
              1,
              "#f0f921"
             ]
            ],
            "type": "surface"
           }
          ],
          "table": [
           {
            "cells": {
             "fill": {
              "color": "#EBF0F8"
             },
             "line": {
              "color": "white"
             }
            },
            "header": {
             "fill": {
              "color": "#C8D4E3"
             },
             "line": {
              "color": "white"
             }
            },
            "type": "table"
           }
          ]
         },
         "layout": {
          "annotationdefaults": {
           "arrowcolor": "#2a3f5f",
           "arrowhead": 0,
           "arrowwidth": 1
          },
          "autotypenumbers": "strict",
          "coloraxis": {
           "colorbar": {
            "outlinewidth": 0,
            "ticks": ""
           }
          },
          "colorscale": {
           "diverging": [
            [
             0,
             "#8e0152"
            ],
            [
             0.1,
             "#c51b7d"
            ],
            [
             0.2,
             "#de77ae"
            ],
            [
             0.3,
             "#f1b6da"
            ],
            [
             0.4,
             "#fde0ef"
            ],
            [
             0.5,
             "#f7f7f7"
            ],
            [
             0.6,
             "#e6f5d0"
            ],
            [
             0.7,
             "#b8e186"
            ],
            [
             0.8,
             "#7fbc41"
            ],
            [
             0.9,
             "#4d9221"
            ],
            [
             1,
             "#276419"
            ]
           ],
           "sequential": [
            [
             0,
             "#0d0887"
            ],
            [
             0.1111111111111111,
             "#46039f"
            ],
            [
             0.2222222222222222,
             "#7201a8"
            ],
            [
             0.3333333333333333,
             "#9c179e"
            ],
            [
             0.4444444444444444,
             "#bd3786"
            ],
            [
             0.5555555555555556,
             "#d8576b"
            ],
            [
             0.6666666666666666,
             "#ed7953"
            ],
            [
             0.7777777777777778,
             "#fb9f3a"
            ],
            [
             0.8888888888888888,
             "#fdca26"
            ],
            [
             1,
             "#f0f921"
            ]
           ],
           "sequentialminus": [
            [
             0,
             "#0d0887"
            ],
            [
             0.1111111111111111,
             "#46039f"
            ],
            [
             0.2222222222222222,
             "#7201a8"
            ],
            [
             0.3333333333333333,
             "#9c179e"
            ],
            [
             0.4444444444444444,
             "#bd3786"
            ],
            [
             0.5555555555555556,
             "#d8576b"
            ],
            [
             0.6666666666666666,
             "#ed7953"
            ],
            [
             0.7777777777777778,
             "#fb9f3a"
            ],
            [
             0.8888888888888888,
             "#fdca26"
            ],
            [
             1,
             "#f0f921"
            ]
           ]
          },
          "colorway": [
           "#636efa",
           "#EF553B",
           "#00cc96",
           "#ab63fa",
           "#FFA15A",
           "#19d3f3",
           "#FF6692",
           "#B6E880",
           "#FF97FF",
           "#FECB52"
          ],
          "font": {
           "color": "#2a3f5f"
          },
          "geo": {
           "bgcolor": "white",
           "lakecolor": "white",
           "landcolor": "#E5ECF6",
           "showlakes": true,
           "showland": true,
           "subunitcolor": "white"
          },
          "hoverlabel": {
           "align": "left"
          },
          "hovermode": "closest",
          "mapbox": {
           "style": "light"
          },
          "paper_bgcolor": "white",
          "plot_bgcolor": "#E5ECF6",
          "polar": {
           "angularaxis": {
            "gridcolor": "white",
            "linecolor": "white",
            "ticks": ""
           },
           "bgcolor": "#E5ECF6",
           "radialaxis": {
            "gridcolor": "white",
            "linecolor": "white",
            "ticks": ""
           }
          },
          "scene": {
           "xaxis": {
            "backgroundcolor": "#E5ECF6",
            "gridcolor": "white",
            "gridwidth": 2,
            "linecolor": "white",
            "showbackground": true,
            "ticks": "",
            "zerolinecolor": "white"
           },
           "yaxis": {
            "backgroundcolor": "#E5ECF6",
            "gridcolor": "white",
            "gridwidth": 2,
            "linecolor": "white",
            "showbackground": true,
            "ticks": "",
            "zerolinecolor": "white"
           },
           "zaxis": {
            "backgroundcolor": "#E5ECF6",
            "gridcolor": "white",
            "gridwidth": 2,
            "linecolor": "white",
            "showbackground": true,
            "ticks": "",
            "zerolinecolor": "white"
           }
          },
          "shapedefaults": {
           "line": {
            "color": "#2a3f5f"
           }
          },
          "ternary": {
           "aaxis": {
            "gridcolor": "white",
            "linecolor": "white",
            "ticks": ""
           },
           "baxis": {
            "gridcolor": "white",
            "linecolor": "white",
            "ticks": ""
           },
           "bgcolor": "#E5ECF6",
           "caxis": {
            "gridcolor": "white",
            "linecolor": "white",
            "ticks": ""
           }
          },
          "title": {
           "x": 0.05
          },
          "xaxis": {
           "automargin": true,
           "gridcolor": "white",
           "linecolor": "white",
           "ticks": "",
           "title": {
            "standoff": 15
           },
           "zerolinecolor": "white",
           "zerolinewidth": 2
          },
          "yaxis": {
           "automargin": true,
           "gridcolor": "white",
           "linecolor": "white",
           "ticks": "",
           "title": {
            "standoff": 15
           },
           "zerolinecolor": "white",
           "zerolinewidth": 2
          }
         }
        },
        "title": {
         "text": "Slice Plot"
        },
        "xaxis": {
         "anchor": "y",
         "domain": [
          0,
          0.45
         ],
         "title": {
          "text": "learning_rate"
         },
         "type": "log"
        },
        "xaxis2": {
         "anchor": "y2",
         "domain": [
          0.55,
          1
         ],
         "title": {
          "text": "n_estimators"
         }
        },
        "yaxis": {
         "anchor": "x",
         "domain": [
          0,
          1
         ],
         "title": {
          "text": "Objective Value"
         }
        },
        "yaxis2": {
         "anchor": "x2",
         "domain": [
          0,
          1
         ],
         "matches": "y",
         "showticklabels": false
        }
       }
      }
     },
     "metadata": {},
     "output_type": "display_data"
    },
    {
     "data": {
      "application/vnd.plotly.v1+json": {
       "config": {
        "plotlyServerURL": "https://plot.ly"
       },
       "data": [
        {
         "dimensions": [
          {
           "label": "Objective Value",
           "range": [
            0.6847801022218026,
            0.761845980960602
           ],
           "values": [
            0.7560332946649418,
            0.7512286899356861,
            0.7544407551504478,
            0.7527485253448715,
            0.7574567466334332,
            0.7496858210972318,
            0.7544049408825193,
            0.7462789437873286,
            0.7393270084575801,
            0.6847801022218026,
            0.7522053735461324,
            0.7534439649687166,
            0.7464107439211547,
            0.7605428553140415,
            0.7571279857550378,
            0.761845980960602,
            0.7411445287483374,
            0.7518623353368352,
            0.7549503137444581,
            0.7575494738655764
           ]
          },
          {
           "label": "learning_rate",
           "range": [
            -1.961201359327617,
            0.27786816238169726
           ],
           "ticktext": [
            "0.0109",
            "0.1",
            "1",
            "1.9"
           ],
           "tickvals": [
            -1.961201359327617,
            -1,
            0,
            0.27786816238169726
           ],
           "values": [
            -0.560595940008431,
            -0.8778499486101564,
            -0.531455016026519,
            -0.43974614892059244,
            -0.2696141211514787,
            0.08878268036858618,
            -0.2769581163360258,
            -0.3961051961770722,
            -1.2561226563777668,
            -1.961201359327617,
            0.20258390933757564,
            -0.9820942087953545,
            -1.389281645823513,
            -0.10052501555869431,
            -0.11333855659563241,
            -0.04275264041578853,
            0.27786816238169726,
            0.09736200357289711,
            -0.07613937319169359,
            -0.06862991662958262
           ]
          },
          {
           "label": "n_estimators",
           "range": [
            83,
            496
           ],
           "values": [
            352,
            137,
            438,
            100,
            486,
            83,
            416,
            89,
            155,
            238,
            307,
            496,
            339,
            378,
            475,
            389,
            248,
            393,
            373,
            279
           ]
          }
         ],
         "labelangle": 30,
         "labelside": "bottom",
         "line": {
          "color": [
           0.7560332946649418,
           0.7512286899356861,
           0.7544407551504478,
           0.7527485253448715,
           0.7574567466334332,
           0.7496858210972318,
           0.7544049408825193,
           0.7462789437873286,
           0.7393270084575801,
           0.6847801022218026,
           0.7522053735461324,
           0.7534439649687166,
           0.7464107439211547,
           0.7605428553140415,
           0.7571279857550378,
           0.761845980960602,
           0.7411445287483374,
           0.7518623353368352,
           0.7549503137444581,
           0.7575494738655764
          ],
          "colorbar": {
           "title": {
            "text": "Objective Value"
           }
          },
          "colorscale": [
           [
            0,
            "rgb(247,251,255)"
           ],
           [
            0.125,
            "rgb(222,235,247)"
           ],
           [
            0.25,
            "rgb(198,219,239)"
           ],
           [
            0.375,
            "rgb(158,202,225)"
           ],
           [
            0.5,
            "rgb(107,174,214)"
           ],
           [
            0.625,
            "rgb(66,146,198)"
           ],
           [
            0.75,
            "rgb(33,113,181)"
           ],
           [
            0.875,
            "rgb(8,81,156)"
           ],
           [
            1,
            "rgb(8,48,107)"
           ]
          ],
          "reversescale": false,
          "showscale": true
         },
         "type": "parcoords"
        }
       ],
       "layout": {
        "template": {
         "data": {
          "bar": [
           {
            "error_x": {
             "color": "#2a3f5f"
            },
            "error_y": {
             "color": "#2a3f5f"
            },
            "marker": {
             "line": {
              "color": "#E5ECF6",
              "width": 0.5
             },
             "pattern": {
              "fillmode": "overlay",
              "size": 10,
              "solidity": 0.2
             }
            },
            "type": "bar"
           }
          ],
          "barpolar": [
           {
            "marker": {
             "line": {
              "color": "#E5ECF6",
              "width": 0.5
             },
             "pattern": {
              "fillmode": "overlay",
              "size": 10,
              "solidity": 0.2
             }
            },
            "type": "barpolar"
           }
          ],
          "carpet": [
           {
            "aaxis": {
             "endlinecolor": "#2a3f5f",
             "gridcolor": "white",
             "linecolor": "white",
             "minorgridcolor": "white",
             "startlinecolor": "#2a3f5f"
            },
            "baxis": {
             "endlinecolor": "#2a3f5f",
             "gridcolor": "white",
             "linecolor": "white",
             "minorgridcolor": "white",
             "startlinecolor": "#2a3f5f"
            },
            "type": "carpet"
           }
          ],
          "choropleth": [
           {
            "colorbar": {
             "outlinewidth": 0,
             "ticks": ""
            },
            "type": "choropleth"
           }
          ],
          "contour": [
           {
            "colorbar": {
             "outlinewidth": 0,
             "ticks": ""
            },
            "colorscale": [
             [
              0,
              "#0d0887"
             ],
             [
              0.1111111111111111,
              "#46039f"
             ],
             [
              0.2222222222222222,
              "#7201a8"
             ],
             [
              0.3333333333333333,
              "#9c179e"
             ],
             [
              0.4444444444444444,
              "#bd3786"
             ],
             [
              0.5555555555555556,
              "#d8576b"
             ],
             [
              0.6666666666666666,
              "#ed7953"
             ],
             [
              0.7777777777777778,
              "#fb9f3a"
             ],
             [
              0.8888888888888888,
              "#fdca26"
             ],
             [
              1,
              "#f0f921"
             ]
            ],
            "type": "contour"
           }
          ],
          "contourcarpet": [
           {
            "colorbar": {
             "outlinewidth": 0,
             "ticks": ""
            },
            "type": "contourcarpet"
           }
          ],
          "heatmap": [
           {
            "colorbar": {
             "outlinewidth": 0,
             "ticks": ""
            },
            "colorscale": [
             [
              0,
              "#0d0887"
             ],
             [
              0.1111111111111111,
              "#46039f"
             ],
             [
              0.2222222222222222,
              "#7201a8"
             ],
             [
              0.3333333333333333,
              "#9c179e"
             ],
             [
              0.4444444444444444,
              "#bd3786"
             ],
             [
              0.5555555555555556,
              "#d8576b"
             ],
             [
              0.6666666666666666,
              "#ed7953"
             ],
             [
              0.7777777777777778,
              "#fb9f3a"
             ],
             [
              0.8888888888888888,
              "#fdca26"
             ],
             [
              1,
              "#f0f921"
             ]
            ],
            "type": "heatmap"
           }
          ],
          "heatmapgl": [
           {
            "colorbar": {
             "outlinewidth": 0,
             "ticks": ""
            },
            "colorscale": [
             [
              0,
              "#0d0887"
             ],
             [
              0.1111111111111111,
              "#46039f"
             ],
             [
              0.2222222222222222,
              "#7201a8"
             ],
             [
              0.3333333333333333,
              "#9c179e"
             ],
             [
              0.4444444444444444,
              "#bd3786"
             ],
             [
              0.5555555555555556,
              "#d8576b"
             ],
             [
              0.6666666666666666,
              "#ed7953"
             ],
             [
              0.7777777777777778,
              "#fb9f3a"
             ],
             [
              0.8888888888888888,
              "#fdca26"
             ],
             [
              1,
              "#f0f921"
             ]
            ],
            "type": "heatmapgl"
           }
          ],
          "histogram": [
           {
            "marker": {
             "pattern": {
              "fillmode": "overlay",
              "size": 10,
              "solidity": 0.2
             }
            },
            "type": "histogram"
           }
          ],
          "histogram2d": [
           {
            "colorbar": {
             "outlinewidth": 0,
             "ticks": ""
            },
            "colorscale": [
             [
              0,
              "#0d0887"
             ],
             [
              0.1111111111111111,
              "#46039f"
             ],
             [
              0.2222222222222222,
              "#7201a8"
             ],
             [
              0.3333333333333333,
              "#9c179e"
             ],
             [
              0.4444444444444444,
              "#bd3786"
             ],
             [
              0.5555555555555556,
              "#d8576b"
             ],
             [
              0.6666666666666666,
              "#ed7953"
             ],
             [
              0.7777777777777778,
              "#fb9f3a"
             ],
             [
              0.8888888888888888,
              "#fdca26"
             ],
             [
              1,
              "#f0f921"
             ]
            ],
            "type": "histogram2d"
           }
          ],
          "histogram2dcontour": [
           {
            "colorbar": {
             "outlinewidth": 0,
             "ticks": ""
            },
            "colorscale": [
             [
              0,
              "#0d0887"
             ],
             [
              0.1111111111111111,
              "#46039f"
             ],
             [
              0.2222222222222222,
              "#7201a8"
             ],
             [
              0.3333333333333333,
              "#9c179e"
             ],
             [
              0.4444444444444444,
              "#bd3786"
             ],
             [
              0.5555555555555556,
              "#d8576b"
             ],
             [
              0.6666666666666666,
              "#ed7953"
             ],
             [
              0.7777777777777778,
              "#fb9f3a"
             ],
             [
              0.8888888888888888,
              "#fdca26"
             ],
             [
              1,
              "#f0f921"
             ]
            ],
            "type": "histogram2dcontour"
           }
          ],
          "mesh3d": [
           {
            "colorbar": {
             "outlinewidth": 0,
             "ticks": ""
            },
            "type": "mesh3d"
           }
          ],
          "parcoords": [
           {
            "line": {
             "colorbar": {
              "outlinewidth": 0,
              "ticks": ""
             }
            },
            "type": "parcoords"
           }
          ],
          "pie": [
           {
            "automargin": true,
            "type": "pie"
           }
          ],
          "scatter": [
           {
            "fillpattern": {
             "fillmode": "overlay",
             "size": 10,
             "solidity": 0.2
            },
            "type": "scatter"
           }
          ],
          "scatter3d": [
           {
            "line": {
             "colorbar": {
              "outlinewidth": 0,
              "ticks": ""
             }
            },
            "marker": {
             "colorbar": {
              "outlinewidth": 0,
              "ticks": ""
             }
            },
            "type": "scatter3d"
           }
          ],
          "scattercarpet": [
           {
            "marker": {
             "colorbar": {
              "outlinewidth": 0,
              "ticks": ""
             }
            },
            "type": "scattercarpet"
           }
          ],
          "scattergeo": [
           {
            "marker": {
             "colorbar": {
              "outlinewidth": 0,
              "ticks": ""
             }
            },
            "type": "scattergeo"
           }
          ],
          "scattergl": [
           {
            "marker": {
             "colorbar": {
              "outlinewidth": 0,
              "ticks": ""
             }
            },
            "type": "scattergl"
           }
          ],
          "scattermapbox": [
           {
            "marker": {
             "colorbar": {
              "outlinewidth": 0,
              "ticks": ""
             }
            },
            "type": "scattermapbox"
           }
          ],
          "scatterpolar": [
           {
            "marker": {
             "colorbar": {
              "outlinewidth": 0,
              "ticks": ""
             }
            },
            "type": "scatterpolar"
           }
          ],
          "scatterpolargl": [
           {
            "marker": {
             "colorbar": {
              "outlinewidth": 0,
              "ticks": ""
             }
            },
            "type": "scatterpolargl"
           }
          ],
          "scatterternary": [
           {
            "marker": {
             "colorbar": {
              "outlinewidth": 0,
              "ticks": ""
             }
            },
            "type": "scatterternary"
           }
          ],
          "surface": [
           {
            "colorbar": {
             "outlinewidth": 0,
             "ticks": ""
            },
            "colorscale": [
             [
              0,
              "#0d0887"
             ],
             [
              0.1111111111111111,
              "#46039f"
             ],
             [
              0.2222222222222222,
              "#7201a8"
             ],
             [
              0.3333333333333333,
              "#9c179e"
             ],
             [
              0.4444444444444444,
              "#bd3786"
             ],
             [
              0.5555555555555556,
              "#d8576b"
             ],
             [
              0.6666666666666666,
              "#ed7953"
             ],
             [
              0.7777777777777778,
              "#fb9f3a"
             ],
             [
              0.8888888888888888,
              "#fdca26"
             ],
             [
              1,
              "#f0f921"
             ]
            ],
            "type": "surface"
           }
          ],
          "table": [
           {
            "cells": {
             "fill": {
              "color": "#EBF0F8"
             },
             "line": {
              "color": "white"
             }
            },
            "header": {
             "fill": {
              "color": "#C8D4E3"
             },
             "line": {
              "color": "white"
             }
            },
            "type": "table"
           }
          ]
         },
         "layout": {
          "annotationdefaults": {
           "arrowcolor": "#2a3f5f",
           "arrowhead": 0,
           "arrowwidth": 1
          },
          "autotypenumbers": "strict",
          "coloraxis": {
           "colorbar": {
            "outlinewidth": 0,
            "ticks": ""
           }
          },
          "colorscale": {
           "diverging": [
            [
             0,
             "#8e0152"
            ],
            [
             0.1,
             "#c51b7d"
            ],
            [
             0.2,
             "#de77ae"
            ],
            [
             0.3,
             "#f1b6da"
            ],
            [
             0.4,
             "#fde0ef"
            ],
            [
             0.5,
             "#f7f7f7"
            ],
            [
             0.6,
             "#e6f5d0"
            ],
            [
             0.7,
             "#b8e186"
            ],
            [
             0.8,
             "#7fbc41"
            ],
            [
             0.9,
             "#4d9221"
            ],
            [
             1,
             "#276419"
            ]
           ],
           "sequential": [
            [
             0,
             "#0d0887"
            ],
            [
             0.1111111111111111,
             "#46039f"
            ],
            [
             0.2222222222222222,
             "#7201a8"
            ],
            [
             0.3333333333333333,
             "#9c179e"
            ],
            [
             0.4444444444444444,
             "#bd3786"
            ],
            [
             0.5555555555555556,
             "#d8576b"
            ],
            [
             0.6666666666666666,
             "#ed7953"
            ],
            [
             0.7777777777777778,
             "#fb9f3a"
            ],
            [
             0.8888888888888888,
             "#fdca26"
            ],
            [
             1,
             "#f0f921"
            ]
           ],
           "sequentialminus": [
            [
             0,
             "#0d0887"
            ],
            [
             0.1111111111111111,
             "#46039f"
            ],
            [
             0.2222222222222222,
             "#7201a8"
            ],
            [
             0.3333333333333333,
             "#9c179e"
            ],
            [
             0.4444444444444444,
             "#bd3786"
            ],
            [
             0.5555555555555556,
             "#d8576b"
            ],
            [
             0.6666666666666666,
             "#ed7953"
            ],
            [
             0.7777777777777778,
             "#fb9f3a"
            ],
            [
             0.8888888888888888,
             "#fdca26"
            ],
            [
             1,
             "#f0f921"
            ]
           ]
          },
          "colorway": [
           "#636efa",
           "#EF553B",
           "#00cc96",
           "#ab63fa",
           "#FFA15A",
           "#19d3f3",
           "#FF6692",
           "#B6E880",
           "#FF97FF",
           "#FECB52"
          ],
          "font": {
           "color": "#2a3f5f"
          },
          "geo": {
           "bgcolor": "white",
           "lakecolor": "white",
           "landcolor": "#E5ECF6",
           "showlakes": true,
           "showland": true,
           "subunitcolor": "white"
          },
          "hoverlabel": {
           "align": "left"
          },
          "hovermode": "closest",
          "mapbox": {
           "style": "light"
          },
          "paper_bgcolor": "white",
          "plot_bgcolor": "#E5ECF6",
          "polar": {
           "angularaxis": {
            "gridcolor": "white",
            "linecolor": "white",
            "ticks": ""
           },
           "bgcolor": "#E5ECF6",
           "radialaxis": {
            "gridcolor": "white",
            "linecolor": "white",
            "ticks": ""
           }
          },
          "scene": {
           "xaxis": {
            "backgroundcolor": "#E5ECF6",
            "gridcolor": "white",
            "gridwidth": 2,
            "linecolor": "white",
            "showbackground": true,
            "ticks": "",
            "zerolinecolor": "white"
           },
           "yaxis": {
            "backgroundcolor": "#E5ECF6",
            "gridcolor": "white",
            "gridwidth": 2,
            "linecolor": "white",
            "showbackground": true,
            "ticks": "",
            "zerolinecolor": "white"
           },
           "zaxis": {
            "backgroundcolor": "#E5ECF6",
            "gridcolor": "white",
            "gridwidth": 2,
            "linecolor": "white",
            "showbackground": true,
            "ticks": "",
            "zerolinecolor": "white"
           }
          },
          "shapedefaults": {
           "line": {
            "color": "#2a3f5f"
           }
          },
          "ternary": {
           "aaxis": {
            "gridcolor": "white",
            "linecolor": "white",
            "ticks": ""
           },
           "baxis": {
            "gridcolor": "white",
            "linecolor": "white",
            "ticks": ""
           },
           "bgcolor": "#E5ECF6",
           "caxis": {
            "gridcolor": "white",
            "linecolor": "white",
            "ticks": ""
           }
          },
          "title": {
           "x": 0.05
          },
          "xaxis": {
           "automargin": true,
           "gridcolor": "white",
           "linecolor": "white",
           "ticks": "",
           "title": {
            "standoff": 15
           },
           "zerolinecolor": "white",
           "zerolinewidth": 2
          },
          "yaxis": {
           "automargin": true,
           "gridcolor": "white",
           "linecolor": "white",
           "ticks": "",
           "title": {
            "standoff": 15
           },
           "zerolinecolor": "white",
           "zerolinewidth": 2
          }
         }
        },
        "title": {
         "text": "Parallel Coordinate Plot"
        }
       }
      }
     },
     "metadata": {},
     "output_type": "display_data"
    },
    {
     "data": {
      "application/vnd.plotly.v1+json": {
       "config": {
        "plotlyServerURL": "https://plot.ly"
       },
       "data": [
        {
         "colorbar": {
          "title": {
           "text": "Objective Value"
          }
         },
         "colorscale": [
          [
           0,
           "rgb(247,251,255)"
          ],
          [
           0.125,
           "rgb(222,235,247)"
          ],
          [
           0.25,
           "rgb(198,219,239)"
          ],
          [
           0.375,
           "rgb(158,202,225)"
          ],
          [
           0.5,
           "rgb(107,174,214)"
          ],
          [
           0.625,
           "rgb(66,146,198)"
          ],
          [
           0.75,
           "rgb(33,113,181)"
          ],
          [
           0.875,
           "rgb(8,81,156)"
          ],
          [
           1,
           "rgb(8,48,107)"
          ]
         ],
         "connectgaps": true,
         "contours": {
          "coloring": "heatmap"
         },
         "hoverinfo": "none",
         "line": {
          "smoothing": 1.3
         },
         "reversescale": false,
         "type": "contour",
         "x": [
          0.008449775386119332,
          0.010934492742648646,
          0.040805467155349204,
          0.055446909393973495,
          0.1042091350491094,
          0.13247991823202485,
          0.27504519354442164,
          0.2941338340108666,
          0.3632903409074158,
          0.4016934995994244,
          0.5284962178628986,
          0.5375091713097193,
          0.770302741305883,
          0.7933685570730554,
          0.8391906313904498,
          0.8538273917893588,
          0.906248622778108,
          1.2268251779665311,
          1.2513016106269894,
          1.5943508929248889,
          1.8961302306349725,
          2.453700991869418
         ],
         "y": [
          62.349999999999994,
          83,
          89,
          100,
          137,
          155,
          238,
          248,
          279,
          307,
          339,
          352,
          373,
          378,
          389,
          393,
          416,
          438,
          475,
          486,
          496,
          516.65
         ],
         "z": [
          [
           null,
           null,
           null,
           null,
           null,
           null,
           null,
           null,
           null,
           null,
           null,
           null,
           null,
           null,
           null,
           null,
           null,
           null,
           null,
           null,
           null,
           null
          ],
          [
           null,
           null,
           null,
           null,
           null,
           null,
           null,
           null,
           null,
           null,
           null,
           null,
           null,
           null,
           null,
           null,
           null,
           0.7496858210972318,
           null,
           null,
           null,
           null
          ],
          [
           null,
           null,
           null,
           null,
           null,
           null,
           null,
           null,
           null,
           0.7462789437873286,
           null,
           null,
           null,
           null,
           null,
           null,
           null,
           null,
           null,
           null,
           null,
           null
          ],
          [
           null,
           null,
           null,
           null,
           null,
           null,
           null,
           null,
           0.7527485253448715,
           null,
           null,
           null,
           null,
           null,
           null,
           null,
           null,
           null,
           null,
           null,
           null,
           null
          ],
          [
           null,
           null,
           null,
           null,
           null,
           0.7512286899356861,
           null,
           null,
           null,
           null,
           null,
           null,
           null,
           null,
           null,
           null,
           null,
           null,
           null,
           null,
           null,
           null
          ],
          [
           null,
           null,
           null,
           0.7393270084575801,
           null,
           null,
           null,
           null,
           null,
           null,
           null,
           null,
           null,
           null,
           null,
           null,
           null,
           null,
           null,
           null,
           null,
           null
          ],
          [
           null,
           0.6847801022218026,
           null,
           null,
           null,
           null,
           null,
           null,
           null,
           null,
           null,
           null,
           null,
           null,
           null,
           null,
           null,
           null,
           null,
           null,
           null,
           null
          ],
          [
           null,
           null,
           null,
           null,
           null,
           null,
           null,
           null,
           null,
           null,
           null,
           null,
           null,
           null,
           null,
           null,
           null,
           null,
           null,
           null,
           0.7411445287483374,
           null
          ],
          [
           null,
           null,
           null,
           null,
           null,
           null,
           null,
           null,
           null,
           null,
           null,
           null,
           null,
           null,
           null,
           0.7575494738655764,
           null,
           null,
           null,
           null,
           null,
           null
          ],
          [
           null,
           null,
           null,
           null,
           null,
           null,
           null,
           null,
           null,
           null,
           null,
           null,
           null,
           null,
           null,
           null,
           null,
           null,
           null,
           0.7522053735461324,
           null,
           null
          ],
          [
           null,
           null,
           0.7464107439211547,
           null,
           null,
           null,
           null,
           null,
           null,
           null,
           null,
           null,
           null,
           null,
           null,
           null,
           null,
           null,
           null,
           null,
           null,
           null
          ],
          [
           null,
           null,
           null,
           null,
           null,
           null,
           0.7560332946649418,
           null,
           null,
           null,
           null,
           null,
           null,
           null,
           null,
           null,
           null,
           null,
           null,
           null,
           null,
           null
          ],
          [
           null,
           null,
           null,
           null,
           null,
           null,
           null,
           null,
           null,
           null,
           null,
           null,
           null,
           null,
           0.7549503137444581,
           null,
           null,
           null,
           null,
           null,
           null,
           null
          ],
          [
           null,
           null,
           null,
           null,
           null,
           null,
           null,
           null,
           null,
           null,
           null,
           null,
           null,
           0.7605428553140415,
           null,
           null,
           null,
           null,
           null,
           null,
           null,
           null
          ],
          [
           null,
           null,
           null,
           null,
           null,
           null,
           null,
           null,
           null,
           null,
           null,
           null,
           null,
           null,
           null,
           null,
           0.761845980960602,
           null,
           null,
           null,
           null,
           null
          ],
          [
           null,
           null,
           null,
           null,
           null,
           null,
           null,
           null,
           null,
           null,
           null,
           null,
           null,
           null,
           null,
           null,
           null,
           null,
           0.7518623353368352,
           null,
           null,
           null
          ],
          [
           null,
           null,
           null,
           null,
           null,
           null,
           null,
           null,
           null,
           null,
           0.7544049408825193,
           null,
           null,
           null,
           null,
           null,
           null,
           null,
           null,
           null,
           null,
           null
          ],
          [
           null,
           null,
           null,
           null,
           null,
           null,
           null,
           0.7544407551504478,
           null,
           null,
           null,
           null,
           null,
           null,
           null,
           null,
           null,
           null,
           null,
           null,
           null,
           null
          ],
          [
           null,
           null,
           null,
           null,
           null,
           null,
           null,
           null,
           null,
           null,
           null,
           null,
           0.7571279857550378,
           null,
           null,
           null,
           null,
           null,
           null,
           null,
           null,
           null
          ],
          [
           null,
           null,
           null,
           null,
           null,
           null,
           null,
           null,
           null,
           null,
           null,
           0.7574567466334332,
           null,
           null,
           null,
           null,
           null,
           null,
           null,
           null,
           null,
           null
          ],
          [
           null,
           null,
           null,
           null,
           0.7534439649687166,
           null,
           null,
           null,
           null,
           null,
           null,
           null,
           null,
           null,
           null,
           null,
           null,
           null,
           null,
           null,
           null,
           null
          ],
          [
           null,
           null,
           null,
           null,
           null,
           null,
           null,
           null,
           null,
           null,
           null,
           null,
           null,
           null,
           null,
           null,
           null,
           null,
           null,
           null,
           null,
           null
          ]
         ]
        },
        {
         "marker": {
          "color": "black",
          "line": {
           "color": "Gray",
           "width": 2
          }
         },
         "mode": "markers",
         "name": "Feasible Trial",
         "showlegend": false,
         "type": "scatter",
         "x": [
          0.27504519354442164,
          0.13247991823202485,
          0.2941338340108666,
          0.3632903409074158,
          0.5375091713097193,
          1.2268251779665311,
          0.5284962178628986,
          0.4016934995994244,
          0.055446909393973495,
          0.010934492742648646,
          1.5943508929248889,
          0.1042091350491094,
          0.040805467155349204,
          0.7933685570730554,
          0.770302741305883,
          0.906248622778108,
          1.8961302306349725,
          1.2513016106269894,
          0.8391906313904498,
          0.8538273917893588
         ],
         "y": [
          352,
          137,
          438,
          100,
          486,
          83,
          416,
          89,
          155,
          238,
          307,
          496,
          339,
          378,
          475,
          389,
          248,
          393,
          373,
          279
         ]
        },
        {
         "marker": {
          "color": "#cccccc",
          "line": {
           "color": "Gray",
           "width": 2
          }
         },
         "mode": "markers",
         "name": "Infeasible Trial",
         "showlegend": false,
         "type": "scatter",
         "x": [],
         "y": []
        }
       ],
       "layout": {
        "template": {
         "data": {
          "bar": [
           {
            "error_x": {
             "color": "#2a3f5f"
            },
            "error_y": {
             "color": "#2a3f5f"
            },
            "marker": {
             "line": {
              "color": "#E5ECF6",
              "width": 0.5
             },
             "pattern": {
              "fillmode": "overlay",
              "size": 10,
              "solidity": 0.2
             }
            },
            "type": "bar"
           }
          ],
          "barpolar": [
           {
            "marker": {
             "line": {
              "color": "#E5ECF6",
              "width": 0.5
             },
             "pattern": {
              "fillmode": "overlay",
              "size": 10,
              "solidity": 0.2
             }
            },
            "type": "barpolar"
           }
          ],
          "carpet": [
           {
            "aaxis": {
             "endlinecolor": "#2a3f5f",
             "gridcolor": "white",
             "linecolor": "white",
             "minorgridcolor": "white",
             "startlinecolor": "#2a3f5f"
            },
            "baxis": {
             "endlinecolor": "#2a3f5f",
             "gridcolor": "white",
             "linecolor": "white",
             "minorgridcolor": "white",
             "startlinecolor": "#2a3f5f"
            },
            "type": "carpet"
           }
          ],
          "choropleth": [
           {
            "colorbar": {
             "outlinewidth": 0,
             "ticks": ""
            },
            "type": "choropleth"
           }
          ],
          "contour": [
           {
            "colorbar": {
             "outlinewidth": 0,
             "ticks": ""
            },
            "colorscale": [
             [
              0,
              "#0d0887"
             ],
             [
              0.1111111111111111,
              "#46039f"
             ],
             [
              0.2222222222222222,
              "#7201a8"
             ],
             [
              0.3333333333333333,
              "#9c179e"
             ],
             [
              0.4444444444444444,
              "#bd3786"
             ],
             [
              0.5555555555555556,
              "#d8576b"
             ],
             [
              0.6666666666666666,
              "#ed7953"
             ],
             [
              0.7777777777777778,
              "#fb9f3a"
             ],
             [
              0.8888888888888888,
              "#fdca26"
             ],
             [
              1,
              "#f0f921"
             ]
            ],
            "type": "contour"
           }
          ],
          "contourcarpet": [
           {
            "colorbar": {
             "outlinewidth": 0,
             "ticks": ""
            },
            "type": "contourcarpet"
           }
          ],
          "heatmap": [
           {
            "colorbar": {
             "outlinewidth": 0,
             "ticks": ""
            },
            "colorscale": [
             [
              0,
              "#0d0887"
             ],
             [
              0.1111111111111111,
              "#46039f"
             ],
             [
              0.2222222222222222,
              "#7201a8"
             ],
             [
              0.3333333333333333,
              "#9c179e"
             ],
             [
              0.4444444444444444,
              "#bd3786"
             ],
             [
              0.5555555555555556,
              "#d8576b"
             ],
             [
              0.6666666666666666,
              "#ed7953"
             ],
             [
              0.7777777777777778,
              "#fb9f3a"
             ],
             [
              0.8888888888888888,
              "#fdca26"
             ],
             [
              1,
              "#f0f921"
             ]
            ],
            "type": "heatmap"
           }
          ],
          "heatmapgl": [
           {
            "colorbar": {
             "outlinewidth": 0,
             "ticks": ""
            },
            "colorscale": [
             [
              0,
              "#0d0887"
             ],
             [
              0.1111111111111111,
              "#46039f"
             ],
             [
              0.2222222222222222,
              "#7201a8"
             ],
             [
              0.3333333333333333,
              "#9c179e"
             ],
             [
              0.4444444444444444,
              "#bd3786"
             ],
             [
              0.5555555555555556,
              "#d8576b"
             ],
             [
              0.6666666666666666,
              "#ed7953"
             ],
             [
              0.7777777777777778,
              "#fb9f3a"
             ],
             [
              0.8888888888888888,
              "#fdca26"
             ],
             [
              1,
              "#f0f921"
             ]
            ],
            "type": "heatmapgl"
           }
          ],
          "histogram": [
           {
            "marker": {
             "pattern": {
              "fillmode": "overlay",
              "size": 10,
              "solidity": 0.2
             }
            },
            "type": "histogram"
           }
          ],
          "histogram2d": [
           {
            "colorbar": {
             "outlinewidth": 0,
             "ticks": ""
            },
            "colorscale": [
             [
              0,
              "#0d0887"
             ],
             [
              0.1111111111111111,
              "#46039f"
             ],
             [
              0.2222222222222222,
              "#7201a8"
             ],
             [
              0.3333333333333333,
              "#9c179e"
             ],
             [
              0.4444444444444444,
              "#bd3786"
             ],
             [
              0.5555555555555556,
              "#d8576b"
             ],
             [
              0.6666666666666666,
              "#ed7953"
             ],
             [
              0.7777777777777778,
              "#fb9f3a"
             ],
             [
              0.8888888888888888,
              "#fdca26"
             ],
             [
              1,
              "#f0f921"
             ]
            ],
            "type": "histogram2d"
           }
          ],
          "histogram2dcontour": [
           {
            "colorbar": {
             "outlinewidth": 0,
             "ticks": ""
            },
            "colorscale": [
             [
              0,
              "#0d0887"
             ],
             [
              0.1111111111111111,
              "#46039f"
             ],
             [
              0.2222222222222222,
              "#7201a8"
             ],
             [
              0.3333333333333333,
              "#9c179e"
             ],
             [
              0.4444444444444444,
              "#bd3786"
             ],
             [
              0.5555555555555556,
              "#d8576b"
             ],
             [
              0.6666666666666666,
              "#ed7953"
             ],
             [
              0.7777777777777778,
              "#fb9f3a"
             ],
             [
              0.8888888888888888,
              "#fdca26"
             ],
             [
              1,
              "#f0f921"
             ]
            ],
            "type": "histogram2dcontour"
           }
          ],
          "mesh3d": [
           {
            "colorbar": {
             "outlinewidth": 0,
             "ticks": ""
            },
            "type": "mesh3d"
           }
          ],
          "parcoords": [
           {
            "line": {
             "colorbar": {
              "outlinewidth": 0,
              "ticks": ""
             }
            },
            "type": "parcoords"
           }
          ],
          "pie": [
           {
            "automargin": true,
            "type": "pie"
           }
          ],
          "scatter": [
           {
            "fillpattern": {
             "fillmode": "overlay",
             "size": 10,
             "solidity": 0.2
            },
            "type": "scatter"
           }
          ],
          "scatter3d": [
           {
            "line": {
             "colorbar": {
              "outlinewidth": 0,
              "ticks": ""
             }
            },
            "marker": {
             "colorbar": {
              "outlinewidth": 0,
              "ticks": ""
             }
            },
            "type": "scatter3d"
           }
          ],
          "scattercarpet": [
           {
            "marker": {
             "colorbar": {
              "outlinewidth": 0,
              "ticks": ""
             }
            },
            "type": "scattercarpet"
           }
          ],
          "scattergeo": [
           {
            "marker": {
             "colorbar": {
              "outlinewidth": 0,
              "ticks": ""
             }
            },
            "type": "scattergeo"
           }
          ],
          "scattergl": [
           {
            "marker": {
             "colorbar": {
              "outlinewidth": 0,
              "ticks": ""
             }
            },
            "type": "scattergl"
           }
          ],
          "scattermapbox": [
           {
            "marker": {
             "colorbar": {
              "outlinewidth": 0,
              "ticks": ""
             }
            },
            "type": "scattermapbox"
           }
          ],
          "scatterpolar": [
           {
            "marker": {
             "colorbar": {
              "outlinewidth": 0,
              "ticks": ""
             }
            },
            "type": "scatterpolar"
           }
          ],
          "scatterpolargl": [
           {
            "marker": {
             "colorbar": {
              "outlinewidth": 0,
              "ticks": ""
             }
            },
            "type": "scatterpolargl"
           }
          ],
          "scatterternary": [
           {
            "marker": {
             "colorbar": {
              "outlinewidth": 0,
              "ticks": ""
             }
            },
            "type": "scatterternary"
           }
          ],
          "surface": [
           {
            "colorbar": {
             "outlinewidth": 0,
             "ticks": ""
            },
            "colorscale": [
             [
              0,
              "#0d0887"
             ],
             [
              0.1111111111111111,
              "#46039f"
             ],
             [
              0.2222222222222222,
              "#7201a8"
             ],
             [
              0.3333333333333333,
              "#9c179e"
             ],
             [
              0.4444444444444444,
              "#bd3786"
             ],
             [
              0.5555555555555556,
              "#d8576b"
             ],
             [
              0.6666666666666666,
              "#ed7953"
             ],
             [
              0.7777777777777778,
              "#fb9f3a"
             ],
             [
              0.8888888888888888,
              "#fdca26"
             ],
             [
              1,
              "#f0f921"
             ]
            ],
            "type": "surface"
           }
          ],
          "table": [
           {
            "cells": {
             "fill": {
              "color": "#EBF0F8"
             },
             "line": {
              "color": "white"
             }
            },
            "header": {
             "fill": {
              "color": "#C8D4E3"
             },
             "line": {
              "color": "white"
             }
            },
            "type": "table"
           }
          ]
         },
         "layout": {
          "annotationdefaults": {
           "arrowcolor": "#2a3f5f",
           "arrowhead": 0,
           "arrowwidth": 1
          },
          "autotypenumbers": "strict",
          "coloraxis": {
           "colorbar": {
            "outlinewidth": 0,
            "ticks": ""
           }
          },
          "colorscale": {
           "diverging": [
            [
             0,
             "#8e0152"
            ],
            [
             0.1,
             "#c51b7d"
            ],
            [
             0.2,
             "#de77ae"
            ],
            [
             0.3,
             "#f1b6da"
            ],
            [
             0.4,
             "#fde0ef"
            ],
            [
             0.5,
             "#f7f7f7"
            ],
            [
             0.6,
             "#e6f5d0"
            ],
            [
             0.7,
             "#b8e186"
            ],
            [
             0.8,
             "#7fbc41"
            ],
            [
             0.9,
             "#4d9221"
            ],
            [
             1,
             "#276419"
            ]
           ],
           "sequential": [
            [
             0,
             "#0d0887"
            ],
            [
             0.1111111111111111,
             "#46039f"
            ],
            [
             0.2222222222222222,
             "#7201a8"
            ],
            [
             0.3333333333333333,
             "#9c179e"
            ],
            [
             0.4444444444444444,
             "#bd3786"
            ],
            [
             0.5555555555555556,
             "#d8576b"
            ],
            [
             0.6666666666666666,
             "#ed7953"
            ],
            [
             0.7777777777777778,
             "#fb9f3a"
            ],
            [
             0.8888888888888888,
             "#fdca26"
            ],
            [
             1,
             "#f0f921"
            ]
           ],
           "sequentialminus": [
            [
             0,
             "#0d0887"
            ],
            [
             0.1111111111111111,
             "#46039f"
            ],
            [
             0.2222222222222222,
             "#7201a8"
            ],
            [
             0.3333333333333333,
             "#9c179e"
            ],
            [
             0.4444444444444444,
             "#bd3786"
            ],
            [
             0.5555555555555556,
             "#d8576b"
            ],
            [
             0.6666666666666666,
             "#ed7953"
            ],
            [
             0.7777777777777778,
             "#fb9f3a"
            ],
            [
             0.8888888888888888,
             "#fdca26"
            ],
            [
             1,
             "#f0f921"
            ]
           ]
          },
          "colorway": [
           "#636efa",
           "#EF553B",
           "#00cc96",
           "#ab63fa",
           "#FFA15A",
           "#19d3f3",
           "#FF6692",
           "#B6E880",
           "#FF97FF",
           "#FECB52"
          ],
          "font": {
           "color": "#2a3f5f"
          },
          "geo": {
           "bgcolor": "white",
           "lakecolor": "white",
           "landcolor": "#E5ECF6",
           "showlakes": true,
           "showland": true,
           "subunitcolor": "white"
          },
          "hoverlabel": {
           "align": "left"
          },
          "hovermode": "closest",
          "mapbox": {
           "style": "light"
          },
          "paper_bgcolor": "white",
          "plot_bgcolor": "#E5ECF6",
          "polar": {
           "angularaxis": {
            "gridcolor": "white",
            "linecolor": "white",
            "ticks": ""
           },
           "bgcolor": "#E5ECF6",
           "radialaxis": {
            "gridcolor": "white",
            "linecolor": "white",
            "ticks": ""
           }
          },
          "scene": {
           "xaxis": {
            "backgroundcolor": "#E5ECF6",
            "gridcolor": "white",
            "gridwidth": 2,
            "linecolor": "white",
            "showbackground": true,
            "ticks": "",
            "zerolinecolor": "white"
           },
           "yaxis": {
            "backgroundcolor": "#E5ECF6",
            "gridcolor": "white",
            "gridwidth": 2,
            "linecolor": "white",
            "showbackground": true,
            "ticks": "",
            "zerolinecolor": "white"
           },
           "zaxis": {
            "backgroundcolor": "#E5ECF6",
            "gridcolor": "white",
            "gridwidth": 2,
            "linecolor": "white",
            "showbackground": true,
            "ticks": "",
            "zerolinecolor": "white"
           }
          },
          "shapedefaults": {
           "line": {
            "color": "#2a3f5f"
           }
          },
          "ternary": {
           "aaxis": {
            "gridcolor": "white",
            "linecolor": "white",
            "ticks": ""
           },
           "baxis": {
            "gridcolor": "white",
            "linecolor": "white",
            "ticks": ""
           },
           "bgcolor": "#E5ECF6",
           "caxis": {
            "gridcolor": "white",
            "linecolor": "white",
            "ticks": ""
           }
          },
          "title": {
           "x": 0.05
          },
          "xaxis": {
           "automargin": true,
           "gridcolor": "white",
           "linecolor": "white",
           "ticks": "",
           "title": {
            "standoff": 15
           },
           "zerolinecolor": "white",
           "zerolinewidth": 2
          },
          "yaxis": {
           "automargin": true,
           "gridcolor": "white",
           "linecolor": "white",
           "ticks": "",
           "title": {
            "standoff": 15
           },
           "zerolinecolor": "white",
           "zerolinewidth": 2
          }
         }
        },
        "title": {
         "text": "Contour Plot"
        },
        "xaxis": {
         "range": [
          -2.073154835413083,
          0.38982163846716295
         ],
         "title": {
          "text": "learning_rate"
         },
         "type": "log"
        },
        "yaxis": {
         "range": [
          62.349999999999994,
          516.65
         ],
         "title": {
          "text": "n_estimators"
         }
        }
       }
      }
     },
     "metadata": {},
     "output_type": "display_data"
    },
    {
     "data": {
      "application/vnd.plotly.v1+json": {
       "config": {
        "plotlyServerURL": "https://plot.ly"
       },
       "data": [
        {
         "cliponaxis": false,
         "hovertemplate": [
          "n_estimators (IntDistribution): 0.44628339323877975<extra></extra>",
          "learning_rate (FloatDistribution): 0.5537166067612203<extra></extra>"
         ],
         "name": "Objective Value",
         "orientation": "h",
         "text": [
          "0.45",
          "0.55"
         ],
         "textposition": "outside",
         "type": "bar",
         "x": [
          0.44628339323877975,
          0.5537166067612203
         ],
         "y": [
          "n_estimators",
          "learning_rate"
         ]
        }
       ],
       "layout": {
        "template": {
         "data": {
          "bar": [
           {
            "error_x": {
             "color": "#2a3f5f"
            },
            "error_y": {
             "color": "#2a3f5f"
            },
            "marker": {
             "line": {
              "color": "#E5ECF6",
              "width": 0.5
             },
             "pattern": {
              "fillmode": "overlay",
              "size": 10,
              "solidity": 0.2
             }
            },
            "type": "bar"
           }
          ],
          "barpolar": [
           {
            "marker": {
             "line": {
              "color": "#E5ECF6",
              "width": 0.5
             },
             "pattern": {
              "fillmode": "overlay",
              "size": 10,
              "solidity": 0.2
             }
            },
            "type": "barpolar"
           }
          ],
          "carpet": [
           {
            "aaxis": {
             "endlinecolor": "#2a3f5f",
             "gridcolor": "white",
             "linecolor": "white",
             "minorgridcolor": "white",
             "startlinecolor": "#2a3f5f"
            },
            "baxis": {
             "endlinecolor": "#2a3f5f",
             "gridcolor": "white",
             "linecolor": "white",
             "minorgridcolor": "white",
             "startlinecolor": "#2a3f5f"
            },
            "type": "carpet"
           }
          ],
          "choropleth": [
           {
            "colorbar": {
             "outlinewidth": 0,
             "ticks": ""
            },
            "type": "choropleth"
           }
          ],
          "contour": [
           {
            "colorbar": {
             "outlinewidth": 0,
             "ticks": ""
            },
            "colorscale": [
             [
              0,
              "#0d0887"
             ],
             [
              0.1111111111111111,
              "#46039f"
             ],
             [
              0.2222222222222222,
              "#7201a8"
             ],
             [
              0.3333333333333333,
              "#9c179e"
             ],
             [
              0.4444444444444444,
              "#bd3786"
             ],
             [
              0.5555555555555556,
              "#d8576b"
             ],
             [
              0.6666666666666666,
              "#ed7953"
             ],
             [
              0.7777777777777778,
              "#fb9f3a"
             ],
             [
              0.8888888888888888,
              "#fdca26"
             ],
             [
              1,
              "#f0f921"
             ]
            ],
            "type": "contour"
           }
          ],
          "contourcarpet": [
           {
            "colorbar": {
             "outlinewidth": 0,
             "ticks": ""
            },
            "type": "contourcarpet"
           }
          ],
          "heatmap": [
           {
            "colorbar": {
             "outlinewidth": 0,
             "ticks": ""
            },
            "colorscale": [
             [
              0,
              "#0d0887"
             ],
             [
              0.1111111111111111,
              "#46039f"
             ],
             [
              0.2222222222222222,
              "#7201a8"
             ],
             [
              0.3333333333333333,
              "#9c179e"
             ],
             [
              0.4444444444444444,
              "#bd3786"
             ],
             [
              0.5555555555555556,
              "#d8576b"
             ],
             [
              0.6666666666666666,
              "#ed7953"
             ],
             [
              0.7777777777777778,
              "#fb9f3a"
             ],
             [
              0.8888888888888888,
              "#fdca26"
             ],
             [
              1,
              "#f0f921"
             ]
            ],
            "type": "heatmap"
           }
          ],
          "heatmapgl": [
           {
            "colorbar": {
             "outlinewidth": 0,
             "ticks": ""
            },
            "colorscale": [
             [
              0,
              "#0d0887"
             ],
             [
              0.1111111111111111,
              "#46039f"
             ],
             [
              0.2222222222222222,
              "#7201a8"
             ],
             [
              0.3333333333333333,
              "#9c179e"
             ],
             [
              0.4444444444444444,
              "#bd3786"
             ],
             [
              0.5555555555555556,
              "#d8576b"
             ],
             [
              0.6666666666666666,
              "#ed7953"
             ],
             [
              0.7777777777777778,
              "#fb9f3a"
             ],
             [
              0.8888888888888888,
              "#fdca26"
             ],
             [
              1,
              "#f0f921"
             ]
            ],
            "type": "heatmapgl"
           }
          ],
          "histogram": [
           {
            "marker": {
             "pattern": {
              "fillmode": "overlay",
              "size": 10,
              "solidity": 0.2
             }
            },
            "type": "histogram"
           }
          ],
          "histogram2d": [
           {
            "colorbar": {
             "outlinewidth": 0,
             "ticks": ""
            },
            "colorscale": [
             [
              0,
              "#0d0887"
             ],
             [
              0.1111111111111111,
              "#46039f"
             ],
             [
              0.2222222222222222,
              "#7201a8"
             ],
             [
              0.3333333333333333,
              "#9c179e"
             ],
             [
              0.4444444444444444,
              "#bd3786"
             ],
             [
              0.5555555555555556,
              "#d8576b"
             ],
             [
              0.6666666666666666,
              "#ed7953"
             ],
             [
              0.7777777777777778,
              "#fb9f3a"
             ],
             [
              0.8888888888888888,
              "#fdca26"
             ],
             [
              1,
              "#f0f921"
             ]
            ],
            "type": "histogram2d"
           }
          ],
          "histogram2dcontour": [
           {
            "colorbar": {
             "outlinewidth": 0,
             "ticks": ""
            },
            "colorscale": [
             [
              0,
              "#0d0887"
             ],
             [
              0.1111111111111111,
              "#46039f"
             ],
             [
              0.2222222222222222,
              "#7201a8"
             ],
             [
              0.3333333333333333,
              "#9c179e"
             ],
             [
              0.4444444444444444,
              "#bd3786"
             ],
             [
              0.5555555555555556,
              "#d8576b"
             ],
             [
              0.6666666666666666,
              "#ed7953"
             ],
             [
              0.7777777777777778,
              "#fb9f3a"
             ],
             [
              0.8888888888888888,
              "#fdca26"
             ],
             [
              1,
              "#f0f921"
             ]
            ],
            "type": "histogram2dcontour"
           }
          ],
          "mesh3d": [
           {
            "colorbar": {
             "outlinewidth": 0,
             "ticks": ""
            },
            "type": "mesh3d"
           }
          ],
          "parcoords": [
           {
            "line": {
             "colorbar": {
              "outlinewidth": 0,
              "ticks": ""
             }
            },
            "type": "parcoords"
           }
          ],
          "pie": [
           {
            "automargin": true,
            "type": "pie"
           }
          ],
          "scatter": [
           {
            "fillpattern": {
             "fillmode": "overlay",
             "size": 10,
             "solidity": 0.2
            },
            "type": "scatter"
           }
          ],
          "scatter3d": [
           {
            "line": {
             "colorbar": {
              "outlinewidth": 0,
              "ticks": ""
             }
            },
            "marker": {
             "colorbar": {
              "outlinewidth": 0,
              "ticks": ""
             }
            },
            "type": "scatter3d"
           }
          ],
          "scattercarpet": [
           {
            "marker": {
             "colorbar": {
              "outlinewidth": 0,
              "ticks": ""
             }
            },
            "type": "scattercarpet"
           }
          ],
          "scattergeo": [
           {
            "marker": {
             "colorbar": {
              "outlinewidth": 0,
              "ticks": ""
             }
            },
            "type": "scattergeo"
           }
          ],
          "scattergl": [
           {
            "marker": {
             "colorbar": {
              "outlinewidth": 0,
              "ticks": ""
             }
            },
            "type": "scattergl"
           }
          ],
          "scattermapbox": [
           {
            "marker": {
             "colorbar": {
              "outlinewidth": 0,
              "ticks": ""
             }
            },
            "type": "scattermapbox"
           }
          ],
          "scatterpolar": [
           {
            "marker": {
             "colorbar": {
              "outlinewidth": 0,
              "ticks": ""
             }
            },
            "type": "scatterpolar"
           }
          ],
          "scatterpolargl": [
           {
            "marker": {
             "colorbar": {
              "outlinewidth": 0,
              "ticks": ""
             }
            },
            "type": "scatterpolargl"
           }
          ],
          "scatterternary": [
           {
            "marker": {
             "colorbar": {
              "outlinewidth": 0,
              "ticks": ""
             }
            },
            "type": "scatterternary"
           }
          ],
          "surface": [
           {
            "colorbar": {
             "outlinewidth": 0,
             "ticks": ""
            },
            "colorscale": [
             [
              0,
              "#0d0887"
             ],
             [
              0.1111111111111111,
              "#46039f"
             ],
             [
              0.2222222222222222,
              "#7201a8"
             ],
             [
              0.3333333333333333,
              "#9c179e"
             ],
             [
              0.4444444444444444,
              "#bd3786"
             ],
             [
              0.5555555555555556,
              "#d8576b"
             ],
             [
              0.6666666666666666,
              "#ed7953"
             ],
             [
              0.7777777777777778,
              "#fb9f3a"
             ],
             [
              0.8888888888888888,
              "#fdca26"
             ],
             [
              1,
              "#f0f921"
             ]
            ],
            "type": "surface"
           }
          ],
          "table": [
           {
            "cells": {
             "fill": {
              "color": "#EBF0F8"
             },
             "line": {
              "color": "white"
             }
            },
            "header": {
             "fill": {
              "color": "#C8D4E3"
             },
             "line": {
              "color": "white"
             }
            },
            "type": "table"
           }
          ]
         },
         "layout": {
          "annotationdefaults": {
           "arrowcolor": "#2a3f5f",
           "arrowhead": 0,
           "arrowwidth": 1
          },
          "autotypenumbers": "strict",
          "coloraxis": {
           "colorbar": {
            "outlinewidth": 0,
            "ticks": ""
           }
          },
          "colorscale": {
           "diverging": [
            [
             0,
             "#8e0152"
            ],
            [
             0.1,
             "#c51b7d"
            ],
            [
             0.2,
             "#de77ae"
            ],
            [
             0.3,
             "#f1b6da"
            ],
            [
             0.4,
             "#fde0ef"
            ],
            [
             0.5,
             "#f7f7f7"
            ],
            [
             0.6,
             "#e6f5d0"
            ],
            [
             0.7,
             "#b8e186"
            ],
            [
             0.8,
             "#7fbc41"
            ],
            [
             0.9,
             "#4d9221"
            ],
            [
             1,
             "#276419"
            ]
           ],
           "sequential": [
            [
             0,
             "#0d0887"
            ],
            [
             0.1111111111111111,
             "#46039f"
            ],
            [
             0.2222222222222222,
             "#7201a8"
            ],
            [
             0.3333333333333333,
             "#9c179e"
            ],
            [
             0.4444444444444444,
             "#bd3786"
            ],
            [
             0.5555555555555556,
             "#d8576b"
            ],
            [
             0.6666666666666666,
             "#ed7953"
            ],
            [
             0.7777777777777778,
             "#fb9f3a"
            ],
            [
             0.8888888888888888,
             "#fdca26"
            ],
            [
             1,
             "#f0f921"
            ]
           ],
           "sequentialminus": [
            [
             0,
             "#0d0887"
            ],
            [
             0.1111111111111111,
             "#46039f"
            ],
            [
             0.2222222222222222,
             "#7201a8"
            ],
            [
             0.3333333333333333,
             "#9c179e"
            ],
            [
             0.4444444444444444,
             "#bd3786"
            ],
            [
             0.5555555555555556,
             "#d8576b"
            ],
            [
             0.6666666666666666,
             "#ed7953"
            ],
            [
             0.7777777777777778,
             "#fb9f3a"
            ],
            [
             0.8888888888888888,
             "#fdca26"
            ],
            [
             1,
             "#f0f921"
            ]
           ]
          },
          "colorway": [
           "#636efa",
           "#EF553B",
           "#00cc96",
           "#ab63fa",
           "#FFA15A",
           "#19d3f3",
           "#FF6692",
           "#B6E880",
           "#FF97FF",
           "#FECB52"
          ],
          "font": {
           "color": "#2a3f5f"
          },
          "geo": {
           "bgcolor": "white",
           "lakecolor": "white",
           "landcolor": "#E5ECF6",
           "showlakes": true,
           "showland": true,
           "subunitcolor": "white"
          },
          "hoverlabel": {
           "align": "left"
          },
          "hovermode": "closest",
          "mapbox": {
           "style": "light"
          },
          "paper_bgcolor": "white",
          "plot_bgcolor": "#E5ECF6",
          "polar": {
           "angularaxis": {
            "gridcolor": "white",
            "linecolor": "white",
            "ticks": ""
           },
           "bgcolor": "#E5ECF6",
           "radialaxis": {
            "gridcolor": "white",
            "linecolor": "white",
            "ticks": ""
           }
          },
          "scene": {
           "xaxis": {
            "backgroundcolor": "#E5ECF6",
            "gridcolor": "white",
            "gridwidth": 2,
            "linecolor": "white",
            "showbackground": true,
            "ticks": "",
            "zerolinecolor": "white"
           },
           "yaxis": {
            "backgroundcolor": "#E5ECF6",
            "gridcolor": "white",
            "gridwidth": 2,
            "linecolor": "white",
            "showbackground": true,
            "ticks": "",
            "zerolinecolor": "white"
           },
           "zaxis": {
            "backgroundcolor": "#E5ECF6",
            "gridcolor": "white",
            "gridwidth": 2,
            "linecolor": "white",
            "showbackground": true,
            "ticks": "",
            "zerolinecolor": "white"
           }
          },
          "shapedefaults": {
           "line": {
            "color": "#2a3f5f"
           }
          },
          "ternary": {
           "aaxis": {
            "gridcolor": "white",
            "linecolor": "white",
            "ticks": ""
           },
           "baxis": {
            "gridcolor": "white",
            "linecolor": "white",
            "ticks": ""
           },
           "bgcolor": "#E5ECF6",
           "caxis": {
            "gridcolor": "white",
            "linecolor": "white",
            "ticks": ""
           }
          },
          "title": {
           "x": 0.05
          },
          "xaxis": {
           "automargin": true,
           "gridcolor": "white",
           "linecolor": "white",
           "ticks": "",
           "title": {
            "standoff": 15
           },
           "zerolinecolor": "white",
           "zerolinewidth": 2
          },
          "yaxis": {
           "automargin": true,
           "gridcolor": "white",
           "linecolor": "white",
           "ticks": "",
           "title": {
            "standoff": 15
           },
           "zerolinecolor": "white",
           "zerolinewidth": 2
          }
         }
        },
        "title": {
         "text": "Hyperparameter Importances"
        },
        "xaxis": {
         "title": {
          "text": "Hyperparameter Importance"
         }
        },
        "yaxis": {
         "title": {
          "text": "Hyperparameter"
         }
        }
       }
      }
     },
     "metadata": {},
     "output_type": "display_data"
    },
    {
     "name": "stdout",
     "output_type": "stream",
     "text": [
      "Best F1 for SVM: 0.7285810020733521\n",
      "Best Parameters for SVM: {'Modelo__C': 4.970566854587303, 'Modelo__kernel': 'rbf'}\n",
      "Plots for model: SVM\n"
     ]
    },
    {
     "data": {
      "application/vnd.plotly.v1+json": {
       "config": {
        "plotlyServerURL": "https://plot.ly"
       },
       "data": [
        {
         "mode": "markers",
         "name": "Objective Value",
         "type": "scatter",
         "x": [
          0,
          1,
          2,
          3,
          4,
          5,
          6,
          7,
          8,
          9,
          10,
          11,
          12,
          13,
          14,
          15,
          16,
          17,
          18,
          19
         ],
         "y": [
          0.7279253512926774,
          0.621347000756924,
          0.6425521718016315,
          0.7325402867057779,
          0.619442818349853,
          0.7279253512926774,
          0.7279253512926774,
          0.6909968972159298,
          0.7279253512926774,
          0.7276044403195925,
          0.6848591474177752,
          0.6850422474278726,
          0.7217277341652133,
          0.7288657976143701,
          0.6808082416666078,
          0.7304546127288444,
          0.7406109278636971,
          0.7320615576483223,
          0.7354126462931819,
          0.7343628132844736
         ]
        },
        {
         "mode": "lines",
         "name": "Best Value",
         "type": "scatter",
         "x": [
          0,
          1,
          2,
          3,
          4,
          5,
          6,
          7,
          8,
          9,
          10,
          11,
          12,
          13,
          14,
          15,
          16,
          17,
          18,
          19
         ],
         "y": [
          0.7279253512926774,
          0.7279253512926774,
          0.7279253512926774,
          0.7325402867057779,
          0.7325402867057779,
          0.7325402867057779,
          0.7325402867057779,
          0.7325402867057779,
          0.7325402867057779,
          0.7325402867057779,
          0.7325402867057779,
          0.7325402867057779,
          0.7325402867057779,
          0.7325402867057779,
          0.7325402867057779,
          0.7325402867057779,
          0.7406109278636971,
          0.7406109278636971,
          0.7406109278636971,
          0.7406109278636971
         ]
        },
        {
         "marker": {
          "color": "#cccccc"
         },
         "mode": "markers",
         "name": "Infeasible Trial",
         "showlegend": false,
         "type": "scatter",
         "x": [],
         "y": []
        }
       ],
       "layout": {
        "template": {
         "data": {
          "bar": [
           {
            "error_x": {
             "color": "#2a3f5f"
            },
            "error_y": {
             "color": "#2a3f5f"
            },
            "marker": {
             "line": {
              "color": "#E5ECF6",
              "width": 0.5
             },
             "pattern": {
              "fillmode": "overlay",
              "size": 10,
              "solidity": 0.2
             }
            },
            "type": "bar"
           }
          ],
          "barpolar": [
           {
            "marker": {
             "line": {
              "color": "#E5ECF6",
              "width": 0.5
             },
             "pattern": {
              "fillmode": "overlay",
              "size": 10,
              "solidity": 0.2
             }
            },
            "type": "barpolar"
           }
          ],
          "carpet": [
           {
            "aaxis": {
             "endlinecolor": "#2a3f5f",
             "gridcolor": "white",
             "linecolor": "white",
             "minorgridcolor": "white",
             "startlinecolor": "#2a3f5f"
            },
            "baxis": {
             "endlinecolor": "#2a3f5f",
             "gridcolor": "white",
             "linecolor": "white",
             "minorgridcolor": "white",
             "startlinecolor": "#2a3f5f"
            },
            "type": "carpet"
           }
          ],
          "choropleth": [
           {
            "colorbar": {
             "outlinewidth": 0,
             "ticks": ""
            },
            "type": "choropleth"
           }
          ],
          "contour": [
           {
            "colorbar": {
             "outlinewidth": 0,
             "ticks": ""
            },
            "colorscale": [
             [
              0,
              "#0d0887"
             ],
             [
              0.1111111111111111,
              "#46039f"
             ],
             [
              0.2222222222222222,
              "#7201a8"
             ],
             [
              0.3333333333333333,
              "#9c179e"
             ],
             [
              0.4444444444444444,
              "#bd3786"
             ],
             [
              0.5555555555555556,
              "#d8576b"
             ],
             [
              0.6666666666666666,
              "#ed7953"
             ],
             [
              0.7777777777777778,
              "#fb9f3a"
             ],
             [
              0.8888888888888888,
              "#fdca26"
             ],
             [
              1,
              "#f0f921"
             ]
            ],
            "type": "contour"
           }
          ],
          "contourcarpet": [
           {
            "colorbar": {
             "outlinewidth": 0,
             "ticks": ""
            },
            "type": "contourcarpet"
           }
          ],
          "heatmap": [
           {
            "colorbar": {
             "outlinewidth": 0,
             "ticks": ""
            },
            "colorscale": [
             [
              0,
              "#0d0887"
             ],
             [
              0.1111111111111111,
              "#46039f"
             ],
             [
              0.2222222222222222,
              "#7201a8"
             ],
             [
              0.3333333333333333,
              "#9c179e"
             ],
             [
              0.4444444444444444,
              "#bd3786"
             ],
             [
              0.5555555555555556,
              "#d8576b"
             ],
             [
              0.6666666666666666,
              "#ed7953"
             ],
             [
              0.7777777777777778,
              "#fb9f3a"
             ],
             [
              0.8888888888888888,
              "#fdca26"
             ],
             [
              1,
              "#f0f921"
             ]
            ],
            "type": "heatmap"
           }
          ],
          "heatmapgl": [
           {
            "colorbar": {
             "outlinewidth": 0,
             "ticks": ""
            },
            "colorscale": [
             [
              0,
              "#0d0887"
             ],
             [
              0.1111111111111111,
              "#46039f"
             ],
             [
              0.2222222222222222,
              "#7201a8"
             ],
             [
              0.3333333333333333,
              "#9c179e"
             ],
             [
              0.4444444444444444,
              "#bd3786"
             ],
             [
              0.5555555555555556,
              "#d8576b"
             ],
             [
              0.6666666666666666,
              "#ed7953"
             ],
             [
              0.7777777777777778,
              "#fb9f3a"
             ],
             [
              0.8888888888888888,
              "#fdca26"
             ],
             [
              1,
              "#f0f921"
             ]
            ],
            "type": "heatmapgl"
           }
          ],
          "histogram": [
           {
            "marker": {
             "pattern": {
              "fillmode": "overlay",
              "size": 10,
              "solidity": 0.2
             }
            },
            "type": "histogram"
           }
          ],
          "histogram2d": [
           {
            "colorbar": {
             "outlinewidth": 0,
             "ticks": ""
            },
            "colorscale": [
             [
              0,
              "#0d0887"
             ],
             [
              0.1111111111111111,
              "#46039f"
             ],
             [
              0.2222222222222222,
              "#7201a8"
             ],
             [
              0.3333333333333333,
              "#9c179e"
             ],
             [
              0.4444444444444444,
              "#bd3786"
             ],
             [
              0.5555555555555556,
              "#d8576b"
             ],
             [
              0.6666666666666666,
              "#ed7953"
             ],
             [
              0.7777777777777778,
              "#fb9f3a"
             ],
             [
              0.8888888888888888,
              "#fdca26"
             ],
             [
              1,
              "#f0f921"
             ]
            ],
            "type": "histogram2d"
           }
          ],
          "histogram2dcontour": [
           {
            "colorbar": {
             "outlinewidth": 0,
             "ticks": ""
            },
            "colorscale": [
             [
              0,
              "#0d0887"
             ],
             [
              0.1111111111111111,
              "#46039f"
             ],
             [
              0.2222222222222222,
              "#7201a8"
             ],
             [
              0.3333333333333333,
              "#9c179e"
             ],
             [
              0.4444444444444444,
              "#bd3786"
             ],
             [
              0.5555555555555556,
              "#d8576b"
             ],
             [
              0.6666666666666666,
              "#ed7953"
             ],
             [
              0.7777777777777778,
              "#fb9f3a"
             ],
             [
              0.8888888888888888,
              "#fdca26"
             ],
             [
              1,
              "#f0f921"
             ]
            ],
            "type": "histogram2dcontour"
           }
          ],
          "mesh3d": [
           {
            "colorbar": {
             "outlinewidth": 0,
             "ticks": ""
            },
            "type": "mesh3d"
           }
          ],
          "parcoords": [
           {
            "line": {
             "colorbar": {
              "outlinewidth": 0,
              "ticks": ""
             }
            },
            "type": "parcoords"
           }
          ],
          "pie": [
           {
            "automargin": true,
            "type": "pie"
           }
          ],
          "scatter": [
           {
            "fillpattern": {
             "fillmode": "overlay",
             "size": 10,
             "solidity": 0.2
            },
            "type": "scatter"
           }
          ],
          "scatter3d": [
           {
            "line": {
             "colorbar": {
              "outlinewidth": 0,
              "ticks": ""
             }
            },
            "marker": {
             "colorbar": {
              "outlinewidth": 0,
              "ticks": ""
             }
            },
            "type": "scatter3d"
           }
          ],
          "scattercarpet": [
           {
            "marker": {
             "colorbar": {
              "outlinewidth": 0,
              "ticks": ""
             }
            },
            "type": "scattercarpet"
           }
          ],
          "scattergeo": [
           {
            "marker": {
             "colorbar": {
              "outlinewidth": 0,
              "ticks": ""
             }
            },
            "type": "scattergeo"
           }
          ],
          "scattergl": [
           {
            "marker": {
             "colorbar": {
              "outlinewidth": 0,
              "ticks": ""
             }
            },
            "type": "scattergl"
           }
          ],
          "scattermapbox": [
           {
            "marker": {
             "colorbar": {
              "outlinewidth": 0,
              "ticks": ""
             }
            },
            "type": "scattermapbox"
           }
          ],
          "scatterpolar": [
           {
            "marker": {
             "colorbar": {
              "outlinewidth": 0,
              "ticks": ""
             }
            },
            "type": "scatterpolar"
           }
          ],
          "scatterpolargl": [
           {
            "marker": {
             "colorbar": {
              "outlinewidth": 0,
              "ticks": ""
             }
            },
            "type": "scatterpolargl"
           }
          ],
          "scatterternary": [
           {
            "marker": {
             "colorbar": {
              "outlinewidth": 0,
              "ticks": ""
             }
            },
            "type": "scatterternary"
           }
          ],
          "surface": [
           {
            "colorbar": {
             "outlinewidth": 0,
             "ticks": ""
            },
            "colorscale": [
             [
              0,
              "#0d0887"
             ],
             [
              0.1111111111111111,
              "#46039f"
             ],
             [
              0.2222222222222222,
              "#7201a8"
             ],
             [
              0.3333333333333333,
              "#9c179e"
             ],
             [
              0.4444444444444444,
              "#bd3786"
             ],
             [
              0.5555555555555556,
              "#d8576b"
             ],
             [
              0.6666666666666666,
              "#ed7953"
             ],
             [
              0.7777777777777778,
              "#fb9f3a"
             ],
             [
              0.8888888888888888,
              "#fdca26"
             ],
             [
              1,
              "#f0f921"
             ]
            ],
            "type": "surface"
           }
          ],
          "table": [
           {
            "cells": {
             "fill": {
              "color": "#EBF0F8"
             },
             "line": {
              "color": "white"
             }
            },
            "header": {
             "fill": {
              "color": "#C8D4E3"
             },
             "line": {
              "color": "white"
             }
            },
            "type": "table"
           }
          ]
         },
         "layout": {
          "annotationdefaults": {
           "arrowcolor": "#2a3f5f",
           "arrowhead": 0,
           "arrowwidth": 1
          },
          "autotypenumbers": "strict",
          "coloraxis": {
           "colorbar": {
            "outlinewidth": 0,
            "ticks": ""
           }
          },
          "colorscale": {
           "diverging": [
            [
             0,
             "#8e0152"
            ],
            [
             0.1,
             "#c51b7d"
            ],
            [
             0.2,
             "#de77ae"
            ],
            [
             0.3,
             "#f1b6da"
            ],
            [
             0.4,
             "#fde0ef"
            ],
            [
             0.5,
             "#f7f7f7"
            ],
            [
             0.6,
             "#e6f5d0"
            ],
            [
             0.7,
             "#b8e186"
            ],
            [
             0.8,
             "#7fbc41"
            ],
            [
             0.9,
             "#4d9221"
            ],
            [
             1,
             "#276419"
            ]
           ],
           "sequential": [
            [
             0,
             "#0d0887"
            ],
            [
             0.1111111111111111,
             "#46039f"
            ],
            [
             0.2222222222222222,
             "#7201a8"
            ],
            [
             0.3333333333333333,
             "#9c179e"
            ],
            [
             0.4444444444444444,
             "#bd3786"
            ],
            [
             0.5555555555555556,
             "#d8576b"
            ],
            [
             0.6666666666666666,
             "#ed7953"
            ],
            [
             0.7777777777777778,
             "#fb9f3a"
            ],
            [
             0.8888888888888888,
             "#fdca26"
            ],
            [
             1,
             "#f0f921"
            ]
           ],
           "sequentialminus": [
            [
             0,
             "#0d0887"
            ],
            [
             0.1111111111111111,
             "#46039f"
            ],
            [
             0.2222222222222222,
             "#7201a8"
            ],
            [
             0.3333333333333333,
             "#9c179e"
            ],
            [
             0.4444444444444444,
             "#bd3786"
            ],
            [
             0.5555555555555556,
             "#d8576b"
            ],
            [
             0.6666666666666666,
             "#ed7953"
            ],
            [
             0.7777777777777778,
             "#fb9f3a"
            ],
            [
             0.8888888888888888,
             "#fdca26"
            ],
            [
             1,
             "#f0f921"
            ]
           ]
          },
          "colorway": [
           "#636efa",
           "#EF553B",
           "#00cc96",
           "#ab63fa",
           "#FFA15A",
           "#19d3f3",
           "#FF6692",
           "#B6E880",
           "#FF97FF",
           "#FECB52"
          ],
          "font": {
           "color": "#2a3f5f"
          },
          "geo": {
           "bgcolor": "white",
           "lakecolor": "white",
           "landcolor": "#E5ECF6",
           "showlakes": true,
           "showland": true,
           "subunitcolor": "white"
          },
          "hoverlabel": {
           "align": "left"
          },
          "hovermode": "closest",
          "mapbox": {
           "style": "light"
          },
          "paper_bgcolor": "white",
          "plot_bgcolor": "#E5ECF6",
          "polar": {
           "angularaxis": {
            "gridcolor": "white",
            "linecolor": "white",
            "ticks": ""
           },
           "bgcolor": "#E5ECF6",
           "radialaxis": {
            "gridcolor": "white",
            "linecolor": "white",
            "ticks": ""
           }
          },
          "scene": {
           "xaxis": {
            "backgroundcolor": "#E5ECF6",
            "gridcolor": "white",
            "gridwidth": 2,
            "linecolor": "white",
            "showbackground": true,
            "ticks": "",
            "zerolinecolor": "white"
           },
           "yaxis": {
            "backgroundcolor": "#E5ECF6",
            "gridcolor": "white",
            "gridwidth": 2,
            "linecolor": "white",
            "showbackground": true,
            "ticks": "",
            "zerolinecolor": "white"
           },
           "zaxis": {
            "backgroundcolor": "#E5ECF6",
            "gridcolor": "white",
            "gridwidth": 2,
            "linecolor": "white",
            "showbackground": true,
            "ticks": "",
            "zerolinecolor": "white"
           }
          },
          "shapedefaults": {
           "line": {
            "color": "#2a3f5f"
           }
          },
          "ternary": {
           "aaxis": {
            "gridcolor": "white",
            "linecolor": "white",
            "ticks": ""
           },
           "baxis": {
            "gridcolor": "white",
            "linecolor": "white",
            "ticks": ""
           },
           "bgcolor": "#E5ECF6",
           "caxis": {
            "gridcolor": "white",
            "linecolor": "white",
            "ticks": ""
           }
          },
          "title": {
           "x": 0.05
          },
          "xaxis": {
           "automargin": true,
           "gridcolor": "white",
           "linecolor": "white",
           "ticks": "",
           "title": {
            "standoff": 15
           },
           "zerolinecolor": "white",
           "zerolinewidth": 2
          },
          "yaxis": {
           "automargin": true,
           "gridcolor": "white",
           "linecolor": "white",
           "ticks": "",
           "title": {
            "standoff": 15
           },
           "zerolinecolor": "white",
           "zerolinewidth": 2
          }
         }
        },
        "title": {
         "text": "Optimization History Plot"
        },
        "xaxis": {
         "title": {
          "text": "Trial"
         }
        },
        "yaxis": {
         "title": {
          "text": "Objective Value"
         }
        }
       }
      }
     },
     "metadata": {},
     "output_type": "display_data"
    },
    {
     "data": {
      "application/vnd.plotly.v1+json": {
       "config": {
        "plotlyServerURL": "https://plot.ly"
       },
       "data": [
        {
         "marker": {
          "color": [
           0,
           1,
           2,
           3,
           4,
           5,
           6,
           7,
           8,
           9,
           10,
           11,
           12,
           13,
           14,
           15,
           16,
           17,
           18,
           19
          ],
          "colorbar": {
           "title": {
            "text": "Trial"
           },
           "x": 1,
           "xpad": 40
          },
          "colorscale": [
           [
            0,
            "rgb(247,251,255)"
           ],
           [
            0.125,
            "rgb(222,235,247)"
           ],
           [
            0.25,
            "rgb(198,219,239)"
           ],
           [
            0.375,
            "rgb(158,202,225)"
           ],
           [
            0.5,
            "rgb(107,174,214)"
           ],
           [
            0.625,
            "rgb(66,146,198)"
           ],
           [
            0.75,
            "rgb(33,113,181)"
           ],
           [
            0.875,
            "rgb(8,81,156)"
           ],
           [
            1,
            "rgb(8,48,107)"
           ]
          ],
          "line": {
           "color": "Grey",
           "width": 0.5
          },
          "showscale": true
         },
         "mode": "markers",
         "name": "Feasible Trial",
         "showlegend": false,
         "type": "scatter",
         "x": [
          0.013606856647824824,
          1.5644510421105247,
          0.32402416779674725,
          1.6344859835212426,
          22.31688477346712,
          1.1930356624781124,
          0.09724130387164921,
          0.005596798940257619,
          72.81552943720159,
          81.85114643288357,
          0.00012123764262706965,
          0.004202343265336076,
          0.024808874951192852,
          0.0007615299931896444,
          0.0001906152465472703,
          0.0006512706850115487,
          4.970566854587303,
          7.0628504708794635,
          4.042095923137046,
          6.0310872594425815
         ],
         "xaxis": "x",
         "y": [
          0.7279253512926774,
          0.621347000756924,
          0.6425521718016315,
          0.7325402867057779,
          0.619442818349853,
          0.7279253512926774,
          0.7279253512926774,
          0.6909968972159298,
          0.7279253512926774,
          0.7276044403195925,
          0.6848591474177752,
          0.6850422474278726,
          0.7217277341652133,
          0.7288657976143701,
          0.6808082416666078,
          0.7304546127288444,
          0.7406109278636971,
          0.7320615576483223,
          0.7354126462931819,
          0.7343628132844736
         ],
         "yaxis": "y"
        },
        {
         "marker": {
          "color": [
           0,
           1,
           2,
           3,
           4,
           5,
           6,
           7,
           8,
           9,
           10,
           11,
           12,
           13,
           14,
           15,
           16,
           17,
           18,
           19
          ],
          "colorbar": {
           "title": {
            "text": "Trial"
           },
           "x": 1,
           "xpad": 40
          },
          "colorscale": [
           [
            0,
            "rgb(247,251,255)"
           ],
           [
            0.125,
            "rgb(222,235,247)"
           ],
           [
            0.25,
            "rgb(198,219,239)"
           ],
           [
            0.375,
            "rgb(158,202,225)"
           ],
           [
            0.5,
            "rgb(107,174,214)"
           ],
           [
            0.625,
            "rgb(66,146,198)"
           ],
           [
            0.75,
            "rgb(33,113,181)"
           ],
           [
            0.875,
            "rgb(8,81,156)"
           ],
           [
            1,
            "rgb(8,48,107)"
           ]
          ],
          "line": {
           "color": "Grey",
           "width": 0.5
          },
          "showscale": false
         },
         "mode": "markers",
         "name": "Feasible Trial",
         "showlegend": false,
         "type": "scatter",
         "x": [
          "linear",
          "sigmoid",
          "sigmoid",
          "rbf",
          "sigmoid",
          "linear",
          "linear",
          "rbf",
          "linear",
          "linear",
          "rbf",
          "rbf",
          "rbf",
          "linear",
          "rbf",
          "linear",
          "rbf",
          "rbf",
          "rbf",
          "rbf"
         ],
         "xaxis": "x2",
         "y": [
          0.7279253512926774,
          0.621347000756924,
          0.6425521718016315,
          0.7325402867057779,
          0.619442818349853,
          0.7279253512926774,
          0.7279253512926774,
          0.6909968972159298,
          0.7279253512926774,
          0.7276044403195925,
          0.6848591474177752,
          0.6850422474278726,
          0.7217277341652133,
          0.7288657976143701,
          0.6808082416666078,
          0.7304546127288444,
          0.7406109278636971,
          0.7320615576483223,
          0.7354126462931819,
          0.7343628132844736
         ],
         "yaxis": "y2"
        }
       ],
       "layout": {
        "template": {
         "data": {
          "bar": [
           {
            "error_x": {
             "color": "#2a3f5f"
            },
            "error_y": {
             "color": "#2a3f5f"
            },
            "marker": {
             "line": {
              "color": "#E5ECF6",
              "width": 0.5
             },
             "pattern": {
              "fillmode": "overlay",
              "size": 10,
              "solidity": 0.2
             }
            },
            "type": "bar"
           }
          ],
          "barpolar": [
           {
            "marker": {
             "line": {
              "color": "#E5ECF6",
              "width": 0.5
             },
             "pattern": {
              "fillmode": "overlay",
              "size": 10,
              "solidity": 0.2
             }
            },
            "type": "barpolar"
           }
          ],
          "carpet": [
           {
            "aaxis": {
             "endlinecolor": "#2a3f5f",
             "gridcolor": "white",
             "linecolor": "white",
             "minorgridcolor": "white",
             "startlinecolor": "#2a3f5f"
            },
            "baxis": {
             "endlinecolor": "#2a3f5f",
             "gridcolor": "white",
             "linecolor": "white",
             "minorgridcolor": "white",
             "startlinecolor": "#2a3f5f"
            },
            "type": "carpet"
           }
          ],
          "choropleth": [
           {
            "colorbar": {
             "outlinewidth": 0,
             "ticks": ""
            },
            "type": "choropleth"
           }
          ],
          "contour": [
           {
            "colorbar": {
             "outlinewidth": 0,
             "ticks": ""
            },
            "colorscale": [
             [
              0,
              "#0d0887"
             ],
             [
              0.1111111111111111,
              "#46039f"
             ],
             [
              0.2222222222222222,
              "#7201a8"
             ],
             [
              0.3333333333333333,
              "#9c179e"
             ],
             [
              0.4444444444444444,
              "#bd3786"
             ],
             [
              0.5555555555555556,
              "#d8576b"
             ],
             [
              0.6666666666666666,
              "#ed7953"
             ],
             [
              0.7777777777777778,
              "#fb9f3a"
             ],
             [
              0.8888888888888888,
              "#fdca26"
             ],
             [
              1,
              "#f0f921"
             ]
            ],
            "type": "contour"
           }
          ],
          "contourcarpet": [
           {
            "colorbar": {
             "outlinewidth": 0,
             "ticks": ""
            },
            "type": "contourcarpet"
           }
          ],
          "heatmap": [
           {
            "colorbar": {
             "outlinewidth": 0,
             "ticks": ""
            },
            "colorscale": [
             [
              0,
              "#0d0887"
             ],
             [
              0.1111111111111111,
              "#46039f"
             ],
             [
              0.2222222222222222,
              "#7201a8"
             ],
             [
              0.3333333333333333,
              "#9c179e"
             ],
             [
              0.4444444444444444,
              "#bd3786"
             ],
             [
              0.5555555555555556,
              "#d8576b"
             ],
             [
              0.6666666666666666,
              "#ed7953"
             ],
             [
              0.7777777777777778,
              "#fb9f3a"
             ],
             [
              0.8888888888888888,
              "#fdca26"
             ],
             [
              1,
              "#f0f921"
             ]
            ],
            "type": "heatmap"
           }
          ],
          "heatmapgl": [
           {
            "colorbar": {
             "outlinewidth": 0,
             "ticks": ""
            },
            "colorscale": [
             [
              0,
              "#0d0887"
             ],
             [
              0.1111111111111111,
              "#46039f"
             ],
             [
              0.2222222222222222,
              "#7201a8"
             ],
             [
              0.3333333333333333,
              "#9c179e"
             ],
             [
              0.4444444444444444,
              "#bd3786"
             ],
             [
              0.5555555555555556,
              "#d8576b"
             ],
             [
              0.6666666666666666,
              "#ed7953"
             ],
             [
              0.7777777777777778,
              "#fb9f3a"
             ],
             [
              0.8888888888888888,
              "#fdca26"
             ],
             [
              1,
              "#f0f921"
             ]
            ],
            "type": "heatmapgl"
           }
          ],
          "histogram": [
           {
            "marker": {
             "pattern": {
              "fillmode": "overlay",
              "size": 10,
              "solidity": 0.2
             }
            },
            "type": "histogram"
           }
          ],
          "histogram2d": [
           {
            "colorbar": {
             "outlinewidth": 0,
             "ticks": ""
            },
            "colorscale": [
             [
              0,
              "#0d0887"
             ],
             [
              0.1111111111111111,
              "#46039f"
             ],
             [
              0.2222222222222222,
              "#7201a8"
             ],
             [
              0.3333333333333333,
              "#9c179e"
             ],
             [
              0.4444444444444444,
              "#bd3786"
             ],
             [
              0.5555555555555556,
              "#d8576b"
             ],
             [
              0.6666666666666666,
              "#ed7953"
             ],
             [
              0.7777777777777778,
              "#fb9f3a"
             ],
             [
              0.8888888888888888,
              "#fdca26"
             ],
             [
              1,
              "#f0f921"
             ]
            ],
            "type": "histogram2d"
           }
          ],
          "histogram2dcontour": [
           {
            "colorbar": {
             "outlinewidth": 0,
             "ticks": ""
            },
            "colorscale": [
             [
              0,
              "#0d0887"
             ],
             [
              0.1111111111111111,
              "#46039f"
             ],
             [
              0.2222222222222222,
              "#7201a8"
             ],
             [
              0.3333333333333333,
              "#9c179e"
             ],
             [
              0.4444444444444444,
              "#bd3786"
             ],
             [
              0.5555555555555556,
              "#d8576b"
             ],
             [
              0.6666666666666666,
              "#ed7953"
             ],
             [
              0.7777777777777778,
              "#fb9f3a"
             ],
             [
              0.8888888888888888,
              "#fdca26"
             ],
             [
              1,
              "#f0f921"
             ]
            ],
            "type": "histogram2dcontour"
           }
          ],
          "mesh3d": [
           {
            "colorbar": {
             "outlinewidth": 0,
             "ticks": ""
            },
            "type": "mesh3d"
           }
          ],
          "parcoords": [
           {
            "line": {
             "colorbar": {
              "outlinewidth": 0,
              "ticks": ""
             }
            },
            "type": "parcoords"
           }
          ],
          "pie": [
           {
            "automargin": true,
            "type": "pie"
           }
          ],
          "scatter": [
           {
            "fillpattern": {
             "fillmode": "overlay",
             "size": 10,
             "solidity": 0.2
            },
            "type": "scatter"
           }
          ],
          "scatter3d": [
           {
            "line": {
             "colorbar": {
              "outlinewidth": 0,
              "ticks": ""
             }
            },
            "marker": {
             "colorbar": {
              "outlinewidth": 0,
              "ticks": ""
             }
            },
            "type": "scatter3d"
           }
          ],
          "scattercarpet": [
           {
            "marker": {
             "colorbar": {
              "outlinewidth": 0,
              "ticks": ""
             }
            },
            "type": "scattercarpet"
           }
          ],
          "scattergeo": [
           {
            "marker": {
             "colorbar": {
              "outlinewidth": 0,
              "ticks": ""
             }
            },
            "type": "scattergeo"
           }
          ],
          "scattergl": [
           {
            "marker": {
             "colorbar": {
              "outlinewidth": 0,
              "ticks": ""
             }
            },
            "type": "scattergl"
           }
          ],
          "scattermapbox": [
           {
            "marker": {
             "colorbar": {
              "outlinewidth": 0,
              "ticks": ""
             }
            },
            "type": "scattermapbox"
           }
          ],
          "scatterpolar": [
           {
            "marker": {
             "colorbar": {
              "outlinewidth": 0,
              "ticks": ""
             }
            },
            "type": "scatterpolar"
           }
          ],
          "scatterpolargl": [
           {
            "marker": {
             "colorbar": {
              "outlinewidth": 0,
              "ticks": ""
             }
            },
            "type": "scatterpolargl"
           }
          ],
          "scatterternary": [
           {
            "marker": {
             "colorbar": {
              "outlinewidth": 0,
              "ticks": ""
             }
            },
            "type": "scatterternary"
           }
          ],
          "surface": [
           {
            "colorbar": {
             "outlinewidth": 0,
             "ticks": ""
            },
            "colorscale": [
             [
              0,
              "#0d0887"
             ],
             [
              0.1111111111111111,
              "#46039f"
             ],
             [
              0.2222222222222222,
              "#7201a8"
             ],
             [
              0.3333333333333333,
              "#9c179e"
             ],
             [
              0.4444444444444444,
              "#bd3786"
             ],
             [
              0.5555555555555556,
              "#d8576b"
             ],
             [
              0.6666666666666666,
              "#ed7953"
             ],
             [
              0.7777777777777778,
              "#fb9f3a"
             ],
             [
              0.8888888888888888,
              "#fdca26"
             ],
             [
              1,
              "#f0f921"
             ]
            ],
            "type": "surface"
           }
          ],
          "table": [
           {
            "cells": {
             "fill": {
              "color": "#EBF0F8"
             },
             "line": {
              "color": "white"
             }
            },
            "header": {
             "fill": {
              "color": "#C8D4E3"
             },
             "line": {
              "color": "white"
             }
            },
            "type": "table"
           }
          ]
         },
         "layout": {
          "annotationdefaults": {
           "arrowcolor": "#2a3f5f",
           "arrowhead": 0,
           "arrowwidth": 1
          },
          "autotypenumbers": "strict",
          "coloraxis": {
           "colorbar": {
            "outlinewidth": 0,
            "ticks": ""
           }
          },
          "colorscale": {
           "diverging": [
            [
             0,
             "#8e0152"
            ],
            [
             0.1,
             "#c51b7d"
            ],
            [
             0.2,
             "#de77ae"
            ],
            [
             0.3,
             "#f1b6da"
            ],
            [
             0.4,
             "#fde0ef"
            ],
            [
             0.5,
             "#f7f7f7"
            ],
            [
             0.6,
             "#e6f5d0"
            ],
            [
             0.7,
             "#b8e186"
            ],
            [
             0.8,
             "#7fbc41"
            ],
            [
             0.9,
             "#4d9221"
            ],
            [
             1,
             "#276419"
            ]
           ],
           "sequential": [
            [
             0,
             "#0d0887"
            ],
            [
             0.1111111111111111,
             "#46039f"
            ],
            [
             0.2222222222222222,
             "#7201a8"
            ],
            [
             0.3333333333333333,
             "#9c179e"
            ],
            [
             0.4444444444444444,
             "#bd3786"
            ],
            [
             0.5555555555555556,
             "#d8576b"
            ],
            [
             0.6666666666666666,
             "#ed7953"
            ],
            [
             0.7777777777777778,
             "#fb9f3a"
            ],
            [
             0.8888888888888888,
             "#fdca26"
            ],
            [
             1,
             "#f0f921"
            ]
           ],
           "sequentialminus": [
            [
             0,
             "#0d0887"
            ],
            [
             0.1111111111111111,
             "#46039f"
            ],
            [
             0.2222222222222222,
             "#7201a8"
            ],
            [
             0.3333333333333333,
             "#9c179e"
            ],
            [
             0.4444444444444444,
             "#bd3786"
            ],
            [
             0.5555555555555556,
             "#d8576b"
            ],
            [
             0.6666666666666666,
             "#ed7953"
            ],
            [
             0.7777777777777778,
             "#fb9f3a"
            ],
            [
             0.8888888888888888,
             "#fdca26"
            ],
            [
             1,
             "#f0f921"
            ]
           ]
          },
          "colorway": [
           "#636efa",
           "#EF553B",
           "#00cc96",
           "#ab63fa",
           "#FFA15A",
           "#19d3f3",
           "#FF6692",
           "#B6E880",
           "#FF97FF",
           "#FECB52"
          ],
          "font": {
           "color": "#2a3f5f"
          },
          "geo": {
           "bgcolor": "white",
           "lakecolor": "white",
           "landcolor": "#E5ECF6",
           "showlakes": true,
           "showland": true,
           "subunitcolor": "white"
          },
          "hoverlabel": {
           "align": "left"
          },
          "hovermode": "closest",
          "mapbox": {
           "style": "light"
          },
          "paper_bgcolor": "white",
          "plot_bgcolor": "#E5ECF6",
          "polar": {
           "angularaxis": {
            "gridcolor": "white",
            "linecolor": "white",
            "ticks": ""
           },
           "bgcolor": "#E5ECF6",
           "radialaxis": {
            "gridcolor": "white",
            "linecolor": "white",
            "ticks": ""
           }
          },
          "scene": {
           "xaxis": {
            "backgroundcolor": "#E5ECF6",
            "gridcolor": "white",
            "gridwidth": 2,
            "linecolor": "white",
            "showbackground": true,
            "ticks": "",
            "zerolinecolor": "white"
           },
           "yaxis": {
            "backgroundcolor": "#E5ECF6",
            "gridcolor": "white",
            "gridwidth": 2,
            "linecolor": "white",
            "showbackground": true,
            "ticks": "",
            "zerolinecolor": "white"
           },
           "zaxis": {
            "backgroundcolor": "#E5ECF6",
            "gridcolor": "white",
            "gridwidth": 2,
            "linecolor": "white",
            "showbackground": true,
            "ticks": "",
            "zerolinecolor": "white"
           }
          },
          "shapedefaults": {
           "line": {
            "color": "#2a3f5f"
           }
          },
          "ternary": {
           "aaxis": {
            "gridcolor": "white",
            "linecolor": "white",
            "ticks": ""
           },
           "baxis": {
            "gridcolor": "white",
            "linecolor": "white",
            "ticks": ""
           },
           "bgcolor": "#E5ECF6",
           "caxis": {
            "gridcolor": "white",
            "linecolor": "white",
            "ticks": ""
           }
          },
          "title": {
           "x": 0.05
          },
          "xaxis": {
           "automargin": true,
           "gridcolor": "white",
           "linecolor": "white",
           "ticks": "",
           "title": {
            "standoff": 15
           },
           "zerolinecolor": "white",
           "zerolinewidth": 2
          },
          "yaxis": {
           "automargin": true,
           "gridcolor": "white",
           "linecolor": "white",
           "ticks": "",
           "title": {
            "standoff": 15
           },
           "zerolinecolor": "white",
           "zerolinewidth": 2
          }
         }
        },
        "title": {
         "text": "Slice Plot"
        },
        "xaxis": {
         "anchor": "y",
         "domain": [
          0,
          0.45
         ],
         "title": {
          "text": "C"
         },
         "type": "log"
        },
        "xaxis2": {
         "anchor": "y2",
         "categoryarray": [
          "linear",
          "rbf",
          "sigmoid"
         ],
         "categoryorder": "array",
         "domain": [
          0.55,
          1
         ],
         "title": {
          "text": "kernel"
         },
         "type": "category"
        },
        "yaxis": {
         "anchor": "x",
         "domain": [
          0,
          1
         ],
         "title": {
          "text": "Objective Value"
         }
        },
        "yaxis2": {
         "anchor": "x2",
         "domain": [
          0,
          1
         ],
         "matches": "y",
         "showticklabels": false
        }
       }
      }
     },
     "metadata": {},
     "output_type": "display_data"
    },
    {
     "data": {
      "application/vnd.plotly.v1+json": {
       "config": {
        "plotlyServerURL": "https://plot.ly"
       },
       "data": [
        {
         "dimensions": [
          {
           "label": "Objective Value",
           "range": [
            0.619442818349853,
            0.7406109278636971
           ],
           "values": [
            0.7279253512926774,
            0.621347000756924,
            0.6425521718016315,
            0.7325402867057779,
            0.619442818349853,
            0.7279253512926774,
            0.7279253512926774,
            0.6909968972159298,
            0.7279253512926774,
            0.7276044403195925,
            0.6848591474177752,
            0.6850422474278726,
            0.7217277341652133,
            0.7288657976143701,
            0.6808082416666078,
            0.7304546127288444,
            0.7406109278636971,
            0.7320615576483223,
            0.7354126462931819,
            0.7343628132844736
           ]
          },
          {
           "label": "C",
           "range": [
            -3.916362516745267,
            1.9130247666555764
           ],
           "ticktext": [
            "0.000121",
            "0.001",
            "0.01",
            "0.1",
            "1",
            "10",
            "81.9"
           ],
           "tickvals": [
            -3.916362516745267,
            -3,
            -2,
            -1,
            0,
            1,
            1.9130247666555764
           ],
           "values": [
            -1.8662421906066864,
            0.1943619768948489,
            -0.48942259612261585,
            0.2133812006548518,
            1.3486335710846924,
            0.07665342588825247,
            -1.0121492265001752,
            -2.2520602944341777,
            1.8622240115883906,
            1.9130247666555764,
            -3.916362516745267,
            -2.376508475453996,
            -1.6053929299465486,
            -3.1183129871142303,
            -3.7198423648386827,
            -3.1862384698441097,
            0.6964059194740183,
            0.8489800118069717,
            0.6066066155609768,
            0.7803956120093807
           ]
          },
          {
           "label": "kernel",
           "range": [
            0,
            2
           ],
           "ticktext": [
            "linear",
            "sigmoid",
            "rbf"
           ],
           "tickvals": [
            0,
            1,
            2
           ],
           "values": [
            0,
            1,
            1,
            2,
            1,
            0,
            0,
            2,
            0,
            0,
            2,
            2,
            2,
            0,
            2,
            0,
            2,
            2,
            2,
            2
           ]
          }
         ],
         "labelangle": 30,
         "labelside": "bottom",
         "line": {
          "color": [
           0.7279253512926774,
           0.621347000756924,
           0.6425521718016315,
           0.7325402867057779,
           0.619442818349853,
           0.7279253512926774,
           0.7279253512926774,
           0.6909968972159298,
           0.7279253512926774,
           0.7276044403195925,
           0.6848591474177752,
           0.6850422474278726,
           0.7217277341652133,
           0.7288657976143701,
           0.6808082416666078,
           0.7304546127288444,
           0.7406109278636971,
           0.7320615576483223,
           0.7354126462931819,
           0.7343628132844736
          ],
          "colorbar": {
           "title": {
            "text": "Objective Value"
           }
          },
          "colorscale": [
           [
            0,
            "rgb(247,251,255)"
           ],
           [
            0.125,
            "rgb(222,235,247)"
           ],
           [
            0.25,
            "rgb(198,219,239)"
           ],
           [
            0.375,
            "rgb(158,202,225)"
           ],
           [
            0.5,
            "rgb(107,174,214)"
           ],
           [
            0.625,
            "rgb(66,146,198)"
           ],
           [
            0.75,
            "rgb(33,113,181)"
           ],
           [
            0.875,
            "rgb(8,81,156)"
           ],
           [
            1,
            "rgb(8,48,107)"
           ]
          ],
          "reversescale": false,
          "showscale": true
         },
         "type": "parcoords"
        }
       ],
       "layout": {
        "template": {
         "data": {
          "bar": [
           {
            "error_x": {
             "color": "#2a3f5f"
            },
            "error_y": {
             "color": "#2a3f5f"
            },
            "marker": {
             "line": {
              "color": "#E5ECF6",
              "width": 0.5
             },
             "pattern": {
              "fillmode": "overlay",
              "size": 10,
              "solidity": 0.2
             }
            },
            "type": "bar"
           }
          ],
          "barpolar": [
           {
            "marker": {
             "line": {
              "color": "#E5ECF6",
              "width": 0.5
             },
             "pattern": {
              "fillmode": "overlay",
              "size": 10,
              "solidity": 0.2
             }
            },
            "type": "barpolar"
           }
          ],
          "carpet": [
           {
            "aaxis": {
             "endlinecolor": "#2a3f5f",
             "gridcolor": "white",
             "linecolor": "white",
             "minorgridcolor": "white",
             "startlinecolor": "#2a3f5f"
            },
            "baxis": {
             "endlinecolor": "#2a3f5f",
             "gridcolor": "white",
             "linecolor": "white",
             "minorgridcolor": "white",
             "startlinecolor": "#2a3f5f"
            },
            "type": "carpet"
           }
          ],
          "choropleth": [
           {
            "colorbar": {
             "outlinewidth": 0,
             "ticks": ""
            },
            "type": "choropleth"
           }
          ],
          "contour": [
           {
            "colorbar": {
             "outlinewidth": 0,
             "ticks": ""
            },
            "colorscale": [
             [
              0,
              "#0d0887"
             ],
             [
              0.1111111111111111,
              "#46039f"
             ],
             [
              0.2222222222222222,
              "#7201a8"
             ],
             [
              0.3333333333333333,
              "#9c179e"
             ],
             [
              0.4444444444444444,
              "#bd3786"
             ],
             [
              0.5555555555555556,
              "#d8576b"
             ],
             [
              0.6666666666666666,
              "#ed7953"
             ],
             [
              0.7777777777777778,
              "#fb9f3a"
             ],
             [
              0.8888888888888888,
              "#fdca26"
             ],
             [
              1,
              "#f0f921"
             ]
            ],
            "type": "contour"
           }
          ],
          "contourcarpet": [
           {
            "colorbar": {
             "outlinewidth": 0,
             "ticks": ""
            },
            "type": "contourcarpet"
           }
          ],
          "heatmap": [
           {
            "colorbar": {
             "outlinewidth": 0,
             "ticks": ""
            },
            "colorscale": [
             [
              0,
              "#0d0887"
             ],
             [
              0.1111111111111111,
              "#46039f"
             ],
             [
              0.2222222222222222,
              "#7201a8"
             ],
             [
              0.3333333333333333,
              "#9c179e"
             ],
             [
              0.4444444444444444,
              "#bd3786"
             ],
             [
              0.5555555555555556,
              "#d8576b"
             ],
             [
              0.6666666666666666,
              "#ed7953"
             ],
             [
              0.7777777777777778,
              "#fb9f3a"
             ],
             [
              0.8888888888888888,
              "#fdca26"
             ],
             [
              1,
              "#f0f921"
             ]
            ],
            "type": "heatmap"
           }
          ],
          "heatmapgl": [
           {
            "colorbar": {
             "outlinewidth": 0,
             "ticks": ""
            },
            "colorscale": [
             [
              0,
              "#0d0887"
             ],
             [
              0.1111111111111111,
              "#46039f"
             ],
             [
              0.2222222222222222,
              "#7201a8"
             ],
             [
              0.3333333333333333,
              "#9c179e"
             ],
             [
              0.4444444444444444,
              "#bd3786"
             ],
             [
              0.5555555555555556,
              "#d8576b"
             ],
             [
              0.6666666666666666,
              "#ed7953"
             ],
             [
              0.7777777777777778,
              "#fb9f3a"
             ],
             [
              0.8888888888888888,
              "#fdca26"
             ],
             [
              1,
              "#f0f921"
             ]
            ],
            "type": "heatmapgl"
           }
          ],
          "histogram": [
           {
            "marker": {
             "pattern": {
              "fillmode": "overlay",
              "size": 10,
              "solidity": 0.2
             }
            },
            "type": "histogram"
           }
          ],
          "histogram2d": [
           {
            "colorbar": {
             "outlinewidth": 0,
             "ticks": ""
            },
            "colorscale": [
             [
              0,
              "#0d0887"
             ],
             [
              0.1111111111111111,
              "#46039f"
             ],
             [
              0.2222222222222222,
              "#7201a8"
             ],
             [
              0.3333333333333333,
              "#9c179e"
             ],
             [
              0.4444444444444444,
              "#bd3786"
             ],
             [
              0.5555555555555556,
              "#d8576b"
             ],
             [
              0.6666666666666666,
              "#ed7953"
             ],
             [
              0.7777777777777778,
              "#fb9f3a"
             ],
             [
              0.8888888888888888,
              "#fdca26"
             ],
             [
              1,
              "#f0f921"
             ]
            ],
            "type": "histogram2d"
           }
          ],
          "histogram2dcontour": [
           {
            "colorbar": {
             "outlinewidth": 0,
             "ticks": ""
            },
            "colorscale": [
             [
              0,
              "#0d0887"
             ],
             [
              0.1111111111111111,
              "#46039f"
             ],
             [
              0.2222222222222222,
              "#7201a8"
             ],
             [
              0.3333333333333333,
              "#9c179e"
             ],
             [
              0.4444444444444444,
              "#bd3786"
             ],
             [
              0.5555555555555556,
              "#d8576b"
             ],
             [
              0.6666666666666666,
              "#ed7953"
             ],
             [
              0.7777777777777778,
              "#fb9f3a"
             ],
             [
              0.8888888888888888,
              "#fdca26"
             ],
             [
              1,
              "#f0f921"
             ]
            ],
            "type": "histogram2dcontour"
           }
          ],
          "mesh3d": [
           {
            "colorbar": {
             "outlinewidth": 0,
             "ticks": ""
            },
            "type": "mesh3d"
           }
          ],
          "parcoords": [
           {
            "line": {
             "colorbar": {
              "outlinewidth": 0,
              "ticks": ""
             }
            },
            "type": "parcoords"
           }
          ],
          "pie": [
           {
            "automargin": true,
            "type": "pie"
           }
          ],
          "scatter": [
           {
            "fillpattern": {
             "fillmode": "overlay",
             "size": 10,
             "solidity": 0.2
            },
            "type": "scatter"
           }
          ],
          "scatter3d": [
           {
            "line": {
             "colorbar": {
              "outlinewidth": 0,
              "ticks": ""
             }
            },
            "marker": {
             "colorbar": {
              "outlinewidth": 0,
              "ticks": ""
             }
            },
            "type": "scatter3d"
           }
          ],
          "scattercarpet": [
           {
            "marker": {
             "colorbar": {
              "outlinewidth": 0,
              "ticks": ""
             }
            },
            "type": "scattercarpet"
           }
          ],
          "scattergeo": [
           {
            "marker": {
             "colorbar": {
              "outlinewidth": 0,
              "ticks": ""
             }
            },
            "type": "scattergeo"
           }
          ],
          "scattergl": [
           {
            "marker": {
             "colorbar": {
              "outlinewidth": 0,
              "ticks": ""
             }
            },
            "type": "scattergl"
           }
          ],
          "scattermapbox": [
           {
            "marker": {
             "colorbar": {
              "outlinewidth": 0,
              "ticks": ""
             }
            },
            "type": "scattermapbox"
           }
          ],
          "scatterpolar": [
           {
            "marker": {
             "colorbar": {
              "outlinewidth": 0,
              "ticks": ""
             }
            },
            "type": "scatterpolar"
           }
          ],
          "scatterpolargl": [
           {
            "marker": {
             "colorbar": {
              "outlinewidth": 0,
              "ticks": ""
             }
            },
            "type": "scatterpolargl"
           }
          ],
          "scatterternary": [
           {
            "marker": {
             "colorbar": {
              "outlinewidth": 0,
              "ticks": ""
             }
            },
            "type": "scatterternary"
           }
          ],
          "surface": [
           {
            "colorbar": {
             "outlinewidth": 0,
             "ticks": ""
            },
            "colorscale": [
             [
              0,
              "#0d0887"
             ],
             [
              0.1111111111111111,
              "#46039f"
             ],
             [
              0.2222222222222222,
              "#7201a8"
             ],
             [
              0.3333333333333333,
              "#9c179e"
             ],
             [
              0.4444444444444444,
              "#bd3786"
             ],
             [
              0.5555555555555556,
              "#d8576b"
             ],
             [
              0.6666666666666666,
              "#ed7953"
             ],
             [
              0.7777777777777778,
              "#fb9f3a"
             ],
             [
              0.8888888888888888,
              "#fdca26"
             ],
             [
              1,
              "#f0f921"
             ]
            ],
            "type": "surface"
           }
          ],
          "table": [
           {
            "cells": {
             "fill": {
              "color": "#EBF0F8"
             },
             "line": {
              "color": "white"
             }
            },
            "header": {
             "fill": {
              "color": "#C8D4E3"
             },
             "line": {
              "color": "white"
             }
            },
            "type": "table"
           }
          ]
         },
         "layout": {
          "annotationdefaults": {
           "arrowcolor": "#2a3f5f",
           "arrowhead": 0,
           "arrowwidth": 1
          },
          "autotypenumbers": "strict",
          "coloraxis": {
           "colorbar": {
            "outlinewidth": 0,
            "ticks": ""
           }
          },
          "colorscale": {
           "diverging": [
            [
             0,
             "#8e0152"
            ],
            [
             0.1,
             "#c51b7d"
            ],
            [
             0.2,
             "#de77ae"
            ],
            [
             0.3,
             "#f1b6da"
            ],
            [
             0.4,
             "#fde0ef"
            ],
            [
             0.5,
             "#f7f7f7"
            ],
            [
             0.6,
             "#e6f5d0"
            ],
            [
             0.7,
             "#b8e186"
            ],
            [
             0.8,
             "#7fbc41"
            ],
            [
             0.9,
             "#4d9221"
            ],
            [
             1,
             "#276419"
            ]
           ],
           "sequential": [
            [
             0,
             "#0d0887"
            ],
            [
             0.1111111111111111,
             "#46039f"
            ],
            [
             0.2222222222222222,
             "#7201a8"
            ],
            [
             0.3333333333333333,
             "#9c179e"
            ],
            [
             0.4444444444444444,
             "#bd3786"
            ],
            [
             0.5555555555555556,
             "#d8576b"
            ],
            [
             0.6666666666666666,
             "#ed7953"
            ],
            [
             0.7777777777777778,
             "#fb9f3a"
            ],
            [
             0.8888888888888888,
             "#fdca26"
            ],
            [
             1,
             "#f0f921"
            ]
           ],
           "sequentialminus": [
            [
             0,
             "#0d0887"
            ],
            [
             0.1111111111111111,
             "#46039f"
            ],
            [
             0.2222222222222222,
             "#7201a8"
            ],
            [
             0.3333333333333333,
             "#9c179e"
            ],
            [
             0.4444444444444444,
             "#bd3786"
            ],
            [
             0.5555555555555556,
             "#d8576b"
            ],
            [
             0.6666666666666666,
             "#ed7953"
            ],
            [
             0.7777777777777778,
             "#fb9f3a"
            ],
            [
             0.8888888888888888,
             "#fdca26"
            ],
            [
             1,
             "#f0f921"
            ]
           ]
          },
          "colorway": [
           "#636efa",
           "#EF553B",
           "#00cc96",
           "#ab63fa",
           "#FFA15A",
           "#19d3f3",
           "#FF6692",
           "#B6E880",
           "#FF97FF",
           "#FECB52"
          ],
          "font": {
           "color": "#2a3f5f"
          },
          "geo": {
           "bgcolor": "white",
           "lakecolor": "white",
           "landcolor": "#E5ECF6",
           "showlakes": true,
           "showland": true,
           "subunitcolor": "white"
          },
          "hoverlabel": {
           "align": "left"
          },
          "hovermode": "closest",
          "mapbox": {
           "style": "light"
          },
          "paper_bgcolor": "white",
          "plot_bgcolor": "#E5ECF6",
          "polar": {
           "angularaxis": {
            "gridcolor": "white",
            "linecolor": "white",
            "ticks": ""
           },
           "bgcolor": "#E5ECF6",
           "radialaxis": {
            "gridcolor": "white",
            "linecolor": "white",
            "ticks": ""
           }
          },
          "scene": {
           "xaxis": {
            "backgroundcolor": "#E5ECF6",
            "gridcolor": "white",
            "gridwidth": 2,
            "linecolor": "white",
            "showbackground": true,
            "ticks": "",
            "zerolinecolor": "white"
           },
           "yaxis": {
            "backgroundcolor": "#E5ECF6",
            "gridcolor": "white",
            "gridwidth": 2,
            "linecolor": "white",
            "showbackground": true,
            "ticks": "",
            "zerolinecolor": "white"
           },
           "zaxis": {
            "backgroundcolor": "#E5ECF6",
            "gridcolor": "white",
            "gridwidth": 2,
            "linecolor": "white",
            "showbackground": true,
            "ticks": "",
            "zerolinecolor": "white"
           }
          },
          "shapedefaults": {
           "line": {
            "color": "#2a3f5f"
           }
          },
          "ternary": {
           "aaxis": {
            "gridcolor": "white",
            "linecolor": "white",
            "ticks": ""
           },
           "baxis": {
            "gridcolor": "white",
            "linecolor": "white",
            "ticks": ""
           },
           "bgcolor": "#E5ECF6",
           "caxis": {
            "gridcolor": "white",
            "linecolor": "white",
            "ticks": ""
           }
          },
          "title": {
           "x": 0.05
          },
          "xaxis": {
           "automargin": true,
           "gridcolor": "white",
           "linecolor": "white",
           "ticks": "",
           "title": {
            "standoff": 15
           },
           "zerolinecolor": "white",
           "zerolinewidth": 2
          },
          "yaxis": {
           "automargin": true,
           "gridcolor": "white",
           "linecolor": "white",
           "ticks": "",
           "title": {
            "standoff": 15
           },
           "zerolinecolor": "white",
           "zerolinewidth": 2
          }
         }
        },
        "title": {
         "text": "Parallel Coordinate Plot"
        }
       }
      }
     },
     "metadata": {},
     "output_type": "display_data"
    },
    {
     "data": {
      "application/vnd.plotly.v1+json": {
       "config": {
        "plotlyServerURL": "https://plot.ly"
       },
       "data": [
        {
         "colorbar": {
          "title": {
           "text": "Objective Value"
          }
         },
         "colorscale": [
          [
           0,
           "rgb(247,251,255)"
          ],
          [
           0.125,
           "rgb(222,235,247)"
          ],
          [
           0.25,
           "rgb(198,219,239)"
          ],
          [
           0.375,
           "rgb(158,202,225)"
          ],
          [
           0.5,
           "rgb(107,174,214)"
          ],
          [
           0.625,
           "rgb(66,146,198)"
          ],
          [
           0.75,
           "rgb(33,113,181)"
          ],
          [
           0.875,
           "rgb(8,81,156)"
          ],
          [
           1,
           "rgb(8,48,107)"
          ]
         ],
         "connectgaps": true,
         "contours": {
          "coloring": "heatmap"
         },
         "hoverinfo": "none",
         "line": {
          "smoothing": 1.3
         },
         "reversescale": false,
         "type": "contour",
         "x": [
          0.00006196809123996509,
          0.00012123764262706965,
          0.0001906152465472703,
          0.0006512706850115487,
          0.0007615299931896444,
          0.004202343265336076,
          0.005596798940257619,
          0.013606856647824824,
          0.024808874951192852,
          0.09724130387164921,
          0.32402416779674725,
          1.1930356624781124,
          1.5644510421105247,
          1.6344859835212426,
          4.042095923137046,
          4.970566854587303,
          6.0310872594425815,
          7.0628504708794635,
          22.31688477346712,
          72.81552943720159,
          81.85114643288357,
          160.13790067243434
         ],
         "y": [
          "linear",
          "rbf",
          "sigmoid"
         ],
         "z": [
          [
           null,
           null,
           null,
           0.7304546127288444,
           0.7288657976143701,
           null,
           null,
           0.7279253512926774,
           null,
           0.7279253512926774,
           null,
           0.7279253512926774,
           null,
           null,
           null,
           null,
           null,
           null,
           null,
           0.7279253512926774,
           0.7276044403195925,
           null
          ],
          [
           null,
           0.6848591474177752,
           0.6808082416666078,
           null,
           null,
           0.6850422474278726,
           0.6909968972159298,
           null,
           0.7217277341652133,
           null,
           null,
           null,
           null,
           0.7325402867057779,
           0.7354126462931819,
           0.7406109278636971,
           0.7343628132844736,
           0.7320615576483223,
           null,
           null,
           null,
           null
          ],
          [
           null,
           null,
           null,
           null,
           null,
           null,
           null,
           null,
           null,
           null,
           0.6425521718016315,
           null,
           0.621347000756924,
           null,
           null,
           null,
           null,
           null,
           0.619442818349853,
           null,
           null,
           null
          ]
         ]
        },
        {
         "marker": {
          "color": "black",
          "line": {
           "color": "Gray",
           "width": 2
          }
         },
         "mode": "markers",
         "name": "Feasible Trial",
         "showlegend": false,
         "type": "scatter",
         "x": [
          0.013606856647824824,
          1.5644510421105247,
          0.32402416779674725,
          1.6344859835212426,
          22.31688477346712,
          1.1930356624781124,
          0.09724130387164921,
          0.005596798940257619,
          72.81552943720159,
          81.85114643288357,
          0.00012123764262706965,
          0.004202343265336076,
          0.024808874951192852,
          0.0007615299931896444,
          0.0001906152465472703,
          0.0006512706850115487,
          4.970566854587303,
          7.0628504708794635,
          4.042095923137046,
          6.0310872594425815
         ],
         "y": [
          "linear",
          "sigmoid",
          "sigmoid",
          "rbf",
          "sigmoid",
          "linear",
          "linear",
          "rbf",
          "linear",
          "linear",
          "rbf",
          "rbf",
          "rbf",
          "linear",
          "rbf",
          "linear",
          "rbf",
          "rbf",
          "rbf",
          "rbf"
         ]
        },
        {
         "marker": {
          "color": "#cccccc",
          "line": {
           "color": "Gray",
           "width": 2
          }
         },
         "mode": "markers",
         "name": "Infeasible Trial",
         "showlegend": false,
         "type": "scatter",
         "x": [],
         "y": []
        }
       ],
       "layout": {
        "template": {
         "data": {
          "bar": [
           {
            "error_x": {
             "color": "#2a3f5f"
            },
            "error_y": {
             "color": "#2a3f5f"
            },
            "marker": {
             "line": {
              "color": "#E5ECF6",
              "width": 0.5
             },
             "pattern": {
              "fillmode": "overlay",
              "size": 10,
              "solidity": 0.2
             }
            },
            "type": "bar"
           }
          ],
          "barpolar": [
           {
            "marker": {
             "line": {
              "color": "#E5ECF6",
              "width": 0.5
             },
             "pattern": {
              "fillmode": "overlay",
              "size": 10,
              "solidity": 0.2
             }
            },
            "type": "barpolar"
           }
          ],
          "carpet": [
           {
            "aaxis": {
             "endlinecolor": "#2a3f5f",
             "gridcolor": "white",
             "linecolor": "white",
             "minorgridcolor": "white",
             "startlinecolor": "#2a3f5f"
            },
            "baxis": {
             "endlinecolor": "#2a3f5f",
             "gridcolor": "white",
             "linecolor": "white",
             "minorgridcolor": "white",
             "startlinecolor": "#2a3f5f"
            },
            "type": "carpet"
           }
          ],
          "choropleth": [
           {
            "colorbar": {
             "outlinewidth": 0,
             "ticks": ""
            },
            "type": "choropleth"
           }
          ],
          "contour": [
           {
            "colorbar": {
             "outlinewidth": 0,
             "ticks": ""
            },
            "colorscale": [
             [
              0,
              "#0d0887"
             ],
             [
              0.1111111111111111,
              "#46039f"
             ],
             [
              0.2222222222222222,
              "#7201a8"
             ],
             [
              0.3333333333333333,
              "#9c179e"
             ],
             [
              0.4444444444444444,
              "#bd3786"
             ],
             [
              0.5555555555555556,
              "#d8576b"
             ],
             [
              0.6666666666666666,
              "#ed7953"
             ],
             [
              0.7777777777777778,
              "#fb9f3a"
             ],
             [
              0.8888888888888888,
              "#fdca26"
             ],
             [
              1,
              "#f0f921"
             ]
            ],
            "type": "contour"
           }
          ],
          "contourcarpet": [
           {
            "colorbar": {
             "outlinewidth": 0,
             "ticks": ""
            },
            "type": "contourcarpet"
           }
          ],
          "heatmap": [
           {
            "colorbar": {
             "outlinewidth": 0,
             "ticks": ""
            },
            "colorscale": [
             [
              0,
              "#0d0887"
             ],
             [
              0.1111111111111111,
              "#46039f"
             ],
             [
              0.2222222222222222,
              "#7201a8"
             ],
             [
              0.3333333333333333,
              "#9c179e"
             ],
             [
              0.4444444444444444,
              "#bd3786"
             ],
             [
              0.5555555555555556,
              "#d8576b"
             ],
             [
              0.6666666666666666,
              "#ed7953"
             ],
             [
              0.7777777777777778,
              "#fb9f3a"
             ],
             [
              0.8888888888888888,
              "#fdca26"
             ],
             [
              1,
              "#f0f921"
             ]
            ],
            "type": "heatmap"
           }
          ],
          "heatmapgl": [
           {
            "colorbar": {
             "outlinewidth": 0,
             "ticks": ""
            },
            "colorscale": [
             [
              0,
              "#0d0887"
             ],
             [
              0.1111111111111111,
              "#46039f"
             ],
             [
              0.2222222222222222,
              "#7201a8"
             ],
             [
              0.3333333333333333,
              "#9c179e"
             ],
             [
              0.4444444444444444,
              "#bd3786"
             ],
             [
              0.5555555555555556,
              "#d8576b"
             ],
             [
              0.6666666666666666,
              "#ed7953"
             ],
             [
              0.7777777777777778,
              "#fb9f3a"
             ],
             [
              0.8888888888888888,
              "#fdca26"
             ],
             [
              1,
              "#f0f921"
             ]
            ],
            "type": "heatmapgl"
           }
          ],
          "histogram": [
           {
            "marker": {
             "pattern": {
              "fillmode": "overlay",
              "size": 10,
              "solidity": 0.2
             }
            },
            "type": "histogram"
           }
          ],
          "histogram2d": [
           {
            "colorbar": {
             "outlinewidth": 0,
             "ticks": ""
            },
            "colorscale": [
             [
              0,
              "#0d0887"
             ],
             [
              0.1111111111111111,
              "#46039f"
             ],
             [
              0.2222222222222222,
              "#7201a8"
             ],
             [
              0.3333333333333333,
              "#9c179e"
             ],
             [
              0.4444444444444444,
              "#bd3786"
             ],
             [
              0.5555555555555556,
              "#d8576b"
             ],
             [
              0.6666666666666666,
              "#ed7953"
             ],
             [
              0.7777777777777778,
              "#fb9f3a"
             ],
             [
              0.8888888888888888,
              "#fdca26"
             ],
             [
              1,
              "#f0f921"
             ]
            ],
            "type": "histogram2d"
           }
          ],
          "histogram2dcontour": [
           {
            "colorbar": {
             "outlinewidth": 0,
             "ticks": ""
            },
            "colorscale": [
             [
              0,
              "#0d0887"
             ],
             [
              0.1111111111111111,
              "#46039f"
             ],
             [
              0.2222222222222222,
              "#7201a8"
             ],
             [
              0.3333333333333333,
              "#9c179e"
             ],
             [
              0.4444444444444444,
              "#bd3786"
             ],
             [
              0.5555555555555556,
              "#d8576b"
             ],
             [
              0.6666666666666666,
              "#ed7953"
             ],
             [
              0.7777777777777778,
              "#fb9f3a"
             ],
             [
              0.8888888888888888,
              "#fdca26"
             ],
             [
              1,
              "#f0f921"
             ]
            ],
            "type": "histogram2dcontour"
           }
          ],
          "mesh3d": [
           {
            "colorbar": {
             "outlinewidth": 0,
             "ticks": ""
            },
            "type": "mesh3d"
           }
          ],
          "parcoords": [
           {
            "line": {
             "colorbar": {
              "outlinewidth": 0,
              "ticks": ""
             }
            },
            "type": "parcoords"
           }
          ],
          "pie": [
           {
            "automargin": true,
            "type": "pie"
           }
          ],
          "scatter": [
           {
            "fillpattern": {
             "fillmode": "overlay",
             "size": 10,
             "solidity": 0.2
            },
            "type": "scatter"
           }
          ],
          "scatter3d": [
           {
            "line": {
             "colorbar": {
              "outlinewidth": 0,
              "ticks": ""
             }
            },
            "marker": {
             "colorbar": {
              "outlinewidth": 0,
              "ticks": ""
             }
            },
            "type": "scatter3d"
           }
          ],
          "scattercarpet": [
           {
            "marker": {
             "colorbar": {
              "outlinewidth": 0,
              "ticks": ""
             }
            },
            "type": "scattercarpet"
           }
          ],
          "scattergeo": [
           {
            "marker": {
             "colorbar": {
              "outlinewidth": 0,
              "ticks": ""
             }
            },
            "type": "scattergeo"
           }
          ],
          "scattergl": [
           {
            "marker": {
             "colorbar": {
              "outlinewidth": 0,
              "ticks": ""
             }
            },
            "type": "scattergl"
           }
          ],
          "scattermapbox": [
           {
            "marker": {
             "colorbar": {
              "outlinewidth": 0,
              "ticks": ""
             }
            },
            "type": "scattermapbox"
           }
          ],
          "scatterpolar": [
           {
            "marker": {
             "colorbar": {
              "outlinewidth": 0,
              "ticks": ""
             }
            },
            "type": "scatterpolar"
           }
          ],
          "scatterpolargl": [
           {
            "marker": {
             "colorbar": {
              "outlinewidth": 0,
              "ticks": ""
             }
            },
            "type": "scatterpolargl"
           }
          ],
          "scatterternary": [
           {
            "marker": {
             "colorbar": {
              "outlinewidth": 0,
              "ticks": ""
             }
            },
            "type": "scatterternary"
           }
          ],
          "surface": [
           {
            "colorbar": {
             "outlinewidth": 0,
             "ticks": ""
            },
            "colorscale": [
             [
              0,
              "#0d0887"
             ],
             [
              0.1111111111111111,
              "#46039f"
             ],
             [
              0.2222222222222222,
              "#7201a8"
             ],
             [
              0.3333333333333333,
              "#9c179e"
             ],
             [
              0.4444444444444444,
              "#bd3786"
             ],
             [
              0.5555555555555556,
              "#d8576b"
             ],
             [
              0.6666666666666666,
              "#ed7953"
             ],
             [
              0.7777777777777778,
              "#fb9f3a"
             ],
             [
              0.8888888888888888,
              "#fdca26"
             ],
             [
              1,
              "#f0f921"
             ]
            ],
            "type": "surface"
           }
          ],
          "table": [
           {
            "cells": {
             "fill": {
              "color": "#EBF0F8"
             },
             "line": {
              "color": "white"
             }
            },
            "header": {
             "fill": {
              "color": "#C8D4E3"
             },
             "line": {
              "color": "white"
             }
            },
            "type": "table"
           }
          ]
         },
         "layout": {
          "annotationdefaults": {
           "arrowcolor": "#2a3f5f",
           "arrowhead": 0,
           "arrowwidth": 1
          },
          "autotypenumbers": "strict",
          "coloraxis": {
           "colorbar": {
            "outlinewidth": 0,
            "ticks": ""
           }
          },
          "colorscale": {
           "diverging": [
            [
             0,
             "#8e0152"
            ],
            [
             0.1,
             "#c51b7d"
            ],
            [
             0.2,
             "#de77ae"
            ],
            [
             0.3,
             "#f1b6da"
            ],
            [
             0.4,
             "#fde0ef"
            ],
            [
             0.5,
             "#f7f7f7"
            ],
            [
             0.6,
             "#e6f5d0"
            ],
            [
             0.7,
             "#b8e186"
            ],
            [
             0.8,
             "#7fbc41"
            ],
            [
             0.9,
             "#4d9221"
            ],
            [
             1,
             "#276419"
            ]
           ],
           "sequential": [
            [
             0,
             "#0d0887"
            ],
            [
             0.1111111111111111,
             "#46039f"
            ],
            [
             0.2222222222222222,
             "#7201a8"
            ],
            [
             0.3333333333333333,
             "#9c179e"
            ],
            [
             0.4444444444444444,
             "#bd3786"
            ],
            [
             0.5555555555555556,
             "#d8576b"
            ],
            [
             0.6666666666666666,
             "#ed7953"
            ],
            [
             0.7777777777777778,
             "#fb9f3a"
            ],
            [
             0.8888888888888888,
             "#fdca26"
            ],
            [
             1,
             "#f0f921"
            ]
           ],
           "sequentialminus": [
            [
             0,
             "#0d0887"
            ],
            [
             0.1111111111111111,
             "#46039f"
            ],
            [
             0.2222222222222222,
             "#7201a8"
            ],
            [
             0.3333333333333333,
             "#9c179e"
            ],
            [
             0.4444444444444444,
             "#bd3786"
            ],
            [
             0.5555555555555556,
             "#d8576b"
            ],
            [
             0.6666666666666666,
             "#ed7953"
            ],
            [
             0.7777777777777778,
             "#fb9f3a"
            ],
            [
             0.8888888888888888,
             "#fdca26"
            ],
            [
             1,
             "#f0f921"
            ]
           ]
          },
          "colorway": [
           "#636efa",
           "#EF553B",
           "#00cc96",
           "#ab63fa",
           "#FFA15A",
           "#19d3f3",
           "#FF6692",
           "#B6E880",
           "#FF97FF",
           "#FECB52"
          ],
          "font": {
           "color": "#2a3f5f"
          },
          "geo": {
           "bgcolor": "white",
           "lakecolor": "white",
           "landcolor": "#E5ECF6",
           "showlakes": true,
           "showland": true,
           "subunitcolor": "white"
          },
          "hoverlabel": {
           "align": "left"
          },
          "hovermode": "closest",
          "mapbox": {
           "style": "light"
          },
          "paper_bgcolor": "white",
          "plot_bgcolor": "#E5ECF6",
          "polar": {
           "angularaxis": {
            "gridcolor": "white",
            "linecolor": "white",
            "ticks": ""
           },
           "bgcolor": "#E5ECF6",
           "radialaxis": {
            "gridcolor": "white",
            "linecolor": "white",
            "ticks": ""
           }
          },
          "scene": {
           "xaxis": {
            "backgroundcolor": "#E5ECF6",
            "gridcolor": "white",
            "gridwidth": 2,
            "linecolor": "white",
            "showbackground": true,
            "ticks": "",
            "zerolinecolor": "white"
           },
           "yaxis": {
            "backgroundcolor": "#E5ECF6",
            "gridcolor": "white",
            "gridwidth": 2,
            "linecolor": "white",
            "showbackground": true,
            "ticks": "",
            "zerolinecolor": "white"
           },
           "zaxis": {
            "backgroundcolor": "#E5ECF6",
            "gridcolor": "white",
            "gridwidth": 2,
            "linecolor": "white",
            "showbackground": true,
            "ticks": "",
            "zerolinecolor": "white"
           }
          },
          "shapedefaults": {
           "line": {
            "color": "#2a3f5f"
           }
          },
          "ternary": {
           "aaxis": {
            "gridcolor": "white",
            "linecolor": "white",
            "ticks": ""
           },
           "baxis": {
            "gridcolor": "white",
            "linecolor": "white",
            "ticks": ""
           },
           "bgcolor": "#E5ECF6",
           "caxis": {
            "gridcolor": "white",
            "linecolor": "white",
            "ticks": ""
           }
          },
          "title": {
           "x": 0.05
          },
          "xaxis": {
           "automargin": true,
           "gridcolor": "white",
           "linecolor": "white",
           "ticks": "",
           "title": {
            "standoff": 15
           },
           "zerolinecolor": "white",
           "zerolinewidth": 2
          },
          "yaxis": {
           "automargin": true,
           "gridcolor": "white",
           "linecolor": "white",
           "ticks": "",
           "title": {
            "standoff": 15
           },
           "zerolinecolor": "white",
           "zerolinewidth": 2
          }
         }
        },
        "title": {
         "text": "Contour Plot"
        },
        "xaxis": {
         "range": [
          -4.207831880915309,
          2.2044941308256187
         ],
         "title": {
          "text": "C"
         },
         "type": "log"
        },
        "yaxis": {
         "range": [
          -0.1,
          2.1
         ],
         "title": {
          "text": "kernel"
         },
         "type": "category"
        }
       }
      }
     },
     "metadata": {},
     "output_type": "display_data"
    },
    {
     "data": {
      "application/vnd.plotly.v1+json": {
       "config": {
        "plotlyServerURL": "https://plot.ly"
       },
       "data": [
        {
         "cliponaxis": false,
         "hovertemplate": [
          "C (FloatDistribution): 0.0034479896101783382<extra></extra>",
          "kernel (CategoricalDistribution): 0.9965520103898217<extra></extra>"
         ],
         "name": "Objective Value",
         "orientation": "h",
         "text": [
          "<0.01",
          "1.00"
         ],
         "textposition": "outside",
         "type": "bar",
         "x": [
          0.0034479896101783382,
          0.9965520103898217
         ],
         "y": [
          "C",
          "kernel"
         ]
        }
       ],
       "layout": {
        "template": {
         "data": {
          "bar": [
           {
            "error_x": {
             "color": "#2a3f5f"
            },
            "error_y": {
             "color": "#2a3f5f"
            },
            "marker": {
             "line": {
              "color": "#E5ECF6",
              "width": 0.5
             },
             "pattern": {
              "fillmode": "overlay",
              "size": 10,
              "solidity": 0.2
             }
            },
            "type": "bar"
           }
          ],
          "barpolar": [
           {
            "marker": {
             "line": {
              "color": "#E5ECF6",
              "width": 0.5
             },
             "pattern": {
              "fillmode": "overlay",
              "size": 10,
              "solidity": 0.2
             }
            },
            "type": "barpolar"
           }
          ],
          "carpet": [
           {
            "aaxis": {
             "endlinecolor": "#2a3f5f",
             "gridcolor": "white",
             "linecolor": "white",
             "minorgridcolor": "white",
             "startlinecolor": "#2a3f5f"
            },
            "baxis": {
             "endlinecolor": "#2a3f5f",
             "gridcolor": "white",
             "linecolor": "white",
             "minorgridcolor": "white",
             "startlinecolor": "#2a3f5f"
            },
            "type": "carpet"
           }
          ],
          "choropleth": [
           {
            "colorbar": {
             "outlinewidth": 0,
             "ticks": ""
            },
            "type": "choropleth"
           }
          ],
          "contour": [
           {
            "colorbar": {
             "outlinewidth": 0,
             "ticks": ""
            },
            "colorscale": [
             [
              0,
              "#0d0887"
             ],
             [
              0.1111111111111111,
              "#46039f"
             ],
             [
              0.2222222222222222,
              "#7201a8"
             ],
             [
              0.3333333333333333,
              "#9c179e"
             ],
             [
              0.4444444444444444,
              "#bd3786"
             ],
             [
              0.5555555555555556,
              "#d8576b"
             ],
             [
              0.6666666666666666,
              "#ed7953"
             ],
             [
              0.7777777777777778,
              "#fb9f3a"
             ],
             [
              0.8888888888888888,
              "#fdca26"
             ],
             [
              1,
              "#f0f921"
             ]
            ],
            "type": "contour"
           }
          ],
          "contourcarpet": [
           {
            "colorbar": {
             "outlinewidth": 0,
             "ticks": ""
            },
            "type": "contourcarpet"
           }
          ],
          "heatmap": [
           {
            "colorbar": {
             "outlinewidth": 0,
             "ticks": ""
            },
            "colorscale": [
             [
              0,
              "#0d0887"
             ],
             [
              0.1111111111111111,
              "#46039f"
             ],
             [
              0.2222222222222222,
              "#7201a8"
             ],
             [
              0.3333333333333333,
              "#9c179e"
             ],
             [
              0.4444444444444444,
              "#bd3786"
             ],
             [
              0.5555555555555556,
              "#d8576b"
             ],
             [
              0.6666666666666666,
              "#ed7953"
             ],
             [
              0.7777777777777778,
              "#fb9f3a"
             ],
             [
              0.8888888888888888,
              "#fdca26"
             ],
             [
              1,
              "#f0f921"
             ]
            ],
            "type": "heatmap"
           }
          ],
          "heatmapgl": [
           {
            "colorbar": {
             "outlinewidth": 0,
             "ticks": ""
            },
            "colorscale": [
             [
              0,
              "#0d0887"
             ],
             [
              0.1111111111111111,
              "#46039f"
             ],
             [
              0.2222222222222222,
              "#7201a8"
             ],
             [
              0.3333333333333333,
              "#9c179e"
             ],
             [
              0.4444444444444444,
              "#bd3786"
             ],
             [
              0.5555555555555556,
              "#d8576b"
             ],
             [
              0.6666666666666666,
              "#ed7953"
             ],
             [
              0.7777777777777778,
              "#fb9f3a"
             ],
             [
              0.8888888888888888,
              "#fdca26"
             ],
             [
              1,
              "#f0f921"
             ]
            ],
            "type": "heatmapgl"
           }
          ],
          "histogram": [
           {
            "marker": {
             "pattern": {
              "fillmode": "overlay",
              "size": 10,
              "solidity": 0.2
             }
            },
            "type": "histogram"
           }
          ],
          "histogram2d": [
           {
            "colorbar": {
             "outlinewidth": 0,
             "ticks": ""
            },
            "colorscale": [
             [
              0,
              "#0d0887"
             ],
             [
              0.1111111111111111,
              "#46039f"
             ],
             [
              0.2222222222222222,
              "#7201a8"
             ],
             [
              0.3333333333333333,
              "#9c179e"
             ],
             [
              0.4444444444444444,
              "#bd3786"
             ],
             [
              0.5555555555555556,
              "#d8576b"
             ],
             [
              0.6666666666666666,
              "#ed7953"
             ],
             [
              0.7777777777777778,
              "#fb9f3a"
             ],
             [
              0.8888888888888888,
              "#fdca26"
             ],
             [
              1,
              "#f0f921"
             ]
            ],
            "type": "histogram2d"
           }
          ],
          "histogram2dcontour": [
           {
            "colorbar": {
             "outlinewidth": 0,
             "ticks": ""
            },
            "colorscale": [
             [
              0,
              "#0d0887"
             ],
             [
              0.1111111111111111,
              "#46039f"
             ],
             [
              0.2222222222222222,
              "#7201a8"
             ],
             [
              0.3333333333333333,
              "#9c179e"
             ],
             [
              0.4444444444444444,
              "#bd3786"
             ],
             [
              0.5555555555555556,
              "#d8576b"
             ],
             [
              0.6666666666666666,
              "#ed7953"
             ],
             [
              0.7777777777777778,
              "#fb9f3a"
             ],
             [
              0.8888888888888888,
              "#fdca26"
             ],
             [
              1,
              "#f0f921"
             ]
            ],
            "type": "histogram2dcontour"
           }
          ],
          "mesh3d": [
           {
            "colorbar": {
             "outlinewidth": 0,
             "ticks": ""
            },
            "type": "mesh3d"
           }
          ],
          "parcoords": [
           {
            "line": {
             "colorbar": {
              "outlinewidth": 0,
              "ticks": ""
             }
            },
            "type": "parcoords"
           }
          ],
          "pie": [
           {
            "automargin": true,
            "type": "pie"
           }
          ],
          "scatter": [
           {
            "fillpattern": {
             "fillmode": "overlay",
             "size": 10,
             "solidity": 0.2
            },
            "type": "scatter"
           }
          ],
          "scatter3d": [
           {
            "line": {
             "colorbar": {
              "outlinewidth": 0,
              "ticks": ""
             }
            },
            "marker": {
             "colorbar": {
              "outlinewidth": 0,
              "ticks": ""
             }
            },
            "type": "scatter3d"
           }
          ],
          "scattercarpet": [
           {
            "marker": {
             "colorbar": {
              "outlinewidth": 0,
              "ticks": ""
             }
            },
            "type": "scattercarpet"
           }
          ],
          "scattergeo": [
           {
            "marker": {
             "colorbar": {
              "outlinewidth": 0,
              "ticks": ""
             }
            },
            "type": "scattergeo"
           }
          ],
          "scattergl": [
           {
            "marker": {
             "colorbar": {
              "outlinewidth": 0,
              "ticks": ""
             }
            },
            "type": "scattergl"
           }
          ],
          "scattermapbox": [
           {
            "marker": {
             "colorbar": {
              "outlinewidth": 0,
              "ticks": ""
             }
            },
            "type": "scattermapbox"
           }
          ],
          "scatterpolar": [
           {
            "marker": {
             "colorbar": {
              "outlinewidth": 0,
              "ticks": ""
             }
            },
            "type": "scatterpolar"
           }
          ],
          "scatterpolargl": [
           {
            "marker": {
             "colorbar": {
              "outlinewidth": 0,
              "ticks": ""
             }
            },
            "type": "scatterpolargl"
           }
          ],
          "scatterternary": [
           {
            "marker": {
             "colorbar": {
              "outlinewidth": 0,
              "ticks": ""
             }
            },
            "type": "scatterternary"
           }
          ],
          "surface": [
           {
            "colorbar": {
             "outlinewidth": 0,
             "ticks": ""
            },
            "colorscale": [
             [
              0,
              "#0d0887"
             ],
             [
              0.1111111111111111,
              "#46039f"
             ],
             [
              0.2222222222222222,
              "#7201a8"
             ],
             [
              0.3333333333333333,
              "#9c179e"
             ],
             [
              0.4444444444444444,
              "#bd3786"
             ],
             [
              0.5555555555555556,
              "#d8576b"
             ],
             [
              0.6666666666666666,
              "#ed7953"
             ],
             [
              0.7777777777777778,
              "#fb9f3a"
             ],
             [
              0.8888888888888888,
              "#fdca26"
             ],
             [
              1,
              "#f0f921"
             ]
            ],
            "type": "surface"
           }
          ],
          "table": [
           {
            "cells": {
             "fill": {
              "color": "#EBF0F8"
             },
             "line": {
              "color": "white"
             }
            },
            "header": {
             "fill": {
              "color": "#C8D4E3"
             },
             "line": {
              "color": "white"
             }
            },
            "type": "table"
           }
          ]
         },
         "layout": {
          "annotationdefaults": {
           "arrowcolor": "#2a3f5f",
           "arrowhead": 0,
           "arrowwidth": 1
          },
          "autotypenumbers": "strict",
          "coloraxis": {
           "colorbar": {
            "outlinewidth": 0,
            "ticks": ""
           }
          },
          "colorscale": {
           "diverging": [
            [
             0,
             "#8e0152"
            ],
            [
             0.1,
             "#c51b7d"
            ],
            [
             0.2,
             "#de77ae"
            ],
            [
             0.3,
             "#f1b6da"
            ],
            [
             0.4,
             "#fde0ef"
            ],
            [
             0.5,
             "#f7f7f7"
            ],
            [
             0.6,
             "#e6f5d0"
            ],
            [
             0.7,
             "#b8e186"
            ],
            [
             0.8,
             "#7fbc41"
            ],
            [
             0.9,
             "#4d9221"
            ],
            [
             1,
             "#276419"
            ]
           ],
           "sequential": [
            [
             0,
             "#0d0887"
            ],
            [
             0.1111111111111111,
             "#46039f"
            ],
            [
             0.2222222222222222,
             "#7201a8"
            ],
            [
             0.3333333333333333,
             "#9c179e"
            ],
            [
             0.4444444444444444,
             "#bd3786"
            ],
            [
             0.5555555555555556,
             "#d8576b"
            ],
            [
             0.6666666666666666,
             "#ed7953"
            ],
            [
             0.7777777777777778,
             "#fb9f3a"
            ],
            [
             0.8888888888888888,
             "#fdca26"
            ],
            [
             1,
             "#f0f921"
            ]
           ],
           "sequentialminus": [
            [
             0,
             "#0d0887"
            ],
            [
             0.1111111111111111,
             "#46039f"
            ],
            [
             0.2222222222222222,
             "#7201a8"
            ],
            [
             0.3333333333333333,
             "#9c179e"
            ],
            [
             0.4444444444444444,
             "#bd3786"
            ],
            [
             0.5555555555555556,
             "#d8576b"
            ],
            [
             0.6666666666666666,
             "#ed7953"
            ],
            [
             0.7777777777777778,
             "#fb9f3a"
            ],
            [
             0.8888888888888888,
             "#fdca26"
            ],
            [
             1,
             "#f0f921"
            ]
           ]
          },
          "colorway": [
           "#636efa",
           "#EF553B",
           "#00cc96",
           "#ab63fa",
           "#FFA15A",
           "#19d3f3",
           "#FF6692",
           "#B6E880",
           "#FF97FF",
           "#FECB52"
          ],
          "font": {
           "color": "#2a3f5f"
          },
          "geo": {
           "bgcolor": "white",
           "lakecolor": "white",
           "landcolor": "#E5ECF6",
           "showlakes": true,
           "showland": true,
           "subunitcolor": "white"
          },
          "hoverlabel": {
           "align": "left"
          },
          "hovermode": "closest",
          "mapbox": {
           "style": "light"
          },
          "paper_bgcolor": "white",
          "plot_bgcolor": "#E5ECF6",
          "polar": {
           "angularaxis": {
            "gridcolor": "white",
            "linecolor": "white",
            "ticks": ""
           },
           "bgcolor": "#E5ECF6",
           "radialaxis": {
            "gridcolor": "white",
            "linecolor": "white",
            "ticks": ""
           }
          },
          "scene": {
           "xaxis": {
            "backgroundcolor": "#E5ECF6",
            "gridcolor": "white",
            "gridwidth": 2,
            "linecolor": "white",
            "showbackground": true,
            "ticks": "",
            "zerolinecolor": "white"
           },
           "yaxis": {
            "backgroundcolor": "#E5ECF6",
            "gridcolor": "white",
            "gridwidth": 2,
            "linecolor": "white",
            "showbackground": true,
            "ticks": "",
            "zerolinecolor": "white"
           },
           "zaxis": {
            "backgroundcolor": "#E5ECF6",
            "gridcolor": "white",
            "gridwidth": 2,
            "linecolor": "white",
            "showbackground": true,
            "ticks": "",
            "zerolinecolor": "white"
           }
          },
          "shapedefaults": {
           "line": {
            "color": "#2a3f5f"
           }
          },
          "ternary": {
           "aaxis": {
            "gridcolor": "white",
            "linecolor": "white",
            "ticks": ""
           },
           "baxis": {
            "gridcolor": "white",
            "linecolor": "white",
            "ticks": ""
           },
           "bgcolor": "#E5ECF6",
           "caxis": {
            "gridcolor": "white",
            "linecolor": "white",
            "ticks": ""
           }
          },
          "title": {
           "x": 0.05
          },
          "xaxis": {
           "automargin": true,
           "gridcolor": "white",
           "linecolor": "white",
           "ticks": "",
           "title": {
            "standoff": 15
           },
           "zerolinecolor": "white",
           "zerolinewidth": 2
          },
          "yaxis": {
           "automargin": true,
           "gridcolor": "white",
           "linecolor": "white",
           "ticks": "",
           "title": {
            "standoff": 15
           },
           "zerolinecolor": "white",
           "zerolinewidth": 2
          }
         }
        },
        "title": {
         "text": "Hyperparameter Importances"
        },
        "xaxis": {
         "title": {
          "text": "Hyperparameter Importance"
         }
        },
        "yaxis": {
         "title": {
          "text": "Hyperparameter"
         }
        }
       }
      }
     },
     "metadata": {},
     "output_type": "display_data"
    }
   ],
   "source": [
    "# Exibe os melhores resultados e parâmetros para cada modelo\n",
    "for model_name in best_study_per_model:\n",
    "    print(f\"Best F1 for {model_name}: {best_f1_per_model[model_name]}\")\n",
    "    print(f\"Best Parameters for {model_name}: {best_params_per_model[model_name]}\")\n",
    "\n",
    "    print(f\"Plots for model: {model_name}\")\n",
    "\n",
    "    study = best_study_per_model[model_name]\n",
    "    fig_opt_history = plot_optimization_history(study)\n",
    "    fig_opt_history.show()\n",
    "\n",
    "    fig_slice = plot_slice(study)\n",
    "    fig_slice.show()\n",
    "\n",
    "    fig_parallel = plot_parallel_coordinate(study)\n",
    "    fig_parallel.show()\n",
    "\n",
    "    fig_contour = plot_contour(study)\n",
    "    fig_contour.show()\n",
    "\n",
    "    fig_param_importances = plot_param_importances(study)\n",
    "    fig_param_importances.show()"
   ]
  },
  {
   "cell_type": "code",
   "execution_count": 113,
   "metadata": {},
   "outputs": [
    {
     "data": {
      "image/png": "[encoded data removed]",
      "text/plain": [
       "<Figure size 1200x600 with 1 Axes>"
      ]
     },
     "metadata": {},
     "output_type": "display_data"
    },
    {
     "data": {
      "image/png": "[encoded data removed]",
      "text/plain": [
       "<Figure size 1200x600 with 1 Axes>"
      ]
     },
     "metadata": {},
     "output_type": "display_data"
    },
    {
     "data": {
      "image/png": "[encoded data removed]",
      "text/plain": [
       "<Figure size 1200x600 with 1 Axes>"
      ]
     },
     "metadata": {},
     "output_type": "display_data"
    },
    {
     "data": {
      "image/png": "[encoded data removed]",
      "text/plain": [
       "<Figure size 1200x600 with 1 Axes>"
      ]
     },
     "metadata": {},
     "output_type": "display_data"
    }
   ],
   "source": [
    "import matplotlib.pyplot as plt\n",
    "import seaborn as sns\n",
    "\n",
    "# Boxplot de F1\n",
    "plt.figure(figsize=(12, 6))\n",
    "sns.boxplot(data=results_df, x='Model', y='F1 Score', hue='Model', palette='Set3')\n",
    "plt.xticks(rotation=45)\n",
    "plt.show()\n",
    "\n",
    "# Boxplot da precisão\n",
    "plt.figure(figsize=(12, 6))\n",
    "sns.boxplot(data=results_df, x='Model', y='Precision', hue='Model', palette='Set3')\n",
    "plt.xticks(rotation=45)\n",
    "plt.show()\n",
    "\n",
    "# Boxplot do recall\n",
    "plt.figure(figsize=(12, 6))\n",
    "sns.boxplot(data=results_df, x='Model', y='Recall', hue='Model', palette='Set3')\n",
    "plt.xticks(rotation=45)\n",
    "plt.show()\n",
    "\n",
    "# Boxplot da ROC AUC\n",
    "plt.figure(figsize=(12, 6))\n",
    "sns.boxplot(data=results_df, x='Model', y='ROC AUC', hue='Model', palette='Set3')\n",
    "plt.xticks(rotation=45)\n",
    "plt.show()\n"
   ]
  }
 ],
 "metadata": {
  "kernelspec": {
   "display_name": ".venv",
   "language": "python",
   "name": "python3"
  },
  "language_info": {
   "codemirror_mode": {
    "name": "ipython",
    "version": 3
   },
   "file_extension": ".py",
   "mimetype": "text/x-python",
   "name": "python",
   "nbconvert_exporter": "python",
   "pygments_lexer": "ipython3",
   "version": "3.12.6"
  }
 },
 "nbformat": 4,
 "nbformat_minor": 2
}
